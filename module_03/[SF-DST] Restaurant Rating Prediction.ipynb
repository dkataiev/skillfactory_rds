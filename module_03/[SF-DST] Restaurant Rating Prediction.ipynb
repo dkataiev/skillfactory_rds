{
 "cells": [
  {
   "source": [
    "![](https://github.com/dkataiev/skillfactory_rds/raw/master/resources/img/tripadvisor-logo.png)\n",
    "# Predict TripAdvisor Rating\n",
    "## В этом соревновании нам предстоит предсказать рейтинг ресторана в TripAdvisor"
   ],
   "cell_type": "markdown",
   "metadata": {}
  },
  {
   "cell_type": "markdown",
   "metadata": {},
   "source": [
    "# Загрузка Pandas и очистка данных"
   ]
  },
  {
   "cell_type": "code",
   "execution_count": 99,
   "metadata": {
    "tags": []
   },
   "outputs": [
    {
     "output_type": "stream",
     "name": "stdout",
     "text": "./data/.DS_Store\n./data/ta_data.csv\n./data/main_task.csv\n./data/ta_data/.DS_Store\n./data/ta_data/urls_30000-35000_data.json\n./data/ta_data/urls_0-5000_data.json\n./data/ta_data/urls_5000-10000_data.json\n./data/ta_data/urls_15000-20000_data.json\n./data/ta_data/urls_25000-30000_data.json\n./data/ta_data/urls_35000-40000_data.json\n./data/ta_data/urls_20000-25000_data.json\n./data/ta_data/urls_10000-15000_data.json\n./data/urls/urls_20000-25000.csv\n./data/urls/urls_5000-10000.csv\n./data/urls/urls_15000-20000.csv\n./data/urls/urls_25000-30000.csv\n./data/urls/.DS_Store\n./data/urls/urls_35000-40000.csv\n./data/urls/urls_10000-15000.csv\n./data/urls/urls_0-5000.csv\n./data/urls/urls_30000-35000.csv\n"
    }
   ],
   "source": [
    "import numpy as np\n",
    "import pandas as pd\n",
    "\n",
    "import matplotlib.pyplot as plt\n",
    "import seaborn as sns \n",
    "%matplotlib inline\n",
    "\n",
    "from sklearn.model_selection import train_test_split\n",
    "\n",
    "import os\n",
    "for dirname, _, filenames in os.walk('./data'):\n",
    "    for filename in filenames:\n",
    "        print(os.path.join(dirname, filename))"
   ]
  },
  {
   "cell_type": "code",
   "execution_count": 100,
   "metadata": {
    "tags": []
   },
   "outputs": [
    {
     "output_type": "stream",
     "name": "stdout",
     "text": "<class 'pandas.core.frame.DataFrame'>\nRangeIndex: 40000 entries, 0 to 39999\nData columns (total 10 columns):\n #   Column             Non-Null Count  Dtype  \n---  ------             --------------  -----  \n 0   Restaurant_id      40000 non-null  object \n 1   City               40000 non-null  object \n 2   Cuisine Style      30717 non-null  object \n 3   Ranking            40000 non-null  float64\n 4   Rating             40000 non-null  float64\n 5   Price Range        26114 non-null  object \n 6   Number of Reviews  37457 non-null  float64\n 7   Reviews            40000 non-null  object \n 8   URL_TA             40000 non-null  object \n 9   ID_TA              40000 non-null  object \ndtypes: float64(3), object(7)\nmemory usage: 3.1+ MB\n"
    }
   ],
   "source": [
    "DATA_DIR = './data'\n",
    "\n",
    "data = pd.read_csv(DATA_DIR + '/main_task.csv')\n",
    "data.info()"
   ]
  },
  {
   "source": [
    "#### Подробнее по признакам:\n",
    "* `City`: Город \n",
    "* `Cuisine Style`: Кухня\n",
    "* `Ranking`: Ранг ресторана относительно других ресторанов в этом городе\n",
    "* `Price Range`: Цены в ресторане в 3 категориях\n",
    "* `Number of Reviews`: Количество отзывов\n",
    "* `Reviews`: 2 последних отзыва и даты этих отзывов\n",
    "* `URL_TA`: страница ресторана на 'www.tripadvisor.com' \n",
    "* `ID_TA`: ID ресторана в TripAdvisor\n",
    "* `Rating`: Рейтинг ресторана"
   ],
   "cell_type": "markdown",
   "metadata": {}
  },
  {
   "cell_type": "code",
   "execution_count": 101,
   "metadata": {},
   "outputs": [
    {
     "output_type": "execute_result",
     "data": {
      "text/plain": "      Restaurant_id       City  \\\n27579        id_843     Prague   \n11028        id_811     Oporto   \n14067       id_2482  Barcelona   \n4943        id_2200     Lisbon   \n17311        id_111   Brussels   \n\n                                           Cuisine Style  Ranking  Rating  \\\n27579  ['Lebanese', 'Mediterranean', 'Middle Eastern'...    844.0     4.0   \n11028                                                NaN    812.0     4.0   \n14067                                        ['Spanish']   2483.0     5.0   \n4943            ['Asian', 'Thai', 'Vegetarian Friendly']   2203.0     4.0   \n17311  ['French', 'Belgian', 'European', 'Vegetarian ...    112.0     4.5   \n\n      Price Range  Number of Reviews  \\\n27579    $$ - $$$              118.0   \n11028         NaN               38.0   \n14067           $               18.0   \n4943     $$ - $$$               58.0   \n17311        $$$$              406.0   \n\n                                                 Reviews  \\\n27579  [['Good Lebanese food', 'Nice middle Eastern f...   \n11028  [['Best chocolate cake', \"They're not wrong - ...   \n14067  [['Great service - great food', 'Great spot fo...   \n4943   [['Delicious food, friendly staff', 'Ok'], ['0...   \n17311  [['Great experience', 'Amazing.'], ['02/23/201...   \n\n                                                  URL_TA     ID_TA  \n27579  /Restaurant_Review-g274707-d3544293-Reviews-Kl...  d3544293  \n11028  /Restaurant_Review-g189180-d6163786-Reviews-O_...  d6163786  \n14067  /Restaurant_Review-g187497-d8396349-Reviews-Ca...  d8396349  \n4943   /Restaurant_Review-g189158-d4300612-Reviews-Th...  d4300612  \n17311  /Restaurant_Review-g188644-d786404-Reviews-Le_...   d786404  ",
      "text/html": "<div>\n<style scoped>\n    .dataframe tbody tr th:only-of-type {\n        vertical-align: middle;\n    }\n\n    .dataframe tbody tr th {\n        vertical-align: top;\n    }\n\n    .dataframe thead th {\n        text-align: right;\n    }\n</style>\n<table border=\"1\" class=\"dataframe\">\n  <thead>\n    <tr style=\"text-align: right;\">\n      <th></th>\n      <th>Restaurant_id</th>\n      <th>City</th>\n      <th>Cuisine Style</th>\n      <th>Ranking</th>\n      <th>Rating</th>\n      <th>Price Range</th>\n      <th>Number of Reviews</th>\n      <th>Reviews</th>\n      <th>URL_TA</th>\n      <th>ID_TA</th>\n    </tr>\n  </thead>\n  <tbody>\n    <tr>\n      <th>27579</th>\n      <td>id_843</td>\n      <td>Prague</td>\n      <td>['Lebanese', 'Mediterranean', 'Middle Eastern'...</td>\n      <td>844.0</td>\n      <td>4.0</td>\n      <td>$$ - $$$</td>\n      <td>118.0</td>\n      <td>[['Good Lebanese food', 'Nice middle Eastern f...</td>\n      <td>/Restaurant_Review-g274707-d3544293-Reviews-Kl...</td>\n      <td>d3544293</td>\n    </tr>\n    <tr>\n      <th>11028</th>\n      <td>id_811</td>\n      <td>Oporto</td>\n      <td>NaN</td>\n      <td>812.0</td>\n      <td>4.0</td>\n      <td>NaN</td>\n      <td>38.0</td>\n      <td>[['Best chocolate cake', \"They're not wrong - ...</td>\n      <td>/Restaurant_Review-g189180-d6163786-Reviews-O_...</td>\n      <td>d6163786</td>\n    </tr>\n    <tr>\n      <th>14067</th>\n      <td>id_2482</td>\n      <td>Barcelona</td>\n      <td>['Spanish']</td>\n      <td>2483.0</td>\n      <td>5.0</td>\n      <td>$</td>\n      <td>18.0</td>\n      <td>[['Great service - great food', 'Great spot fo...</td>\n      <td>/Restaurant_Review-g187497-d8396349-Reviews-Ca...</td>\n      <td>d8396349</td>\n    </tr>\n    <tr>\n      <th>4943</th>\n      <td>id_2200</td>\n      <td>Lisbon</td>\n      <td>['Asian', 'Thai', 'Vegetarian Friendly']</td>\n      <td>2203.0</td>\n      <td>4.0</td>\n      <td>$$ - $$$</td>\n      <td>58.0</td>\n      <td>[['Delicious food, friendly staff', 'Ok'], ['0...</td>\n      <td>/Restaurant_Review-g189158-d4300612-Reviews-Th...</td>\n      <td>d4300612</td>\n    </tr>\n    <tr>\n      <th>17311</th>\n      <td>id_111</td>\n      <td>Brussels</td>\n      <td>['French', 'Belgian', 'European', 'Vegetarian ...</td>\n      <td>112.0</td>\n      <td>4.5</td>\n      <td>$$$$</td>\n      <td>406.0</td>\n      <td>[['Great experience', 'Amazing.'], ['02/23/201...</td>\n      <td>/Restaurant_Review-g188644-d786404-Reviews-Le_...</td>\n      <td>d786404</td>\n    </tr>\n  </tbody>\n</table>\n</div>"
     },
     "metadata": {},
     "execution_count": 101
    }
   ],
   "source": [
    "data.sample(5)"
   ]
  },
  {
   "source": [
    "#### Number of Reviews"
   ],
   "cell_type": "markdown",
   "metadata": {}
  },
  {
   "cell_type": "code",
   "execution_count": 102,
   "metadata": {},
   "outputs": [],
   "source": [
    "def preproc_number_of_reviews(df):\n",
    "    # Вынесем информацию о наличии пропуска как отдельный признак\n",
    "    df['Number_of_Reviews_isNAN'] = pd.isna(df['Number of Reviews']).astype('uint8')\n",
    "    # Далее заполняем пропуски 0, вы можете попробовать заполнением средним или средним по городу и тд...\n",
    "    df['Number of Reviews'].fillna(0, inplace=True)\n",
    "    return df\n",
    "\n",
    "data = preproc_number_of_reviews(data)"
   ]
  },
  {
   "source": [
    "#### Price Range"
   ],
   "cell_type": "markdown",
   "metadata": {}
  },
  {
   "cell_type": "code",
   "execution_count": 103,
   "metadata": {},
   "outputs": [
    {
     "output_type": "execute_result",
     "data": {
      "text/plain": "$$ - $$$    18412\n$            6279\n$$$$         1423\nName: Price Range, dtype: int64"
     },
     "metadata": {},
     "execution_count": 103
    }
   ],
   "source": [
    "data['Price Range'].value_counts()"
   ]
  },
  {
   "source": [
    "По описанию 'Price Range' это - Цены в ресторане.\n",
    "Их можно поставить по возрастанию (значит это не категориальный признак). А это значит, что их можно заменить последовательными числами, например 1,2,3"
   ],
   "cell_type": "markdown",
   "metadata": {}
  },
  {
   "cell_type": "code",
   "execution_count": 104,
   "metadata": {},
   "outputs": [],
   "source": [
    "def preproc_price_range(df):\n",
    "    # Заменим категориальный признак числами\n",
    "    df['Price Range'].replace(to_replace={ '$': 1, '$$ - $$$': 2, '$$$$': 3}, inplace=True)\n",
    "    # Сохраним данные о записях, где не был указан уровень цен.\n",
    "    df['Price_Range_isNAN'] = pd.isna(df['Price Range']).astype('uint8')\n",
    "    # Заполним пропуски, пока что воспользуемся просто медианой.\n",
    "    df['Price Range'].fillna(df['Price Range'].median(), inplace=True)\n",
    "    return df\n",
    "\n",
    "data = preproc_price_range(data)"
   ]
  },
  {
   "cell_type": "code",
   "execution_count": 105,
   "metadata": {},
   "outputs": [
    {
     "output_type": "execute_result",
     "data": {
      "text/plain": "      Restaurant_id       City  \\\n30134        id_435   Helsinki   \n913         id_2773  Amsterdam   \n30356        id_784     Dublin   \n2065          id_83      Paris   \n29331       id_1074     Athens   \n\n                                           Cuisine Style  Ranking  Rating  \\\n30134                                     ['Bar', 'Pub']    436.0     4.5   \n913                                                  NaN   2780.0     4.0   \n30356                ['Irish', 'Bar', 'Pub', 'European']    785.0     3.5   \n2065   ['Lebanese', 'Mediterranean', 'Middle Eastern'...     84.0     4.5   \n29331                                                NaN   1076.0     5.0   \n\n       Price Range  Number of Reviews  \\\n30134          2.0               15.0   \n913            2.0                0.0   \n30356          2.0              188.0   \n2065           2.0              952.0   \n29331          2.0                0.0   \n\n                                                 Reviews  \\\n30134  [['Smallish privately owned pub', 'best select...   \n913                                             [[], []]   \n30356  [['Family Gathering', 'Good selection on the b...   \n2065   [['Awesome restaurant, vibrant atmosphere!', '...   \n29331  [['a friendly stop in this part of Kolonaki'],...   \n\n                                                  URL_TA      ID_TA  \\\n30134  /Restaurant_Review-g189934-d8373416-Reviews-On...   d8373416   \n913    /Restaurant_Review-g188590-d10467094-Reviews-A...  d10467094   \n30356  /Restaurant_Review-g186605-d716030-Reviews-Tur...    d716030   \n2065   /Restaurant_Review-g187147-d897021-Reviews-Lou...    d897021   \n29331  /Restaurant_Review-g189400-d11767612-Reviews-L...  d11767612   \n\n       Number_of_Reviews_isNAN  Price_Range_isNAN  \n30134                        0                  1  \n913                          1                  1  \n30356                        0                  0  \n2065                         0                  0  \n29331                        1                  1  ",
      "text/html": "<div>\n<style scoped>\n    .dataframe tbody tr th:only-of-type {\n        vertical-align: middle;\n    }\n\n    .dataframe tbody tr th {\n        vertical-align: top;\n    }\n\n    .dataframe thead th {\n        text-align: right;\n    }\n</style>\n<table border=\"1\" class=\"dataframe\">\n  <thead>\n    <tr style=\"text-align: right;\">\n      <th></th>\n      <th>Restaurant_id</th>\n      <th>City</th>\n      <th>Cuisine Style</th>\n      <th>Ranking</th>\n      <th>Rating</th>\n      <th>Price Range</th>\n      <th>Number of Reviews</th>\n      <th>Reviews</th>\n      <th>URL_TA</th>\n      <th>ID_TA</th>\n      <th>Number_of_Reviews_isNAN</th>\n      <th>Price_Range_isNAN</th>\n    </tr>\n  </thead>\n  <tbody>\n    <tr>\n      <th>30134</th>\n      <td>id_435</td>\n      <td>Helsinki</td>\n      <td>['Bar', 'Pub']</td>\n      <td>436.0</td>\n      <td>4.5</td>\n      <td>2.0</td>\n      <td>15.0</td>\n      <td>[['Smallish privately owned pub', 'best select...</td>\n      <td>/Restaurant_Review-g189934-d8373416-Reviews-On...</td>\n      <td>d8373416</td>\n      <td>0</td>\n      <td>1</td>\n    </tr>\n    <tr>\n      <th>913</th>\n      <td>id_2773</td>\n      <td>Amsterdam</td>\n      <td>NaN</td>\n      <td>2780.0</td>\n      <td>4.0</td>\n      <td>2.0</td>\n      <td>0.0</td>\n      <td>[[], []]</td>\n      <td>/Restaurant_Review-g188590-d10467094-Reviews-A...</td>\n      <td>d10467094</td>\n      <td>1</td>\n      <td>1</td>\n    </tr>\n    <tr>\n      <th>30356</th>\n      <td>id_784</td>\n      <td>Dublin</td>\n      <td>['Irish', 'Bar', 'Pub', 'European']</td>\n      <td>785.0</td>\n      <td>3.5</td>\n      <td>2.0</td>\n      <td>188.0</td>\n      <td>[['Family Gathering', 'Good selection on the b...</td>\n      <td>/Restaurant_Review-g186605-d716030-Reviews-Tur...</td>\n      <td>d716030</td>\n      <td>0</td>\n      <td>0</td>\n    </tr>\n    <tr>\n      <th>2065</th>\n      <td>id_83</td>\n      <td>Paris</td>\n      <td>['Lebanese', 'Mediterranean', 'Middle Eastern'...</td>\n      <td>84.0</td>\n      <td>4.5</td>\n      <td>2.0</td>\n      <td>952.0</td>\n      <td>[['Awesome restaurant, vibrant atmosphere!', '...</td>\n      <td>/Restaurant_Review-g187147-d897021-Reviews-Lou...</td>\n      <td>d897021</td>\n      <td>0</td>\n      <td>0</td>\n    </tr>\n    <tr>\n      <th>29331</th>\n      <td>id_1074</td>\n      <td>Athens</td>\n      <td>NaN</td>\n      <td>1076.0</td>\n      <td>5.0</td>\n      <td>2.0</td>\n      <td>0.0</td>\n      <td>[['a friendly stop in this part of Kolonaki'],...</td>\n      <td>/Restaurant_Review-g189400-d11767612-Reviews-L...</td>\n      <td>d11767612</td>\n      <td>1</td>\n      <td>1</td>\n    </tr>\n  </tbody>\n</table>\n</div>"
     },
     "metadata": {},
     "execution_count": 105
    }
   ],
   "source": [
    "data.sample(5)"
   ]
  },
  {
   "source": [
    "#### Cuisine Style\n",
    "\n",
    "Для начала добавим к записям признак с колличеством представленых типов кухонь. Если в данных отсутствует информация о типах кухонь, то считаем, что в этом ресторане предлагается только один тип кухни. Так же пометим записи, где не укзан тип кухни."
   ],
   "cell_type": "markdown",
   "metadata": {}
  },
  {
   "cell_type": "code",
   "execution_count": 106,
   "metadata": {},
   "outputs": [],
   "source": [
    "def string_to_list(s):\n",
    "    return s[1:-1].replace(\"'\", \"\").split(', ')\n",
    "\n",
    "def count_styles(s):\n",
    "    return len(string_to_list(s)) if s is not np.nan else 1\n",
    "\n",
    "def get_cuisines_list(df):\n",
    "    cuisines = set()\n",
    "    for cuisine in df['Cuisine Style'].dropna().values:\n",
    "        cuisines.update(string_to_list(cuisine))\n",
    "    return cuisines\n",
    "\n",
    "def update_cuisines_rating(cuisine_styles, cuisines_ratings):\n",
    "        for style in cuisine_styles:\n",
    "            cuisines_ratings[style] = cuisines_ratings[style] + 1\n",
    "\n",
    "def calc_cuisines_ratings(df, cuisines):\n",
    "    cuisines_ratings = {}\n",
    "    for cuisine in cuisines:\n",
    "        cuisines_ratings[cuisine] = 0\n",
    "    \n",
    "    for cuisine in df['Cuisine Style'].dropna().values:\n",
    "        update_cuisines_rating(string_to_list(cuisine), cuisines_ratings)\n",
    "    return cuisines_ratings\n",
    "\n",
    "def preproc_cuisine_style(df):\n",
    "    # добавим к записям признак с колличеством представленых типов кухонь\n",
    "    df['Cuisine Style Count'] = df['Cuisine Style'].apply(count_styles)\n",
    "    # пометим записи, где не укзан тип кухни.\n",
    "    df['Cuisine_Style_isNAN'] = pd.isna(df['Cuisine Style']).astype('uint8')\n",
    "\n",
    "    # отдельными признаками добавим типы кухни, которые представлены хотя бы в 1% ресторанов.\n",
    "    # соберем список всех кухонь представленых в датасете.\n",
    "    cuisines_list = get_cuisines_list(df)\n",
    "\n",
    "    # соберем данные о том, в скольки ресторанах представлена каждая кухня.\n",
    "    cuisines_rating = calc_cuisines_ratings(df, cuisines_list)\n",
    "\n",
    "    # выделим две группы кухонь те которые представлены хотя бы в 1% ресторанов и остальные\n",
    "    top_cuisines = []\n",
    "    low_cuisines = []\n",
    "    for cuisine in cuisines_rating:\n",
    "        if cuisines_rating[cuisine] > len(data) * .01:\n",
    "            top_cuisines.append(cuisine)\n",
    "        else:\n",
    "            low_cuisines.append(cuisine)\n",
    "\n",
    "    # создадим отдельные признаки для кухонь представленых хотя бы в 1%\n",
    "    def top_cuisine_present(x):\n",
    "        if pd.isna(x): \n",
    "            return 0\n",
    "        return 1 if cuisine in x else 0\n",
    "\n",
    "    for cuisine in top_cuisines:\n",
    "        dummy = df['Cuisine Style'].apply(top_cuisine_present)\n",
    "        df['Cuisine_' + cuisine] = dummy\n",
    "\n",
    "    # для остальных добавим признак Cuisine_Other\n",
    "    def is_low_cuisine_present(x):\n",
    "        if pd.isna(x): \n",
    "            return 0\n",
    "        for cuisine in low_cuisines:\n",
    "            if cuisine in x:\n",
    "                return 1\n",
    "        return 0\n",
    "\n",
    "    df['Cuisine_Other'] = df['Cuisine Style'].apply(is_low_cuisine_present)\n",
    "    \n",
    "    return df\n",
    "\n",
    "data = preproc_cuisine_style(data)"
   ]
  },
  {
   "cell_type": "code",
   "execution_count": 107,
   "metadata": {},
   "outputs": [
    {
     "output_type": "execute_result",
     "data": {
      "text/plain": "      Restaurant_id        City  \\\n26147       id_2373       Paris   \n6254        id_3381      Lisbon   \n10965       id_1681      Madrid   \n38438       id_8515      Madrid   \n24440       id_1221  Copenhagen   \n\n                                        Cuisine Style  Ranking  Rating  \\\n26147  ['Vegetarian Friendly', 'Gluten Free Options']   2374.0     4.5   \n6254                       ['European', 'Portuguese']   3385.0     4.0   \n10965             ['Bar', 'Mediterranean', 'Spanish']   1683.0     4.0   \n38438                                             NaN   8522.0     2.0   \n24440                                     ['Healthy']   1223.0     4.5   \n\n       Price Range  Number of Reviews  \\\n26147          2.0               40.0   \n6254           2.0               16.0   \n10965          1.0              268.0   \n38438          2.0                0.0   \n24440          2.0                4.0   \n\n                                                 Reviews  \\\n26147  [['Authentic French, All-Vegan, DELICIOUS, Af....   \n6254   [['Go here if you want to be bullied', 'Nice e...   \n10965  [['Good food and interesting ambiance', 'Very ...   \n38438                                           [[], []]   \n24440  [['Great sandwiches', 'Best sandwich in a long...   \n\n                                                  URL_TA      ID_TA  ...  \\\n26147  /Restaurant_Review-g187147-d12337311-Reviews-V...  d12337311  ...   \n6254   /Restaurant_Review-g189158-d3543805-Reviews-Ro...   d3543805  ...   \n10965  /Restaurant_Review-g187514-d4758734-Reviews-Mu...   d4758734  ...   \n38438  /Restaurant_Review-g187514-d6715817-Reviews-St...   d6715817  ...   \n24440  /Restaurant_Review-g189541-d1012320-Reviews-Ku...   d1012320  ...   \n\n       Cuisine_French  Cuisine_Central European  Cuisine_Bar  \\\n26147               0                         0            0   \n6254                0                         0            0   \n10965               0                         0            1   \n38438               0                         0            0   \n24440               0                         0            0   \n\n       Cuisine_Vegetarian Friendly  Cuisine_Fast Food  Cuisine_Gastropub  \\\n26147                            1                  0                  0   \n6254                             0                  0                  0   \n10965                            0                  0                  0   \n38438                            0                  0                  0   \n24440                            0                  0                  0   \n\n       Cuisine_Cafe  Cuisine_International  Cuisine_Turkish  Cuisine_Other  \n26147             0                      0                0              0  \n6254              0                      0                0              0  \n10965             0                      0                0              0  \n38438             0                      0                0              0  \n24440             0                      0                0              0  \n\n[5 rows x 58 columns]",
      "text/html": "<div>\n<style scoped>\n    .dataframe tbody tr th:only-of-type {\n        vertical-align: middle;\n    }\n\n    .dataframe tbody tr th {\n        vertical-align: top;\n    }\n\n    .dataframe thead th {\n        text-align: right;\n    }\n</style>\n<table border=\"1\" class=\"dataframe\">\n  <thead>\n    <tr style=\"text-align: right;\">\n      <th></th>\n      <th>Restaurant_id</th>\n      <th>City</th>\n      <th>Cuisine Style</th>\n      <th>Ranking</th>\n      <th>Rating</th>\n      <th>Price Range</th>\n      <th>Number of Reviews</th>\n      <th>Reviews</th>\n      <th>URL_TA</th>\n      <th>ID_TA</th>\n      <th>...</th>\n      <th>Cuisine_French</th>\n      <th>Cuisine_Central European</th>\n      <th>Cuisine_Bar</th>\n      <th>Cuisine_Vegetarian Friendly</th>\n      <th>Cuisine_Fast Food</th>\n      <th>Cuisine_Gastropub</th>\n      <th>Cuisine_Cafe</th>\n      <th>Cuisine_International</th>\n      <th>Cuisine_Turkish</th>\n      <th>Cuisine_Other</th>\n    </tr>\n  </thead>\n  <tbody>\n    <tr>\n      <th>26147</th>\n      <td>id_2373</td>\n      <td>Paris</td>\n      <td>['Vegetarian Friendly', 'Gluten Free Options']</td>\n      <td>2374.0</td>\n      <td>4.5</td>\n      <td>2.0</td>\n      <td>40.0</td>\n      <td>[['Authentic French, All-Vegan, DELICIOUS, Af....</td>\n      <td>/Restaurant_Review-g187147-d12337311-Reviews-V...</td>\n      <td>d12337311</td>\n      <td>...</td>\n      <td>0</td>\n      <td>0</td>\n      <td>0</td>\n      <td>1</td>\n      <td>0</td>\n      <td>0</td>\n      <td>0</td>\n      <td>0</td>\n      <td>0</td>\n      <td>0</td>\n    </tr>\n    <tr>\n      <th>6254</th>\n      <td>id_3381</td>\n      <td>Lisbon</td>\n      <td>['European', 'Portuguese']</td>\n      <td>3385.0</td>\n      <td>4.0</td>\n      <td>2.0</td>\n      <td>16.0</td>\n      <td>[['Go here if you want to be bullied', 'Nice e...</td>\n      <td>/Restaurant_Review-g189158-d3543805-Reviews-Ro...</td>\n      <td>d3543805</td>\n      <td>...</td>\n      <td>0</td>\n      <td>0</td>\n      <td>0</td>\n      <td>0</td>\n      <td>0</td>\n      <td>0</td>\n      <td>0</td>\n      <td>0</td>\n      <td>0</td>\n      <td>0</td>\n    </tr>\n    <tr>\n      <th>10965</th>\n      <td>id_1681</td>\n      <td>Madrid</td>\n      <td>['Bar', 'Mediterranean', 'Spanish']</td>\n      <td>1683.0</td>\n      <td>4.0</td>\n      <td>1.0</td>\n      <td>268.0</td>\n      <td>[['Good food and interesting ambiance', 'Very ...</td>\n      <td>/Restaurant_Review-g187514-d4758734-Reviews-Mu...</td>\n      <td>d4758734</td>\n      <td>...</td>\n      <td>0</td>\n      <td>0</td>\n      <td>1</td>\n      <td>0</td>\n      <td>0</td>\n      <td>0</td>\n      <td>0</td>\n      <td>0</td>\n      <td>0</td>\n      <td>0</td>\n    </tr>\n    <tr>\n      <th>38438</th>\n      <td>id_8515</td>\n      <td>Madrid</td>\n      <td>NaN</td>\n      <td>8522.0</td>\n      <td>2.0</td>\n      <td>2.0</td>\n      <td>0.0</td>\n      <td>[[], []]</td>\n      <td>/Restaurant_Review-g187514-d6715817-Reviews-St...</td>\n      <td>d6715817</td>\n      <td>...</td>\n      <td>0</td>\n      <td>0</td>\n      <td>0</td>\n      <td>0</td>\n      <td>0</td>\n      <td>0</td>\n      <td>0</td>\n      <td>0</td>\n      <td>0</td>\n      <td>0</td>\n    </tr>\n    <tr>\n      <th>24440</th>\n      <td>id_1221</td>\n      <td>Copenhagen</td>\n      <td>['Healthy']</td>\n      <td>1223.0</td>\n      <td>4.5</td>\n      <td>2.0</td>\n      <td>4.0</td>\n      <td>[['Great sandwiches', 'Best sandwich in a long...</td>\n      <td>/Restaurant_Review-g189541-d1012320-Reviews-Ku...</td>\n      <td>d1012320</td>\n      <td>...</td>\n      <td>0</td>\n      <td>0</td>\n      <td>0</td>\n      <td>0</td>\n      <td>0</td>\n      <td>0</td>\n      <td>0</td>\n      <td>0</td>\n      <td>0</td>\n      <td>0</td>\n    </tr>\n  </tbody>\n</table>\n<p>5 rows × 58 columns</p>\n</div>"
     },
     "metadata": {},
     "execution_count": 107
    }
   ],
   "source": [
    "data.sample(5)"
   ]
  },
  {
   "source": [
    "#### Reviews\n",
    "\n",
    "Добавим признаки с датами последнего и предпоследнего отзывов, а также колличество дней между ними."
   ],
   "cell_type": "markdown",
   "metadata": {}
  },
  {
   "cell_type": "code",
   "execution_count": 108,
   "metadata": {},
   "outputs": [],
   "source": [
    "def get_dates_list(x):\n",
    "    dates = x.split('], [')[1]\n",
    "    dates = dates[:-2]\n",
    "    dates = dates.replace(\"'\", \"\")\n",
    "    return dates.split(', ')\n",
    "\n",
    "def get_penultimate_review(x):\n",
    "    dates = get_dates_list(x)\n",
    "    return pd.to_datetime(dates[-1]) if len(dates) >= 1 else np.NaN\n",
    "\n",
    "def get_last_review(x):\n",
    "    dates = get_dates_list(x)\n",
    "    return pd.to_datetime(dates[0]) if len(dates) >= 1 else np.NaN\n",
    "\n",
    "def preproc_reviews(df):\n",
    "    # заполним пропуски пустыми значениями\n",
    "    df['Reviews'].fillna('[[], []]', inplace=True)\n",
    "\n",
    "    # отметим записи коментарии в которых отсутствуют\n",
    "    df['Reviews_NA'] = (df['Reviews'] == '[[], []]').astype(int)\n",
    "\n",
    "    # создадим признаки с датами двух последних коментариев\n",
    "    df['Penultimate_Review'] = df['Reviews'].apply(lambda x: get_penultimate_review(x))\n",
    "    df['Last_Review'] = df['Reviews'].apply(lambda x: get_last_review(x))\n",
    "\n",
    "    # создадим признак количеством дней прошедшими между двумя последними коментариями\n",
    "    df = df.assign(Review_Time_Delta = lambda x: (x['Last_Review'] - x['Penultimate_Review']).dt.days)\n",
    "\n",
    "    # звполним пустые записи\n",
    "    df['Review_Time_Delta'] = df['Review_Time_Delta'].fillna(0)\n",
    "    return df\n",
    "\n",
    "data = preproc_reviews(data)"
   ]
  },
  {
   "cell_type": "code",
   "execution_count": 109,
   "metadata": {},
   "outputs": [
    {
     "output_type": "execute_result",
     "data": {
      "text/plain": "      Restaurant_id       City  \\\n22591       id_5126  Barcelona   \n5771         id_109     Prague   \n35510       id_1580     Berlin   \n33621        id_463     Prague   \n38287        id_694     Prague   \n\n                                           Cuisine Style  Ranking  Rating  \\\n22591                                          ['Asian']   5127.0     3.5   \n5771   ['Italian', 'Pizza', 'Mediterranean', 'Europea...    110.0     4.5   \n35510  ['Lebanese', 'Moroccan', 'Mediterranean', 'Mid...   1582.0     4.5   \n33621  ['Bar', 'European', 'Czech', 'Eastern European...    464.0     4.0   \n38287  ['Italian', 'Pizza', 'Mediterranean', 'Europea...    695.0     4.0   \n\n       Price Range  Number of Reviews  \\\n22591          2.0               95.0   \n5771           2.0              789.0   \n35510          2.0               16.0   \n33621          2.0              220.0   \n38287          2.0               77.0   \n\n                                                 Reviews  \\\n22591  [['Nice atmosphere but definitely not a club.....   \n5771   [['Great lunch, friendly people', 'Lunch and a...   \n35510  [['Food with great flavor from a multi-talent....   \n33621  [['Good place in the heart of the city', 'OK p...   \n38287  [['Great, as always', 'Still good, but depends...   \n\n                                                  URL_TA      ID_TA  ...  \\\n22591  /Restaurant_Review-g187497-d1858535-Reviews-CL...   d1858535  ...   \n5771   /Restaurant_Review-g274707-d4130885-Reviews-Pi...   d4130885  ...   \n35510  /Restaurant_Review-g187323-d11925522-Reviews-R...  d11925522  ...   \n33621  /Restaurant_Review-g274707-d7155220-Reviews-U_...   d7155220  ...   \n38287  /Restaurant_Review-g274707-d12794680-Reviews-V...  d12794680  ...   \n\n       Cuisine_Fast Food  Cuisine_Gastropub  Cuisine_Cafe  \\\n22591                  0                  0             0   \n5771                   0                  0             0   \n35510                  0                  0             0   \n33621                  0                  0             0   \n38287                  0                  0             0   \n\n       Cuisine_International  Cuisine_Turkish  Cuisine_Other  Reviews_NA  \\\n22591                      0                0              0           0   \n5771                       0                0              0           0   \n35510                      0                0              1           0   \n33621                      1                0              0           0   \n38287                      0                0              0           0   \n\n       Penultimate_Review  Last_Review  Review_Time_Delta  \n22591          2017-07-12   2017-08-06               25.0  \n5771           2018-01-09   2018-01-09                0.0  \n35510          2017-03-03   2017-05-20               78.0  \n33621          2017-11-28   2017-12-30               32.0  \n38287          2017-12-29   2018-01-07                9.0  \n\n[5 rows x 62 columns]",
      "text/html": "<div>\n<style scoped>\n    .dataframe tbody tr th:only-of-type {\n        vertical-align: middle;\n    }\n\n    .dataframe tbody tr th {\n        vertical-align: top;\n    }\n\n    .dataframe thead th {\n        text-align: right;\n    }\n</style>\n<table border=\"1\" class=\"dataframe\">\n  <thead>\n    <tr style=\"text-align: right;\">\n      <th></th>\n      <th>Restaurant_id</th>\n      <th>City</th>\n      <th>Cuisine Style</th>\n      <th>Ranking</th>\n      <th>Rating</th>\n      <th>Price Range</th>\n      <th>Number of Reviews</th>\n      <th>Reviews</th>\n      <th>URL_TA</th>\n      <th>ID_TA</th>\n      <th>...</th>\n      <th>Cuisine_Fast Food</th>\n      <th>Cuisine_Gastropub</th>\n      <th>Cuisine_Cafe</th>\n      <th>Cuisine_International</th>\n      <th>Cuisine_Turkish</th>\n      <th>Cuisine_Other</th>\n      <th>Reviews_NA</th>\n      <th>Penultimate_Review</th>\n      <th>Last_Review</th>\n      <th>Review_Time_Delta</th>\n    </tr>\n  </thead>\n  <tbody>\n    <tr>\n      <th>22591</th>\n      <td>id_5126</td>\n      <td>Barcelona</td>\n      <td>['Asian']</td>\n      <td>5127.0</td>\n      <td>3.5</td>\n      <td>2.0</td>\n      <td>95.0</td>\n      <td>[['Nice atmosphere but definitely not a club.....</td>\n      <td>/Restaurant_Review-g187497-d1858535-Reviews-CL...</td>\n      <td>d1858535</td>\n      <td>...</td>\n      <td>0</td>\n      <td>0</td>\n      <td>0</td>\n      <td>0</td>\n      <td>0</td>\n      <td>0</td>\n      <td>0</td>\n      <td>2017-07-12</td>\n      <td>2017-08-06</td>\n      <td>25.0</td>\n    </tr>\n    <tr>\n      <th>5771</th>\n      <td>id_109</td>\n      <td>Prague</td>\n      <td>['Italian', 'Pizza', 'Mediterranean', 'Europea...</td>\n      <td>110.0</td>\n      <td>4.5</td>\n      <td>2.0</td>\n      <td>789.0</td>\n      <td>[['Great lunch, friendly people', 'Lunch and a...</td>\n      <td>/Restaurant_Review-g274707-d4130885-Reviews-Pi...</td>\n      <td>d4130885</td>\n      <td>...</td>\n      <td>0</td>\n      <td>0</td>\n      <td>0</td>\n      <td>0</td>\n      <td>0</td>\n      <td>0</td>\n      <td>0</td>\n      <td>2018-01-09</td>\n      <td>2018-01-09</td>\n      <td>0.0</td>\n    </tr>\n    <tr>\n      <th>35510</th>\n      <td>id_1580</td>\n      <td>Berlin</td>\n      <td>['Lebanese', 'Moroccan', 'Mediterranean', 'Mid...</td>\n      <td>1582.0</td>\n      <td>4.5</td>\n      <td>2.0</td>\n      <td>16.0</td>\n      <td>[['Food with great flavor from a multi-talent....</td>\n      <td>/Restaurant_Review-g187323-d11925522-Reviews-R...</td>\n      <td>d11925522</td>\n      <td>...</td>\n      <td>0</td>\n      <td>0</td>\n      <td>0</td>\n      <td>0</td>\n      <td>0</td>\n      <td>1</td>\n      <td>0</td>\n      <td>2017-03-03</td>\n      <td>2017-05-20</td>\n      <td>78.0</td>\n    </tr>\n    <tr>\n      <th>33621</th>\n      <td>id_463</td>\n      <td>Prague</td>\n      <td>['Bar', 'European', 'Czech', 'Eastern European...</td>\n      <td>464.0</td>\n      <td>4.0</td>\n      <td>2.0</td>\n      <td>220.0</td>\n      <td>[['Good place in the heart of the city', 'OK p...</td>\n      <td>/Restaurant_Review-g274707-d7155220-Reviews-U_...</td>\n      <td>d7155220</td>\n      <td>...</td>\n      <td>0</td>\n      <td>0</td>\n      <td>0</td>\n      <td>1</td>\n      <td>0</td>\n      <td>0</td>\n      <td>0</td>\n      <td>2017-11-28</td>\n      <td>2017-12-30</td>\n      <td>32.0</td>\n    </tr>\n    <tr>\n      <th>38287</th>\n      <td>id_694</td>\n      <td>Prague</td>\n      <td>['Italian', 'Pizza', 'Mediterranean', 'Europea...</td>\n      <td>695.0</td>\n      <td>4.0</td>\n      <td>2.0</td>\n      <td>77.0</td>\n      <td>[['Great, as always', 'Still good, but depends...</td>\n      <td>/Restaurant_Review-g274707-d12794680-Reviews-V...</td>\n      <td>d12794680</td>\n      <td>...</td>\n      <td>0</td>\n      <td>0</td>\n      <td>0</td>\n      <td>0</td>\n      <td>0</td>\n      <td>0</td>\n      <td>0</td>\n      <td>2017-12-29</td>\n      <td>2018-01-07</td>\n      <td>9.0</td>\n    </tr>\n  </tbody>\n</table>\n<p>5 rows × 62 columns</p>\n</div>"
     },
     "metadata": {},
     "execution_count": 109
    }
   ],
   "source": [
    "data.sample(5)"
   ]
  },
  {
   "source": [
    "Попробуем по тексту двух последних коментариев понять были ли они положительными либо отрицательными."
   ],
   "cell_type": "markdown",
   "metadata": {}
  },
  {
   "cell_type": "code",
   "execution_count": 110,
   "metadata": {},
   "outputs": [
    {
     "output_type": "execute_result",
     "data": {
      "text/plain": "23871    [['Quality/price ratio very good, even too go....\n13065    [['Authentic Pad Thai', 'Asiatique food'], ['0...\n4376     [['Mellow, urbane elegance; good wine', 'A tur...\n11841    [['Late lunch', 'Quick hassle free dinner on a...\n19361    [['Great food, excellent service', 'Fantastic ...\nName: Reviews, dtype: object"
     },
     "metadata": {},
     "execution_count": 110
    }
   ],
   "source": [
    "data['Reviews'].sample(5)"
   ]
  },
  {
   "cell_type": "code",
   "execution_count": null,
   "metadata": {},
   "outputs": [],
   "source": [
    "chars_to_replace = \"',.!?&-+/\\\"\"\n",
    "\n",
    "def get_reviews_words(x):\n",
    "    reviews = x.split('], [')[0]\n",
    "    reviews = reviews[2:]\n",
    "    reviews = reviews.split(\"', '\")\n",
    "    if len(reviews) == 1:\n",
    "        return []\n",
    "\n",
    "    words = set()\n",
    "    for review in reviews:\n",
    "        for ch in chars_to_replace:\n",
    "            review = review.replace(ch, '')\n",
    "        review = review.lower()\n",
    "    return words\n",
    "\n",
    "def count_review_words(x):\n",
    "    words = get_reviews_words(x)\n",
    "\n",
    "# для начала соберем список слов которые есть в коментариях.\n",
    "# data['Reviews'].sample(10).apply(count_review_words)\n",
    "\n",
    "# в процессе выяснилось, что подавляющее большинство коментариев положительные, пока отложим это"
   ]
  },
  {
   "source": [
    "#### Cities"
   ],
   "cell_type": "markdown",
   "metadata": {}
  },
  {
   "cell_type": "code",
   "execution_count": 73,
   "metadata": {},
   "outputs": [],
   "source": [
    "# для One-Hot Encoding в pandas есть готовая функция - get_dummies. Особенно радует параметр dummy_na\n",
    "\n",
    "def preproc_cities(df):\n",
    "\n",
    "    # Прежде, чем заменять признак 'City' dummy-переменными, сохраним на будущее некоторую информацию.\n",
    "    # Соберем среднее значение критерия Ranking по городам\n",
    "    stats_by_city = df.groupby(['City']).median()   \n",
    "    \n",
    "    # Для каждой строчки добавим признак с отклонением от среднего значения соответствующего города\n",
    "    df['Ranking_Delta'] = df.apply(lambda x: x['Ranking'] - stats_by_city['Ranking'][x['City']], axis=1)\n",
    "    df['Cuisine_Style_Count_Delta'] = df.apply(lambda x: x['Cuisine Style Count'] - stats_by_city['Cuisine Style Count'][x['City']], axis=1)\n",
    "    df['Price_Range_Delta'] = df.apply(lambda x: x['Price Range'] - stats_by_city['Price Range'][x['City']], axis=1)\n",
    "    df['Reviews_Number_City_Median_Delta'] = df.apply(lambda x: x['Number of Reviews'] - stats_by_city['Number of Reviews'][x['City']], axis=1)\n",
    "\n",
    "    df = pd.get_dummies(df, columns=['City'], dummy_na=True)\n",
    "    return df\n",
    "\n",
    "data = preproc_cities(data)"
   ]
  },
  {
   "cell_type": "code",
   "execution_count": 74,
   "metadata": {},
   "outputs": [
    {
     "output_type": "execute_result",
     "data": {
      "text/plain": "      Restaurant_id                                      Cuisine Style  \\\n12289      id_15861                          ['Fast Food', 'American']   \n18950       id_1221     ['Mediterranean', 'Turkish', 'Middle Eastern']   \n7090         id_405  ['Bar', 'European', 'Pub', 'Czech', 'Eastern E...   \n35394       id_1946                                                NaN   \n12236      id_10434                                        ['Chinese']   \n\n       Ranking  Rating  Price Range  Number of Reviews  \\\n12289  15873.0     2.0          1.0               14.0   \n18950   1233.0     4.0          2.0               69.0   \n7090     406.0     4.0          2.0             1832.0   \n35394   1948.0     4.5          2.0                3.0   \n12236  10436.0     3.0          1.0               67.0   \n\n                                                 Reviews  \\\n12289  [['Worst KFC iv ever seen', 'Pre-film lunch'],...   \n18950  [['Above average', 'Best Sunday brunch ever'],...   \n7090   [['Great range of beers!', 'Beer Beer Beer'], ...   \n35394                                           [[], []]   \n12236  [['Delicious', 'Pretty disappointing'], ['01/0...   \n\n                                                  URL_TA     ID_TA  \\\n12289  /Restaurant_Review-g186338-d5442988-Reviews-KF...  d5442988   \n18950  /Restaurant_Review-g187309-d2020076-Reviews-Di...  d2020076   \n7090   /Restaurant_Review-g274707-d694859-Reviews-Piv...   d694859   \n35394  /Restaurant_Review-g190454-d5986184-Reviews-Be...  d5986184   \n12236  /Restaurant_Review-g187147-d7794226-Reviews-Hu...  d7794226   \n\n       Number_of_Reviews_isNAN  ...  City_Oporto  City_Oslo  City_Paris  \\\n12289                        0  ...            0          0           0   \n18950                        0  ...            0          0           0   \n7090                         0  ...            0          0           0   \n35394                        0  ...            0          0           0   \n12236                        0  ...            0          0           1   \n\n       City_Prague  City_Rome  City_Stockholm  City_Vienna  City_Warsaw  \\\n12289            0          0               0            0            0   \n18950            0          0               0            0            0   \n7090             1          0               0            0            0   \n35394            0          0               0            1            0   \n12236            0          0               0            0            0   \n\n       City_Zurich  City_nan  \n12289            0         0  \n18950            0         0  \n7090             0         0  \n35394            0         0  \n12236            0         0  \n\n[5 rows x 97 columns]",
      "text/html": "<div>\n<style scoped>\n    .dataframe tbody tr th:only-of-type {\n        vertical-align: middle;\n    }\n\n    .dataframe tbody tr th {\n        vertical-align: top;\n    }\n\n    .dataframe thead th {\n        text-align: right;\n    }\n</style>\n<table border=\"1\" class=\"dataframe\">\n  <thead>\n    <tr style=\"text-align: right;\">\n      <th></th>\n      <th>Restaurant_id</th>\n      <th>Cuisine Style</th>\n      <th>Ranking</th>\n      <th>Rating</th>\n      <th>Price Range</th>\n      <th>Number of Reviews</th>\n      <th>Reviews</th>\n      <th>URL_TA</th>\n      <th>ID_TA</th>\n      <th>Number_of_Reviews_isNAN</th>\n      <th>...</th>\n      <th>City_Oporto</th>\n      <th>City_Oslo</th>\n      <th>City_Paris</th>\n      <th>City_Prague</th>\n      <th>City_Rome</th>\n      <th>City_Stockholm</th>\n      <th>City_Vienna</th>\n      <th>City_Warsaw</th>\n      <th>City_Zurich</th>\n      <th>City_nan</th>\n    </tr>\n  </thead>\n  <tbody>\n    <tr>\n      <th>12289</th>\n      <td>id_15861</td>\n      <td>['Fast Food', 'American']</td>\n      <td>15873.0</td>\n      <td>2.0</td>\n      <td>1.0</td>\n      <td>14.0</td>\n      <td>[['Worst KFC iv ever seen', 'Pre-film lunch'],...</td>\n      <td>/Restaurant_Review-g186338-d5442988-Reviews-KF...</td>\n      <td>d5442988</td>\n      <td>0</td>\n      <td>...</td>\n      <td>0</td>\n      <td>0</td>\n      <td>0</td>\n      <td>0</td>\n      <td>0</td>\n      <td>0</td>\n      <td>0</td>\n      <td>0</td>\n      <td>0</td>\n      <td>0</td>\n    </tr>\n    <tr>\n      <th>18950</th>\n      <td>id_1221</td>\n      <td>['Mediterranean', 'Turkish', 'Middle Eastern']</td>\n      <td>1233.0</td>\n      <td>4.0</td>\n      <td>2.0</td>\n      <td>69.0</td>\n      <td>[['Above average', 'Best Sunday brunch ever'],...</td>\n      <td>/Restaurant_Review-g187309-d2020076-Reviews-Di...</td>\n      <td>d2020076</td>\n      <td>0</td>\n      <td>...</td>\n      <td>0</td>\n      <td>0</td>\n      <td>0</td>\n      <td>0</td>\n      <td>0</td>\n      <td>0</td>\n      <td>0</td>\n      <td>0</td>\n      <td>0</td>\n      <td>0</td>\n    </tr>\n    <tr>\n      <th>7090</th>\n      <td>id_405</td>\n      <td>['Bar', 'European', 'Pub', 'Czech', 'Eastern E...</td>\n      <td>406.0</td>\n      <td>4.0</td>\n      <td>2.0</td>\n      <td>1832.0</td>\n      <td>[['Great range of beers!', 'Beer Beer Beer'], ...</td>\n      <td>/Restaurant_Review-g274707-d694859-Reviews-Piv...</td>\n      <td>d694859</td>\n      <td>0</td>\n      <td>...</td>\n      <td>0</td>\n      <td>0</td>\n      <td>0</td>\n      <td>1</td>\n      <td>0</td>\n      <td>0</td>\n      <td>0</td>\n      <td>0</td>\n      <td>0</td>\n      <td>0</td>\n    </tr>\n    <tr>\n      <th>35394</th>\n      <td>id_1946</td>\n      <td>NaN</td>\n      <td>1948.0</td>\n      <td>4.5</td>\n      <td>2.0</td>\n      <td>3.0</td>\n      <td>[[], []]</td>\n      <td>/Restaurant_Review-g190454-d5986184-Reviews-Be...</td>\n      <td>d5986184</td>\n      <td>0</td>\n      <td>...</td>\n      <td>0</td>\n      <td>0</td>\n      <td>0</td>\n      <td>0</td>\n      <td>0</td>\n      <td>0</td>\n      <td>1</td>\n      <td>0</td>\n      <td>0</td>\n      <td>0</td>\n    </tr>\n    <tr>\n      <th>12236</th>\n      <td>id_10434</td>\n      <td>['Chinese']</td>\n      <td>10436.0</td>\n      <td>3.0</td>\n      <td>1.0</td>\n      <td>67.0</td>\n      <td>[['Delicious', 'Pretty disappointing'], ['01/0...</td>\n      <td>/Restaurant_Review-g187147-d7794226-Reviews-Hu...</td>\n      <td>d7794226</td>\n      <td>0</td>\n      <td>...</td>\n      <td>0</td>\n      <td>0</td>\n      <td>1</td>\n      <td>0</td>\n      <td>0</td>\n      <td>0</td>\n      <td>0</td>\n      <td>0</td>\n      <td>0</td>\n      <td>0</td>\n    </tr>\n  </tbody>\n</table>\n<p>5 rows × 97 columns</p>\n</div>"
     },
     "metadata": {},
     "execution_count": 74
    }
   ],
   "source": [
    "data.sample(5)"
   ]
  },
  {
   "source": [
    "### Это \"жжж\" неспроста\n",
    "\n",
    "В датасете у нас есть ссылка страничку ресторана в системе TripAdrisor. Рассмотрим несколько страниц и попробуем выделить потенциально полезную нам информацию.\n",
    "\n",
    "Опишем необходимые для парсинга функции"
   ],
   "cell_type": "markdown",
   "metadata": {}
  },
  {
   "cell_type": "code",
   "execution_count": 75,
   "metadata": {},
   "outputs": [],
   "source": [
    "import requests\n",
    "\n",
    "from lxml import html\n",
    "from bs4 import BeautifulSoup\n",
    "from multiprocessing import Pool\n",
    "from datetime import datetime\n",
    "\n",
    "TRIP_ADVISOR_URL_TEMPLATE = 'https://www.tripadvisor.com{}'\n",
    "\n",
    "def parse_ratings_and_reviews(node, result):\n",
    "    rating_block = node.find('div').findAll('div', recursive=False)[2]\n",
    "    rating_block = rating_block.findAll('div', recursive=False)\n",
    "    if len(rating_block) < 2:\n",
    "        return\n",
    "\n",
    "    ratings = rating_block[1].findAll('div')\n",
    "    for rating in ratings:\n",
    "        spans = rating.findAll('span', recursive=False)\n",
    "        title = spans[1].text.lower()\n",
    "        value = spans[2].find('span').attrs['class'][1].split('_')[1]\n",
    "        result[title] = int(value)\n",
    "\n",
    "def parse_location_and_contact(node):\n",
    "    location_block = node.find('div').find('div')\n",
    "    location_block = location_block.findAll('div', recursive=False)[1]\n",
    "    distance_el = location_block.find('b')\n",
    "    if distance_el is None:\n",
    "        return np.NaN\n",
    "    return float(distance_el.text.split()[0])\n",
    "\n",
    "def parse_details_block(node, result):\n",
    "    if node is None:\n",
    "        return\n",
    "\n",
    "    result['is_verified'] = 1 if node.find('span', {'class': 'ui_icon verified-checkmark'}) is not None else 0\n",
    "    result['has_phone_number'] = 1 if node.find('a', string='+ Add phone number') is None else 0\n",
    "    result['has_hours'] = 1 if node.find('a', string='+ Add hours') is None else 0\n",
    "    result['has_website'] = 1 if node.find('a', string='+ Add website') is None else 0\n",
    "    result['has_menu'] = 1 if node.find('a', string='Menu') is not None else 0\n",
    "        \n",
    "\n",
    "def collect_page_data(html, result):\n",
    "    soup = BeautifulSoup(html)\n",
    "    overview_tabs = soup.find('div', {'data-tab': 'TABS_OVERVIEW'})\n",
    "    if overview_tabs is None:\n",
    "        return\n",
    "\n",
    "    overview_columns = overview_tabs.findAll('div', {'class':'ui_column'})\n",
    "    parse_ratings_and_reviews(overview_columns[0], result)\n",
    "    parse_details_block(overview_columns[1], result)\n",
    "\n",
    "    result['distance'] = parse_location_and_contact(overview_columns[2])\n",
    "    result['has_tcAward'] = 1 if soup.find('img', {'class': 'tcAward'}) is not None else 0\n",
    "\n",
    "def current_time():\n",
    "    return datetime.now().strftime(\"%H:%M:%S\")\n",
    "\n",
    "def get_id_from_url(url):\n",
    "    return url.split('-')[2]\n",
    "\n",
    "def parse_site_page(url):\n",
    "    result = {}\n",
    "    result['id_ta'] = get_id_from_url(url)\n",
    "    ta_url = TRIP_ADVISOR_URL_TEMPLATE.format(url)\n",
    "    print(url)\n",
    "    r = requests.get(ta_url, stream=True)\n",
    "    print('Done')\n",
    "    collect_page_data(r.text, result)\n",
    "    return result\n",
    "\n",
    "def process_ta_urls(x):\n",
    "    return x.apply(parse_site_page)"
   ]
  },
  {
   "cell_type": "code",
   "execution_count": 76,
   "metadata": {},
   "outputs": [],
   "source": [
    "def parallelize_processing(df, func, n_cores=8):\n",
    "    pool = Pool(n_cores)\n",
    "    df_split = np.array_split(df, n_cores)\n",
    "    df = pd.concat(pool.map(func, df_split))\n",
    "    pool.close()\n",
    "    pool.join()\n",
    "    return df\n",
    "\n",
    "# print(\"Started at:\", current_time())\n",
    "\n",
    "# start = 0\n",
    "# step = 5000\n",
    "# stop = len(data)\n",
    "# n_cores = 16\n",
    "\n",
    "# for i in range(start, stop, step):\n",
    "#     print('[{}] Getting records {}:{}'.format(current_time(), i, i + step))\n",
    "#     pages_data = parallelize_processing(data['URL_TA'][i:i+step], process_ta_urls, n_cores=n_cores)\n",
    "#     site_df = pd.DataFrame(pages_data.values.tolist())\n",
    "#     site_df.to_csv('ta_data/data_{}-{}.csv'.format(i, i+step))    \n",
    "\n",
    "# print(\"Finished at:\", current_time())"
   ]
  },
  {
   "source": [
    "Все было прекрасно, но jupyther notebook вешается при попытке обработать все ссылки.\n",
    "\n",
    "Вынесем код в отдельный скрипт и запустим.\n",
    "\n",
    "![](https://github.com/dkataiev/skillfactory_rds/raw/master/resources/img/several-song-filled-hours-later.jpg)"
   ],
   "cell_type": "markdown",
   "metadata": {}
  },
  {
   "source": [
    "Выгрузим ссылки на страницы в отдельные файлы для работы граббера."
   ],
   "cell_type": "markdown",
   "metadata": {}
  },
  {
   "cell_type": "code",
   "execution_count": 77,
   "metadata": {},
   "outputs": [],
   "source": [
    "# start = 0\n",
    "# step = 5000\n",
    "# stop = len(df)\n",
    "\n",
    "# for i in range(start, stop, step):\n",
    "#     df[['ID_TA','URL_TA']][i:i+step].to_csv('./data/urls/urls_{}-{}.csv'.format(i, i+step), header=False)"
   ]
  },
  {
   "source": [
    "Превратим набор JSON-файлов в CSV-формат для дальнейшего удобства рабты с ними."
   ],
   "cell_type": "markdown",
   "metadata": {}
  },
  {
   "cell_type": "code",
   "execution_count": 78,
   "metadata": {
    "tags": []
   },
   "outputs": [],
   "source": [
    "# import json\n",
    "\n",
    "# chunks = []\n",
    "\n",
    "# for dirname, _, filenames in os.walk(DATA_DIR + '/ta_data'):\n",
    "#     for filename in filenames:\n",
    "#         if not filename.endswith('.json'):\n",
    "#             continue\n",
    "\n",
    "#         with open(os.path.join(dirname, filename)) as f:\n",
    "#             data_chunk = json.load(f)\n",
    "#             chunks.append(pd.DataFrame(data_chunk))\n",
    "\n",
    "# ta_df = pd.concat(chunks, ignore_index=True)\n",
    "# ta_df.info()\n",
    "# ta_df.sample(10)"
   ]
  },
  {
   "source": [
    "### Почистим полученные данные и подготовим их к дальнейшей работе.\n",
    "\n",
    "#### Заполним пропуски\n",
    "\n",
    "Признаки \n",
    "* food\n",
    "* service\n",
    "* value\n",
    "* atmosphere \n",
    "\n",
    "содержат оценку в конкретной категории. На их основе мы вычислим суммарный рейтинг, поэтому забьем пропуски нулями.\n",
    "\n",
    "Слудующие признаки содержат номинативные показатели, нет значения - нет показателя, забиваем нолями.\n",
    "\n",
    "* is_verified\n",
    "* has_phone_number\n",
    "* has_hours\n",
    "* has_website\n",
    "* has_menu\n",
    "* has_tcAward"
   ],
   "cell_type": "markdown",
   "metadata": {}
  },
  {
   "cell_type": "code",
   "execution_count": 79,
   "metadata": {
    "tags": []
   },
   "outputs": [],
   "source": [
    "# ta_df.fillna({\n",
    "#     'food':0,\n",
    "#     'service':0,\n",
    "#     'value':0,\n",
    "#     'atmosphere':0,\n",
    "#     'is_verified':0,\n",
    "#     'has_phone_number':0,\n",
    "#     'has_hours':0,\n",
    "#     'has_website':0,\n",
    "#     'has_menu':0,\n",
    "#     'has_tcAward':0},\n",
    "#     inplace=True)\n",
    "\n",
    "# ta_df.info()"
   ]
  },
  {
   "source": [
    "С признаком 'distance' все немного сложнее, это раастояние от некоего культурного центра.\n",
    "\n",
    "Пометим записи, где он отсутствует новым признаком а потом заменим пропуски на -1 что бы отличать от реального расстояния"
   ],
   "cell_type": "markdown",
   "metadata": {}
  },
  {
   "cell_type": "code",
   "execution_count": 80,
   "metadata": {
    "tags": []
   },
   "outputs": [],
   "source": [
    "# ta_df['distance_isNAN'] = pd.isna(ta_df['distance']).astype('uint8')\n",
    "# ta_df.fillna({'distance':-1},inplace=True)\n",
    "# ta_df.info()"
   ]
  },
  {
   "cell_type": "code",
   "execution_count": 81,
   "metadata": {},
   "outputs": [
    {
     "output_type": "execute_result",
     "data": {
      "text/plain": "           ta_id  food  service  value  is_verified  has_phone_number  \\\n16595   d2043542  35.0     30.0   30.0          0.0               1.0   \n20621  d10397411  35.0     35.0   35.0          0.0               1.0   \n27854   d5104042  40.0     45.0   45.0          0.0               1.0   \n9814    d3336691  40.0     40.0   45.0          0.0               1.0   \n35103   d9599183  35.0     40.0   35.0          0.0               1.0   \n34553   d8737537   0.0      0.0    0.0          0.0               1.0   \n21070  d12392164  45.0     45.0   45.0          0.0               1.0   \n7864    d2177461  35.0     35.0   35.0          0.0               1.0   \n18278   d5075295   0.0      0.0    0.0          0.0               0.0   \n19035  d10071406   0.0      0.0    0.0          0.0               1.0   \n\n       has_hours  has_website  has_menu  distance  has_tcAward  atmosphere  \\\n16595        1.0          1.0       0.0       0.3          0.0        35.0   \n20621        1.0          1.0       0.0       0.2          0.0         0.0   \n27854        1.0          1.0       0.0       0.5          0.0        35.0   \n9814         1.0          1.0       0.0       4.5          0.0         0.0   \n35103        1.0          1.0       0.0       0.4          0.0         0.0   \n34553        1.0          1.0       0.0       0.3          0.0         0.0   \n21070        1.0          1.0       0.0       0.4          1.0         0.0   \n7864         1.0          1.0       0.0       1.8          0.0        30.0   \n18278        0.0          0.0       0.0      -1.0          0.0         0.0   \n19035        1.0          1.0       0.0       0.6          0.0         0.0   \n\n       distance_isNAN  ratings_summary  \n16595               0            130.0  \n20621               0            105.0  \n27854               0            165.0  \n9814                0            125.0  \n35103               0            110.0  \n34553               0              0.0  \n21070               0            135.0  \n7864                0            135.0  \n18278               1              0.0  \n19035               0              0.0  ",
      "text/html": "<div>\n<style scoped>\n    .dataframe tbody tr th:only-of-type {\n        vertical-align: middle;\n    }\n\n    .dataframe tbody tr th {\n        vertical-align: top;\n    }\n\n    .dataframe thead th {\n        text-align: right;\n    }\n</style>\n<table border=\"1\" class=\"dataframe\">\n  <thead>\n    <tr style=\"text-align: right;\">\n      <th></th>\n      <th>ta_id</th>\n      <th>food</th>\n      <th>service</th>\n      <th>value</th>\n      <th>is_verified</th>\n      <th>has_phone_number</th>\n      <th>has_hours</th>\n      <th>has_website</th>\n      <th>has_menu</th>\n      <th>distance</th>\n      <th>has_tcAward</th>\n      <th>atmosphere</th>\n      <th>distance_isNAN</th>\n      <th>ratings_summary</th>\n    </tr>\n  </thead>\n  <tbody>\n    <tr>\n      <th>16595</th>\n      <td>d2043542</td>\n      <td>35.0</td>\n      <td>30.0</td>\n      <td>30.0</td>\n      <td>0.0</td>\n      <td>1.0</td>\n      <td>1.0</td>\n      <td>1.0</td>\n      <td>0.0</td>\n      <td>0.3</td>\n      <td>0.0</td>\n      <td>35.0</td>\n      <td>0</td>\n      <td>130.0</td>\n    </tr>\n    <tr>\n      <th>20621</th>\n      <td>d10397411</td>\n      <td>35.0</td>\n      <td>35.0</td>\n      <td>35.0</td>\n      <td>0.0</td>\n      <td>1.0</td>\n      <td>1.0</td>\n      <td>1.0</td>\n      <td>0.0</td>\n      <td>0.2</td>\n      <td>0.0</td>\n      <td>0.0</td>\n      <td>0</td>\n      <td>105.0</td>\n    </tr>\n    <tr>\n      <th>27854</th>\n      <td>d5104042</td>\n      <td>40.0</td>\n      <td>45.0</td>\n      <td>45.0</td>\n      <td>0.0</td>\n      <td>1.0</td>\n      <td>1.0</td>\n      <td>1.0</td>\n      <td>0.0</td>\n      <td>0.5</td>\n      <td>0.0</td>\n      <td>35.0</td>\n      <td>0</td>\n      <td>165.0</td>\n    </tr>\n    <tr>\n      <th>9814</th>\n      <td>d3336691</td>\n      <td>40.0</td>\n      <td>40.0</td>\n      <td>45.0</td>\n      <td>0.0</td>\n      <td>1.0</td>\n      <td>1.0</td>\n      <td>1.0</td>\n      <td>0.0</td>\n      <td>4.5</td>\n      <td>0.0</td>\n      <td>0.0</td>\n      <td>0</td>\n      <td>125.0</td>\n    </tr>\n    <tr>\n      <th>35103</th>\n      <td>d9599183</td>\n      <td>35.0</td>\n      <td>40.0</td>\n      <td>35.0</td>\n      <td>0.0</td>\n      <td>1.0</td>\n      <td>1.0</td>\n      <td>1.0</td>\n      <td>0.0</td>\n      <td>0.4</td>\n      <td>0.0</td>\n      <td>0.0</td>\n      <td>0</td>\n      <td>110.0</td>\n    </tr>\n    <tr>\n      <th>34553</th>\n      <td>d8737537</td>\n      <td>0.0</td>\n      <td>0.0</td>\n      <td>0.0</td>\n      <td>0.0</td>\n      <td>1.0</td>\n      <td>1.0</td>\n      <td>1.0</td>\n      <td>0.0</td>\n      <td>0.3</td>\n      <td>0.0</td>\n      <td>0.0</td>\n      <td>0</td>\n      <td>0.0</td>\n    </tr>\n    <tr>\n      <th>21070</th>\n      <td>d12392164</td>\n      <td>45.0</td>\n      <td>45.0</td>\n      <td>45.0</td>\n      <td>0.0</td>\n      <td>1.0</td>\n      <td>1.0</td>\n      <td>1.0</td>\n      <td>0.0</td>\n      <td>0.4</td>\n      <td>1.0</td>\n      <td>0.0</td>\n      <td>0</td>\n      <td>135.0</td>\n    </tr>\n    <tr>\n      <th>7864</th>\n      <td>d2177461</td>\n      <td>35.0</td>\n      <td>35.0</td>\n      <td>35.0</td>\n      <td>0.0</td>\n      <td>1.0</td>\n      <td>1.0</td>\n      <td>1.0</td>\n      <td>0.0</td>\n      <td>1.8</td>\n      <td>0.0</td>\n      <td>30.0</td>\n      <td>0</td>\n      <td>135.0</td>\n    </tr>\n    <tr>\n      <th>18278</th>\n      <td>d5075295</td>\n      <td>0.0</td>\n      <td>0.0</td>\n      <td>0.0</td>\n      <td>0.0</td>\n      <td>0.0</td>\n      <td>0.0</td>\n      <td>0.0</td>\n      <td>0.0</td>\n      <td>-1.0</td>\n      <td>0.0</td>\n      <td>0.0</td>\n      <td>1</td>\n      <td>0.0</td>\n    </tr>\n    <tr>\n      <th>19035</th>\n      <td>d10071406</td>\n      <td>0.0</td>\n      <td>0.0</td>\n      <td>0.0</td>\n      <td>0.0</td>\n      <td>1.0</td>\n      <td>1.0</td>\n      <td>1.0</td>\n      <td>0.0</td>\n      <td>0.6</td>\n      <td>0.0</td>\n      <td>0.0</td>\n      <td>0</td>\n      <td>0.0</td>\n    </tr>\n  </tbody>\n</table>\n</div>"
     },
     "metadata": {},
     "execution_count": 81
    }
   ],
   "source": [
    "ta_df.sample(10)"
   ]
  },
  {
   "source": [
    "Добавим суммарный рейтинг на основе следующих признаков:\n",
    "\n",
    "* food\n",
    "* service\n",
    "* value\n",
    "* atmosphere"
   ],
   "cell_type": "markdown",
   "metadata": {}
  },
  {
   "cell_type": "code",
   "execution_count": 82,
   "metadata": {},
   "outputs": [],
   "source": [
    "# ta_df['ratings_summary'] = ta_df.apply(lambda x: x['food'] + x['service'] + x['value'] + x['atmosphere'], axis=1)\n",
    "# ta_df.sample(5)"
   ]
  },
  {
   "source": [
    "Удалим ненужные нам колонки"
   ],
   "cell_type": "markdown",
   "metadata": {}
  },
  {
   "cell_type": "code",
   "execution_count": 83,
   "metadata": {
    "tags": []
   },
   "outputs": [],
   "source": [
    "# ta_df.drop(columns=['id', 'ta_url'], inplace=True)\n",
    "# ta_df.info()"
   ]
  },
  {
   "source": [
    "Сохраним подготовленные данные в формате csv."
   ],
   "cell_type": "markdown",
   "metadata": {}
  },
  {
   "cell_type": "code",
   "execution_count": 84,
   "metadata": {},
   "outputs": [],
   "source": [
    "# ta_df.to_csv('./data/ta_data.csv', index=False)"
   ]
  },
  {
   "source": [
    "Далее будем работать с данными сайта используя выгруженный csv файл."
   ],
   "cell_type": "markdown",
   "metadata": {}
  },
  {
   "cell_type": "code",
   "execution_count": 85,
   "metadata": {
    "tags": []
   },
   "outputs": [
    {
     "output_type": "stream",
     "name": "stdout",
     "text": "<class 'pandas.core.frame.DataFrame'>\nRangeIndex: 40000 entries, 0 to 39999\nData columns (total 14 columns):\n #   Column            Non-Null Count  Dtype  \n---  ------            --------------  -----  \n 0   ta_id             40000 non-null  object \n 1   food              40000 non-null  float64\n 2   service           40000 non-null  float64\n 3   value             40000 non-null  float64\n 4   is_verified       40000 non-null  float64\n 5   has_phone_number  40000 non-null  float64\n 6   has_hours         40000 non-null  float64\n 7   has_website       40000 non-null  float64\n 8   has_menu          40000 non-null  float64\n 9   distance          40000 non-null  float64\n 10  has_tcAward       40000 non-null  float64\n 11  atmosphere        40000 non-null  float64\n 12  distance_isNAN    40000 non-null  int64  \n 13  ratings_summary   40000 non-null  float64\ndtypes: float64(12), int64(1), object(1)\nmemory usage: 4.3+ MB\n"
    },
    {
     "output_type": "execute_result",
     "data": {
      "text/plain": "          ta_id  food  service  value  is_verified  has_phone_number  \\\n10881  d6690404  45.0     45.0   45.0          0.0               1.0   \n22051  d7291391   0.0      0.0    0.0          0.0               1.0   \n33388  d8819170  50.0     50.0   50.0          0.0               1.0   \n35655  d5524876  45.0     40.0   50.0          0.0               1.0   \n22393  d7896519  45.0     45.0   45.0          0.0               1.0   \n\n       has_hours  has_website  has_menu  distance  has_tcAward  atmosphere  \\\n10881        1.0          1.0       0.0       0.2          0.0        45.0   \n22051        1.0          1.0       0.0       3.7          0.0         0.0   \n33388        1.0          1.0       0.0       4.4          0.0         0.0   \n35655        1.0          1.0       0.0       1.0          0.0         0.0   \n22393        1.0          1.0       0.0       0.5          0.0         0.0   \n\n       distance_isNAN  ratings_summary  \n10881               0            180.0  \n22051               0              0.0  \n33388               0            150.0  \n35655               0            135.0  \n22393               0            135.0  ",
      "text/html": "<div>\n<style scoped>\n    .dataframe tbody tr th:only-of-type {\n        vertical-align: middle;\n    }\n\n    .dataframe tbody tr th {\n        vertical-align: top;\n    }\n\n    .dataframe thead th {\n        text-align: right;\n    }\n</style>\n<table border=\"1\" class=\"dataframe\">\n  <thead>\n    <tr style=\"text-align: right;\">\n      <th></th>\n      <th>ta_id</th>\n      <th>food</th>\n      <th>service</th>\n      <th>value</th>\n      <th>is_verified</th>\n      <th>has_phone_number</th>\n      <th>has_hours</th>\n      <th>has_website</th>\n      <th>has_menu</th>\n      <th>distance</th>\n      <th>has_tcAward</th>\n      <th>atmosphere</th>\n      <th>distance_isNAN</th>\n      <th>ratings_summary</th>\n    </tr>\n  </thead>\n  <tbody>\n    <tr>\n      <th>10881</th>\n      <td>d6690404</td>\n      <td>45.0</td>\n      <td>45.0</td>\n      <td>45.0</td>\n      <td>0.0</td>\n      <td>1.0</td>\n      <td>1.0</td>\n      <td>1.0</td>\n      <td>0.0</td>\n      <td>0.2</td>\n      <td>0.0</td>\n      <td>45.0</td>\n      <td>0</td>\n      <td>180.0</td>\n    </tr>\n    <tr>\n      <th>22051</th>\n      <td>d7291391</td>\n      <td>0.0</td>\n      <td>0.0</td>\n      <td>0.0</td>\n      <td>0.0</td>\n      <td>1.0</td>\n      <td>1.0</td>\n      <td>1.0</td>\n      <td>0.0</td>\n      <td>3.7</td>\n      <td>0.0</td>\n      <td>0.0</td>\n      <td>0</td>\n      <td>0.0</td>\n    </tr>\n    <tr>\n      <th>33388</th>\n      <td>d8819170</td>\n      <td>50.0</td>\n      <td>50.0</td>\n      <td>50.0</td>\n      <td>0.0</td>\n      <td>1.0</td>\n      <td>1.0</td>\n      <td>1.0</td>\n      <td>0.0</td>\n      <td>4.4</td>\n      <td>0.0</td>\n      <td>0.0</td>\n      <td>0</td>\n      <td>150.0</td>\n    </tr>\n    <tr>\n      <th>35655</th>\n      <td>d5524876</td>\n      <td>45.0</td>\n      <td>40.0</td>\n      <td>50.0</td>\n      <td>0.0</td>\n      <td>1.0</td>\n      <td>1.0</td>\n      <td>1.0</td>\n      <td>0.0</td>\n      <td>1.0</td>\n      <td>0.0</td>\n      <td>0.0</td>\n      <td>0</td>\n      <td>135.0</td>\n    </tr>\n    <tr>\n      <th>22393</th>\n      <td>d7896519</td>\n      <td>45.0</td>\n      <td>45.0</td>\n      <td>45.0</td>\n      <td>0.0</td>\n      <td>1.0</td>\n      <td>1.0</td>\n      <td>1.0</td>\n      <td>0.0</td>\n      <td>0.5</td>\n      <td>0.0</td>\n      <td>0.0</td>\n      <td>0</td>\n      <td>135.0</td>\n    </tr>\n  </tbody>\n</table>\n</div>"
     },
     "metadata": {},
     "execution_count": 85
    }
   ],
   "source": [
    "ta_df = pd.read_csv(DATA_DIR + '/ta_data.csv')\n",
    "ta_df.info()\n",
    "ta_df.sample(5)"
   ]
  },
  {
   "source": [
    "Добавим данные полученные с сайта к основному датасету."
   ],
   "cell_type": "markdown",
   "metadata": {}
  },
  {
   "cell_type": "code",
   "execution_count": 86,
   "metadata": {},
   "outputs": [],
   "source": [
    "def add_site_data(df):\n",
    "    return pd.merge(df, ta_df, left_on='ID_TA', right_on='ta_id')\n",
    "\n",
    "data = add_site_data(data)"
   ]
  },
  {
   "cell_type": "code",
   "execution_count": 87,
   "metadata": {
    "tags": []
   },
   "outputs": [
    {
     "output_type": "stream",
     "name": "stdout",
     "text": "<class 'pandas.core.frame.DataFrame'>\nInt64Index: 40040 entries, 0 to 40039\nColumns: 111 entries, Restaurant_id to ratings_summary\ndtypes: datetime64[ns](2), float64(20), int64(48), object(6), uint8(35)\nmemory usage: 24.9+ MB\n"
    },
    {
     "output_type": "execute_result",
     "data": {
      "text/plain": "      Restaurant_id                                      Cuisine Style  \\\n29663         id_20  ['European', 'Scandinavian', 'Vegetarian Frien...   \n354         id_7657                                        ['Spanish']   \n325         id_5916                                                NaN   \n18318       id_1649                                                NaN   \n18358      id_13654                                           ['Cafe']   \n\n       Ranking  Rating  Price Range  Number of Reviews  \\\n29663     21.0     4.5          2.0              203.0   \n354     7659.0     2.0          1.0               32.0   \n325     5925.0     4.0          2.0               56.0   \n18318   1653.0     3.5          2.0                4.0   \n18358  13664.0     3.0          2.0               24.0   \n\n                                                 Reviews  \\\n29663  [['Excellent food - and super service!', 'Love...   \n354    [['Bad tapas, bad service.', 'Apero'], ['06/18...   \n325    [['Fab', 'Nice concept - good food'], ['11/22/...   \n18318  [['Nice food and athmosphere', 'Mr'], ['05/01/...   \n18358  [['Afternoon coffev', '\"Squashed like sardines...   \n\n                                                  URL_TA     ID_TA  \\\n29663  /Restaurant_Review-g189934-d4881224-Reviews-Ga...  d4881224   \n354    /Restaurant_Review-g187497-d3179035-Reviews-Ce...  d3179035   \n325    /Restaurant_Review-g186338-d6672773-Reviews-Hi...  d6672773   \n18318  /Restaurant_Review-g186605-d743281-Reviews-Bla...   d743281   \n18358  /Restaurant_Review-g186338-d9729508-Reviews-Be...  d9729508   \n\n       Number_of_Reviews_isNAN  ...  is_verified  has_phone_number  has_hours  \\\n29663                        0  ...          0.0               1.0        1.0   \n354                          0  ...          0.0               1.0        1.0   \n325                          0  ...          0.0               1.0        1.0   \n18318                        0  ...          0.0               1.0        1.0   \n18358                        0  ...          0.0               1.0        1.0   \n\n       has_website  has_menu  distance  has_tcAward  atmosphere  \\\n29663          1.0       0.0       0.1          1.0        40.0   \n354            1.0       0.0       0.4          0.0         0.0   \n325            1.0       0.0       1.2          0.0         0.0   \n18318          1.0       0.0      -1.0          0.0         0.0   \n18358          1.0       0.0       0.1          0.0         0.0   \n\n       distance_isNAN  ratings_summary  \n29663               0            170.0  \n354                 0             60.0  \n325                 0            125.0  \n18318               1              0.0  \n18358               0             90.0  \n\n[5 rows x 111 columns]",
      "text/html": "<div>\n<style scoped>\n    .dataframe tbody tr th:only-of-type {\n        vertical-align: middle;\n    }\n\n    .dataframe tbody tr th {\n        vertical-align: top;\n    }\n\n    .dataframe thead th {\n        text-align: right;\n    }\n</style>\n<table border=\"1\" class=\"dataframe\">\n  <thead>\n    <tr style=\"text-align: right;\">\n      <th></th>\n      <th>Restaurant_id</th>\n      <th>Cuisine Style</th>\n      <th>Ranking</th>\n      <th>Rating</th>\n      <th>Price Range</th>\n      <th>Number of Reviews</th>\n      <th>Reviews</th>\n      <th>URL_TA</th>\n      <th>ID_TA</th>\n      <th>Number_of_Reviews_isNAN</th>\n      <th>...</th>\n      <th>is_verified</th>\n      <th>has_phone_number</th>\n      <th>has_hours</th>\n      <th>has_website</th>\n      <th>has_menu</th>\n      <th>distance</th>\n      <th>has_tcAward</th>\n      <th>atmosphere</th>\n      <th>distance_isNAN</th>\n      <th>ratings_summary</th>\n    </tr>\n  </thead>\n  <tbody>\n    <tr>\n      <th>29663</th>\n      <td>id_20</td>\n      <td>['European', 'Scandinavian', 'Vegetarian Frien...</td>\n      <td>21.0</td>\n      <td>4.5</td>\n      <td>2.0</td>\n      <td>203.0</td>\n      <td>[['Excellent food - and super service!', 'Love...</td>\n      <td>/Restaurant_Review-g189934-d4881224-Reviews-Ga...</td>\n      <td>d4881224</td>\n      <td>0</td>\n      <td>...</td>\n      <td>0.0</td>\n      <td>1.0</td>\n      <td>1.0</td>\n      <td>1.0</td>\n      <td>0.0</td>\n      <td>0.1</td>\n      <td>1.0</td>\n      <td>40.0</td>\n      <td>0</td>\n      <td>170.0</td>\n    </tr>\n    <tr>\n      <th>354</th>\n      <td>id_7657</td>\n      <td>['Spanish']</td>\n      <td>7659.0</td>\n      <td>2.0</td>\n      <td>1.0</td>\n      <td>32.0</td>\n      <td>[['Bad tapas, bad service.', 'Apero'], ['06/18...</td>\n      <td>/Restaurant_Review-g187497-d3179035-Reviews-Ce...</td>\n      <td>d3179035</td>\n      <td>0</td>\n      <td>...</td>\n      <td>0.0</td>\n      <td>1.0</td>\n      <td>1.0</td>\n      <td>1.0</td>\n      <td>0.0</td>\n      <td>0.4</td>\n      <td>0.0</td>\n      <td>0.0</td>\n      <td>0</td>\n      <td>60.0</td>\n    </tr>\n    <tr>\n      <th>325</th>\n      <td>id_5916</td>\n      <td>NaN</td>\n      <td>5925.0</td>\n      <td>4.0</td>\n      <td>2.0</td>\n      <td>56.0</td>\n      <td>[['Fab', 'Nice concept - good food'], ['11/22/...</td>\n      <td>/Restaurant_Review-g186338-d6672773-Reviews-Hi...</td>\n      <td>d6672773</td>\n      <td>0</td>\n      <td>...</td>\n      <td>0.0</td>\n      <td>1.0</td>\n      <td>1.0</td>\n      <td>1.0</td>\n      <td>0.0</td>\n      <td>1.2</td>\n      <td>0.0</td>\n      <td>0.0</td>\n      <td>0</td>\n      <td>125.0</td>\n    </tr>\n    <tr>\n      <th>18318</th>\n      <td>id_1649</td>\n      <td>NaN</td>\n      <td>1653.0</td>\n      <td>3.5</td>\n      <td>2.0</td>\n      <td>4.0</td>\n      <td>[['Nice food and athmosphere', 'Mr'], ['05/01/...</td>\n      <td>/Restaurant_Review-g186605-d743281-Reviews-Bla...</td>\n      <td>d743281</td>\n      <td>0</td>\n      <td>...</td>\n      <td>0.0</td>\n      <td>1.0</td>\n      <td>1.0</td>\n      <td>1.0</td>\n      <td>0.0</td>\n      <td>-1.0</td>\n      <td>0.0</td>\n      <td>0.0</td>\n      <td>1</td>\n      <td>0.0</td>\n    </tr>\n    <tr>\n      <th>18358</th>\n      <td>id_13654</td>\n      <td>['Cafe']</td>\n      <td>13664.0</td>\n      <td>3.0</td>\n      <td>2.0</td>\n      <td>24.0</td>\n      <td>[['Afternoon coffev', '\"Squashed like sardines...</td>\n      <td>/Restaurant_Review-g186338-d9729508-Reviews-Be...</td>\n      <td>d9729508</td>\n      <td>0</td>\n      <td>...</td>\n      <td>0.0</td>\n      <td>1.0</td>\n      <td>1.0</td>\n      <td>1.0</td>\n      <td>0.0</td>\n      <td>0.1</td>\n      <td>0.0</td>\n      <td>0.0</td>\n      <td>0</td>\n      <td>90.0</td>\n    </tr>\n  </tbody>\n</table>\n<p>5 rows × 111 columns</p>\n</div>"
     },
     "metadata": {},
     "execution_count": 87
    }
   ],
   "source": [
    "data.info()\n",
    "data.sample(5)"
   ]
  },
  {
   "source": [
    "Удалим все признаки, не являющиесь числовыми."
   ],
   "cell_type": "markdown",
   "metadata": {}
  },
  {
   "cell_type": "code",
   "execution_count": 88,
   "metadata": {
    "tags": []
   },
   "outputs": [
    {
     "output_type": "stream",
     "name": "stdout",
     "text": "<class 'pandas.core.frame.DataFrame'>\nInt64Index: 40040 entries, 0 to 40039\nColumns: 103 entries, Ranking to ratings_summary\ndtypes: float64(20), int64(48), uint8(35)\nmemory usage: 22.4 MB\n"
    }
   ],
   "source": [
    "object_cols = list(data.select_dtypes(include=['object', 'datetime64[ns]', 'timedelta64[ns]']).columns)\n",
    "data = data.drop(labels=object_cols, axis=1)\n",
    "data.info()"
   ]
  },
  {
   "source": [
    "### Нормализация данных"
   ],
   "cell_type": "markdown",
   "metadata": {}
  },
  {
   "cell_type": "code",
   "execution_count": 89,
   "metadata": {
    "tags": []
   },
   "outputs": [
    {
     "output_type": "stream",
     "name": "stdout",
     "text": "<class 'pandas.core.frame.DataFrame'>\nInt64Index: 40040 entries, 0 to 40039\nData columns (total 14 columns):\n #   Column                            Non-Null Count  Dtype  \n---  ------                            --------------  -----  \n 0   Number of Reviews                 40040 non-null  float64\n 1   Ranking                           40040 non-null  float64\n 2   Review_Time_Delta                 40040 non-null  float64\n 3   Ranking_Delta                     40040 non-null  float64\n 4   Reviews_Number_City_Median_Delta  40040 non-null  float64\n 5   Cuisine_Style_Count_Delta         40040 non-null  int64  \n 6   Price_Range_Delta                 40040 non-null  float64\n 7   Reviews_Number_City_Median_Delta  40040 non-null  float64\n 8   food                              40040 non-null  float64\n 9   service                           40040 non-null  float64\n 10  value                             40040 non-null  float64\n 11  distance                          40040 non-null  float64\n 12  atmosphere                        40040 non-null  float64\n 13  ratings_summary                   40040 non-null  float64\ndtypes: float64(13), int64(1)\nmemory usage: 4.6 MB\n"
    },
    {
     "output_type": "execute_result",
     "data": {
      "text/plain": "        Ranking  Rating  Price Range  Number of Reviews  \\\n10124 -0.803860     4.0          2.0          -0.364686   \n26642 -0.292963     4.0          2.0          -0.395978   \n9318  -0.346373     4.5          2.0          -0.395978   \n16169 -0.043449     3.0          2.0          -0.375116   \n3952  -0.591031     1.5          2.0          -0.163027   \n11277  2.423908     3.0          2.0          -0.389024   \n5073   0.756884     3.5          2.0           0.139462   \n21255 -0.455889     4.5          2.0          -0.267333   \n11624  2.779432     3.5          2.0          -0.023952   \n21426 -0.401401     4.5          2.0          -0.395978   \n\n       Number_of_Reviews_isNAN  Price_Range_isNAN  Cuisine Style Count  \\\n10124                        0                  1                    1   \n26642                        0                  0                    1   \n9318                         0                  0                    4   \n16169                        0                  0                    2   \n3952                         0                  0                    2   \n11277                        0                  1                    1   \n5073                         0                  0                    3   \n21255                        0                  0                    2   \n11624                        0                  0                    6   \n21426                        0                  1                    1   \n\n       Cuisine_Style_isNAN  Cuisine_American  Cuisine_Chinese  ...  \\\n10124                    1                 0                0  ...   \n26642                    0                 0                0  ...   \n9318                     0                 1                0  ...   \n16169                    0                 0                0  ...   \n3952                     0                 0                0  ...   \n11277                    0                 0                0  ...   \n5073                     0                 0                0  ...   \n21255                    0                 0                0  ...   \n11624                    0                 0                0  ...   \n21426                    0                 0                0  ...   \n\n       is_verified  has_phone_number  has_hours  has_website  has_menu  \\\n10124          0.0               1.0        1.0          1.0       0.0   \n26642          0.0               1.0        1.0          1.0       0.0   \n9318           0.0               1.0        1.0          1.0       0.0   \n16169          0.0               0.0        0.0          0.0       0.0   \n3952           0.0               1.0        1.0          1.0       0.0   \n11277          0.0               1.0        1.0          1.0       0.0   \n5073           0.0               1.0        1.0          1.0       0.0   \n21255          0.0               1.0        1.0          1.0       0.0   \n11624          0.0               1.0        1.0          1.0       0.0   \n21426          0.0               1.0        1.0          1.0       0.0   \n\n       distance  has_tcAward  atmosphere  distance_isNAN  ratings_summary  \n10124 -0.249606          0.0   -0.728694               0        -1.402547  \n26642  0.722274          0.0   -0.728694               0        -1.402547  \n9318  -0.055230          1.0   -0.728694               0         0.740797  \n16169 -1.221487          0.0   -0.728694               1        -1.402547  \n3952   0.819463          0.0    0.874726               0        -0.293921  \n11277  0.041958          0.0   -0.728694               0        -1.402547  \n5073   0.236334          0.0    1.141963               0         0.814706  \n21255  0.139146          0.0   -0.728694               0         0.592980  \n11624  0.430710          0.0    1.409200               0         0.666889  \n21426  3.054788          0.0   -0.728694               0        -1.402547  \n\n[10 rows x 103 columns]",
      "text/html": "<div>\n<style scoped>\n    .dataframe tbody tr th:only-of-type {\n        vertical-align: middle;\n    }\n\n    .dataframe tbody tr th {\n        vertical-align: top;\n    }\n\n    .dataframe thead th {\n        text-align: right;\n    }\n</style>\n<table border=\"1\" class=\"dataframe\">\n  <thead>\n    <tr style=\"text-align: right;\">\n      <th></th>\n      <th>Ranking</th>\n      <th>Rating</th>\n      <th>Price Range</th>\n      <th>Number of Reviews</th>\n      <th>Number_of_Reviews_isNAN</th>\n      <th>Price_Range_isNAN</th>\n      <th>Cuisine Style Count</th>\n      <th>Cuisine_Style_isNAN</th>\n      <th>Cuisine_American</th>\n      <th>Cuisine_Chinese</th>\n      <th>...</th>\n      <th>is_verified</th>\n      <th>has_phone_number</th>\n      <th>has_hours</th>\n      <th>has_website</th>\n      <th>has_menu</th>\n      <th>distance</th>\n      <th>has_tcAward</th>\n      <th>atmosphere</th>\n      <th>distance_isNAN</th>\n      <th>ratings_summary</th>\n    </tr>\n  </thead>\n  <tbody>\n    <tr>\n      <th>10124</th>\n      <td>-0.803860</td>\n      <td>4.0</td>\n      <td>2.0</td>\n      <td>-0.364686</td>\n      <td>0</td>\n      <td>1</td>\n      <td>1</td>\n      <td>1</td>\n      <td>0</td>\n      <td>0</td>\n      <td>...</td>\n      <td>0.0</td>\n      <td>1.0</td>\n      <td>1.0</td>\n      <td>1.0</td>\n      <td>0.0</td>\n      <td>-0.249606</td>\n      <td>0.0</td>\n      <td>-0.728694</td>\n      <td>0</td>\n      <td>-1.402547</td>\n    </tr>\n    <tr>\n      <th>26642</th>\n      <td>-0.292963</td>\n      <td>4.0</td>\n      <td>2.0</td>\n      <td>-0.395978</td>\n      <td>0</td>\n      <td>0</td>\n      <td>1</td>\n      <td>0</td>\n      <td>0</td>\n      <td>0</td>\n      <td>...</td>\n      <td>0.0</td>\n      <td>1.0</td>\n      <td>1.0</td>\n      <td>1.0</td>\n      <td>0.0</td>\n      <td>0.722274</td>\n      <td>0.0</td>\n      <td>-0.728694</td>\n      <td>0</td>\n      <td>-1.402547</td>\n    </tr>\n    <tr>\n      <th>9318</th>\n      <td>-0.346373</td>\n      <td>4.5</td>\n      <td>2.0</td>\n      <td>-0.395978</td>\n      <td>0</td>\n      <td>0</td>\n      <td>4</td>\n      <td>0</td>\n      <td>1</td>\n      <td>0</td>\n      <td>...</td>\n      <td>0.0</td>\n      <td>1.0</td>\n      <td>1.0</td>\n      <td>1.0</td>\n      <td>0.0</td>\n      <td>-0.055230</td>\n      <td>1.0</td>\n      <td>-0.728694</td>\n      <td>0</td>\n      <td>0.740797</td>\n    </tr>\n    <tr>\n      <th>16169</th>\n      <td>-0.043449</td>\n      <td>3.0</td>\n      <td>2.0</td>\n      <td>-0.375116</td>\n      <td>0</td>\n      <td>0</td>\n      <td>2</td>\n      <td>0</td>\n      <td>0</td>\n      <td>0</td>\n      <td>...</td>\n      <td>0.0</td>\n      <td>0.0</td>\n      <td>0.0</td>\n      <td>0.0</td>\n      <td>0.0</td>\n      <td>-1.221487</td>\n      <td>0.0</td>\n      <td>-0.728694</td>\n      <td>1</td>\n      <td>-1.402547</td>\n    </tr>\n    <tr>\n      <th>3952</th>\n      <td>-0.591031</td>\n      <td>1.5</td>\n      <td>2.0</td>\n      <td>-0.163027</td>\n      <td>0</td>\n      <td>0</td>\n      <td>2</td>\n      <td>0</td>\n      <td>0</td>\n      <td>0</td>\n      <td>...</td>\n      <td>0.0</td>\n      <td>1.0</td>\n      <td>1.0</td>\n      <td>1.0</td>\n      <td>0.0</td>\n      <td>0.819463</td>\n      <td>0.0</td>\n      <td>0.874726</td>\n      <td>0</td>\n      <td>-0.293921</td>\n    </tr>\n    <tr>\n      <th>11277</th>\n      <td>2.423908</td>\n      <td>3.0</td>\n      <td>2.0</td>\n      <td>-0.389024</td>\n      <td>0</td>\n      <td>1</td>\n      <td>1</td>\n      <td>0</td>\n      <td>0</td>\n      <td>0</td>\n      <td>...</td>\n      <td>0.0</td>\n      <td>1.0</td>\n      <td>1.0</td>\n      <td>1.0</td>\n      <td>0.0</td>\n      <td>0.041958</td>\n      <td>0.0</td>\n      <td>-0.728694</td>\n      <td>0</td>\n      <td>-1.402547</td>\n    </tr>\n    <tr>\n      <th>5073</th>\n      <td>0.756884</td>\n      <td>3.5</td>\n      <td>2.0</td>\n      <td>0.139462</td>\n      <td>0</td>\n      <td>0</td>\n      <td>3</td>\n      <td>0</td>\n      <td>0</td>\n      <td>0</td>\n      <td>...</td>\n      <td>0.0</td>\n      <td>1.0</td>\n      <td>1.0</td>\n      <td>1.0</td>\n      <td>0.0</td>\n      <td>0.236334</td>\n      <td>0.0</td>\n      <td>1.141963</td>\n      <td>0</td>\n      <td>0.814706</td>\n    </tr>\n    <tr>\n      <th>21255</th>\n      <td>-0.455889</td>\n      <td>4.5</td>\n      <td>2.0</td>\n      <td>-0.267333</td>\n      <td>0</td>\n      <td>0</td>\n      <td>2</td>\n      <td>0</td>\n      <td>0</td>\n      <td>0</td>\n      <td>...</td>\n      <td>0.0</td>\n      <td>1.0</td>\n      <td>1.0</td>\n      <td>1.0</td>\n      <td>0.0</td>\n      <td>0.139146</td>\n      <td>0.0</td>\n      <td>-0.728694</td>\n      <td>0</td>\n      <td>0.592980</td>\n    </tr>\n    <tr>\n      <th>11624</th>\n      <td>2.779432</td>\n      <td>3.5</td>\n      <td>2.0</td>\n      <td>-0.023952</td>\n      <td>0</td>\n      <td>0</td>\n      <td>6</td>\n      <td>0</td>\n      <td>0</td>\n      <td>0</td>\n      <td>...</td>\n      <td>0.0</td>\n      <td>1.0</td>\n      <td>1.0</td>\n      <td>1.0</td>\n      <td>0.0</td>\n      <td>0.430710</td>\n      <td>0.0</td>\n      <td>1.409200</td>\n      <td>0</td>\n      <td>0.666889</td>\n    </tr>\n    <tr>\n      <th>21426</th>\n      <td>-0.401401</td>\n      <td>4.5</td>\n      <td>2.0</td>\n      <td>-0.395978</td>\n      <td>0</td>\n      <td>1</td>\n      <td>1</td>\n      <td>0</td>\n      <td>0</td>\n      <td>0</td>\n      <td>...</td>\n      <td>0.0</td>\n      <td>1.0</td>\n      <td>1.0</td>\n      <td>1.0</td>\n      <td>0.0</td>\n      <td>3.054788</td>\n      <td>0.0</td>\n      <td>-0.728694</td>\n      <td>0</td>\n      <td>-1.402547</td>\n    </tr>\n  </tbody>\n</table>\n<p>10 rows × 103 columns</p>\n</div>"
     },
     "metadata": {},
     "execution_count": 89
    }
   ],
   "source": [
    "from sklearn.preprocessing import MinMaxScaler\n",
    "from sklearn.preprocessing import StandardScaler\n",
    "\n",
    "columns_for_scaling = [\n",
    "    'Number of Reviews', \n",
    "    'Ranking', \n",
    "    'Review_Time_Delta', \n",
    "    'Ranking_Delta', \n",
    "    'Reviews_Number_City_Median_Delta', \n",
    "    'Cuisine_Style_Count_Delta', \n",
    "    'Price_Range_Delta', \n",
    "    'Reviews_Number_City_Median_Delta',\n",
    "    'food',\n",
    "    'service',\n",
    "    'value',\n",
    "    'distance',\n",
    "    'atmosphere',\n",
    "    'ratings_summary'\n",
    "    ]\n",
    "\n",
    "scaled_df = data[columns_for_scaling]\n",
    "scaled_df.info()\n",
    "\n",
    "scaler = StandardScaler()\n",
    "scaled = scaler.fit_transform(scaled_df)\n",
    "scaled_df = pd.DataFrame(scaled)\n",
    "scaled_df.columns = columns_for_scaling\n",
    "\n",
    "for col in columns_for_scaling:\n",
    "    data[col] = scaled_df[col]\n",
    "\n",
    "data.sample(10)"
   ]
  },
  {
   "cell_type": "markdown",
   "metadata": {},
   "source": [
    "# Разбиваем датафрейм на части, необходимые для обучения и тестирования модели"
   ]
  },
  {
   "cell_type": "code",
   "execution_count": 90,
   "metadata": {},
   "outputs": [],
   "source": [
    "# Х - данные с информацией о ресторанах, у - целевая переменная (рейтинги ресторанов)\n",
    "X = data.drop(['Rating'], axis = 1)\n",
    "y = data['Rating']"
   ]
  },
  {
   "cell_type": "code",
   "execution_count": 91,
   "metadata": {},
   "outputs": [],
   "source": [
    "# Загружаем специальный инструмент для разбивки:\n",
    "from sklearn.model_selection import train_test_split"
   ]
  },
  {
   "cell_type": "code",
   "execution_count": 92,
   "metadata": {},
   "outputs": [],
   "source": [
    "# Наборы данных с меткой \"train\" будут использоваться для обучения модели, \"test\" - для тестирования.\n",
    "# Для тестирования мы будем использовать 25% от исходного датасета.\n",
    "X_train, X_test, y_train, y_test = train_test_split(X, y, test_size=0.25)"
   ]
  },
  {
   "cell_type": "markdown",
   "metadata": {},
   "source": [
    "# Создаём, обучаем и тестируем модель"
   ]
  },
  {
   "cell_type": "code",
   "execution_count": 93,
   "metadata": {},
   "outputs": [],
   "source": [
    "# Импортируем необходимые библиотеки:\n",
    "from sklearn.ensemble import RandomForestRegressor # инструмент для создания и обучения модели\n",
    "from sklearn import metrics # инструменты для оценки точности модели"
   ]
  },
  {
   "cell_type": "code",
   "execution_count": 94,
   "metadata": {},
   "outputs": [],
   "source": [
    "# Создаём модель\n",
    "regr = RandomForestRegressor(n_estimators=100)\n",
    "\n",
    "# Обучаем модель на тестовом наборе данных\n",
    "regr.fit(X_train, y_train)\n",
    "\n",
    "# Используем обученную модель для предсказания рейтинга ресторанов в тестовой выборке.\n",
    "# Предсказанные значения записываем в переменную y_pred\n",
    "y_pred = regr.predict(X_test)"
   ]
  },
  {
   "cell_type": "code",
   "execution_count": 96,
   "metadata": {},
   "outputs": [],
   "source": [
    "def round_of_rating(number):\n",
    "    return np.round(number * 2) / 2\n",
    "\n",
    "y_pred = round_of_rating(y_pred)"
   ]
  },
  {
   "cell_type": "code",
   "execution_count": 97,
   "metadata": {
    "tags": []
   },
   "outputs": [
    {
     "output_type": "stream",
     "name": "stdout",
     "text": "MAE: 0.15514485514485515\n"
    }
   ],
   "source": [
    "# Сравниваем предсказанные значения (y_pred) с реальными (y_test), и смотрим насколько они в среднем отличаются\n",
    "# Метрика называется Mean Absolute Error (MAE) и показывает среднее отклонение предсказанных значений от фактических.\n",
    "print('MAE:', metrics.mean_absolute_error(y_test, y_pred))"
   ]
  },
  {
   "cell_type": "code",
   "execution_count": null,
   "metadata": {},
   "outputs": [],
   "source": []
  }
 ],
 "metadata": {
  "kernelspec": {
   "display_name": "Python 3",
   "language": "python",
   "name": "python3"
  },
  "language_info": {
   "codemirror_mode": {
    "name": "ipython",
    "version": 3
   },
   "file_extension": ".py",
   "mimetype": "text/x-python",
   "name": "python",
   "nbconvert_exporter": "python",
   "pygments_lexer": "ipython3",
   "version": "3.7.6-final"
  }
 },
 "nbformat": 4,
 "nbformat_minor": 2
}