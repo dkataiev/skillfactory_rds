{
 "cells": [
  {
   "source": [
    "![](https://github.com/dkataiev/skillfactory_rds/raw/master/resources/img/tripadvisor-logo.png)\n",
    "# Predict TripAdvisor Rating\n",
    "## В этом соревновании нам предстоит предсказать рейтинг ресторана в TripAdvisor"
   ],
   "cell_type": "markdown",
   "metadata": {}
  },
  {
   "cell_type": "markdown",
   "metadata": {},
   "source": [
    "# Загрузка Pandas и очистка данных"
   ]
  },
  {
   "cell_type": "code",
   "execution_count": 34,
   "metadata": {
    "tags": []
   },
   "outputs": [
    {
     "output_type": "stream",
     "name": "stdout",
     "text": "./data/.DS_Store\n./data/main_task.csv\n./data/ta_data/.DS_Store\n./data/ta_data/urls_30000-35000_data.json\n./data/ta_data/urls_0-5000_data.json\n./data/ta_data/urls_5000-10000_data.json\n./data/ta_data/urls_15000-20000_data.json\n./data/ta_data/urls_25000-30000_data.json\n./data/ta_data/urls_35000-40000_data.json\n./data/ta_data/urls_20000-25000_data.json\n./data/ta_data/urls_10000-15000_data.json\n./data/urls/urls_20000-25000.csv\n./data/urls/urls_5000-10000.csv\n./data/urls/urls_15000-20000.csv\n./data/urls/urls_25000-30000.csv\n./data/urls/.DS_Store\n./data/urls/urls_35000-40000.csv\n./data/urls/urls_10000-15000.csv\n./data/urls/urls_0-5000.csv\n./data/urls/urls_30000-35000.csv\n"
    }
   ],
   "source": [
    "import numpy as np\n",
    "import pandas as pd\n",
    "\n",
    "import matplotlib.pyplot as plt\n",
    "import seaborn as sns \n",
    "%matplotlib inline\n",
    "\n",
    "from sklearn.model_selection import train_test_split\n",
    "\n",
    "import os\n",
    "for dirname, _, filenames in os.walk('./data'):\n",
    "    for filename in filenames:\n",
    "        print(os.path.join(dirname, filename))"
   ]
  },
  {
   "cell_type": "code",
   "execution_count": 35,
   "metadata": {
    "tags": []
   },
   "outputs": [
    {
     "output_type": "stream",
     "name": "stdout",
     "text": "<class 'pandas.core.frame.DataFrame'>\nRangeIndex: 40000 entries, 0 to 39999\nData columns (total 10 columns):\n #   Column             Non-Null Count  Dtype  \n---  ------             --------------  -----  \n 0   Restaurant_id      40000 non-null  object \n 1   City               40000 non-null  object \n 2   Cuisine Style      30717 non-null  object \n 3   Ranking            40000 non-null  float64\n 4   Rating             40000 non-null  float64\n 5   Price Range        26114 non-null  object \n 6   Number of Reviews  37457 non-null  float64\n 7   Reviews            40000 non-null  object \n 8   URL_TA             40000 non-null  object \n 9   ID_TA              40000 non-null  object \ndtypes: float64(3), object(7)\nmemory usage: 3.1+ MB\n"
    }
   ],
   "source": [
    "DATA_DIR = './data'\n",
    "\n",
    "data = pd.read_csv(DATA_DIR + '/main_task.csv')\n",
    "data.info()"
   ]
  },
  {
   "source": [
    "#### Подробнее по признакам:\n",
    "* `City`: Город \n",
    "* `Cuisine Style`: Кухня\n",
    "* `Ranking`: Ранг ресторана относительно других ресторанов в этом городе\n",
    "* `Price Range`: Цены в ресторане в 3 категориях\n",
    "* `Number of Reviews`: Количество отзывов\n",
    "* `Reviews`: 2 последних отзыва и даты этих отзывов\n",
    "* `URL_TA`: страница ресторана на 'www.tripadvisor.com' \n",
    "* `ID_TA`: ID ресторана в TripAdvisor\n",
    "* `Rating`: Рейтинг ресторана"
   ],
   "cell_type": "markdown",
   "metadata": {}
  },
  {
   "cell_type": "code",
   "execution_count": 36,
   "metadata": {},
   "outputs": [
    {
     "output_type": "execute_result",
     "data": {
      "text/plain": "      Restaurant_id       City  \\\n1410         id_548     Berlin   \n5233         id_207   Budapest   \n8413        id_1751     Madrid   \n4404         id_678     Warsaw   \n32830       id_5375  Barcelona   \n\n                                           Cuisine Style  Ranking  Rating  \\\n1410   ['Italian', 'Pizza', 'Mediterranean', 'Europea...    549.0     4.0   \n5233   ['European', 'Eastern European', 'Central Euro...    208.0     4.0   \n8413                                   ['Mediterranean']   1753.0     4.0   \n4404                                           ['Pizza']    679.0     4.5   \n32830              ['Italian', 'Mediterranean', 'Pizza']   5376.0     4.0   \n\n      Price Range  Number of Reviews  \\\n1410     $$ - $$$              149.0   \n5233         $$$$             1819.0   \n8413     $$ - $$$               94.0   \n4404            $               21.0   \n32830    $$ - $$$               51.0   \n\n                                                 Reviews  \\\n1410   [['Great service and food', 'Great pasta'], ['...   \n5233   [['Tourists restaurant great local food', 'Lov...   \n8413   [['Good tapas and wine, lunch average, servic....   \n4404   [['Family visit.', 'Football'], ['11/08/2017',...   \n32830  [['Superb Cannelloni', 'Still excellent'], ['0...   \n\n                                                  URL_TA     ID_TA  \n1410   /Restaurant_Review-g187323-d3488960-Reviews-Re...  d3488960  \n5233   /Restaurant_Review-g274887-d712548-Reviews-Spo...   d712548  \n8413   /Restaurant_Review-g187514-d2194044-Reviews-Ja...  d2194044  \n4404   /Restaurant_Review-g274856-d8272690-Reviews-Pi...  d8272690  \n32830  /Restaurant_Review-g187497-d1224143-Reviews-I_...  d1224143  ",
      "text/html": "<div>\n<style scoped>\n    .dataframe tbody tr th:only-of-type {\n        vertical-align: middle;\n    }\n\n    .dataframe tbody tr th {\n        vertical-align: top;\n    }\n\n    .dataframe thead th {\n        text-align: right;\n    }\n</style>\n<table border=\"1\" class=\"dataframe\">\n  <thead>\n    <tr style=\"text-align: right;\">\n      <th></th>\n      <th>Restaurant_id</th>\n      <th>City</th>\n      <th>Cuisine Style</th>\n      <th>Ranking</th>\n      <th>Rating</th>\n      <th>Price Range</th>\n      <th>Number of Reviews</th>\n      <th>Reviews</th>\n      <th>URL_TA</th>\n      <th>ID_TA</th>\n    </tr>\n  </thead>\n  <tbody>\n    <tr>\n      <th>1410</th>\n      <td>id_548</td>\n      <td>Berlin</td>\n      <td>['Italian', 'Pizza', 'Mediterranean', 'Europea...</td>\n      <td>549.0</td>\n      <td>4.0</td>\n      <td>$$ - $$$</td>\n      <td>149.0</td>\n      <td>[['Great service and food', 'Great pasta'], ['...</td>\n      <td>/Restaurant_Review-g187323-d3488960-Reviews-Re...</td>\n      <td>d3488960</td>\n    </tr>\n    <tr>\n      <th>5233</th>\n      <td>id_207</td>\n      <td>Budapest</td>\n      <td>['European', 'Eastern European', 'Central Euro...</td>\n      <td>208.0</td>\n      <td>4.0</td>\n      <td>$$$$</td>\n      <td>1819.0</td>\n      <td>[['Tourists restaurant great local food', 'Lov...</td>\n      <td>/Restaurant_Review-g274887-d712548-Reviews-Spo...</td>\n      <td>d712548</td>\n    </tr>\n    <tr>\n      <th>8413</th>\n      <td>id_1751</td>\n      <td>Madrid</td>\n      <td>['Mediterranean']</td>\n      <td>1753.0</td>\n      <td>4.0</td>\n      <td>$$ - $$$</td>\n      <td>94.0</td>\n      <td>[['Good tapas and wine, lunch average, servic....</td>\n      <td>/Restaurant_Review-g187514-d2194044-Reviews-Ja...</td>\n      <td>d2194044</td>\n    </tr>\n    <tr>\n      <th>4404</th>\n      <td>id_678</td>\n      <td>Warsaw</td>\n      <td>['Pizza']</td>\n      <td>679.0</td>\n      <td>4.5</td>\n      <td>$</td>\n      <td>21.0</td>\n      <td>[['Family visit.', 'Football'], ['11/08/2017',...</td>\n      <td>/Restaurant_Review-g274856-d8272690-Reviews-Pi...</td>\n      <td>d8272690</td>\n    </tr>\n    <tr>\n      <th>32830</th>\n      <td>id_5375</td>\n      <td>Barcelona</td>\n      <td>['Italian', 'Mediterranean', 'Pizza']</td>\n      <td>5376.0</td>\n      <td>4.0</td>\n      <td>$$ - $$$</td>\n      <td>51.0</td>\n      <td>[['Superb Cannelloni', 'Still excellent'], ['0...</td>\n      <td>/Restaurant_Review-g187497-d1224143-Reviews-I_...</td>\n      <td>d1224143</td>\n    </tr>\n  </tbody>\n</table>\n</div>"
     },
     "metadata": {},
     "execution_count": 36
    }
   ],
   "source": [
    "data.sample(5)"
   ]
  },
  {
   "source": [
    "#### Number of Reviews"
   ],
   "cell_type": "markdown",
   "metadata": {}
  },
  {
   "cell_type": "code",
   "execution_count": 37,
   "metadata": {},
   "outputs": [],
   "source": [
    "def preproc_number_of_reviews(df):\n",
    "    # Вынесем информацию о наличии пропуска как отдельный признак\n",
    "    df['Number_of_Reviews_isNAN'] = pd.isna(df['Number of Reviews']).astype('uint8')\n",
    "    # Далее заполняем пропуски 0, вы можете попробовать заполнением средним или средним по городу и тд...\n",
    "    df['Number of Reviews'].fillna(0, inplace=True)\n",
    "    return df\n",
    "\n",
    "data = preproc_number_of_reviews(data)"
   ]
  },
  {
   "source": [
    "#### Price Range"
   ],
   "cell_type": "markdown",
   "metadata": {}
  },
  {
   "cell_type": "code",
   "execution_count": 38,
   "metadata": {},
   "outputs": [
    {
     "output_type": "execute_result",
     "data": {
      "text/plain": "$$ - $$$    18412\n$            6279\n$$$$         1423\nName: Price Range, dtype: int64"
     },
     "metadata": {},
     "execution_count": 38
    }
   ],
   "source": [
    "data['Price Range'].value_counts()"
   ]
  },
  {
   "source": [
    "По описанию 'Price Range' это - Цены в ресторане.\n",
    "Их можно поставить по возрастанию (значит это не категориальный признак). А это значит, что их можно заменить последовательными числами, например 1,2,3"
   ],
   "cell_type": "markdown",
   "metadata": {}
  },
  {
   "cell_type": "code",
   "execution_count": 39,
   "metadata": {},
   "outputs": [],
   "source": [
    "def preproc_price_range(df):\n",
    "    # Заменим категориальный признак числами\n",
    "    df['Price Range'].replace(to_replace={ '$': 1, '$$ - $$$': 2, '$$$$': 3}, inplace=True)\n",
    "    # Сохраним данные о записях, где не был указан уровень цен.\n",
    "    df['Price_Range_isNAN'] = pd.isna(df['Price Range']).astype('uint8')\n",
    "    # Заполним пропуски, пока что воспользуемся просто медианой.\n",
    "    df['Price Range'].fillna(df['Price Range'].median(), inplace=True)\n",
    "    return df\n",
    "\n",
    "data = preproc_price_range(data)"
   ]
  },
  {
   "cell_type": "code",
   "execution_count": 40,
   "metadata": {},
   "outputs": [
    {
     "output_type": "execute_result",
     "data": {
      "text/plain": "      Restaurant_id      City                             Cuisine Style  \\\n37529       id_1835  Brussels                                       NaN   \n8073        id_1115    Warsaw                                       NaN   \n36541       id_7984    Madrid                              ['Japanese']   \n14943       id_1683    Madrid  ['Mediterranean', 'European', 'Spanish']   \n15113       id_2299     Milan                               ['Italian']   \n\n       Ranking  Rating  Price Range  Number of Reviews  \\\n37529   1836.0     4.5          2.0                4.0   \n8073    1117.0     5.0          2.0                0.0   \n36541   7991.0     3.0          2.0               21.0   \n14943   1685.0     4.0          2.0              118.0   \n15113   2301.0     5.0          2.0               12.0   \n\n                                                 Reviews  \\\n37529  [['Good food', 'Quality without compromise'], ...   \n8073          [['For early travellers'], ['04/10/2017']]   \n36541                                           [[], []]   \n14943  [['Good', 'Nice hotel bar - featuring Vieve Cl...   \n15113                                           [[], []]   \n\n                                                  URL_TA      ID_TA  \\\n37529  /Restaurant_Review-g188644-d4149712-Reviews-Le...   d4149712   \n8073   /Restaurant_Review-g274856-d12327525-Reviews-G...  d12327525   \n36541  /Restaurant_Review-g187514-d10155034-Reviews-J...  d10155034   \n14943  /Restaurant_Review-g187514-d5980819-Reviews-Ga...   d5980819   \n15113  /Restaurant_Review-g187849-d7856108-Reviews-Ma...   d7856108   \n\n       Number_of_Reviews_isNAN  Price_Range_isNAN  \n37529                        0                  1  \n8073                         1                  1  \n36541                        0                  1  \n14943                        0                  0  \n15113                        0                  1  ",
      "text/html": "<div>\n<style scoped>\n    .dataframe tbody tr th:only-of-type {\n        vertical-align: middle;\n    }\n\n    .dataframe tbody tr th {\n        vertical-align: top;\n    }\n\n    .dataframe thead th {\n        text-align: right;\n    }\n</style>\n<table border=\"1\" class=\"dataframe\">\n  <thead>\n    <tr style=\"text-align: right;\">\n      <th></th>\n      <th>Restaurant_id</th>\n      <th>City</th>\n      <th>Cuisine Style</th>\n      <th>Ranking</th>\n      <th>Rating</th>\n      <th>Price Range</th>\n      <th>Number of Reviews</th>\n      <th>Reviews</th>\n      <th>URL_TA</th>\n      <th>ID_TA</th>\n      <th>Number_of_Reviews_isNAN</th>\n      <th>Price_Range_isNAN</th>\n    </tr>\n  </thead>\n  <tbody>\n    <tr>\n      <th>37529</th>\n      <td>id_1835</td>\n      <td>Brussels</td>\n      <td>NaN</td>\n      <td>1836.0</td>\n      <td>4.5</td>\n      <td>2.0</td>\n      <td>4.0</td>\n      <td>[['Good food', 'Quality without compromise'], ...</td>\n      <td>/Restaurant_Review-g188644-d4149712-Reviews-Le...</td>\n      <td>d4149712</td>\n      <td>0</td>\n      <td>1</td>\n    </tr>\n    <tr>\n      <th>8073</th>\n      <td>id_1115</td>\n      <td>Warsaw</td>\n      <td>NaN</td>\n      <td>1117.0</td>\n      <td>5.0</td>\n      <td>2.0</td>\n      <td>0.0</td>\n      <td>[['For early travellers'], ['04/10/2017']]</td>\n      <td>/Restaurant_Review-g274856-d12327525-Reviews-G...</td>\n      <td>d12327525</td>\n      <td>1</td>\n      <td>1</td>\n    </tr>\n    <tr>\n      <th>36541</th>\n      <td>id_7984</td>\n      <td>Madrid</td>\n      <td>['Japanese']</td>\n      <td>7991.0</td>\n      <td>3.0</td>\n      <td>2.0</td>\n      <td>21.0</td>\n      <td>[[], []]</td>\n      <td>/Restaurant_Review-g187514-d10155034-Reviews-J...</td>\n      <td>d10155034</td>\n      <td>0</td>\n      <td>1</td>\n    </tr>\n    <tr>\n      <th>14943</th>\n      <td>id_1683</td>\n      <td>Madrid</td>\n      <td>['Mediterranean', 'European', 'Spanish']</td>\n      <td>1685.0</td>\n      <td>4.0</td>\n      <td>2.0</td>\n      <td>118.0</td>\n      <td>[['Good', 'Nice hotel bar - featuring Vieve Cl...</td>\n      <td>/Restaurant_Review-g187514-d5980819-Reviews-Ga...</td>\n      <td>d5980819</td>\n      <td>0</td>\n      <td>0</td>\n    </tr>\n    <tr>\n      <th>15113</th>\n      <td>id_2299</td>\n      <td>Milan</td>\n      <td>['Italian']</td>\n      <td>2301.0</td>\n      <td>5.0</td>\n      <td>2.0</td>\n      <td>12.0</td>\n      <td>[[], []]</td>\n      <td>/Restaurant_Review-g187849-d7856108-Reviews-Ma...</td>\n      <td>d7856108</td>\n      <td>0</td>\n      <td>1</td>\n    </tr>\n  </tbody>\n</table>\n</div>"
     },
     "metadata": {},
     "execution_count": 40
    }
   ],
   "source": [
    "data.sample(5)"
   ]
  },
  {
   "source": [
    "#### Cuisine Style\n",
    "\n",
    "Для начала добавим к записям признак с колличеством представленых типов кухонь. Если в данных отсутствует информация о типах кухонь, то считаем, что в этом ресторане предлагается только один тип кухни. Так же пометим записи, где не укзан тип кухни."
   ],
   "cell_type": "markdown",
   "metadata": {}
  },
  {
   "cell_type": "code",
   "execution_count": 41,
   "metadata": {},
   "outputs": [],
   "source": [
    "def string_to_list(s):\n",
    "    return s[1:-1].replace(\"'\", \"\").split(', ')\n",
    "\n",
    "def count_styles(s):\n",
    "    return len(string_to_list(s)) if s is not np.nan else 1\n",
    "\n",
    "def get_cuisines_list(df):\n",
    "    cuisines = set()\n",
    "    for cuisine in df['Cuisine Style'].dropna().values:\n",
    "        cuisines.update(string_to_list(cuisine))\n",
    "    return cuisines\n",
    "\n",
    "def update_cuisines_rating(cuisine_styles, cuisines_ratings):\n",
    "        for style in cuisine_styles:\n",
    "            cuisines_ratings[style] = cuisines_ratings[style] + 1\n",
    "\n",
    "def calc_cuisines_ratings(df, cuisines):\n",
    "    cuisines_ratings = {}\n",
    "    for cuisine in cuisines:\n",
    "        cuisines_ratings[cuisine] = 0\n",
    "    \n",
    "    for cuisine in df['Cuisine Style'].dropna().values:\n",
    "        update_cuisines_rating(string_to_list(cuisine), cuisines_ratings)\n",
    "    return cuisines_ratings\n",
    "\n",
    "def preproc_cuisine_style(df):\n",
    "    # добавим к записям признак с колличеством представленых типов кухонь\n",
    "    df['Cuisine Style Count'] = df['Cuisine Style'].apply(count_styles)\n",
    "    # пометим записи, где не укзан тип кухни.\n",
    "    df['Cuisine_Style_isNAN'] = pd.isna(df['Cuisine Style']).astype('uint8')\n",
    "\n",
    "    # отдельными признаками добавим типы кухни, которые представлены хотя бы в 1% ресторанов.\n",
    "    # соберем список всех кухонь представленых в датасете.\n",
    "    cuisines_list = get_cuisines_list(df)\n",
    "\n",
    "    # соберем данные о том, в скольки ресторанах представлена каждая кухня.\n",
    "    cuisines_rating = calc_cuisines_ratings(df, cuisines_list)\n",
    "\n",
    "    # выделим две группы кухонь те которые представлены хотя бы в 1% ресторанов и остальные\n",
    "    top_cuisines = []\n",
    "    low_cuisines = []\n",
    "    for cuisine in cuisines_rating:\n",
    "        if cuisines_rating[cuisine] > len(data) * .01:\n",
    "            top_cuisines.append(cuisine)\n",
    "        else:\n",
    "            low_cuisines.append(cuisine)\n",
    "\n",
    "    # создадим отдельные признаки для кухонь представленых хотя бы в 1%\n",
    "    def top_cuisine_present(x):\n",
    "        if pd.isna(x): \n",
    "            return 0\n",
    "        return 1 if cuisine in x else 0\n",
    "\n",
    "    for cuisine in top_cuisines:\n",
    "        dummy = df['Cuisine Style'].apply(top_cuisine_present)\n",
    "        df['Cuisine_' + cuisine] = dummy\n",
    "\n",
    "    # для остальных добавим признак Cuisine_Other\n",
    "    def is_low_cuisine_present(x):\n",
    "        if pd.isna(x): \n",
    "            return 0\n",
    "        for cuisine in low_cuisines:\n",
    "            if cuisine in x:\n",
    "                return 1\n",
    "        return 0\n",
    "\n",
    "    df['Cuisine_Other'] = df['Cuisine Style'].apply(is_low_cuisine_present)\n",
    "    \n",
    "    return df\n",
    "\n",
    "data = preproc_cuisine_style(data)"
   ]
  },
  {
   "cell_type": "code",
   "execution_count": 42,
   "metadata": {},
   "outputs": [
    {
     "output_type": "execute_result",
     "data": {
      "text/plain": "      Restaurant_id       City  \\\n26773       id_7661     Madrid   \n15801      id_15932     London   \n6934        id_1150     Dublin   \n33880        id_184  Edinburgh   \n38817       id_5362      Milan   \n\n                                           Cuisine Style  Ranking  Rating  \\\n26773                                                NaN   7668.0     2.5   \n15801                                           ['Cafe']  15944.0     3.0   \n6934                                            ['Cafe']   1153.0     5.0   \n33880  ['European', 'British', 'Vegetarian Friendly',...    185.0     4.5   \n38817                                  ['International']   5365.0     3.5   \n\n       Price Range  Number of Reviews  \\\n26773          2.0                8.0   \n15801          1.0               21.0   \n6934           2.0                7.0   \n33880          2.0              126.0   \n38817          2.0               23.0   \n\n                                                 Reviews  \\\n26773                                           [[], []]   \n15801  [['Cheap breakfast', 'Extremely rude staff'], ...   \n6934   [['Best breakfast and lunch option in Beacon.....   \n33880  [['A nice surprise....', 'Best restaurant in S...   \n38817  [['Good price value', 'Calm Hostel'], ['12/29/...   \n\n                                                  URL_TA      ID_TA  ...  \\\n26773  /Restaurant_Review-g187514-d5860148-Reviews-La...   d5860148  ...   \n15801  /Restaurant_Review-g186338-d4795072-Reviews-Te...   d4795072  ...   \n6934   /Restaurant_Review-g186605-d4082110-Reviews-Th...   d4082110  ...   \n33880  /Restaurant_Review-g186525-d12116199-Reviews-T...  d12116199  ...   \n38817  /Restaurant_Review-g187849-d4074869-Reviews-Go...   d4074869  ...   \n\n       Cuisine_Italian  Cuisine_Sushi  Cuisine_Japanese  Cuisine_Turkish  \\\n26773                0              0                 0                0   \n15801                0              0                 0                0   \n6934                 0              0                 0                0   \n33880                0              0                 0                0   \n38817                0              0                 0                0   \n\n       Cuisine_Contemporary  Cuisine_German  Cuisine_Spanish  Cuisine_French  \\\n26773                     0               0                0               0   \n15801                     0               0                0               0   \n6934                      0               0                0               0   \n33880                     0               0                0               0   \n38817                     0               0                0               0   \n\n       Cuisine_European  Cuisine_Other  \n26773                 0              0  \n15801                 0              0  \n6934                  0              0  \n33880                 1              0  \n38817                 0              0  \n\n[5 rows x 58 columns]",
      "text/html": "<div>\n<style scoped>\n    .dataframe tbody tr th:only-of-type {\n        vertical-align: middle;\n    }\n\n    .dataframe tbody tr th {\n        vertical-align: top;\n    }\n\n    .dataframe thead th {\n        text-align: right;\n    }\n</style>\n<table border=\"1\" class=\"dataframe\">\n  <thead>\n    <tr style=\"text-align: right;\">\n      <th></th>\n      <th>Restaurant_id</th>\n      <th>City</th>\n      <th>Cuisine Style</th>\n      <th>Ranking</th>\n      <th>Rating</th>\n      <th>Price Range</th>\n      <th>Number of Reviews</th>\n      <th>Reviews</th>\n      <th>URL_TA</th>\n      <th>ID_TA</th>\n      <th>...</th>\n      <th>Cuisine_Italian</th>\n      <th>Cuisine_Sushi</th>\n      <th>Cuisine_Japanese</th>\n      <th>Cuisine_Turkish</th>\n      <th>Cuisine_Contemporary</th>\n      <th>Cuisine_German</th>\n      <th>Cuisine_Spanish</th>\n      <th>Cuisine_French</th>\n      <th>Cuisine_European</th>\n      <th>Cuisine_Other</th>\n    </tr>\n  </thead>\n  <tbody>\n    <tr>\n      <th>26773</th>\n      <td>id_7661</td>\n      <td>Madrid</td>\n      <td>NaN</td>\n      <td>7668.0</td>\n      <td>2.5</td>\n      <td>2.0</td>\n      <td>8.0</td>\n      <td>[[], []]</td>\n      <td>/Restaurant_Review-g187514-d5860148-Reviews-La...</td>\n      <td>d5860148</td>\n      <td>...</td>\n      <td>0</td>\n      <td>0</td>\n      <td>0</td>\n      <td>0</td>\n      <td>0</td>\n      <td>0</td>\n      <td>0</td>\n      <td>0</td>\n      <td>0</td>\n      <td>0</td>\n    </tr>\n    <tr>\n      <th>15801</th>\n      <td>id_15932</td>\n      <td>London</td>\n      <td>['Cafe']</td>\n      <td>15944.0</td>\n      <td>3.0</td>\n      <td>1.0</td>\n      <td>21.0</td>\n      <td>[['Cheap breakfast', 'Extremely rude staff'], ...</td>\n      <td>/Restaurant_Review-g186338-d4795072-Reviews-Te...</td>\n      <td>d4795072</td>\n      <td>...</td>\n      <td>0</td>\n      <td>0</td>\n      <td>0</td>\n      <td>0</td>\n      <td>0</td>\n      <td>0</td>\n      <td>0</td>\n      <td>0</td>\n      <td>0</td>\n      <td>0</td>\n    </tr>\n    <tr>\n      <th>6934</th>\n      <td>id_1150</td>\n      <td>Dublin</td>\n      <td>['Cafe']</td>\n      <td>1153.0</td>\n      <td>5.0</td>\n      <td>2.0</td>\n      <td>7.0</td>\n      <td>[['Best breakfast and lunch option in Beacon.....</td>\n      <td>/Restaurant_Review-g186605-d4082110-Reviews-Th...</td>\n      <td>d4082110</td>\n      <td>...</td>\n      <td>0</td>\n      <td>0</td>\n      <td>0</td>\n      <td>0</td>\n      <td>0</td>\n      <td>0</td>\n      <td>0</td>\n      <td>0</td>\n      <td>0</td>\n      <td>0</td>\n    </tr>\n    <tr>\n      <th>33880</th>\n      <td>id_184</td>\n      <td>Edinburgh</td>\n      <td>['European', 'British', 'Vegetarian Friendly',...</td>\n      <td>185.0</td>\n      <td>4.5</td>\n      <td>2.0</td>\n      <td>126.0</td>\n      <td>[['A nice surprise....', 'Best restaurant in S...</td>\n      <td>/Restaurant_Review-g186525-d12116199-Reviews-T...</td>\n      <td>d12116199</td>\n      <td>...</td>\n      <td>0</td>\n      <td>0</td>\n      <td>0</td>\n      <td>0</td>\n      <td>0</td>\n      <td>0</td>\n      <td>0</td>\n      <td>0</td>\n      <td>1</td>\n      <td>0</td>\n    </tr>\n    <tr>\n      <th>38817</th>\n      <td>id_5362</td>\n      <td>Milan</td>\n      <td>['International']</td>\n      <td>5365.0</td>\n      <td>3.5</td>\n      <td>2.0</td>\n      <td>23.0</td>\n      <td>[['Good price value', 'Calm Hostel'], ['12/29/...</td>\n      <td>/Restaurant_Review-g187849-d4074869-Reviews-Go...</td>\n      <td>d4074869</td>\n      <td>...</td>\n      <td>0</td>\n      <td>0</td>\n      <td>0</td>\n      <td>0</td>\n      <td>0</td>\n      <td>0</td>\n      <td>0</td>\n      <td>0</td>\n      <td>0</td>\n      <td>0</td>\n    </tr>\n  </tbody>\n</table>\n<p>5 rows × 58 columns</p>\n</div>"
     },
     "metadata": {},
     "execution_count": 42
    }
   ],
   "source": [
    "data.sample(5)"
   ]
  },
  {
   "source": [
    "#### Reviews\n",
    "\n",
    "Добавим признаки с датами последнего и предпоследнего отзывов, а также колличество дней между ними."
   ],
   "cell_type": "markdown",
   "metadata": {}
  },
  {
   "cell_type": "code",
   "execution_count": 43,
   "metadata": {},
   "outputs": [],
   "source": [
    "def get_dates_list(x):\n",
    "    dates = x.split('], [')[1]\n",
    "    dates = dates[:-2]\n",
    "    dates = dates.replace(\"'\", \"\")\n",
    "    return dates.split(', ')\n",
    "\n",
    "def get_penultimate_review(x):\n",
    "    dates = get_dates_list(x)\n",
    "    return pd.to_datetime(dates[-1]) if len(dates) >= 1 else np.NaN\n",
    "\n",
    "def get_last_review(x):\n",
    "    dates = get_dates_list(x)\n",
    "    return pd.to_datetime(dates[0]) if len(dates) >= 1 else np.NaN\n",
    "\n",
    "def preproc_reviews(df):\n",
    "    # заполним пропуски пустыми значениями\n",
    "    df['Reviews'].fillna('[[], []]', inplace=True)\n",
    "\n",
    "    # отметим записи коментарии в которых отсутствуют\n",
    "    df['Reviews_NA'] = (df['Reviews'] == '[[], []]').astype(int)\n",
    "\n",
    "    # создадим признаки с датами двух последних коментариев\n",
    "    df['Penultimate_Review'] = df['Reviews'].apply(lambda x: get_penultimate_review(x))\n",
    "    df['Last_Review'] = df['Reviews'].apply(lambda x: get_last_review(x))\n",
    "\n",
    "    # создадим признак количеством дней прошедшими между двумя последними коментариями\n",
    "    df = df.assign(Review_Time_Delta = lambda x: (x['Last_Review'] - x['Penultimate_Review']).dt.days)\n",
    "\n",
    "    # звполним пустые записи\n",
    "    df['Review_Time_Delta'] = df['Review_Time_Delta'].fillna(0)\n",
    "    return df\n",
    "\n",
    "data = preproc_reviews(data)"
   ]
  },
  {
   "cell_type": "code",
   "execution_count": 44,
   "metadata": {},
   "outputs": [
    {
     "output_type": "execute_result",
     "data": {
      "text/plain": "      Restaurant_id       City  \\\n29515       id_1829  Stockholm   \n17141       id_1137     Vienna   \n1651        id_1300  Barcelona   \n34648       id_7393  Barcelona   \n14119       id_1347     Oporto   \n\n                                           Cuisine Style  Ranking  Rating  \\\n29515                             ['Bar', 'Cafe', 'Pub']   1832.0     4.0   \n17141  ['Bar', 'International', 'Asian', 'Austrian', ...   1138.0     4.5   \n1651                  ['Healthy', 'Vegetarian Friendly']   1301.0     4.0   \n34648                       ['Mediterranean', 'Spanish']   7394.0     3.0   \n14119                                        ['Italian']   1348.0     3.0   \n\n       Price Range  Number of Reviews  \\\n29515          2.0                4.0   \n17141          2.0               47.0   \n1651           2.0              346.0   \n34648          2.0               79.0   \n14119          2.0               41.0   \n\n                                                 Reviews  \\\n29515        [['Well done as a \"café\"'], ['09/23/2017']]   \n17141  [['Good support restaurant for the Zeitgeist.....   \n1651   [['Great tapas', 'Great Tapas'], ['10/26/2017'...   \n34648  [['Average', 'Great Lunch'], ['04/19/2017', '0...   \n14119  [['Fresh cooked Pizza', 'very Good for a shoop...   \n\n                                                  URL_TA      ID_TA  ...  \\\n29515  /Restaurant_Review-g189852-d12723669-Reviews-E...  d12723669  ...   \n17141  /Restaurant_Review-g190454-d4496061-Reviews-Lo...   d4496061  ...   \n1651   /Restaurant_Review-g187497-d2703054-Reviews-La...   d2703054  ...   \n34648  /Restaurant_Review-g187497-d4149781-Reviews-La...   d4149781  ...   \n14119  /Restaurant_Review-g189180-d10766764-Reviews-I...  d10766764  ...   \n\n       Cuisine_Contemporary  Cuisine_German  Cuisine_Spanish  Cuisine_French  \\\n29515                     0               0                0               0   \n17141                     0               0                0               0   \n1651                      0               0                0               0   \n34648                     0               0                1               0   \n14119                     0               0                0               0   \n\n       Cuisine_European  Cuisine_Other  Reviews_NA  Penultimate_Review  \\\n29515                 0              0           0          2017-09-23   \n17141                 0              1           0          2016-05-26   \n1651                  0              0           0          2017-07-09   \n34648                 0              0           0          2017-03-23   \n14119                 0              0           0          2017-01-29   \n\n       Last_Review  Review_Time_Delta  \n29515   2017-09-23                0.0  \n17141   2017-09-24              486.0  \n1651    2017-10-26              109.0  \n34648   2017-04-19               27.0  \n14119   2017-05-23              114.0  \n\n[5 rows x 62 columns]",
      "text/html": "<div>\n<style scoped>\n    .dataframe tbody tr th:only-of-type {\n        vertical-align: middle;\n    }\n\n    .dataframe tbody tr th {\n        vertical-align: top;\n    }\n\n    .dataframe thead th {\n        text-align: right;\n    }\n</style>\n<table border=\"1\" class=\"dataframe\">\n  <thead>\n    <tr style=\"text-align: right;\">\n      <th></th>\n      <th>Restaurant_id</th>\n      <th>City</th>\n      <th>Cuisine Style</th>\n      <th>Ranking</th>\n      <th>Rating</th>\n      <th>Price Range</th>\n      <th>Number of Reviews</th>\n      <th>Reviews</th>\n      <th>URL_TA</th>\n      <th>ID_TA</th>\n      <th>...</th>\n      <th>Cuisine_Contemporary</th>\n      <th>Cuisine_German</th>\n      <th>Cuisine_Spanish</th>\n      <th>Cuisine_French</th>\n      <th>Cuisine_European</th>\n      <th>Cuisine_Other</th>\n      <th>Reviews_NA</th>\n      <th>Penultimate_Review</th>\n      <th>Last_Review</th>\n      <th>Review_Time_Delta</th>\n    </tr>\n  </thead>\n  <tbody>\n    <tr>\n      <th>29515</th>\n      <td>id_1829</td>\n      <td>Stockholm</td>\n      <td>['Bar', 'Cafe', 'Pub']</td>\n      <td>1832.0</td>\n      <td>4.0</td>\n      <td>2.0</td>\n      <td>4.0</td>\n      <td>[['Well done as a \"café\"'], ['09/23/2017']]</td>\n      <td>/Restaurant_Review-g189852-d12723669-Reviews-E...</td>\n      <td>d12723669</td>\n      <td>...</td>\n      <td>0</td>\n      <td>0</td>\n      <td>0</td>\n      <td>0</td>\n      <td>0</td>\n      <td>0</td>\n      <td>0</td>\n      <td>2017-09-23</td>\n      <td>2017-09-23</td>\n      <td>0.0</td>\n    </tr>\n    <tr>\n      <th>17141</th>\n      <td>id_1137</td>\n      <td>Vienna</td>\n      <td>['Bar', 'International', 'Asian', 'Austrian', ...</td>\n      <td>1138.0</td>\n      <td>4.5</td>\n      <td>2.0</td>\n      <td>47.0</td>\n      <td>[['Good support restaurant for the Zeitgeist.....</td>\n      <td>/Restaurant_Review-g190454-d4496061-Reviews-Lo...</td>\n      <td>d4496061</td>\n      <td>...</td>\n      <td>0</td>\n      <td>0</td>\n      <td>0</td>\n      <td>0</td>\n      <td>0</td>\n      <td>1</td>\n      <td>0</td>\n      <td>2016-05-26</td>\n      <td>2017-09-24</td>\n      <td>486.0</td>\n    </tr>\n    <tr>\n      <th>1651</th>\n      <td>id_1300</td>\n      <td>Barcelona</td>\n      <td>['Healthy', 'Vegetarian Friendly']</td>\n      <td>1301.0</td>\n      <td>4.0</td>\n      <td>2.0</td>\n      <td>346.0</td>\n      <td>[['Great tapas', 'Great Tapas'], ['10/26/2017'...</td>\n      <td>/Restaurant_Review-g187497-d2703054-Reviews-La...</td>\n      <td>d2703054</td>\n      <td>...</td>\n      <td>0</td>\n      <td>0</td>\n      <td>0</td>\n      <td>0</td>\n      <td>0</td>\n      <td>0</td>\n      <td>0</td>\n      <td>2017-07-09</td>\n      <td>2017-10-26</td>\n      <td>109.0</td>\n    </tr>\n    <tr>\n      <th>34648</th>\n      <td>id_7393</td>\n      <td>Barcelona</td>\n      <td>['Mediterranean', 'Spanish']</td>\n      <td>7394.0</td>\n      <td>3.0</td>\n      <td>2.0</td>\n      <td>79.0</td>\n      <td>[['Average', 'Great Lunch'], ['04/19/2017', '0...</td>\n      <td>/Restaurant_Review-g187497-d4149781-Reviews-La...</td>\n      <td>d4149781</td>\n      <td>...</td>\n      <td>0</td>\n      <td>0</td>\n      <td>1</td>\n      <td>0</td>\n      <td>0</td>\n      <td>0</td>\n      <td>0</td>\n      <td>2017-03-23</td>\n      <td>2017-04-19</td>\n      <td>27.0</td>\n    </tr>\n    <tr>\n      <th>14119</th>\n      <td>id_1347</td>\n      <td>Oporto</td>\n      <td>['Italian']</td>\n      <td>1348.0</td>\n      <td>3.0</td>\n      <td>2.0</td>\n      <td>41.0</td>\n      <td>[['Fresh cooked Pizza', 'very Good for a shoop...</td>\n      <td>/Restaurant_Review-g189180-d10766764-Reviews-I...</td>\n      <td>d10766764</td>\n      <td>...</td>\n      <td>0</td>\n      <td>0</td>\n      <td>0</td>\n      <td>0</td>\n      <td>0</td>\n      <td>0</td>\n      <td>0</td>\n      <td>2017-01-29</td>\n      <td>2017-05-23</td>\n      <td>114.0</td>\n    </tr>\n  </tbody>\n</table>\n<p>5 rows × 62 columns</p>\n</div>"
     },
     "metadata": {},
     "execution_count": 44
    }
   ],
   "source": [
    "data.sample(5)"
   ]
  },
  {
   "source": [
    "#### Cities"
   ],
   "cell_type": "markdown",
   "metadata": {}
  },
  {
   "cell_type": "code",
   "execution_count": 45,
   "metadata": {},
   "outputs": [],
   "source": [
    "# для One-Hot Encoding в pandas есть готовая функция - get_dummies. Особенно радует параметр dummy_na\n",
    "\n",
    "def preproc_cities(df):\n",
    "\n",
    "    # Прежде, чем заменять признак 'City' dummy-переменными, сохраним на будущее некоторую информацию.\n",
    "    # Соберем среднее значение критерия Ranking по городам\n",
    "    stats_by_city = df.groupby(['City']).median()   \n",
    "    \n",
    "    # Для каждой строчки добавим признак с отклонением от среднего значения соответствующего города\n",
    "    df['Ranking_Delta'] = df.apply(lambda x: x['Ranking'] - stats_by_city['Ranking'][x['City']], axis=1)\n",
    "    df['Cuisine_Style_Count_Delta'] = df.apply(lambda x: x['Cuisine Style Count'] - stats_by_city['Cuisine Style Count'][x['City']], axis=1)\n",
    "    df['Price_Range_Delta'] = df.apply(lambda x: x['Price Range'] - stats_by_city['Price Range'][x['City']], axis=1)\n",
    "    df['Reviews_Number_City_Median_Delta'] = df.apply(lambda x: x['Number of Reviews'] - stats_by_city['Number of Reviews'][x['City']], axis=1)\n",
    "\n",
    "    df = pd.get_dummies(df, columns=['City'], dummy_na=True)\n",
    "    return df\n",
    "\n",
    "data = preproc_cities(data)"
   ]
  },
  {
   "cell_type": "code",
   "execution_count": 46,
   "metadata": {},
   "outputs": [
    {
     "output_type": "execute_result",
     "data": {
      "text/plain": "      Restaurant_id                                Cuisine Style  Ranking  \\\n28812       id_6391                  ['Bar', 'Pub', 'Gastropub']   6400.0   \n38048       id_6965                                  ['Spanish']   6966.0   \n31330       id_2623  ['Dutch', 'Bar', 'Cafe', 'European', 'Pub']   2630.0   \n6304        id_5592                                          NaN   5593.0   \n2079        id_1116                       ['Polish', 'European']   1118.0   \n\n       Rating  Price Range  Number of Reviews  \\\n28812     4.0          2.0               45.0   \n38048     3.0          2.0              118.0   \n31330     3.5          2.0               55.0   \n6304      4.0          2.0               22.0   \n2079      5.0          2.0                0.0   \n\n                                                 Reviews  \\\n28812  [['Busy', 'Pre theatre'], ['12/22/2017', '10/1...   \n38048  [['Drinks with a view', 'Nice beach view'], ['...   \n31330  [['Great meeting place.', 'Dutch hospitality']...   \n6304                  [['Yummy cakes!'], ['10/08/2017']]   \n2079   [['Cafe like Alice in Wonderland'], ['09/16/20...   \n\n                                                  URL_TA      ID_TA  \\\n28812  /Restaurant_Review-g186338-d4155516-Reviews-Th...   d4155516   \n38048  /Restaurant_Review-g187497-d4266811-Reviews-Vi...   d4266811   \n31330  /Restaurant_Review-g188590-d2700026-Reviews-Sm...   d2700026   \n6304   /Restaurant_Review-g187147-d11716611-Reviews-S...  d11716611   \n2079   /Restaurant_Review-g274856-d12792802-Reviews-K...  d12792802   \n\n       Number_of_Reviews_isNAN  ...  City_Oporto  City_Oslo  City_Paris  \\\n28812                        0  ...            0          0           0   \n38048                        0  ...            0          0           0   \n31330                        0  ...            0          0           0   \n6304                         0  ...            0          0           1   \n2079                         1  ...            0          0           0   \n\n       City_Prague  City_Rome  City_Stockholm  City_Vienna  City_Warsaw  \\\n28812            0          0               0            0            0   \n38048            0          0               0            0            0   \n31330            0          0               0            0            0   \n6304             0          0               0            0            0   \n2079             0          0               0            0            1   \n\n       City_Zurich  City_nan  \n28812            0         0  \n38048            0         0  \n31330            0         0  \n6304             0         0  \n2079             0         0  \n\n[5 rows x 97 columns]",
      "text/html": "<div>\n<style scoped>\n    .dataframe tbody tr th:only-of-type {\n        vertical-align: middle;\n    }\n\n    .dataframe tbody tr th {\n        vertical-align: top;\n    }\n\n    .dataframe thead th {\n        text-align: right;\n    }\n</style>\n<table border=\"1\" class=\"dataframe\">\n  <thead>\n    <tr style=\"text-align: right;\">\n      <th></th>\n      <th>Restaurant_id</th>\n      <th>Cuisine Style</th>\n      <th>Ranking</th>\n      <th>Rating</th>\n      <th>Price Range</th>\n      <th>Number of Reviews</th>\n      <th>Reviews</th>\n      <th>URL_TA</th>\n      <th>ID_TA</th>\n      <th>Number_of_Reviews_isNAN</th>\n      <th>...</th>\n      <th>City_Oporto</th>\n      <th>City_Oslo</th>\n      <th>City_Paris</th>\n      <th>City_Prague</th>\n      <th>City_Rome</th>\n      <th>City_Stockholm</th>\n      <th>City_Vienna</th>\n      <th>City_Warsaw</th>\n      <th>City_Zurich</th>\n      <th>City_nan</th>\n    </tr>\n  </thead>\n  <tbody>\n    <tr>\n      <th>28812</th>\n      <td>id_6391</td>\n      <td>['Bar', 'Pub', 'Gastropub']</td>\n      <td>6400.0</td>\n      <td>4.0</td>\n      <td>2.0</td>\n      <td>45.0</td>\n      <td>[['Busy', 'Pre theatre'], ['12/22/2017', '10/1...</td>\n      <td>/Restaurant_Review-g186338-d4155516-Reviews-Th...</td>\n      <td>d4155516</td>\n      <td>0</td>\n      <td>...</td>\n      <td>0</td>\n      <td>0</td>\n      <td>0</td>\n      <td>0</td>\n      <td>0</td>\n      <td>0</td>\n      <td>0</td>\n      <td>0</td>\n      <td>0</td>\n      <td>0</td>\n    </tr>\n    <tr>\n      <th>38048</th>\n      <td>id_6965</td>\n      <td>['Spanish']</td>\n      <td>6966.0</td>\n      <td>3.0</td>\n      <td>2.0</td>\n      <td>118.0</td>\n      <td>[['Drinks with a view', 'Nice beach view'], ['...</td>\n      <td>/Restaurant_Review-g187497-d4266811-Reviews-Vi...</td>\n      <td>d4266811</td>\n      <td>0</td>\n      <td>...</td>\n      <td>0</td>\n      <td>0</td>\n      <td>0</td>\n      <td>0</td>\n      <td>0</td>\n      <td>0</td>\n      <td>0</td>\n      <td>0</td>\n      <td>0</td>\n      <td>0</td>\n    </tr>\n    <tr>\n      <th>31330</th>\n      <td>id_2623</td>\n      <td>['Dutch', 'Bar', 'Cafe', 'European', 'Pub']</td>\n      <td>2630.0</td>\n      <td>3.5</td>\n      <td>2.0</td>\n      <td>55.0</td>\n      <td>[['Great meeting place.', 'Dutch hospitality']...</td>\n      <td>/Restaurant_Review-g188590-d2700026-Reviews-Sm...</td>\n      <td>d2700026</td>\n      <td>0</td>\n      <td>...</td>\n      <td>0</td>\n      <td>0</td>\n      <td>0</td>\n      <td>0</td>\n      <td>0</td>\n      <td>0</td>\n      <td>0</td>\n      <td>0</td>\n      <td>0</td>\n      <td>0</td>\n    </tr>\n    <tr>\n      <th>6304</th>\n      <td>id_5592</td>\n      <td>NaN</td>\n      <td>5593.0</td>\n      <td>4.0</td>\n      <td>2.0</td>\n      <td>22.0</td>\n      <td>[['Yummy cakes!'], ['10/08/2017']]</td>\n      <td>/Restaurant_Review-g187147-d11716611-Reviews-S...</td>\n      <td>d11716611</td>\n      <td>0</td>\n      <td>...</td>\n      <td>0</td>\n      <td>0</td>\n      <td>1</td>\n      <td>0</td>\n      <td>0</td>\n      <td>0</td>\n      <td>0</td>\n      <td>0</td>\n      <td>0</td>\n      <td>0</td>\n    </tr>\n    <tr>\n      <th>2079</th>\n      <td>id_1116</td>\n      <td>['Polish', 'European']</td>\n      <td>1118.0</td>\n      <td>5.0</td>\n      <td>2.0</td>\n      <td>0.0</td>\n      <td>[['Cafe like Alice in Wonderland'], ['09/16/20...</td>\n      <td>/Restaurant_Review-g274856-d12792802-Reviews-K...</td>\n      <td>d12792802</td>\n      <td>1</td>\n      <td>...</td>\n      <td>0</td>\n      <td>0</td>\n      <td>0</td>\n      <td>0</td>\n      <td>0</td>\n      <td>0</td>\n      <td>0</td>\n      <td>1</td>\n      <td>0</td>\n      <td>0</td>\n    </tr>\n  </tbody>\n</table>\n<p>5 rows × 97 columns</p>\n</div>"
     },
     "metadata": {},
     "execution_count": 46
    }
   ],
   "source": [
    "data.sample(5)"
   ]
  },
  {
   "source": [
    "### Это \"жжж\" неспроста\n",
    "\n",
    "В датасете у нас есть ссылка страничку ресторана в системе TripAdrisor. Рассмотрим несколько страниц и попробуем выделить потенциально полезную нам информацию.\n",
    "\n",
    "Опишем необходимые для парсинга функции"
   ],
   "cell_type": "markdown",
   "metadata": {}
  },
  {
   "cell_type": "code",
   "execution_count": 47,
   "metadata": {},
   "outputs": [],
   "source": [
    "import requests\n",
    "\n",
    "from lxml import html\n",
    "from bs4 import BeautifulSoup\n",
    "from multiprocessing import Pool\n",
    "from datetime import datetime\n",
    "\n",
    "TRIP_ADVISOR_URL_TEMPLATE = 'https://www.tripadvisor.com{}'\n",
    "\n",
    "def parse_ratings_and_reviews(node, result):\n",
    "    rating_block = node.find('div').findAll('div', recursive=False)[2]\n",
    "    rating_block = rating_block.findAll('div', recursive=False)\n",
    "    if len(rating_block) < 2:\n",
    "        return\n",
    "\n",
    "    ratings = rating_block[1].findAll('div')\n",
    "    for rating in ratings:\n",
    "        spans = rating.findAll('span', recursive=False)\n",
    "        title = spans[1].text.lower()\n",
    "        value = spans[2].find('span').attrs['class'][1].split('_')[1]\n",
    "        result[title] = int(value)\n",
    "\n",
    "def parse_location_and_contact(node):\n",
    "    location_block = node.find('div').find('div')\n",
    "    location_block = location_block.findAll('div', recursive=False)[1]\n",
    "    distance_el = location_block.find('b')\n",
    "    if distance_el is None:\n",
    "        return np.NaN\n",
    "    return float(distance_el.text.split()[0])\n",
    "\n",
    "def parse_details_block(node, result):\n",
    "    if node is None:\n",
    "        return\n",
    "\n",
    "    result['is_verified'] = 1 if node.find('span', {'class': 'ui_icon verified-checkmark'}) is not None else 0\n",
    "    result['has_phone_number'] = 1 if node.find('a', string='+ Add phone number') is None else 0\n",
    "    result['has_hours'] = 1 if node.find('a', string='+ Add hours') is None else 0\n",
    "    result['has_website'] = 1 if node.find('a', string='+ Add website') is None else 0\n",
    "    result['has_menu'] = 1 if node.find('a', string='Menu') is not None else 0\n",
    "        \n",
    "\n",
    "def collect_page_data(html, result):\n",
    "    soup = BeautifulSoup(html)\n",
    "    overview_tabs = soup.find('div', {'data-tab': 'TABS_OVERVIEW'})\n",
    "    if overview_tabs is None:\n",
    "        return\n",
    "\n",
    "    overview_columns = overview_tabs.findAll('div', {'class':'ui_column'})\n",
    "    parse_ratings_and_reviews(overview_columns[0], result)\n",
    "    parse_details_block(overview_columns[1], result)\n",
    "\n",
    "    result['distance'] = parse_location_and_contact(overview_columns[2])\n",
    "    result['has_tcAward'] = 1 if soup.find('img', {'class': 'tcAward'}) is not None else 0\n",
    "\n",
    "def current_time():\n",
    "    return datetime.now().strftime(\"%H:%M:%S\")\n",
    "\n",
    "def get_id_from_url(url):\n",
    "    return url.split('-')[2]\n",
    "\n",
    "def parse_site_page(url):\n",
    "    result = {}\n",
    "    result['id_ta'] = get_id_from_url(url)\n",
    "    ta_url = TRIP_ADVISOR_URL_TEMPLATE.format(url)\n",
    "    print(url)\n",
    "    r = requests.get(ta_url, stream=True)\n",
    "    print('Done')\n",
    "    collect_page_data(r.text, result)\n",
    "    return result\n",
    "\n",
    "def process_ta_urls(x):\n",
    "    return x.apply(parse_site_page)"
   ]
  },
  {
   "cell_type": "code",
   "execution_count": 48,
   "metadata": {},
   "outputs": [],
   "source": [
    "def parallelize_processing(df, func, n_cores=8):\n",
    "    pool = Pool(n_cores)\n",
    "    df_split = np.array_split(df, n_cores)\n",
    "    df = pd.concat(pool.map(func, df_split))\n",
    "    pool.close()\n",
    "    pool.join()\n",
    "    return df\n",
    "\n",
    "# print(\"Started at:\", current_time())\n",
    "\n",
    "# start = 0\n",
    "# step = 5000\n",
    "# stop = len(data)\n",
    "# n_cores = 16\n",
    "\n",
    "# for i in range(start, stop, step):\n",
    "#     print('[{}] Getting records {}:{}'.format(current_time(), i, i + step))\n",
    "#     pages_data = parallelize_processing(data['URL_TA'][i:i+step], process_ta_urls, n_cores=n_cores)\n",
    "#     site_df = pd.DataFrame(pages_data.values.tolist())\n",
    "#     site_df.to_csv('ta_data/data_{}-{}.csv'.format(i, i+step))    \n",
    "\n",
    "# print(\"Finished at:\", current_time())"
   ]
  },
  {
   "source": [
    "Все было прекрасно, но jupyther notebook вешается при попытке обработать все ссылки.\n",
    "\n",
    "Вынесем код в отдельный скрипт и запустим.\n",
    "\n",
    "![](https://github.com/dkataiev/skillfactory_rds/raw/master/resources/img/several-song-filled-hours-later.jpg)"
   ],
   "cell_type": "markdown",
   "metadata": {}
  },
  {
   "source": [
    "Выгрузим ссылки на страницы в отдельные файлы для работы граббера."
   ],
   "cell_type": "markdown",
   "metadata": {}
  },
  {
   "cell_type": "code",
   "execution_count": 50,
   "metadata": {},
   "outputs": [],
   "source": [
    "# start = 0\n",
    "# step = 5000\n",
    "# stop = len(df)\n",
    "\n",
    "# for i in range(start, stop, step):\n",
    "#     df[['ID_TA','URL_TA']][i:i+step].to_csv('./data/urls/urls_{}-{}.csv'.format(i, i+step), header=False)"
   ]
  },
  {
   "source": [
    "Превратим набор JSON-файлов в CSV-формат для дальнейшего удобства рабты с ними."
   ],
   "cell_type": "markdown",
   "metadata": {}
  },
  {
   "cell_type": "code",
   "execution_count": 59,
   "metadata": {
    "tags": []
   },
   "outputs": [
    {
     "output_type": "stream",
     "name": "stdout",
     "text": "<class 'pandas.core.frame.DataFrame'>\nRangeIndex: 40000 entries, 0 to 39999\nData columns (total 14 columns):\n #   Column            Non-Null Count  Dtype  \n---  ------            --------------  -----  \n 0   id                40000 non-null  object \n 1   ta_id             40000 non-null  object \n 2   ta_url            40000 non-null  object \n 3   food              27153 non-null  float64\n 4   service           27400 non-null  float64\n 5   value             27355 non-null  float64\n 6   is_verified       36526 non-null  float64\n 7   has_phone_number  36526 non-null  float64\n 8   has_hours         36526 non-null  float64\n 9   has_website       36526 non-null  float64\n 10  has_menu          36526 non-null  float64\n 11  distance          28899 non-null  float64\n 12  has_tcAward       36526 non-null  float64\n 13  atmosphere        14147 non-null  float64\ndtypes: float64(11), object(3)\nmemory usage: 4.3+ MB\n"
    },
    {
     "output_type": "execute_result",
     "data": {
      "text/plain": "          id      ta_id                                             ta_url  \\\n11344   6344   d3774113  /Restaurant_Review-g187323-d3774113-Reviews-Sy...   \n19557  19557   d3316388  /Restaurant_Review-g274707-d3316388-Reviews-Bi...   \n14508   9508    d716275  /Restaurant_Review-g187849-d716275-Reviews-La_...   \n5739     739   d8602510  /Restaurant_Review-g274873-d8602510-Reviews-To...   \n28674  38674    d696919  /Restaurant_Review-g188590-d696919-Reviews-De_...   \n31107  21107   d3603158  /Restaurant_Review-g187497-d3603158-Reviews-Pe...   \n510    30510  d10547208  /Restaurant_Review-g187147-d10547208-Reviews-G...   \n39638  14638   d4498891  /Restaurant_Review-g187147-d4498891-Reviews-Le...   \n38758  13758   d3331957  /Restaurant_Review-g187147-d3331957-Reviews-Da...   \n29502  39502   d2429357  /Restaurant_Review-g186338-d2429357-Reviews-Gr...   \n\n       food  service  value  is_verified  has_phone_number  has_hours  \\\n11344  40.0     40.0   40.0          0.0               1.0        1.0   \n19557  45.0     40.0   40.0          0.0               1.0        1.0   \n14508  35.0     35.0   30.0          0.0               1.0        1.0   \n5739    NaN      NaN    NaN          0.0               1.0        1.0   \n28674  40.0     40.0   35.0          0.0               1.0        1.0   \n31107  30.0     30.0   30.0          0.0               1.0        1.0   \n510     NaN      NaN    NaN          NaN               NaN        NaN   \n39638   NaN      NaN    NaN          NaN               NaN        NaN   \n38758   NaN      NaN    NaN          NaN               NaN        NaN   \n29502  45.0     45.0   45.0          0.0               1.0        1.0   \n\n       has_website  has_menu  distance  has_tcAward  atmosphere  \n11344          1.0       0.0       3.8          0.0        45.0  \n19557          1.0       0.0       0.7          1.0        45.0  \n14508          1.0       0.0       0.4          0.0        40.0  \n5739           1.0       0.0       NaN          0.0         NaN  \n28674          1.0       0.0       0.3          0.0        40.0  \n31107          1.0       0.0       0.3          0.0        35.0  \n510            NaN       NaN       NaN          NaN         NaN  \n39638          NaN       NaN       NaN          NaN         NaN  \n38758          NaN       NaN       NaN          NaN         NaN  \n29502          1.0       0.0       0.1          0.0        30.0  ",
      "text/html": "<div>\n<style scoped>\n    .dataframe tbody tr th:only-of-type {\n        vertical-align: middle;\n    }\n\n    .dataframe tbody tr th {\n        vertical-align: top;\n    }\n\n    .dataframe thead th {\n        text-align: right;\n    }\n</style>\n<table border=\"1\" class=\"dataframe\">\n  <thead>\n    <tr style=\"text-align: right;\">\n      <th></th>\n      <th>id</th>\n      <th>ta_id</th>\n      <th>ta_url</th>\n      <th>food</th>\n      <th>service</th>\n      <th>value</th>\n      <th>is_verified</th>\n      <th>has_phone_number</th>\n      <th>has_hours</th>\n      <th>has_website</th>\n      <th>has_menu</th>\n      <th>distance</th>\n      <th>has_tcAward</th>\n      <th>atmosphere</th>\n    </tr>\n  </thead>\n  <tbody>\n    <tr>\n      <th>11344</th>\n      <td>6344</td>\n      <td>d3774113</td>\n      <td>/Restaurant_Review-g187323-d3774113-Reviews-Sy...</td>\n      <td>40.0</td>\n      <td>40.0</td>\n      <td>40.0</td>\n      <td>0.0</td>\n      <td>1.0</td>\n      <td>1.0</td>\n      <td>1.0</td>\n      <td>0.0</td>\n      <td>3.8</td>\n      <td>0.0</td>\n      <td>45.0</td>\n    </tr>\n    <tr>\n      <th>19557</th>\n      <td>19557</td>\n      <td>d3316388</td>\n      <td>/Restaurant_Review-g274707-d3316388-Reviews-Bi...</td>\n      <td>45.0</td>\n      <td>40.0</td>\n      <td>40.0</td>\n      <td>0.0</td>\n      <td>1.0</td>\n      <td>1.0</td>\n      <td>1.0</td>\n      <td>0.0</td>\n      <td>0.7</td>\n      <td>1.0</td>\n      <td>45.0</td>\n    </tr>\n    <tr>\n      <th>14508</th>\n      <td>9508</td>\n      <td>d716275</td>\n      <td>/Restaurant_Review-g187849-d716275-Reviews-La_...</td>\n      <td>35.0</td>\n      <td>35.0</td>\n      <td>30.0</td>\n      <td>0.0</td>\n      <td>1.0</td>\n      <td>1.0</td>\n      <td>1.0</td>\n      <td>0.0</td>\n      <td>0.4</td>\n      <td>0.0</td>\n      <td>40.0</td>\n    </tr>\n    <tr>\n      <th>5739</th>\n      <td>739</td>\n      <td>d8602510</td>\n      <td>/Restaurant_Review-g274873-d8602510-Reviews-To...</td>\n      <td>NaN</td>\n      <td>NaN</td>\n      <td>NaN</td>\n      <td>0.0</td>\n      <td>1.0</td>\n      <td>1.0</td>\n      <td>1.0</td>\n      <td>0.0</td>\n      <td>NaN</td>\n      <td>0.0</td>\n      <td>NaN</td>\n    </tr>\n    <tr>\n      <th>28674</th>\n      <td>38674</td>\n      <td>d696919</td>\n      <td>/Restaurant_Review-g188590-d696919-Reviews-De_...</td>\n      <td>40.0</td>\n      <td>40.0</td>\n      <td>35.0</td>\n      <td>0.0</td>\n      <td>1.0</td>\n      <td>1.0</td>\n      <td>1.0</td>\n      <td>0.0</td>\n      <td>0.3</td>\n      <td>0.0</td>\n      <td>40.0</td>\n    </tr>\n    <tr>\n      <th>31107</th>\n      <td>21107</td>\n      <td>d3603158</td>\n      <td>/Restaurant_Review-g187497-d3603158-Reviews-Pe...</td>\n      <td>30.0</td>\n      <td>30.0</td>\n      <td>30.0</td>\n      <td>0.0</td>\n      <td>1.0</td>\n      <td>1.0</td>\n      <td>1.0</td>\n      <td>0.0</td>\n      <td>0.3</td>\n      <td>0.0</td>\n      <td>35.0</td>\n    </tr>\n    <tr>\n      <th>510</th>\n      <td>30510</td>\n      <td>d10547208</td>\n      <td>/Restaurant_Review-g187147-d10547208-Reviews-G...</td>\n      <td>NaN</td>\n      <td>NaN</td>\n      <td>NaN</td>\n      <td>NaN</td>\n      <td>NaN</td>\n      <td>NaN</td>\n      <td>NaN</td>\n      <td>NaN</td>\n      <td>NaN</td>\n      <td>NaN</td>\n      <td>NaN</td>\n    </tr>\n    <tr>\n      <th>39638</th>\n      <td>14638</td>\n      <td>d4498891</td>\n      <td>/Restaurant_Review-g187147-d4498891-Reviews-Le...</td>\n      <td>NaN</td>\n      <td>NaN</td>\n      <td>NaN</td>\n      <td>NaN</td>\n      <td>NaN</td>\n      <td>NaN</td>\n      <td>NaN</td>\n      <td>NaN</td>\n      <td>NaN</td>\n      <td>NaN</td>\n      <td>NaN</td>\n    </tr>\n    <tr>\n      <th>38758</th>\n      <td>13758</td>\n      <td>d3331957</td>\n      <td>/Restaurant_Review-g187147-d3331957-Reviews-Da...</td>\n      <td>NaN</td>\n      <td>NaN</td>\n      <td>NaN</td>\n      <td>NaN</td>\n      <td>NaN</td>\n      <td>NaN</td>\n      <td>NaN</td>\n      <td>NaN</td>\n      <td>NaN</td>\n      <td>NaN</td>\n      <td>NaN</td>\n    </tr>\n    <tr>\n      <th>29502</th>\n      <td>39502</td>\n      <td>d2429357</td>\n      <td>/Restaurant_Review-g186338-d2429357-Reviews-Gr...</td>\n      <td>45.0</td>\n      <td>45.0</td>\n      <td>45.0</td>\n      <td>0.0</td>\n      <td>1.0</td>\n      <td>1.0</td>\n      <td>1.0</td>\n      <td>0.0</td>\n      <td>0.1</td>\n      <td>0.0</td>\n      <td>30.0</td>\n    </tr>\n  </tbody>\n</table>\n</div>"
     },
     "metadata": {},
     "execution_count": 59
    }
   ],
   "source": [
    "# import json\n",
    "\n",
    "# chunks = []\n",
    "\n",
    "# for dirname, _, filenames in os.walk(DATA_DIR + '/ta_data'):\n",
    "#     for filename in filenames:\n",
    "#         if not filename.endswith('.json'):\n",
    "#             continue\n",
    "\n",
    "#         with open(os.path.join(dirname, filename)) as f:\n",
    "#             data_chunk = json.load(f)\n",
    "#             chunks.append(pd.DataFrame(data_chunk))\n",
    "\n",
    "# ta_df = pd.concat(chunks, ignore_index=True)\n",
    "# ta_df.info()\n",
    "# ta_df.sample(10)"
   ]
  },
  {
   "source": [
    "### Почистим полученные данные и подготовим их к дальнейшей работе.\n",
    "\n",
    "#### Заполним пропуски\n",
    "\n",
    "Признаки \n",
    "* food\n",
    "* service\n",
    "* value\n",
    "* atmosphere \n",
    "\n",
    "содержат оценку в конкретной категории. На их основе мы вычислим суммарный рейтинг, поэтому забьем пропуски нулями.\n",
    "\n",
    "Слудующие признаки содержат номинативные показатели, нет значения - нет показателя, забиваем нолями.\n",
    "\n",
    "* is_verified\n",
    "* has_phone_number\n",
    "* has_hours\n",
    "* has_website\n",
    "* has_menu\n",
    "* has_tcAward"
   ],
   "cell_type": "markdown",
   "metadata": {}
  },
  {
   "cell_type": "code",
   "execution_count": 60,
   "metadata": {
    "tags": []
   },
   "outputs": [
    {
     "output_type": "stream",
     "name": "stdout",
     "text": "<class 'pandas.core.frame.DataFrame'>\nRangeIndex: 40000 entries, 0 to 39999\nData columns (total 14 columns):\n #   Column            Non-Null Count  Dtype  \n---  ------            --------------  -----  \n 0   id                40000 non-null  object \n 1   ta_id             40000 non-null  object \n 2   ta_url            40000 non-null  object \n 3   food              40000 non-null  float64\n 4   service           40000 non-null  float64\n 5   value             40000 non-null  float64\n 6   is_verified       40000 non-null  float64\n 7   has_phone_number  40000 non-null  float64\n 8   has_hours         40000 non-null  float64\n 9   has_website       40000 non-null  float64\n 10  has_menu          40000 non-null  float64\n 11  distance          28899 non-null  float64\n 12  has_tcAward       40000 non-null  float64\n 13  atmosphere        40000 non-null  float64\ndtypes: float64(11), object(3)\nmemory usage: 4.3+ MB\n"
    }
   ],
   "source": [
    "# ta_df.fillna({\n",
    "#     'food':0,\n",
    "#     'service':0,\n",
    "#     'value':0,\n",
    "#     'atmosphere':0,\n",
    "#     'is_verified':0,\n",
    "#     'has_phone_number':0,\n",
    "#     'has_hours':0,\n",
    "#     'has_website':0,\n",
    "#     'has_menu':0,\n",
    "#     'has_tcAward':0},\n",
    "#     inplace=True)\n",
    "\n",
    "# ta_df.info()"
   ]
  },
  {
   "source": [
    "С признаком 'distance' все немного сложнее, это раастояние от некоего культурного центра.\n",
    "\n",
    "Пометим записи, где он отсутствует новым признаком а потом заменим пропуски на -1 что бы отличать от реального расстояния"
   ],
   "cell_type": "markdown",
   "metadata": {}
  },
  {
   "cell_type": "code",
   "execution_count": 61,
   "metadata": {
    "tags": []
   },
   "outputs": [
    {
     "output_type": "stream",
     "name": "stdout",
     "text": "<class 'pandas.core.frame.DataFrame'>\nRangeIndex: 40000 entries, 0 to 39999\nData columns (total 15 columns):\n #   Column            Non-Null Count  Dtype  \n---  ------            --------------  -----  \n 0   id                40000 non-null  object \n 1   ta_id             40000 non-null  object \n 2   ta_url            40000 non-null  object \n 3   food              40000 non-null  float64\n 4   service           40000 non-null  float64\n 5   value             40000 non-null  float64\n 6   is_verified       40000 non-null  float64\n 7   has_phone_number  40000 non-null  float64\n 8   has_hours         40000 non-null  float64\n 9   has_website       40000 non-null  float64\n 10  has_menu          40000 non-null  float64\n 11  distance          40000 non-null  float64\n 12  has_tcAward       40000 non-null  float64\n 13  atmosphere        40000 non-null  float64\n 14  distance_isNAN    40000 non-null  uint8  \ndtypes: float64(11), object(3), uint8(1)\nmemory usage: 4.3+ MB\n"
    }
   ],
   "source": [
    "# ta_df['distance_isNAN'] = pd.isna(ta_df['distance']).astype('uint8')\n",
    "# ta_df.fillna({'distance':-1},inplace=True)\n",
    "# ta_df.info()"
   ]
  },
  {
   "cell_type": "code",
   "execution_count": 62,
   "metadata": {},
   "outputs": [
    {
     "output_type": "execute_result",
     "data": {
      "text/plain": "          id      ta_id                                             ta_url  \\\n8114    3114   d9596649  /Restaurant_Review-g274887-d9596649-Reviews-Ri...   \n3135   33135  d10700630  /Restaurant_Review-g189180-d10700630-Reviews-C...   \n27969  37969    d717324  /Restaurant_Review-g187514-d717324-Reviews-Lha...   \n18887  18887  d10671022  /Restaurant_Review-g189541-d10671022-Reviews-M...   \n32060  22060   d8006236  /Restaurant_Review-g274772-d8006236-Reviews-Pi...   \n24836  29836   d7246438  /Restaurant_Review-g274707-d7246438-Reviews-Kf...   \n17122  17122   d4733344  /Restaurant_Review-g187849-d4733344-Reviews-Bl...   \n3778   33778   d5774989  /Restaurant_Review-g187147-d5774989-Reviews-Bl...   \n16204  16204   d5122694  /Restaurant_Review-g186338-d5122694-Reviews-Fo...   \n29884  39884   d8177978  /Restaurant_Review-g187497-d8177978-Reviews-Di...   \n\n       food  service  value  is_verified  has_phone_number  has_hours  \\\n8114   40.0     40.0   45.0          0.0               1.0        1.0   \n3135   45.0     45.0   40.0          0.0               1.0        1.0   \n27969  40.0     40.0   30.0          0.0               1.0        1.0   \n18887   0.0     40.0   45.0          0.0               1.0        1.0   \n32060   0.0      0.0    0.0          0.0               1.0        1.0   \n24836   0.0      0.0    0.0          0.0               1.0        1.0   \n17122  40.0     45.0   45.0          0.0               1.0        1.0   \n3778   30.0     35.0   25.0          0.0               1.0        1.0   \n16204   0.0      0.0    0.0          0.0               1.0        1.0   \n29884  40.0     40.0   40.0          0.0               1.0        1.0   \n\n       has_website  has_menu  distance  has_tcAward  atmosphere  \\\n8114           1.0       0.0       4.5          0.0         0.0   \n3135           1.0       0.0       0.2          0.0         0.0   \n27969          1.0       0.0       0.1          0.0        40.0   \n18887          1.0       0.0       0.3          0.0         0.0   \n32060          1.0       0.0       4.1          0.0         0.0   \n24836          1.0       0.0      -1.0          0.0         0.0   \n17122          1.0       0.0      -1.0          0.0        45.0   \n3778           1.0       0.0       0.5          0.0        35.0   \n16204          1.0       0.0       0.3          0.0         0.0   \n29884          1.0       0.0       0.2          1.0         0.0   \n\n       distance_isNAN  \n8114                0  \n3135                0  \n27969               0  \n18887               0  \n32060               0  \n24836               1  \n17122               1  \n3778                0  \n16204               0  \n29884               0  ",
      "text/html": "<div>\n<style scoped>\n    .dataframe tbody tr th:only-of-type {\n        vertical-align: middle;\n    }\n\n    .dataframe tbody tr th {\n        vertical-align: top;\n    }\n\n    .dataframe thead th {\n        text-align: right;\n    }\n</style>\n<table border=\"1\" class=\"dataframe\">\n  <thead>\n    <tr style=\"text-align: right;\">\n      <th></th>\n      <th>id</th>\n      <th>ta_id</th>\n      <th>ta_url</th>\n      <th>food</th>\n      <th>service</th>\n      <th>value</th>\n      <th>is_verified</th>\n      <th>has_phone_number</th>\n      <th>has_hours</th>\n      <th>has_website</th>\n      <th>has_menu</th>\n      <th>distance</th>\n      <th>has_tcAward</th>\n      <th>atmosphere</th>\n      <th>distance_isNAN</th>\n    </tr>\n  </thead>\n  <tbody>\n    <tr>\n      <th>8114</th>\n      <td>3114</td>\n      <td>d9596649</td>\n      <td>/Restaurant_Review-g274887-d9596649-Reviews-Ri...</td>\n      <td>40.0</td>\n      <td>40.0</td>\n      <td>45.0</td>\n      <td>0.0</td>\n      <td>1.0</td>\n      <td>1.0</td>\n      <td>1.0</td>\n      <td>0.0</td>\n      <td>4.5</td>\n      <td>0.0</td>\n      <td>0.0</td>\n      <td>0</td>\n    </tr>\n    <tr>\n      <th>3135</th>\n      <td>33135</td>\n      <td>d10700630</td>\n      <td>/Restaurant_Review-g189180-d10700630-Reviews-C...</td>\n      <td>45.0</td>\n      <td>45.0</td>\n      <td>40.0</td>\n      <td>0.0</td>\n      <td>1.0</td>\n      <td>1.0</td>\n      <td>1.0</td>\n      <td>0.0</td>\n      <td>0.2</td>\n      <td>0.0</td>\n      <td>0.0</td>\n      <td>0</td>\n    </tr>\n    <tr>\n      <th>27969</th>\n      <td>37969</td>\n      <td>d717324</td>\n      <td>/Restaurant_Review-g187514-d717324-Reviews-Lha...</td>\n      <td>40.0</td>\n      <td>40.0</td>\n      <td>30.0</td>\n      <td>0.0</td>\n      <td>1.0</td>\n      <td>1.0</td>\n      <td>1.0</td>\n      <td>0.0</td>\n      <td>0.1</td>\n      <td>0.0</td>\n      <td>40.0</td>\n      <td>0</td>\n    </tr>\n    <tr>\n      <th>18887</th>\n      <td>18887</td>\n      <td>d10671022</td>\n      <td>/Restaurant_Review-g189541-d10671022-Reviews-M...</td>\n      <td>0.0</td>\n      <td>40.0</td>\n      <td>45.0</td>\n      <td>0.0</td>\n      <td>1.0</td>\n      <td>1.0</td>\n      <td>1.0</td>\n      <td>0.0</td>\n      <td>0.3</td>\n      <td>0.0</td>\n      <td>0.0</td>\n      <td>0</td>\n    </tr>\n    <tr>\n      <th>32060</th>\n      <td>22060</td>\n      <td>d8006236</td>\n      <td>/Restaurant_Review-g274772-d8006236-Reviews-Pi...</td>\n      <td>0.0</td>\n      <td>0.0</td>\n      <td>0.0</td>\n      <td>0.0</td>\n      <td>1.0</td>\n      <td>1.0</td>\n      <td>1.0</td>\n      <td>0.0</td>\n      <td>4.1</td>\n      <td>0.0</td>\n      <td>0.0</td>\n      <td>0</td>\n    </tr>\n    <tr>\n      <th>24836</th>\n      <td>29836</td>\n      <td>d7246438</td>\n      <td>/Restaurant_Review-g274707-d7246438-Reviews-Kf...</td>\n      <td>0.0</td>\n      <td>0.0</td>\n      <td>0.0</td>\n      <td>0.0</td>\n      <td>1.0</td>\n      <td>1.0</td>\n      <td>1.0</td>\n      <td>0.0</td>\n      <td>-1.0</td>\n      <td>0.0</td>\n      <td>0.0</td>\n      <td>1</td>\n    </tr>\n    <tr>\n      <th>17122</th>\n      <td>17122</td>\n      <td>d4733344</td>\n      <td>/Restaurant_Review-g187849-d4733344-Reviews-Bl...</td>\n      <td>40.0</td>\n      <td>45.0</td>\n      <td>45.0</td>\n      <td>0.0</td>\n      <td>1.0</td>\n      <td>1.0</td>\n      <td>1.0</td>\n      <td>0.0</td>\n      <td>-1.0</td>\n      <td>0.0</td>\n      <td>45.0</td>\n      <td>1</td>\n    </tr>\n    <tr>\n      <th>3778</th>\n      <td>33778</td>\n      <td>d5774989</td>\n      <td>/Restaurant_Review-g187147-d5774989-Reviews-Bl...</td>\n      <td>30.0</td>\n      <td>35.0</td>\n      <td>25.0</td>\n      <td>0.0</td>\n      <td>1.0</td>\n      <td>1.0</td>\n      <td>1.0</td>\n      <td>0.0</td>\n      <td>0.5</td>\n      <td>0.0</td>\n      <td>35.0</td>\n      <td>0</td>\n    </tr>\n    <tr>\n      <th>16204</th>\n      <td>16204</td>\n      <td>d5122694</td>\n      <td>/Restaurant_Review-g186338-d5122694-Reviews-Fo...</td>\n      <td>0.0</td>\n      <td>0.0</td>\n      <td>0.0</td>\n      <td>0.0</td>\n      <td>1.0</td>\n      <td>1.0</td>\n      <td>1.0</td>\n      <td>0.0</td>\n      <td>0.3</td>\n      <td>0.0</td>\n      <td>0.0</td>\n      <td>0</td>\n    </tr>\n    <tr>\n      <th>29884</th>\n      <td>39884</td>\n      <td>d8177978</td>\n      <td>/Restaurant_Review-g187497-d8177978-Reviews-Di...</td>\n      <td>40.0</td>\n      <td>40.0</td>\n      <td>40.0</td>\n      <td>0.0</td>\n      <td>1.0</td>\n      <td>1.0</td>\n      <td>1.0</td>\n      <td>0.0</td>\n      <td>0.2</td>\n      <td>1.0</td>\n      <td>0.0</td>\n      <td>0</td>\n    </tr>\n  </tbody>\n</table>\n</div>"
     },
     "metadata": {},
     "execution_count": 62
    }
   ],
   "source": [
    "ta_df.sample(10)"
   ]
  },
  {
   "source": [
    "Добавим суммарный рейтинг на основе следующих признаков:\n",
    "\n",
    "* food\n",
    "* service\n",
    "* value\n",
    "* atmosphere"
   ],
   "cell_type": "markdown",
   "metadata": {}
  },
  {
   "cell_type": "code",
   "execution_count": 63,
   "metadata": {},
   "outputs": [
    {
     "output_type": "execute_result",
     "data": {
      "text/plain": "          id     ta_id                                             ta_url  \\\n31175  21175  d5959197  /Restaurant_Review-g189180-d5959197-Reviews-Ce...   \n8175    3175  d3324228  /Restaurant_Review-g190454-d3324228-Reviews-Ap...   \n20870  25870  d7139984  /Restaurant_Review-g186338-d7139984-Reviews-Ro...   \n18803  18803  d2234091  /Restaurant_Review-g187323-d2234091-Reviews-Me...   \n30565  20565  d1010644  /Restaurant_Review-g187791-d1010644-Reviews-Cl...   \n\n       food  service  value  is_verified  has_phone_number  has_hours  \\\n31175  40.0     35.0   35.0          0.0               1.0        1.0   \n8175   45.0     45.0   45.0          0.0               1.0        1.0   \n20870  40.0     40.0   35.0          0.0               1.0        1.0   \n18803   0.0      0.0    0.0          0.0               1.0        1.0   \n30565  40.0     40.0   35.0          0.0               1.0        1.0   \n\n       has_website  has_menu  distance  has_tcAward  atmosphere  \\\n31175          1.0       0.0      -1.0          0.0         0.0   \n8175           1.0       0.0       0.6          1.0        40.0   \n20870          1.0       0.0       0.8          1.0         0.0   \n18803          1.0       0.0       0.4          0.0         0.0   \n30565          1.0       0.0       0.1          0.0        35.0   \n\n       distance_isNAN  ratings_summary  \n31175               1            110.0  \n8175                0            175.0  \n20870               0            115.0  \n18803               0              0.0  \n30565               0            150.0  ",
      "text/html": "<div>\n<style scoped>\n    .dataframe tbody tr th:only-of-type {\n        vertical-align: middle;\n    }\n\n    .dataframe tbody tr th {\n        vertical-align: top;\n    }\n\n    .dataframe thead th {\n        text-align: right;\n    }\n</style>\n<table border=\"1\" class=\"dataframe\">\n  <thead>\n    <tr style=\"text-align: right;\">\n      <th></th>\n      <th>id</th>\n      <th>ta_id</th>\n      <th>ta_url</th>\n      <th>food</th>\n      <th>service</th>\n      <th>value</th>\n      <th>is_verified</th>\n      <th>has_phone_number</th>\n      <th>has_hours</th>\n      <th>has_website</th>\n      <th>has_menu</th>\n      <th>distance</th>\n      <th>has_tcAward</th>\n      <th>atmosphere</th>\n      <th>distance_isNAN</th>\n      <th>ratings_summary</th>\n    </tr>\n  </thead>\n  <tbody>\n    <tr>\n      <th>31175</th>\n      <td>21175</td>\n      <td>d5959197</td>\n      <td>/Restaurant_Review-g189180-d5959197-Reviews-Ce...</td>\n      <td>40.0</td>\n      <td>35.0</td>\n      <td>35.0</td>\n      <td>0.0</td>\n      <td>1.0</td>\n      <td>1.0</td>\n      <td>1.0</td>\n      <td>0.0</td>\n      <td>-1.0</td>\n      <td>0.0</td>\n      <td>0.0</td>\n      <td>1</td>\n      <td>110.0</td>\n    </tr>\n    <tr>\n      <th>8175</th>\n      <td>3175</td>\n      <td>d3324228</td>\n      <td>/Restaurant_Review-g190454-d3324228-Reviews-Ap...</td>\n      <td>45.0</td>\n      <td>45.0</td>\n      <td>45.0</td>\n      <td>0.0</td>\n      <td>1.0</td>\n      <td>1.0</td>\n      <td>1.0</td>\n      <td>0.0</td>\n      <td>0.6</td>\n      <td>1.0</td>\n      <td>40.0</td>\n      <td>0</td>\n      <td>175.0</td>\n    </tr>\n    <tr>\n      <th>20870</th>\n      <td>25870</td>\n      <td>d7139984</td>\n      <td>/Restaurant_Review-g186338-d7139984-Reviews-Ro...</td>\n      <td>40.0</td>\n      <td>40.0</td>\n      <td>35.0</td>\n      <td>0.0</td>\n      <td>1.0</td>\n      <td>1.0</td>\n      <td>1.0</td>\n      <td>0.0</td>\n      <td>0.8</td>\n      <td>1.0</td>\n      <td>0.0</td>\n      <td>0</td>\n      <td>115.0</td>\n    </tr>\n    <tr>\n      <th>18803</th>\n      <td>18803</td>\n      <td>d2234091</td>\n      <td>/Restaurant_Review-g187323-d2234091-Reviews-Me...</td>\n      <td>0.0</td>\n      <td>0.0</td>\n      <td>0.0</td>\n      <td>0.0</td>\n      <td>1.0</td>\n      <td>1.0</td>\n      <td>1.0</td>\n      <td>0.0</td>\n      <td>0.4</td>\n      <td>0.0</td>\n      <td>0.0</td>\n      <td>0</td>\n      <td>0.0</td>\n    </tr>\n    <tr>\n      <th>30565</th>\n      <td>20565</td>\n      <td>d1010644</td>\n      <td>/Restaurant_Review-g187791-d1010644-Reviews-Cl...</td>\n      <td>40.0</td>\n      <td>40.0</td>\n      <td>35.0</td>\n      <td>0.0</td>\n      <td>1.0</td>\n      <td>1.0</td>\n      <td>1.0</td>\n      <td>0.0</td>\n      <td>0.1</td>\n      <td>0.0</td>\n      <td>35.0</td>\n      <td>0</td>\n      <td>150.0</td>\n    </tr>\n  </tbody>\n</table>\n</div>"
     },
     "metadata": {},
     "execution_count": 63
    }
   ],
   "source": [
    "# ta_df['ratings_summary'] = ta_df.apply(lambda x: x['food'] + x['service'] + x['value'] + x['atmosphere'], axis=1)\n",
    "# ta_df.sample(5)"
   ]
  },
  {
   "source": [
    "Удалим ненужные нам колонки"
   ],
   "cell_type": "markdown",
   "metadata": {}
  },
  {
   "cell_type": "code",
   "execution_count": 64,
   "metadata": {
    "tags": []
   },
   "outputs": [
    {
     "output_type": "stream",
     "name": "stdout",
     "text": "<class 'pandas.core.frame.DataFrame'>\nRangeIndex: 40000 entries, 0 to 39999\nData columns (total 14 columns):\n #   Column            Non-Null Count  Dtype  \n---  ------            --------------  -----  \n 0   ta_id             40000 non-null  object \n 1   food              40000 non-null  float64\n 2   service           40000 non-null  float64\n 3   value             40000 non-null  float64\n 4   is_verified       40000 non-null  float64\n 5   has_phone_number  40000 non-null  float64\n 6   has_hours         40000 non-null  float64\n 7   has_website       40000 non-null  float64\n 8   has_menu          40000 non-null  float64\n 9   distance          40000 non-null  float64\n 10  has_tcAward       40000 non-null  float64\n 11  atmosphere        40000 non-null  float64\n 12  distance_isNAN    40000 non-null  uint8  \n 13  ratings_summary   40000 non-null  float64\ndtypes: float64(12), object(1), uint8(1)\nmemory usage: 4.0+ MB\n"
    }
   ],
   "source": [
    "# ta_df.drop(columns=['id', 'ta_url'], inplace=True)\n",
    "# ta_df.info()"
   ]
  },
  {
   "source": [
    "Сохраним подготовленные данные в формате csv."
   ],
   "cell_type": "markdown",
   "metadata": {}
  },
  {
   "cell_type": "code",
   "execution_count": 65,
   "metadata": {},
   "outputs": [],
   "source": [
    "# ta_df.to_csv('./data/ta_data.csv', index=False)"
   ]
  },
  {
   "source": [
    "Далее будем работать с данными сайта используя выгруженный csv файл."
   ],
   "cell_type": "markdown",
   "metadata": {}
  },
  {
   "cell_type": "code",
   "execution_count": 66,
   "metadata": {
    "tags": []
   },
   "outputs": [
    {
     "output_type": "stream",
     "name": "stdout",
     "text": "<class 'pandas.core.frame.DataFrame'>\nRangeIndex: 40000 entries, 0 to 39999\nData columns (total 14 columns):\n #   Column            Non-Null Count  Dtype  \n---  ------            --------------  -----  \n 0   ta_id             40000 non-null  object \n 1   food              40000 non-null  float64\n 2   service           40000 non-null  float64\n 3   value             40000 non-null  float64\n 4   is_verified       40000 non-null  float64\n 5   has_phone_number  40000 non-null  float64\n 6   has_hours         40000 non-null  float64\n 7   has_website       40000 non-null  float64\n 8   has_menu          40000 non-null  float64\n 9   distance          40000 non-null  float64\n 10  has_tcAward       40000 non-null  float64\n 11  atmosphere        40000 non-null  float64\n 12  distance_isNAN    40000 non-null  int64  \n 13  ratings_summary   40000 non-null  float64\ndtypes: float64(12), int64(1), object(1)\nmemory usage: 4.3+ MB\n"
    },
    {
     "output_type": "execute_result",
     "data": {
      "text/plain": "           ta_id  food  service  value  is_verified  has_phone_number  \\\n11910   d4427973   0.0      0.0    0.0          0.0               0.0   \n9139    d7622906  45.0     45.0   45.0          0.0               1.0   \n15405  d10758185   0.0      0.0    0.0          0.0               1.0   \n37805  d12883647  40.0     40.0   35.0          0.0               1.0   \n27096   d2100039  40.0     35.0   40.0          0.0               1.0   \n\n       has_hours  has_website  has_menu  distance  has_tcAward  atmosphere  \\\n11910        0.0          0.0       0.0      -1.0          0.0         0.0   \n9139         1.0          1.0       0.0       0.4          0.0         0.0   \n15405        1.0          1.0       0.0       0.1          0.0         0.0   \n37805        1.0          1.0       0.0       0.4          1.0         0.0   \n27096        1.0          1.0       0.0       0.1          1.0        35.0   \n\n       distance_isNAN  ratings_summary  \n11910               1              0.0  \n9139                0            135.0  \n15405               0              0.0  \n37805               0            115.0  \n27096               0            150.0  ",
      "text/html": "<div>\n<style scoped>\n    .dataframe tbody tr th:only-of-type {\n        vertical-align: middle;\n    }\n\n    .dataframe tbody tr th {\n        vertical-align: top;\n    }\n\n    .dataframe thead th {\n        text-align: right;\n    }\n</style>\n<table border=\"1\" class=\"dataframe\">\n  <thead>\n    <tr style=\"text-align: right;\">\n      <th></th>\n      <th>ta_id</th>\n      <th>food</th>\n      <th>service</th>\n      <th>value</th>\n      <th>is_verified</th>\n      <th>has_phone_number</th>\n      <th>has_hours</th>\n      <th>has_website</th>\n      <th>has_menu</th>\n      <th>distance</th>\n      <th>has_tcAward</th>\n      <th>atmosphere</th>\n      <th>distance_isNAN</th>\n      <th>ratings_summary</th>\n    </tr>\n  </thead>\n  <tbody>\n    <tr>\n      <th>11910</th>\n      <td>d4427973</td>\n      <td>0.0</td>\n      <td>0.0</td>\n      <td>0.0</td>\n      <td>0.0</td>\n      <td>0.0</td>\n      <td>0.0</td>\n      <td>0.0</td>\n      <td>0.0</td>\n      <td>-1.0</td>\n      <td>0.0</td>\n      <td>0.0</td>\n      <td>1</td>\n      <td>0.0</td>\n    </tr>\n    <tr>\n      <th>9139</th>\n      <td>d7622906</td>\n      <td>45.0</td>\n      <td>45.0</td>\n      <td>45.0</td>\n      <td>0.0</td>\n      <td>1.0</td>\n      <td>1.0</td>\n      <td>1.0</td>\n      <td>0.0</td>\n      <td>0.4</td>\n      <td>0.0</td>\n      <td>0.0</td>\n      <td>0</td>\n      <td>135.0</td>\n    </tr>\n    <tr>\n      <th>15405</th>\n      <td>d10758185</td>\n      <td>0.0</td>\n      <td>0.0</td>\n      <td>0.0</td>\n      <td>0.0</td>\n      <td>1.0</td>\n      <td>1.0</td>\n      <td>1.0</td>\n      <td>0.0</td>\n      <td>0.1</td>\n      <td>0.0</td>\n      <td>0.0</td>\n      <td>0</td>\n      <td>0.0</td>\n    </tr>\n    <tr>\n      <th>37805</th>\n      <td>d12883647</td>\n      <td>40.0</td>\n      <td>40.0</td>\n      <td>35.0</td>\n      <td>0.0</td>\n      <td>1.0</td>\n      <td>1.0</td>\n      <td>1.0</td>\n      <td>0.0</td>\n      <td>0.4</td>\n      <td>1.0</td>\n      <td>0.0</td>\n      <td>0</td>\n      <td>115.0</td>\n    </tr>\n    <tr>\n      <th>27096</th>\n      <td>d2100039</td>\n      <td>40.0</td>\n      <td>35.0</td>\n      <td>40.0</td>\n      <td>0.0</td>\n      <td>1.0</td>\n      <td>1.0</td>\n      <td>1.0</td>\n      <td>0.0</td>\n      <td>0.1</td>\n      <td>1.0</td>\n      <td>35.0</td>\n      <td>0</td>\n      <td>150.0</td>\n    </tr>\n  </tbody>\n</table>\n</div>"
     },
     "metadata": {},
     "execution_count": 66
    }
   ],
   "source": [
    "ta_df = pd.read_csv(DATA_DIR + '/ta_data.csv')\n",
    "ta_df.info()\n",
    "ta_df.sample(5)"
   ]
  },
  {
   "source": [
    "Добавим данные полученные с сайта к основному датасету."
   ],
   "cell_type": "markdown",
   "metadata": {}
  },
  {
   "cell_type": "code",
   "execution_count": 67,
   "metadata": {},
   "outputs": [],
   "source": [
    "def add_site_data(df):\n",
    "    return pd.merge(df, ta_df, left_on='ID_TA', right_on='ta_id')\n",
    "\n",
    "data = add_site_data(data)"
   ]
  },
  {
   "cell_type": "code",
   "execution_count": 68,
   "metadata": {
    "tags": []
   },
   "outputs": [
    {
     "output_type": "stream",
     "name": "stdout",
     "text": "<class 'pandas.core.frame.DataFrame'>\nInt64Index: 40040 entries, 0 to 40039\nColumns: 111 entries, Restaurant_id to ratings_summary\ndtypes: datetime64[ns](2), float64(20), int64(48), object(6), uint8(35)\nmemory usage: 24.9+ MB\n"
    },
    {
     "output_type": "execute_result",
     "data": {
      "text/plain": "      Restaurant_id                                      Cuisine Style  \\\n33448       id_8786                                                NaN   \n31613      id_11277  ['French', 'International', 'Delicatessen', 'S...   \n15533       id_2758                                                NaN   \n18020        id_617                                                NaN   \n18979       id_5403                          ['Bar', 'British', 'Pub']   \n\n       Ranking  Rating  Price Range  Number of Reviews  \\\n33448   8788.0     4.5          2.0                2.0   \n31613  11279.0     3.5          1.0               18.0   \n15533   2760.0     5.0          2.0                9.0   \n18020    618.0     4.0          2.0               19.0   \n18979   5412.0     3.5          2.0              189.0   \n\n                                                 Reviews  \\\n33448           [['Delicious Take Out'], ['10/25/2014']]   \n31613  [['Sometimes good, sometimes terrible'], ['07/...   \n15533  [['Great service', 'Good coffee, great cake'],...   \n18020  [['Great buzz, al fresco dining and good food'...   \n18979  [['Nice pub fine food and good atmosphere', 'E...   \n\n                                                  URL_TA      ID_TA  \\\n33448  /Restaurant_Review-g187147-d7177191-Reviews-Se...   d7177191   \n31613  /Restaurant_Review-g187147-d8463035-Reviews-Sh...   d8463035   \n15533  /Restaurant_Review-g187323-d8621310-Reviews-Ka...   d8621310   \n18020  /Restaurant_Review-g189852-d10844929-Reviews-M...  d10844929   \n18979  /Restaurant_Review-g186338-d2704239-Reviews-Th...   d2704239   \n\n       Number_of_Reviews_isNAN  ...  is_verified  has_phone_number  has_hours  \\\n33448                        0  ...          0.0               1.0        1.0   \n31613                        0  ...          0.0               1.0        1.0   \n15533                        0  ...          0.0               1.0        1.0   \n18020                        0  ...          0.0               1.0        1.0   \n18979                        0  ...          0.0               1.0        1.0   \n\n       has_website  has_menu  distance  has_tcAward  atmosphere  \\\n33448          1.0       0.0      -1.0          0.0         0.0   \n31613          1.0       0.0      -1.0          0.0         0.0   \n15533          1.0       0.0      -1.0          0.0         0.0   \n18020          1.0       0.0       0.7          0.0         0.0   \n18979          1.0       0.0       0.6          0.0        35.0   \n\n       distance_isNAN  ratings_summary  \n33448               1              0.0  \n31613               1            105.0  \n15533               1            130.0  \n18020               0            125.0  \n18979               0            140.0  \n\n[5 rows x 111 columns]",
      "text/html": "<div>\n<style scoped>\n    .dataframe tbody tr th:only-of-type {\n        vertical-align: middle;\n    }\n\n    .dataframe tbody tr th {\n        vertical-align: top;\n    }\n\n    .dataframe thead th {\n        text-align: right;\n    }\n</style>\n<table border=\"1\" class=\"dataframe\">\n  <thead>\n    <tr style=\"text-align: right;\">\n      <th></th>\n      <th>Restaurant_id</th>\n      <th>Cuisine Style</th>\n      <th>Ranking</th>\n      <th>Rating</th>\n      <th>Price Range</th>\n      <th>Number of Reviews</th>\n      <th>Reviews</th>\n      <th>URL_TA</th>\n      <th>ID_TA</th>\n      <th>Number_of_Reviews_isNAN</th>\n      <th>...</th>\n      <th>is_verified</th>\n      <th>has_phone_number</th>\n      <th>has_hours</th>\n      <th>has_website</th>\n      <th>has_menu</th>\n      <th>distance</th>\n      <th>has_tcAward</th>\n      <th>atmosphere</th>\n      <th>distance_isNAN</th>\n      <th>ratings_summary</th>\n    </tr>\n  </thead>\n  <tbody>\n    <tr>\n      <th>33448</th>\n      <td>id_8786</td>\n      <td>NaN</td>\n      <td>8788.0</td>\n      <td>4.5</td>\n      <td>2.0</td>\n      <td>2.0</td>\n      <td>[['Delicious Take Out'], ['10/25/2014']]</td>\n      <td>/Restaurant_Review-g187147-d7177191-Reviews-Se...</td>\n      <td>d7177191</td>\n      <td>0</td>\n      <td>...</td>\n      <td>0.0</td>\n      <td>1.0</td>\n      <td>1.0</td>\n      <td>1.0</td>\n      <td>0.0</td>\n      <td>-1.0</td>\n      <td>0.0</td>\n      <td>0.0</td>\n      <td>1</td>\n      <td>0.0</td>\n    </tr>\n    <tr>\n      <th>31613</th>\n      <td>id_11277</td>\n      <td>['French', 'International', 'Delicatessen', 'S...</td>\n      <td>11279.0</td>\n      <td>3.5</td>\n      <td>1.0</td>\n      <td>18.0</td>\n      <td>[['Sometimes good, sometimes terrible'], ['07/...</td>\n      <td>/Restaurant_Review-g187147-d8463035-Reviews-Sh...</td>\n      <td>d8463035</td>\n      <td>0</td>\n      <td>...</td>\n      <td>0.0</td>\n      <td>1.0</td>\n      <td>1.0</td>\n      <td>1.0</td>\n      <td>0.0</td>\n      <td>-1.0</td>\n      <td>0.0</td>\n      <td>0.0</td>\n      <td>1</td>\n      <td>105.0</td>\n    </tr>\n    <tr>\n      <th>15533</th>\n      <td>id_2758</td>\n      <td>NaN</td>\n      <td>2760.0</td>\n      <td>5.0</td>\n      <td>2.0</td>\n      <td>9.0</td>\n      <td>[['Great service', 'Good coffee, great cake'],...</td>\n      <td>/Restaurant_Review-g187323-d8621310-Reviews-Ka...</td>\n      <td>d8621310</td>\n      <td>0</td>\n      <td>...</td>\n      <td>0.0</td>\n      <td>1.0</td>\n      <td>1.0</td>\n      <td>1.0</td>\n      <td>0.0</td>\n      <td>-1.0</td>\n      <td>0.0</td>\n      <td>0.0</td>\n      <td>1</td>\n      <td>130.0</td>\n    </tr>\n    <tr>\n      <th>18020</th>\n      <td>id_617</td>\n      <td>NaN</td>\n      <td>618.0</td>\n      <td>4.0</td>\n      <td>2.0</td>\n      <td>19.0</td>\n      <td>[['Great buzz, al fresco dining and good food'...</td>\n      <td>/Restaurant_Review-g189852-d10844929-Reviews-M...</td>\n      <td>d10844929</td>\n      <td>0</td>\n      <td>...</td>\n      <td>0.0</td>\n      <td>1.0</td>\n      <td>1.0</td>\n      <td>1.0</td>\n      <td>0.0</td>\n      <td>0.7</td>\n      <td>0.0</td>\n      <td>0.0</td>\n      <td>0</td>\n      <td>125.0</td>\n    </tr>\n    <tr>\n      <th>18979</th>\n      <td>id_5403</td>\n      <td>['Bar', 'British', 'Pub']</td>\n      <td>5412.0</td>\n      <td>3.5</td>\n      <td>2.0</td>\n      <td>189.0</td>\n      <td>[['Nice pub fine food and good atmosphere', 'E...</td>\n      <td>/Restaurant_Review-g186338-d2704239-Reviews-Th...</td>\n      <td>d2704239</td>\n      <td>0</td>\n      <td>...</td>\n      <td>0.0</td>\n      <td>1.0</td>\n      <td>1.0</td>\n      <td>1.0</td>\n      <td>0.0</td>\n      <td>0.6</td>\n      <td>0.0</td>\n      <td>35.0</td>\n      <td>0</td>\n      <td>140.0</td>\n    </tr>\n  </tbody>\n</table>\n<p>5 rows × 111 columns</p>\n</div>"
     },
     "metadata": {},
     "execution_count": 68
    }
   ],
   "source": [
    "data.info()\n",
    "data.sample(5)"
   ]
  },
  {
   "source": [
    "Удалим все признаки, не являющиесь числовыми."
   ],
   "cell_type": "markdown",
   "metadata": {}
  },
  {
   "cell_type": "code",
   "execution_count": 69,
   "metadata": {
    "tags": []
   },
   "outputs": [
    {
     "output_type": "stream",
     "name": "stdout",
     "text": "<class 'pandas.core.frame.DataFrame'>\nInt64Index: 40040 entries, 0 to 40039\nColumns: 103 entries, Ranking to ratings_summary\ndtypes: float64(20), int64(48), uint8(35)\nmemory usage: 22.4 MB\n"
    }
   ],
   "source": [
    "object_cols = list(data.select_dtypes(include=['object', 'datetime64[ns]', 'timedelta64[ns]']).columns)\n",
    "data = data.drop(labels=object_cols, axis=1)\n",
    "data.info()"
   ]
  },
  {
   "source": [
    "### Нормализация данных"
   ],
   "cell_type": "markdown",
   "metadata": {}
  },
  {
   "cell_type": "code",
   "execution_count": 70,
   "metadata": {
    "tags": []
   },
   "outputs": [
    {
     "output_type": "stream",
     "name": "stdout",
     "text": "<class 'pandas.core.frame.DataFrame'>\nInt64Index: 40040 entries, 0 to 40039\nData columns (total 14 columns):\n #   Column                            Non-Null Count  Dtype  \n---  ------                            --------------  -----  \n 0   Number of Reviews                 40040 non-null  float64\n 1   Ranking                           40040 non-null  float64\n 2   Review_Time_Delta                 40040 non-null  float64\n 3   Ranking_Delta                     40040 non-null  float64\n 4   Reviews_Number_City_Median_Delta  40040 non-null  float64\n 5   Cuisine_Style_Count_Delta         40040 non-null  int64  \n 6   Price_Range_Delta                 40040 non-null  float64\n 7   Reviews_Number_City_Median_Delta  40040 non-null  float64\n 8   food                              40040 non-null  float64\n 9   service                           40040 non-null  float64\n 10  value                             40040 non-null  float64\n 11  distance                          40040 non-null  float64\n 12  atmosphere                        40040 non-null  float64\n 13  ratings_summary                   40040 non-null  float64\ndtypes: float64(13), int64(1)\nmemory usage: 4.6 MB\n"
    },
    {
     "output_type": "execute_result",
     "data": {
      "text/plain": "        Ranking  Rating  Price Range  Number of Reviews  \\\n3798   3.087750     3.0          2.0           0.831361   \n20213 -0.462093     4.0          2.0           0.021248   \n11199  0.242750     4.0          2.0          -0.395978   \n30556  0.183137     4.5          2.0          -0.312533   \n16494 -0.149459     4.5          2.0          -0.079582   \n24840  2.443060     3.0          2.0          -0.392501   \n16884 -0.550030     4.0          2.0          -0.357732   \n30297 -0.069075     5.0          1.0          -0.284717   \n27028  0.172886     4.5          2.0          -0.399454   \n3062  -0.894495     4.0          2.0          -0.395978   \n\n       Number_of_Reviews_isNAN  Price_Range_isNAN  Cuisine Style Count  \\\n3798                         0                  0                    1   \n20213                        0                  0                    5   \n11199                        0                  1                    1   \n30556                        0                  0                    2   \n16494                        0                  0                    1   \n24840                        0                  1                    1   \n16884                        0                  1                    1   \n30297                        0                  0                    6   \n27028                        0                  1                    1   \n3062                         0                  0                    4   \n\n       Cuisine_Style_isNAN  Cuisine_Mediterranean  Cuisine_Seafood  ...  \\\n3798                     0                      0                0  ...   \n20213                    0                      1                0  ...   \n11199                    0                      1                0  ...   \n30556                    0                      0                1  ...   \n16494                    0                      0                0  ...   \n24840                    0                      0                0  ...   \n16884                    1                      0                0  ...   \n30297                    0                      1                0  ...   \n27028                    1                      0                0  ...   \n3062                     0                      1                1  ...   \n\n       is_verified  has_phone_number  has_hours  has_website  has_menu  \\\n3798           0.0               1.0        1.0          1.0       0.0   \n20213          0.0               1.0        1.0          1.0       0.0   \n11199          0.0               1.0        1.0          1.0       0.0   \n30556          0.0               0.0        0.0          0.0       0.0   \n16494          0.0               1.0        1.0          1.0       0.0   \n24840          0.0               1.0        1.0          1.0       0.0   \n16884          0.0               1.0        1.0          1.0       0.0   \n30297          0.0               1.0        1.0          1.0       0.0   \n27028          0.0               1.0        1.0          1.0       0.0   \n3062           0.0               1.0        1.0          1.0       0.0   \n\n       distance  has_tcAward  atmosphere  distance_isNAN  ratings_summary  \n3798  -0.152418          0.0    0.874726               0         0.445163  \n20213  0.527898          0.0    1.409200               0         1.036431  \n11199  0.722274          0.0   -0.728694               0        -1.402547  \n30556 -1.221487          0.0   -0.728694               1        -1.402547  \n16494 -1.221487          0.0    1.409200               1         1.258156  \n24840  0.333522          0.0   -0.728694               0        -1.402547  \n16884 -1.221487          0.0   -0.728694               1         0.371255  \n30297  0.236334          0.0   -0.728694               0         0.666889  \n27028  2.568848          0.0   -0.728694               0        -1.402547  \n3062  -0.152418          0.0   -0.728694               0         0.666889  \n\n[10 rows x 103 columns]",
      "text/html": "<div>\n<style scoped>\n    .dataframe tbody tr th:only-of-type {\n        vertical-align: middle;\n    }\n\n    .dataframe tbody tr th {\n        vertical-align: top;\n    }\n\n    .dataframe thead th {\n        text-align: right;\n    }\n</style>\n<table border=\"1\" class=\"dataframe\">\n  <thead>\n    <tr style=\"text-align: right;\">\n      <th></th>\n      <th>Ranking</th>\n      <th>Rating</th>\n      <th>Price Range</th>\n      <th>Number of Reviews</th>\n      <th>Number_of_Reviews_isNAN</th>\n      <th>Price_Range_isNAN</th>\n      <th>Cuisine Style Count</th>\n      <th>Cuisine_Style_isNAN</th>\n      <th>Cuisine_Mediterranean</th>\n      <th>Cuisine_Seafood</th>\n      <th>...</th>\n      <th>is_verified</th>\n      <th>has_phone_number</th>\n      <th>has_hours</th>\n      <th>has_website</th>\n      <th>has_menu</th>\n      <th>distance</th>\n      <th>has_tcAward</th>\n      <th>atmosphere</th>\n      <th>distance_isNAN</th>\n      <th>ratings_summary</th>\n    </tr>\n  </thead>\n  <tbody>\n    <tr>\n      <th>3798</th>\n      <td>3.087750</td>\n      <td>3.0</td>\n      <td>2.0</td>\n      <td>0.831361</td>\n      <td>0</td>\n      <td>0</td>\n      <td>1</td>\n      <td>0</td>\n      <td>0</td>\n      <td>0</td>\n      <td>...</td>\n      <td>0.0</td>\n      <td>1.0</td>\n      <td>1.0</td>\n      <td>1.0</td>\n      <td>0.0</td>\n      <td>-0.152418</td>\n      <td>0.0</td>\n      <td>0.874726</td>\n      <td>0</td>\n      <td>0.445163</td>\n    </tr>\n    <tr>\n      <th>20213</th>\n      <td>-0.462093</td>\n      <td>4.0</td>\n      <td>2.0</td>\n      <td>0.021248</td>\n      <td>0</td>\n      <td>0</td>\n      <td>5</td>\n      <td>0</td>\n      <td>1</td>\n      <td>0</td>\n      <td>...</td>\n      <td>0.0</td>\n      <td>1.0</td>\n      <td>1.0</td>\n      <td>1.0</td>\n      <td>0.0</td>\n      <td>0.527898</td>\n      <td>0.0</td>\n      <td>1.409200</td>\n      <td>0</td>\n      <td>1.036431</td>\n    </tr>\n    <tr>\n      <th>11199</th>\n      <td>0.242750</td>\n      <td>4.0</td>\n      <td>2.0</td>\n      <td>-0.395978</td>\n      <td>0</td>\n      <td>1</td>\n      <td>1</td>\n      <td>0</td>\n      <td>1</td>\n      <td>0</td>\n      <td>...</td>\n      <td>0.0</td>\n      <td>1.0</td>\n      <td>1.0</td>\n      <td>1.0</td>\n      <td>0.0</td>\n      <td>0.722274</td>\n      <td>0.0</td>\n      <td>-0.728694</td>\n      <td>0</td>\n      <td>-1.402547</td>\n    </tr>\n    <tr>\n      <th>30556</th>\n      <td>0.183137</td>\n      <td>4.5</td>\n      <td>2.0</td>\n      <td>-0.312533</td>\n      <td>0</td>\n      <td>0</td>\n      <td>2</td>\n      <td>0</td>\n      <td>0</td>\n      <td>1</td>\n      <td>...</td>\n      <td>0.0</td>\n      <td>0.0</td>\n      <td>0.0</td>\n      <td>0.0</td>\n      <td>0.0</td>\n      <td>-1.221487</td>\n      <td>0.0</td>\n      <td>-0.728694</td>\n      <td>1</td>\n      <td>-1.402547</td>\n    </tr>\n    <tr>\n      <th>16494</th>\n      <td>-0.149459</td>\n      <td>4.5</td>\n      <td>2.0</td>\n      <td>-0.079582</td>\n      <td>0</td>\n      <td>0</td>\n      <td>1</td>\n      <td>0</td>\n      <td>0</td>\n      <td>0</td>\n      <td>...</td>\n      <td>0.0</td>\n      <td>1.0</td>\n      <td>1.0</td>\n      <td>1.0</td>\n      <td>0.0</td>\n      <td>-1.221487</td>\n      <td>0.0</td>\n      <td>1.409200</td>\n      <td>1</td>\n      <td>1.258156</td>\n    </tr>\n    <tr>\n      <th>24840</th>\n      <td>2.443060</td>\n      <td>3.0</td>\n      <td>2.0</td>\n      <td>-0.392501</td>\n      <td>0</td>\n      <td>1</td>\n      <td>1</td>\n      <td>0</td>\n      <td>0</td>\n      <td>0</td>\n      <td>...</td>\n      <td>0.0</td>\n      <td>1.0</td>\n      <td>1.0</td>\n      <td>1.0</td>\n      <td>0.0</td>\n      <td>0.333522</td>\n      <td>0.0</td>\n      <td>-0.728694</td>\n      <td>0</td>\n      <td>-1.402547</td>\n    </tr>\n    <tr>\n      <th>16884</th>\n      <td>-0.550030</td>\n      <td>4.0</td>\n      <td>2.0</td>\n      <td>-0.357732</td>\n      <td>0</td>\n      <td>1</td>\n      <td>1</td>\n      <td>1</td>\n      <td>0</td>\n      <td>0</td>\n      <td>...</td>\n      <td>0.0</td>\n      <td>1.0</td>\n      <td>1.0</td>\n      <td>1.0</td>\n      <td>0.0</td>\n      <td>-1.221487</td>\n      <td>0.0</td>\n      <td>-0.728694</td>\n      <td>1</td>\n      <td>0.371255</td>\n    </tr>\n    <tr>\n      <th>30297</th>\n      <td>-0.069075</td>\n      <td>5.0</td>\n      <td>1.0</td>\n      <td>-0.284717</td>\n      <td>0</td>\n      <td>0</td>\n      <td>6</td>\n      <td>0</td>\n      <td>1</td>\n      <td>0</td>\n      <td>...</td>\n      <td>0.0</td>\n      <td>1.0</td>\n      <td>1.0</td>\n      <td>1.0</td>\n      <td>0.0</td>\n      <td>0.236334</td>\n      <td>0.0</td>\n      <td>-0.728694</td>\n      <td>0</td>\n      <td>0.666889</td>\n    </tr>\n    <tr>\n      <th>27028</th>\n      <td>0.172886</td>\n      <td>4.5</td>\n      <td>2.0</td>\n      <td>-0.399454</td>\n      <td>0</td>\n      <td>1</td>\n      <td>1</td>\n      <td>1</td>\n      <td>0</td>\n      <td>0</td>\n      <td>...</td>\n      <td>0.0</td>\n      <td>1.0</td>\n      <td>1.0</td>\n      <td>1.0</td>\n      <td>0.0</td>\n      <td>2.568848</td>\n      <td>0.0</td>\n      <td>-0.728694</td>\n      <td>0</td>\n      <td>-1.402547</td>\n    </tr>\n    <tr>\n      <th>3062</th>\n      <td>-0.894495</td>\n      <td>4.0</td>\n      <td>2.0</td>\n      <td>-0.395978</td>\n      <td>0</td>\n      <td>0</td>\n      <td>4</td>\n      <td>0</td>\n      <td>1</td>\n      <td>1</td>\n      <td>...</td>\n      <td>0.0</td>\n      <td>1.0</td>\n      <td>1.0</td>\n      <td>1.0</td>\n      <td>0.0</td>\n      <td>-0.152418</td>\n      <td>0.0</td>\n      <td>-0.728694</td>\n      <td>0</td>\n      <td>0.666889</td>\n    </tr>\n  </tbody>\n</table>\n<p>10 rows × 103 columns</p>\n</div>"
     },
     "metadata": {},
     "execution_count": 70
    }
   ],
   "source": [
    "from sklearn.preprocessing import MinMaxScaler\n",
    "from sklearn.preprocessing import StandardScaler\n",
    "\n",
    "columns_for_scaling = [\n",
    "    'Number of Reviews', \n",
    "    'Ranking', \n",
    "    'Review_Time_Delta', \n",
    "    'Ranking_Delta', \n",
    "    'Reviews_Number_City_Median_Delta', \n",
    "    'Cuisine_Style_Count_Delta', \n",
    "    'Price_Range_Delta', \n",
    "    'Reviews_Number_City_Median_Delta',\n",
    "    'food',\n",
    "    'service',\n",
    "    'value',\n",
    "    'distance',\n",
    "    'atmosphere',\n",
    "    'ratings_summary'\n",
    "    ]\n",
    "\n",
    "scaled_df = data[columns_for_scaling]\n",
    "scaled_df.info()\n",
    "\n",
    "scaler = StandardScaler()\n",
    "scaled = scaler.fit_transform(scaled_df)\n",
    "scaled_df = pd.DataFrame(scaled)\n",
    "scaled_df.columns = columns_for_scaling\n",
    "\n",
    "for col in columns_for_scaling:\n",
    "    data[col] = scaled_df[col]\n",
    "\n",
    "data.sample(10)"
   ]
  },
  {
   "cell_type": "markdown",
   "metadata": {},
   "source": [
    "# Разбиваем датафрейм на части, необходимые для обучения и тестирования модели"
   ]
  },
  {
   "cell_type": "code",
   "execution_count": 71,
   "metadata": {},
   "outputs": [
    {
     "output_type": "error",
     "ename": "KeyError",
     "evalue": "\"['Restaurant_id'] not found in axis\"",
     "traceback": [
      "\u001b[0;31m---------------------------------------------------------------------------\u001b[0m",
      "\u001b[0;31mKeyError\u001b[0m                                  Traceback (most recent call last)",
      "\u001b[0;32m<ipython-input-71-e691131ac9ff>\u001b[0m in \u001b[0;36m<module>\u001b[0;34m\u001b[0m\n\u001b[1;32m      1\u001b[0m \u001b[0;31m# Х - данные с информацией о ресторанах, у - целевая переменная (рейтинги ресторанов)\u001b[0m\u001b[0;34m\u001b[0m\u001b[0;34m\u001b[0m\u001b[0;34m\u001b[0m\u001b[0m\n\u001b[0;32m----> 2\u001b[0;31m \u001b[0mX\u001b[0m \u001b[0;34m=\u001b[0m \u001b[0mdata\u001b[0m\u001b[0;34m.\u001b[0m\u001b[0mdrop\u001b[0m\u001b[0;34m(\u001b[0m\u001b[0;34m[\u001b[0m\u001b[0;34m'Restaurant_id'\u001b[0m\u001b[0;34m,\u001b[0m \u001b[0;34m'Rating'\u001b[0m\u001b[0;34m]\u001b[0m\u001b[0;34m,\u001b[0m \u001b[0maxis\u001b[0m \u001b[0;34m=\u001b[0m \u001b[0;36m1\u001b[0m\u001b[0;34m)\u001b[0m\u001b[0;34m\u001b[0m\u001b[0;34m\u001b[0m\u001b[0m\n\u001b[0m\u001b[1;32m      3\u001b[0m \u001b[0my\u001b[0m \u001b[0;34m=\u001b[0m \u001b[0mdata\u001b[0m\u001b[0;34m[\u001b[0m\u001b[0;34m'Rating'\u001b[0m\u001b[0;34m]\u001b[0m\u001b[0;34m\u001b[0m\u001b[0;34m\u001b[0m\u001b[0m\n",
      "\u001b[0;32m~/opt/anaconda3/lib/python3.7/site-packages/pandas/core/frame.py\u001b[0m in \u001b[0;36mdrop\u001b[0;34m(self, labels, axis, index, columns, level, inplace, errors)\u001b[0m\n\u001b[1;32m   3995\u001b[0m             \u001b[0mlevel\u001b[0m\u001b[0;34m=\u001b[0m\u001b[0mlevel\u001b[0m\u001b[0;34m,\u001b[0m\u001b[0;34m\u001b[0m\u001b[0;34m\u001b[0m\u001b[0m\n\u001b[1;32m   3996\u001b[0m             \u001b[0minplace\u001b[0m\u001b[0;34m=\u001b[0m\u001b[0minplace\u001b[0m\u001b[0;34m,\u001b[0m\u001b[0;34m\u001b[0m\u001b[0;34m\u001b[0m\u001b[0m\n\u001b[0;32m-> 3997\u001b[0;31m             \u001b[0merrors\u001b[0m\u001b[0;34m=\u001b[0m\u001b[0merrors\u001b[0m\u001b[0;34m,\u001b[0m\u001b[0;34m\u001b[0m\u001b[0;34m\u001b[0m\u001b[0m\n\u001b[0m\u001b[1;32m   3998\u001b[0m         )\n\u001b[1;32m   3999\u001b[0m \u001b[0;34m\u001b[0m\u001b[0m\n",
      "\u001b[0;32m~/opt/anaconda3/lib/python3.7/site-packages/pandas/core/generic.py\u001b[0m in \u001b[0;36mdrop\u001b[0;34m(self, labels, axis, index, columns, level, inplace, errors)\u001b[0m\n\u001b[1;32m   3934\u001b[0m         \u001b[0;32mfor\u001b[0m \u001b[0maxis\u001b[0m\u001b[0;34m,\u001b[0m \u001b[0mlabels\u001b[0m \u001b[0;32min\u001b[0m \u001b[0maxes\u001b[0m\u001b[0;34m.\u001b[0m\u001b[0mitems\u001b[0m\u001b[0;34m(\u001b[0m\u001b[0;34m)\u001b[0m\u001b[0;34m:\u001b[0m\u001b[0;34m\u001b[0m\u001b[0;34m\u001b[0m\u001b[0m\n\u001b[1;32m   3935\u001b[0m             \u001b[0;32mif\u001b[0m \u001b[0mlabels\u001b[0m \u001b[0;32mis\u001b[0m \u001b[0;32mnot\u001b[0m \u001b[0;32mNone\u001b[0m\u001b[0;34m:\u001b[0m\u001b[0;34m\u001b[0m\u001b[0;34m\u001b[0m\u001b[0m\n\u001b[0;32m-> 3936\u001b[0;31m                 \u001b[0mobj\u001b[0m \u001b[0;34m=\u001b[0m \u001b[0mobj\u001b[0m\u001b[0;34m.\u001b[0m\u001b[0m_drop_axis\u001b[0m\u001b[0;34m(\u001b[0m\u001b[0mlabels\u001b[0m\u001b[0;34m,\u001b[0m \u001b[0maxis\u001b[0m\u001b[0;34m,\u001b[0m \u001b[0mlevel\u001b[0m\u001b[0;34m=\u001b[0m\u001b[0mlevel\u001b[0m\u001b[0;34m,\u001b[0m \u001b[0merrors\u001b[0m\u001b[0;34m=\u001b[0m\u001b[0merrors\u001b[0m\u001b[0;34m)\u001b[0m\u001b[0;34m\u001b[0m\u001b[0;34m\u001b[0m\u001b[0m\n\u001b[0m\u001b[1;32m   3937\u001b[0m \u001b[0;34m\u001b[0m\u001b[0m\n\u001b[1;32m   3938\u001b[0m         \u001b[0;32mif\u001b[0m \u001b[0minplace\u001b[0m\u001b[0;34m:\u001b[0m\u001b[0;34m\u001b[0m\u001b[0;34m\u001b[0m\u001b[0m\n",
      "\u001b[0;32m~/opt/anaconda3/lib/python3.7/site-packages/pandas/core/generic.py\u001b[0m in \u001b[0;36m_drop_axis\u001b[0;34m(self, labels, axis, level, errors)\u001b[0m\n\u001b[1;32m   3968\u001b[0m                 \u001b[0mnew_axis\u001b[0m \u001b[0;34m=\u001b[0m \u001b[0maxis\u001b[0m\u001b[0;34m.\u001b[0m\u001b[0mdrop\u001b[0m\u001b[0;34m(\u001b[0m\u001b[0mlabels\u001b[0m\u001b[0;34m,\u001b[0m \u001b[0mlevel\u001b[0m\u001b[0;34m=\u001b[0m\u001b[0mlevel\u001b[0m\u001b[0;34m,\u001b[0m \u001b[0merrors\u001b[0m\u001b[0;34m=\u001b[0m\u001b[0merrors\u001b[0m\u001b[0;34m)\u001b[0m\u001b[0;34m\u001b[0m\u001b[0;34m\u001b[0m\u001b[0m\n\u001b[1;32m   3969\u001b[0m             \u001b[0;32melse\u001b[0m\u001b[0;34m:\u001b[0m\u001b[0;34m\u001b[0m\u001b[0;34m\u001b[0m\u001b[0m\n\u001b[0;32m-> 3970\u001b[0;31m                 \u001b[0mnew_axis\u001b[0m \u001b[0;34m=\u001b[0m \u001b[0maxis\u001b[0m\u001b[0;34m.\u001b[0m\u001b[0mdrop\u001b[0m\u001b[0;34m(\u001b[0m\u001b[0mlabels\u001b[0m\u001b[0;34m,\u001b[0m \u001b[0merrors\u001b[0m\u001b[0;34m=\u001b[0m\u001b[0merrors\u001b[0m\u001b[0;34m)\u001b[0m\u001b[0;34m\u001b[0m\u001b[0;34m\u001b[0m\u001b[0m\n\u001b[0m\u001b[1;32m   3971\u001b[0m             \u001b[0mresult\u001b[0m \u001b[0;34m=\u001b[0m \u001b[0mself\u001b[0m\u001b[0;34m.\u001b[0m\u001b[0mreindex\u001b[0m\u001b[0;34m(\u001b[0m\u001b[0;34m**\u001b[0m\u001b[0;34m{\u001b[0m\u001b[0maxis_name\u001b[0m\u001b[0;34m:\u001b[0m \u001b[0mnew_axis\u001b[0m\u001b[0;34m}\u001b[0m\u001b[0;34m)\u001b[0m\u001b[0;34m\u001b[0m\u001b[0;34m\u001b[0m\u001b[0m\n\u001b[1;32m   3972\u001b[0m \u001b[0;34m\u001b[0m\u001b[0m\n",
      "\u001b[0;32m~/opt/anaconda3/lib/python3.7/site-packages/pandas/core/indexes/base.py\u001b[0m in \u001b[0;36mdrop\u001b[0;34m(self, labels, errors)\u001b[0m\n\u001b[1;32m   5016\u001b[0m         \u001b[0;32mif\u001b[0m \u001b[0mmask\u001b[0m\u001b[0;34m.\u001b[0m\u001b[0many\u001b[0m\u001b[0;34m(\u001b[0m\u001b[0;34m)\u001b[0m\u001b[0;34m:\u001b[0m\u001b[0;34m\u001b[0m\u001b[0;34m\u001b[0m\u001b[0m\n\u001b[1;32m   5017\u001b[0m             \u001b[0;32mif\u001b[0m \u001b[0merrors\u001b[0m \u001b[0;34m!=\u001b[0m \u001b[0;34m\"ignore\"\u001b[0m\u001b[0;34m:\u001b[0m\u001b[0;34m\u001b[0m\u001b[0;34m\u001b[0m\u001b[0m\n\u001b[0;32m-> 5018\u001b[0;31m                 \u001b[0;32mraise\u001b[0m \u001b[0mKeyError\u001b[0m\u001b[0;34m(\u001b[0m\u001b[0;34mf\"{labels[mask]} not found in axis\"\u001b[0m\u001b[0;34m)\u001b[0m\u001b[0;34m\u001b[0m\u001b[0;34m\u001b[0m\u001b[0m\n\u001b[0m\u001b[1;32m   5019\u001b[0m             \u001b[0mindexer\u001b[0m \u001b[0;34m=\u001b[0m \u001b[0mindexer\u001b[0m\u001b[0;34m[\u001b[0m\u001b[0;34m~\u001b[0m\u001b[0mmask\u001b[0m\u001b[0;34m]\u001b[0m\u001b[0;34m\u001b[0m\u001b[0;34m\u001b[0m\u001b[0m\n\u001b[1;32m   5020\u001b[0m         \u001b[0;32mreturn\u001b[0m \u001b[0mself\u001b[0m\u001b[0;34m.\u001b[0m\u001b[0mdelete\u001b[0m\u001b[0;34m(\u001b[0m\u001b[0mindexer\u001b[0m\u001b[0;34m)\u001b[0m\u001b[0;34m\u001b[0m\u001b[0;34m\u001b[0m\u001b[0m\n",
      "\u001b[0;31mKeyError\u001b[0m: \"['Restaurant_id'] not found in axis\""
     ]
    }
   ],
   "source": [
    "# Х - данные с информацией о ресторанах, у - целевая переменная (рейтинги ресторанов)\n",
    "X = data.drop(['Rating'], axis = 1)\n",
    "y = data['Rating']"
   ]
  },
  {
   "cell_type": "code",
   "execution_count": null,
   "metadata": {},
   "outputs": [],
   "source": [
    "# Загружаем специальный инструмент для разбивки:\n",
    "from sklearn.model_selection import train_test_split"
   ]
  },
  {
   "cell_type": "code",
   "execution_count": null,
   "metadata": {},
   "outputs": [],
   "source": [
    "# Наборы данных с меткой \"train\" будут использоваться для обучения модели, \"test\" - для тестирования.\n",
    "# Для тестирования мы будем использовать 25% от исходного датасета.\n",
    "X_train, X_test, y_train, y_test = train_test_split(X, y, test_size=0.25)"
   ]
  },
  {
   "cell_type": "markdown",
   "metadata": {},
   "source": [
    "# Создаём, обучаем и тестируем модель"
   ]
  },
  {
   "cell_type": "code",
   "execution_count": null,
   "metadata": {},
   "outputs": [],
   "source": [
    "# Импортируем необходимые библиотеки:\n",
    "from sklearn.ensemble import RandomForestRegressor # инструмент для создания и обучения модели\n",
    "from sklearn import metrics # инструменты для оценки точности модели"
   ]
  },
  {
   "cell_type": "code",
   "execution_count": null,
   "metadata": {},
   "outputs": [],
   "source": [
    "# Создаём модель\n",
    "regr = RandomForestRegressor(n_estimators=100)\n",
    "\n",
    "# Обучаем модель на тестовом наборе данных\n",
    "regr.fit(X_train, y_train)\n",
    "\n",
    "# Используем обученную модель для предсказания рейтинга ресторанов в тестовой выборке.\n",
    "# Предсказанные значения записываем в переменную y_pred\n",
    "y_pred = regr.predict(X_test)"
   ]
  },
  {
   "cell_type": "code",
   "execution_count": null,
   "metadata": {},
   "outputs": [],
   "source": [
    "# Сравниваем предсказанные значения (y_pred) с реальными (y_test), и смотрим насколько они в среднем отличаются\n",
    "# Метрика называется Mean Absolute Error (MAE) и показывает среднее отклонение предсказанных значений от фактических.\n",
    "print('MAE:', metrics.mean_absolute_error(y_test, y_pred))"
   ]
  }
 ],
 "metadata": {
  "kernelspec": {
   "display_name": "Python 3",
   "language": "python",
   "name": "python3"
  },
  "language_info": {
   "codemirror_mode": {
    "name": "ipython",
    "version": 3
   },
   "file_extension": ".py",
   "mimetype": "text/x-python",
   "name": "python",
   "nbconvert_exporter": "python",
   "pygments_lexer": "ipython3",
   "version": "3.7.6-final"
  }
 },
 "nbformat": 4,
 "nbformat_minor": 2
}