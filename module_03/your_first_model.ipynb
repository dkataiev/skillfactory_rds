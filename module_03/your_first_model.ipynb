{
 "cells": [
  {
   "cell_type": "markdown",
   "metadata": {},
   "source": [
    "# Загрузка Pandas и очистка данных"
   ]
  },
  {
   "cell_type": "code",
   "execution_count": 118,
   "metadata": {},
   "outputs": [],
   "source": [
    "import pandas as pd\n",
    "import numpy as np"
   ]
  },
  {
   "cell_type": "code",
   "execution_count": 80,
   "metadata": {},
   "outputs": [],
   "source": [
    "original_df = pd.read_csv('data/main_task.csv')\n"
   ]
  },
  {
   "cell_type": "code",
   "execution_count": 82,
   "metadata": {
    "tags": []
   },
   "outputs": [
    {
     "output_type": "stream",
     "name": "stdout",
     "text": "<class 'pandas.core.frame.DataFrame'>\nRangeIndex: 40000 entries, 0 to 39999\nData columns (total 10 columns):\n #   Column             Non-Null Count  Dtype  \n---  ------             --------------  -----  \n 0   Restaurant_id      40000 non-null  object \n 1   City               40000 non-null  object \n 2   Cuisine Style      30717 non-null  object \n 3   Ranking            40000 non-null  float64\n 4   Rating             40000 non-null  float64\n 5   Price Range        26114 non-null  object \n 6   Number of Reviews  37457 non-null  float64\n 7   Reviews            40000 non-null  object \n 8   URL_TA             40000 non-null  object \n 9   ID_TA              40000 non-null  object \ndtypes: float64(3), object(7)\nmemory usage: 3.1+ MB\nNone\n"
    },
    {
     "output_type": "execute_result",
     "data": {
      "text/plain": "  Restaurant_id       City                                      Cuisine Style  \\\n0       id_5569      Paris            ['European', 'French', 'International']   \n1       id_1535  Stockholm                                                NaN   \n2        id_352     London  ['Japanese', 'Sushi', 'Asian', 'Grill', 'Veget...   \n3       id_3456     Berlin                                                NaN   \n4        id_615     Munich  ['German', 'Central European', 'Vegetarian Fri...   \n\n   Ranking  Rating Price Range  Number of Reviews  \\\n0   5570.0     3.5    $$ - $$$              194.0   \n1   1537.0     4.0         NaN               10.0   \n2    353.0     4.5        $$$$              688.0   \n3   3458.0     5.0         NaN                3.0   \n4    621.0     4.0    $$ - $$$               84.0   \n\n                                             Reviews  \\\n0  [['Good food at your doorstep', 'A good hotel ...   \n1  [['Unique cuisine', 'Delicious Nepalese food']...   \n2  [['Catch up with friends', 'Not exceptional'],...   \n3                                           [[], []]   \n4  [['Best place to try a Bavarian food', 'Nice b...   \n\n                                              URL_TA     ID_TA  \n0  /Restaurant_Review-g187147-d1912643-Reviews-R_...  d1912643  \n1  /Restaurant_Review-g189852-d7992032-Reviews-Bu...  d7992032  \n2  /Restaurant_Review-g186338-d8632781-Reviews-RO...  d8632781  \n3  /Restaurant_Review-g187323-d1358776-Reviews-Es...  d1358776  \n4  /Restaurant_Review-g187309-d6864963-Reviews-Au...  d6864963  ",
      "text/html": "<div>\n<style scoped>\n    .dataframe tbody tr th:only-of-type {\n        vertical-align: middle;\n    }\n\n    .dataframe tbody tr th {\n        vertical-align: top;\n    }\n\n    .dataframe thead th {\n        text-align: right;\n    }\n</style>\n<table border=\"1\" class=\"dataframe\">\n  <thead>\n    <tr style=\"text-align: right;\">\n      <th></th>\n      <th>Restaurant_id</th>\n      <th>City</th>\n      <th>Cuisine Style</th>\n      <th>Ranking</th>\n      <th>Rating</th>\n      <th>Price Range</th>\n      <th>Number of Reviews</th>\n      <th>Reviews</th>\n      <th>URL_TA</th>\n      <th>ID_TA</th>\n    </tr>\n  </thead>\n  <tbody>\n    <tr>\n      <th>0</th>\n      <td>id_5569</td>\n      <td>Paris</td>\n      <td>['European', 'French', 'International']</td>\n      <td>5570.0</td>\n      <td>3.5</td>\n      <td>$$ - $$$</td>\n      <td>194.0</td>\n      <td>[['Good food at your doorstep', 'A good hotel ...</td>\n      <td>/Restaurant_Review-g187147-d1912643-Reviews-R_...</td>\n      <td>d1912643</td>\n    </tr>\n    <tr>\n      <th>1</th>\n      <td>id_1535</td>\n      <td>Stockholm</td>\n      <td>NaN</td>\n      <td>1537.0</td>\n      <td>4.0</td>\n      <td>NaN</td>\n      <td>10.0</td>\n      <td>[['Unique cuisine', 'Delicious Nepalese food']...</td>\n      <td>/Restaurant_Review-g189852-d7992032-Reviews-Bu...</td>\n      <td>d7992032</td>\n    </tr>\n    <tr>\n      <th>2</th>\n      <td>id_352</td>\n      <td>London</td>\n      <td>['Japanese', 'Sushi', 'Asian', 'Grill', 'Veget...</td>\n      <td>353.0</td>\n      <td>4.5</td>\n      <td>$$$$</td>\n      <td>688.0</td>\n      <td>[['Catch up with friends', 'Not exceptional'],...</td>\n      <td>/Restaurant_Review-g186338-d8632781-Reviews-RO...</td>\n      <td>d8632781</td>\n    </tr>\n    <tr>\n      <th>3</th>\n      <td>id_3456</td>\n      <td>Berlin</td>\n      <td>NaN</td>\n      <td>3458.0</td>\n      <td>5.0</td>\n      <td>NaN</td>\n      <td>3.0</td>\n      <td>[[], []]</td>\n      <td>/Restaurant_Review-g187323-d1358776-Reviews-Es...</td>\n      <td>d1358776</td>\n    </tr>\n    <tr>\n      <th>4</th>\n      <td>id_615</td>\n      <td>Munich</td>\n      <td>['German', 'Central European', 'Vegetarian Fri...</td>\n      <td>621.0</td>\n      <td>4.0</td>\n      <td>$$ - $$$</td>\n      <td>84.0</td>\n      <td>[['Best place to try a Bavarian food', 'Nice b...</td>\n      <td>/Restaurant_Review-g187309-d6864963-Reviews-Au...</td>\n      <td>d6864963</td>\n    </tr>\n  </tbody>\n</table>\n</div>"
     },
     "metadata": {},
     "execution_count": 82
    }
   ],
   "source": [
    "print(original_df.info())\n",
    "original_df.head()"
   ]
  },
  {
   "cell_type": "code",
   "execution_count": 83,
   "metadata": {
    "tags": []
   },
   "outputs": [
    {
     "output_type": "stream",
     "name": "stdout",
     "text": "<class 'pandas.core.frame.DataFrame'>\nRangeIndex: 40000 entries, 0 to 39999\nData columns (total 3 columns):\n #   Column             Non-Null Count  Dtype  \n---  ------             --------------  -----  \n 0   Ranking            40000 non-null  float64\n 1   Rating             40000 non-null  float64\n 2   Number of Reviews  37457 non-null  float64\ndtypes: float64(3)\nmemory usage: 937.6 KB\n"
    }
   ],
   "source": [
    "# На первом этапе для создания такого датафрейма давайте просто удалим столбцы, содержащие данные типа object, и заполним пропущенные значения (None или NaN) каким-то одним значением (нулём или средним арифметическим) для  всего столбца.\n",
    "\n",
    "object_cols = list(original_df.select_dtypes(include=['object']).columns)\n",
    "df = original_df.drop(labels=object_cols, axis=1)\n",
    "df.info()"
   ]
  },
  {
   "cell_type": "markdown",
   "metadata": {},
   "source": [
    "# Разбиваем датафрейм на части, необходимые для обучения и тестирования модели"
   ]
  },
  {
   "cell_type": "code",
   "execution_count": 84,
   "metadata": {},
   "outputs": [],
   "source": [
    "# Загружаем специальный инструмент для разбивки:\n",
    "from sklearn.model_selection import train_test_split"
   ]
  },
  {
   "cell_type": "code",
   "execution_count": 85,
   "metadata": {},
   "outputs": [],
   "source": [
    "# Х - данные с информацией о ресторанах, у - целевая переменная (рейтинги ресторанов)\n",
    "X = df.drop(['Rating'], axis = 1)\n",
    "y = df['Rating']"
   ]
  },
  {
   "cell_type": "code",
   "execution_count": 86,
   "metadata": {},
   "outputs": [],
   "source": [
    "# Наборы данных с меткой \"train\" будут использоваться для обучения модели, \"test\" - для тестирования.\n",
    "# Для тестирования мы будем использовать 25% от исходного датасета.\n",
    "X_train, X_test, y_train, y_test = train_test_split(X, y, test_size=0.25)"
   ]
  },
  {
   "cell_type": "markdown",
   "metadata": {},
   "source": [
    "# Создаём, обучаем и тестируем модель"
   ]
  },
  {
   "cell_type": "code",
   "execution_count": 87,
   "metadata": {},
   "outputs": [],
   "source": [
    "# Импортируем необходимые библиотеки:\n",
    "from sklearn.ensemble import RandomForestRegressor # инструмент для создания и обучения модели\n",
    "from sklearn import metrics # инструменты для оценки точности модели"
   ]
  },
  {
   "cell_type": "code",
   "execution_count": 88,
   "metadata": {},
   "outputs": [
    {
     "output_type": "error",
     "ename": "ValueError",
     "evalue": "Input contains NaN, infinity or a value too large for dtype('float32').",
     "traceback": [
      "\u001b[0;31m---------------------------------------------------------------------------\u001b[0m",
      "\u001b[0;31mValueError\u001b[0m                                Traceback (most recent call last)",
      "\u001b[0;32m<ipython-input-88-d417683147ce>\u001b[0m in \u001b[0;36m<module>\u001b[0;34m\u001b[0m\n\u001b[1;32m      3\u001b[0m \u001b[0;34m\u001b[0m\u001b[0m\n\u001b[1;32m      4\u001b[0m \u001b[0;31m# Обучаем модель на тестовом наборе данных\u001b[0m\u001b[0;34m\u001b[0m\u001b[0;34m\u001b[0m\u001b[0;34m\u001b[0m\u001b[0m\n\u001b[0;32m----> 5\u001b[0;31m \u001b[0mregr\u001b[0m\u001b[0;34m.\u001b[0m\u001b[0mfit\u001b[0m\u001b[0;34m(\u001b[0m\u001b[0mX_train\u001b[0m\u001b[0;34m,\u001b[0m \u001b[0my_train\u001b[0m\u001b[0;34m)\u001b[0m\u001b[0;34m\u001b[0m\u001b[0;34m\u001b[0m\u001b[0m\n\u001b[0m\u001b[1;32m      6\u001b[0m \u001b[0;34m\u001b[0m\u001b[0m\n\u001b[1;32m      7\u001b[0m \u001b[0;31m# Используем обученную модель для предсказания рейтинга ресторанов в тестовой выборке.\u001b[0m\u001b[0;34m\u001b[0m\u001b[0;34m\u001b[0m\u001b[0;34m\u001b[0m\u001b[0m\n",
      "\u001b[0;32m~/opt/anaconda3/lib/python3.7/site-packages/sklearn/ensemble/_forest.py\u001b[0m in \u001b[0;36mfit\u001b[0;34m(self, X, y, sample_weight)\u001b[0m\n\u001b[1;32m    293\u001b[0m         \"\"\"\n\u001b[1;32m    294\u001b[0m         \u001b[0;31m# Validate or convert input data\u001b[0m\u001b[0;34m\u001b[0m\u001b[0;34m\u001b[0m\u001b[0;34m\u001b[0m\u001b[0m\n\u001b[0;32m--> 295\u001b[0;31m         \u001b[0mX\u001b[0m \u001b[0;34m=\u001b[0m \u001b[0mcheck_array\u001b[0m\u001b[0;34m(\u001b[0m\u001b[0mX\u001b[0m\u001b[0;34m,\u001b[0m \u001b[0maccept_sparse\u001b[0m\u001b[0;34m=\u001b[0m\u001b[0;34m\"csc\"\u001b[0m\u001b[0;34m,\u001b[0m \u001b[0mdtype\u001b[0m\u001b[0;34m=\u001b[0m\u001b[0mDTYPE\u001b[0m\u001b[0;34m)\u001b[0m\u001b[0;34m\u001b[0m\u001b[0;34m\u001b[0m\u001b[0m\n\u001b[0m\u001b[1;32m    296\u001b[0m         \u001b[0my\u001b[0m \u001b[0;34m=\u001b[0m \u001b[0mcheck_array\u001b[0m\u001b[0;34m(\u001b[0m\u001b[0my\u001b[0m\u001b[0;34m,\u001b[0m \u001b[0maccept_sparse\u001b[0m\u001b[0;34m=\u001b[0m\u001b[0;34m'csc'\u001b[0m\u001b[0;34m,\u001b[0m \u001b[0mensure_2d\u001b[0m\u001b[0;34m=\u001b[0m\u001b[0;32mFalse\u001b[0m\u001b[0;34m,\u001b[0m \u001b[0mdtype\u001b[0m\u001b[0;34m=\u001b[0m\u001b[0;32mNone\u001b[0m\u001b[0;34m)\u001b[0m\u001b[0;34m\u001b[0m\u001b[0;34m\u001b[0m\u001b[0m\n\u001b[1;32m    297\u001b[0m         \u001b[0;32mif\u001b[0m \u001b[0msample_weight\u001b[0m \u001b[0;32mis\u001b[0m \u001b[0;32mnot\u001b[0m \u001b[0;32mNone\u001b[0m\u001b[0;34m:\u001b[0m\u001b[0;34m\u001b[0m\u001b[0;34m\u001b[0m\u001b[0m\n",
      "\u001b[0;32m~/opt/anaconda3/lib/python3.7/site-packages/sklearn/utils/validation.py\u001b[0m in \u001b[0;36mcheck_array\u001b[0;34m(array, accept_sparse, accept_large_sparse, dtype, order, copy, force_all_finite, ensure_2d, allow_nd, ensure_min_samples, ensure_min_features, warn_on_dtype, estimator)\u001b[0m\n\u001b[1;32m    576\u001b[0m         \u001b[0;32mif\u001b[0m \u001b[0mforce_all_finite\u001b[0m\u001b[0;34m:\u001b[0m\u001b[0;34m\u001b[0m\u001b[0;34m\u001b[0m\u001b[0m\n\u001b[1;32m    577\u001b[0m             _assert_all_finite(array,\n\u001b[0;32m--> 578\u001b[0;31m                                allow_nan=force_all_finite == 'allow-nan')\n\u001b[0m\u001b[1;32m    579\u001b[0m \u001b[0;34m\u001b[0m\u001b[0m\n\u001b[1;32m    580\u001b[0m     \u001b[0;32mif\u001b[0m \u001b[0mensure_min_samples\u001b[0m \u001b[0;34m>\u001b[0m \u001b[0;36m0\u001b[0m\u001b[0;34m:\u001b[0m\u001b[0;34m\u001b[0m\u001b[0;34m\u001b[0m\u001b[0m\n",
      "\u001b[0;32m~/opt/anaconda3/lib/python3.7/site-packages/sklearn/utils/validation.py\u001b[0m in \u001b[0;36m_assert_all_finite\u001b[0;34m(X, allow_nan, msg_dtype)\u001b[0m\n\u001b[1;32m     58\u001b[0m                     \u001b[0mmsg_err\u001b[0m\u001b[0;34m.\u001b[0m\u001b[0mformat\u001b[0m\u001b[0;34m\u001b[0m\u001b[0;34m\u001b[0m\u001b[0m\n\u001b[1;32m     59\u001b[0m                     (type_err,\n\u001b[0;32m---> 60\u001b[0;31m                      msg_dtype if msg_dtype is not None else X.dtype)\n\u001b[0m\u001b[1;32m     61\u001b[0m             )\n\u001b[1;32m     62\u001b[0m     \u001b[0;31m# for object dtype data, we only check for NaNs (GH-13254)\u001b[0m\u001b[0;34m\u001b[0m\u001b[0;34m\u001b[0m\u001b[0;34m\u001b[0m\u001b[0m\n",
      "\u001b[0;31mValueError\u001b[0m: Input contains NaN, infinity or a value too large for dtype('float32')."
     ]
    }
   ],
   "source": [
    "# Создаём модель\n",
    "regr = RandomForestRegressor(n_estimators=100)\n",
    "\n",
    "# Обучаем модель на тестовом наборе данных\n",
    "regr.fit(X_train, y_train)\n",
    "\n",
    "# Используем обученную модель для предсказания рейтинга ресторанов в тестовой выборке.\n",
    "# Предсказанные значения записываем в переменную y_pred\n",
    "y_pred = regr.predict(X_test)"
   ]
  },
  {
   "cell_type": "code",
   "execution_count": 89,
   "metadata": {},
   "outputs": [
    {
     "output_type": "error",
     "ename": "NameError",
     "evalue": "name 'y_pred' is not defined",
     "traceback": [
      "\u001b[0;31m---------------------------------------------------------------------------\u001b[0m",
      "\u001b[0;31mNameError\u001b[0m                                 Traceback (most recent call last)",
      "\u001b[0;32m<ipython-input-89-e56e003c1109>\u001b[0m in \u001b[0;36m<module>\u001b[0;34m\u001b[0m\n\u001b[1;32m      1\u001b[0m \u001b[0;31m# Сравниваем предсказанные значения (y_pred) с реальными (y_test), и смотрим насколько они в среднем отличаются\u001b[0m\u001b[0;34m\u001b[0m\u001b[0;34m\u001b[0m\u001b[0;34m\u001b[0m\u001b[0m\n\u001b[1;32m      2\u001b[0m \u001b[0;31m# Метрика называется Mean Absolute Error (MAE) и показывает среднее отклонение предсказанных значений от фактических.\u001b[0m\u001b[0;34m\u001b[0m\u001b[0;34m\u001b[0m\u001b[0;34m\u001b[0m\u001b[0m\n\u001b[0;32m----> 3\u001b[0;31m \u001b[0mprint\u001b[0m\u001b[0;34m(\u001b[0m\u001b[0;34m'MAE:'\u001b[0m\u001b[0;34m,\u001b[0m \u001b[0mmetrics\u001b[0m\u001b[0;34m.\u001b[0m\u001b[0mmean_absolute_error\u001b[0m\u001b[0;34m(\u001b[0m\u001b[0my_test\u001b[0m\u001b[0;34m,\u001b[0m \u001b[0my_pred\u001b[0m\u001b[0;34m)\u001b[0m\u001b[0;34m)\u001b[0m\u001b[0;34m\u001b[0m\u001b[0;34m\u001b[0m\u001b[0m\n\u001b[0m",
      "\u001b[0;31mNameError\u001b[0m: name 'y_pred' is not defined"
     ]
    }
   ],
   "source": [
    "# Сравниваем предсказанные значения (y_pred) с реальными (y_test), и смотрим насколько они в среднем отличаются\n",
    "# Метрика называется Mean Absolute Error (MAE) и показывает среднее отклонение предсказанных значений от фактических.\n",
    "print('MAE:', metrics.mean_absolute_error(y_test, y_pred))"
   ]
  },
  {
   "cell_type": "markdown",
   "metadata": {},
   "source": [
    "Для упрощения тестирования объеденим код в функцию принимающую датафрейм и возвращающую значение переменной MAE."
   ]
  },
  {
   "cell_type": "code",
   "execution_count": 90,
   "metadata": {},
   "outputs": [],
   "source": [
    "def calc_mae(df):\n",
    "    # Х - данные с информацией о ресторанах, у - целевая переменная (рейтинги ресторанов)\n",
    "    X = df.drop(['Rating'], axis = 1)\n",
    "    y = df['Rating']\n",
    "    # Наборы данных с меткой \"train\" будут использоваться для обучения модели, \"test\" - для тестирования.\n",
    "    # Для тестирования мы будем использовать 25% от исходного датасета.\n",
    "    X_train, X_test, y_train, y_test = train_test_split(X, y, test_size=0.25)\n",
    "    # Создаём модель\n",
    "    regr = RandomForestRegressor(n_estimators=100)\n",
    "    # Обучаем модель на тестовом наборе данных\n",
    "    regr.fit(X_train, y_train)\n",
    "    # Используем обученную модель для предсказания рейтинга ресторанов в тестовой выборке.\n",
    "    # Предсказанные значения записываем в переменную y_pred\n",
    "    y_pred = regr.predict(X_test)\n",
    "    # Сравниваем предсказанные значения (y_pred) с реальными (y_test), и смотрим насколько они в среднем отличаются\n",
    "    # Метрика называется Mean Absolute Error (MAE) и показывает среднее отклонение предсказанных значений от фактических.\n",
    "    return metrics.mean_absolute_error(y_test, y_pred)"
   ]
  },
  {
   "cell_type": "markdown",
   "metadata": {},
   "source": [
    "Посчитаем значение MAE для замены пропусков разными статистиками:"
   ]
  },
  {
   "cell_type": "code",
   "execution_count": 91,
   "metadata": {
    "tags": []
   },
   "outputs": [
    {
     "output_type": "stream",
     "name": "stdout",
     "text": "0:\t 0.4385521448412698\nmean =  124.82547988359985\nmean:\t 0.43264359893578647\nmedian =  33.0\nmedian:\t 0.43444806369047617\nmodes:  [2.]\nmode =  2.0\nmode:\t 0.4366378793650793\n"
    }
   ],
   "source": [
    "filler = 0\n",
    "print('0:\\t', calc_mae(df.fillna(filler)))\n",
    "filler = df['Number of Reviews'].mean()\n",
    "print('mean = ', filler)\n",
    "print('mean:\\t', calc_mae(df.fillna(filler)))\n",
    "filler = df['Number of Reviews'].median()\n",
    "print('median = ', filler)\n",
    "print('median:\\t', calc_mae(df.fillna(filler)))\n",
    "modes = df['Number of Reviews'].mode().values\n",
    "print('modes: ', modes)\n",
    "for mode in modes:\n",
    "    filler = mode\n",
    "    print('mode = ', filler)\n",
    "    print('mode:\\t', calc_mae(df.fillna(filler)))"
   ]
  },
  {
   "cell_type": "markdown",
   "metadata": {},
   "source": [
    "## С одной стороны, всё просто. Задачу, которая стоит перед вами, можно свести к трём пунктам:\n",
    "\n",
    "Удалить из датафрейма столбцы, данные в которых представлены не числами (это вы уже сделали, и нужно просто повторить знакомые действия, но в этот раз выполнить данный шаг в последнюю очередь).\n",
    "Избавиться от пропущенных (None) значений (на предыдущем шаге мы делали это самым грубым из всех возможных способов; сейчас попробуем подойти к процессу более гибко).\n",
    "Создать новые столбцы с данными, используя для этого информацию, содержащуюся в других столбцах датафрейма (например, можно добавить столбец, сообщающий, сколько дней прошло со дня публикации последнего отзыва, отображённого на сайте).\n",
    "С другой стороны, в этом задании масса подводных камней.\n",
    "\n",
    "\n",
    "## Строковые данные\n",
    "В исходном наборе данных всего три столбца содержат числовые данные, причём один из этих столбцов — это целевая переменная, значение которой должна предсказывать наша модель. Так что просто удалить все object-значения и считать задачу выполненной не получится. Для создания качественной модели нам сначала придётся очень основательно поработать со строковыми данными и извлечь из них как можно больше информации, которую можно представить в числовом виде.\n",
    "\n",
    "\n",
    "## Пропущенные значения\n",
    "Мы уже говорили о том, что в задачах по машинному обучению принято не удалять строки с пустыми значениями, а заполнять их максимально близкими к реальности данными. Как найти такие данные — большой вопрос, требующий не только знания синтаксиса, но и креативности, изобретательности, хорошего понимания контента, а иногда ещё и интуиции. \n",
    "\n",
    "\n",
    "## Новые признаки\n",
    "Это, пожалуй, самая сложная, но и самая интригующая, увлекательная и творческая часть работы на данном шаге. Создание новых признаков (Feature Engineering) потребует от вас не только хорошего владения разными библиотеками Python, но и способность вникать в контент, умение подключать к работе интуицию, творческий подход и готовность к экспериментам."
   ]
  },
  {
   "cell_type": "markdown",
   "metadata": {},
   "source": [
    "Для удобства нормальзуем названия колонок, приведем их к snake_case."
   ]
  },
  {
   "cell_type": "code",
   "execution_count": 106,
   "metadata": {
    "tags": []
   },
   "outputs": [
    {
     "output_type": "stream",
     "name": "stdout",
     "text": "<class 'pandas.core.frame.DataFrame'>\nRangeIndex: 40000 entries, 0 to 39999\nData columns (total 10 columns):\n #   Column             Non-Null Count  Dtype  \n---  ------             --------------  -----  \n 0   restaurant_id      40000 non-null  object \n 1   city               40000 non-null  object \n 2   cuisine_style      30717 non-null  object \n 3   ranking            40000 non-null  float64\n 4   rating             40000 non-null  float64\n 5   price_range        26114 non-null  object \n 6   number_of_reviews  37457 non-null  float64\n 7   reviews            40000 non-null  object \n 8   url_ta             40000 non-null  object \n 9   id_ta              40000 non-null  object \ndtypes: float64(3), object(7)\nmemory usage: 3.1+ MB\nNone\n"
    },
    {
     "output_type": "execute_result",
     "data": {
      "text/plain": "  restaurant_id       city                                      cuisine_style  \\\n0       id_5569      Paris            ['European', 'French', 'International']   \n1       id_1535  Stockholm                                                NaN   \n2        id_352     London  ['Japanese', 'Sushi', 'Asian', 'Grill', 'Veget...   \n3       id_3456     Berlin                                                NaN   \n4        id_615     Munich  ['German', 'Central European', 'Vegetarian Fri...   \n\n   ranking  rating price_range  number_of_reviews  \\\n0   5570.0     3.5    $$ - $$$              194.0   \n1   1537.0     4.0         NaN               10.0   \n2    353.0     4.5        $$$$              688.0   \n3   3458.0     5.0         NaN                3.0   \n4    621.0     4.0    $$ - $$$               84.0   \n\n                                             reviews  \\\n0  [['Good food at your doorstep', 'A good hotel ...   \n1  [['Unique cuisine', 'Delicious Nepalese food']...   \n2  [['Catch up with friends', 'Not exceptional'],...   \n3                                           [[], []]   \n4  [['Best place to try a Bavarian food', 'Nice b...   \n\n                                              url_ta     id_ta  \n0  /Restaurant_Review-g187147-d1912643-Reviews-R_...  d1912643  \n1  /Restaurant_Review-g189852-d7992032-Reviews-Bu...  d7992032  \n2  /Restaurant_Review-g186338-d8632781-Reviews-RO...  d8632781  \n3  /Restaurant_Review-g187323-d1358776-Reviews-Es...  d1358776  \n4  /Restaurant_Review-g187309-d6864963-Reviews-Au...  d6864963  ",
      "text/html": "<div>\n<style scoped>\n    .dataframe tbody tr th:only-of-type {\n        vertical-align: middle;\n    }\n\n    .dataframe tbody tr th {\n        vertical-align: top;\n    }\n\n    .dataframe thead th {\n        text-align: right;\n    }\n</style>\n<table border=\"1\" class=\"dataframe\">\n  <thead>\n    <tr style=\"text-align: right;\">\n      <th></th>\n      <th>restaurant_id</th>\n      <th>city</th>\n      <th>cuisine_style</th>\n      <th>ranking</th>\n      <th>rating</th>\n      <th>price_range</th>\n      <th>number_of_reviews</th>\n      <th>reviews</th>\n      <th>url_ta</th>\n      <th>id_ta</th>\n    </tr>\n  </thead>\n  <tbody>\n    <tr>\n      <th>0</th>\n      <td>id_5569</td>\n      <td>Paris</td>\n      <td>['European', 'French', 'International']</td>\n      <td>5570.0</td>\n      <td>3.5</td>\n      <td>$$ - $$$</td>\n      <td>194.0</td>\n      <td>[['Good food at your doorstep', 'A good hotel ...</td>\n      <td>/Restaurant_Review-g187147-d1912643-Reviews-R_...</td>\n      <td>d1912643</td>\n    </tr>\n    <tr>\n      <th>1</th>\n      <td>id_1535</td>\n      <td>Stockholm</td>\n      <td>NaN</td>\n      <td>1537.0</td>\n      <td>4.0</td>\n      <td>NaN</td>\n      <td>10.0</td>\n      <td>[['Unique cuisine', 'Delicious Nepalese food']...</td>\n      <td>/Restaurant_Review-g189852-d7992032-Reviews-Bu...</td>\n      <td>d7992032</td>\n    </tr>\n    <tr>\n      <th>2</th>\n      <td>id_352</td>\n      <td>London</td>\n      <td>['Japanese', 'Sushi', 'Asian', 'Grill', 'Veget...</td>\n      <td>353.0</td>\n      <td>4.5</td>\n      <td>$$$$</td>\n      <td>688.0</td>\n      <td>[['Catch up with friends', 'Not exceptional'],...</td>\n      <td>/Restaurant_Review-g186338-d8632781-Reviews-RO...</td>\n      <td>d8632781</td>\n    </tr>\n    <tr>\n      <th>3</th>\n      <td>id_3456</td>\n      <td>Berlin</td>\n      <td>NaN</td>\n      <td>3458.0</td>\n      <td>5.0</td>\n      <td>NaN</td>\n      <td>3.0</td>\n      <td>[[], []]</td>\n      <td>/Restaurant_Review-g187323-d1358776-Reviews-Es...</td>\n      <td>d1358776</td>\n    </tr>\n    <tr>\n      <th>4</th>\n      <td>id_615</td>\n      <td>Munich</td>\n      <td>['German', 'Central European', 'Vegetarian Fri...</td>\n      <td>621.0</td>\n      <td>4.0</td>\n      <td>$$ - $$$</td>\n      <td>84.0</td>\n      <td>[['Best place to try a Bavarian food', 'Nice b...</td>\n      <td>/Restaurant_Review-g187309-d6864963-Reviews-Au...</td>\n      <td>d6864963</td>\n    </tr>\n  </tbody>\n</table>\n</div>"
     },
     "metadata": {},
     "execution_count": 106
    }
   ],
   "source": [
    "df = pd.read_csv('data/main_task.csv')\n",
    "df.columns = [col.lower().replace(' ', '_') for col in list(original_df.columns.values)]\n",
    "print(df.info())\n",
    "df.head()"
   ]
  },
  {
   "cell_type": "code",
   "execution_count": null,
   "metadata": {},
   "outputs": [],
   "source": []
  },
  {
   "cell_type": "markdown",
   "metadata": {},
   "source": [
    "### Вопросы о ценах\n",
    "Сколько вариантов непустых значений встречается в столбце Price Range?"
   ]
  },
  {
   "cell_type": "code",
   "execution_count": 107,
   "metadata": {},
   "outputs": [
    {
     "output_type": "execute_result",
     "data": {
      "text/plain": "$$ - $$$    18412\n$            6279\n$$$$         1423\nName: price_range, dtype: int64"
     },
     "metadata": {},
     "execution_count": 107
    }
   ],
   "source": [
    "df.price_range.value_counts()"
   ]
  },
  {
   "cell_type": "markdown",
   "metadata": {},
   "source": [
    "price_range - явно ординальный признак, заменим значения на следующие:\n",
    "* `$` = 1\n",
    "* `$$ - $$$` = 2\n",
    "* `$$$$` = 3"
   ]
  },
  {
   "cell_type": "code",
   "execution_count": 110,
   "metadata": {},
   "outputs": [
    {
     "output_type": "execute_result",
     "data": {
      "text/plain": "  restaurant_id       city                                      cuisine_style  \\\n0       id_5569      Paris            ['European', 'French', 'International']   \n1       id_1535  Stockholm                                                NaN   \n2        id_352     London  ['Japanese', 'Sushi', 'Asian', 'Grill', 'Veget...   \n3       id_3456     Berlin                                                NaN   \n4        id_615     Munich  ['German', 'Central European', 'Vegetarian Fri...   \n\n   ranking  rating  price_range  number_of_reviews  \\\n0   5570.0     3.5          2.0              194.0   \n1   1537.0     4.0          NaN               10.0   \n2    353.0     4.5          3.0              688.0   \n3   3458.0     5.0          NaN                3.0   \n4    621.0     4.0          2.0               84.0   \n\n                                             reviews  \\\n0  [['Good food at your doorstep', 'A good hotel ...   \n1  [['Unique cuisine', 'Delicious Nepalese food']...   \n2  [['Catch up with friends', 'Not exceptional'],...   \n3                                           [[], []]   \n4  [['Best place to try a Bavarian food', 'Nice b...   \n\n                                              url_ta     id_ta  \n0  /Restaurant_Review-g187147-d1912643-Reviews-R_...  d1912643  \n1  /Restaurant_Review-g189852-d7992032-Reviews-Bu...  d7992032  \n2  /Restaurant_Review-g186338-d8632781-Reviews-RO...  d8632781  \n3  /Restaurant_Review-g187323-d1358776-Reviews-Es...  d1358776  \n4  /Restaurant_Review-g187309-d6864963-Reviews-Au...  d6864963  ",
      "text/html": "<div>\n<style scoped>\n    .dataframe tbody tr th:only-of-type {\n        vertical-align: middle;\n    }\n\n    .dataframe tbody tr th {\n        vertical-align: top;\n    }\n\n    .dataframe thead th {\n        text-align: right;\n    }\n</style>\n<table border=\"1\" class=\"dataframe\">\n  <thead>\n    <tr style=\"text-align: right;\">\n      <th></th>\n      <th>restaurant_id</th>\n      <th>city</th>\n      <th>cuisine_style</th>\n      <th>ranking</th>\n      <th>rating</th>\n      <th>price_range</th>\n      <th>number_of_reviews</th>\n      <th>reviews</th>\n      <th>url_ta</th>\n      <th>id_ta</th>\n    </tr>\n  </thead>\n  <tbody>\n    <tr>\n      <th>0</th>\n      <td>id_5569</td>\n      <td>Paris</td>\n      <td>['European', 'French', 'International']</td>\n      <td>5570.0</td>\n      <td>3.5</td>\n      <td>2.0</td>\n      <td>194.0</td>\n      <td>[['Good food at your doorstep', 'A good hotel ...</td>\n      <td>/Restaurant_Review-g187147-d1912643-Reviews-R_...</td>\n      <td>d1912643</td>\n    </tr>\n    <tr>\n      <th>1</th>\n      <td>id_1535</td>\n      <td>Stockholm</td>\n      <td>NaN</td>\n      <td>1537.0</td>\n      <td>4.0</td>\n      <td>NaN</td>\n      <td>10.0</td>\n      <td>[['Unique cuisine', 'Delicious Nepalese food']...</td>\n      <td>/Restaurant_Review-g189852-d7992032-Reviews-Bu...</td>\n      <td>d7992032</td>\n    </tr>\n    <tr>\n      <th>2</th>\n      <td>id_352</td>\n      <td>London</td>\n      <td>['Japanese', 'Sushi', 'Asian', 'Grill', 'Veget...</td>\n      <td>353.0</td>\n      <td>4.5</td>\n      <td>3.0</td>\n      <td>688.0</td>\n      <td>[['Catch up with friends', 'Not exceptional'],...</td>\n      <td>/Restaurant_Review-g186338-d8632781-Reviews-RO...</td>\n      <td>d8632781</td>\n    </tr>\n    <tr>\n      <th>3</th>\n      <td>id_3456</td>\n      <td>Berlin</td>\n      <td>NaN</td>\n      <td>3458.0</td>\n      <td>5.0</td>\n      <td>NaN</td>\n      <td>3.0</td>\n      <td>[[], []]</td>\n      <td>/Restaurant_Review-g187323-d1358776-Reviews-Es...</td>\n      <td>d1358776</td>\n    </tr>\n    <tr>\n      <th>4</th>\n      <td>id_615</td>\n      <td>Munich</td>\n      <td>['German', 'Central European', 'Vegetarian Fri...</td>\n      <td>621.0</td>\n      <td>4.0</td>\n      <td>2.0</td>\n      <td>84.0</td>\n      <td>[['Best place to try a Bavarian food', 'Nice b...</td>\n      <td>/Restaurant_Review-g187309-d6864963-Reviews-Au...</td>\n      <td>d6864963</td>\n    </tr>\n  </tbody>\n</table>\n</div>"
     },
     "metadata": {},
     "execution_count": 110
    }
   ],
   "source": [
    "def nomalize_price_range(value):\n",
    "    if value == '$':\n",
    "        return 1\n",
    "    elif value == '$$ - $$$':\n",
    "        return 2\n",
    "    elif value == '$$$$':\n",
    "        return 3\n",
    "    return value\n",
    "\n",
    "df.price_range = df.price_range.apply(nomalize_price_range)\n",
    "df.head()"
   ]
  },
  {
   "cell_type": "markdown",
   "metadata": {},
   "source": [
    "## Вопрос о городах"
   ]
  },
  {
   "cell_type": "code",
   "execution_count": 113,
   "metadata": {},
   "outputs": [
    {
     "output_type": "execute_result",
     "data": {
      "text/plain": "31"
     },
     "metadata": {},
     "execution_count": 113
    }
   ],
   "source": [
    "len(df.city.unique())"
   ]
  },
  {
   "cell_type": "markdown",
   "metadata": {},
   "source": [
    "## Вопросы о кухнях\n",
    "Сколько типов кухонь представлено в наборе данных?"
   ]
  },
  {
   "cell_type": "code",
   "execution_count": 127,
   "metadata": {
    "tags": [
     "outputPrepend"
    ]
   },
   "outputs": [
    {
     "output_type": "stream",
     "name": "stdout",
     "text": "arian Friendly']\n['Asian', 'Italian', 'French', 'American', 'Indian', 'Dutch', 'Bar', 'Seafood', 'Fast Food', 'Mediterranean', 'Sushi', 'European', 'Spanish', 'Korean', 'Turkish', 'Grill', 'Vietnamese', 'Street Food', 'Vegetarian Friendly', 'Vegan Options', 'Gluten Free Options']\n['Fast Food', 'Turkish', 'Lebanese', 'Mediterranean', 'Greek', 'Middle Eastern', 'Halal']\n['Japanese', 'Sushi', 'Street Food']\n['Italian', 'Pizza', 'Fast Food', 'Mediterranean']\n['French', 'European']\n['Turkish', 'Mediterranean']\n['European', 'Danish', 'Seafood', 'Scandinavian']\n['Vietnamese']\n['Pizza']\n['Caribbean', 'African']\n['American', 'Bar', 'Fast Food', 'Vegetarian Friendly']\n['European', 'Swedish', 'Scandinavian', 'Vegetarian Friendly']\n['Cafe']\n['Italian']\n['Japanese', 'Sushi']\n['Mediterranean', 'Spanish', 'European', 'Vegetarian Friendly']\n['Seafood', 'European']\n['Cafe', 'Soups']\n['Chinese', 'Japanese', 'Asian', 'Thai', 'Vietnamese']\n['Pizza', 'Vegetarian Friendly']\n['Cafe', 'International']\n['Chinese']\n['Grill', 'Eastern European', 'Armenian', 'Caucasian']\n['European', 'Scandinavian', 'Danish']\n['Indian', 'Vegetarian Friendly']\n['French', 'European', 'International', 'Vegetarian Friendly', 'Gluten Free Options']\n['Fast Food', 'Middle Eastern', 'Vegetarian Friendly', 'Vegan Options', 'Gluten Free Options']\n['Chinese']\n['Italian', 'Pizza', 'Mediterranean', 'European', 'Vegetarian Friendly']\n['Italian', 'Mediterranean', 'Vegetarian Friendly', 'Vegan Options', 'Gluten Free Options']\n['Italian']\n['Mediterranean', 'Turkish', 'Middle Eastern', 'Vegetarian Friendly', 'Halal']\n['Mediterranean', 'Spanish']\n['French', 'Vegetarian Friendly']\n['Asian', 'Thai']\n['Mediterranean']\n['American', 'Vegetarian Friendly']\n['European', 'Danish']\n['Mexican', 'Fast Food', 'Vegetarian Friendly', 'Vegan Options']\n['American']\n['Pizza']\n['Italian', 'Pizza', 'Seafood', 'Pub', 'Gastropub']\n['Cafe', 'European']\n['Italian', 'Seafood', 'Mediterranean', 'Vegetarian Friendly', 'Gluten Free Options']\n['American', 'Fast Food', 'Diner']\n['Fast Food', 'Portuguese', 'European', 'Grill']\n['Japanese']\n['European']\n['Seafood']\n['Steakhouse', 'Spanish', 'Mediterranean', 'European']\n['Mediterranean', 'Vegetarian Friendly', 'Vegan Options', 'Gluten Free Options']\n['American', 'Grill', 'Bar', 'European', 'Vegetarian Friendly', 'Gluten Free Options']\n['Spanish']\n['Italian', 'Vegetarian Friendly']\n['Asian', 'Indonesian', 'Malaysian']\n['Caribbean', 'Latin', 'South American', 'Colombian']\n['International']\n['Italian', 'European', 'Vegetarian Friendly', 'Gluten Free Options']\n['Asian', 'Thai', 'Vegetarian Friendly', 'Gluten Free Options', 'Vegan Options']\n['International', 'Mediterranean', 'European', 'Grill', 'Healthy', 'Portuguese', 'Vegetarian Friendly']\n['Cafe']\n['Spanish']\n['Asian', 'Nepali']\n['Italian', 'Bar', 'Mediterranean', 'European', 'Wine Bar']\n['Italian', 'Seafood', 'Mediterranean', 'International']\n['Italian', 'Mediterranean', 'Wine Bar', 'Vegetarian Friendly', 'Vegan Options']\n['Asian', 'Bangladeshi', 'Vegetarian Friendly', 'Halal']\n['German']\n['French', 'European']\n['Bar', 'Pizza', 'British', 'Pub', 'Gastropub', 'Vegetarian Friendly']\n['Italian', 'Mediterranean']\n['Pizza']\n['Thai', 'Vegetarian Friendly']\n['American', 'Bar', 'Pub']\n['Italian', 'Pizza', 'Fast Food']\n['French', 'European', 'Vegetarian Friendly']\n['Chinese', 'Asian']\n['Bar', 'British', 'Pub']\n['Cafe', 'European', 'Vegetarian Friendly', 'Vegan Options']\n['Polish', 'European']\n['Chinese', 'Fast Food', 'Asian', 'Vegan Options']\n['European', 'Czech']\n['French', 'European', 'Vegetarian Friendly']\n['French', 'European', 'Vegetarian Friendly']\n['Vietnamese']\n['Italian', 'Seafood', 'Mediterranean', 'Vegetarian Friendly']\n['Mediterranean']\n['Italian', 'Mediterranean', 'Healthy', 'Vegetarian Friendly', 'Vegan Options']\n['French']\n['Mediterranean', 'European', 'Portuguese', 'Vegetarian Friendly', 'Vegan Options']\n['Mediterranean', 'Spanish', 'European', 'Diner']\n['British', 'Bar', 'Cafe', 'Pub']\n['Bar', 'Pub', 'Australian', 'International']\n['Moroccan', 'Mediterranean', 'Halal']\n['American', 'Barbecue', 'Halal']\n['Thai']\n['Japanese', 'Sushi']\n['French', 'Belgian', 'European']\n['Bar', 'Pub', 'Grill']\n['Italian']\n['Italian', 'Mediterranean', 'European', 'Pizza', 'Vegetarian Friendly']\n['American', 'Grill', 'Pub', 'Bar']\n['Italian', 'Mediterranean']\n['American']\n['Indian', 'Asian']\n['Asian']\n['German', 'European']\n['Italian', 'Mediterranean', 'Vegetarian Friendly']\n['Bar', 'European', 'Pub', 'Czech', 'Eastern European', 'Central European', 'Vegetarian Friendly']\n['Cafe', 'British', 'Vegetarian Friendly']\n['Cafe', 'Polish', 'European', 'Eastern European']\n['Chinese', 'Thai', 'Asian', 'Vietnamese', 'Vegetarian Friendly']\n['European', 'Portuguese']\n['Seafood', 'Mediterranean']\n['Mediterranean']\n['Indian', 'Halal', 'Vegetarian Friendly', 'Vegan Options', 'Gluten Free Options']\n['Japanese']\n['Soups', 'Central European', 'Hungarian', 'European']\n['Vegetarian Friendly', 'Vegan Options', 'Gluten Free Options']\n['French', 'European']\n['Bar', 'European', 'Polish', 'Vegetarian Friendly', 'Vegan Options', 'Gluten Free Options']\n['French', 'European', 'Vegetarian Friendly', 'Vegan Options', 'Gluten Free Options']\n['Spanish']\n['Polish', 'European']\n['French', 'American', 'Steakhouse', 'European', 'Grill']\n['Irish', 'Bar', 'European', 'Pub']\n['French', 'European']\n['Moroccan', 'Mediterranean']\n['French', 'Seafood']\n['Asian', 'Korean']\n['Vietnamese']\n['Bar', 'British', 'Pub', 'Vegetarian Friendly']\n['Bangladeshi', 'Indian', 'Asian', 'Vegetarian Friendly', 'Vegan Options', 'Gluten Free Options']\n['Mediterranean', 'European', 'Spanish', 'Vegetarian Friendly', 'Gluten Free Options']\n['Wine Bar', 'Central European', 'European', 'Spanish', 'Vegetarian Friendly']\n['Seafood']\n['Spanish']\n['Spanish']\n['Cafe', 'British', 'International', 'Vegetarian Friendly', 'Vegan Options']\n['Indian', 'Vegetarian Friendly', 'Vegan Options', 'Gluten Free Options']\n['French', 'Vegetarian Friendly']\n['Indian', 'Asian', 'Vegetarian Friendly', 'Vegan Options', 'Gluten Free Options']\n['Mediterranean', 'European', 'Portuguese', 'Vegetarian Friendly']\n['Fast Food', 'Vegetarian Friendly', 'Vegan Options']\n['Mediterranean', 'Greek', 'Vegetarian Friendly']\n['Cafe']\n['Steakhouse', 'International', 'Grill']\n['Vietnamese']\n['French', 'European', 'Vegetarian Friendly', 'Gluten Free Options']\n['Spanish', 'Gluten Free Options']\n['Lebanese', 'Mediterranean', 'Middle Eastern', 'Vegetarian Friendly', 'Vegan Options']\n['African', 'Ethiopian', 'Vegetarian Friendly', 'Vegan Options']\n['Polish', 'European', 'Vegetarian Friendly', 'Vegan Options', 'Gluten Free Options']\n['Steakhouse', 'Mediterranean', 'European', 'Spanish']\n['American', 'Bar', 'British', 'Pub', 'Scottish', 'Grill', 'Vegetarian Friendly', 'Vegan Options', 'Gluten Free Options']\n['German']\n['International']\n['Cafe']\n['Thai']\n['European', 'Portuguese']\n['International']\n['Italian', 'Pizza']\n['German', 'Vegetarian Friendly']\n['Bar', 'European', 'Pub', 'Czech', 'Eastern European', 'Central European', 'International', 'Vegetarian Friendly']\n['Italian', 'Vegetarian Friendly']\n['Italian', 'Pizza', 'Mediterranean']\n['Japanese', 'Sushi', 'Asian', 'Vegetarian Friendly', 'Vegan Options', 'Gluten Free Options']\n['Italian']\n['European']\n['Italian', 'Pizza', 'Seafood', 'Mediterranean', 'European', 'Vegetarian Friendly']\n['Mexican', 'Latin', 'Central American', 'South American', 'Vegetarian Friendly', 'Gluten Free Options']\n['Steakhouse', 'Bar', 'British', 'Pub']\n['Bar', 'Pub', 'Polish', 'European']\n['Scandinavian', 'Danish', 'Vegetarian Friendly', 'Vegan Options', 'Gluten Free Options']\n['French', 'Contemporary']\n['Italian']\n['Italian', 'Pizza']\n['Indian', 'Pakistani', 'Asian', 'Middle Eastern', 'Vegetarian Friendly', 'Halal', 'Vegan Options', 'Gluten Free Options']\n['Mediterranean', 'Spanish']\n['Mexican', 'Spanish', 'Asian']\n['Italian', 'Bar', 'Pizza', 'Pub', 'Gastropub']\n['French', 'European']\n['Indian']\n['British']\n['Spanish']\n['Italian', 'Pizza']\n['Italian', 'Mediterranean', 'European', 'Vegetarian Friendly', 'Vegan Options', 'Gluten Free Options']\n['American', 'Steakhouse', 'Barbecue', 'European']\n['Fast Food']\n['Bar', 'British', 'Scottish', 'Vegetarian Friendly', 'Gluten Free Options']\n['Bar', 'British']\n['German', 'European', 'Central European']\n['Italian']\n['Spanish']\n['European', 'Czech']\n['Italian', 'Bar', 'Cafe', 'Pub']\n['Bar', 'European', 'Central European']\n['Italian', 'Mediterranean', 'Vegetarian Friendly']\n['Italian', 'Pizza', 'Mediterranean', 'European', 'Grill', 'Vegetarian Friendly']\n['Pizza']\n['British', 'Vegetarian Friendly']\n['Italian']\n['Austrian', 'European', 'Delicatessen', 'Grill']\n['Asian', 'Thai', 'Vegetarian Friendly', 'Vegan Options']\n['International', 'European', 'Spanish', 'Mediterranean', 'Vegetarian Friendly', 'Vegan Options', 'Gluten Free Options']\n['American', 'Fast Food', 'International', 'Italian']\n['Spanish']\n['Spanish', 'Steakhouse', 'Barbecue', 'European', 'Gluten Free Options']\n['Seafood', 'Mediterranean', 'European', 'Spanish']\n['Italian', 'Mediterranean', 'European', 'Pizza', 'Vegetarian Friendly']\n['Spanish']\n['Barbecue']\n['Vietnamese', 'Vegetarian Friendly']\n['Cafe', 'Fusion', 'Healthy', 'French', 'Dutch', 'European', 'Vegan Options', 'Vegetarian Friendly']\n['Chinese']\n['American', 'British', 'Australian', 'New Zealand']\n['Italian', 'European', 'Mediterranean', 'Vegetarian Friendly']\n['Peruvian', 'Japanese', 'Sushi', 'Asian', 'Seafood']\n['Italian', 'Bar', 'Cafe', 'Mediterranean', 'Vegetarian Friendly']\n['Eastern European', 'Vegetarian Friendly']\n['European']\n['European', 'Portuguese']\n['Italian', 'Bar', 'Mediterranean', 'Pub', 'Vegetarian Friendly', 'Vegan Options']\n['Dutch', 'Bar', 'Pub', 'International', 'European', 'Vegetarian Friendly']\n['Mediterranean', 'European', 'Portuguese', 'Spanish']\n['Fast Food']\n['Mediterranean']\n['Italian']\n['European', 'Mediterranean', 'Fusion']\n['British']\n['Chinese', 'Asian']\n['Cafe', 'Spanish']\n['French']\n['Vegetarian Friendly']\n['European']\n['European', 'Spanish', 'Mediterranean', 'Vegetarian Friendly']\n['French']\n['American']\n['French', 'Bar', 'European']\n['Bar', 'Pub']\n['Brazilian', 'Mediterranean', 'Spanish', 'Fusion', 'South American']\n['Italian', 'Pizza', 'European', 'Vegetarian Friendly', 'Vegan Options']\n['British', 'European']\n['Italian']\n['Italian', 'Steakhouse', 'Pizza', 'Mediterranean', 'Barbecue', 'European']\n['Chinese', 'Asian']\n['German']\n['Pizza']\n['Dutch', 'Bar', 'European', 'International', 'Vegetarian Friendly', 'Gluten Free Options']\n['Brazilian', 'South American']\n['European', 'French', 'Gluten Free Options']\n['British', 'French', 'European', 'Vegetarian Friendly', 'Gluten Free Options']\n['Spanish']\n['Italian', 'Mediterranean']\n['European', 'Czech', 'Pizza', 'Central European']\n['Italian', 'Pizza', 'Vegetarian Friendly']\n['Seafood', 'European', 'British', 'Soups', 'Scottish', 'Vegetarian Friendly', 'Gluten Free Options']\n['Vegetarian Friendly', 'Vegan Options']\n['European', 'British', 'Vegetarian Friendly']\n['Steakhouse', 'European', 'Portuguese']\n['Mediterranean', 'European', 'Spanish', 'Vegetarian Friendly']\n['Spanish']\n['Italian']\n['Italian', 'Pizza', 'Vegetarian Friendly', 'Gluten Free Options']\n['Italian']\n['French', 'Wine Bar']\n['Spanish']\n['Fast Food', 'Asian', 'Thai', 'Vegetarian Friendly', 'Vegan Options']\n['French', 'Bar', 'European']\n['American', 'Kosher']\n['German', 'Central European', 'European', 'Vegetarian Friendly']\n['French', 'European', 'Vegetarian Friendly']\n['Dutch', 'Bar', 'European', 'Vegetarian Friendly', 'Gluten Free Options']\n['Italian', 'Mediterranean', 'Vegetarian Friendly']\n['Italian', 'British']\n['Turkish', 'Vegetarian Friendly']\n['Pub', 'Bar', 'British', 'Vegetarian Friendly']\n['Lebanese', 'Mediterranean', 'Middle Eastern', 'Vegetarian Friendly']\n['Asian', 'Thai', 'Fast Food']\n['Swedish', 'European', 'Wine Bar']\n['Italian', 'Mediterranean', 'European', 'Vegetarian Friendly']\n['Italian']\n['Italian', 'Pizza']\n['Chinese', 'Asian']\n['Japanese', 'Asian']\n['Vegetarian Friendly', 'Gluten Free Options']\n['French']\n['Bar', 'Mediterranean', 'Spanish', 'Pub', 'European', 'Grill']\n['Wine Bar', 'British']\n['African', 'Ethiopian']\n['Italian', 'Bar', 'Mediterranean', 'European', 'Wine Bar', 'Brew Pub', 'Vegetarian Friendly']\n['Italian', 'Mediterranean', 'European', 'Brew Pub', 'Fast Food']\n['Bar', 'Pub', 'British', 'Vegetarian Friendly']\n['Fast Food', 'Indian']\n['Vegetarian Friendly']\n['Bar', 'European', 'Cafe', 'Pub']\n['Italian']\n['Bar', 'Pub']\n['Mediterranean', 'Greek']\n['Steakhouse']\n['Japanese', 'Sushi', 'Asian', 'Vegetarian Friendly', 'Vegan Options', 'Gluten Free Options']\n['Diner', 'Mediterranean', 'Spanish', 'Bar']\n['Cafe', 'Spanish', 'Vegetarian Friendly']\n['French', 'European']\n['Spanish']\n['Middle Eastern', 'Lebanese', 'Cafe', 'Mediterranean', 'Halal', 'Vegetarian Friendly']\n['Turkish', 'Middle Eastern', 'Vegetarian Friendly']\n['German', 'European', 'Central European', 'Vegetarian Friendly']\n['Mexican', 'Latin', 'Central American', 'Vegetarian Friendly']\n['Vietnamese']\n['European', 'Portuguese']\n['French']\n['French', 'European', 'International', 'Fusion', 'Vegetarian Friendly']\n['Middle Eastern', 'Persian', 'Vegetarian Friendly', 'Gluten Free Options', 'Vegan Options', 'Halal']\n['Italian', 'Mediterranean', 'European', 'Vegetarian Friendly']\n['Italian', 'Seafood', 'Mediterranean']\n['Pizza']\n['French', 'European', 'Vegetarian Friendly', 'Gluten Free Options']\n['European', 'Portuguese']\n['Italian']\n['Latin', 'Bar', 'Spanish', 'Pub', 'Wine Bar', 'South American']\n['South American']\n['Thai']\n['Czech', 'Bar', 'European', 'Pub']\n['Mediterranean', 'Swiss', 'European', 'Vegetarian Friendly']\n['Irish', 'Seafood', 'Fast Food', 'European', 'Gluten Free Options']\n['European', 'Hungarian']\n['Italian']\n['Italian', 'Pizza', 'Mediterranean', 'European', 'Street Food', 'Vegetarian Friendly', 'Vegan Options']\n['Vietnamese']\n['Pub']\n['Mediterranean', 'Greek']\n['French']\n['Mediterranean', 'European', 'Spanish', 'Vegetarian Friendly', 'Gluten Free Options']\n['Italian', 'Pizza', 'Vegetarian Friendly']\n['Italian', 'Mediterranean', 'European', 'Vegetarian Friendly', 'Vegan Options']\n['Cafe', 'Italian', 'Vegetarian Friendly']\n['Mediterranean', 'European', 'Spanish', 'Vegetarian Friendly', 'Vegan Options', 'Gluten Free Options']\n['Spanish']\n['Italian', 'Mediterranean']\n['Japanese']\n['Cafe', 'Spanish']\n['Barbecue', 'Asian', 'Korean', 'Vegetarian Friendly', 'Vegan Options']\n['Spanish', 'Bar']\n['European', 'Wine Bar', 'Central European', 'International', 'Fusion', 'Vegetarian Friendly', 'Gluten Free Options']\n['Fast Food']\n['Indian', 'Pakistani', 'Vegetarian Friendly', 'Halal']\n['Chinese', 'Fast Food', 'Asian', 'Vegetarian Friendly']\n['Cafe', 'Pub']\n['Cafe', 'British', 'Vegetarian Friendly', 'Vegan Options']\n['French', 'Cafe', 'Spanish']\n['French', 'European', 'Gluten Free Options']\n['Italian', 'Vegetarian Friendly', 'Gluten Free Options']\n['Indian']\n['Portuguese', 'European']\n['Pizza']\n['German', 'Contemporary']\n['Indian']\n['Italian', 'Pizza', 'Mediterranean', 'European', 'Vegetarian Friendly', 'Gluten Free Options']\n['Mediterranean', 'Italian', 'Seafood']\n['Mediterranean', 'European', 'Spanish']\n['European', 'Portuguese']\n['Italian', 'Czech', 'Pizza', 'European']\n['British', 'Vegetarian Friendly', 'Gluten Free Options']\n['Cafe']\n['Mediterranean', 'European', 'Portuguese']\n['Cafe', 'European', 'Vegetarian Friendly']\n['Italian', 'Brew Pub', 'Fast Food', 'Pub', 'Street Food', 'Vegetarian Friendly']\n['French', 'Japanese']\n['French', 'Wine Bar']\n['Mediterranean', 'Greek']\n['American', 'Polish', 'European']\n['Pizza']\n['Japanese', 'Sushi', 'Asian']\n['French', 'Cafe', 'European']\n['Mediterranean', 'Spanish']\n['Mediterranean', 'Spanish']\n['Pizza']\n['International', 'Italian', 'European', 'Mediterranean']\n['Bar', 'European', 'Pub', 'Portuguese']\n['Cafe', 'Bar', 'Vegetarian Friendly', 'Vegan Options']\n['Mediterranean', 'Middle Eastern', 'Fast Food', 'Israeli']\n['Chinese', 'Asian', 'Vegetarian Friendly']\n['Italian', 'Vegetarian Friendly']\n['French', 'Mediterranean', 'European', 'Seafood']\n['European', 'Portuguese', 'Mediterranean', 'Wine Bar']\n['Mediterranean', 'European', 'Spanish']\n['Pizza', 'Cafe', 'Vegetarian Friendly', 'Vegan Options', 'Gluten Free Options']\n['French', 'European', 'Vegetarian Friendly', 'Vegan Options', 'Gluten Free Options']\n['French', 'European', 'Vegetarian Friendly']\n['Bar', 'European']\n['Czech', 'European']\n['Italian', 'Mediterranean', 'Seafood']\n['Indian', 'Asian', 'Balti', 'Eastern European', 'Pakistani']\n['Italian']\n['Chinese', 'Barbecue', 'Minority Chinese']\n['American']\n['African', 'Gastropub']\n['International', 'Mediterranean', 'European', 'Spanish', 'Vegetarian Friendly', 'Vegan Options', 'Gluten Free Options']\n['Cafe']\n['Mediterranean', 'European']\n['French']\n['Italian', 'Mediterranean']\n['Soups', 'Central European', 'Hungarian', 'European', 'Eastern European']\n['Mediterranean']\n['Thai', 'Vegetarian Friendly', 'Vegan Options']\n['Indian', 'Balti', 'Asian', 'Vegetarian Friendly', 'Vegan Options', 'Halal', 'Gluten Free Options']\n['Indian', 'Asian']\n['International', 'European', 'Czech', 'Vegetarian Friendly']\n['Sushi']\n['Mexican', 'Latin', 'Fast Food', 'Spanish', 'South American', 'Central American', 'Vegetarian Friendly']\n['Cafe', 'British', 'Vegetarian Friendly']\n['Mediterranean', 'Grill', 'Steakhouse', 'Barbecue', 'Spanish']\n['Soups', 'Healthy', 'Vegetarian Friendly', 'Vegan Options']\n['European', 'British', 'Scottish', 'Vegetarian Friendly', 'Vegan Options', 'Gluten Free Options']\n['Mediterranean', 'European', 'Spanish', 'Gluten Free Options', 'Vegetarian Friendly']\n['Cafe', 'European', 'French']\n['Latin', 'Bar', 'Spanish', 'Pub']\n['French', 'Bar', 'European', 'Vegetarian Friendly']\n['Mediterranean', 'European', 'Greek', 'Fusion', 'Albanian', 'Vegetarian Friendly', 'Gluten Free Options']\n['Mexican', 'Fast Food', 'Vegetarian Friendly', 'Vegan Options']\n['Mediterranean', 'European', 'Spanish']\n['Moroccan', 'African', 'Mediterranean', 'Middle Eastern', 'Halal']\n['Spanish']\n['Cafe', 'International', 'Mediterranean', 'Spanish', 'Delicatessen', 'Wine Bar', 'Vegetarian Friendly', 'Vegan Options', 'Gluten Free Options']\n['European', 'Vegetarian Friendly', 'Gluten Free Options']\n['Italian', 'Pizza', 'Mediterranean', 'European', 'Vegetarian Friendly', 'Vegan Options']\n['Pakistani', 'Middle Eastern', 'Halal']\n['Pizza', 'Cafe']\n['European', 'Czech']\n['European', 'Vegetarian Friendly', 'Vegan Options', 'Gluten Free Options']\n['Indian', 'Asian', 'Balti', 'Eastern European', 'Bangladeshi', 'Vegetarian Friendly', 'Halal']\n['Japanese', 'Sushi', 'Fusion', 'Vegetarian Friendly']\n['French', 'European', 'Czech']\n['Brew Pub', 'Pub', 'Wine Bar']\n['French', 'European', 'Gastropub', 'Vegetarian Friendly', 'Vegan Options']\n['Italian', 'Wine Bar']\n['Spanish']\n['Mediterranean', 'European', 'Spanish']\n['Cafe', 'French', 'Dutch', 'European', 'Vegetarian Friendly']\n['Cafe', 'Delicatessen', 'Healthy', 'Wine Bar', 'Street Food']\n['Asian', 'Thai', 'Vegetarian Friendly', 'Gluten Free Options']\n['Mediterranean']\n['Cafe', 'Delicatessen', 'Street Food']\n['Mediterranean', 'Greek']\n['Steakhouse', 'Barbecue', 'Australian', 'Argentinean', 'South American']\n['Bar', 'British', 'Pub']\n['Italian', 'Seafood', 'Mediterranean', 'European', 'Vegetarian Friendly', 'Gluten Free Options']\n['Seafood', 'Mediterranean', 'European', 'Portuguese']\n['French', 'American', 'Cafe', 'Healthy', 'Soups']\n['African', 'Ethiopian', 'Vegetarian Friendly', 'Vegan Options']\n['American', 'Fast Food']\n['International']\n['European', 'Portuguese']\n['French', 'Contemporary', 'Fusion', 'Gastropub']\n['Swedish', 'Scandinavian', 'Vegetarian Friendly', 'Gluten Free Options']\n['French', 'Fast Food', 'Mediterranean', 'Healthy']\n['Italian', 'Vegetarian Friendly', 'Vegan Options', 'Gluten Free Options']\n['French', 'American', 'Bar', 'European', 'Vegetarian Friendly']\n['Japanese', 'Sushi']\n['Polish', 'European', 'Eastern European', 'Central European', 'Vegetarian Friendly']\n['Spanish']\n"
    },
    {
     "output_type": "execute_result",
     "data": {
      "text/plain": "0        None\n2        None\n4        None\n6        None\n7        None\n         ... \n39995    None\n39996    None\n39997    None\n39998    None\n39999    None\nName: cuisine_style, Length: 30717, dtype: object"
     },
     "metadata": {},
     "execution_count": 127
    }
   ],
   "source": [
    "df.cuisine_style.dropna().apply(lambda c: print(type(c)))"
   ]
  },
  {
   "cell_type": "code",
   "execution_count": null,
   "metadata": {},
   "outputs": [],
   "source": []
  }
 ],
 "metadata": {
  "kernelspec": {
   "display_name": "Python 3",
   "language": "python",
   "name": "python3"
  },
  "language_info": {
   "codemirror_mode": {
    "name": "ipython",
    "version": 3
   },
   "file_extension": ".py",
   "mimetype": "text/x-python",
   "name": "python",
   "nbconvert_exporter": "python",
   "pygments_lexer": "ipython3",
   "version": "3.7.6-final"
  }
 },
 "nbformat": 4,
 "nbformat_minor": 2
}