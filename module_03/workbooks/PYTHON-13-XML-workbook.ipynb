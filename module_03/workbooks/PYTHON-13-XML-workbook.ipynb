{
 "metadata": {
  "language_info": {
   "codemirror_mode": {
    "name": "ipython",
    "version": 3
   },
   "file_extension": ".py",
   "mimetype": "text/x-python",
   "name": "python",
   "nbconvert_exporter": "python",
   "pygments_lexer": "ipython3",
   "version": "3.7.6-final"
  },
  "orig_nbformat": 2,
  "kernelspec": {
   "name": "python3",
   "display_name": "Python 3"
  }
 },
 "nbformat": 4,
 "nbformat_minor": 2,
 "cells": [
  {
   "cell_type": "code",
   "execution_count": 12,
   "metadata": {},
   "outputs": [],
   "source": [
    "import pandas as pd\n",
    "import xml.etree.ElementTree as ET"
   ]
  },
  {
   "cell_type": "code",
   "execution_count": 13,
   "metadata": {
    "tags": []
   },
   "outputs": [
    {
     "output_type": "stream",
     "name": "stdout",
     "text": "<Element 'menu' at 0x7f93f0f052f0>\n[<Element 'dish' at 0x7f93f0f05410>, <Element 'dish' at 0x7f93f0f056b0>]\n"
    }
   ],
   "source": [
    "tree = ET.parse('data/menu.xml')    \n",
    "root = tree.getroot() \n",
    "print(root)\n",
    "print(root.getchildren())"
   ]
  },
  {
   "cell_type": "code",
   "execution_count": 14,
   "metadata": {},
   "outputs": [
    {
     "output_type": "execute_result",
     "data": {
      "text/plain": "3"
     },
     "metadata": {},
     "execution_count": 14
    }
   ],
   "source": [
    "len(root[0])"
   ]
  },
  {
   "cell_type": "code",
   "execution_count": 15,
   "metadata": {},
   "outputs": [
    {
     "output_type": "execute_result",
     "data": {
      "text/plain": "    name price weight  class\n0   Кура    40    300   Мясо\n1  Греча    20    200  Крупа",
      "text/html": "<div>\n<style scoped>\n    .dataframe tbody tr th:only-of-type {\n        vertical-align: middle;\n    }\n\n    .dataframe tbody tr th {\n        vertical-align: top;\n    }\n\n    .dataframe thead th {\n        text-align: right;\n    }\n</style>\n<table border=\"1\" class=\"dataframe\">\n  <thead>\n    <tr style=\"text-align: right;\">\n      <th></th>\n      <th>name</th>\n      <th>price</th>\n      <th>weight</th>\n      <th>class</th>\n    </tr>\n  </thead>\n  <tbody>\n    <tr>\n      <th>0</th>\n      <td>Кура</td>\n      <td>40</td>\n      <td>300</td>\n      <td>Мясо</td>\n    </tr>\n    <tr>\n      <th>1</th>\n      <td>Греча</td>\n      <td>20</td>\n      <td>200</td>\n      <td>Крупа</td>\n    </tr>\n  </tbody>\n</table>\n</div>"
     },
     "metadata": {},
     "execution_count": 15
    }
   ],
   "source": [
    "df_index = ['name', 'price', 'weight', 'class']  \n",
    "df = pd.DataFrame(columns=df_index)  \n",
    "\n",
    "for elem in root:  \n",
    "    elements = [elem.get('name'), elem[0].text, elem[1].text, elem[2].text]  \n",
    "    df = df.append(pd.Series(elements, index=df_index), ignore_index=True) \n",
    "\n",
    "df"
   ]
  }
 ]
}