{
 "metadata": {
  "language_info": {
   "codemirror_mode": {
    "name": "ipython",
    "version": 3
   },
   "file_extension": ".py",
   "mimetype": "text/x-python",
   "name": "python",
   "nbconvert_exporter": "python",
   "pygments_lexer": "ipython3",
   "version": "3.7.6-final"
  },
  "orig_nbformat": 2,
  "kernelspec": {
   "name": "python3",
   "display_name": "Python 3"
  }
 },
 "nbformat": 4,
 "nbformat_minor": 2,
 "cells": [
  {
   "cell_type": "code",
   "execution_count": 3,
   "metadata": {},
   "outputs": [],
   "source": [
    "import pandas as pd"
   ]
  },
  {
   "cell_type": "code",
   "execution_count": 7,
   "metadata": {
    "tags": []
   },
   "outputs": [
    {
     "output_type": "stream",
     "name": "stdout",
     "text": "<class 'pandas.core.frame.DataFrame'>\nRangeIndex: 864 entries, 0 to 863\nData columns (total 19 columns):\n #   Column  Non-Null Count  Dtype  \n---  ------  --------------  -----  \n 0   0       860 non-null    object \n 1   1       860 non-null    object \n 2   2       131 non-null    object \n 3   3       133 non-null    object \n 4   4       133 non-null    object \n 5   5       131 non-null    object \n 6   6       132 non-null    object \n 7   7       857 non-null    object \n 8   8       861 non-null    object \n 9   9       858 non-null    object \n 10  10      130 non-null    object \n 11  11      4 non-null      object \n 12  12      131 non-null    object \n 13  13      858 non-null    object \n 14  14      860 non-null    object \n 15  15      859 non-null    object \n 16  16      0 non-null      float64\n 17  17      131 non-null    object \n 18  18      132 non-null    object \ndtypes: float64(1), object(18)\nmemory usage: 128.4+ KB\n"
    }
   ],
   "source": [
    "data = pd.read_excel('data/Fig3-1.xls', header=None) \n",
    "data.head()\n",
    "data.info()"
   ]
  },
  {
   "cell_type": "code",
   "execution_count": 20,
   "metadata": {
    "tags": []
   },
   "outputs": [
    {
     "output_type": "stream",
     "name": "stdout",
     "text": "<class 'pandas.core.frame.DataFrame'>\nInt64Index: 15 entries, 0 to 25\nData columns (total 13 columns):\n #   Column  Non-Null Count  Dtype  \n---  ------  --------------  -----  \n 0   0       0 non-null      float64\n 1   1       7 non-null      object \n 2   2       10 non-null     object \n 3   3       8 non-null      object \n 4   4       2 non-null      object \n 5   5       1 non-null      object \n 6   6       3 non-null      object \n 7   7       0 non-null      float64\n 8   8       3 non-null      object \n 9   9       3 non-null      object \n 10  10      0 non-null      float64\n 11  11      7 non-null      object \n 12  12      4 non-null      object \ndtypes: float64(3), object(10)\nmemory usage: 1.6+ KB\n"
    }
   ],
   "source": [
    "data = pd.read_excel(\"data/nakladnaya.xls\", header=None, skiprows=2)\n",
    "data = data.dropna(how='all')\n",
    "data.info()"
   ]
  },
  {
   "cell_type": "code",
   "execution_count": 21,
   "metadata": {},
   "outputs": [
    {
     "output_type": "execute_result",
     "data": {
      "text/plain": "    0                                  1   \\\n0  NaN                                NaN   \n2  NaN                  Грузоотправитель:   \n4  NaN                   Грузополучатель:   \n6  NaN  Основание для отпуска: Договор №    \n9  NaN                                  №   \n10 NaN                                п/п   \n11 NaN                                  1   \n12 NaN                                  2   \n14 NaN                                NaN   \n16 NaN                                NaN   \n18 NaN                                NaN   \n20 NaN                                NaN   \n22 NaN                                NaN   \n23 NaN                                NaN   \n25 NaN                                NaN   \n\n                                             2   \\\n0                                           NaN   \n2                                           NaN   \n4                                           NaN   \n6                                           NaN   \n9   Наименование товарно-материальных ценностей   \n10                                          NaN   \n11                        Велосипед \"Спринтер\"    \n12                          Велосипед \"Малютка\"   \n14                              Всего отпущено    \n16                                   На сумму     \n18                            Отпуск разрешил     \n20                                         М.П.   \n22                                   Отпустил     \n23                                    Получил     \n25                                         М.П.   \n\n                                   3                                  4   \\\n0                           НАКЛАДНАЯ  № 5764809  от \"08\" апреля 2018 г.   \n2              ООО \"Первый строитель\"                                NaN   \n4                 ООО \"Стройка века\"                                 NaN   \n6                                 NaN                                 86   \n9                                 NaN                                NaN   \n10                                NaN                                NaN   \n11                                NaN                                NaN   \n12                                NaN                                NaN   \n14               2 (два) наименования                                NaN   \n16  80 000 (восемьдесят тысяч) рублей                                NaN   \n18                     Зам. Директора                                NaN   \n20                                NaN                                NaN   \n22                         Кладовщик                                 NaN   \n23                          Водитель                                 NaN   \n25                                NaN                                NaN   \n\n                       5         6   7          8           9   10  \\\n0                     NaN       NaN NaN        NaN         NaN NaN   \n2                     NaN       NaN NaN        NaN         NaN NaN   \n4                     NaN       NaN NaN        NaN         NaN NaN   \n6   от \"02\"апреля 2018 г.       NaN NaN        NaN         NaN NaN   \n9                     NaN  Ед. изм. NaN        NaN  Количество NaN   \n10                    NaN       NaN NaN        NaN         NaN NaN   \n11                    NaN        шт NaN        NaN           5 NaN   \n12                    NaN        шт NaN        NaN          10 NaN   \n14                    NaN       NaN NaN        NaN         NaN NaN   \n16                    NaN       NaN NaN        NaN         NaN NaN   \n18                    NaN       NaN NaN    Куликов         NaN NaN   \n20                    NaN       NaN NaN        NaN         NaN NaN   \n22                    NaN       NaN NaN      Мазов         NaN NaN   \n23                    NaN       NaN NaN  Дроценко          NaN NaN   \n25                    NaN       NaN NaN        NaN         NaN NaN   \n\n                11         12  \n0              NaN        NaN  \n2              NaN        NaN  \n4              NaN        NaN  \n6              NaN        NaN  \n9           Цена,     Сумма,   \n10       руб. коп.  руб. коп.  \n11            9000      45000  \n12            3500      35000  \n14             NaN        NaN  \n16             NaN        NaN  \n18   Куликов П.Д.         NaN  \n20             NaN        NaN  \n22      Мазов Р.К.        NaN  \n23  Дроценко А.С.         NaN  \n25             NaN        NaN  ",
      "text/html": "<div>\n<style scoped>\n    .dataframe tbody tr th:only-of-type {\n        vertical-align: middle;\n    }\n\n    .dataframe tbody tr th {\n        vertical-align: top;\n    }\n\n    .dataframe thead th {\n        text-align: right;\n    }\n</style>\n<table border=\"1\" class=\"dataframe\">\n  <thead>\n    <tr style=\"text-align: right;\">\n      <th></th>\n      <th>0</th>\n      <th>1</th>\n      <th>2</th>\n      <th>3</th>\n      <th>4</th>\n      <th>5</th>\n      <th>6</th>\n      <th>7</th>\n      <th>8</th>\n      <th>9</th>\n      <th>10</th>\n      <th>11</th>\n      <th>12</th>\n    </tr>\n  </thead>\n  <tbody>\n    <tr>\n      <th>0</th>\n      <td>NaN</td>\n      <td>NaN</td>\n      <td>NaN</td>\n      <td>НАКЛАДНАЯ</td>\n      <td>№ 5764809  от \"08\" апреля 2018 г.</td>\n      <td>NaN</td>\n      <td>NaN</td>\n      <td>NaN</td>\n      <td>NaN</td>\n      <td>NaN</td>\n      <td>NaN</td>\n      <td>NaN</td>\n      <td>NaN</td>\n    </tr>\n    <tr>\n      <th>2</th>\n      <td>NaN</td>\n      <td>Грузоотправитель:</td>\n      <td>NaN</td>\n      <td>ООО \"Первый строитель\"</td>\n      <td>NaN</td>\n      <td>NaN</td>\n      <td>NaN</td>\n      <td>NaN</td>\n      <td>NaN</td>\n      <td>NaN</td>\n      <td>NaN</td>\n      <td>NaN</td>\n      <td>NaN</td>\n    </tr>\n    <tr>\n      <th>4</th>\n      <td>NaN</td>\n      <td>Грузополучатель:</td>\n      <td>NaN</td>\n      <td>ООО \"Стройка века\"</td>\n      <td>NaN</td>\n      <td>NaN</td>\n      <td>NaN</td>\n      <td>NaN</td>\n      <td>NaN</td>\n      <td>NaN</td>\n      <td>NaN</td>\n      <td>NaN</td>\n      <td>NaN</td>\n    </tr>\n    <tr>\n      <th>6</th>\n      <td>NaN</td>\n      <td>Основание для отпуска: Договор №</td>\n      <td>NaN</td>\n      <td>NaN</td>\n      <td>86</td>\n      <td>от \"02\"апреля 2018 г.</td>\n      <td>NaN</td>\n      <td>NaN</td>\n      <td>NaN</td>\n      <td>NaN</td>\n      <td>NaN</td>\n      <td>NaN</td>\n      <td>NaN</td>\n    </tr>\n    <tr>\n      <th>9</th>\n      <td>NaN</td>\n      <td>№</td>\n      <td>Наименование товарно-материальных ценностей</td>\n      <td>NaN</td>\n      <td>NaN</td>\n      <td>NaN</td>\n      <td>Ед. изм.</td>\n      <td>NaN</td>\n      <td>NaN</td>\n      <td>Количество</td>\n      <td>NaN</td>\n      <td>Цена,</td>\n      <td>Сумма,</td>\n    </tr>\n    <tr>\n      <th>10</th>\n      <td>NaN</td>\n      <td>п/п</td>\n      <td>NaN</td>\n      <td>NaN</td>\n      <td>NaN</td>\n      <td>NaN</td>\n      <td>NaN</td>\n      <td>NaN</td>\n      <td>NaN</td>\n      <td>NaN</td>\n      <td>NaN</td>\n      <td>руб. коп.</td>\n      <td>руб. коп.</td>\n    </tr>\n    <tr>\n      <th>11</th>\n      <td>NaN</td>\n      <td>1</td>\n      <td>Велосипед \"Спринтер\"</td>\n      <td>NaN</td>\n      <td>NaN</td>\n      <td>NaN</td>\n      <td>шт</td>\n      <td>NaN</td>\n      <td>NaN</td>\n      <td>5</td>\n      <td>NaN</td>\n      <td>9000</td>\n      <td>45000</td>\n    </tr>\n    <tr>\n      <th>12</th>\n      <td>NaN</td>\n      <td>2</td>\n      <td>Велосипед \"Малютка\"</td>\n      <td>NaN</td>\n      <td>NaN</td>\n      <td>NaN</td>\n      <td>шт</td>\n      <td>NaN</td>\n      <td>NaN</td>\n      <td>10</td>\n      <td>NaN</td>\n      <td>3500</td>\n      <td>35000</td>\n    </tr>\n    <tr>\n      <th>14</th>\n      <td>NaN</td>\n      <td>NaN</td>\n      <td>Всего отпущено</td>\n      <td>2 (два) наименования</td>\n      <td>NaN</td>\n      <td>NaN</td>\n      <td>NaN</td>\n      <td>NaN</td>\n      <td>NaN</td>\n      <td>NaN</td>\n      <td>NaN</td>\n      <td>NaN</td>\n      <td>NaN</td>\n    </tr>\n    <tr>\n      <th>16</th>\n      <td>NaN</td>\n      <td>NaN</td>\n      <td>На сумму</td>\n      <td>80 000 (восемьдесят тысяч) рублей</td>\n      <td>NaN</td>\n      <td>NaN</td>\n      <td>NaN</td>\n      <td>NaN</td>\n      <td>NaN</td>\n      <td>NaN</td>\n      <td>NaN</td>\n      <td>NaN</td>\n      <td>NaN</td>\n    </tr>\n    <tr>\n      <th>18</th>\n      <td>NaN</td>\n      <td>NaN</td>\n      <td>Отпуск разрешил</td>\n      <td>Зам. Директора</td>\n      <td>NaN</td>\n      <td>NaN</td>\n      <td>NaN</td>\n      <td>NaN</td>\n      <td>Куликов</td>\n      <td>NaN</td>\n      <td>NaN</td>\n      <td>Куликов П.Д.</td>\n      <td>NaN</td>\n    </tr>\n    <tr>\n      <th>20</th>\n      <td>NaN</td>\n      <td>NaN</td>\n      <td>М.П.</td>\n      <td>NaN</td>\n      <td>NaN</td>\n      <td>NaN</td>\n      <td>NaN</td>\n      <td>NaN</td>\n      <td>NaN</td>\n      <td>NaN</td>\n      <td>NaN</td>\n      <td>NaN</td>\n      <td>NaN</td>\n    </tr>\n    <tr>\n      <th>22</th>\n      <td>NaN</td>\n      <td>NaN</td>\n      <td>Отпустил</td>\n      <td>Кладовщик</td>\n      <td>NaN</td>\n      <td>NaN</td>\n      <td>NaN</td>\n      <td>NaN</td>\n      <td>Мазов</td>\n      <td>NaN</td>\n      <td>NaN</td>\n      <td>Мазов Р.К.</td>\n      <td>NaN</td>\n    </tr>\n    <tr>\n      <th>23</th>\n      <td>NaN</td>\n      <td>NaN</td>\n      <td>Получил</td>\n      <td>Водитель</td>\n      <td>NaN</td>\n      <td>NaN</td>\n      <td>NaN</td>\n      <td>NaN</td>\n      <td>Дроценко</td>\n      <td>NaN</td>\n      <td>NaN</td>\n      <td>Дроценко А.С.</td>\n      <td>NaN</td>\n    </tr>\n    <tr>\n      <th>25</th>\n      <td>NaN</td>\n      <td>NaN</td>\n      <td>М.П.</td>\n      <td>NaN</td>\n      <td>NaN</td>\n      <td>NaN</td>\n      <td>NaN</td>\n      <td>NaN</td>\n      <td>NaN</td>\n      <td>NaN</td>\n      <td>NaN</td>\n      <td>NaN</td>\n      <td>NaN</td>\n    </tr>\n  </tbody>\n</table>\n</div>"
     },
     "metadata": {},
     "execution_count": 21
    }
   ],
   "source": [
    "data"
   ]
  },
  {
   "cell_type": "code",
   "execution_count": 24,
   "metadata": {},
   "outputs": [
    {
     "output_type": "execute_result",
     "data": {
      "text/plain": "    0                                  1   \\\n0  NaN                                NaN   \n2  NaN                  Грузоотправитель:   \n4  NaN                   Грузополучатель:   \n6  NaN  Основание для отпуска: Договор №    \n9  NaN                                  №   \n10 NaN                                п/п   \n11 NaN                                  1   \n12 NaN                                  2   \n14 NaN                                NaN   \n16 NaN                                NaN   \n18 NaN                                NaN   \n20 NaN                                NaN   \n22 NaN                                NaN   \n23 NaN                                NaN   \n25 NaN                                NaN   \n\n                                             2   \\\n0                                           NaN   \n2                                           NaN   \n4                                           NaN   \n6                                           NaN   \n9   Наименование товарно-материальных ценностей   \n10                                          NaN   \n11                        Велосипед \"Спринтер\"    \n12                          Велосипед \"Малютка\"   \n14                              Всего отпущено    \n16                                   На сумму     \n18                            Отпуск разрешил     \n20                                         М.П.   \n22                                   Отпустил     \n23                                    Получил     \n25                                         М.П.   \n\n                                   3                                  4   \\\n0                           НАКЛАДНАЯ  № 5764809  от \"08\" апреля 2018 г.   \n2              ООО \"Первый строитель\"                                NaN   \n4                 ООО \"Стройка века\"                                 NaN   \n6                                 NaN                                 86   \n9                                 NaN                                NaN   \n10                                NaN                                NaN   \n11                                NaN                                NaN   \n12                                NaN                                NaN   \n14               2 (два) наименования                                NaN   \n16  80 000 (восемьдесят тысяч) рублей                                NaN   \n18                     Зам. Директора                                NaN   \n20                                NaN                                NaN   \n22                         Кладовщик                                 NaN   \n23                          Водитель                                 NaN   \n25                                NaN                                NaN   \n\n                       5         6   7          8           9   10  \\\n0                     NaN       NaN NaN        NaN         NaN NaN   \n2                     NaN       NaN NaN        NaN         NaN NaN   \n4                     NaN       NaN NaN        NaN         NaN NaN   \n6   от \"02\"апреля 2018 г.       NaN NaN        NaN         NaN NaN   \n9                     NaN  Ед. изм. NaN        NaN  Количество NaN   \n10                    NaN       NaN NaN        NaN         NaN NaN   \n11                    NaN        шт NaN        NaN           5 NaN   \n12                    NaN        шт NaN        NaN          10 NaN   \n14                    NaN       NaN NaN        NaN         NaN NaN   \n16                    NaN       NaN NaN        NaN         NaN NaN   \n18                    NaN       NaN NaN    Куликов         NaN NaN   \n20                    NaN       NaN NaN        NaN         NaN NaN   \n22                    NaN       NaN NaN      Мазов         NaN NaN   \n23                    NaN       NaN NaN  Дроценко          NaN NaN   \n25                    NaN       NaN NaN        NaN         NaN NaN   \n\n                11         12  \n0              NaN        NaN  \n2              NaN        NaN  \n4              NaN        NaN  \n6              NaN        NaN  \n9           Цена,     Сумма,   \n10       руб. коп.  руб. коп.  \n11            9000      45000  \n12            3500      35000  \n14             NaN        NaN  \n16             NaN        NaN  \n18   Куликов П.Д.         NaN  \n20             NaN        NaN  \n22      Мазов Р.К.        NaN  \n23  Дроценко А.С.         NaN  \n25             NaN        NaN  ",
      "text/html": "<div>\n<style scoped>\n    .dataframe tbody tr th:only-of-type {\n        vertical-align: middle;\n    }\n\n    .dataframe tbody tr th {\n        vertical-align: top;\n    }\n\n    .dataframe thead th {\n        text-align: right;\n    }\n</style>\n<table border=\"1\" class=\"dataframe\">\n  <thead>\n    <tr style=\"text-align: right;\">\n      <th></th>\n      <th>0</th>\n      <th>1</th>\n      <th>2</th>\n      <th>3</th>\n      <th>4</th>\n      <th>5</th>\n      <th>6</th>\n      <th>7</th>\n      <th>8</th>\n      <th>9</th>\n      <th>10</th>\n      <th>11</th>\n      <th>12</th>\n    </tr>\n  </thead>\n  <tbody>\n    <tr>\n      <th>0</th>\n      <td>NaN</td>\n      <td>NaN</td>\n      <td>NaN</td>\n      <td>НАКЛАДНАЯ</td>\n      <td>№ 5764809  от \"08\" апреля 2018 г.</td>\n      <td>NaN</td>\n      <td>NaN</td>\n      <td>NaN</td>\n      <td>NaN</td>\n      <td>NaN</td>\n      <td>NaN</td>\n      <td>NaN</td>\n      <td>NaN</td>\n    </tr>\n    <tr>\n      <th>2</th>\n      <td>NaN</td>\n      <td>Грузоотправитель:</td>\n      <td>NaN</td>\n      <td>ООО \"Первый строитель\"</td>\n      <td>NaN</td>\n      <td>NaN</td>\n      <td>NaN</td>\n      <td>NaN</td>\n      <td>NaN</td>\n      <td>NaN</td>\n      <td>NaN</td>\n      <td>NaN</td>\n      <td>NaN</td>\n    </tr>\n    <tr>\n      <th>4</th>\n      <td>NaN</td>\n      <td>Грузополучатель:</td>\n      <td>NaN</td>\n      <td>ООО \"Стройка века\"</td>\n      <td>NaN</td>\n      <td>NaN</td>\n      <td>NaN</td>\n      <td>NaN</td>\n      <td>NaN</td>\n      <td>NaN</td>\n      <td>NaN</td>\n      <td>NaN</td>\n      <td>NaN</td>\n    </tr>\n    <tr>\n      <th>6</th>\n      <td>NaN</td>\n      <td>Основание для отпуска: Договор №</td>\n      <td>NaN</td>\n      <td>NaN</td>\n      <td>86</td>\n      <td>от \"02\"апреля 2018 г.</td>\n      <td>NaN</td>\n      <td>NaN</td>\n      <td>NaN</td>\n      <td>NaN</td>\n      <td>NaN</td>\n      <td>NaN</td>\n      <td>NaN</td>\n    </tr>\n    <tr>\n      <th>9</th>\n      <td>NaN</td>\n      <td>№</td>\n      <td>Наименование товарно-материальных ценностей</td>\n      <td>NaN</td>\n      <td>NaN</td>\n      <td>NaN</td>\n      <td>Ед. изм.</td>\n      <td>NaN</td>\n      <td>NaN</td>\n      <td>Количество</td>\n      <td>NaN</td>\n      <td>Цена,</td>\n      <td>Сумма,</td>\n    </tr>\n    <tr>\n      <th>10</th>\n      <td>NaN</td>\n      <td>п/п</td>\n      <td>NaN</td>\n      <td>NaN</td>\n      <td>NaN</td>\n      <td>NaN</td>\n      <td>NaN</td>\n      <td>NaN</td>\n      <td>NaN</td>\n      <td>NaN</td>\n      <td>NaN</td>\n      <td>руб. коп.</td>\n      <td>руб. коп.</td>\n    </tr>\n    <tr>\n      <th>11</th>\n      <td>NaN</td>\n      <td>1</td>\n      <td>Велосипед \"Спринтер\"</td>\n      <td>NaN</td>\n      <td>NaN</td>\n      <td>NaN</td>\n      <td>шт</td>\n      <td>NaN</td>\n      <td>NaN</td>\n      <td>5</td>\n      <td>NaN</td>\n      <td>9000</td>\n      <td>45000</td>\n    </tr>\n    <tr>\n      <th>12</th>\n      <td>NaN</td>\n      <td>2</td>\n      <td>Велосипед \"Малютка\"</td>\n      <td>NaN</td>\n      <td>NaN</td>\n      <td>NaN</td>\n      <td>шт</td>\n      <td>NaN</td>\n      <td>NaN</td>\n      <td>10</td>\n      <td>NaN</td>\n      <td>3500</td>\n      <td>35000</td>\n    </tr>\n    <tr>\n      <th>14</th>\n      <td>NaN</td>\n      <td>NaN</td>\n      <td>Всего отпущено</td>\n      <td>2 (два) наименования</td>\n      <td>NaN</td>\n      <td>NaN</td>\n      <td>NaN</td>\n      <td>NaN</td>\n      <td>NaN</td>\n      <td>NaN</td>\n      <td>NaN</td>\n      <td>NaN</td>\n      <td>NaN</td>\n    </tr>\n    <tr>\n      <th>16</th>\n      <td>NaN</td>\n      <td>NaN</td>\n      <td>На сумму</td>\n      <td>80 000 (восемьдесят тысяч) рублей</td>\n      <td>NaN</td>\n      <td>NaN</td>\n      <td>NaN</td>\n      <td>NaN</td>\n      <td>NaN</td>\n      <td>NaN</td>\n      <td>NaN</td>\n      <td>NaN</td>\n      <td>NaN</td>\n    </tr>\n    <tr>\n      <th>18</th>\n      <td>NaN</td>\n      <td>NaN</td>\n      <td>Отпуск разрешил</td>\n      <td>Зам. Директора</td>\n      <td>NaN</td>\n      <td>NaN</td>\n      <td>NaN</td>\n      <td>NaN</td>\n      <td>Куликов</td>\n      <td>NaN</td>\n      <td>NaN</td>\n      <td>Куликов П.Д.</td>\n      <td>NaN</td>\n    </tr>\n    <tr>\n      <th>20</th>\n      <td>NaN</td>\n      <td>NaN</td>\n      <td>М.П.</td>\n      <td>NaN</td>\n      <td>NaN</td>\n      <td>NaN</td>\n      <td>NaN</td>\n      <td>NaN</td>\n      <td>NaN</td>\n      <td>NaN</td>\n      <td>NaN</td>\n      <td>NaN</td>\n      <td>NaN</td>\n    </tr>\n    <tr>\n      <th>22</th>\n      <td>NaN</td>\n      <td>NaN</td>\n      <td>Отпустил</td>\n      <td>Кладовщик</td>\n      <td>NaN</td>\n      <td>NaN</td>\n      <td>NaN</td>\n      <td>NaN</td>\n      <td>Мазов</td>\n      <td>NaN</td>\n      <td>NaN</td>\n      <td>Мазов Р.К.</td>\n      <td>NaN</td>\n    </tr>\n    <tr>\n      <th>23</th>\n      <td>NaN</td>\n      <td>NaN</td>\n      <td>Получил</td>\n      <td>Водитель</td>\n      <td>NaN</td>\n      <td>NaN</td>\n      <td>NaN</td>\n      <td>NaN</td>\n      <td>Дроценко</td>\n      <td>NaN</td>\n      <td>NaN</td>\n      <td>Дроценко А.С.</td>\n      <td>NaN</td>\n    </tr>\n    <tr>\n      <th>25</th>\n      <td>NaN</td>\n      <td>NaN</td>\n      <td>М.П.</td>\n      <td>NaN</td>\n      <td>NaN</td>\n      <td>NaN</td>\n      <td>NaN</td>\n      <td>NaN</td>\n      <td>NaN</td>\n      <td>NaN</td>\n      <td>NaN</td>\n      <td>NaN</td>\n      <td>NaN</td>\n    </tr>\n  </tbody>\n</table>\n</div>"
     },
     "metadata": {},
     "execution_count": 24
    }
   ],
   "source": [
    "data"
   ]
  },
  {
   "cell_type": "code",
   "execution_count": 26,
   "metadata": {},
   "outputs": [
    {
     "output_type": "execute_result",
     "data": {
      "text/plain": "   1                      2   6   9     11     12\n11  1  Велосипед \"Спринтер\"   шт   5  9000  45000\n12  2    Велосипед \"Малютка\"  шт  10  3500  35000",
      "text/html": "<div>\n<style scoped>\n    .dataframe tbody tr th:only-of-type {\n        vertical-align: middle;\n    }\n\n    .dataframe tbody tr th {\n        vertical-align: top;\n    }\n\n    .dataframe thead th {\n        text-align: right;\n    }\n</style>\n<table border=\"1\" class=\"dataframe\">\n  <thead>\n    <tr style=\"text-align: right;\">\n      <th></th>\n      <th>1</th>\n      <th>2</th>\n      <th>6</th>\n      <th>9</th>\n      <th>11</th>\n      <th>12</th>\n    </tr>\n  </thead>\n  <tbody>\n    <tr>\n      <th>11</th>\n      <td>1</td>\n      <td>Велосипед \"Спринтер\"</td>\n      <td>шт</td>\n      <td>5</td>\n      <td>9000</td>\n      <td>45000</td>\n    </tr>\n    <tr>\n      <th>12</th>\n      <td>2</td>\n      <td>Велосипед \"Малютка\"</td>\n      <td>шт</td>\n      <td>10</td>\n      <td>3500</td>\n      <td>35000</td>\n    </tr>\n  </tbody>\n</table>\n</div>"
     },
     "metadata": {},
     "execution_count": 26
    }
   ],
   "source": [
    "clean_data = data.iloc[6:8, :].dropna(axis=1, how='any')\n",
    "clean_data"
   ]
  },
  {
   "cell_type": "code",
   "execution_count": 27,
   "metadata": {},
   "outputs": [],
   "source": [
    "clean_data.to_excel('data/table.xls', index=False)"
   ]
  }
 ]
}