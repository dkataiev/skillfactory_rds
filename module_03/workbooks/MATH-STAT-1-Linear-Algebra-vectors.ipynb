{
 "metadata": {
  "language_info": {
   "codemirror_mode": {
    "name": "ipython",
    "version": 3
   },
   "file_extension": ".py",
   "mimetype": "text/x-python",
   "name": "python",
   "nbconvert_exporter": "python",
   "pygments_lexer": "ipython3",
   "version": "3.7.6-final"
  },
  "orig_nbformat": 2,
  "kernelspec": {
   "name": "python3",
   "display_name": "Python 3"
  }
 },
 "nbformat": 4,
 "nbformat_minor": 2,
 "cells": [
  {
   "cell_type": "markdown",
   "metadata": {},
   "source": [
    "На рынке новостроек появилось предложение от застройщика \"Гарантия\" — двухкомнатная квартира общей площадью 59.50 кв.м, жилой площадью 31.40 кв.м на 19-м этаже 22-х этажного дома. В доме 2 подъезда. Цена за квадратный метр квартиры у этого застройщика составляет 60550 рублей."
   ]
  },
  {
   "cell_type": "code",
   "execution_count": 27,
   "metadata": {
    "tags": []
   },
   "outputs": [
    {
     "output_type": "execute_result",
     "data": {
      "text/plain": "array([5.950e+01, 3.140e+01, 1.900e+01, 2.000e+00, 6.055e+04, 2.000e+00])"
     },
     "metadata": {},
     "execution_count": 27
    }
   ],
   "source": [
    "import numpy as np\n",
    "apartment = np.array([59.50, 31.40, 19, 2, 60550, 2])\n",
    "apartment"
   ]
  },
  {
   "cell_type": "markdown",
   "metadata": {},
   "source": [
    "В NumPy вектор и массив - одно и то же. \n",
    "\n",
    "Исключение - понятие вектор-столбец и вектор-строка - фактически двумерные массивы, где один из атрибутов shape равен 1."
   ]
  },
  {
   "cell_type": "code",
   "execution_count": 28,
   "metadata": {
    "tags": []
   },
   "outputs": [
    {
     "output_type": "stream",
     "name": "stdout",
     "text": "ndim: 1\nshape: (6,)\n"
    }
   ],
   "source": [
    "print(\"ndim:\", apartment.ndim) # число осей (измерений) массива - n.dim: 1\n",
    "print(\"shape:\", apartment.shape) # размеры массива, для вектора определена только длина - shape: (6, )"
   ]
  },
  {
   "cell_type": "markdown",
   "metadata": {},
   "source": [
    "Упростим себе задачу оценки новой квартиры — сгенерируем новый признак — отношение жилой площади к общей. \n",
    "\n",
    "А от старых признаков смело избавимся, сократив векторное пространство нашего объекта."
   ]
  },
  {
   "cell_type": "code",
   "execution_count": 29,
   "metadata": {},
   "outputs": [
    {
     "output_type": "execute_result",
     "data": {
      "text/plain": "0.5277310924369748"
     },
     "metadata": {},
     "execution_count": 29
    }
   ],
   "source": [
    "# вычислим долю жилой площади в квартире\n",
    "share_living_space = apartment[1]/apartment[0]\n",
    "share_living_space"
   ]
  },
  {
   "cell_type": "markdown",
   "metadata": {},
   "source": [
    "Избавимся от старых признаков, посредством функции delete(), которую предоставляет библиотека numpy. \n",
    "\n",
    "Передадим в значение функции индексы признаков, которые необходимо удалить из нашего массива apartment:"
   ]
  },
  {
   "cell_type": "code",
   "execution_count": 30,
   "metadata": {},
   "outputs": [
    {
     "output_type": "execute_result",
     "data": {
      "text/plain": "array([1.900e+01, 2.000e+00, 6.055e+04, 2.000e+00])"
     },
     "metadata": {},
     "execution_count": 30
    }
   ],
   "source": [
    "apartment = np.delete(apartment, [0, 1])\n",
    "apartment"
   ]
  },
  {
   "cell_type": "markdown",
   "metadata": {},
   "source": [
    "И в завершение добавим в конец нашего массива новый признак share_living_space, который сочетает в себе смысл двух старых признаков:"
   ]
  },
  {
   "cell_type": "code",
   "execution_count": 31,
   "metadata": {
    "tags": []
   },
   "outputs": [
    {
     "output_type": "stream",
     "name": "stdout",
     "text": "5\n"
    },
    {
     "output_type": "execute_result",
     "data": {
      "text/plain": "array([1.90000000e+01, 2.00000000e+00, 6.05500000e+04, 2.00000000e+00,\n       5.27731092e-01])"
     },
     "metadata": {},
     "execution_count": 31
    }
   ],
   "source": [
    "apartment = np.append(apartment, share_living_space)\n",
    "print(len(apartment))\n",
    "apartment"
   ]
  },
  {
   "cell_type": "code",
   "execution_count": 32,
   "metadata": {
    "tags": []
   },
   "outputs": [
    {
     "output_type": "stream",
     "name": "stdout",
     "text": "[120 150  90]\n[130 130 130]\n[2.  3.  2.5]\n[144. 216. 180.]\n"
    },
    {
     "output_type": "execute_result",
     "data": {
      "text/plain": "array([394., 496., 400.])"
     },
     "metadata": {},
     "execution_count": 32
    }
   ],
   "source": [
    "wife = np.array([120, 150, 90])\n",
    "husband = np.array([130, 130, 130])\n",
    "mother_in_law = np.array([2, 3, 2.5])\n",
    "\n",
    "print(wife)\n",
    "print(husband)\n",
    "print(mother_in_law)\n",
    "\n",
    "# Найдите вектор доходов тёщи в тыс. рублей, если курс евро составляет 72 рубля. \n",
    "mother_in_law = mother_in_law * 72\n",
    "print(mother_in_law)\n",
    "\n",
    "# Найдите вектор суммарного дохода семьи в тыс. рублей по месяцам.\n",
    "wife + husband + mother_in_law"
   ]
  },
  {
   "cell_type": "code",
   "execution_count": 33,
   "metadata": {},
   "outputs": [
    {
     "output_type": "execute_result",
     "data": {
      "text/plain": "array([7, 7])"
     },
     "metadata": {},
     "execution_count": 33
    }
   ],
   "source": [
    "# Найдите линейную комбинацию векторов\n",
    "x = np.array([4,5])\n",
    "y = np.array([2,1])\n",
    "u = np.array([1,0])\n",
    "\n",
    "xq = 2\n",
    "yq = -3\n",
    "uq = 5\n",
    "\n",
    "x * xq + y * yq + u * uq"
   ]
  },
  {
   "cell_type": "markdown",
   "metadata": {},
   "source": [
    "Юный предприниматель Вовочка мастерит ракеты на водном топливе и продает их. За 4 недели он смастерил 3, 4, 5 и 9 ракет, а продал 1, 5, 3 и 6 ракет соответственно.\n",
    "\n",
    "На изготовление одной ракеты он тратит 200 рублей, а продаёт их по 400 рублей за штуку.\n",
    "\n",
    "Найдите вектор прибыли Вовочки за эти 4 недели."
   ]
  },
  {
   "cell_type": "code",
   "execution_count": 34,
   "metadata": {},
   "outputs": [
    {
     "output_type": "execute_result",
     "data": {
      "text/plain": "array([-200, 1200,  200,  600])"
     },
     "metadata": {},
     "execution_count": 34
    }
   ],
   "source": [
    "done = np.array([3,4,5,9])\n",
    "sold = np.array([1,5,3,6])\n",
    "\n",
    "sold * 400 - done * 200\n"
   ]
  },
  {
   "cell_type": "markdown",
   "metadata": {},
   "source": [
    "Найдите скалярное произведение векторов \n"
   ]
  },
  {
   "cell_type": "code",
   "execution_count": 35,
   "metadata": {},
   "outputs": [
    {
     "output_type": "execute_result",
     "data": {
      "text/plain": "7"
     },
     "metadata": {},
     "execution_count": 35
    }
   ],
   "source": [
    "x = np.array([4,5,-1])\n",
    "y = np.array([2,0,1])\n",
    "np.dot(x, y)"
   ]
  },
  {
   "cell_type": "markdown",
   "metadata": {},
   "source": [
    "Вычислите длину вектора . Ответ округлите до сотых."
   ]
  },
  {
   "cell_type": "code",
   "execution_count": 36,
   "metadata": {},
   "outputs": [
    {
     "output_type": "execute_result",
     "data": {
      "text/plain": "7.280109889280518"
     },
     "metadata": {},
     "execution_count": 36
    }
   ],
   "source": [
    "x = np.array([4,6,1])\n",
    "np.dot(x,x)**.5"
   ]
  },
  {
   "cell_type": "markdown",
   "metadata": {},
   "source": [
    "##  Задача 1. Условие\n",
    "\n",
    "В Hut_Paradise_DF представлен фрагмент базы данных агенства «Рай в Шалаше». По строкам расположены квартиры, по столбцам — параметры: арендная плата, общая площадь, количество комнат, этаж, количество показов на две недели и жилая площадь:"
   ]
  },
  {
   "cell_type": "code",
   "execution_count": 37,
   "metadata": {},
   "outputs": [
    {
     "output_type": "display_data",
     "data": {
      "text/plain": "   1.Rent  2.Area  3.Rooms  4.Floor  5.Demo two weeks  6.Liv.Area\n0      65      50        3        5                 8          37\n1      70      52        2       12                 4          40\n2     120      80        1       10                 5          65\n3      35      33        1        3                10          20\n4      40      33        1        6                20          16\n5      50      44        2       13                12          35\n6     100      80        4        8                 5          60\n7      90      65        3       21                 1          50\n8      85      65        2        5                10          40",
      "text/html": "<div>\n<style scoped>\n    .dataframe tbody tr th:only-of-type {\n        vertical-align: middle;\n    }\n\n    .dataframe tbody tr th {\n        vertical-align: top;\n    }\n\n    .dataframe thead th {\n        text-align: right;\n    }\n</style>\n<table border=\"1\" class=\"dataframe\">\n  <thead>\n    <tr style=\"text-align: right;\">\n      <th></th>\n      <th>1.Rent</th>\n      <th>2.Area</th>\n      <th>3.Rooms</th>\n      <th>4.Floor</th>\n      <th>5.Demo two weeks</th>\n      <th>6.Liv.Area</th>\n    </tr>\n  </thead>\n  <tbody>\n    <tr>\n      <th>0</th>\n      <td>65</td>\n      <td>50</td>\n      <td>3</td>\n      <td>5</td>\n      <td>8</td>\n      <td>37</td>\n    </tr>\n    <tr>\n      <th>1</th>\n      <td>70</td>\n      <td>52</td>\n      <td>2</td>\n      <td>12</td>\n      <td>4</td>\n      <td>40</td>\n    </tr>\n    <tr>\n      <th>2</th>\n      <td>120</td>\n      <td>80</td>\n      <td>1</td>\n      <td>10</td>\n      <td>5</td>\n      <td>65</td>\n    </tr>\n    <tr>\n      <th>3</th>\n      <td>35</td>\n      <td>33</td>\n      <td>1</td>\n      <td>3</td>\n      <td>10</td>\n      <td>20</td>\n    </tr>\n    <tr>\n      <th>4</th>\n      <td>40</td>\n      <td>33</td>\n      <td>1</td>\n      <td>6</td>\n      <td>20</td>\n      <td>16</td>\n    </tr>\n    <tr>\n      <th>5</th>\n      <td>50</td>\n      <td>44</td>\n      <td>2</td>\n      <td>13</td>\n      <td>12</td>\n      <td>35</td>\n    </tr>\n    <tr>\n      <th>6</th>\n      <td>100</td>\n      <td>80</td>\n      <td>4</td>\n      <td>8</td>\n      <td>5</td>\n      <td>60</td>\n    </tr>\n    <tr>\n      <th>7</th>\n      <td>90</td>\n      <td>65</td>\n      <td>3</td>\n      <td>21</td>\n      <td>1</td>\n      <td>50</td>\n    </tr>\n    <tr>\n      <th>8</th>\n      <td>85</td>\n      <td>65</td>\n      <td>2</td>\n      <td>5</td>\n      <td>10</td>\n      <td>40</td>\n    </tr>\n  </tbody>\n</table>\n</div>"
     },
     "metadata": {}
    }
   ],
   "source": [
    "import pandas as pd\n",
    "\n",
    "Hut_Paradise_DF = pd.DataFrame({'1.Rent': [65, 70, 120, 35, 40, 50, 100, 90, 85], \n",
    "                                '2.Area': [50, 52, 80, 33, 33, 44, 80, 65, 65], \n",
    "                                '3.Rooms':[3, 2, 1, 1, 1, 2, 4, 3, 2],\n",
    "                                '4.Floor':[5, 12, 10, 3, 6, 13, 8, 21, 5], \n",
    "                                '5.Demo two weeks':[8, 4, 5, 10, 20, 12, 5, 1, 10], \n",
    "                                '6.Liv.Area': [37, 40, 65, 20, 16, 35, 60, 50, 40]})\n",
    "display(Hut_Paradise_DF)                                "
   ]
  },
  {
   "cell_type": "markdown",
   "metadata": {},
   "source": [
    "Найдите вектор параметров квартиры номер 5:"
   ]
  },
  {
   "cell_type": "code",
   "execution_count": 38,
   "metadata": {},
   "outputs": [
    {
     "output_type": "execute_result",
     "data": {
      "text/plain": "array([40, 33,  1,  6, 20, 16])"
     },
     "metadata": {},
     "execution_count": 38
    }
   ],
   "source": [
    "Hut_Paradise_DF.values[4]"
   ]
  },
  {
   "cell_type": "markdown",
   "metadata": {},
   "source": [
    "Найдите вектор этажей всех квартир:"
   ]
  },
  {
   "cell_type": "code",
   "execution_count": 39,
   "metadata": {},
   "outputs": [
    {
     "output_type": "execute_result",
     "data": {
      "text/plain": "array([ 5, 12, 10,  3,  6, 13,  8, 21,  5])"
     },
     "metadata": {},
     "execution_count": 39
    }
   ],
   "source": [
    "Hut_Paradise_DF.values[:,3]"
   ]
  },
  {
   "cell_type": "markdown",
   "metadata": {},
   "source": [
    "На каком этаже расположена квартира номер 3?"
   ]
  },
  {
   "cell_type": "code",
   "execution_count": 40,
   "metadata": {},
   "outputs": [
    {
     "output_type": "execute_result",
     "data": {
      "text/plain": "10"
     },
     "metadata": {},
     "execution_count": 40
    }
   ],
   "source": [
    "Hut_Paradise_DF.values[2,3]"
   ]
  },
  {
   "cell_type": "markdown",
   "metadata": {},
   "source": [
    "Найдите количество квартир:"
   ]
  },
  {
   "cell_type": "code",
   "execution_count": 41,
   "metadata": {},
   "outputs": [
    {
     "output_type": "execute_result",
     "data": {
      "text/plain": "9"
     },
     "metadata": {},
     "execution_count": 41
    }
   ],
   "source": [
    "len(Hut_Paradise_DF)"
   ]
  },
  {
   "cell_type": "markdown",
   "metadata": {},
   "source": [
    "Вычислите вектор нежилой площади:"
   ]
  },
  {
   "cell_type": "code",
   "execution_count": 42,
   "metadata": {},
   "outputs": [
    {
     "output_type": "execute_result",
     "data": {
      "text/plain": "array([13, 12, 15, 13, 17,  9, 20, 15, 25])"
     },
     "metadata": {},
     "execution_count": 42
    }
   ],
   "source": [
    "Hut_Paradise_DF.values[:,1] - Hut_Paradise_DF.values[:,5]"
   ]
  },
  {
   "cell_type": "markdown",
   "metadata": {},
   "source": [
    "Арендная плата измеряется в тысячах рублей. Пересчитайте стоимость аренды каждой квартиры в тысячах гривен, если курс 10 руб = 4 гривны:"
   ]
  },
  {
   "cell_type": "code",
   "execution_count": 43,
   "metadata": {
    "tags": []
   },
   "outputs": [
    {
     "output_type": "stream",
     "name": "stdout",
     "text": "0.4\n"
    },
    {
     "output_type": "execute_result",
     "data": {
      "text/plain": "array([26., 28., 48., 14., 16., 20., 40., 36., 34.])"
     },
     "metadata": {},
     "execution_count": 43
    }
   ],
   "source": [
    "rate = 4 / 10\n",
    "print(rate)\n",
    "Hut_Paradise_DF.values[:,0] * rate"
   ]
  },
  {
   "cell_type": "markdown",
   "metadata": {},
   "source": [
    "Пусть в первой квартире один просмотр занимает 10 минут, во второй — 20 минут, в третьей — полчаса, в четверой — 15 минут, в пятой — 5 минут, в шестой — 40 минут, в седьмой — 20 минут, в восьмой — 8 минут и в девятой — 20 минут. \n",
    "\n",
    "Найдите продолжительность просмотров в минутах во всех квартирах за 2 недели:"
   ]
  },
  {
   "cell_type": "code",
   "execution_count": 47,
   "metadata": {
    "tags": []
   },
   "outputs": [
    {
     "output_type": "stream",
     "name": "stdout",
     "text": "1348\n"
    },
    {
     "output_type": "execute_result",
     "data": {
      "text/plain": "1348"
     },
     "metadata": {},
     "execution_count": 47
    }
   ],
   "source": [
    "demo_length = np.array([10, 20, 30, 15, 5, 40, 20, 8, 20])\n",
    "print(np.dot(Hut_Paradise_DF.values[:,4], demo_length))\n",
    "Hut_Paradise_DF.values[:,4]@demo_length"
   ]
  },
  {
   "cell_type": "markdown",
   "metadata": {},
   "source": [
    "## Задача 2. Условие\n",
    "Даны три вектора:"
   ]
  },
  {
   "cell_type": "code",
   "execution_count": 49,
   "metadata": {},
   "outputs": [],
   "source": [
    "u=np.array([3,0,1,1,1])\n",
    "v=np.array([0,1,0,2,-2])\n",
    "w=np.array([1,-4,-1,0,-2])"
   ]
  },
  {
   "cell_type": "markdown",
   "metadata": {},
   "source": [
    "Составьте линейную комбинацию векторов v и w с коэффициентами 2 и -3:"
   ]
  },
  {
   "cell_type": "code",
   "execution_count": 52,
   "metadata": {},
   "outputs": [],
   "source": [
    "comb = v * 2 + w * -3"
   ]
  },
  {
   "cell_type": "markdown",
   "metadata": {},
   "source": [
    "Будет ли эта комбинация ортогональна вектору ?"
   ]
  },
  {
   "cell_type": "code",
   "execution_count": 54,
   "metadata": {},
   "outputs": [
    {
     "output_type": "execute_result",
     "data": {
      "text/plain": "True"
     },
     "metadata": {},
     "execution_count": 54
    }
   ],
   "source": [
    "u@comb == 0"
   ]
  },
  {
   "cell_type": "markdown",
   "metadata": {},
   "source": [
    "Нормируйте векторы u, v, w.\n",
    "\n",
    "В ответ запишите, округлив до трёх знаков после точки:"
   ]
  }
 ]
}