{
 "metadata": {
  "language_info": {
   "codemirror_mode": {
    "name": "ipython",
    "version": 3
   },
   "file_extension": ".py",
   "mimetype": "text/x-python",
   "name": "python",
   "nbconvert_exporter": "python",
   "pygments_lexer": "ipython3",
   "version": "3.7.6-final"
  },
  "orig_nbformat": 2,
  "kernelspec": {
   "name": "python3",
   "display_name": "Python 3"
  }
 },
 "nbformat": 4,
 "nbformat_minor": 2,
 "cells": [
  {
   "cell_type": "markdown",
   "metadata": {},
   "source": [
    "Подготовим датасет к работе"
   ]
  },
  {
   "cell_type": "code",
   "execution_count": 18,
   "metadata": {},
   "outputs": [
    {
     "output_type": "display_data",
     "data": {
      "text/plain": "                              user_id                 time      bet      win\n0    Запись пользователя № - user_919  2019-01-01 14:06:51      NaN      NaN\n1    Запись пользователя № - user_973  2019-01-01 14:51:16      NaN      NaN\n2    Запись пользователя № - user_903  2019-01-01 16:31:16      NaN      NaN\n3    Запись пользователя № - user_954  2019-01-01 17:17:51      NaN      NaN\n4    Запись пользователя № - user_954  2019-01-01 21:31:18      NaN      NaN\n..                                ...                  ...      ...      ...\n995  Запись пользователя № - user_984   2019-04-20 9:59:58   9754.0      NaN\n996                            #error                  NaN  10054.0  29265.0\n997                            #error                  NaN  10454.0      NaN\n998                            #error                  NaN   1000.0      NaN\n999                            #error                  NaN  10754.0      NaN\n\n[1000 rows x 4 columns]",
      "text/html": "<div>\n<style scoped>\n    .dataframe tbody tr th:only-of-type {\n        vertical-align: middle;\n    }\n\n    .dataframe tbody tr th {\n        vertical-align: top;\n    }\n\n    .dataframe thead th {\n        text-align: right;\n    }\n</style>\n<table border=\"1\" class=\"dataframe\">\n  <thead>\n    <tr style=\"text-align: right;\">\n      <th></th>\n      <th>user_id</th>\n      <th>time</th>\n      <th>bet</th>\n      <th>win</th>\n    </tr>\n  </thead>\n  <tbody>\n    <tr>\n      <th>0</th>\n      <td>Запись пользователя № - user_919</td>\n      <td>2019-01-01 14:06:51</td>\n      <td>NaN</td>\n      <td>NaN</td>\n    </tr>\n    <tr>\n      <th>1</th>\n      <td>Запись пользователя № - user_973</td>\n      <td>2019-01-01 14:51:16</td>\n      <td>NaN</td>\n      <td>NaN</td>\n    </tr>\n    <tr>\n      <th>2</th>\n      <td>Запись пользователя № - user_903</td>\n      <td>2019-01-01 16:31:16</td>\n      <td>NaN</td>\n      <td>NaN</td>\n    </tr>\n    <tr>\n      <th>3</th>\n      <td>Запись пользователя № - user_954</td>\n      <td>2019-01-01 17:17:51</td>\n      <td>NaN</td>\n      <td>NaN</td>\n    </tr>\n    <tr>\n      <th>4</th>\n      <td>Запись пользователя № - user_954</td>\n      <td>2019-01-01 21:31:18</td>\n      <td>NaN</td>\n      <td>NaN</td>\n    </tr>\n    <tr>\n      <th>...</th>\n      <td>...</td>\n      <td>...</td>\n      <td>...</td>\n      <td>...</td>\n    </tr>\n    <tr>\n      <th>995</th>\n      <td>Запись пользователя № - user_984</td>\n      <td>2019-04-20 9:59:58</td>\n      <td>9754.0</td>\n      <td>NaN</td>\n    </tr>\n    <tr>\n      <th>996</th>\n      <td>#error</td>\n      <td>NaN</td>\n      <td>10054.0</td>\n      <td>29265.0</td>\n    </tr>\n    <tr>\n      <th>997</th>\n      <td>#error</td>\n      <td>NaN</td>\n      <td>10454.0</td>\n      <td>NaN</td>\n    </tr>\n    <tr>\n      <th>998</th>\n      <td>#error</td>\n      <td>NaN</td>\n      <td>1000.0</td>\n      <td>NaN</td>\n    </tr>\n    <tr>\n      <th>999</th>\n      <td>#error</td>\n      <td>NaN</td>\n      <td>10754.0</td>\n      <td>NaN</td>\n    </tr>\n  </tbody>\n</table>\n<p>1000 rows × 4 columns</p>\n</div>"
     },
     "metadata": {}
    },
    {
     "output_type": "display_data",
     "data": {
      "text/plain": "     user_id                     email          geo\n0   User_943       Accumanst@gmail.com       Ижевск\n1   User_908         Advismowr@mail.ru       Ижевск\n2   User_962           Anachso@ukr.net    Краснодар\n3   User_973          Antecia@inbox.ru        Пермь\n4   User_902        Balliaryva@ukr.net          NaN\n..       ...                       ...          ...\n95  User_959  UpdatesCurious@yahoo.com       Тюмень\n96  User_901        V2artierso@mail.ru  Арзангелтск\n97  User_970          Vashoterlo@bk.ru      Воронеж\n98  User_965       Visuareda@yahoo.com      Воронеж\n99  User_921              Aavast@ya.ru       Ижевск\n\n[100 rows x 3 columns]",
      "text/html": "<div>\n<style scoped>\n    .dataframe tbody tr th:only-of-type {\n        vertical-align: middle;\n    }\n\n    .dataframe tbody tr th {\n        vertical-align: top;\n    }\n\n    .dataframe thead th {\n        text-align: right;\n    }\n</style>\n<table border=\"1\" class=\"dataframe\">\n  <thead>\n    <tr style=\"text-align: right;\">\n      <th></th>\n      <th>user_id</th>\n      <th>email</th>\n      <th>geo</th>\n    </tr>\n  </thead>\n  <tbody>\n    <tr>\n      <th>0</th>\n      <td>User_943</td>\n      <td>Accumanst@gmail.com</td>\n      <td>Ижевск</td>\n    </tr>\n    <tr>\n      <th>1</th>\n      <td>User_908</td>\n      <td>Advismowr@mail.ru</td>\n      <td>Ижевск</td>\n    </tr>\n    <tr>\n      <th>2</th>\n      <td>User_962</td>\n      <td>Anachso@ukr.net</td>\n      <td>Краснодар</td>\n    </tr>\n    <tr>\n      <th>3</th>\n      <td>User_973</td>\n      <td>Antecia@inbox.ru</td>\n      <td>Пермь</td>\n    </tr>\n    <tr>\n      <th>4</th>\n      <td>User_902</td>\n      <td>Balliaryva@ukr.net</td>\n      <td>NaN</td>\n    </tr>\n    <tr>\n      <th>...</th>\n      <td>...</td>\n      <td>...</td>\n      <td>...</td>\n    </tr>\n    <tr>\n      <th>95</th>\n      <td>User_959</td>\n      <td>UpdatesCurious@yahoo.com</td>\n      <td>Тюмень</td>\n    </tr>\n    <tr>\n      <th>96</th>\n      <td>User_901</td>\n      <td>V2artierso@mail.ru</td>\n      <td>Арзангелтск</td>\n    </tr>\n    <tr>\n      <th>97</th>\n      <td>User_970</td>\n      <td>Vashoterlo@bk.ru</td>\n      <td>Воронеж</td>\n    </tr>\n    <tr>\n      <th>98</th>\n      <td>User_965</td>\n      <td>Visuareda@yahoo.com</td>\n      <td>Воронеж</td>\n    </tr>\n    <tr>\n      <th>99</th>\n      <td>User_921</td>\n      <td>Aavast@ya.ru</td>\n      <td>Ижевск</td>\n    </tr>\n  </tbody>\n</table>\n<p>100 rows × 3 columns</p>\n</div>"
     },
     "metadata": {}
    }
   ],
   "source": [
    "import pandas as pd\n",
    "import datetime\n",
    "\n",
    "log = pd.read_csv(\"data/log.csv\", header=None, names=['user_id','time', 'bet','win'])\n",
    "log.time = log.time.apply(lambda s: str(s)[1:] if str(s).startswith('[') else s)\n",
    "display(log)\n",
    "\n",
    "users = pd.read_csv('data/users.csv', encoding='koi8_r', sep='\\t')\n",
    "users.columns  = ['user_id', 'email', 'geo']\n",
    "display(users)\n",
    "\n",
    "# sample.columns = [c.lower() for c in sample.columns]"
   ]
  },
  {
   "cell_type": "markdown",
   "metadata": {},
   "source": [
    "Посчитайте количество пропусков в столбце time. \n",
    "\n",
    "Метод isna() есть не только у DataFrame, но и у Series. Это \n",
    "\n",
    "значит, что применять его можно не только ко всей таблице, но и к каждому столбцу отдельно."
   ]
  },
  {
   "cell_type": "code",
   "execution_count": 19,
   "metadata": {},
   "outputs": [
    {
     "output_type": "execute_result",
     "data": {
      "text/plain": "False    985\nTrue      15\nName: time, dtype: int64"
     },
     "metadata": {},
     "execution_count": 19
    }
   ],
   "source": [
    "log.time.isna().value_counts()"
   ]
  },
  {
   "cell_type": "markdown",
   "metadata": {},
   "source": [
    "## Удаление пропусков\n",
    "\n",
    "Пропуски можно удалять автоматически. Во многих случаях это правильно, так как данные с большим количеством пропусков часто не имеют смысла и не приносят никакой пользы.  \n",
    "\n",
    "1. Удалять данные с пропусками можно с помощью метода dropna().\n",
    "2/ Параметр axis в методе dropna() говорит методу, по какой оси удалять значения.  \n",
    "\n",
    "Если нужно удалить строки, в которых встречается пропуск (NaN), следует указать axis=0.  Зачем это делать? Например, у нас из 1000 примеров данных про пользователей пропуски есть в пяти. Разумно их удалить, так как их количество пренебрежимо мало.\n",
    "Если нужно удалить столбцы, в которых встречается пропуск (NaN), нужно указывать axis=1. Зачем? Иногда в одном конкретном столбце пропусков настолько много, что с ними просто не хочется возиться - смысла в них все равно почти нет. "
   ]
  },
  {
   "cell_type": "code",
   "execution_count": null,
   "metadata": {},
   "outputs": [],
   "source": [
    "Удалите все столбцы, где есть пропуски. Запишите в поле, сколько осталось столбцов в данных после этого."
   ]
  },
  {
   "cell_type": "code",
   "execution_count": 24,
   "metadata": {},
   "outputs": [
    {
     "output_type": "display_data",
     "data": {
      "text/plain": "Index(['user_id', 'time', 'bet', 'win'], dtype='object')"
     },
     "metadata": {}
    },
    {
     "output_type": "execute_result",
     "data": {
      "text/plain": "Index(['user_id'], dtype='object')"
     },
     "metadata": {},
     "execution_count": 24
    }
   ],
   "source": [
    "display(log.columns)\n",
    "log.dropna(axis=1).columns"
   ]
  },
  {
   "cell_type": "markdown",
   "metadata": {},
   "source": [
    "Удалите все строки, где есть пропуски. Запишите в поле, сколько осталось строк в данных после этого."
   ]
  },
  {
   "cell_type": "code",
   "execution_count": 25,
   "metadata": {},
   "outputs": [
    {
     "output_type": "execute_result",
     "data": {
      "text/plain": "                              user_id                 time        bet  \\\n14   Запись пользователя № - user_917   2019-01-02 8:57:36   145732.0   \n29   Запись пользователя № - user_942  2019-01-04 13:59:42  1678321.0   \n151  Запись пользователя № - user_982  2019-01-16 21:54:22      100.0   \n189  Запись пользователя № - user_964  2019-01-21 18:34:44      200.0   \n205  Запись пользователя № - user_931   2019-01-22 5:26:59      300.0   \n..                                ...                  ...        ...   \n967  Запись пользователя № - user_975  2019-04-19 22:25:15     1000.0   \n971  Запись пользователя № - user_912  2019-04-20 10:35:49    10554.0   \n972  Запись пользователя № - user_926  2019-04-20 10:35:50    10354.0   \n976  Запись пользователя № - user_970  2019-04-20 10:35:54    10354.0   \n991  Запись пользователя № - user_965  2019-04-20 12:55:41      800.0   \n\n           win  \n14   1987653.0  \n29   9876543.0  \n151     4749.0  \n189     4667.0  \n205     4319.0  \n..         ...  \n967     6108.0  \n971    31799.0  \n972    30244.0  \n976    30691.0  \n991     6927.0  \n\n[133 rows x 4 columns]",
      "text/html": "<div>\n<style scoped>\n    .dataframe tbody tr th:only-of-type {\n        vertical-align: middle;\n    }\n\n    .dataframe tbody tr th {\n        vertical-align: top;\n    }\n\n    .dataframe thead th {\n        text-align: right;\n    }\n</style>\n<table border=\"1\" class=\"dataframe\">\n  <thead>\n    <tr style=\"text-align: right;\">\n      <th></th>\n      <th>user_id</th>\n      <th>time</th>\n      <th>bet</th>\n      <th>win</th>\n    </tr>\n  </thead>\n  <tbody>\n    <tr>\n      <th>14</th>\n      <td>Запись пользователя № - user_917</td>\n      <td>2019-01-02 8:57:36</td>\n      <td>145732.0</td>\n      <td>1987653.0</td>\n    </tr>\n    <tr>\n      <th>29</th>\n      <td>Запись пользователя № - user_942</td>\n      <td>2019-01-04 13:59:42</td>\n      <td>1678321.0</td>\n      <td>9876543.0</td>\n    </tr>\n    <tr>\n      <th>151</th>\n      <td>Запись пользователя № - user_982</td>\n      <td>2019-01-16 21:54:22</td>\n      <td>100.0</td>\n      <td>4749.0</td>\n    </tr>\n    <tr>\n      <th>189</th>\n      <td>Запись пользователя № - user_964</td>\n      <td>2019-01-21 18:34:44</td>\n      <td>200.0</td>\n      <td>4667.0</td>\n    </tr>\n    <tr>\n      <th>205</th>\n      <td>Запись пользователя № - user_931</td>\n      <td>2019-01-22 5:26:59</td>\n      <td>300.0</td>\n      <td>4319.0</td>\n    </tr>\n    <tr>\n      <th>...</th>\n      <td>...</td>\n      <td>...</td>\n      <td>...</td>\n      <td>...</td>\n    </tr>\n    <tr>\n      <th>967</th>\n      <td>Запись пользователя № - user_975</td>\n      <td>2019-04-19 22:25:15</td>\n      <td>1000.0</td>\n      <td>6108.0</td>\n    </tr>\n    <tr>\n      <th>971</th>\n      <td>Запись пользователя № - user_912</td>\n      <td>2019-04-20 10:35:49</td>\n      <td>10554.0</td>\n      <td>31799.0</td>\n    </tr>\n    <tr>\n      <th>972</th>\n      <td>Запись пользователя № - user_926</td>\n      <td>2019-04-20 10:35:50</td>\n      <td>10354.0</td>\n      <td>30244.0</td>\n    </tr>\n    <tr>\n      <th>976</th>\n      <td>Запись пользователя № - user_970</td>\n      <td>2019-04-20 10:35:54</td>\n      <td>10354.0</td>\n      <td>30691.0</td>\n    </tr>\n    <tr>\n      <th>991</th>\n      <td>Запись пользователя № - user_965</td>\n      <td>2019-04-20 12:55:41</td>\n      <td>800.0</td>\n      <td>6927.0</td>\n    </tr>\n  </tbody>\n</table>\n<p>133 rows × 4 columns</p>\n</div>"
     },
     "metadata": {},
     "execution_count": 25
    }
   ],
   "source": [
    "log.dropna(axis=0)"
   ]
  },
  {
   "cell_type": "markdown",
   "metadata": {},
   "source": [
    "Используйте оригинальный датасет log.csv.\n",
    "\n",
    "С данными в столбцах bet и win мы разберемся позже: пропуски в этих столбцах требуют особого подхода.\n",
    "\n",
    "А сейчас:\n",
    "\n",
    "если есть пропуски в столбце user_id - удалите столбец user_id,\n",
    "\n",
    "если есть пропуски в столбце time - удалите столбец time.\n",
    "\n",
    "Запишите в поле ответа, количество оставшихся столбцов в данных, после этих действий."
   ]
  },
  {
   "cell_type": "markdown",
   "metadata": {},
   "source": [
    "Еще один интересный параметр - `subset`. Что он делает? Если передать в него список значений по одной оси (например, названия столбцов) и задать при этом в параметре axis другую ось (в нашем случае 0), то мы удалим те строки, для которых в данных столбцах находится пропуск. То же самое работает и наоборот: нужно поменять axis на 1 и вместо названий столбцов передавать индексы строк."
   ]
  },
  {
   "cell_type": "code",
   "execution_count": 31,
   "metadata": {},
   "outputs": [
    {
     "output_type": "execute_result",
     "data": {
      "text/plain": "0      Запись пользователя № - user_919\n1      Запись пользователя № - user_973\n2      Запись пользователя № - user_903\n3      Запись пользователя № - user_954\n4      Запись пользователя № - user_954\n                     ...               \n995    Запись пользователя № - user_984\n996                              #error\n997                              #error\n998                              #error\n999                              #error\nName: user_id, Length: 1000, dtype: object"
     },
     "metadata": {},
     "execution_count": 31
    }
   ],
   "source": [
    "\n"
   ]
  },
  {
   "cell_type": "code",
   "execution_count": null,
   "metadata": {},
   "outputs": [],
   "source": []
  }
 ]
}