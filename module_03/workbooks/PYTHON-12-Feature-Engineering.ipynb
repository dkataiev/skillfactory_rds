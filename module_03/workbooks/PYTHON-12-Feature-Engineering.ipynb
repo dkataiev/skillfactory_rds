{
 "metadata": {
  "language_info": {
   "codemirror_mode": {
    "name": "ipython",
    "version": 3
   },
   "file_extension": ".py",
   "mimetype": "text/x-python",
   "name": "python",
   "nbconvert_exporter": "python",
   "pygments_lexer": "ipython3",
   "version": "3.7.6-final"
  },
  "orig_nbformat": 2,
  "kernelspec": {
   "name": "python3",
   "display_name": "Python 3"
  }
 },
 "nbformat": 4,
 "nbformat_minor": 2,
 "cells": [
  {
   "cell_type": "markdown",
   "metadata": {},
   "source": [
    "Подготовим датасет к работе"
   ]
  },
  {
   "cell_type": "code",
   "execution_count": 216,
   "metadata": {},
   "outputs": [
    {
     "output_type": "display_data",
     "data": {
      "text/plain": "                              user_id                  time      bet      win\n0    Запись пользователя № - user_919  [2019-01-01 14:06:51      NaN      NaN\n1    Запись пользователя № - user_973  [2019-01-01 14:51:16      NaN      NaN\n2    Запись пользователя № - user_903  [2019-01-01 16:31:16      NaN      NaN\n3    Запись пользователя № - user_954  [2019-01-01 17:17:51      NaN      NaN\n4    Запись пользователя № - user_954  [2019-01-01 21:31:18      NaN      NaN\n..                                ...                   ...      ...      ...\n995  Запись пользователя № - user_984   [2019-04-20 9:59:58   9754.0      NaN\n996                            #error                   NaN  10054.0  29265.0\n997                            #error                   NaN  10454.0      NaN\n998                            #error                   NaN   1000.0      NaN\n999                            #error                   NaN  10754.0      NaN\n\n[1000 rows x 4 columns]",
      "text/html": "<div>\n<style scoped>\n    .dataframe tbody tr th:only-of-type {\n        vertical-align: middle;\n    }\n\n    .dataframe tbody tr th {\n        vertical-align: top;\n    }\n\n    .dataframe thead th {\n        text-align: right;\n    }\n</style>\n<table border=\"1\" class=\"dataframe\">\n  <thead>\n    <tr style=\"text-align: right;\">\n      <th></th>\n      <th>user_id</th>\n      <th>time</th>\n      <th>bet</th>\n      <th>win</th>\n    </tr>\n  </thead>\n  <tbody>\n    <tr>\n      <th>0</th>\n      <td>Запись пользователя № - user_919</td>\n      <td>[2019-01-01 14:06:51</td>\n      <td>NaN</td>\n      <td>NaN</td>\n    </tr>\n    <tr>\n      <th>1</th>\n      <td>Запись пользователя № - user_973</td>\n      <td>[2019-01-01 14:51:16</td>\n      <td>NaN</td>\n      <td>NaN</td>\n    </tr>\n    <tr>\n      <th>2</th>\n      <td>Запись пользователя № - user_903</td>\n      <td>[2019-01-01 16:31:16</td>\n      <td>NaN</td>\n      <td>NaN</td>\n    </tr>\n    <tr>\n      <th>3</th>\n      <td>Запись пользователя № - user_954</td>\n      <td>[2019-01-01 17:17:51</td>\n      <td>NaN</td>\n      <td>NaN</td>\n    </tr>\n    <tr>\n      <th>4</th>\n      <td>Запись пользователя № - user_954</td>\n      <td>[2019-01-01 21:31:18</td>\n      <td>NaN</td>\n      <td>NaN</td>\n    </tr>\n    <tr>\n      <th>...</th>\n      <td>...</td>\n      <td>...</td>\n      <td>...</td>\n      <td>...</td>\n    </tr>\n    <tr>\n      <th>995</th>\n      <td>Запись пользователя № - user_984</td>\n      <td>[2019-04-20 9:59:58</td>\n      <td>9754.0</td>\n      <td>NaN</td>\n    </tr>\n    <tr>\n      <th>996</th>\n      <td>#error</td>\n      <td>NaN</td>\n      <td>10054.0</td>\n      <td>29265.0</td>\n    </tr>\n    <tr>\n      <th>997</th>\n      <td>#error</td>\n      <td>NaN</td>\n      <td>10454.0</td>\n      <td>NaN</td>\n    </tr>\n    <tr>\n      <th>998</th>\n      <td>#error</td>\n      <td>NaN</td>\n      <td>1000.0</td>\n      <td>NaN</td>\n    </tr>\n    <tr>\n      <th>999</th>\n      <td>#error</td>\n      <td>NaN</td>\n      <td>10754.0</td>\n      <td>NaN</td>\n    </tr>\n  </tbody>\n</table>\n<p>1000 rows × 4 columns</p>\n</div>"
     },
     "metadata": {}
    },
    {
     "output_type": "display_data",
     "data": {
      "text/plain": "     user_id                     email          geo\n0   User_943       Accumanst@gmail.com       Ижевск\n1   User_908         Advismowr@mail.ru       Ижевск\n2   User_962           Anachso@ukr.net    Краснодар\n3   User_973          Antecia@inbox.ru        Пермь\n4   User_902        Balliaryva@ukr.net          NaN\n..       ...                       ...          ...\n95  User_959  UpdatesCurious@yahoo.com       Тюмень\n96  User_901        V2artierso@mail.ru  Арзангелтск\n97  User_970          Vashoterlo@bk.ru      Воронеж\n98  User_965       Visuareda@yahoo.com      Воронеж\n99  User_921              Aavast@ya.ru       Ижевск\n\n[100 rows x 3 columns]",
      "text/html": "<div>\n<style scoped>\n    .dataframe tbody tr th:only-of-type {\n        vertical-align: middle;\n    }\n\n    .dataframe tbody tr th {\n        vertical-align: top;\n    }\n\n    .dataframe thead th {\n        text-align: right;\n    }\n</style>\n<table border=\"1\" class=\"dataframe\">\n  <thead>\n    <tr style=\"text-align: right;\">\n      <th></th>\n      <th>user_id</th>\n      <th>email</th>\n      <th>geo</th>\n    </tr>\n  </thead>\n  <tbody>\n    <tr>\n      <th>0</th>\n      <td>User_943</td>\n      <td>Accumanst@gmail.com</td>\n      <td>Ижевск</td>\n    </tr>\n    <tr>\n      <th>1</th>\n      <td>User_908</td>\n      <td>Advismowr@mail.ru</td>\n      <td>Ижевск</td>\n    </tr>\n    <tr>\n      <th>2</th>\n      <td>User_962</td>\n      <td>Anachso@ukr.net</td>\n      <td>Краснодар</td>\n    </tr>\n    <tr>\n      <th>3</th>\n      <td>User_973</td>\n      <td>Antecia@inbox.ru</td>\n      <td>Пермь</td>\n    </tr>\n    <tr>\n      <th>4</th>\n      <td>User_902</td>\n      <td>Balliaryva@ukr.net</td>\n      <td>NaN</td>\n    </tr>\n    <tr>\n      <th>...</th>\n      <td>...</td>\n      <td>...</td>\n      <td>...</td>\n    </tr>\n    <tr>\n      <th>95</th>\n      <td>User_959</td>\n      <td>UpdatesCurious@yahoo.com</td>\n      <td>Тюмень</td>\n    </tr>\n    <tr>\n      <th>96</th>\n      <td>User_901</td>\n      <td>V2artierso@mail.ru</td>\n      <td>Арзангелтск</td>\n    </tr>\n    <tr>\n      <th>97</th>\n      <td>User_970</td>\n      <td>Vashoterlo@bk.ru</td>\n      <td>Воронеж</td>\n    </tr>\n    <tr>\n      <th>98</th>\n      <td>User_965</td>\n      <td>Visuareda@yahoo.com</td>\n      <td>Воронеж</td>\n    </tr>\n    <tr>\n      <th>99</th>\n      <td>User_921</td>\n      <td>Aavast@ya.ru</td>\n      <td>Ижевск</td>\n    </tr>\n  </tbody>\n</table>\n<p>100 rows × 3 columns</p>\n</div>"
     },
     "metadata": {}
    }
   ],
   "source": [
    "import pandas as pd\n",
    "import datetime\n",
    "\n",
    "log = pd.read_csv(\"data/log.csv\", header=None, names=['user_id','time', 'bet','win'])\n",
    "display(log)\n",
    "\n",
    "us = pd.read_csv('data/users.csv', encoding='koi8_r', sep='\\t')\n",
    "us.columns  = ['user_id', 'email', 'geo']\n",
    "display(us)"
   ]
  },
  {
   "cell_type": "markdown",
   "metadata": {},
   "source": [
    "Посчитайте количество пропусков в столбце time. \n",
    "\n",
    "Метод isna() есть не только у DataFrame, но и у Series. Это \n",
    "\n",
    "значит, что применять его можно не только ко всей таблице, но и к каждому столбцу отдельно."
   ]
  },
  {
   "cell_type": "code",
   "execution_count": 217,
   "metadata": {},
   "outputs": [
    {
     "output_type": "execute_result",
     "data": {
      "text/plain": "False    985\nTrue      15\nName: time, dtype: int64"
     },
     "metadata": {},
     "execution_count": 217
    }
   ],
   "source": [
    "log.time.isna().value_counts()"
   ]
  },
  {
   "cell_type": "markdown",
   "metadata": {},
   "source": [
    "## Удаление пропусков\n",
    "\n",
    "Пропуски можно удалять автоматически. Во многих случаях это правильно, так как данные с большим количеством пропусков часто не имеют смысла и не приносят никакой пользы.  \n",
    "\n",
    "1. Удалять данные с пропусками можно с помощью метода dropna().\n",
    "2. Параметр axis в методе dropna() говорит методу, по какой оси удалять значения.  \n",
    "\n",
    "Если нужно удалить строки, в которых встречается пропуск (NaN), следует указать axis=0.  Зачем это делать? Например, у нас из 1000 примеров данных про пользователей пропуски есть в пяти. Разумно их удалить, так как их количество пренебрежимо мало.\n",
    "Если нужно удалить столбцы, в которых встречается пропуск (NaN), нужно указывать axis=1. Зачем? Иногда в одном конкретном столбце пропусков настолько много, что с ними просто не хочется возиться - смысла в них все равно почти нет. "
   ]
  },
  {
   "cell_type": "markdown",
   "metadata": {},
   "source": [
    "Удалите все столбцы, где есть пропуски. Запишите в поле, сколько осталось столбцов в данных после этого."
   ]
  },
  {
   "cell_type": "code",
   "execution_count": 218,
   "metadata": {},
   "outputs": [
    {
     "output_type": "display_data",
     "data": {
      "text/plain": "Index(['user_id', 'time', 'bet', 'win'], dtype='object')"
     },
     "metadata": {}
    },
    {
     "output_type": "execute_result",
     "data": {
      "text/plain": "Index(['user_id'], dtype='object')"
     },
     "metadata": {},
     "execution_count": 218
    }
   ],
   "source": [
    "display(log.columns)\n",
    "log.dropna(axis=1).columns"
   ]
  },
  {
   "cell_type": "markdown",
   "metadata": {},
   "source": [
    "Удалите все строки, где есть пропуски. Запишите в поле, сколько осталось строк в данных после этого."
   ]
  },
  {
   "cell_type": "code",
   "execution_count": 219,
   "metadata": {},
   "outputs": [
    {
     "output_type": "execute_result",
     "data": {
      "text/plain": "                              user_id                  time        bet  \\\n14   Запись пользователя № - user_917   [2019-01-02 8:57:36   145732.0   \n29   Запись пользователя № - user_942  [2019-01-04 13:59:42  1678321.0   \n151  Запись пользователя № - user_982  [2019-01-16 21:54:22      100.0   \n189  Запись пользователя № - user_964  [2019-01-21 18:34:44      200.0   \n205  Запись пользователя № - user_931   [2019-01-22 5:26:59      300.0   \n..                                ...                   ...        ...   \n967  Запись пользователя № - user_975  [2019-04-19 22:25:15     1000.0   \n971  Запись пользователя № - user_912  [2019-04-20 10:35:49    10554.0   \n972  Запись пользователя № - user_926  [2019-04-20 10:35:50    10354.0   \n976  Запись пользователя № - user_970  [2019-04-20 10:35:54    10354.0   \n991  Запись пользователя № - user_965  [2019-04-20 12:55:41      800.0   \n\n           win  \n14   1987653.0  \n29   9876543.0  \n151     4749.0  \n189     4667.0  \n205     4319.0  \n..         ...  \n967     6108.0  \n971    31799.0  \n972    30244.0  \n976    30691.0  \n991     6927.0  \n\n[133 rows x 4 columns]",
      "text/html": "<div>\n<style scoped>\n    .dataframe tbody tr th:only-of-type {\n        vertical-align: middle;\n    }\n\n    .dataframe tbody tr th {\n        vertical-align: top;\n    }\n\n    .dataframe thead th {\n        text-align: right;\n    }\n</style>\n<table border=\"1\" class=\"dataframe\">\n  <thead>\n    <tr style=\"text-align: right;\">\n      <th></th>\n      <th>user_id</th>\n      <th>time</th>\n      <th>bet</th>\n      <th>win</th>\n    </tr>\n  </thead>\n  <tbody>\n    <tr>\n      <th>14</th>\n      <td>Запись пользователя № - user_917</td>\n      <td>[2019-01-02 8:57:36</td>\n      <td>145732.0</td>\n      <td>1987653.0</td>\n    </tr>\n    <tr>\n      <th>29</th>\n      <td>Запись пользователя № - user_942</td>\n      <td>[2019-01-04 13:59:42</td>\n      <td>1678321.0</td>\n      <td>9876543.0</td>\n    </tr>\n    <tr>\n      <th>151</th>\n      <td>Запись пользователя № - user_982</td>\n      <td>[2019-01-16 21:54:22</td>\n      <td>100.0</td>\n      <td>4749.0</td>\n    </tr>\n    <tr>\n      <th>189</th>\n      <td>Запись пользователя № - user_964</td>\n      <td>[2019-01-21 18:34:44</td>\n      <td>200.0</td>\n      <td>4667.0</td>\n    </tr>\n    <tr>\n      <th>205</th>\n      <td>Запись пользователя № - user_931</td>\n      <td>[2019-01-22 5:26:59</td>\n      <td>300.0</td>\n      <td>4319.0</td>\n    </tr>\n    <tr>\n      <th>...</th>\n      <td>...</td>\n      <td>...</td>\n      <td>...</td>\n      <td>...</td>\n    </tr>\n    <tr>\n      <th>967</th>\n      <td>Запись пользователя № - user_975</td>\n      <td>[2019-04-19 22:25:15</td>\n      <td>1000.0</td>\n      <td>6108.0</td>\n    </tr>\n    <tr>\n      <th>971</th>\n      <td>Запись пользователя № - user_912</td>\n      <td>[2019-04-20 10:35:49</td>\n      <td>10554.0</td>\n      <td>31799.0</td>\n    </tr>\n    <tr>\n      <th>972</th>\n      <td>Запись пользователя № - user_926</td>\n      <td>[2019-04-20 10:35:50</td>\n      <td>10354.0</td>\n      <td>30244.0</td>\n    </tr>\n    <tr>\n      <th>976</th>\n      <td>Запись пользователя № - user_970</td>\n      <td>[2019-04-20 10:35:54</td>\n      <td>10354.0</td>\n      <td>30691.0</td>\n    </tr>\n    <tr>\n      <th>991</th>\n      <td>Запись пользователя № - user_965</td>\n      <td>[2019-04-20 12:55:41</td>\n      <td>800.0</td>\n      <td>6927.0</td>\n    </tr>\n  </tbody>\n</table>\n<p>133 rows × 4 columns</p>\n</div>"
     },
     "metadata": {},
     "execution_count": 219
    }
   ],
   "source": [
    "log.dropna(axis=0)"
   ]
  },
  {
   "cell_type": "markdown",
   "metadata": {},
   "source": [
    "Используйте оригинальный датасет log.csv.\n",
    "\n",
    "С данными в столбцах bet и win мы разберемся позже: пропуски в этих столбцах требуют особого подхода.\n",
    "\n",
    "А сейчас:\n",
    "\n",
    "если есть пропуски в столбце user_id - удалите столбец user_id,\n",
    "\n",
    "если есть пропуски в столбце time - удалите столбец time.\n",
    "\n",
    "Запишите в поле ответа, количество оставшихся столбцов в данных, после этих действий."
   ]
  },
  {
   "cell_type": "markdown",
   "metadata": {},
   "source": [
    "Еще один интересный параметр - `subset`. Что он делает? Если передать в него список значений по одной оси (например, названия столбцов) и задать при этом в параметре axis другую ось (в нашем случае 0), то мы удалим те строки, для которых в данных столбцах находится пропуск. То же самое работает и наоборот: нужно поменять axis на 1 и вместо названий столбцов передавать индексы строк."
   ]
  },
  {
   "cell_type": "code",
   "execution_count": 220,
   "metadata": {},
   "outputs": [
    {
     "output_type": "execute_result",
     "data": {
      "text/plain": "                              user_id\n0    Запись пользователя № - user_919\n1    Запись пользователя № - user_973\n2    Запись пользователя № - user_903\n3    Запись пользователя № - user_954\n4    Запись пользователя № - user_954\n..                                ...\n995  Запись пользователя № - user_984\n996                            #error\n997                            #error\n998                            #error\n999                            #error\n\n[1000 rows x 1 columns]",
      "text/html": "<div>\n<style scoped>\n    .dataframe tbody tr th:only-of-type {\n        vertical-align: middle;\n    }\n\n    .dataframe tbody tr th {\n        vertical-align: top;\n    }\n\n    .dataframe thead th {\n        text-align: right;\n    }\n</style>\n<table border=\"1\" class=\"dataframe\">\n  <thead>\n    <tr style=\"text-align: right;\">\n      <th></th>\n      <th>user_id</th>\n    </tr>\n  </thead>\n  <tbody>\n    <tr>\n      <th>0</th>\n      <td>Запись пользователя № - user_919</td>\n    </tr>\n    <tr>\n      <th>1</th>\n      <td>Запись пользователя № - user_973</td>\n    </tr>\n    <tr>\n      <th>2</th>\n      <td>Запись пользователя № - user_903</td>\n    </tr>\n    <tr>\n      <th>3</th>\n      <td>Запись пользователя № - user_954</td>\n    </tr>\n    <tr>\n      <th>4</th>\n      <td>Запись пользователя № - user_954</td>\n    </tr>\n    <tr>\n      <th>...</th>\n      <td>...</td>\n    </tr>\n    <tr>\n      <th>995</th>\n      <td>Запись пользователя № - user_984</td>\n    </tr>\n    <tr>\n      <th>996</th>\n      <td>#error</td>\n    </tr>\n    <tr>\n      <th>997</th>\n      <td>#error</td>\n    </tr>\n    <tr>\n      <th>998</th>\n      <td>#error</td>\n    </tr>\n    <tr>\n      <th>999</th>\n      <td>#error</td>\n    </tr>\n  </tbody>\n</table>\n<p>1000 rows × 1 columns</p>\n</div>"
     },
     "metadata": {},
     "execution_count": 220
    }
   ],
   "source": [
    "log[['time', 'user_id']].dropna(axis=1)\n"
   ]
  },
  {
   "cell_type": "markdown",
   "metadata": {},
   "source": [
    "Удалите дубли среди столбцов user_id и time. Запишите в поле ниже, сколько осталось строк после удаления дублей."
   ]
  },
  {
   "cell_type": "code",
   "execution_count": 221,
   "metadata": {},
   "outputs": [
    {
     "output_type": "execute_result",
     "data": {
      "text/plain": "                              user_id                  time      bet     win\n0    Запись пользователя № - user_919  [2019-01-01 14:06:51      NaN     NaN\n1    Запись пользователя № - user_973  [2019-01-01 14:51:16      NaN     NaN\n2    Запись пользователя № - user_903  [2019-01-01 16:31:16      NaN     NaN\n3    Запись пользователя № - user_954  [2019-01-01 17:17:51      NaN     NaN\n4    Запись пользователя № - user_954  [2019-01-01 21:31:18      NaN     NaN\n..                                ...                   ...      ...     ...\n991  Запись пользователя № - user_965  [2019-04-20 12:55:41    800.0  6927.0\n992  Запись пользователя № - user_967  [2019-04-20 14:59:36  10154.0     NaN\n993  Запись пользователя № - user_973  [2019-04-20 17:09:56  10254.0     NaN\n994  Запись пользователя № - user_977  [2019-04-20 18:10:07  10354.0     NaN\n995  Запись пользователя № - user_984   [2019-04-20 9:59:58   9754.0     NaN\n\n[986 rows x 4 columns]",
      "text/html": "<div>\n<style scoped>\n    .dataframe tbody tr th:only-of-type {\n        vertical-align: middle;\n    }\n\n    .dataframe tbody tr th {\n        vertical-align: top;\n    }\n\n    .dataframe thead th {\n        text-align: right;\n    }\n</style>\n<table border=\"1\" class=\"dataframe\">\n  <thead>\n    <tr style=\"text-align: right;\">\n      <th></th>\n      <th>user_id</th>\n      <th>time</th>\n      <th>bet</th>\n      <th>win</th>\n    </tr>\n  </thead>\n  <tbody>\n    <tr>\n      <th>0</th>\n      <td>Запись пользователя № - user_919</td>\n      <td>[2019-01-01 14:06:51</td>\n      <td>NaN</td>\n      <td>NaN</td>\n    </tr>\n    <tr>\n      <th>1</th>\n      <td>Запись пользователя № - user_973</td>\n      <td>[2019-01-01 14:51:16</td>\n      <td>NaN</td>\n      <td>NaN</td>\n    </tr>\n    <tr>\n      <th>2</th>\n      <td>Запись пользователя № - user_903</td>\n      <td>[2019-01-01 16:31:16</td>\n      <td>NaN</td>\n      <td>NaN</td>\n    </tr>\n    <tr>\n      <th>3</th>\n      <td>Запись пользователя № - user_954</td>\n      <td>[2019-01-01 17:17:51</td>\n      <td>NaN</td>\n      <td>NaN</td>\n    </tr>\n    <tr>\n      <th>4</th>\n      <td>Запись пользователя № - user_954</td>\n      <td>[2019-01-01 21:31:18</td>\n      <td>NaN</td>\n      <td>NaN</td>\n    </tr>\n    <tr>\n      <th>...</th>\n      <td>...</td>\n      <td>...</td>\n      <td>...</td>\n      <td>...</td>\n    </tr>\n    <tr>\n      <th>991</th>\n      <td>Запись пользователя № - user_965</td>\n      <td>[2019-04-20 12:55:41</td>\n      <td>800.0</td>\n      <td>6927.0</td>\n    </tr>\n    <tr>\n      <th>992</th>\n      <td>Запись пользователя № - user_967</td>\n      <td>[2019-04-20 14:59:36</td>\n      <td>10154.0</td>\n      <td>NaN</td>\n    </tr>\n    <tr>\n      <th>993</th>\n      <td>Запись пользователя № - user_973</td>\n      <td>[2019-04-20 17:09:56</td>\n      <td>10254.0</td>\n      <td>NaN</td>\n    </tr>\n    <tr>\n      <th>994</th>\n      <td>Запись пользователя № - user_977</td>\n      <td>[2019-04-20 18:10:07</td>\n      <td>10354.0</td>\n      <td>NaN</td>\n    </tr>\n    <tr>\n      <th>995</th>\n      <td>Запись пользователя № - user_984</td>\n      <td>[2019-04-20 9:59:58</td>\n      <td>9754.0</td>\n      <td>NaN</td>\n    </tr>\n  </tbody>\n</table>\n<p>986 rows × 4 columns</p>\n</div>"
     },
     "metadata": {},
     "execution_count": 221
    }
   ],
   "source": [
    "log.drop_duplicates(subset=['time', 'user_id'])"
   ]
  },
  {
   "cell_type": "markdown",
   "metadata": {},
   "source": [
    "Уберите лишний символ, преобразуйте признак time к datetime. После этого найдите наибольшую дату и выведите ее без времени.\n",
    "\n",
    "Подсказка: можно применить метод max() к получившемуся столбцу со временем.\n",
    "\n",
    "Не забудьте избавиться от пропусков.\n",
    "\n",
    "Запишите ответ в формате \"YYYY-MM-DD\"."
   ]
  },
  {
   "cell_type": "code",
   "execution_count": 222,
   "metadata": {},
   "outputs": [
    {
     "output_type": "execute_result",
     "data": {
      "text/plain": "Timestamp('2019-04-20 18:10:07')"
     },
     "metadata": {},
     "execution_count": 222
    }
   ],
   "source": [
    "log.time = log.time.apply(lambda s: str(s)[1:] if str(s).startswith('[') else s)\n",
    "log.time = pd.to_datetime(log.time)\n",
    "log.time.max()"
   ]
  },
  {
   "cell_type": "markdown",
   "metadata": {},
   "source": [
    "Используйте оригинальные данные log.csv, столбец time.\n",
    "\n",
    "Подсказка: можно использовать value_counts().\n",
    "\n",
    "Найдите минуту, которая встречалась в данных чаще всего. Введите ответ в поле ниже."
   ]
  },
  {
   "cell_type": "code",
   "execution_count": 223,
   "metadata": {},
   "outputs": [
    {
     "output_type": "execute_result",
     "data": {
      "text/plain": "36.0    25\n31.0    23\n6.0     22\n50.0    22\n14.0    21\nName: time, dtype: int64"
     },
     "metadata": {},
     "execution_count": 223
    }
   ],
   "source": [
    "log.time.dt.minute.value_counts(ascending=False).head()"
   ]
  },
  {
   "cell_type": "markdown",
   "metadata": {},
   "source": [
    "Используйте оригинальные данные log.csv, столбец time.\n",
    "\n",
    "Подсказка: можно использовать value_counts().\n",
    "\n",
    "Найдите месяц, который встречался в данных реже всего. Введите ответ в поле ниже."
   ]
  },
  {
   "cell_type": "code",
   "execution_count": 224,
   "metadata": {},
   "outputs": [
    {
     "output_type": "execute_result",
     "data": {
      "text/plain": "4.0    170\n2.0    259\n3.0    264\n1.0    292\nName: time, dtype: int64"
     },
     "metadata": {},
     "execution_count": 224
    }
   ],
   "source": [
    "log.time.dt.month.value_counts(ascending=True).head()"
   ]
  },
  {
   "cell_type": "code",
   "execution_count": 225,
   "metadata": {},
   "outputs": [
    {
     "output_type": "execute_result",
     "data": {
      "text/plain": "39    2019-01-05 01:54:07\n40    2019-01-05 10:44:56\n41    2019-01-05 13:13:21\n42    2019-01-05 14:36:15\n43    2019-01-05 18:09:15\n              ...        \n991   2019-04-20 12:55:41\n992   2019-04-20 14:59:36\n993   2019-04-20 17:09:56\n994   2019-04-20 18:10:07\n995   2019-04-20 09:59:58\nName: time, Length: 283, dtype: datetime64[ns]"
     },
     "metadata": {},
     "execution_count": 225
    }
   ],
   "source": [
    "log.time[log.time.dt.dayofweek >= 5]"
   ]
  },
  {
   "cell_type": "markdown",
   "metadata": {},
   "source": [
    "Используйте оригинальные данные log.csv, столбец time.\n",
    "\n",
    "Подсказка: можно использовать value_counts(). Кроме этого, потребуется написать функцию, которая преобразует дату во время дня.\n",
    "\n",
    "Договоримся, что с 0 до 5 часов - ночь, с 6 до 11 - утро, с 12 до 17 - день, с 18 до 23 - вечер.\n",
    "\n",
    "Важно: для выполнения задания вам нужно будет избавиться от пропусков только в столбце time. Вспомните, как избавиться от пропусков только по конкретному признаку.\n",
    "\n",
    "Посчитайте, какое время дня встречается в данных реже всего. Введите ответ в поле ниже: ночь, утро, день или вечер."
   ]
  },
  {
   "cell_type": "code",
   "execution_count": 226,
   "metadata": {},
   "outputs": [
    {
     "output_type": "execute_result",
     "data": {
      "text/plain": "вечер    227\nдень     240\nутро     253\nночь     265\nName: time, dtype: int64"
     },
     "metadata": {},
     "execution_count": 226
    }
   ],
   "source": [
    "def to_day_time(hour):\n",
    "    if hour >= 0 and hour <= 5:\n",
    "        return 'ночь'\n",
    "    if hour >= 6 and hour <= 11:\n",
    "        return 'утро'        \n",
    "    if hour >= 12 and hour <= 17:\n",
    "        return 'день'           \n",
    "    if hour >= 18 and hour <= 23:\n",
    "        return 'вечер'                     \n",
    "\n",
    "day_time = log.time.apply(lambda t: to_day_time(t.hour))\n",
    "day_time.value_counts(ascending=True)"
   ]
  },
  {
   "cell_type": "markdown",
   "metadata": {},
   "source": [
    "Давайте повторим то, что мы прошли в этой секции. Напишите код, который создаст признак hour из признака time в датасете log.csv. Для этого:\n",
    "\n",
    "1. загрузите датасет log.csv в переменную log, дальше работать будем с ней;\n",
    "2. установите имена столбцов: ['user_id', 'time', 'bet', 'win'];\n",
    "3. избавьтесь от пропусков в log;\n",
    "4. приведите переменную time к подходящему для извлечения признаков виду;\n",
    "5. получите значение часа для каждой строки в переменной time и запишите в столбец hour в log.\n",
    "\n",
    "Результатом будет таблица log со столбцом hour внутри."
   ]
  },
  {
   "cell_type": "code",
   "execution_count": 227,
   "metadata": {},
   "outputs": [
    {
     "output_type": "display_data",
     "data": {
      "text/plain": "                              user_id                time        bet  \\\n14   Запись пользователя № - user_917 2019-01-02 08:57:36   145732.0   \n29   Запись пользователя № - user_942 2019-01-04 13:59:42  1678321.0   \n151  Запись пользователя № - user_982 2019-01-16 21:54:22      100.0   \n189  Запись пользователя № - user_964 2019-01-21 18:34:44      200.0   \n205  Запись пользователя № - user_931 2019-01-22 05:26:59      300.0   \n..                                ...                 ...        ...   \n967  Запись пользователя № - user_975 2019-04-19 22:25:15     1000.0   \n971  Запись пользователя № - user_912 2019-04-20 10:35:49    10554.0   \n972  Запись пользователя № - user_926 2019-04-20 10:35:50    10354.0   \n976  Запись пользователя № - user_970 2019-04-20 10:35:54    10354.0   \n991  Запись пользователя № - user_965 2019-04-20 12:55:41      800.0   \n\n           win  hour  \n14   1987653.0     8  \n29   9876543.0    13  \n151     4749.0    21  \n189     4667.0    18  \n205     4319.0     5  \n..         ...   ...  \n967     6108.0    22  \n971    31799.0    10  \n972    30244.0    10  \n976    30691.0    10  \n991     6927.0    12  \n\n[133 rows x 5 columns]",
      "text/html": "<div>\n<style scoped>\n    .dataframe tbody tr th:only-of-type {\n        vertical-align: middle;\n    }\n\n    .dataframe tbody tr th {\n        vertical-align: top;\n    }\n\n    .dataframe thead th {\n        text-align: right;\n    }\n</style>\n<table border=\"1\" class=\"dataframe\">\n  <thead>\n    <tr style=\"text-align: right;\">\n      <th></th>\n      <th>user_id</th>\n      <th>time</th>\n      <th>bet</th>\n      <th>win</th>\n      <th>hour</th>\n    </tr>\n  </thead>\n  <tbody>\n    <tr>\n      <th>14</th>\n      <td>Запись пользователя № - user_917</td>\n      <td>2019-01-02 08:57:36</td>\n      <td>145732.0</td>\n      <td>1987653.0</td>\n      <td>8</td>\n    </tr>\n    <tr>\n      <th>29</th>\n      <td>Запись пользователя № - user_942</td>\n      <td>2019-01-04 13:59:42</td>\n      <td>1678321.0</td>\n      <td>9876543.0</td>\n      <td>13</td>\n    </tr>\n    <tr>\n      <th>151</th>\n      <td>Запись пользователя № - user_982</td>\n      <td>2019-01-16 21:54:22</td>\n      <td>100.0</td>\n      <td>4749.0</td>\n      <td>21</td>\n    </tr>\n    <tr>\n      <th>189</th>\n      <td>Запись пользователя № - user_964</td>\n      <td>2019-01-21 18:34:44</td>\n      <td>200.0</td>\n      <td>4667.0</td>\n      <td>18</td>\n    </tr>\n    <tr>\n      <th>205</th>\n      <td>Запись пользователя № - user_931</td>\n      <td>2019-01-22 05:26:59</td>\n      <td>300.0</td>\n      <td>4319.0</td>\n      <td>5</td>\n    </tr>\n    <tr>\n      <th>...</th>\n      <td>...</td>\n      <td>...</td>\n      <td>...</td>\n      <td>...</td>\n      <td>...</td>\n    </tr>\n    <tr>\n      <th>967</th>\n      <td>Запись пользователя № - user_975</td>\n      <td>2019-04-19 22:25:15</td>\n      <td>1000.0</td>\n      <td>6108.0</td>\n      <td>22</td>\n    </tr>\n    <tr>\n      <th>971</th>\n      <td>Запись пользователя № - user_912</td>\n      <td>2019-04-20 10:35:49</td>\n      <td>10554.0</td>\n      <td>31799.0</td>\n      <td>10</td>\n    </tr>\n    <tr>\n      <th>972</th>\n      <td>Запись пользователя № - user_926</td>\n      <td>2019-04-20 10:35:50</td>\n      <td>10354.0</td>\n      <td>30244.0</td>\n      <td>10</td>\n    </tr>\n    <tr>\n      <th>976</th>\n      <td>Запись пользователя № - user_970</td>\n      <td>2019-04-20 10:35:54</td>\n      <td>10354.0</td>\n      <td>30691.0</td>\n      <td>10</td>\n    </tr>\n    <tr>\n      <th>991</th>\n      <td>Запись пользователя № - user_965</td>\n      <td>2019-04-20 12:55:41</td>\n      <td>800.0</td>\n      <td>6927.0</td>\n      <td>12</td>\n    </tr>\n  </tbody>\n</table>\n<p>133 rows × 5 columns</p>\n</div>"
     },
     "metadata": {}
    }
   ],
   "source": [
    "log = pd.read_csv(\"data/log.csv\", header=None, names=['user_id','time', 'bet','win'])\n",
    "log.dropna(axis=0, inplace=True)\n",
    "log.time = log.time.apply(lambda s: str(s)[1:] if str(s).startswith('[') else s)\n",
    "log.time = pd.to_datetime(log.time)\n",
    "log['hour'] = log.time.apply(lambda t: t.hour)\n",
    "display(log)\n"
   ]
  },
  {
   "cell_type": "markdown",
   "metadata": {},
   "source": [
    "## Заполнение константой"
   ]
  },
  {
   "cell_type": "code",
   "execution_count": 228,
   "metadata": {},
   "outputs": [],
   "source": [
    "log = pd.read_csv(\"data/log.csv\", header=None, names=['user_id','time', 'bet','win'])\n",
    "log.time = log.time.apply(lambda s: str(s)[1:] if str(s).startswith('[') else s)\n",
    "log.time = pd.to_datetime(log.time)\n",
    "log['hour'] = log.time.apply(lambda t: t.hour)"
   ]
  },
  {
   "cell_type": "markdown",
   "metadata": {},
   "source": [
    "Используйте оригинальный датасет log.csv. Результат запишите числом в поле ниже.\n",
    "\n",
    "Подсказка: можно использовать value_counts().\n",
    "\n",
    "Посчитайте, сколько раз люди приходили, но не делали ставок. Для этого заполните пропуски в столбце bet значением 0 и посчитайте количество таких значений."
   ]
  },
  {
   "cell_type": "code",
   "execution_count": 229,
   "metadata": {},
   "outputs": [
    {
     "output_type": "execute_result",
     "data": {
      "text/plain": "0.0      515\n500.0     50\n100.0     48\n300.0     42\n800.0     42\nName: bet, dtype: int64"
     },
     "metadata": {},
     "execution_count": 229
    }
   ],
   "source": [
    "log['bet'] = log.bet.fillna(0)\n",
    "log.bet.value_counts().head()"
   ]
  },
  {
   "cell_type": "markdown",
   "metadata": {},
   "source": [
    "## Заполнение с помощью функции\n",
    "\n",
    "Используйте оригинальный датасет log.csv. Проделайте с ним действия из задания 1, расположенного выше на этой странице, и из пункта \"Заполнение с помощью функции\".\n",
    "\n",
    "Результат запишите числом в поле ниже.\n",
    "\n",
    "Подсказка: можно использовать sum().\n",
    "\n",
    "Посчитайте, сколько раз участники ставок проиграли деньги. То есть посчитайте количество строк, для которых в столбце win находится"
   ]
  },
  {
   "cell_type": "markdown",
   "metadata": {},
   "source": []
  },
  {
   "cell_type": "code",
   "execution_count": 230,
   "metadata": {},
   "outputs": [
    {
     "output_type": "execute_result",
     "data": {
      "text/plain": "5     -156789.0\n19     -98753.0\n67      -5000.0\n81    -123981.0\n92       -100.0\n         ...   \n994    -10354.0\n995     -9754.0\n997    -10454.0\n998     -1000.0\n999    -10754.0\nName: win, Length: 347, dtype: float64"
     },
     "metadata": {},
     "execution_count": 230
    }
   ],
   "source": [
    "def fill_na_win(row):\n",
    "    if not pd.isna(row.win):\n",
    "        return row.win\n",
    "    if pd.isna(row.bet):\n",
    "        return 0\n",
    "    else:\n",
    "        return -row.bet\n",
    "\n",
    "log.win = log.apply(lambda row: fill_na_win(row), axis=1)  \n",
    "log.win.loc[wins < 0]\n"
   ]
  },
  {
   "cell_type": "markdown",
   "metadata": {},
   "source": [
    "Создайте признак net, хранящий сумму выигрыша с учетом ставки. Для этого из признака win поэлементно вычтите признак bet и запишите в новый столбец. После этого посчитайте, у скольких людей выигрыш положительный."
   ]
  },
  {
   "cell_type": "code",
   "execution_count": 231,
   "metadata": {
    "tags": []
   },
   "outputs": [
    {
     "output_type": "stream",
     "name": "stdout",
     "text": "<class 'pandas.core.frame.DataFrame'>\nInt64Index: 138 entries, 14 to 996\nData columns (total 6 columns):\n #   Column   Non-Null Count  Dtype         \n---  ------   --------------  -----         \n 0   user_id  138 non-null    object        \n 1   time     133 non-null    datetime64[ns]\n 2   bet      138 non-null    float64       \n 3   win      138 non-null    float64       \n 4   hour     133 non-null    float64       \n 5   net      138 non-null    float64       \ndtypes: datetime64[ns](1), float64(4), object(1)\nmemory usage: 7.5+ KB\n"
    }
   ],
   "source": [
    "log['net'] = log.apply(lambda row: row.win - row.bet, axis=1)\n",
    "winners = log.loc[log.net > 0]\n",
    "winners.info()"
   ]
  },
  {
   "cell_type": "markdown",
   "metadata": {},
   "source": [
    "Используйте датасет log.csv, получившийся в результате выполнения предыдущего задания. Посчитайте среднее значение выигрыша (из столбца net) в тех случаях, когда выигрыш больше 0. Результат округлите до целого, отбросив дробную часть."
   ]
  },
  {
   "cell_type": "code",
   "execution_count": 232,
   "metadata": {},
   "outputs": [
    {
     "output_type": "execute_result",
     "data": {
      "text/plain": "80253"
     },
     "metadata": {},
     "execution_count": 232
    }
   ],
   "source": [
    "round(winners.net.mean())"
   ]
  },
  {
   "cell_type": "markdown",
   "metadata": {},
   "source": [
    "Используйте датасет log.csv, получившийся в результате выполнения первого задания этого блока. Посчитайте медианное значение выигрыша (из столбца net) в тех случаях, когда выигрыш больше 0. Результат округлите до целого, отбросив дробную часть."
   ]
  },
  {
   "cell_type": "code",
   "execution_count": 233,
   "metadata": {},
   "outputs": [
    {
     "output_type": "execute_result",
     "data": {
      "text/plain": "5347"
     },
     "metadata": {},
     "execution_count": 233
    }
   ],
   "source": [
    "round(winners.net.median())"
   ]
  },
  {
   "cell_type": "markdown",
   "metadata": {},
   "source": [
    "## Что осталось сделать\n",
    "Используйте модифицированный исходный датасет log.csv.\n",
    "\n",
    "При модификации датасета log.csv, пропущенные значения в столбцах bet и win замените на 0, cоздайте столбец net, хранящий сумму выигрыша с учетом ставки (для этого из столбца win поэлементно вычтите столбец bet и запишите в новый столбец)."
   ]
  },
  {
   "cell_type": "code",
   "execution_count": 234,
   "metadata": {},
   "outputs": [
    {
     "output_type": "execute_result",
     "data": {
      "text/plain": "                              user_id                time      bet      win  \\\n0    Запись пользователя № - user_919 2019-01-01 14:06:51      0.0      0.0   \n1    Запись пользователя № - user_973 2019-01-01 14:51:16      0.0      0.0   \n2    Запись пользователя № - user_903 2019-01-01 16:31:16      0.0      0.0   \n3    Запись пользователя № - user_954 2019-01-01 17:17:51      0.0      0.0   \n4    Запись пользователя № - user_954 2019-01-01 21:31:18      0.0      0.0   \n..                                ...                 ...      ...      ...   \n995  Запись пользователя № - user_984 2019-04-20 09:59:58   9754.0      0.0   \n996                            #error                 NaT  10054.0  29265.0   \n997                            #error                 NaT  10454.0      0.0   \n998                            #error                 NaT   1000.0      0.0   \n999                            #error                 NaT  10754.0      0.0   \n\n     hour      net  \n0    14.0      0.0  \n1    14.0      0.0  \n2    16.0      0.0  \n3    17.0      0.0  \n4    21.0      0.0  \n..    ...      ...  \n995   9.0  -9754.0  \n996   NaN  19211.0  \n997   NaN -10454.0  \n998   NaN  -1000.0  \n999   NaN -10754.0  \n\n[1000 rows x 6 columns]",
      "text/html": "<div>\n<style scoped>\n    .dataframe tbody tr th:only-of-type {\n        vertical-align: middle;\n    }\n\n    .dataframe tbody tr th {\n        vertical-align: top;\n    }\n\n    .dataframe thead th {\n        text-align: right;\n    }\n</style>\n<table border=\"1\" class=\"dataframe\">\n  <thead>\n    <tr style=\"text-align: right;\">\n      <th></th>\n      <th>user_id</th>\n      <th>time</th>\n      <th>bet</th>\n      <th>win</th>\n      <th>hour</th>\n      <th>net</th>\n    </tr>\n  </thead>\n  <tbody>\n    <tr>\n      <th>0</th>\n      <td>Запись пользователя № - user_919</td>\n      <td>2019-01-01 14:06:51</td>\n      <td>0.0</td>\n      <td>0.0</td>\n      <td>14.0</td>\n      <td>0.0</td>\n    </tr>\n    <tr>\n      <th>1</th>\n      <td>Запись пользователя № - user_973</td>\n      <td>2019-01-01 14:51:16</td>\n      <td>0.0</td>\n      <td>0.0</td>\n      <td>14.0</td>\n      <td>0.0</td>\n    </tr>\n    <tr>\n      <th>2</th>\n      <td>Запись пользователя № - user_903</td>\n      <td>2019-01-01 16:31:16</td>\n      <td>0.0</td>\n      <td>0.0</td>\n      <td>16.0</td>\n      <td>0.0</td>\n    </tr>\n    <tr>\n      <th>3</th>\n      <td>Запись пользователя № - user_954</td>\n      <td>2019-01-01 17:17:51</td>\n      <td>0.0</td>\n      <td>0.0</td>\n      <td>17.0</td>\n      <td>0.0</td>\n    </tr>\n    <tr>\n      <th>4</th>\n      <td>Запись пользователя № - user_954</td>\n      <td>2019-01-01 21:31:18</td>\n      <td>0.0</td>\n      <td>0.0</td>\n      <td>21.0</td>\n      <td>0.0</td>\n    </tr>\n    <tr>\n      <th>...</th>\n      <td>...</td>\n      <td>...</td>\n      <td>...</td>\n      <td>...</td>\n      <td>...</td>\n      <td>...</td>\n    </tr>\n    <tr>\n      <th>995</th>\n      <td>Запись пользователя № - user_984</td>\n      <td>2019-04-20 09:59:58</td>\n      <td>9754.0</td>\n      <td>0.0</td>\n      <td>9.0</td>\n      <td>-9754.0</td>\n    </tr>\n    <tr>\n      <th>996</th>\n      <td>#error</td>\n      <td>NaT</td>\n      <td>10054.0</td>\n      <td>29265.0</td>\n      <td>NaN</td>\n      <td>19211.0</td>\n    </tr>\n    <tr>\n      <th>997</th>\n      <td>#error</td>\n      <td>NaT</td>\n      <td>10454.0</td>\n      <td>0.0</td>\n      <td>NaN</td>\n      <td>-10454.0</td>\n    </tr>\n    <tr>\n      <th>998</th>\n      <td>#error</td>\n      <td>NaT</td>\n      <td>1000.0</td>\n      <td>0.0</td>\n      <td>NaN</td>\n      <td>-1000.0</td>\n    </tr>\n    <tr>\n      <th>999</th>\n      <td>#error</td>\n      <td>NaT</td>\n      <td>10754.0</td>\n      <td>0.0</td>\n      <td>NaN</td>\n      <td>-10754.0</td>\n    </tr>\n  </tbody>\n</table>\n<p>1000 rows × 6 columns</p>\n</div>"
     },
     "metadata": {},
     "execution_count": 234
    }
   ],
   "source": [
    "log = pd.read_csv(\"data/log.csv\", header=None, names=['user_id','time', 'bet','win'])\n",
    "log.time = log.time.apply(lambda s: str(s)[1:] if str(s).startswith('[') else s)\n",
    "log.time = pd.to_datetime(log.time)\n",
    "log['hour'] = log.time.apply(lambda t: t.hour)\n",
    "log['bet'] = log.bet.fillna(0)\n",
    "log['win'] = log.win.fillna(0)\n",
    "log['net'] = log.apply(lambda row: row.win - row.bet, axis=1)\n",
    "log"
   ]
  },
  {
   "cell_type": "code",
   "execution_count": null,
   "metadata": {},
   "outputs": [],
   "source": []
  },
  {
   "cell_type": "markdown",
   "metadata": {},
   "source": [
    "Посчитайте, какой процент посещений букмекерской конторы оборачивался ставкой. Для этого поделите количество ставок (значений больше 0) на общее количество посещений конторы. Результат округлите до одного знака после запятой."
   ]
  },
  {
   "cell_type": "code",
   "execution_count": 235,
   "metadata": {},
   "outputs": [
    {
     "output_type": "execute_result",
     "data": {
      "text/plain": "0.485"
     },
     "metadata": {},
     "execution_count": 235
    }
   ],
   "source": [
    "len(log.loc[log.bet > 0]) / len(log)"
   ]
  },
  {
   "cell_type": "markdown",
   "metadata": {},
   "source": [
    "Посчитайте среднее значение ставки (из столбца bet) в тех случаях, когда ставка была сделана. Результат округлите до целого, отбросив дробную часть."
   ]
  },
  {
   "cell_type": "code",
   "execution_count": 236,
   "metadata": {},
   "outputs": [
    {
     "output_type": "execute_result",
     "data": {
      "text/plain": "6785.738144329897"
     },
     "metadata": {},
     "execution_count": 236
    }
   ],
   "source": [
    "log.loc[log.bet > 0].bet.mean()"
   ]
  },
  {
   "cell_type": "markdown",
   "metadata": {},
   "source": [
    "Посчитайте средний выигрыш (из столбца net) в тех случаях, когда ставка была сделана. Результат округлите до целого, отбросив дробную часть.\n",
    "\n",
    "Пояснение: выигрыш в данном случае означает изменение количества денег и может быть отрицательным. В таком случае это проигрыш."
   ]
  },
  {
   "cell_type": "code",
   "execution_count": 237,
   "metadata": {},
   "outputs": [
    {
     "output_type": "execute_result",
     "data": {
      "text/plain": "20421.892783505155"
     },
     "metadata": {},
     "execution_count": 237
    }
   ],
   "source": [
    "log.loc[log.bet > 0].net.mean()"
   ]
  },
  {
   "cell_type": "markdown",
   "metadata": {},
   "source": [
    "Посчитайте среднюю сумму потерь при проигрыше (из столбца net). Результат округлите до целого, отбросив дробную часть.\n",
    "\n",
    "Пояснение: ответ должен быть дан в виде отрицательного числа."
   ]
  },
  {
   "cell_type": "code",
   "execution_count": 238,
   "metadata": {},
   "outputs": [
    {
     "output_type": "execute_result",
     "data": {
      "text/plain": "-3372.743515850144"
     },
     "metadata": {},
     "execution_count": 238
    }
   ],
   "source": [
    "log.loc[log.net < 0].net.mean()"
   ]
  },
  {
   "cell_type": "markdown",
   "metadata": {},
   "source": [
    "Посчитайте, какой процент ставок заканчивается выигрышем, а какой - проигрышем. Сравните эти значения и ответьте, какое из них больше."
   ]
  },
  {
   "cell_type": "code",
   "execution_count": 239,
   "metadata": {
    "tags": []
   },
   "outputs": [
    {
     "output_type": "stream",
     "name": "stdout",
     "text": "Доля выигрышей: 0.2845360824742268\nДоля проигрышей: 0.7154639175257732\n"
    }
   ],
   "source": [
    "bets = log.loc[log.bet > 0]\n",
    "bets_number = len(bets)\n",
    "\n",
    "print('Доля выигрышей: {}'.format(len(bets.loc[bets.net > 0]) / bets_number))\n",
    "print('Доля проигрышей: {}'.format(len(bets.loc[bets.net < 0]) / bets_number))\n"
   ]
  },
  {
   "cell_type": "markdown",
   "metadata": {},
   "source": [
    "Давайте повторим то, что мы прошли в этой секции. Напишите код, который узнает, чему была равна минимальная ставка и сколько людей сделали такую ставку. Для этого:\n",
    "\n",
    "1. загрузите датасет log.csv;\n",
    "2. посчитайте, чему равна минимальная ставка;\n",
    "3. посчитайте, сколько раз была сделана минимальная ставка, и запишите результат в переменную min_bet_amount в виде целого числа."
   ]
  },
  {
   "cell_type": "code",
   "execution_count": 240,
   "metadata": {
    "tags": []
   },
   "outputs": [
    {
     "output_type": "stream",
     "name": "stdout",
     "text": "48\n"
    }
   ],
   "source": [
    "log_df = pd.read_csv(\"data/log.csv\", header=None, names=['user_id','time', 'bet','win'])\n",
    "log_df.time = log_df.time.apply(lambda s: str(s)[1:] if str(s).startswith('[') else s)\n",
    "min_bet_amount = log_df.bet.value_counts().sort_index().iloc[0]\n",
    "print(min_bet_amount)"
   ]
  },
  {
   "cell_type": "markdown",
   "metadata": {},
   "source": [
    "## Повторение merge/groupby\n",
    "Повторим часть предобработки, которую мы должны были выполнить ранее:"
   ]
  },
  {
   "cell_type": "code",
   "execution_count": 241,
   "metadata": {},
   "outputs": [],
   "source": [
    "# Приведем признак user_id к одному формату в обоих датасетах  \n",
    "us.user_id = us.user_id.apply(lambda x: x.lower())  \n",
    "# Избавимся от ошибок в user_id  \n",
    "log = log[log.user_id != '#error']  \n",
    "log.user_id = log.user_id.str.split(' - ').apply(lambda x: x[1])  "
   ]
  },
  {
   "cell_type": "markdown",
   "metadata": {},
   "source": [
    "Это будет нужно для того, чтобы объединить оба датасета и работать с едиными данными для проведения продвинутого анализа.\n",
    "\n",
    "## Merge\n",
    "\n",
    "Теперь объединим данные с помощью метода pd.merge():\n",
    "\n",
    "`pd.merge(dataframe1, dataframe2, on='feature_name')`\n",
    "\n",
    "Первые два аргумента - таблицы, которые нужно будет объединить.\n",
    "\n",
    "Третий аргумент - название признака, по которому будем объединять данные. Мы уже привели данные к одинаковому виду, и теперь их можно объединить по признаку 'user_id', чтобы получить полную информацию о пользователе. "
   ]
  },
  {
   "cell_type": "code",
   "execution_count": 242,
   "metadata": {
    "tags": []
   },
   "outputs": [
    {
     "output_type": "stream",
     "name": "stdout",
     "text": "<class 'pandas.core.frame.DataFrame'>\nInt64Index: 975 entries, 0 to 974\nData columns (total 6 columns):\n #   Column   Non-Null Count  Dtype  \n---  ------   --------------  -----  \n 0   user_id  975 non-null    object \n 1   time     975 non-null    object \n 2   bet      470 non-null    float64\n 3   win      132 non-null    float64\n 4   email    967 non-null    object \n 5   geo      950 non-null    object \ndtypes: float64(2), object(4)\nmemory usage: 53.3+ KB\n"
    }
   ],
   "source": [
    "merged = pd.merge(log, us, on='user_id')\n",
    "merged.info()"
   ]
  },
  {
   "cell_type": "markdown",
   "metadata": {},
   "source": [
    "## Groupby\n",
    "\n",
    "Теперь повторим groupby.\n",
    "\n",
    "Данный метод позволяет сгруппировать данные и применить к ним методы агрегации:\n",
    "\n",
    "`df.groupby('user_id').win.median().median()`\n",
    "\n",
    "В данном случае мы группируем данные по признаку user_id.\n",
    "\n",
    "После этого мы в каждой группе выбираем признак win.\n",
    "\n",
    "Затем мы берем медиану каждой группы по признаку win и на выходе получаем таблицу, в которой индексом является признак user_id. В этой таблице единственный столбец - медиана по каждой группе (то есть по каждому пользователю).\n",
    "\n",
    "Наконец, последний вызов median() дает нам медиану по предыдущему столбцу, то есть возвращает одно число."
   ]
  },
  {
   "cell_type": "markdown",
   "metadata": {},
   "source": [
    "## Анализ по пользователям\n",
    "Мы собрали все, что нам нужно, чтобы извлечь какие-то инсайты из данных о пользователях."
   ]
  },
  {
   "cell_type": "markdown",
   "metadata": {},
   "source": [
    "Используйте датасет, который получился в результате всех преобразований выше (в том числе, заполнение пропусков). Ответ запишите в поле ниже в виде целого числа (отбросьте дробную часть).\n",
    "\n",
    "Посчитайте медиану баланса по каждому пользователю. Для этого сгруппируйте по пользователям, возьмите признак net, просуммируйте по каждому пользователю и получите медиану."
   ]
  },
  {
   "cell_type": "code",
   "execution_count": 247,
   "metadata": {},
   "outputs": [
    {
     "output_type": "display_data",
     "data": {
      "text/plain": "      user_id                 time    bet     win                   email  \\\n0    user_919  2019-01-01 14:06:51    NaN     NaN  Chikkaverle@icloud.com   \n1    user_919  2019-01-30 10:06:00    NaN     NaN  Chikkaverle@icloud.com   \n2    user_919  2019-02-05 14:33:44    NaN     NaN  Chikkaverle@icloud.com   \n3    user_919  2019-02-14 11:38:05    NaN     NaN  Chikkaverle@icloud.com   \n4    user_919   2019-03-02 4:23:36  300.0     NaN  Chikkaverle@icloud.com   \n..        ...                  ...    ...     ...                     ...   \n970  user_932  2019-02-24 22:40:06    NaN     NaN       BraceWalker@bk.ru   \n971  user_932  2019-03-15 10:56:14    NaN     NaN       BraceWalker@bk.ru   \n972  user_932  2019-03-18 10:13:24    NaN     NaN       BraceWalker@bk.ru   \n973  user_932  2019-03-27 12:18:24    NaN     NaN       BraceWalker@bk.ru   \n974  user_932  2019-04-18 14:55:26  700.0  6640.0       BraceWalker@bk.ru   \n\n            geo  \n0     Хабаровск  \n1     Хабаровск  \n2     Хабаровск  \n3     Хабаровск  \n4     Хабаровск  \n..          ...  \n970  Красноярск  \n971  Красноярск  \n972  Красноярск  \n973  Красноярск  \n974  Красноярск  \n\n[975 rows x 6 columns]",
      "text/html": "<div>\n<style scoped>\n    .dataframe tbody tr th:only-of-type {\n        vertical-align: middle;\n    }\n\n    .dataframe tbody tr th {\n        vertical-align: top;\n    }\n\n    .dataframe thead th {\n        text-align: right;\n    }\n</style>\n<table border=\"1\" class=\"dataframe\">\n  <thead>\n    <tr style=\"text-align: right;\">\n      <th></th>\n      <th>user_id</th>\n      <th>time</th>\n      <th>bet</th>\n      <th>win</th>\n      <th>email</th>\n      <th>geo</th>\n    </tr>\n  </thead>\n  <tbody>\n    <tr>\n      <th>0</th>\n      <td>user_919</td>\n      <td>2019-01-01 14:06:51</td>\n      <td>NaN</td>\n      <td>NaN</td>\n      <td>Chikkaverle@icloud.com</td>\n      <td>Хабаровск</td>\n    </tr>\n    <tr>\n      <th>1</th>\n      <td>user_919</td>\n      <td>2019-01-30 10:06:00</td>\n      <td>NaN</td>\n      <td>NaN</td>\n      <td>Chikkaverle@icloud.com</td>\n      <td>Хабаровск</td>\n    </tr>\n    <tr>\n      <th>2</th>\n      <td>user_919</td>\n      <td>2019-02-05 14:33:44</td>\n      <td>NaN</td>\n      <td>NaN</td>\n      <td>Chikkaverle@icloud.com</td>\n      <td>Хабаровск</td>\n    </tr>\n    <tr>\n      <th>3</th>\n      <td>user_919</td>\n      <td>2019-02-14 11:38:05</td>\n      <td>NaN</td>\n      <td>NaN</td>\n      <td>Chikkaverle@icloud.com</td>\n      <td>Хабаровск</td>\n    </tr>\n    <tr>\n      <th>4</th>\n      <td>user_919</td>\n      <td>2019-03-02 4:23:36</td>\n      <td>300.0</td>\n      <td>NaN</td>\n      <td>Chikkaverle@icloud.com</td>\n      <td>Хабаровск</td>\n    </tr>\n    <tr>\n      <th>...</th>\n      <td>...</td>\n      <td>...</td>\n      <td>...</td>\n      <td>...</td>\n      <td>...</td>\n      <td>...</td>\n    </tr>\n    <tr>\n      <th>970</th>\n      <td>user_932</td>\n      <td>2019-02-24 22:40:06</td>\n      <td>NaN</td>\n      <td>NaN</td>\n      <td>BraceWalker@bk.ru</td>\n      <td>Красноярск</td>\n    </tr>\n    <tr>\n      <th>971</th>\n      <td>user_932</td>\n      <td>2019-03-15 10:56:14</td>\n      <td>NaN</td>\n      <td>NaN</td>\n      <td>BraceWalker@bk.ru</td>\n      <td>Красноярск</td>\n    </tr>\n    <tr>\n      <th>972</th>\n      <td>user_932</td>\n      <td>2019-03-18 10:13:24</td>\n      <td>NaN</td>\n      <td>NaN</td>\n      <td>BraceWalker@bk.ru</td>\n      <td>Красноярск</td>\n    </tr>\n    <tr>\n      <th>973</th>\n      <td>user_932</td>\n      <td>2019-03-27 12:18:24</td>\n      <td>NaN</td>\n      <td>NaN</td>\n      <td>BraceWalker@bk.ru</td>\n      <td>Красноярск</td>\n    </tr>\n    <tr>\n      <th>974</th>\n      <td>user_932</td>\n      <td>2019-04-18 14:55:26</td>\n      <td>700.0</td>\n      <td>6640.0</td>\n      <td>BraceWalker@bk.ru</td>\n      <td>Красноярск</td>\n    </tr>\n  </tbody>\n</table>\n<p>975 rows × 6 columns</p>\n</div>"
     },
     "metadata": {}
    }
   ],
   "source": [
    "merged.groupby('user_id').net.median().median()"
   ]
  },
  {
   "cell_type": "code",
   "execution_count": null,
   "metadata": {},
   "outputs": [],
   "source": []
  }
 ]
}