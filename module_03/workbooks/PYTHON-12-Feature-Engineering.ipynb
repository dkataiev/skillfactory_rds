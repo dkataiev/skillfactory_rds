{
 "metadata": {
  "language_info": {
   "codemirror_mode": {
    "name": "ipython",
    "version": 3
   },
   "file_extension": ".py",
   "mimetype": "text/x-python",
   "name": "python",
   "nbconvert_exporter": "python",
   "pygments_lexer": "ipython3",
   "version": "3.7.6-final"
  },
  "orig_nbformat": 2,
  "kernelspec": {
   "name": "python3",
   "display_name": "Python 3"
  }
 },
 "nbformat": 4,
 "nbformat_minor": 2,
 "cells": [
  {
   "cell_type": "markdown",
   "metadata": {},
   "source": [
    "Подготовим датасет к работе"
   ]
  },
  {
   "cell_type": "code",
   "execution_count": 177,
   "metadata": {},
   "outputs": [
    {
     "output_type": "display_data",
     "data": {
      "text/plain": "                              user_id                  time      bet      win\n0    Запись пользователя № - user_919  [2019-01-01 14:06:51      NaN      NaN\n1    Запись пользователя № - user_973  [2019-01-01 14:51:16      NaN      NaN\n2    Запись пользователя № - user_903  [2019-01-01 16:31:16      NaN      NaN\n3    Запись пользователя № - user_954  [2019-01-01 17:17:51      NaN      NaN\n4    Запись пользователя № - user_954  [2019-01-01 21:31:18      NaN      NaN\n..                                ...                   ...      ...      ...\n995  Запись пользователя № - user_984   [2019-04-20 9:59:58   9754.0      NaN\n996                            #error                   NaN  10054.0  29265.0\n997                            #error                   NaN  10454.0      NaN\n998                            #error                   NaN   1000.0      NaN\n999                            #error                   NaN  10754.0      NaN\n\n[1000 rows x 4 columns]",
      "text/html": "<div>\n<style scoped>\n    .dataframe tbody tr th:only-of-type {\n        vertical-align: middle;\n    }\n\n    .dataframe tbody tr th {\n        vertical-align: top;\n    }\n\n    .dataframe thead th {\n        text-align: right;\n    }\n</style>\n<table border=\"1\" class=\"dataframe\">\n  <thead>\n    <tr style=\"text-align: right;\">\n      <th></th>\n      <th>user_id</th>\n      <th>time</th>\n      <th>bet</th>\n      <th>win</th>\n    </tr>\n  </thead>\n  <tbody>\n    <tr>\n      <th>0</th>\n      <td>Запись пользователя № - user_919</td>\n      <td>[2019-01-01 14:06:51</td>\n      <td>NaN</td>\n      <td>NaN</td>\n    </tr>\n    <tr>\n      <th>1</th>\n      <td>Запись пользователя № - user_973</td>\n      <td>[2019-01-01 14:51:16</td>\n      <td>NaN</td>\n      <td>NaN</td>\n    </tr>\n    <tr>\n      <th>2</th>\n      <td>Запись пользователя № - user_903</td>\n      <td>[2019-01-01 16:31:16</td>\n      <td>NaN</td>\n      <td>NaN</td>\n    </tr>\n    <tr>\n      <th>3</th>\n      <td>Запись пользователя № - user_954</td>\n      <td>[2019-01-01 17:17:51</td>\n      <td>NaN</td>\n      <td>NaN</td>\n    </tr>\n    <tr>\n      <th>4</th>\n      <td>Запись пользователя № - user_954</td>\n      <td>[2019-01-01 21:31:18</td>\n      <td>NaN</td>\n      <td>NaN</td>\n    </tr>\n    <tr>\n      <th>...</th>\n      <td>...</td>\n      <td>...</td>\n      <td>...</td>\n      <td>...</td>\n    </tr>\n    <tr>\n      <th>995</th>\n      <td>Запись пользователя № - user_984</td>\n      <td>[2019-04-20 9:59:58</td>\n      <td>9754.0</td>\n      <td>NaN</td>\n    </tr>\n    <tr>\n      <th>996</th>\n      <td>#error</td>\n      <td>NaN</td>\n      <td>10054.0</td>\n      <td>29265.0</td>\n    </tr>\n    <tr>\n      <th>997</th>\n      <td>#error</td>\n      <td>NaN</td>\n      <td>10454.0</td>\n      <td>NaN</td>\n    </tr>\n    <tr>\n      <th>998</th>\n      <td>#error</td>\n      <td>NaN</td>\n      <td>1000.0</td>\n      <td>NaN</td>\n    </tr>\n    <tr>\n      <th>999</th>\n      <td>#error</td>\n      <td>NaN</td>\n      <td>10754.0</td>\n      <td>NaN</td>\n    </tr>\n  </tbody>\n</table>\n<p>1000 rows × 4 columns</p>\n</div>"
     },
     "metadata": {}
    },
    {
     "output_type": "display_data",
     "data": {
      "text/plain": "     user_id                     email          geo\n0   User_943       Accumanst@gmail.com       Ижевск\n1   User_908         Advismowr@mail.ru       Ижевск\n2   User_962           Anachso@ukr.net    Краснодар\n3   User_973          Antecia@inbox.ru        Пермь\n4   User_902        Balliaryva@ukr.net          NaN\n..       ...                       ...          ...\n95  User_959  UpdatesCurious@yahoo.com       Тюмень\n96  User_901        V2artierso@mail.ru  Арзангелтск\n97  User_970          Vashoterlo@bk.ru      Воронеж\n98  User_965       Visuareda@yahoo.com      Воронеж\n99  User_921              Aavast@ya.ru       Ижевск\n\n[100 rows x 3 columns]",
      "text/html": "<div>\n<style scoped>\n    .dataframe tbody tr th:only-of-type {\n        vertical-align: middle;\n    }\n\n    .dataframe tbody tr th {\n        vertical-align: top;\n    }\n\n    .dataframe thead th {\n        text-align: right;\n    }\n</style>\n<table border=\"1\" class=\"dataframe\">\n  <thead>\n    <tr style=\"text-align: right;\">\n      <th></th>\n      <th>user_id</th>\n      <th>email</th>\n      <th>geo</th>\n    </tr>\n  </thead>\n  <tbody>\n    <tr>\n      <th>0</th>\n      <td>User_943</td>\n      <td>Accumanst@gmail.com</td>\n      <td>Ижевск</td>\n    </tr>\n    <tr>\n      <th>1</th>\n      <td>User_908</td>\n      <td>Advismowr@mail.ru</td>\n      <td>Ижевск</td>\n    </tr>\n    <tr>\n      <th>2</th>\n      <td>User_962</td>\n      <td>Anachso@ukr.net</td>\n      <td>Краснодар</td>\n    </tr>\n    <tr>\n      <th>3</th>\n      <td>User_973</td>\n      <td>Antecia@inbox.ru</td>\n      <td>Пермь</td>\n    </tr>\n    <tr>\n      <th>4</th>\n      <td>User_902</td>\n      <td>Balliaryva@ukr.net</td>\n      <td>NaN</td>\n    </tr>\n    <tr>\n      <th>...</th>\n      <td>...</td>\n      <td>...</td>\n      <td>...</td>\n    </tr>\n    <tr>\n      <th>95</th>\n      <td>User_959</td>\n      <td>UpdatesCurious@yahoo.com</td>\n      <td>Тюмень</td>\n    </tr>\n    <tr>\n      <th>96</th>\n      <td>User_901</td>\n      <td>V2artierso@mail.ru</td>\n      <td>Арзангелтск</td>\n    </tr>\n    <tr>\n      <th>97</th>\n      <td>User_970</td>\n      <td>Vashoterlo@bk.ru</td>\n      <td>Воронеж</td>\n    </tr>\n    <tr>\n      <th>98</th>\n      <td>User_965</td>\n      <td>Visuareda@yahoo.com</td>\n      <td>Воронеж</td>\n    </tr>\n    <tr>\n      <th>99</th>\n      <td>User_921</td>\n      <td>Aavast@ya.ru</td>\n      <td>Ижевск</td>\n    </tr>\n  </tbody>\n</table>\n<p>100 rows × 3 columns</p>\n</div>"
     },
     "metadata": {}
    }
   ],
   "source": [
    "import pandas as pd\n",
    "import datetime\n",
    "\n",
    "log = pd.read_csv(\"data/log.csv\", header=None, names=['user_id','time', 'bet','win'])\n",
    "display(log)\n",
    "\n",
    "us = pd.read_csv('data/users.csv', encoding='koi8_r', sep='\\t')\n",
    "us.columns  = ['user_id', 'email', 'geo']\n",
    "display(us)"
   ]
  },
  {
   "cell_type": "markdown",
   "metadata": {},
   "source": [
    "Посчитайте количество пропусков в столбце time. \n",
    "\n",
    "Метод isna() есть не только у DataFrame, но и у Series. Это \n",
    "\n",
    "значит, что применять его можно не только ко всей таблице, но и к каждому столбцу отдельно."
   ]
  },
  {
   "cell_type": "code",
   "execution_count": 178,
   "metadata": {},
   "outputs": [
    {
     "output_type": "execute_result",
     "data": {
      "text/plain": "False    985\nTrue      15\nName: time, dtype: int64"
     },
     "metadata": {},
     "execution_count": 178
    }
   ],
   "source": [
    "log.time.isna().value_counts()"
   ]
  },
  {
   "cell_type": "markdown",
   "metadata": {},
   "source": [
    "## Удаление пропусков\n",
    "\n",
    "Пропуски можно удалять автоматически. Во многих случаях это правильно, так как данные с большим количеством пропусков часто не имеют смысла и не приносят никакой пользы.  \n",
    "\n",
    "1. Удалять данные с пропусками можно с помощью метода dropna().\n",
    "2. Параметр axis в методе dropna() говорит методу, по какой оси удалять значения.  \n",
    "\n",
    "Если нужно удалить строки, в которых встречается пропуск (NaN), следует указать axis=0.  Зачем это делать? Например, у нас из 1000 примеров данных про пользователей пропуски есть в пяти. Разумно их удалить, так как их количество пренебрежимо мало.\n",
    "Если нужно удалить столбцы, в которых встречается пропуск (NaN), нужно указывать axis=1. Зачем? Иногда в одном конкретном столбце пропусков настолько много, что с ними просто не хочется возиться - смысла в них все равно почти нет. "
   ]
  },
  {
   "cell_type": "markdown",
   "metadata": {},
   "source": [
    "Удалите все столбцы, где есть пропуски. Запишите в поле, сколько осталось столбцов в данных после этого."
   ]
  },
  {
   "cell_type": "code",
   "execution_count": 179,
   "metadata": {},
   "outputs": [
    {
     "output_type": "display_data",
     "data": {
      "text/plain": "Index(['user_id', 'time', 'bet', 'win'], dtype='object')"
     },
     "metadata": {}
    },
    {
     "output_type": "execute_result",
     "data": {
      "text/plain": "Index(['user_id'], dtype='object')"
     },
     "metadata": {},
     "execution_count": 179
    }
   ],
   "source": [
    "display(log.columns)\n",
    "log.dropna(axis=1).columns"
   ]
  },
  {
   "cell_type": "markdown",
   "metadata": {},
   "source": [
    "Удалите все строки, где есть пропуски. Запишите в поле, сколько осталось строк в данных после этого."
   ]
  },
  {
   "cell_type": "code",
   "execution_count": 180,
   "metadata": {},
   "outputs": [
    {
     "output_type": "execute_result",
     "data": {
      "text/plain": "                              user_id                  time        bet  \\\n14   Запись пользователя № - user_917   [2019-01-02 8:57:36   145732.0   \n29   Запись пользователя № - user_942  [2019-01-04 13:59:42  1678321.0   \n151  Запись пользователя № - user_982  [2019-01-16 21:54:22      100.0   \n189  Запись пользователя № - user_964  [2019-01-21 18:34:44      200.0   \n205  Запись пользователя № - user_931   [2019-01-22 5:26:59      300.0   \n..                                ...                   ...        ...   \n967  Запись пользователя № - user_975  [2019-04-19 22:25:15     1000.0   \n971  Запись пользователя № - user_912  [2019-04-20 10:35:49    10554.0   \n972  Запись пользователя № - user_926  [2019-04-20 10:35:50    10354.0   \n976  Запись пользователя № - user_970  [2019-04-20 10:35:54    10354.0   \n991  Запись пользователя № - user_965  [2019-04-20 12:55:41      800.0   \n\n           win  \n14   1987653.0  \n29   9876543.0  \n151     4749.0  \n189     4667.0  \n205     4319.0  \n..         ...  \n967     6108.0  \n971    31799.0  \n972    30244.0  \n976    30691.0  \n991     6927.0  \n\n[133 rows x 4 columns]",
      "text/html": "<div>\n<style scoped>\n    .dataframe tbody tr th:only-of-type {\n        vertical-align: middle;\n    }\n\n    .dataframe tbody tr th {\n        vertical-align: top;\n    }\n\n    .dataframe thead th {\n        text-align: right;\n    }\n</style>\n<table border=\"1\" class=\"dataframe\">\n  <thead>\n    <tr style=\"text-align: right;\">\n      <th></th>\n      <th>user_id</th>\n      <th>time</th>\n      <th>bet</th>\n      <th>win</th>\n    </tr>\n  </thead>\n  <tbody>\n    <tr>\n      <th>14</th>\n      <td>Запись пользователя № - user_917</td>\n      <td>[2019-01-02 8:57:36</td>\n      <td>145732.0</td>\n      <td>1987653.0</td>\n    </tr>\n    <tr>\n      <th>29</th>\n      <td>Запись пользователя № - user_942</td>\n      <td>[2019-01-04 13:59:42</td>\n      <td>1678321.0</td>\n      <td>9876543.0</td>\n    </tr>\n    <tr>\n      <th>151</th>\n      <td>Запись пользователя № - user_982</td>\n      <td>[2019-01-16 21:54:22</td>\n      <td>100.0</td>\n      <td>4749.0</td>\n    </tr>\n    <tr>\n      <th>189</th>\n      <td>Запись пользователя № - user_964</td>\n      <td>[2019-01-21 18:34:44</td>\n      <td>200.0</td>\n      <td>4667.0</td>\n    </tr>\n    <tr>\n      <th>205</th>\n      <td>Запись пользователя № - user_931</td>\n      <td>[2019-01-22 5:26:59</td>\n      <td>300.0</td>\n      <td>4319.0</td>\n    </tr>\n    <tr>\n      <th>...</th>\n      <td>...</td>\n      <td>...</td>\n      <td>...</td>\n      <td>...</td>\n    </tr>\n    <tr>\n      <th>967</th>\n      <td>Запись пользователя № - user_975</td>\n      <td>[2019-04-19 22:25:15</td>\n      <td>1000.0</td>\n      <td>6108.0</td>\n    </tr>\n    <tr>\n      <th>971</th>\n      <td>Запись пользователя № - user_912</td>\n      <td>[2019-04-20 10:35:49</td>\n      <td>10554.0</td>\n      <td>31799.0</td>\n    </tr>\n    <tr>\n      <th>972</th>\n      <td>Запись пользователя № - user_926</td>\n      <td>[2019-04-20 10:35:50</td>\n      <td>10354.0</td>\n      <td>30244.0</td>\n    </tr>\n    <tr>\n      <th>976</th>\n      <td>Запись пользователя № - user_970</td>\n      <td>[2019-04-20 10:35:54</td>\n      <td>10354.0</td>\n      <td>30691.0</td>\n    </tr>\n    <tr>\n      <th>991</th>\n      <td>Запись пользователя № - user_965</td>\n      <td>[2019-04-20 12:55:41</td>\n      <td>800.0</td>\n      <td>6927.0</td>\n    </tr>\n  </tbody>\n</table>\n<p>133 rows × 4 columns</p>\n</div>"
     },
     "metadata": {},
     "execution_count": 180
    }
   ],
   "source": [
    "log.dropna(axis=0)"
   ]
  },
  {
   "cell_type": "markdown",
   "metadata": {},
   "source": [
    "Используйте оригинальный датасет log.csv.\n",
    "\n",
    "С данными в столбцах bet и win мы разберемся позже: пропуски в этих столбцах требуют особого подхода.\n",
    "\n",
    "А сейчас:\n",
    "\n",
    "если есть пропуски в столбце user_id - удалите столбец user_id,\n",
    "\n",
    "если есть пропуски в столбце time - удалите столбец time.\n",
    "\n",
    "Запишите в поле ответа, количество оставшихся столбцов в данных, после этих действий."
   ]
  },
  {
   "cell_type": "markdown",
   "metadata": {},
   "source": [
    "Еще один интересный параметр - `subset`. Что он делает? Если передать в него список значений по одной оси (например, названия столбцов) и задать при этом в параметре axis другую ось (в нашем случае 0), то мы удалим те строки, для которых в данных столбцах находится пропуск. То же самое работает и наоборот: нужно поменять axis на 1 и вместо названий столбцов передавать индексы строк."
   ]
  },
  {
   "cell_type": "code",
   "execution_count": 181,
   "metadata": {},
   "outputs": [
    {
     "output_type": "execute_result",
     "data": {
      "text/plain": "                              user_id\n0    Запись пользователя № - user_919\n1    Запись пользователя № - user_973\n2    Запись пользователя № - user_903\n3    Запись пользователя № - user_954\n4    Запись пользователя № - user_954\n..                                ...\n995  Запись пользователя № - user_984\n996                            #error\n997                            #error\n998                            #error\n999                            #error\n\n[1000 rows x 1 columns]",
      "text/html": "<div>\n<style scoped>\n    .dataframe tbody tr th:only-of-type {\n        vertical-align: middle;\n    }\n\n    .dataframe tbody tr th {\n        vertical-align: top;\n    }\n\n    .dataframe thead th {\n        text-align: right;\n    }\n</style>\n<table border=\"1\" class=\"dataframe\">\n  <thead>\n    <tr style=\"text-align: right;\">\n      <th></th>\n      <th>user_id</th>\n    </tr>\n  </thead>\n  <tbody>\n    <tr>\n      <th>0</th>\n      <td>Запись пользователя № - user_919</td>\n    </tr>\n    <tr>\n      <th>1</th>\n      <td>Запись пользователя № - user_973</td>\n    </tr>\n    <tr>\n      <th>2</th>\n      <td>Запись пользователя № - user_903</td>\n    </tr>\n    <tr>\n      <th>3</th>\n      <td>Запись пользователя № - user_954</td>\n    </tr>\n    <tr>\n      <th>4</th>\n      <td>Запись пользователя № - user_954</td>\n    </tr>\n    <tr>\n      <th>...</th>\n      <td>...</td>\n    </tr>\n    <tr>\n      <th>995</th>\n      <td>Запись пользователя № - user_984</td>\n    </tr>\n    <tr>\n      <th>996</th>\n      <td>#error</td>\n    </tr>\n    <tr>\n      <th>997</th>\n      <td>#error</td>\n    </tr>\n    <tr>\n      <th>998</th>\n      <td>#error</td>\n    </tr>\n    <tr>\n      <th>999</th>\n      <td>#error</td>\n    </tr>\n  </tbody>\n</table>\n<p>1000 rows × 1 columns</p>\n</div>"
     },
     "metadata": {},
     "execution_count": 181
    }
   ],
   "source": [
    "log[['time', 'user_id']].dropna(axis=1)\n"
   ]
  },
  {
   "cell_type": "markdown",
   "metadata": {},
   "source": [
    "Удалите дубли среди столбцов user_id и time. Запишите в поле ниже, сколько осталось строк после удаления дублей."
   ]
  },
  {
   "cell_type": "code",
   "execution_count": 182,
   "metadata": {},
   "outputs": [
    {
     "output_type": "execute_result",
     "data": {
      "text/plain": "                              user_id                  time      bet     win\n0    Запись пользователя № - user_919  [2019-01-01 14:06:51      NaN     NaN\n1    Запись пользователя № - user_973  [2019-01-01 14:51:16      NaN     NaN\n2    Запись пользователя № - user_903  [2019-01-01 16:31:16      NaN     NaN\n3    Запись пользователя № - user_954  [2019-01-01 17:17:51      NaN     NaN\n4    Запись пользователя № - user_954  [2019-01-01 21:31:18      NaN     NaN\n..                                ...                   ...      ...     ...\n991  Запись пользователя № - user_965  [2019-04-20 12:55:41    800.0  6927.0\n992  Запись пользователя № - user_967  [2019-04-20 14:59:36  10154.0     NaN\n993  Запись пользователя № - user_973  [2019-04-20 17:09:56  10254.0     NaN\n994  Запись пользователя № - user_977  [2019-04-20 18:10:07  10354.0     NaN\n995  Запись пользователя № - user_984   [2019-04-20 9:59:58   9754.0     NaN\n\n[986 rows x 4 columns]",
      "text/html": "<div>\n<style scoped>\n    .dataframe tbody tr th:only-of-type {\n        vertical-align: middle;\n    }\n\n    .dataframe tbody tr th {\n        vertical-align: top;\n    }\n\n    .dataframe thead th {\n        text-align: right;\n    }\n</style>\n<table border=\"1\" class=\"dataframe\">\n  <thead>\n    <tr style=\"text-align: right;\">\n      <th></th>\n      <th>user_id</th>\n      <th>time</th>\n      <th>bet</th>\n      <th>win</th>\n    </tr>\n  </thead>\n  <tbody>\n    <tr>\n      <th>0</th>\n      <td>Запись пользователя № - user_919</td>\n      <td>[2019-01-01 14:06:51</td>\n      <td>NaN</td>\n      <td>NaN</td>\n    </tr>\n    <tr>\n      <th>1</th>\n      <td>Запись пользователя № - user_973</td>\n      <td>[2019-01-01 14:51:16</td>\n      <td>NaN</td>\n      <td>NaN</td>\n    </tr>\n    <tr>\n      <th>2</th>\n      <td>Запись пользователя № - user_903</td>\n      <td>[2019-01-01 16:31:16</td>\n      <td>NaN</td>\n      <td>NaN</td>\n    </tr>\n    <tr>\n      <th>3</th>\n      <td>Запись пользователя № - user_954</td>\n      <td>[2019-01-01 17:17:51</td>\n      <td>NaN</td>\n      <td>NaN</td>\n    </tr>\n    <tr>\n      <th>4</th>\n      <td>Запись пользователя № - user_954</td>\n      <td>[2019-01-01 21:31:18</td>\n      <td>NaN</td>\n      <td>NaN</td>\n    </tr>\n    <tr>\n      <th>...</th>\n      <td>...</td>\n      <td>...</td>\n      <td>...</td>\n      <td>...</td>\n    </tr>\n    <tr>\n      <th>991</th>\n      <td>Запись пользователя № - user_965</td>\n      <td>[2019-04-20 12:55:41</td>\n      <td>800.0</td>\n      <td>6927.0</td>\n    </tr>\n    <tr>\n      <th>992</th>\n      <td>Запись пользователя № - user_967</td>\n      <td>[2019-04-20 14:59:36</td>\n      <td>10154.0</td>\n      <td>NaN</td>\n    </tr>\n    <tr>\n      <th>993</th>\n      <td>Запись пользователя № - user_973</td>\n      <td>[2019-04-20 17:09:56</td>\n      <td>10254.0</td>\n      <td>NaN</td>\n    </tr>\n    <tr>\n      <th>994</th>\n      <td>Запись пользователя № - user_977</td>\n      <td>[2019-04-20 18:10:07</td>\n      <td>10354.0</td>\n      <td>NaN</td>\n    </tr>\n    <tr>\n      <th>995</th>\n      <td>Запись пользователя № - user_984</td>\n      <td>[2019-04-20 9:59:58</td>\n      <td>9754.0</td>\n      <td>NaN</td>\n    </tr>\n  </tbody>\n</table>\n<p>986 rows × 4 columns</p>\n</div>"
     },
     "metadata": {},
     "execution_count": 182
    }
   ],
   "source": [
    "log.drop_duplicates(subset=['time', 'user_id'])"
   ]
  },
  {
   "cell_type": "markdown",
   "metadata": {},
   "source": [
    "Уберите лишний символ, преобразуйте признак time к datetime. После этого найдите наибольшую дату и выведите ее без времени.\n",
    "\n",
    "Подсказка: можно применить метод max() к получившемуся столбцу со временем.\n",
    "\n",
    "Не забудьте избавиться от пропусков.\n",
    "\n",
    "Запишите ответ в формате \"YYYY-MM-DD\"."
   ]
  },
  {
   "cell_type": "code",
   "execution_count": 183,
   "metadata": {},
   "outputs": [
    {
     "output_type": "execute_result",
     "data": {
      "text/plain": "Timestamp('2019-04-20 18:10:07')"
     },
     "metadata": {},
     "execution_count": 183
    }
   ],
   "source": [
    "log.time = log.time.apply(lambda s: str(s)[1:] if str(s).startswith('[') else s)\n",
    "log.time = pd.to_datetime(log.time)\n",
    "log.time.max()"
   ]
  },
  {
   "cell_type": "markdown",
   "metadata": {},
   "source": [
    "Используйте оригинальные данные log.csv, столбец time.\n",
    "\n",
    "Подсказка: можно использовать value_counts().\n",
    "\n",
    "Найдите минуту, которая встречалась в данных чаще всего. Введите ответ в поле ниже."
   ]
  },
  {
   "cell_type": "code",
   "execution_count": 184,
   "metadata": {},
   "outputs": [
    {
     "output_type": "execute_result",
     "data": {
      "text/plain": "36.0    25\n31.0    23\n6.0     22\n50.0    22\n14.0    21\nName: time, dtype: int64"
     },
     "metadata": {},
     "execution_count": 184
    }
   ],
   "source": [
    "log.time.dt.minute.value_counts(ascending=False).head()"
   ]
  },
  {
   "cell_type": "markdown",
   "metadata": {},
   "source": [
    "Используйте оригинальные данные log.csv, столбец time.\n",
    "\n",
    "Подсказка: можно использовать value_counts().\n",
    "\n",
    "Найдите месяц, который встречался в данных реже всего. Введите ответ в поле ниже."
   ]
  },
  {
   "cell_type": "code",
   "execution_count": 185,
   "metadata": {},
   "outputs": [
    {
     "output_type": "execute_result",
     "data": {
      "text/plain": "4.0    170\n2.0    259\n3.0    264\n1.0    292\nName: time, dtype: int64"
     },
     "metadata": {},
     "execution_count": 185
    }
   ],
   "source": [
    "log.time.dt.month.value_counts(ascending=True).head()"
   ]
  },
  {
   "cell_type": "code",
   "execution_count": 186,
   "metadata": {},
   "outputs": [
    {
     "output_type": "execute_result",
     "data": {
      "text/plain": "39    2019-01-05 01:54:07\n40    2019-01-05 10:44:56\n41    2019-01-05 13:13:21\n42    2019-01-05 14:36:15\n43    2019-01-05 18:09:15\n              ...        \n991   2019-04-20 12:55:41\n992   2019-04-20 14:59:36\n993   2019-04-20 17:09:56\n994   2019-04-20 18:10:07\n995   2019-04-20 09:59:58\nName: time, Length: 283, dtype: datetime64[ns]"
     },
     "metadata": {},
     "execution_count": 186
    }
   ],
   "source": [
    "log.time[log.time.dt.dayofweek >= 5]"
   ]
  },
  {
   "cell_type": "markdown",
   "metadata": {},
   "source": [
    "Используйте оригинальные данные log.csv, столбец time.\n",
    "\n",
    "Подсказка: можно использовать value_counts(). Кроме этого, потребуется написать функцию, которая преобразует дату во время дня.\n",
    "\n",
    "Договоримся, что с 0 до 5 часов - ночь, с 6 до 11 - утро, с 12 до 17 - день, с 18 до 23 - вечер.\n",
    "\n",
    "Важно: для выполнения задания вам нужно будет избавиться от пропусков только в столбце time. Вспомните, как избавиться от пропусков только по конкретному признаку.\n",
    "\n",
    "Посчитайте, какое время дня встречается в данных реже всего. Введите ответ в поле ниже: ночь, утро, день или вечер."
   ]
  },
  {
   "cell_type": "code",
   "execution_count": 187,
   "metadata": {},
   "outputs": [
    {
     "output_type": "execute_result",
     "data": {
      "text/plain": "вечер    227\nдень     240\nутро     253\nночь     265\nName: time, dtype: int64"
     },
     "metadata": {},
     "execution_count": 187
    }
   ],
   "source": [
    "def to_day_time(hour):\n",
    "    if hour >= 0 and hour <= 5:\n",
    "        return 'ночь'\n",
    "    if hour >= 6 and hour <= 11:\n",
    "        return 'утро'        \n",
    "    if hour >= 12 and hour <= 17:\n",
    "        return 'день'           \n",
    "    if hour >= 18 and hour <= 23:\n",
    "        return 'вечер'                     \n",
    "\n",
    "day_time = log.time.apply(lambda t: to_day_time(t.hour))\n",
    "day_time.value_counts(ascending=True)"
   ]
  },
  {
   "cell_type": "markdown",
   "metadata": {},
   "source": [
    "Давайте повторим то, что мы прошли в этой секции. Напишите код, который создаст признак hour из признака time в датасете log.csv. Для этого:\n",
    "\n",
    "1. загрузите датасет log.csv в переменную log, дальше работать будем с ней;\n",
    "2. установите имена столбцов: ['user_id', 'time', 'bet', 'win'];\n",
    "3. избавьтесь от пропусков в log;\n",
    "4. приведите переменную time к подходящему для извлечения признаков виду;\n",
    "5. получите значение часа для каждой строки в переменной time и запишите в столбец hour в log.\n",
    "\n",
    "Результатом будет таблица log со столбцом hour внутри."
   ]
  },
  {
   "cell_type": "code",
   "execution_count": 188,
   "metadata": {},
   "outputs": [
    {
     "output_type": "display_data",
     "data": {
      "text/plain": "                              user_id                time        bet  \\\n14   Запись пользователя № - user_917 2019-01-02 08:57:36   145732.0   \n29   Запись пользователя № - user_942 2019-01-04 13:59:42  1678321.0   \n151  Запись пользователя № - user_982 2019-01-16 21:54:22      100.0   \n189  Запись пользователя № - user_964 2019-01-21 18:34:44      200.0   \n205  Запись пользователя № - user_931 2019-01-22 05:26:59      300.0   \n..                                ...                 ...        ...   \n967  Запись пользователя № - user_975 2019-04-19 22:25:15     1000.0   \n971  Запись пользователя № - user_912 2019-04-20 10:35:49    10554.0   \n972  Запись пользователя № - user_926 2019-04-20 10:35:50    10354.0   \n976  Запись пользователя № - user_970 2019-04-20 10:35:54    10354.0   \n991  Запись пользователя № - user_965 2019-04-20 12:55:41      800.0   \n\n           win  hour  \n14   1987653.0     8  \n29   9876543.0    13  \n151     4749.0    21  \n189     4667.0    18  \n205     4319.0     5  \n..         ...   ...  \n967     6108.0    22  \n971    31799.0    10  \n972    30244.0    10  \n976    30691.0    10  \n991     6927.0    12  \n\n[133 rows x 5 columns]",
      "text/html": "<div>\n<style scoped>\n    .dataframe tbody tr th:only-of-type {\n        vertical-align: middle;\n    }\n\n    .dataframe tbody tr th {\n        vertical-align: top;\n    }\n\n    .dataframe thead th {\n        text-align: right;\n    }\n</style>\n<table border=\"1\" class=\"dataframe\">\n  <thead>\n    <tr style=\"text-align: right;\">\n      <th></th>\n      <th>user_id</th>\n      <th>time</th>\n      <th>bet</th>\n      <th>win</th>\n      <th>hour</th>\n    </tr>\n  </thead>\n  <tbody>\n    <tr>\n      <th>14</th>\n      <td>Запись пользователя № - user_917</td>\n      <td>2019-01-02 08:57:36</td>\n      <td>145732.0</td>\n      <td>1987653.0</td>\n      <td>8</td>\n    </tr>\n    <tr>\n      <th>29</th>\n      <td>Запись пользователя № - user_942</td>\n      <td>2019-01-04 13:59:42</td>\n      <td>1678321.0</td>\n      <td>9876543.0</td>\n      <td>13</td>\n    </tr>\n    <tr>\n      <th>151</th>\n      <td>Запись пользователя № - user_982</td>\n      <td>2019-01-16 21:54:22</td>\n      <td>100.0</td>\n      <td>4749.0</td>\n      <td>21</td>\n    </tr>\n    <tr>\n      <th>189</th>\n      <td>Запись пользователя № - user_964</td>\n      <td>2019-01-21 18:34:44</td>\n      <td>200.0</td>\n      <td>4667.0</td>\n      <td>18</td>\n    </tr>\n    <tr>\n      <th>205</th>\n      <td>Запись пользователя № - user_931</td>\n      <td>2019-01-22 05:26:59</td>\n      <td>300.0</td>\n      <td>4319.0</td>\n      <td>5</td>\n    </tr>\n    <tr>\n      <th>...</th>\n      <td>...</td>\n      <td>...</td>\n      <td>...</td>\n      <td>...</td>\n      <td>...</td>\n    </tr>\n    <tr>\n      <th>967</th>\n      <td>Запись пользователя № - user_975</td>\n      <td>2019-04-19 22:25:15</td>\n      <td>1000.0</td>\n      <td>6108.0</td>\n      <td>22</td>\n    </tr>\n    <tr>\n      <th>971</th>\n      <td>Запись пользователя № - user_912</td>\n      <td>2019-04-20 10:35:49</td>\n      <td>10554.0</td>\n      <td>31799.0</td>\n      <td>10</td>\n    </tr>\n    <tr>\n      <th>972</th>\n      <td>Запись пользователя № - user_926</td>\n      <td>2019-04-20 10:35:50</td>\n      <td>10354.0</td>\n      <td>30244.0</td>\n      <td>10</td>\n    </tr>\n    <tr>\n      <th>976</th>\n      <td>Запись пользователя № - user_970</td>\n      <td>2019-04-20 10:35:54</td>\n      <td>10354.0</td>\n      <td>30691.0</td>\n      <td>10</td>\n    </tr>\n    <tr>\n      <th>991</th>\n      <td>Запись пользователя № - user_965</td>\n      <td>2019-04-20 12:55:41</td>\n      <td>800.0</td>\n      <td>6927.0</td>\n      <td>12</td>\n    </tr>\n  </tbody>\n</table>\n<p>133 rows × 5 columns</p>\n</div>"
     },
     "metadata": {}
    }
   ],
   "source": [
    "log = pd.read_csv(\"data/log.csv\", header=None, names=['user_id','time', 'bet','win'])\n",
    "log.dropna(axis=0, inplace=True)\n",
    "log.time = log.time.apply(lambda s: str(s)[1:] if str(s).startswith('[') else s)\n",
    "log.time = pd.to_datetime(log.time)\n",
    "log['hour'] = log.time.apply(lambda t: t.hour)\n",
    "display(log)\n"
   ]
  },
  {
   "cell_type": "markdown",
   "metadata": {},
   "source": [
    "## Заполнение константой"
   ]
  },
  {
   "cell_type": "code",
   "execution_count": 189,
   "metadata": {},
   "outputs": [],
   "source": [
    "log = pd.read_csv(\"data/log.csv\", header=None, names=['user_id','time', 'bet','win'])\n",
    "log.time = log.time.apply(lambda s: str(s)[1:] if str(s).startswith('[') else s)\n",
    "log.time = pd.to_datetime(log.time)\n",
    "log['hour'] = log.time.apply(lambda t: t.hour)"
   ]
  },
  {
   "cell_type": "markdown",
   "metadata": {},
   "source": [
    "Используйте оригинальный датасет log.csv. Результат запишите числом в поле ниже.\n",
    "\n",
    "Подсказка: можно использовать value_counts().\n",
    "\n",
    "Посчитайте, сколько раз люди приходили, но не делали ставок. Для этого заполните пропуски в столбце bet значением 0 и посчитайте количество таких значений."
   ]
  },
  {
   "cell_type": "code",
   "execution_count": 190,
   "metadata": {},
   "outputs": [
    {
     "output_type": "execute_result",
     "data": {
      "text/plain": "0.0      515\n500.0     50\n100.0     48\n300.0     42\n800.0     42\nName: bet, dtype: int64"
     },
     "metadata": {},
     "execution_count": 190
    }
   ],
   "source": [
    "log['bet'] = log.bet.fillna(0)\n",
    "log.bet.value_counts().head()"
   ]
  },
  {
   "cell_type": "markdown",
   "metadata": {},
   "source": [
    "## Заполнение с помощью функции\n",
    "\n",
    "Используйте оригинальный датасет log.csv. Проделайте с ним действия из задания 1, расположенного выше на этой странице, и из пункта \"Заполнение с помощью функции\".\n",
    "\n",
    "Результат запишите числом в поле ниже.\n",
    "\n",
    "Подсказка: можно использовать sum().\n",
    "\n",
    "Посчитайте, сколько раз участники ставок проиграли деньги. То есть посчитайте количество строк, для которых в столбце win находится"
   ]
  },
  {
   "cell_type": "markdown",
   "metadata": {},
   "source": []
  },
  {
   "cell_type": "code",
   "execution_count": 191,
   "metadata": {},
   "outputs": [
    {
     "output_type": "execute_result",
     "data": {
      "text/plain": "5     -156789.0\n19     -98753.0\n67      -5000.0\n81    -123981.0\n92       -100.0\n         ...   \n994    -10354.0\n995     -9754.0\n997    -10454.0\n998     -1000.0\n999    -10754.0\nName: win, Length: 347, dtype: float64"
     },
     "metadata": {},
     "execution_count": 191
    }
   ],
   "source": [
    "def fill_na_win(row):\n",
    "    if not pd.isna(row.win):\n",
    "        return row.win\n",
    "    if pd.isna(row.bet):\n",
    "        return 0\n",
    "    else:\n",
    "        return -row.bet\n",
    "\n",
    "log.win = log.apply(lambda row: fill_na_win(row), axis=1)  \n",
    "log.win.loc[log.win < 0]\n"
   ]
  },
  {
   "cell_type": "markdown",
   "metadata": {},
   "source": [
    "Создайте признак net, хранящий сумму выигрыша с учетом ставки. Для этого из признака win поэлементно вычтите признак bet и запишите в новый столбец. После этого посчитайте, у скольких людей выигрыш положительный."
   ]
  },
  {
   "cell_type": "code",
   "execution_count": 192,
   "metadata": {
    "tags": []
   },
   "outputs": [
    {
     "output_type": "stream",
     "name": "stdout",
     "text": "<class 'pandas.core.frame.DataFrame'>\nInt64Index: 138 entries, 14 to 996\nData columns (total 6 columns):\n #   Column   Non-Null Count  Dtype         \n---  ------   --------------  -----         \n 0   user_id  138 non-null    object        \n 1   time     133 non-null    datetime64[ns]\n 2   bet      138 non-null    float64       \n 3   win      138 non-null    float64       \n 4   hour     133 non-null    float64       \n 5   net      138 non-null    float64       \ndtypes: datetime64[ns](1), float64(4), object(1)\nmemory usage: 7.5+ KB\n"
    }
   ],
   "source": [
    "log['net'] = log.apply(lambda row: row.win - row.bet, axis=1)\n",
    "winners = log.loc[log.net > 0]\n",
    "winners.info()"
   ]
  },
  {
   "cell_type": "markdown",
   "metadata": {},
   "source": [
    "Используйте датасет log.csv, получившийся в результате выполнения предыдущего задания. Посчитайте среднее значение выигрыша (из столбца net) в тех случаях, когда выигрыш больше 0. Результат округлите до целого, отбросив дробную часть."
   ]
  },
  {
   "cell_type": "code",
   "execution_count": 193,
   "metadata": {},
   "outputs": [
    {
     "output_type": "execute_result",
     "data": {
      "text/plain": "80253"
     },
     "metadata": {},
     "execution_count": 193
    }
   ],
   "source": [
    "round(winners.net.mean())"
   ]
  },
  {
   "cell_type": "markdown",
   "metadata": {},
   "source": [
    "Используйте датасет log.csv, получившийся в результате выполнения первого задания этого блока. Посчитайте медианное значение выигрыша (из столбца net) в тех случаях, когда выигрыш больше 0. Результат округлите до целого, отбросив дробную часть."
   ]
  },
  {
   "cell_type": "code",
   "execution_count": 194,
   "metadata": {},
   "outputs": [
    {
     "output_type": "execute_result",
     "data": {
      "text/plain": "5347"
     },
     "metadata": {},
     "execution_count": 194
    }
   ],
   "source": [
    "round(winners.net.median())"
   ]
  },
  {
   "cell_type": "markdown",
   "metadata": {},
   "source": [
    "## Что осталось сделать\n",
    "Используйте модифицированный исходный датасет log.csv.\n",
    "\n",
    "При модификации датасета log.csv, пропущенные значения в столбцах bet и win замените на 0, cоздайте столбец net, хранящий сумму выигрыша с учетом ставки (для этого из столбца win поэлементно вычтите столбец bet и запишите в новый столбец)."
   ]
  },
  {
   "cell_type": "code",
   "execution_count": 195,
   "metadata": {},
   "outputs": [
    {
     "output_type": "execute_result",
     "data": {
      "text/plain": "                              user_id                time      bet      win  \\\n0    Запись пользователя № - user_919 2019-01-01 14:06:51      0.0      0.0   \n1    Запись пользователя № - user_973 2019-01-01 14:51:16      0.0      0.0   \n2    Запись пользователя № - user_903 2019-01-01 16:31:16      0.0      0.0   \n3    Запись пользователя № - user_954 2019-01-01 17:17:51      0.0      0.0   \n4    Запись пользователя № - user_954 2019-01-01 21:31:18      0.0      0.0   \n..                                ...                 ...      ...      ...   \n995  Запись пользователя № - user_984 2019-04-20 09:59:58   9754.0      0.0   \n996                            #error                 NaT  10054.0  29265.0   \n997                            #error                 NaT  10454.0      0.0   \n998                            #error                 NaT   1000.0      0.0   \n999                            #error                 NaT  10754.0      0.0   \n\n     hour      net  \n0    14.0      0.0  \n1    14.0      0.0  \n2    16.0      0.0  \n3    17.0      0.0  \n4    21.0      0.0  \n..    ...      ...  \n995   9.0  -9754.0  \n996   NaN  19211.0  \n997   NaN -10454.0  \n998   NaN  -1000.0  \n999   NaN -10754.0  \n\n[1000 rows x 6 columns]",
      "text/html": "<div>\n<style scoped>\n    .dataframe tbody tr th:only-of-type {\n        vertical-align: middle;\n    }\n\n    .dataframe tbody tr th {\n        vertical-align: top;\n    }\n\n    .dataframe thead th {\n        text-align: right;\n    }\n</style>\n<table border=\"1\" class=\"dataframe\">\n  <thead>\n    <tr style=\"text-align: right;\">\n      <th></th>\n      <th>user_id</th>\n      <th>time</th>\n      <th>bet</th>\n      <th>win</th>\n      <th>hour</th>\n      <th>net</th>\n    </tr>\n  </thead>\n  <tbody>\n    <tr>\n      <th>0</th>\n      <td>Запись пользователя № - user_919</td>\n      <td>2019-01-01 14:06:51</td>\n      <td>0.0</td>\n      <td>0.0</td>\n      <td>14.0</td>\n      <td>0.0</td>\n    </tr>\n    <tr>\n      <th>1</th>\n      <td>Запись пользователя № - user_973</td>\n      <td>2019-01-01 14:51:16</td>\n      <td>0.0</td>\n      <td>0.0</td>\n      <td>14.0</td>\n      <td>0.0</td>\n    </tr>\n    <tr>\n      <th>2</th>\n      <td>Запись пользователя № - user_903</td>\n      <td>2019-01-01 16:31:16</td>\n      <td>0.0</td>\n      <td>0.0</td>\n      <td>16.0</td>\n      <td>0.0</td>\n    </tr>\n    <tr>\n      <th>3</th>\n      <td>Запись пользователя № - user_954</td>\n      <td>2019-01-01 17:17:51</td>\n      <td>0.0</td>\n      <td>0.0</td>\n      <td>17.0</td>\n      <td>0.0</td>\n    </tr>\n    <tr>\n      <th>4</th>\n      <td>Запись пользователя № - user_954</td>\n      <td>2019-01-01 21:31:18</td>\n      <td>0.0</td>\n      <td>0.0</td>\n      <td>21.0</td>\n      <td>0.0</td>\n    </tr>\n    <tr>\n      <th>...</th>\n      <td>...</td>\n      <td>...</td>\n      <td>...</td>\n      <td>...</td>\n      <td>...</td>\n      <td>...</td>\n    </tr>\n    <tr>\n      <th>995</th>\n      <td>Запись пользователя № - user_984</td>\n      <td>2019-04-20 09:59:58</td>\n      <td>9754.0</td>\n      <td>0.0</td>\n      <td>9.0</td>\n      <td>-9754.0</td>\n    </tr>\n    <tr>\n      <th>996</th>\n      <td>#error</td>\n      <td>NaT</td>\n      <td>10054.0</td>\n      <td>29265.0</td>\n      <td>NaN</td>\n      <td>19211.0</td>\n    </tr>\n    <tr>\n      <th>997</th>\n      <td>#error</td>\n      <td>NaT</td>\n      <td>10454.0</td>\n      <td>0.0</td>\n      <td>NaN</td>\n      <td>-10454.0</td>\n    </tr>\n    <tr>\n      <th>998</th>\n      <td>#error</td>\n      <td>NaT</td>\n      <td>1000.0</td>\n      <td>0.0</td>\n      <td>NaN</td>\n      <td>-1000.0</td>\n    </tr>\n    <tr>\n      <th>999</th>\n      <td>#error</td>\n      <td>NaT</td>\n      <td>10754.0</td>\n      <td>0.0</td>\n      <td>NaN</td>\n      <td>-10754.0</td>\n    </tr>\n  </tbody>\n</table>\n<p>1000 rows × 6 columns</p>\n</div>"
     },
     "metadata": {},
     "execution_count": 195
    }
   ],
   "source": [
    "log = pd.read_csv(\"data/log.csv\", header=None, names=['user_id','time', 'bet','win'])\n",
    "log.time = log.time.apply(lambda s: str(s)[1:] if str(s).startswith('[') else s)\n",
    "log.time = pd.to_datetime(log.time)\n",
    "log['hour'] = log.time.apply(lambda t: t.hour)\n",
    "log['bet'] = log.bet.fillna(0)\n",
    "log['win'] = log.win.fillna(0)\n",
    "log['net'] = log.apply(lambda row: row.win - row.bet, axis=1)\n",
    "log"
   ]
  },
  {
   "cell_type": "code",
   "execution_count": null,
   "metadata": {},
   "outputs": [],
   "source": []
  },
  {
   "cell_type": "markdown",
   "metadata": {},
   "source": [
    "Посчитайте, какой процент посещений букмекерской конторы оборачивался ставкой. Для этого поделите количество ставок (значений больше 0) на общее количество посещений конторы. Результат округлите до одного знака после запятой."
   ]
  },
  {
   "cell_type": "code",
   "execution_count": 196,
   "metadata": {},
   "outputs": [
    {
     "output_type": "execute_result",
     "data": {
      "text/plain": "0.485"
     },
     "metadata": {},
     "execution_count": 196
    }
   ],
   "source": [
    "len(log.loc[log.bet > 0]) / len(log)"
   ]
  },
  {
   "cell_type": "markdown",
   "metadata": {},
   "source": [
    "Посчитайте среднее значение ставки (из столбца bet) в тех случаях, когда ставка была сделана. Результат округлите до целого, отбросив дробную часть."
   ]
  },
  {
   "cell_type": "code",
   "execution_count": 197,
   "metadata": {},
   "outputs": [
    {
     "output_type": "execute_result",
     "data": {
      "text/plain": "6785.738144329897"
     },
     "metadata": {},
     "execution_count": 197
    }
   ],
   "source": [
    "log.loc[log.bet > 0].bet.mean()"
   ]
  },
  {
   "cell_type": "markdown",
   "metadata": {},
   "source": [
    "Посчитайте средний выигрыш (из столбца net) в тех случаях, когда ставка была сделана. Результат округлите до целого, отбросив дробную часть.\n",
    "\n",
    "Пояснение: выигрыш в данном случае означает изменение количества денег и может быть отрицательным. В таком случае это проигрыш."
   ]
  },
  {
   "cell_type": "code",
   "execution_count": 198,
   "metadata": {},
   "outputs": [
    {
     "output_type": "execute_result",
     "data": {
      "text/plain": "20421.892783505155"
     },
     "metadata": {},
     "execution_count": 198
    }
   ],
   "source": [
    "log.loc[log.bet > 0].net.mean()"
   ]
  },
  {
   "cell_type": "markdown",
   "metadata": {},
   "source": [
    "Посчитайте среднюю сумму потерь при проигрыше (из столбца net). Результат округлите до целого, отбросив дробную часть.\n",
    "\n",
    "Пояснение: ответ должен быть дан в виде отрицательного числа."
   ]
  },
  {
   "cell_type": "code",
   "execution_count": 199,
   "metadata": {},
   "outputs": [
    {
     "output_type": "execute_result",
     "data": {
      "text/plain": "-3372.743515850144"
     },
     "metadata": {},
     "execution_count": 199
    }
   ],
   "source": [
    "log.loc[log.net < 0].net.mean()"
   ]
  },
  {
   "cell_type": "markdown",
   "metadata": {},
   "source": [
    "Посчитайте, какой процент ставок заканчивается выигрышем, а какой - проигрышем. Сравните эти значения и ответьте, какое из них больше."
   ]
  },
  {
   "cell_type": "code",
   "execution_count": 200,
   "metadata": {
    "tags": []
   },
   "outputs": [
    {
     "output_type": "stream",
     "name": "stdout",
     "text": "Доля выигрышей: 0.2845360824742268\nДоля проигрышей: 0.7154639175257732\n"
    }
   ],
   "source": [
    "bets = log.loc[log.bet > 0]\n",
    "bets_number = len(bets)\n",
    "\n",
    "print('Доля выигрышей: {}'.format(len(bets.loc[bets.net > 0]) / bets_number))\n",
    "print('Доля проигрышей: {}'.format(len(bets.loc[bets.net < 0]) / bets_number))\n"
   ]
  },
  {
   "cell_type": "markdown",
   "metadata": {},
   "source": [
    "Давайте повторим то, что мы прошли в этой секции. Напишите код, который узнает, чему была равна минимальная ставка и сколько людей сделали такую ставку. Для этого:\n",
    "\n",
    "1. загрузите датасет log.csv;\n",
    "2. посчитайте, чему равна минимальная ставка;\n",
    "3. посчитайте, сколько раз была сделана минимальная ставка, и запишите результат в переменную min_bet_amount в виде целого числа."
   ]
  },
  {
   "cell_type": "code",
   "execution_count": 201,
   "metadata": {
    "tags": []
   },
   "outputs": [
    {
     "output_type": "stream",
     "name": "stdout",
     "text": "48\n"
    }
   ],
   "source": [
    "log_df = pd.read_csv(\"data/log.csv\", header=None, names=['user_id','time', 'bet','win'])\n",
    "log_df.time = log_df.time.apply(lambda s: str(s)[1:] if str(s).startswith('[') else s)\n",
    "min_bet_amount = log_df.bet.value_counts().sort_index().iloc[0]\n",
    "print(min_bet_amount)"
   ]
  },
  {
   "cell_type": "markdown",
   "metadata": {},
   "source": [
    "## Повторение merge/groupby\n",
    "Повторим часть предобработки, которую мы должны были выполнить ранее:"
   ]
  },
  {
   "cell_type": "code",
   "execution_count": 202,
   "metadata": {},
   "outputs": [],
   "source": [
    "# Приведем признак user_id к одному формату в обоих датасетах  \n",
    "us.user_id = us.user_id.apply(lambda x: x.lower())  \n",
    "# Избавимся от ошибок в user_id  \n",
    "log = log[log.user_id != '#error']  \n",
    "log.user_id = log.user_id.str.split(' - ').apply(lambda x: x[1])  "
   ]
  },
  {
   "cell_type": "markdown",
   "metadata": {},
   "source": [
    "Это будет нужно для того, чтобы объединить оба датасета и работать с едиными данными для проведения продвинутого анализа.\n",
    "\n",
    "## Merge\n",
    "\n",
    "Теперь объединим данные с помощью метода pd.merge():\n",
    "\n",
    "`pd.merge(dataframe1, dataframe2, on='feature_name')`\n",
    "\n",
    "Первые два аргумента - таблицы, которые нужно будет объединить.\n",
    "\n",
    "Третий аргумент - название признака, по которому будем объединять данные. Мы уже привели данные к одинаковому виду, и теперь их можно объединить по признаку 'user_id', чтобы получить полную информацию о пользователе. "
   ]
  },
  {
   "cell_type": "code",
   "execution_count": 203,
   "metadata": {
    "tags": []
   },
   "outputs": [
    {
     "output_type": "stream",
     "name": "stdout",
     "text": "<class 'pandas.core.frame.DataFrame'>\nInt64Index: 975 entries, 0 to 974\nData columns (total 8 columns):\n #   Column   Non-Null Count  Dtype         \n---  ------   --------------  -----         \n 0   user_id  975 non-null    object        \n 1   time     975 non-null    datetime64[ns]\n 2   bet      975 non-null    float64       \n 3   win      975 non-null    float64       \n 4   hour     975 non-null    float64       \n 5   net      975 non-null    float64       \n 6   email    967 non-null    object        \n 7   geo      950 non-null    object        \ndtypes: datetime64[ns](1), float64(4), object(3)\nmemory usage: 68.6+ KB\n"
    }
   ],
   "source": [
    "merged = pd.merge(log, us, on='user_id')\n",
    "merged.info()"
   ]
  },
  {
   "cell_type": "markdown",
   "metadata": {},
   "source": [
    "## Groupby\n",
    "\n",
    "Теперь повторим groupby.\n",
    "\n",
    "Данный метод позволяет сгруппировать данные и применить к ним методы агрегации:\n",
    "\n",
    "`df.groupby('user_id').win.median().median()`\n",
    "\n",
    "В данном случае мы группируем данные по признаку user_id.\n",
    "\n",
    "После этого мы в каждой группе выбираем признак win.\n",
    "\n",
    "Затем мы берем медиану каждой группы по признаку win и на выходе получаем таблицу, в которой индексом является признак user_id. В этой таблице единственный столбец - медиана по каждой группе (то есть по каждому пользователю).\n",
    "\n",
    "Наконец, последний вызов median() дает нам медиану по предыдущему столбцу, то есть возвращает одно число."
   ]
  },
  {
   "cell_type": "markdown",
   "metadata": {},
   "source": [
    "## Анализ по пользователям\n",
    "Мы собрали все, что нам нужно, чтобы извлечь какие-то инсайты из данных о пользователях."
   ]
  },
  {
   "cell_type": "markdown",
   "metadata": {},
   "source": [
    "Используйте датасет, который получился в результате всех преобразований выше (в том числе, заполнение пропусков). Ответ запишите в поле ниже в виде целого числа (отбросьте дробную часть).\n",
    "\n",
    "Посчитайте медиану баланса по каждому пользователю. Для этого сгруппируйте по пользователям, возьмите признак net, просуммируйте по каждому пользователю и получите медиану."
   ]
  },
  {
   "cell_type": "code",
   "execution_count": 204,
   "metadata": {},
   "outputs": [
    {
     "output_type": "execute_result",
     "data": {
      "text/plain": "1986.0"
     },
     "metadata": {},
     "execution_count": 204
    }
   ],
   "source": [
    "merged.groupby('user_id').net.sum().median()"
   ]
  },
  {
   "cell_type": "markdown",
   "metadata": {},
   "source": [
    "Используйте датасет, который получился в результате всех преобразований выше (в том числе, заполнение пропусков). Ответ запишите в поле ниже в виде целого числа (отбросьте дробную часть).\n",
    "\n",
    "Сколько раз в среднем каждый человек приходит, не делая ставок, при условии, что у этого человека все-таки есть хотя бы одна ставка? Например: Человек посетил букмекерскую контору 5 раз из них 1 раз сделал ставку, 4 раза нет - условие выполняется. Человек посетил букмекерскую контору 5 раз из них ни разу ставку не сделал - условие не выполняется. Для того, чтобы узнать это, просуммируйте в каждой группе количество записей со ставкой, равной 0, и поделите на общее количество групп. Если при этом в группе нет записей со ставкой больше 0, считаем количество записей в данной группе равным 0."
   ]
  },
  {
   "cell_type": "code",
   "execution_count": 205,
   "metadata": {
    "tags": []
   },
   "outputs": [
    {
     "output_type": "execute_result",
     "data": {
      "text/plain": "5.05"
     },
     "metadata": {},
     "execution_count": 205
    }
   ],
   "source": [
    "def aggregate_bets(group):\n",
    "    bets = group[group > 0]\n",
    "    bets_count = len(bets)\n",
    "    if bets_count == 0:\n",
    "        return 0;\n",
    "    return len(group) - bets_count\n",
    "\n",
    "merged.groupby('user_id').bet.aggregate(func=aggregate_bets).mean()"
   ]
  },
  {
   "cell_type": "markdown",
   "metadata": {},
   "source": [
    "Сколько в среднем времени проходит между появлением человека в сервисе и первой ставкой? Считать нужно только тех, кто делал ставку. Для того, чтобы узнать это, напишите метод, считающий минимальное время среди ставок, равных 0, и минимальное время среди ставок больше 0. После этого верните разницу между вторым и первым числом. Пройдитесь по всем группам в цикле. Если в группе нет ставок больше 0, пропустите эту группу. Просуммируйте разницу во времени для каждой группы (с помощью метода, описанного выше) и поделите на количество групп, которые вы не пропустили."
   ]
  },
  {
   "cell_type": "code",
   "execution_count": 217,
   "metadata": {
    "tags": []
   },
   "outputs": [
    {
     "output_type": "execute_result",
     "data": {
      "text/plain": "963, 964, 965, 966, 967], dtype='int64'),\n ('user_934', 300.0): Int64Index([968], dtype='int64'),\n ('user_934', 10554.0): Int64Index([969], dtype='int64'),\n ('user_935',\n  0.0): Int64Index([437, 438, 439, 440, 441, 442, 443], dtype='int64'),\n ('user_935', 300.0): Int64Index([444], dtype='int64'),\n ('user_935', 500.0): Int64Index([445], dtype='int64'),\n ('user_935', 700.0): Int64Index([446, 447], dtype='int64'),\n ('user_935', 800.0): Int64Index([448], dtype='int64'),\n ('user_936', 0.0): Int64Index([762, 763, 764, 765, 766], dtype='int64'),\n ('user_936', 100.0): Int64Index([767], dtype='int64'),\n ('user_936', 300.0): Int64Index([768], dtype='int64'),\n ('user_936', 400.0): Int64Index([769], dtype='int64'),\n ('user_937', 0.0): Int64Index([299, 300, 302, 303, 304], dtype='int64'),\n ('user_937', 100.0): Int64Index([301, 306], dtype='int64'),\n ('user_937', 200.0): Int64Index([305], dtype='int64'),\n ('user_937', 300.0): Int64Index([307], dtype='int64'),\n ('user_937', 500.0): Int64Index([308], dtype='int64'),\n ('user_937', 600.0): Int64Index([309], dtype='int64'),\n ('user_937', 700.0): Int64Index([310, 311], dtype='int64'),\n ('user_937', 800.0): Int64Index([312, 313], dtype='int64'),\n ('user_938', 0.0): Int64Index([343, 344, 345, 346], dtype='int64'),\n ('user_938', 100.0): Int64Index([347], dtype='int64'),\n ('user_938', 200.0): Int64Index([349], dtype='int64'),\n ('user_938', 700.0): Int64Index([348], dtype='int64'),\n ('user_938', 900.0): Int64Index([350, 351], dtype='int64'),\n ('user_938', 9954.0): Int64Index([352], dtype='int64'),\n ('user_939', 0.0): Int64Index([858, 859, 860, 861, 862], dtype='int64'),\n ('user_939', 200.0): Int64Index([863], dtype='int64'),\n ('user_939', 400.0): Int64Index([864], dtype='int64'),\n ('user_939', 500.0): Int64Index([865, 866], dtype='int64'),\n ('user_940', 0.0): Int64Index([359, 360, 361, 362], dtype='int64'),\n ('user_940', 500.0): Int64Index([363], dtype='int64'),\n ('user_940', 700.0): Int64Index([364], dtype='int64'),\n ('user_940', 10754.0): Int64Index([365], dtype='int64'),\n ('user_941', 0.0): Int64Index([613, 614, 615, 616], dtype='int64'),\n ('user_941', 300.0): Int64Index([617], dtype='int64'),\n ('user_941', 700.0): Int64Index([618], dtype='int64'),\n ('user_941', 800.0): Int64Index([619], dtype='int64'),\n ('user_941', 9754.0): Int64Index([620], dtype='int64'),\n ('user_942', 0.0): Int64Index([195, 196, 197, 198], dtype='int64'),\n ('user_942', 600.0): Int64Index([199], dtype='int64'),\n ('user_942', 800.0): Int64Index([200, 201], dtype='int64'),\n ('user_942', 1000.0): Int64Index([202, 203], dtype='int64'),\n ('user_942', 10254.0): Int64Index([204], dtype='int64'),\n ('user_942', 98753.0): Int64Index([193], dtype='int64'),\n ('user_942', 1678321.0): Int64Index([194], dtype='int64'),\n ('user_943', 0.0): Int64Index([428], dtype='int64'),\n ('user_943', 100.0): Int64Index([429, 430, 431], dtype='int64'),\n ('user_943', 300.0): Int64Index([432], dtype='int64'),\n ('user_943', 700.0): Int64Index([433], dtype='int64'),\n ('user_943', 800.0): Int64Index([434, 435], dtype='int64'),\n ('user_943', 1000.0): Int64Index([436], dtype='int64'),\n ('user_944', 0.0): Int64Index([486, 487, 488, 489, 491], dtype='int64'),\n ('user_944', 100.0): Int64Index([490], dtype='int64'),\n ('user_944', 500.0): Int64Index([492], dtype='int64'),\n ('user_944', 700.0): Int64Index([493], dtype='int64'),\n ('user_945', 0.0): Int64Index([718, 719, 720], dtype='int64'),\n ('user_945', 500.0): Int64Index([721], dtype='int64'),\n ('user_945', 700.0): Int64Index([722], dtype='int64'),\n ('user_946', 0.0): Int64Index([841, 843, 844, 845], dtype='int64'),\n ('user_946', 100.0): Int64Index([842, 846], dtype='int64'),\n ('user_946', 500.0): Int64Index([847, 848], dtype='int64'),\n ('user_946', 700.0): Int64Index([849], dtype='int64'),\n ('user_947', 0.0): Int64Index([925, 926], dtype='int64'),\n ('user_947', 100.0): Int64Index([927], dtype='int64'),\n ('user_947', 200.0): Int64Index([928, 929], dtype='int64'),\n ('user_947', 300.0): Int64Index([930], dtype='int64'),\n ('user_947', 400.0): Int64Index([931], dtype='int64'),\n ('user_947', 700.0): Int64Index([932], dtype='int64'),\n ('user_947', 1000.0): Int64Index([933, 934], dtype='int64'),\n ('user_947', 10654.0): Int64Index([935], dtype='int64'),\n ('user_948', 0.0): Int64Index([324, 325, 326, 327, 328, 329], dtype='int64'),\n ('user_948', 300.0): Int64Index([330], dtype='int64'),\n ('user_948', 800.0): Int64Index([331], dtype='int64'),\n ('user_948', 10554.0): Int64Index([332], dtype='int64'),\n ('user_949', 0.0): Int64Index([249, 250, 251, 252, 253, 254], dtype='int64'),\n ('user_949', 100.0): Int64Index([255], dtype='int64'),\n ('user_949', 300.0): Int64Index([256], dtype='int64'),\n ('user_949', 500.0): Int64Index([257], dtype='int64'),\n ('user_949', 600.0): Int64Index([258], dtype='int64'),\n ('user_949', 800.0): Int64Index([259], dtype='int64'),\n ('user_949', 10054.0): Int64Index([260], dtype='int64'),\n ('user_949', 10154.0): Int64Index([261], dtype='int64'),\n ('user_949', 10554.0): Int64Index([262], dtype='int64'),\n ('user_950', 0.0): Int64Index([888, 889, 890, 891, 892], dtype='int64'),\n ('user_950', 500.0): Int64Index([893], dtype='int64'),\n ('user_950', 600.0): Int64Index([894], dtype='int64'),\n ('user_950', 1000.0): Int64Index([895, 896], dtype='int64'),\n ('user_951', 0.0): Int64Index([239, 241], dtype='int64'),\n ('user_951', 100.0): Int64Index([240], dtype='int64'),\n ('user_951', 500.0): Int64Index([242], dtype='int64'),\n ('user_951', 600.0): Int64Index([243, 244], dtype='int64'),\n ('user_951', 900.0): Int64Index([245], dtype='int64'),\n ('user_951', 9754.0): Int64Index([246], dtype='int64'),\n ('user_951', 10154.0): Int64Index([247], dtype='int64'),\n ('user_951', 10254.0): Int64Index([248], dtype='int64'),\n ('user_952', 0.0): Int64Index([90, 91, 92], dtype='int64'),\n ('user_952', 200.0): Int64Index([93], dtype='int64'),\n ('user_952', 300.0): Int64Index([94], dtype='int64'),\n ('user_952', 600.0): Int64Index([95], dtype='int64'),\n ('user_952', 800.0): Int64Index([96], dtype='int64'),\n ('user_952', 1000.0): Int64Index([97], dtype='int64'),\n ('user_952', 9754.0): Int64Index([98, 99], dtype='int64'),\n ('user_953', 0.0): Int64Index([942, 943, 944, 945], dtype='int64'),\n ('user_953', 400.0): Int64Index([946], dtype='int64'),\n ('user_953', 600.0): Int64Index([947], dtype='int64'),\n ('user_953', 800.0): Int64Index([948], dtype='int64'),\n ('user_953', 9954.0): Int64Index([949], dtype='int64'),\n ('user_954',\n  0.0): Int64Index([32, 33, 34, 35, 36, 37, 38, 39], dtype='int64'),\n ('user_954', 100.0): Int64Index([40], dtype='int64'),\n ('user_954', 400.0): Int64Index([41], dtype='int64'),\n ('user_954', 800.0): Int64Index([42], dtype='int64'),\n ('user_954', 1000.0): Int64Index([43], dtype='int64'),\n ('user_954', 9854.0): Int64Index([44], dtype='int64'),\n ('user_955',\n  0.0): Int64Index([632, 633, 634, 636, 637, 638, 639], dtype='int64'),\n ('user_955', 100.0): Int64Index([635], dtype='int64'),\n ('user_955', 500.0): Int64Index([640], dtype='int64'),\n ('user_955', 600.0): Int64Index([641], dtype='int64'),\n ('user_955', 10754.0): Int64Index([642], dtype='int64'),\n ('user_957', 0.0): Int64Index([676, 677], dtype='int64'),\n ('user_957', 200.0): Int64Index([678], dtype='int64'),\n ('user_957', 500.0): Int64Index([679], dtype='int64'),\n ('user_957', 700.0): Int64Index([680], dtype='int64'),\n ('user_958',\n  0.0): Int64Index([409, 410, 411, 412, 413, 414, 415], dtype='int64'),\n ('user_958', 400.0): Int64Index([416], dtype='int64'),\n ('user_958', 500.0): Int64Index([417], dtype='int64'),\n ('user_958', 1000.0): Int64Index([418], dtype='int64'),\n ('user_959', 0.0): Int64Index([797, 798, 799, 800, 801], dtype='int64'),\n ('user_959', 700.0): Int64Index([802], dtype='int64'),\n ('user_959', 900.0): Int64Index([803], dtype='int64'),\n ('user_960', 0.0): Int64Index([378, 379, 380, 381, 382], dtype='int64'),\n ('user_960', 400.0): Int64Index([383, 384, 385], dtype='int64'),\n ('user_960', 500.0): Int64Index([386], dtype='int64'),\n ('user_960', 900.0): Int64Index([387], dtype='int64'),\n ('user_961', 0.0): Int64Index([867], dtype='int64'),\n ('user_961', 100.0): Int64Index([868], dtype='int64'),\n ('user_961', 300.0): Int64Index([869, 870], dtype='int64'),\n ('user_961', 500.0): Int64Index([871], dtype='int64'),\n ('user_961', 600.0): Int64Index([872], dtype='int64'),\n ('user_961', 700.0): Int64Index([873], dtype='int64'),\n ('user_961', 800.0): Int64Index([874], dtype='int64'),\n ('user_961', 1000.0): Int64Index([875], dtype='int64'),\n ('user_962',\n  0.0): Int64Index([780, 781, 782, 783, 784, 785, 786], dtype='int64'),\n ('user_962', 200.0): Int64Index([787], dtype='int64'),\n ('user_962', 800.0): Int64Index([788], dtype='int64'),\n ('user_962', 10354.0): Int64Index([789], dtype='int64'),\n ('user_963', 0.0): Int64Index([804, 805, 806, 807], dtype='int64'),\n ('user_963', 100.0): Int64Index([808], dtype='int64'),\n ('user_963', 200.0): Int64Index([809], dtype='int64'),\n ('user_963', 500.0): Int64Index([810, 811], dtype='int64'),\n ('user_963', 800.0): Int64Index([812], dtype='int64'),\n ('user_964', 0.0): Int64Index([134, 135], dtype='int64'),\n ('user_964', 100.0): Int64Index([136], dtype='int64'),\n ('user_964', 200.0): Int64Index([137], dtype='int64'),\n ('user_964', 300.0): Int64Index([138], dtype='int64'),\n ('user_964', 400.0): Int64Index([139, 140], dtype='int64'),\n ('user_964', 500.0): Int64Index([141], dtype='int64'),\n ('user_964', 800.0): Int64Index([142], dtype='int64'),\n ('user_964', 8734.0): Int64Index([143], dtype='int64'),\n ('user_964', 10554.0): Int64Index([144], dtype='int64'),\n ('user_965', 0.0): Int64Index([790, 791, 792, 793], dtype='int64'),\n ('user_965', 100.0): Int64Index([794], dtype='int64'),\n ('user_965', 300.0): Int64Index([795], dtype='int64'),\n ('user_965', 800.0): Int64Index([796], dtype='int64'),\n ('user_966',\n  0.0): Int64Index([116, 117, 118, 119, 120, 121, 122, 123, 124], dtype='int64'),\n ('user_966', 200.0): Int64Index([125, 126, 127], dtype='int64'),\n ('user_966', 500.0): Int64Index([128], dtype='int64'),\n ('user_966', 700.0): Int64Index([129], dtype='int64'),\n ('user_966', 900.0): Int64Index([130], dtype='int64'),\n ('user_966', 10254.0): Int64Index([131, 132], dtype='int64'),\n ('user_966', 10654.0): Int64Index([133], dtype='int64'),\n ('user_967',\n  0.0): Int64Index([707, 708, 709, 710, 711, 712, 713, 714, 715], dtype='int64'),\n ('user_967', 200.0): Int64Index([716], dtype='int64'),\n ('user_967', 10154.0): Int64Index([717], dtype='int64'),\n ('user_968', 0.0): Int64Index([153, 154, 155, 156], dtype='int64'),\n ('user_968', 200.0): Int64Index([157], dtype='int64'),\n ('user_968', 300.0): Int64Index([158], dtype='int64'),\n ('user_968', 500.0): Int64Index([159], dtype='int64'),\n ('user_968', 800.0): Int64Index([160], dtype='int64'),\n ('user_969', 0.0): Int64Index([504, 506, 507, 508, 509], dtype='int64'),\n ('user_969', 100.0): Int64Index([505], dtype='int64'),\n ('user_969', 200.0): Int64Index([510], dtype='int64'),\n ('user_969', 800.0): Int64Index([511], dtype='int64'),\n ('user_970', 0.0): Int64Index([850, 851], dtype='int64'),\n ('user_970', 400.0): Int64Index([852], dtype='int64'),\n ('user_970', 500.0): Int64Index([853], dtype='int64'),\n ('user_970', 700.0): Int64Index([854], dtype='int64'),\n ('user_970', 9754.0): Int64Index([855], dtype='int64'),\n ('user_970', 10054.0): Int64Index([856], dtype='int64'),\n ('user_970', 10354.0): Int64Index([857], dtype='int64'),\n ('user_971',\n  0.0): Int64Index([555, 556, 557, 558, 559, 560, 561], dtype='int64'),\n ('user_971', 500.0): Int64Index([562], dtype='int64'),\n ('user_971', 900.0): Int64Index([563], dtype='int64'),\n ('user_971', 1000.0): Int64Index([564], dtype='int64'),\n ('user_971', 10454.0): Int64Index([565], dtype='int64'),\n ('user_971', 10654.0): Int64Index([566], dtype='int64'),\n ('user_972', 0.0): Int64Index([100, 101, 103, 104, 105], dtype='int64'),\n ('user_972', 100.0): Int64Index([102], dtype='int64'),\n ('user_972', 300.0): Int64Index([106], dtype='int64'),\n ('user_972', 400.0): Int64Index([107, 108], dtype='int64'),\n ('user_972', 500.0): Int64Index([109, 111], dtype='int64'),\n ('user_972', 700.0): Int64Index([110], dtype='int64'),\n ('user_972', 900.0): Int64Index([112], dtype='int64'),\n ('user_972', 1000.0): Int64Index([113, 114], dtype='int64'),\n ('user_972', 10154.0): Int64Index([115], dtype='int64'),\n ('user_973', 0.0): Int64Index([8, 9, 10, 11, 12, 13, 14, 15], dtype='int64'),\n ('user_973', 100.0): Int64Index([16], dtype='int64'),\n ('user_973', 200.0): Int64Index([17], dtype='int64'),\n ('user_973', 400.0): Int64Index([18, 19], dtype='int64'),\n ('user_973', 1000.0): Int64Index([20], dtype='int64'),\n ('user_973', 9754.0): Int64Index([21], dtype='int64'),\n ('user_973', 10254.0): Int64Index([22], dtype='int64'),\n ('user_974', 0.0): Int64Index([161, 162, 163, 164], dtype='int64'),\n ('user_974', 200.0): Int64Index([165], dtype='int64'),\n ('user_974', 400.0): Int64Index([166], dtype='int64'),\n ('user_974', 500.0): Int64Index([167], dtype='int64'),\n ('user_974', 700.0): Int64Index([168], dtype='int64'),\n ('user_975', 0.0): Int64Index([936, 937, 938], dtype='int64'),\n ('user_975', 100.0): Int64Index([939], dtype='int64'),\n ('user_975', 700.0): Int64Index([940], dtype='int64'),\n ('user_975', 1000.0): Int64Index([941], dtype='int64'),\n ('user_976',\n  0.0): Int64Index([214, 215, 216, 217, 218, 219, 220, 221], dtype='int64'),\n ('user_976', 100.0): Int64Index([222], dtype='int64'),\n ('user_976', 300.0): Int64Index([223], dtype='int64'),\n ('user_976', 400.0): Int64Index([224], dtype='int64'),\n ('user_977',\n  0.0): Int64Index([567, 568, 569, 570, 571, 572, 573], dtype='int64'),\n ('user_977', 200.0): Int64Index([574], dtype='int64'),\n ('user_977', 500.0): Int64Index([575], dtype='int64'),\n ('user_977', 10354.0): Int64Index([576], dtype='int64'),\n ('user_978', 0.0): Int64Index([145, 146, 147, 148, 149, 150], dtype='int64'),\n ('user_978', 600.0): Int64Index([151], dtype='int64'),\n ('user_978', 1000.0): Int64Index([152], dtype='int64'),\n ('user_979', 0.0): Int64Index([577, 578, 579], dtype='int64'),\n ('user_979', 100.0): Int64Index([580], dtype='int64'),\n ('user_979', 300.0): Int64Index([581], dtype='int64'),\n ('user_979', 900.0): Int64Index([582], dtype='int64'),\n ('user_979', 10654.0): Int64Index([583], dtype='int64'),\n ('user_980', 0.0): Int64Index([70, 71, 72, 73, 74, 75], dtype='int64'),\n ('user_980', 500.0): Int64Index([76], dtype='int64'),\n ('user_980', 800.0): Int64Index([77], dtype='int64'),\n ('user_980', 900.0): Int64Index([78], dtype='int64'),\n ('user_981', 0.0): Int64Index([752, 753, 754, 755, 756, 757], dtype='int64'),\n ('user_981', 500.0): Int64Index([758], dtype='int64'),\n ('user_981', 600.0): Int64Index([759], dtype='int64'),\n ('user_981', 900.0): Int64Index([760], dtype='int64'),\n ('user_981', 1000.0): Int64Index([761], dtype='int64'),\n ('user_982', 0.0): Int64Index([466, 467, 469, 470], dtype='int64'),\n ('user_982', 100.0): Int64Index([468], dtype='int64'),\n ('user_982', 500.0): Int64Index([471], dtype='int64'),\n ('user_982', 800.0): Int64Index([472, 473], dtype='int64'),\n ('user_982', 900.0): Int64Index([474], dtype='int64'),\n ('user_982', 9954.0): Int64Index([475], dtype='int64'),\n ('user_982', 10154.0): Int64Index([476], dtype='int64'),\n ('user_983',\n  0.0): Int64Index([902, 903, 904, 905, 906, 907, 908, 909, 910, 911, 912, 913], dtype='int64'),\n ('user_983', 100.0): Int64Index([914], dtype='int64'),\n ('user_983', 400.0): Int64Index([915, 916], dtype='int64'),\n ('user_984',\n  0.0): Int64Index([663, 664, 665, 666, 667, 668, 669, 670], dtype='int64'),\n ('user_984', 200.0): Int64Index([671, 672], dtype='int64'),\n ('user_984', 500.0): Int64Index([673], dtype='int64'),\n ('user_984', 900.0): Int64Index([674], dtype='int64'),\n ('user_984', 9754.0): Int64Index([675], dtype='int64'),\n ('user_985',\n  0.0): Int64Index([275, 276, 277, 278, 279, 280, 281, 282], dtype='int64'),\n ('user_985', 100.0): Int64Index([283], dtype='int64'),\n ('user_985', 300.0): Int64Index([284], dtype='int64'),\n ('user_985', 400.0): Int64Index([285, 286], dtype='int64'),\n ('user_985', 700.0): Int64Index([287], dtype='int64'),\n ('user_985', 10154.0): Int64Index([288], dtype='int64'),\n ('user_986',\n  0.0): Int64Index([541, 542, 543, 544, 545, 546, 547, 548, 549], dtype='int64'),\n ('user_986', 200.0): Int64Index([550], dtype='int64'),\n ('user_986', 900.0): Int64Index([551], dtype='int64'),\n ('user_986', 1000.0): Int64Index([552], dtype='int64'),\n ('user_986', 10254.0): Int64Index([553], dtype='int64'),\n ('user_986', 10554.0): Int64Index([554], dtype='int64'),\n ('user_987', 0.0): Int64Index([263, 267, 269], dtype='int64'),\n ('user_987', 300.0): Int64Index([270, 271, 272], dtype='int64'),\n ('user_987', 400.0): Int64Index([273], dtype='int64'),\n ('user_987', 5000.0): Int64Index([264], dtype='int64'),\n ('user_987', 7650.0): Int64Index([265], dtype='int64'),\n ('user_987', 9754.0): Int64Index([274], dtype='int64'),\n ('user_987', 9876.0): Int64Index([266], dtype='int64'),\n ('user_987', 12548.0): Int64Index([268], dtype='int64'),\n ('user_988', 0.0): Int64Index([692, 693, 694, 695, 696], dtype='int64'),\n ('user_988', 200.0): Int64Index([697], dtype='int64'),\n ('user_988', 10554.0): Int64Index([698], dtype='int64'),\n ('user_989',\n  0.0): Int64Index([621, 622, 623, 624, 625, 626, 627, 628, 629], dtype='int64'),\n ('user_989', 400.0): Int64Index([630], dtype='int64'),\n ('user_989', 600.0): Int64Index([631], dtype='int64'),\n ('user_990',\n  0.0): Int64Index([180, 181, 182, 183, 184, 185, 186, 187, 188, 189], dtype='int64'),\n ('user_990', 700.0): Int64Index([190], dtype='int64'),\n ('user_990', 900.0): Int64Index([191], dtype='int64'),\n ('user_990', 1000.0): Int64Index([192], dtype='int64'),\n ('user_991', 0.0): Int64Index([643, 644, 645, 646, 647, 648], dtype='int64'),\n ('user_991', 100.0): Int64Index([649], dtype='int64'),\n ('user_991', 700.0): Int64Index([650], dtype='int64'),\n ('user_992', 0.0): Int64Index([289, 290, 291, 292, 293], dtype='int64'),\n ('user_992', 100.0): Int64Index([294], dtype='int64'),\n ('user_992', 200.0): Int64Index([295], dtype='int64'),\n ('user_992', 500.0): Int64Index([296], dtype='int64'),\n ('user_992', 600.0): Int64Index([297], dtype='int64'),\n ('user_992', 9954.0): Int64Index([298], dtype='int64'),\n ('user_993', 0.0): Int64Index([723, 724, 725, 726], dtype='int64'),\n ('user_993', 300.0): Int64Index([727], dtype='int64'),\n ('user_993', 600.0): Int64Index([728], dtype='int64'),\n ('user_994', 0.0): Int64Index([598, 599, 600], dtype='int64'),\n ('user_994', 300.0): Int64Index([601], dtype='int64'),\n ('user_994', 600.0): Int64Index([602], dtype='int64'),\n ('user_994', 800.0): Int64Index([603, 604], dtype='int64'),\n ('user_994', 900.0): Int64Index([605], dtype='int64'),\n ('user_995', 0.0): Int64Index([520, 521, 522, 523], dtype='int64'),\n ('user_995', 200.0): Int64Index([524], dtype='int64'),\n ('user_995', 400.0): Int64Index([525], dtype='int64'),\n ('user_995', 500.0): Int64Index([526], dtype='int64'),\n ('user_995', 800.0): Int64Index([527], dtype='int64'),\n ('user_995', 1000.0): Int64Index([528], dtype='int64'),\n ('user_995', 9954.0): Int64Index([529], dtype='int64'),\n ('user_996', 0.0): Int64Index([652, 653], dtype='int64'),\n ('user_996', 100.0): Int64Index([651, 654], dtype='int64'),\n ('user_996', 800.0): Int64Index([655], dtype='int64'),\n ('user_997', 0.0): Int64Index([353, 354, 355, 356], dtype='int64'),\n ('user_997', 200.0): Int64Index([357], dtype='int64'),\n ('user_997', 1000.0): Int64Index([358], dtype='int64'),\n ('user_998', 0.0): Int64Index([169, 170, 171], dtype='int64'),\n ('user_998', 500.0): Int64Index([172, 173, 174], dtype='int64'),\n ('user_998', 600.0): Int64Index([175], dtype='int64'),\n ('user_998', 900.0): Int64Index([176, 177], dtype='int64'),\n ('user_998', 1000.0): Int64Index([178], dtype='int64'),\n ('user_998', 10654.0): Int64Index([179], dtype='int64'),\n ('user_999', 0.0): Int64Index([458, 459, 460, 461, 462], dtype='int64'),\n ('user_999', 100.0): Int64Index([463], dtype='int64'),\n ('user_999', 700.0): Int64Index([464], dtype='int64'),\n ('user_999', 800.0): Int64Index([465], dtype='int64')}"
     },
     "metadata": {},
     "execution_count": 217
    }
   ],
   "source": [
    "merged.groupby(['user_id', 'bet'])"
   ]
  }
 ]
}