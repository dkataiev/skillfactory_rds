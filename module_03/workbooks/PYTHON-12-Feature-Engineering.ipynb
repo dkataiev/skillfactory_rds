{
 "metadata": {
  "language_info": {
   "codemirror_mode": {
    "name": "ipython",
    "version": 3
   },
   "file_extension": ".py",
   "mimetype": "text/x-python",
   "name": "python",
   "nbconvert_exporter": "python",
   "pygments_lexer": "ipython3",
   "version": "3.7.6-final"
  },
  "orig_nbformat": 2,
  "kernelspec": {
   "name": "python3",
   "display_name": "Python 3"
  }
 },
 "nbformat": 4,
 "nbformat_minor": 2,
 "cells": [
  {
   "cell_type": "markdown",
   "metadata": {},
   "source": [
    "Подготовим датасет к работе"
   ]
  },
  {
   "cell_type": "code",
   "execution_count": 1,
   "metadata": {},
   "outputs": [
    {
     "output_type": "display_data",
     "data": {
      "text/plain": "                            user_id                  time  bet  win\n0  Запись пользователя № - user_919  [2019-01-01 14:06:51  NaN  NaN\n1  Запись пользователя № - user_973  [2019-01-01 14:51:16  NaN  NaN\n2  Запись пользователя № - user_903  [2019-01-01 16:31:16  NaN  NaN\n3  Запись пользователя № - user_954  [2019-01-01 17:17:51  NaN  NaN\n4  Запись пользователя № - user_954  [2019-01-01 21:31:18  NaN  NaN",
      "text/html": "<div>\n<style scoped>\n    .dataframe tbody tr th:only-of-type {\n        vertical-align: middle;\n    }\n\n    .dataframe tbody tr th {\n        vertical-align: top;\n    }\n\n    .dataframe thead th {\n        text-align: right;\n    }\n</style>\n<table border=\"1\" class=\"dataframe\">\n  <thead>\n    <tr style=\"text-align: right;\">\n      <th></th>\n      <th>user_id</th>\n      <th>time</th>\n      <th>bet</th>\n      <th>win</th>\n    </tr>\n  </thead>\n  <tbody>\n    <tr>\n      <th>0</th>\n      <td>Запись пользователя № - user_919</td>\n      <td>[2019-01-01 14:06:51</td>\n      <td>NaN</td>\n      <td>NaN</td>\n    </tr>\n    <tr>\n      <th>1</th>\n      <td>Запись пользователя № - user_973</td>\n      <td>[2019-01-01 14:51:16</td>\n      <td>NaN</td>\n      <td>NaN</td>\n    </tr>\n    <tr>\n      <th>2</th>\n      <td>Запись пользователя № - user_903</td>\n      <td>[2019-01-01 16:31:16</td>\n      <td>NaN</td>\n      <td>NaN</td>\n    </tr>\n    <tr>\n      <th>3</th>\n      <td>Запись пользователя № - user_954</td>\n      <td>[2019-01-01 17:17:51</td>\n      <td>NaN</td>\n      <td>NaN</td>\n    </tr>\n    <tr>\n      <th>4</th>\n      <td>Запись пользователя № - user_954</td>\n      <td>[2019-01-01 21:31:18</td>\n      <td>NaN</td>\n      <td>NaN</td>\n    </tr>\n  </tbody>\n</table>\n</div>"
     },
     "metadata": {}
    },
    {
     "output_type": "display_data",
     "data": {
      "text/plain": "    user_id                email        geo\n0  User_943  Accumanst@gmail.com     Ижевск\n1  User_908    Advismowr@mail.ru     Ижевск\n2  User_962      Anachso@ukr.net  Краснодар\n3  User_973     Antecia@inbox.ru      Пермь\n4  User_902   Balliaryva@ukr.net        NaN",
      "text/html": "<div>\n<style scoped>\n    .dataframe tbody tr th:only-of-type {\n        vertical-align: middle;\n    }\n\n    .dataframe tbody tr th {\n        vertical-align: top;\n    }\n\n    .dataframe thead th {\n        text-align: right;\n    }\n</style>\n<table border=\"1\" class=\"dataframe\">\n  <thead>\n    <tr style=\"text-align: right;\">\n      <th></th>\n      <th>user_id</th>\n      <th>email</th>\n      <th>geo</th>\n    </tr>\n  </thead>\n  <tbody>\n    <tr>\n      <th>0</th>\n      <td>User_943</td>\n      <td>Accumanst@gmail.com</td>\n      <td>Ижевск</td>\n    </tr>\n    <tr>\n      <th>1</th>\n      <td>User_908</td>\n      <td>Advismowr@mail.ru</td>\n      <td>Ижевск</td>\n    </tr>\n    <tr>\n      <th>2</th>\n      <td>User_962</td>\n      <td>Anachso@ukr.net</td>\n      <td>Краснодар</td>\n    </tr>\n    <tr>\n      <th>3</th>\n      <td>User_973</td>\n      <td>Antecia@inbox.ru</td>\n      <td>Пермь</td>\n    </tr>\n    <tr>\n      <th>4</th>\n      <td>User_902</td>\n      <td>Balliaryva@ukr.net</td>\n      <td>NaN</td>\n    </tr>\n  </tbody>\n</table>\n</div>"
     },
     "metadata": {}
    }
   ],
   "source": [
    "import pandas as pd\n",
    "import datetime\n",
    "\n",
    "log = pd.read_csv(\"data/log.csv\", header=None, names=['user_id','time', 'bet','win'])\n",
    "display(log.head())\n",
    "\n",
    "us = pd.read_csv('data/users.csv', encoding='koi8_r', sep='\\t')\n",
    "us.columns  = ['user_id', 'email', 'geo']\n",
    "display(us.head())"
   ]
  },
  {
   "cell_type": "markdown",
   "metadata": {},
   "source": [
    "Посчитайте количество пропусков в столбце time. \n",
    "\n",
    "Метод isna() есть не только у DataFrame, но и у Series. Это \n",
    "\n",
    "значит, что применять его можно не только ко всей таблице, но и к каждому столбцу отдельно."
   ]
  },
  {
   "cell_type": "code",
   "execution_count": 2,
   "metadata": {},
   "outputs": [
    {
     "output_type": "execute_result",
     "data": {
      "text/plain": "False    985\nTrue      15\nName: time, dtype: int64"
     },
     "metadata": {},
     "execution_count": 2
    }
   ],
   "source": [
    "log.time.isna().value_counts()"
   ]
  },
  {
   "cell_type": "markdown",
   "metadata": {},
   "source": [
    "## Удаление пропусков\n",
    "\n",
    "Пропуски можно удалять автоматически. Во многих случаях это правильно, так как данные с большим количеством пропусков часто не имеют смысла и не приносят никакой пользы.  \n",
    "\n",
    "1. Удалять данные с пропусками можно с помощью метода dropna().\n",
    "2. Параметр axis в методе dropna() говорит методу, по какой оси удалять значения.  \n",
    "\n",
    "Если нужно удалить строки, в которых встречается пропуск (NaN), следует указать axis=0.  Зачем это делать? Например, у нас из 1000 примеров данных про пользователей пропуски есть в пяти. Разумно их удалить, так как их количество пренебрежимо мало.\n",
    "Если нужно удалить столбцы, в которых встречается пропуск (NaN), нужно указывать axis=1. Зачем? Иногда в одном конкретном столбце пропусков настолько много, что с ними просто не хочется возиться - смысла в них все равно почти нет. "
   ]
  },
  {
   "cell_type": "markdown",
   "metadata": {},
   "source": [
    "Удалите все столбцы, где есть пропуски. Запишите в поле, сколько осталось столбцов в данных после этого."
   ]
  },
  {
   "cell_type": "code",
   "execution_count": 3,
   "metadata": {},
   "outputs": [
    {
     "output_type": "display_data",
     "data": {
      "text/plain": "Index(['user_id', 'time', 'bet', 'win'], dtype='object')"
     },
     "metadata": {}
    },
    {
     "output_type": "execute_result",
     "data": {
      "text/plain": "Index(['user_id'], dtype='object')"
     },
     "metadata": {},
     "execution_count": 3
    }
   ],
   "source": [
    "display(log.columns)\n",
    "log.dropna(axis=1).columns"
   ]
  },
  {
   "cell_type": "markdown",
   "metadata": {},
   "source": [
    "Удалите все строки, где есть пропуски. Запишите в поле, сколько осталось строк в данных после этого."
   ]
  },
  {
   "cell_type": "code",
   "execution_count": 4,
   "metadata": {},
   "outputs": [
    {
     "output_type": "execute_result",
     "data": {
      "text/plain": "                              user_id                  time        bet  \\\n14   Запись пользователя № - user_917   [2019-01-02 8:57:36   145732.0   \n29   Запись пользователя № - user_942  [2019-01-04 13:59:42  1678321.0   \n151  Запись пользователя № - user_982  [2019-01-16 21:54:22      100.0   \n189  Запись пользователя № - user_964  [2019-01-21 18:34:44      200.0   \n205  Запись пользователя № - user_931   [2019-01-22 5:26:59      300.0   \n\n           win  \n14   1987653.0  \n29   9876543.0  \n151     4749.0  \n189     4667.0  \n205     4319.0  ",
      "text/html": "<div>\n<style scoped>\n    .dataframe tbody tr th:only-of-type {\n        vertical-align: middle;\n    }\n\n    .dataframe tbody tr th {\n        vertical-align: top;\n    }\n\n    .dataframe thead th {\n        text-align: right;\n    }\n</style>\n<table border=\"1\" class=\"dataframe\">\n  <thead>\n    <tr style=\"text-align: right;\">\n      <th></th>\n      <th>user_id</th>\n      <th>time</th>\n      <th>bet</th>\n      <th>win</th>\n    </tr>\n  </thead>\n  <tbody>\n    <tr>\n      <th>14</th>\n      <td>Запись пользователя № - user_917</td>\n      <td>[2019-01-02 8:57:36</td>\n      <td>145732.0</td>\n      <td>1987653.0</td>\n    </tr>\n    <tr>\n      <th>29</th>\n      <td>Запись пользователя № - user_942</td>\n      <td>[2019-01-04 13:59:42</td>\n      <td>1678321.0</td>\n      <td>9876543.0</td>\n    </tr>\n    <tr>\n      <th>151</th>\n      <td>Запись пользователя № - user_982</td>\n      <td>[2019-01-16 21:54:22</td>\n      <td>100.0</td>\n      <td>4749.0</td>\n    </tr>\n    <tr>\n      <th>189</th>\n      <td>Запись пользователя № - user_964</td>\n      <td>[2019-01-21 18:34:44</td>\n      <td>200.0</td>\n      <td>4667.0</td>\n    </tr>\n    <tr>\n      <th>205</th>\n      <td>Запись пользователя № - user_931</td>\n      <td>[2019-01-22 5:26:59</td>\n      <td>300.0</td>\n      <td>4319.0</td>\n    </tr>\n  </tbody>\n</table>\n</div>"
     },
     "metadata": {},
     "execution_count": 4
    }
   ],
   "source": [
    "log.dropna(axis=0).head()"
   ]
  },
  {
   "cell_type": "markdown",
   "metadata": {},
   "source": [
    "Используйте оригинальный датасет log.csv.\n",
    "\n",
    "С данными в столбцах bet и win мы разберемся позже: пропуски в этих столбцах требуют особого подхода.\n",
    "\n",
    "А сейчас:\n",
    "\n",
    "если есть пропуски в столбце user_id - удалите столбец user_id,\n",
    "\n",
    "если есть пропуски в столбце time - удалите столбец time.\n",
    "\n",
    "Запишите в поле ответа, количество оставшихся столбцов в данных, после этих действий."
   ]
  },
  {
   "cell_type": "markdown",
   "metadata": {},
   "source": [
    "Еще один интересный параметр - `subset`. Что он делает? Если передать в него список значений по одной оси (например, названия столбцов) и задать при этом в параметре axis другую ось (в нашем случае 0), то мы удалим те строки, для которых в данных столбцах находится пропуск. То же самое работает и наоборот: нужно поменять axis на 1 и вместо названий столбцов передавать индексы строк."
   ]
  },
  {
   "cell_type": "code",
   "execution_count": 5,
   "metadata": {},
   "outputs": [
    {
     "output_type": "execute_result",
     "data": {
      "text/plain": "                            user_id\n0  Запись пользователя № - user_919\n1  Запись пользователя № - user_973\n2  Запись пользователя № - user_903\n3  Запись пользователя № - user_954\n4  Запись пользователя № - user_954",
      "text/html": "<div>\n<style scoped>\n    .dataframe tbody tr th:only-of-type {\n        vertical-align: middle;\n    }\n\n    .dataframe tbody tr th {\n        vertical-align: top;\n    }\n\n    .dataframe thead th {\n        text-align: right;\n    }\n</style>\n<table border=\"1\" class=\"dataframe\">\n  <thead>\n    <tr style=\"text-align: right;\">\n      <th></th>\n      <th>user_id</th>\n    </tr>\n  </thead>\n  <tbody>\n    <tr>\n      <th>0</th>\n      <td>Запись пользователя № - user_919</td>\n    </tr>\n    <tr>\n      <th>1</th>\n      <td>Запись пользователя № - user_973</td>\n    </tr>\n    <tr>\n      <th>2</th>\n      <td>Запись пользователя № - user_903</td>\n    </tr>\n    <tr>\n      <th>3</th>\n      <td>Запись пользователя № - user_954</td>\n    </tr>\n    <tr>\n      <th>4</th>\n      <td>Запись пользователя № - user_954</td>\n    </tr>\n  </tbody>\n</table>\n</div>"
     },
     "metadata": {},
     "execution_count": 5
    }
   ],
   "source": [
    "log[['time', 'user_id']].dropna(axis=1).head()\n"
   ]
  },
  {
   "cell_type": "markdown",
   "metadata": {},
   "source": [
    "Удалите дубли среди столбцов user_id и time. Запишите в поле ниже, сколько осталось строк после удаления дублей."
   ]
  },
  {
   "cell_type": "code",
   "execution_count": 6,
   "metadata": {},
   "outputs": [
    {
     "output_type": "execute_result",
     "data": {
      "text/plain": "                            user_id                  time  bet  win\n0  Запись пользователя № - user_919  [2019-01-01 14:06:51  NaN  NaN\n1  Запись пользователя № - user_973  [2019-01-01 14:51:16  NaN  NaN\n2  Запись пользователя № - user_903  [2019-01-01 16:31:16  NaN  NaN\n3  Запись пользователя № - user_954  [2019-01-01 17:17:51  NaN  NaN\n4  Запись пользователя № - user_954  [2019-01-01 21:31:18  NaN  NaN",
      "text/html": "<div>\n<style scoped>\n    .dataframe tbody tr th:only-of-type {\n        vertical-align: middle;\n    }\n\n    .dataframe tbody tr th {\n        vertical-align: top;\n    }\n\n    .dataframe thead th {\n        text-align: right;\n    }\n</style>\n<table border=\"1\" class=\"dataframe\">\n  <thead>\n    <tr style=\"text-align: right;\">\n      <th></th>\n      <th>user_id</th>\n      <th>time</th>\n      <th>bet</th>\n      <th>win</th>\n    </tr>\n  </thead>\n  <tbody>\n    <tr>\n      <th>0</th>\n      <td>Запись пользователя № - user_919</td>\n      <td>[2019-01-01 14:06:51</td>\n      <td>NaN</td>\n      <td>NaN</td>\n    </tr>\n    <tr>\n      <th>1</th>\n      <td>Запись пользователя № - user_973</td>\n      <td>[2019-01-01 14:51:16</td>\n      <td>NaN</td>\n      <td>NaN</td>\n    </tr>\n    <tr>\n      <th>2</th>\n      <td>Запись пользователя № - user_903</td>\n      <td>[2019-01-01 16:31:16</td>\n      <td>NaN</td>\n      <td>NaN</td>\n    </tr>\n    <tr>\n      <th>3</th>\n      <td>Запись пользователя № - user_954</td>\n      <td>[2019-01-01 17:17:51</td>\n      <td>NaN</td>\n      <td>NaN</td>\n    </tr>\n    <tr>\n      <th>4</th>\n      <td>Запись пользователя № - user_954</td>\n      <td>[2019-01-01 21:31:18</td>\n      <td>NaN</td>\n      <td>NaN</td>\n    </tr>\n  </tbody>\n</table>\n</div>"
     },
     "metadata": {},
     "execution_count": 6
    }
   ],
   "source": [
    "log.drop_duplicates(subset=['time', 'user_id']).head()"
   ]
  },
  {
   "cell_type": "markdown",
   "metadata": {},
   "source": [
    "Уберите лишний символ, преобразуйте признак time к datetime. После этого найдите наибольшую дату и выведите ее без времени.\n",
    "\n",
    "Подсказка: можно применить метод max() к получившемуся столбцу со временем.\n",
    "\n",
    "Не забудьте избавиться от пропусков.\n",
    "\n",
    "Запишите ответ в формате \"YYYY-MM-DD\"."
   ]
  },
  {
   "cell_type": "code",
   "execution_count": 7,
   "metadata": {},
   "outputs": [
    {
     "output_type": "execute_result",
     "data": {
      "text/plain": "Timestamp('2019-04-20 18:10:07')"
     },
     "metadata": {},
     "execution_count": 7
    }
   ],
   "source": [
    "log.time = log.time.apply(lambda s: str(s)[1:] if str(s).startswith('[') else s)\n",
    "log.time = pd.to_datetime(log.time)\n",
    "log.time.max()"
   ]
  },
  {
   "cell_type": "markdown",
   "metadata": {},
   "source": [
    "Используйте оригинальные данные log.csv, столбец time.\n",
    "\n",
    "Подсказка: можно использовать value_counts().\n",
    "\n",
    "Найдите минуту, которая встречалась в данных чаще всего. Введите ответ в поле ниже."
   ]
  },
  {
   "cell_type": "code",
   "execution_count": 8,
   "metadata": {},
   "outputs": [
    {
     "output_type": "execute_result",
     "data": {
      "text/plain": "36.0    25\n31.0    23\n6.0     22\n50.0    22\n14.0    21\nName: time, dtype: int64"
     },
     "metadata": {},
     "execution_count": 8
    }
   ],
   "source": [
    "log.time.dt.minute.value_counts(ascending=False).head()"
   ]
  },
  {
   "cell_type": "markdown",
   "metadata": {},
   "source": [
    "Используйте оригинальные данные log.csv, столбец time.\n",
    "\n",
    "Подсказка: можно использовать value_counts().\n",
    "\n",
    "Найдите месяц, который встречался в данных реже всего. Введите ответ в поле ниже."
   ]
  },
  {
   "cell_type": "code",
   "execution_count": 9,
   "metadata": {},
   "outputs": [
    {
     "output_type": "execute_result",
     "data": {
      "text/plain": "4.0    170\n2.0    259\n3.0    264\n1.0    292\nName: time, dtype: int64"
     },
     "metadata": {},
     "execution_count": 9
    }
   ],
   "source": [
    "log.time.dt.month.value_counts(ascending=True).head()"
   ]
  },
  {
   "cell_type": "markdown",
   "metadata": {},
   "source": [
    "Используйте оригинальные данные log.csv, столбец time.\n",
    "\n",
    "Подсказка: можно использовать value_counts(). Кроме этого, потребуется написать функцию, которая преобразует дату во время дня.\n",
    "\n",
    "Договоримся, что с 0 до 5 часов - ночь, с 6 до 11 - утро, с 12 до 17 - день, с 18 до 23 - вечер.\n",
    "\n",
    "Важно: для выполнения задания вам нужно будет избавиться от пропусков только в столбце time. Вспомните, как избавиться от пропусков только по конкретному признаку.\n",
    "\n",
    "Посчитайте, какое время дня встречается в данных реже всего. Введите ответ в поле ниже: ночь, утро, день или вечер."
   ]
  },
  {
   "cell_type": "code",
   "execution_count": 10,
   "metadata": {},
   "outputs": [
    {
     "output_type": "execute_result",
     "data": {
      "text/plain": "вечер    227\nдень     240\nутро     253\nночь     265\nName: time, dtype: int64"
     },
     "metadata": {},
     "execution_count": 10
    }
   ],
   "source": [
    "def to_day_time(hour):\n",
    "    if hour >= 0 and hour <= 5:\n",
    "        return 'ночь'\n",
    "    if hour >= 6 and hour <= 11:\n",
    "        return 'утро'        \n",
    "    if hour >= 12 and hour <= 17:\n",
    "        return 'день'           \n",
    "    if hour >= 18 and hour <= 23:\n",
    "        return 'вечер'                     \n",
    "\n",
    "day_time = log.time.apply(lambda t: to_day_time(t.hour))\n",
    "day_time.value_counts(ascending=True)"
   ]
  },
  {
   "cell_type": "markdown",
   "metadata": {},
   "source": [
    "Давайте повторим то, что мы прошли в этой секции. Напишите код, который создаст признак hour из признака time в датасете log.csv. Для этого:\n",
    "\n",
    "1. загрузите датасет log.csv в переменную log, дальше работать будем с ней;\n",
    "2. установите имена столбцов: ['user_id', 'time', 'bet', 'win'];\n",
    "3. избавьтесь от пропусков в log;\n",
    "4. приведите переменную time к подходящему для извлечения признаков виду;\n",
    "5. получите значение часа для каждой строки в переменной time и запишите в столбец hour в log.\n",
    "\n",
    "Результатом будет таблица log со столбцом hour внутри."
   ]
  },
  {
   "cell_type": "code",
   "execution_count": 11,
   "metadata": {},
   "outputs": [
    {
     "output_type": "display_data",
     "data": {
      "text/plain": "                              user_id                time        bet  \\\n14   Запись пользователя № - user_917 2019-01-02 08:57:36   145732.0   \n29   Запись пользователя № - user_942 2019-01-04 13:59:42  1678321.0   \n151  Запись пользователя № - user_982 2019-01-16 21:54:22      100.0   \n189  Запись пользователя № - user_964 2019-01-21 18:34:44      200.0   \n205  Запись пользователя № - user_931 2019-01-22 05:26:59      300.0   \n\n           win  hour  \n14   1987653.0     8  \n29   9876543.0    13  \n151     4749.0    21  \n189     4667.0    18  \n205     4319.0     5  ",
      "text/html": "<div>\n<style scoped>\n    .dataframe tbody tr th:only-of-type {\n        vertical-align: middle;\n    }\n\n    .dataframe tbody tr th {\n        vertical-align: top;\n    }\n\n    .dataframe thead th {\n        text-align: right;\n    }\n</style>\n<table border=\"1\" class=\"dataframe\">\n  <thead>\n    <tr style=\"text-align: right;\">\n      <th></th>\n      <th>user_id</th>\n      <th>time</th>\n      <th>bet</th>\n      <th>win</th>\n      <th>hour</th>\n    </tr>\n  </thead>\n  <tbody>\n    <tr>\n      <th>14</th>\n      <td>Запись пользователя № - user_917</td>\n      <td>2019-01-02 08:57:36</td>\n      <td>145732.0</td>\n      <td>1987653.0</td>\n      <td>8</td>\n    </tr>\n    <tr>\n      <th>29</th>\n      <td>Запись пользователя № - user_942</td>\n      <td>2019-01-04 13:59:42</td>\n      <td>1678321.0</td>\n      <td>9876543.0</td>\n      <td>13</td>\n    </tr>\n    <tr>\n      <th>151</th>\n      <td>Запись пользователя № - user_982</td>\n      <td>2019-01-16 21:54:22</td>\n      <td>100.0</td>\n      <td>4749.0</td>\n      <td>21</td>\n    </tr>\n    <tr>\n      <th>189</th>\n      <td>Запись пользователя № - user_964</td>\n      <td>2019-01-21 18:34:44</td>\n      <td>200.0</td>\n      <td>4667.0</td>\n      <td>18</td>\n    </tr>\n    <tr>\n      <th>205</th>\n      <td>Запись пользователя № - user_931</td>\n      <td>2019-01-22 05:26:59</td>\n      <td>300.0</td>\n      <td>4319.0</td>\n      <td>5</td>\n    </tr>\n  </tbody>\n</table>\n</div>"
     },
     "metadata": {}
    }
   ],
   "source": [
    "log = pd.read_csv(\"data/log.csv\", header=None, names=['user_id','time', 'bet','win'])\n",
    "log.dropna(axis=0, inplace=True)\n",
    "log.time = log.time.apply(lambda s: str(s)[1:] if str(s).startswith('[') else s)\n",
    "log.time = pd.to_datetime(log.time)\n",
    "log['hour'] = log.time.apply(lambda t: t.hour)\n",
    "display(log.head())\n"
   ]
  },
  {
   "cell_type": "markdown",
   "metadata": {},
   "source": [
    "## Заполнение константой"
   ]
  },
  {
   "cell_type": "code",
   "execution_count": 12,
   "metadata": {},
   "outputs": [],
   "source": [
    "log = pd.read_csv(\"data/log.csv\", header=None, names=['user_id','time', 'bet','win'])\n",
    "log.time = log.time.apply(lambda s: str(s)[1:] if str(s).startswith('[') else s)\n",
    "log.time = pd.to_datetime(log.time)\n",
    "log['hour'] = log.time.apply(lambda t: t.hour)"
   ]
  },
  {
   "cell_type": "markdown",
   "metadata": {},
   "source": [
    "Используйте оригинальный датасет log.csv. Результат запишите числом в поле ниже.\n",
    "\n",
    "Подсказка: можно использовать value_counts().\n",
    "\n",
    "Посчитайте, сколько раз люди приходили, но не делали ставок. Для этого заполните пропуски в столбце bet значением 0 и посчитайте количество таких значений."
   ]
  },
  {
   "cell_type": "code",
   "execution_count": 13,
   "metadata": {},
   "outputs": [
    {
     "output_type": "execute_result",
     "data": {
      "text/plain": "0.0      515\n500.0     50\n100.0     48\n300.0     42\n800.0     42\nName: bet, dtype: int64"
     },
     "metadata": {},
     "execution_count": 13
    }
   ],
   "source": [
    "log['bet'] = log.bet.fillna(0)\n",
    "log.bet.value_counts().head()"
   ]
  },
  {
   "cell_type": "markdown",
   "metadata": {},
   "source": [
    "## Заполнение с помощью функции\n",
    "\n",
    "Используйте оригинальный датасет log.csv. Проделайте с ним действия из задания 1, расположенного выше на этой странице, и из пункта \"Заполнение с помощью функции\".\n",
    "\n",
    "Результат запишите числом в поле ниже.\n",
    "\n",
    "Подсказка: можно использовать sum().\n",
    "\n",
    "Посчитайте, сколько раз участники ставок проиграли деньги. То есть посчитайте количество строк, для которых в столбце win находится"
   ]
  },
  {
   "cell_type": "markdown",
   "metadata": {},
   "source": []
  },
  {
   "cell_type": "code",
   "execution_count": 14,
   "metadata": {},
   "outputs": [
    {
     "output_type": "execute_result",
     "data": {
      "text/plain": "347.0"
     },
     "metadata": {},
     "execution_count": 14
    }
   ],
   "source": [
    "def fill_na_win(row):\n",
    "    if not pd.isna(row.win):\n",
    "        return row.win\n",
    "    if pd.isna(row.bet):\n",
    "        return 0\n",
    "    else:\n",
    "        return -row.bet\n",
    "\n",
    "log.win = log.apply(lambda row: fill_na_win(row), axis=1)  \n",
    "log.win.loc[log.win < 0].describe()['count']\n"
   ]
  },
  {
   "cell_type": "markdown",
   "metadata": {},
   "source": [
    "Создайте признак net, хранящий сумму выигрыша с учетом ставки. Для этого из признака win поэлементно вычтите признак bet и запишите в новый столбец. После этого посчитайте, у скольких людей выигрыш положительный."
   ]
  },
  {
   "cell_type": "code",
   "execution_count": 15,
   "metadata": {
    "tags": []
   },
   "outputs": [
    {
     "output_type": "stream",
     "name": "stdout",
     "text": "<class 'pandas.core.frame.DataFrame'>\nInt64Index: 138 entries, 14 to 996\nData columns (total 6 columns):\n #   Column   Non-Null Count  Dtype         \n---  ------   --------------  -----         \n 0   user_id  138 non-null    object        \n 1   time     133 non-null    datetime64[ns]\n 2   bet      138 non-null    float64       \n 3   win      138 non-null    float64       \n 4   hour     133 non-null    float64       \n 5   net      138 non-null    float64       \ndtypes: datetime64[ns](1), float64(4), object(1)\nmemory usage: 7.5+ KB\n"
    }
   ],
   "source": [
    "log['net'] = log.apply(lambda row: row.win - row.bet, axis=1)\n",
    "winners = log.loc[log.net > 0]\n",
    "winners.info()"
   ]
  },
  {
   "cell_type": "markdown",
   "metadata": {},
   "source": [
    "Используйте датасет log.csv, получившийся в результате выполнения предыдущего задания. Посчитайте среднее значение выигрыша (из столбца net) в тех случаях, когда выигрыш больше 0. Результат округлите до целого, отбросив дробную часть."
   ]
  },
  {
   "cell_type": "code",
   "execution_count": 16,
   "metadata": {},
   "outputs": [
    {
     "output_type": "execute_result",
     "data": {
      "text/plain": "80253"
     },
     "metadata": {},
     "execution_count": 16
    }
   ],
   "source": [
    "round(winners.net.mean())"
   ]
  },
  {
   "cell_type": "markdown",
   "metadata": {},
   "source": [
    "Используйте датасет log.csv, получившийся в результате выполнения первого задания этого блока. Посчитайте медианное значение выигрыша (из столбца net) в тех случаях, когда выигрыш больше 0. Результат округлите до целого, отбросив дробную часть."
   ]
  },
  {
   "cell_type": "code",
   "execution_count": 17,
   "metadata": {},
   "outputs": [
    {
     "output_type": "execute_result",
     "data": {
      "text/plain": "5347"
     },
     "metadata": {},
     "execution_count": 17
    }
   ],
   "source": [
    "round(winners.net.median())"
   ]
  },
  {
   "cell_type": "markdown",
   "metadata": {},
   "source": [
    "## Что осталось сделать\n",
    "Используйте модифицированный исходный датасет log.csv.\n",
    "\n",
    "При модификации датасета log.csv, пропущенные значения в столбцах bet и win замените на 0, cоздайте столбец net, хранящий сумму выигрыша с учетом ставки (для этого из столбца win поэлементно вычтите столбец bet и запишите в новый столбец)."
   ]
  },
  {
   "cell_type": "code",
   "execution_count": 18,
   "metadata": {},
   "outputs": [
    {
     "output_type": "execute_result",
     "data": {
      "text/plain": "                            user_id                time  bet  win  hour  net\n0  Запись пользователя № - user_919 2019-01-01 14:06:51  0.0  0.0  14.0  0.0\n1  Запись пользователя № - user_973 2019-01-01 14:51:16  0.0  0.0  14.0  0.0\n2  Запись пользователя № - user_903 2019-01-01 16:31:16  0.0  0.0  16.0  0.0\n3  Запись пользователя № - user_954 2019-01-01 17:17:51  0.0  0.0  17.0  0.0\n4  Запись пользователя № - user_954 2019-01-01 21:31:18  0.0  0.0  21.0  0.0",
      "text/html": "<div>\n<style scoped>\n    .dataframe tbody tr th:only-of-type {\n        vertical-align: middle;\n    }\n\n    .dataframe tbody tr th {\n        vertical-align: top;\n    }\n\n    .dataframe thead th {\n        text-align: right;\n    }\n</style>\n<table border=\"1\" class=\"dataframe\">\n  <thead>\n    <tr style=\"text-align: right;\">\n      <th></th>\n      <th>user_id</th>\n      <th>time</th>\n      <th>bet</th>\n      <th>win</th>\n      <th>hour</th>\n      <th>net</th>\n    </tr>\n  </thead>\n  <tbody>\n    <tr>\n      <th>0</th>\n      <td>Запись пользователя № - user_919</td>\n      <td>2019-01-01 14:06:51</td>\n      <td>0.0</td>\n      <td>0.0</td>\n      <td>14.0</td>\n      <td>0.0</td>\n    </tr>\n    <tr>\n      <th>1</th>\n      <td>Запись пользователя № - user_973</td>\n      <td>2019-01-01 14:51:16</td>\n      <td>0.0</td>\n      <td>0.0</td>\n      <td>14.0</td>\n      <td>0.0</td>\n    </tr>\n    <tr>\n      <th>2</th>\n      <td>Запись пользователя № - user_903</td>\n      <td>2019-01-01 16:31:16</td>\n      <td>0.0</td>\n      <td>0.0</td>\n      <td>16.0</td>\n      <td>0.0</td>\n    </tr>\n    <tr>\n      <th>3</th>\n      <td>Запись пользователя № - user_954</td>\n      <td>2019-01-01 17:17:51</td>\n      <td>0.0</td>\n      <td>0.0</td>\n      <td>17.0</td>\n      <td>0.0</td>\n    </tr>\n    <tr>\n      <th>4</th>\n      <td>Запись пользователя № - user_954</td>\n      <td>2019-01-01 21:31:18</td>\n      <td>0.0</td>\n      <td>0.0</td>\n      <td>21.0</td>\n      <td>0.0</td>\n    </tr>\n  </tbody>\n</table>\n</div>"
     },
     "metadata": {},
     "execution_count": 18
    }
   ],
   "source": [
    "log = pd.read_csv(\"data/log.csv\", header=None, names=['user_id','time', 'bet','win'])\n",
    "log.time = log.time.apply(lambda s: str(s)[1:] if str(s).startswith('[') else s)\n",
    "log.time = pd.to_datetime(log.time)\n",
    "log['hour'] = log.time.apply(lambda t: t.hour)\n",
    "log['bet'] = log.bet.fillna(0)\n",
    "log['win'] = log.win.fillna(0)\n",
    "log['net'] = log.apply(lambda row: row.win - row.bet, axis=1)\n",
    "log.head()"
   ]
  },
  {
   "cell_type": "code",
   "execution_count": null,
   "metadata": {},
   "outputs": [],
   "source": []
  },
  {
   "cell_type": "markdown",
   "metadata": {},
   "source": [
    "Посчитайте, какой процент посещений букмекерской конторы оборачивался ставкой. Для этого поделите количество ставок (значений больше 0) на общее количество посещений конторы. Результат округлите до одного знака после запятой."
   ]
  },
  {
   "cell_type": "code",
   "execution_count": 19,
   "metadata": {},
   "outputs": [
    {
     "output_type": "execute_result",
     "data": {
      "text/plain": "0.485"
     },
     "metadata": {},
     "execution_count": 19
    }
   ],
   "source": [
    "len(log.loc[log.bet > 0]) / len(log)"
   ]
  },
  {
   "cell_type": "markdown",
   "metadata": {},
   "source": [
    "Посчитайте среднее значение ставки (из столбца bet) в тех случаях, когда ставка была сделана. Результат округлите до целого, отбросив дробную часть."
   ]
  },
  {
   "cell_type": "code",
   "execution_count": 20,
   "metadata": {},
   "outputs": [
    {
     "output_type": "execute_result",
     "data": {
      "text/plain": "6785.738144329897"
     },
     "metadata": {},
     "execution_count": 20
    }
   ],
   "source": [
    "log.loc[log.bet > 0].bet.mean()"
   ]
  },
  {
   "cell_type": "markdown",
   "metadata": {},
   "source": [
    "Посчитайте средний выигрыш (из столбца net) в тех случаях, когда ставка была сделана. Результат округлите до целого, отбросив дробную часть.\n",
    "\n",
    "Пояснение: выигрыш в данном случае означает изменение количества денег и может быть отрицательным. В таком случае это проигрыш."
   ]
  },
  {
   "cell_type": "code",
   "execution_count": 21,
   "metadata": {},
   "outputs": [
    {
     "output_type": "execute_result",
     "data": {
      "text/plain": "20421.892783505155"
     },
     "metadata": {},
     "execution_count": 21
    }
   ],
   "source": [
    "log.loc[log.bet > 0].net.mean()"
   ]
  },
  {
   "cell_type": "markdown",
   "metadata": {},
   "source": [
    "Посчитайте среднюю сумму потерь при проигрыше (из столбца net). Результат округлите до целого, отбросив дробную часть.\n",
    "\n",
    "Пояснение: ответ должен быть дан в виде отрицательного числа."
   ]
  },
  {
   "cell_type": "code",
   "execution_count": 22,
   "metadata": {},
   "outputs": [
    {
     "output_type": "execute_result",
     "data": {
      "text/plain": "-3372.743515850144"
     },
     "metadata": {},
     "execution_count": 22
    }
   ],
   "source": [
    "log.loc[log.net < 0].net.mean()"
   ]
  },
  {
   "cell_type": "markdown",
   "metadata": {},
   "source": [
    "Посчитайте, какой процент ставок заканчивается выигрышем, а какой - проигрышем. Сравните эти значения и ответьте, какое из них больше."
   ]
  },
  {
   "cell_type": "code",
   "execution_count": 23,
   "metadata": {
    "tags": []
   },
   "outputs": [
    {
     "output_type": "stream",
     "name": "stdout",
     "text": "Доля выигрышей: 0.2845360824742268\nДоля проигрышей: 0.7154639175257732\n"
    }
   ],
   "source": [
    "bets = log.loc[log.bet > 0]\n",
    "bets_number = len(bets)\n",
    "\n",
    "print('Доля выигрышей: {}'.format(len(bets.loc[bets.net > 0]) / bets_number))\n",
    "print('Доля проигрышей: {}'.format(len(bets.loc[bets.net < 0]) / bets_number))\n"
   ]
  },
  {
   "cell_type": "markdown",
   "metadata": {},
   "source": [
    "Давайте повторим то, что мы прошли в этой секции. Напишите код, который узнает, чему была равна минимальная ставка и сколько людей сделали такую ставку. Для этого:\n",
    "\n",
    "1. загрузите датасет log.csv;\n",
    "2. посчитайте, чему равна минимальная ставка;\n",
    "3. посчитайте, сколько раз была сделана минимальная ставка, и запишите результат в переменную min_bet_amount в виде целого числа."
   ]
  },
  {
   "cell_type": "code",
   "execution_count": 24,
   "metadata": {
    "tags": []
   },
   "outputs": [
    {
     "output_type": "stream",
     "name": "stdout",
     "text": "48\n"
    }
   ],
   "source": [
    "log_df = pd.read_csv(\"data/log.csv\", header=None, names=['user_id','time', 'bet','win'])\n",
    "log_df.time = log_df.time.apply(lambda s: str(s)[1:] if str(s).startswith('[') else s)\n",
    "min_bet_amount = log_df.bet.value_counts().sort_index().iloc[0]\n",
    "print(min_bet_amount)"
   ]
  },
  {
   "cell_type": "markdown",
   "metadata": {},
   "source": [
    "## Повторение merge/groupby\n",
    "Повторим часть предобработки, которую мы должны были выполнить ранее:"
   ]
  },
  {
   "cell_type": "code",
   "execution_count": 25,
   "metadata": {},
   "outputs": [],
   "source": [
    "# Приведем признак user_id к одному формату в обоих датасетах  \n",
    "us.user_id = us.user_id.apply(lambda x: x.lower())  \n",
    "# Избавимся от ошибок в user_id  \n",
    "log = log[log.user_id != '#error']  \n",
    "log.user_id = log.user_id.str.split(' - ').apply(lambda x: x[1])  "
   ]
  },
  {
   "cell_type": "markdown",
   "metadata": {},
   "source": [
    "Это будет нужно для того, чтобы объединить оба датасета и работать с едиными данными для проведения продвинутого анализа.\n",
    "\n",
    "## Merge\n",
    "\n",
    "Теперь объединим данные с помощью метода pd.merge():\n",
    "\n",
    "`pd.merge(dataframe1, dataframe2, on='feature_name')`\n",
    "\n",
    "Первые два аргумента - таблицы, которые нужно будет объединить.\n",
    "\n",
    "Третий аргумент - название признака, по которому будем объединять данные. Мы уже привели данные к одинаковому виду, и теперь их можно объединить по признаку 'user_id', чтобы получить полную информацию о пользователе. "
   ]
  },
  {
   "cell_type": "code",
   "execution_count": 26,
   "metadata": {
    "tags": []
   },
   "outputs": [
    {
     "output_type": "stream",
     "name": "stdout",
     "text": "<class 'pandas.core.frame.DataFrame'>\nInt64Index: 975 entries, 0 to 974\nData columns (total 8 columns):\n #   Column   Non-Null Count  Dtype         \n---  ------   --------------  -----         \n 0   user_id  975 non-null    object        \n 1   time     975 non-null    datetime64[ns]\n 2   bet      975 non-null    float64       \n 3   win      975 non-null    float64       \n 4   hour     975 non-null    float64       \n 5   net      975 non-null    float64       \n 6   email    967 non-null    object        \n 7   geo      950 non-null    object        \ndtypes: datetime64[ns](1), float64(4), object(3)\nmemory usage: 68.6+ KB\n"
    }
   ],
   "source": [
    "merged = pd.merge(log, us, on='user_id')\n",
    "merged.info()"
   ]
  },
  {
   "cell_type": "markdown",
   "metadata": {},
   "source": [
    "## Groupby\n",
    "\n",
    "Теперь повторим groupby.\n",
    "\n",
    "Данный метод позволяет сгруппировать данные и применить к ним методы агрегации:\n",
    "\n",
    "`df.groupby('user_id').win.median().median()`\n",
    "\n",
    "В данном случае мы группируем данные по признаку user_id.\n",
    "\n",
    "После этого мы в каждой группе выбираем признак win.\n",
    "\n",
    "Затем мы берем медиану каждой группы по признаку win и на выходе получаем таблицу, в которой индексом является признак user_id. В этой таблице единственный столбец - медиана по каждой группе (то есть по каждому пользователю).\n",
    "\n",
    "Наконец, последний вызов median() дает нам медиану по предыдущему столбцу, то есть возвращает одно число."
   ]
  },
  {
   "cell_type": "markdown",
   "metadata": {},
   "source": [
    "## Анализ по пользователям\n",
    "Мы собрали все, что нам нужно, чтобы извлечь какие-то инсайты из данных о пользователях."
   ]
  },
  {
   "cell_type": "markdown",
   "metadata": {},
   "source": [
    "Используйте датасет, который получился в результате всех преобразований выше (в том числе, заполнение пропусков). Ответ запишите в поле ниже в виде целого числа (отбросьте дробную часть).\n",
    "\n",
    "Посчитайте медиану баланса по каждому пользователю. Для этого сгруппируйте по пользователям, возьмите признак net, просуммируйте по каждому пользователю и получите медиану."
   ]
  },
  {
   "cell_type": "code",
   "execution_count": 27,
   "metadata": {},
   "outputs": [],
   "source": [
    "grouped_by_uid = merged.groupby(['user_id'])"
   ]
  },
  {
   "cell_type": "code",
   "execution_count": 28,
   "metadata": {},
   "outputs": [
    {
     "output_type": "execute_result",
     "data": {
      "text/plain": "1986.0"
     },
     "metadata": {},
     "execution_count": 28
    }
   ],
   "source": [
    "grouped_by_uid.net.sum().median()"
   ]
  },
  {
   "cell_type": "markdown",
   "metadata": {},
   "source": [
    "Используйте датасет, который получился в результате всех преобразований выше (в том числе, заполнение пропусков). Ответ запишите в поле ниже в виде целого числа (отбросьте дробную часть).\n",
    "\n",
    "Сколько раз в среднем каждый человек приходит, не делая ставок, при условии, что у этого человека все-таки есть хотя бы одна ставка? Например: Человек посетил букмекерскую контору 5 раз из них 1 раз сделал ставку, 4 раза нет - условие выполняется. Человек посетил букмекерскую контору 5 раз из них ни разу ставку не сделал - условие не выполняется. Для того, чтобы узнать это, просуммируйте в каждой группе количество записей со ставкой, равной 0, и поделите на общее количество групп. Если при этом в группе нет записей со ставкой больше 0, считаем количество записей в данной группе равным 0."
   ]
  },
  {
   "cell_type": "code",
   "execution_count": 29,
   "metadata": {
    "tags": []
   },
   "outputs": [
    {
     "output_type": "execute_result",
     "data": {
      "text/plain": "5.05"
     },
     "metadata": {},
     "execution_count": 29
    }
   ],
   "source": [
    "def aggregate_bets(group):\n",
    "    bets = group[group > 0]\n",
    "    bets_count = len(bets)\n",
    "    if bets_count == 0:\n",
    "        return 0;\n",
    "    return len(group) - bets_count\n",
    "\n",
    "grouped_by_uid.bet.aggregate(func=aggregate_bets).mean()"
   ]
  },
  {
   "cell_type": "markdown",
   "metadata": {},
   "source": [
    "Сколько в среднем времени проходит между появлением человека в сервисе и первой ставкой? Считать нужно только тех, кто делал ставку. Для того, чтобы узнать это, напишите метод, считающий минимальное время среди ставок, равных 0, и минимальное время среди ставок больше 0. После этого верните разницу между вторым и первым числом. Пройдитесь по всем группам в цикле. Если в группе нет ставок больше 0, пропустите эту группу. Просуммируйте разницу во времени для каждой группы (с помощью метода, описанного выше) и поделите на количество групп, которые вы не пропустили."
   ]
  },
  {
   "cell_type": "code",
   "execution_count": 30,
   "metadata": {
    "tags": []
   },
   "outputs": [
    {
     "output_type": "execute_result",
     "data": {
      "text/plain": "47"
     },
     "metadata": {},
     "execution_count": 30
    }
   ],
   "source": [
    "def aggregate_timeouts(g):\n",
    "    group = grouped_by_uid.get_group(g)\n",
    "    aggregation = {}\n",
    "    aggregation['user_id'] = g\n",
    "    aggregation['appearance'] = group.iloc[0].time\n",
    "    aggregation['first_bet'] = group[group.bet > 0].iloc[0].time\n",
    "    return aggregation\n",
    "\n",
    "result = map(aggregate_timeouts, grouped_by_uid.groups)\n",
    "df = pd.DataFrame([x for x in list(result)])\n",
    "df['delay'] = df.first_bet - df.appearance\n",
    "df.delay.mean().days\n"
   ]
  },
  {
   "cell_type": "code",
   "execution_count": 33,
   "metadata": {},
   "outputs": [],
   "source": [
    "user_groups = pd.DataFrame()\n",
    "user_groups['min_time'] = log.groupby('user_id')['time'].min()                  \n",
    "# user_groups['bet_time'] = log[log['bet'] > 0].groupby('user_id')['time'].min()  \n",
    "# ​\n",
    "# user_groups['time_diff'] = user_groups['bet_time'] - user_groups['min_time']    \n",
    "# user_groups['time_diff'].mean().days"
   ]
  },
  {
   "cell_type": "markdown",
   "metadata": {},
   "source": [
    "## Анализ по городам"
   ]
  },
  {
   "cell_type": "markdown",
   "metadata": {},
   "source": [
    "Наибольший суммарный выигрыш среди всех городов имеет Москва. Посчитайте следующий за ней город. Для этого сгруппируйте по городам, возьмите признак win, просуммируйте по каждому городу, отсортируйте и получите второй город."
   ]
  },
  {
   "cell_type": "code",
   "execution_count": 135,
   "metadata": {},
   "outputs": [
    {
     "output_type": "execute_result",
     "data": {
      "text/plain": "geo\nМосква             11959741.0\nВоронеж              184338.0\nСанкт-Петербург      151007.0\nКазань                97806.0\nЯрославль             97441.0\nИжевск                84895.0\nКрасноярск            84767.0\nАрзангелтск           74375.0\nПермь                 67734.0\nХабаровск             65459.0\nКраснодар             62718.0\nСтаврополь            46003.0\nЕкатеринбург          36682.0\nТюмень                 4701.0\nName: win, dtype: float64"
     },
     "metadata": {},
     "execution_count": 135
    }
   ],
   "source": [
    "merged.groupby(['geo']).win.sum().sort_values(ascending=False)"
   ]
  },
  {
   "cell_type": "markdown",
   "metadata": {},
   "source": [
    "Во сколько раз различаются максимальное и минимальное значение средней ставки по городам? Для того, чтобы это посчитать, нужно сгруппировать по городам, взять среднее от признака bet, найти максимальное и минимальное значения, затем поделить одно на"
   ]
  },
  {
   "cell_type": "code",
   "execution_count": 136,
   "metadata": {},
   "outputs": [
    {
     "output_type": "execute_result",
     "data": {
      "text/plain": "127.81602335164835"
     },
     "metadata": {},
     "execution_count": 136
    }
   ],
   "source": [
    "mean_bets = merged[merged.bet > 0].groupby(['geo']).bet.mean()\n",
    "mean_bets.max() / mean_bets.min()"
   ]
  },
  {
   "cell_type": "markdown",
   "metadata": {},
   "source": [
    "Давайте повторим все, что мы прошли в этой секции. Напишите код, который посчитает, сколько раз пользователи приходили в букмекерскую контору в каждом городе. Для этого:\n",
    "\n",
    "1. загрузите датасеты log.csv и users.csv;\n",
    "2. удалите user_id с ошибкой (#error) и приведите признак user_id к одному виду в обоих датасетах;\n",
    "3. слейте два датасета в один по признаку user_id;\n",
    "4. сгруппируйте данные по правильному признаку (какому - вам нужно понять самим), затем выберите user_id и воспользуйтесь функцией count() для подсчета наблюдений в каждой группе;\n",
    "5. результат (таблицу) запишите в sample2."
   ]
  },
  {
   "cell_type": "code",
   "execution_count": 103,
   "metadata": {
    "tags": []
   },
   "outputs": [
    {
     "output_type": "stream",
     "name": "stdout",
     "text": "geo\nАрзангелтск         90\nВоронеж             86\nЕкатеринбург        75\nИжевск              67\nКазань              66\nКраснодар           99\nКрасноярск          69\nМосква              55\nПермь               59\nСанкт-Петербург    120\nСтаврополь          35\nТюмень              40\nХабаровск           67\nЯрославль          110\nName: time, dtype: int64\n"
    }
   ],
   "source": [
    "log_df = pd.read_csv(\"data/log.csv\", header=None, names=['user_id','time', 'bet','win'])\n",
    "log_df = log_df[log_df.user_id != '#error']  \n",
    "log_df.user_id = log_df.user_id.str.split(' - ').apply(lambda x: x[1])\n",
    "\n",
    "us_df = pd.read_csv('data/users.csv', encoding='koi8_r', sep='\\t')\n",
    "us_df.columns  = ['user_id', 'email', 'geo']\n",
    "us_df.user_id = log_df.user_id.str.lower()\n",
    "\n",
    "merged_df = pd.merge(log_df, us_df, on='user_id')\n",
    "\n",
    "sample2 = merged_df.groupby(['geo']).time.count()\n",
    "print(sample2)"
   ]
  }
 ]
}