{
 "metadata": {
  "language_info": {
   "codemirror_mode": {
    "name": "ipython",
    "version": 3
   },
   "file_extension": ".py",
   "mimetype": "text/x-python",
   "name": "python",
   "nbconvert_exporter": "python",
   "pygments_lexer": "ipython3",
   "version": "3.7.6-final"
  },
  "orig_nbformat": 2,
  "kernelspec": {
   "name": "python3",
   "display_name": "Python 3"
  }
 },
 "nbformat": 4,
 "nbformat_minor": 2,
 "cells": [
  {
   "cell_type": "markdown",
   "metadata": {},
   "source": [
    "## Задача. Условие\n",
    "Данные по доходам и расходам каждого члена семьи Ивановых записаны в одномерные массивы NumPy"
   ]
  },
  {
   "cell_type": "code",
   "execution_count": 13,
   "metadata": {},
   "outputs": [],
   "source": [
    "import numpy as np\n",
    "\n",
    "Husband_Income = np.array([100,220,140])\n",
    "Wife_Income = np.array([150,200,130])\n",
    "Mother_In_Law_Income = np.array([90,80,100])\n",
    "\n",
    "Husband_Сonsumption = np.array([50,50,60])\n",
    "Wife_Сonsumption = np.array([100,80,140])\n",
    "Mother_In_Law_Сonsumption = np.array([100,20,140])"
   ]
  },
  {
   "cell_type": "markdown",
   "metadata": {},
   "source": [
    "Составьте матрицу Inc доходов семьи, расположив доходы мужа, жены и тещи в первый, второй и третий столбцы."
   ]
  },
  {
   "cell_type": "code",
   "execution_count": 14,
   "metadata": {
    "tags": []
   },
   "outputs": [
    {
     "output_type": "execute_result",
     "data": {
      "text/plain": "array([[100, 150,  90],\n       [220, 200,  80],\n       [140, 130, 100]])"
     },
     "metadata": {},
     "execution_count": 14
    }
   ],
   "source": [
    "Inc = np.array([Husband_Income, Wife_Income, Mother_In_Law_Income]).T\n",
    "Inc"
   ]
  },
  {
   "cell_type": "markdown",
   "metadata": {},
   "source": [
    "Составьте матрицу Cons расходов семьи, расположив расходы мужа, жены и тещи в первый, второй и третий столбцы."
   ]
  },
  {
   "cell_type": "code",
   "execution_count": 15,
   "metadata": {},
   "outputs": [
    {
     "output_type": "execute_result",
     "data": {
      "text/plain": "array([[ 50, 100, 100],\n       [ 50,  80,  20],\n       [ 60, 140, 140]])"
     },
     "metadata": {},
     "execution_count": 15
    }
   ],
   "source": [
    "Cons = np.array([Husband_Сonsumption, Wife_Сonsumption, Mother_In_Law_Сonsumption]).T\n",
    "Cons"
   ]
  },
  {
   "cell_type": "markdown",
   "metadata": {},
   "source": [
    "Доходы представлены до уплаты налогов. Налоговая ставка - 13%. Вычислите матрицу доходов семьи Ивановых после уплаты налогов.\n",
    "\n",
    "Используйте матрицу Inc из предыдущего вопроса, где расходы расположены по столбцам. В ответ запишите элементы из 1 строки этой матрицы через запятую (без пробела):"
   ]
  },
  {
   "cell_type": "code",
   "execution_count": 16,
   "metadata": {},
   "outputs": [],
   "source": [
    "After_Taxes = Inc * 0.87"
   ]
  },
  {
   "cell_type": "markdown",
   "metadata": {},
   "source": [
    "Вычислите матрицу P, которая покажет баланс семьи Ивановых за один месяц (то есть разницу между доходами и расходами)"
   ]
  },
  {
   "cell_type": "code",
   "execution_count": 17,
   "metadata": {},
   "outputs": [
    {
     "output_type": "execute_result",
     "data": {
      "text/plain": "array([[ 37. ,  30.5, -21.7],\n       [141.4,  94. ,  49.6],\n       [ 61.8, -26.9, -53. ]])"
     },
     "metadata": {},
     "execution_count": 17
    }
   ],
   "source": [
    "After_Taxes - Cons"
   ]
  },
  {
   "cell_type": "markdown",
   "metadata": {},
   "source": [
    "В произведении C = AB матриц"
   ]
  },
  {
   "cell_type": "code",
   "execution_count": 18,
   "metadata": {
    "tags": []
   },
   "outputs": [
    {
     "output_type": "stream",
     "name": "stdout",
     "text": "[[ 3  4  5  7]\n [11  8 17  0]\n [ 4  3  5  0]]\nC12:  4\nC34:  0\n"
    }
   ],
   "source": [
    "A = np.array([\n",
    "    [1, -1, 2, 4, 0],\n",
    "    [8, 2, 0, 5, 3],\n",
    "    [0, 1, 2, 1, 2]])\n",
    "    \n",
    "B = np.array([\n",
    "    [1, 0, 1, 0],\n",
    "    [0, 0, 2, -1],\n",
    "    [1, 0, 1, 1],\n",
    "    [0, 1, 1, 1,],\n",
    "    [1, 1, 0, -1]])\n",
    "\n",
    "C = np.dot(A, B)\n",
    "print(C)\n",
    "print('C12: ', C[0,1])\n",
    "print('C34: ', C[2,3])"
   ]
  },
  {
   "cell_type": "markdown",
   "metadata": {
    "tags": []
   },
   "source": [
    "## Практика. Умножение матриц\n",
    "### Даны матрица A и вектор x."
   ]
  },
  {
   "cell_type": "code",
   "execution_count": 19,
   "metadata": {
    "tags": []
   },
   "outputs": [
    {
     "output_type": "stream",
     "name": "stdout",
     "text": "A: [[ 5 -1  3  1  2]\n [-2  8  5 -1  1]]\nx: [1 2 3 4 5]\n"
    }
   ],
   "source": [
    "A = np.array([[5,-1,3,1,2], [-2,8,5,-1,1]])\n",
    "x = np.array([1,2,3,4,5])\n",
    "\n",
    "print('A:', A)\n",
    "print('x:', x)"
   ]
  },
  {
   "cell_type": "markdown",
   "metadata": {},
   "source": [
    "Найдите произведение матрицы  и вектора  в том порядке, в котором их можно умножить."
   ]
  },
  {
   "cell_type": "code",
   "execution_count": 20,
   "metadata": {},
   "outputs": [
    {
     "output_type": "execute_result",
     "data": {
      "text/plain": "array([26, 30])"
     },
     "metadata": {},
     "execution_count": 20
    }
   ],
   "source": [
    "A@x"
   ]
  },
  {
   "cell_type": "markdown",
   "metadata": {},
   "source": [
    "### Даны две матрицы:"
   ]
  },
  {
   "cell_type": "code",
   "execution_count": 21,
   "metadata": {
    "tags": []
   },
   "outputs": [
    {
     "output_type": "stream",
     "name": "stdout",
     "text": "A: [[1 9 8 5]\n [3 6 3 2]\n [3 3 3 3]\n [0 2 5 9]\n [4 4 1 2]]\nB: [[ 1 -1  0  1  1]\n [-2  0  2 -1  1]]\n"
    }
   ],
   "source": [
    "A = np.array([[1,9,8,5], [3,6,3,2], [3,3,3,3], [0,2,5,9], [4,4,1,2]])\n",
    "B = np.array([[1,-1,0,1,1], [-2,0,2,-1,1]])\n",
    "\n",
    "print('A:', A)\n",
    "print('B:', B)"
   ]
  },
  {
   "cell_type": "code",
   "execution_count": 22,
   "metadata": {},
   "outputs": [
    {
     "output_type": "execute_result",
     "data": {
      "text/plain": "array([[  2,   9,  11,  14],\n       [  8, -10, -14, -11]])"
     },
     "metadata": {},
     "execution_count": 22
    }
   ],
   "source": [
    "B@A"
   ]
  },
  {
   "cell_type": "markdown",
   "metadata": {},
   "source": [
    "## Дана система векторов:"
   ]
  },
  {
   "cell_type": "code",
   "execution_count": 23,
   "metadata": {},
   "outputs": [],
   "source": [
    "x = np.array([1,2,1,0,4])\n",
    "y = np.array([2,1,-1,1,0])\n",
    "z = np.array([-1,1,-1,0,0])"
   ]
  },
  {
   "cell_type": "markdown",
   "metadata": {},
   "source": [
    "Найдите матрицу Грама системы векторов "
   ]
  },
  {
   "cell_type": "code",
   "execution_count": 24,
   "metadata": {},
   "outputs": [
    {
     "output_type": "execute_result",
     "data": {
      "text/plain": "array([[22,  3,  0],\n       [ 3,  7,  0],\n       [ 0,  0,  3]])"
     },
     "metadata": {},
     "execution_count": 24
    }
   ],
   "source": [
    "xyz_m = np.array([x, y, z])\n",
    "xyz_m@xyz_m.T\n"
   ]
  },
  {
   "cell_type": "markdown",
   "metadata": {},
   "source": [
    "## Задача 4. Условие\n",
    "\n",
    "В салоне красоты «Феи ножниц» работает 8 стилистов: Аня, Борис, Вика, Галя, Дима, Егор, Женя и Юра.\n",
    "\n",
    "В dataframe Count_DF содержится информация по количеству услуг, оказанных каждым стилистом за апрель.\n",
    "\n",
    "В dataframe Price_DF содержится информация по стоимости услуг у каждого стилиста в тысячах рублей."
   ]
  },
  {
   "cell_type": "code",
   "execution_count": 25,
   "metadata": {},
   "outputs": [
    {
     "output_type": "display_data",
     "data": {
      "text/plain": "       Женские стрижки  Мужские стрижки  Окрашивания  Укладка  Уход\nАня                 10                5           12       15    10\nБорис                2               21            3       25     6\nВика                12               12            0       30     4\nГаля                 4                8           18       14     5\nДима                 6               25           27       25    18\nЕгор                10                3            2       17    12\nЖеня                22                1            4       25    20\nЮра                  7                0           31       31    28",
      "text/html": "<div>\n<style scoped>\n    .dataframe tbody tr th:only-of-type {\n        vertical-align: middle;\n    }\n\n    .dataframe tbody tr th {\n        vertical-align: top;\n    }\n\n    .dataframe thead th {\n        text-align: right;\n    }\n</style>\n<table border=\"1\" class=\"dataframe\">\n  <thead>\n    <tr style=\"text-align: right;\">\n      <th></th>\n      <th>Женские стрижки</th>\n      <th>Мужские стрижки</th>\n      <th>Окрашивания</th>\n      <th>Укладка</th>\n      <th>Уход</th>\n    </tr>\n  </thead>\n  <tbody>\n    <tr>\n      <th>Аня</th>\n      <td>10</td>\n      <td>5</td>\n      <td>12</td>\n      <td>15</td>\n      <td>10</td>\n    </tr>\n    <tr>\n      <th>Борис</th>\n      <td>2</td>\n      <td>21</td>\n      <td>3</td>\n      <td>25</td>\n      <td>6</td>\n    </tr>\n    <tr>\n      <th>Вика</th>\n      <td>12</td>\n      <td>12</td>\n      <td>0</td>\n      <td>30</td>\n      <td>4</td>\n    </tr>\n    <tr>\n      <th>Галя</th>\n      <td>4</td>\n      <td>8</td>\n      <td>18</td>\n      <td>14</td>\n      <td>5</td>\n    </tr>\n    <tr>\n      <th>Дима</th>\n      <td>6</td>\n      <td>25</td>\n      <td>27</td>\n      <td>25</td>\n      <td>18</td>\n    </tr>\n    <tr>\n      <th>Егор</th>\n      <td>10</td>\n      <td>3</td>\n      <td>2</td>\n      <td>17</td>\n      <td>12</td>\n    </tr>\n    <tr>\n      <th>Женя</th>\n      <td>22</td>\n      <td>1</td>\n      <td>4</td>\n      <td>25</td>\n      <td>20</td>\n    </tr>\n    <tr>\n      <th>Юра</th>\n      <td>7</td>\n      <td>0</td>\n      <td>31</td>\n      <td>31</td>\n      <td>28</td>\n    </tr>\n  </tbody>\n</table>\n</div>"
     },
     "metadata": {}
    },
    {
     "output_type": "display_data",
     "data": {
      "text/plain": "       Женские стрижки  Мужские стрижки  Окрашивания  Укладка  Уход\nАня                2.0              1.5          1.0      0.8   1.0\nБорис              1.8              2.5          1.0      1.0   1.0\nВика               2.0              2.0          0.0      0.5   2.0\nГаля               1.8              1.2          2.8      0.8   2.0\nДима               2.5              3.5          2.0      1.0   1.5\nЕгор               5.0              5.0          3.0      2.0   2.5\nЖеня               1.1              1.0          1.5      0.5   1.7\nЮра                4.5              4.0          2.5      1.0   2.0",
      "text/html": "<div>\n<style scoped>\n    .dataframe tbody tr th:only-of-type {\n        vertical-align: middle;\n    }\n\n    .dataframe tbody tr th {\n        vertical-align: top;\n    }\n\n    .dataframe thead th {\n        text-align: right;\n    }\n</style>\n<table border=\"1\" class=\"dataframe\">\n  <thead>\n    <tr style=\"text-align: right;\">\n      <th></th>\n      <th>Женские стрижки</th>\n      <th>Мужские стрижки</th>\n      <th>Окрашивания</th>\n      <th>Укладка</th>\n      <th>Уход</th>\n    </tr>\n  </thead>\n  <tbody>\n    <tr>\n      <th>Аня</th>\n      <td>2.0</td>\n      <td>1.5</td>\n      <td>1.0</td>\n      <td>0.8</td>\n      <td>1.0</td>\n    </tr>\n    <tr>\n      <th>Борис</th>\n      <td>1.8</td>\n      <td>2.5</td>\n      <td>1.0</td>\n      <td>1.0</td>\n      <td>1.0</td>\n    </tr>\n    <tr>\n      <th>Вика</th>\n      <td>2.0</td>\n      <td>2.0</td>\n      <td>0.0</td>\n      <td>0.5</td>\n      <td>2.0</td>\n    </tr>\n    <tr>\n      <th>Галя</th>\n      <td>1.8</td>\n      <td>1.2</td>\n      <td>2.8</td>\n      <td>0.8</td>\n      <td>2.0</td>\n    </tr>\n    <tr>\n      <th>Дима</th>\n      <td>2.5</td>\n      <td>3.5</td>\n      <td>2.0</td>\n      <td>1.0</td>\n      <td>1.5</td>\n    </tr>\n    <tr>\n      <th>Егор</th>\n      <td>5.0</td>\n      <td>5.0</td>\n      <td>3.0</td>\n      <td>2.0</td>\n      <td>2.5</td>\n    </tr>\n    <tr>\n      <th>Женя</th>\n      <td>1.1</td>\n      <td>1.0</td>\n      <td>1.5</td>\n      <td>0.5</td>\n      <td>1.7</td>\n    </tr>\n    <tr>\n      <th>Юра</th>\n      <td>4.5</td>\n      <td>4.0</td>\n      <td>2.5</td>\n      <td>1.0</td>\n      <td>2.0</td>\n    </tr>\n  </tbody>\n</table>\n</div>"
     },
     "metadata": {}
    }
   ],
   "source": [
    "import pandas as pd\n",
    "\n",
    "Count_DF = pd.DataFrame({'Женские стрижки': [10, 2, 12, 4, 6, 10, 22, 7], \n",
    "                                'Мужские стрижки': [5, 21, 12, 8, 25, 3, 1, 0], \n",
    "                                'Окрашивания':[12, 3, 0, 18, 27, 2, 4, 31],\n",
    "                              'Укладка':[15, 25, 30, 14, 25, 17, 25, 31],\n",
    "                                'Уход':[10, 6, 4, 5, 18, 12, 20, 28]\n",
    "                                }, \n",
    "                               index=['Аня', 'Борис', 'Вика', 'Галя', 'Дима', 'Егор', 'Женя','Юра'])\n",
    "display(Count_DF)\n",
    "\n",
    "Price_DF = pd.DataFrame({'Женские стрижки': [2, 1.8, 2, 1.8, 2.5, 5, 1.1, 4.5], \n",
    "                                'Мужские стрижки': [1.5, 2.5, 2, 1.2, 3.5, 5, 1, 4], \n",
    "                                'Окрашивания':[1, 1, 0, 2.8, 2, 3, 1.5, 2.5],\n",
    "                              'Укладка':[0.8, 1, 0.5, 0.8, 1, 2, 0.5, 1],\n",
    "                                'Уход':[1, 1, 2, 2, 1.5, 2.5, 1.7, 2] \n",
    "                                }, \n",
    "                               index=['Аня', 'Борис', 'Вика', 'Галя', 'Дима', 'Егор', 'Женя','Юра'])\n",
    "display(Price_DF)"
   ]
  },
  {
   "cell_type": "markdown",
   "metadata": {},
   "source": [
    "Найдите вектор выручки Бориса."
   ]
  },
  {
   "cell_type": "code",
   "execution_count": 26,
   "metadata": {},
   "outputs": [
    {
     "output_type": "execute_result",
     "data": {
      "text/plain": "array([ 3.6, 52.5,  3. , 25. ,  6. ])"
     },
     "metadata": {},
     "execution_count": 26
    }
   ],
   "source": [
    "boris_count = Count_DF.loc['Борис'].values\n",
    "boris_price = Price_DF.loc['Борис'].values\n",
    "\n",
    "boris_count * boris_price"
   ]
  },
  {
   "cell_type": "markdown",
   "metadata": {},
   "source": [
    "Найдите вектор прибыли салона по стилистам, если за каждую услугу стилисты платят определенную комиссию салону.\n",
    "Вектор комиссий com = [0.2, 0.2, 0.3, 0.1, 0.1]"
   ]
  },
  {
   "cell_type": "code",
   "execution_count": 28,
   "metadata": {},
   "outputs": [
    {
     "output_type": "display_data",
     "data": {
      "text/plain": "array([[20. ,  7.5, 12. , 12. , 10. ],\n       [ 3.6, 52.5,  3. , 25. ,  6. ],\n       [24. , 24. ,  0. , 15. ,  8. ],\n       [ 7.2,  9.6, 50.4, 11.2, 10. ],\n       [15. , 87.5, 54. , 25. , 27. ],\n       [50. , 15. ,  6. , 34. , 30. ],\n       [24.2,  1. ,  6. , 12.5, 34. ],\n       [31.5,  0. , 77.5, 31. , 56. ]])"
     },
     "metadata": {}
    }
   ],
   "source": [
    "com = np.array([0.2, 0.2, 0.3, 0.1, 0.1])\n",
    "\n",
    "profit = Count_DF.values * Price_DF.values\n",
    "display(profit)"
   ]
  },
  {
   "cell_type": "code",
   "execution_count": 31,
   "metadata": {
    "tags": []
   },
   "outputs": [
    {
     "output_type": "stream",
     "name": "stdout",
     "text": "[11.3  15.22 11.9  20.6  41.9  21.2  11.49 38.25]\n"
    }
   ],
   "source": [
    "salon_com = profit @ com\n",
    "print(salon_com)"
   ]
  },
  {
   "cell_type": "code",
   "execution_count": 35,
   "metadata": {
    "tags": []
   },
   "outputs": [
    {
     "output_type": "stream",
     "name": "stdout",
     "text": "[ 50.2   74.88  59.1   67.8  166.6  113.8   66.21 157.75]\n"
    }
   ],
   "source": [
    "stylist_profit = profit @ (1 - com)\n",
    "print(stylist_profit)"
   ]
  },
  {
   "cell_type": "markdown",
   "metadata": {},
   "source": [
    "## Обратная матрица"
   ]
  },
  {
   "cell_type": "code",
   "execution_count": 39,
   "metadata": {},
   "outputs": [
    {
     "output_type": "execute_result",
     "data": {
      "text/plain": "array([[ 5., -2.],\n       [-2.,  1.]])"
     },
     "metadata": {},
     "execution_count": 39
    }
   ],
   "source": [
    "A = np.array([[1,2], [2,5]])\n",
    "np.linalg.inv(A)"
   ]
  },
  {
   "cell_type": "code",
   "execution_count": 42,
   "metadata": {
    "tags": []
   },
   "outputs": [
    {
     "output_type": "stream",
     "name": "stdout",
     "text": "deta(A):  7.999999999999998\ndeta(A):  0.12500000000000003\n"
    }
   ],
   "source": [
    "A = np.array([[2,0,0], [0,1,0], [0,0,4]])\n",
    "print('deta(A): ', np.linalg.det(A))\n",
    "print('deta(A): ', np.linalg.det(np.linalg.inv(A)))"
   ]
  },
  {
   "cell_type": "markdown",
   "metadata": {},
   "source": [
    "## Практика. Обратная матрица, ранг, определитель\n",
    "Дана матрица А"
   ]
  },
  {
   "cell_type": "code",
   "execution_count": 46,
   "metadata": {},
   "outputs": [
    {
     "output_type": "execute_result",
     "data": {
      "text/plain": "array([[ 8,  6, 11],\n       [ 7,  5,  9],\n       [ 6, 10,  6]])"
     },
     "metadata": {},
     "execution_count": 46
    }
   ],
   "source": [
    "A = np.array([[8, 6, 11], [7, 5, 9],[6, 10, 6]])\n",
    "A"
   ]
  },
  {
   "cell_type": "markdown",
   "metadata": {},
   "source": [
    "Найдите обратную матрицу к матрице А."
   ]
  },
  {
   "cell_type": "code",
   "execution_count": 47,
   "metadata": {},
   "outputs": [
    {
     "output_type": "execute_result",
     "data": {
      "text/plain": "array([[-1.875  ,  2.3125 , -0.03125],\n       [ 0.375  , -0.5625 ,  0.15625],\n       [ 1.25   , -1.375  , -0.0625 ]])"
     },
     "metadata": {},
     "execution_count": 47
    }
   ],
   "source": [
    "np.linalg.inv(A)"
   ]
  },
  {
   "cell_type": "markdown",
   "metadata": {},
   "source": [
    "Дана система векторов:"
   ]
  },
  {
   "cell_type": "code",
   "execution_count": 49,
   "metadata": {},
   "outputs": [],
   "source": [
    "v1 = np.array([9, 10, 7, 7, 9])\n",
    "v2 = np.array([2, 0, 5, 1, 4])\n",
    "v3 = np.array([4, 0, 0, 4, 1])\n",
    "v4 = np.array([3, -4, 3, -1, -4])"
   ]
  },
  {
   "cell_type": "markdown",
   "metadata": {},
   "source": [
    "Найдите ранг системы векторов v1, v2, v3, v4."
   ]
  },
  {
   "cell_type": "code",
   "execution_count": 50,
   "metadata": {},
   "outputs": [
    {
     "output_type": "execute_result",
     "data": {
      "text/plain": "4"
     },
     "metadata": {},
     "execution_count": 50
    }
   ],
   "source": [
    "v_sys = np.array([v1, v2, v3, v4])\n",
    "np.linalg.matrix_rank(v_sys)"
   ]
  },
  {
   "cell_type": "markdown",
   "metadata": {},
   "source": [
    "Найдите матрицу Грама системы векторов v1, v2, v3, v4."
   ]
  },
  {
   "cell_type": "code",
   "execution_count": 52,
   "metadata": {
    "tags": []
   },
   "outputs": [
    {
     "output_type": "stream",
     "name": "stdout",
     "text": "[[360  96  73 -35]\n [ 96  46  16   4]\n [ 73  16  33   4]\n [-35   4   4  51]]\n"
    }
   ],
   "source": [
    "v_gram = v_sys @ v_sys.T\n",
    "print(v_gram)"
   ]
  },
  {
   "cell_type": "markdown",
   "metadata": {},
   "source": [
    "Найдите определитель матрицы Грама системы v1, v2, v3, v4."
   ]
  },
  {
   "cell_type": "code",
   "execution_count": 53,
   "metadata": {},
   "outputs": [
    {
     "output_type": "execute_result",
     "data": {
      "text/plain": "3716647.9999999995"
     },
     "metadata": {},
     "execution_count": 53
    }
   ],
   "source": [
    "np.linalg.det(v_gram)"
   ]
  },
  {
   "cell_type": "markdown",
   "metadata": {},
   "source": [
    "Найдите обратную матрицу к матрице Грама системы v1, v2, v3, v4."
   ]
  },
  {
   "cell_type": "code",
   "execution_count": null,
   "metadata": {},
   "outputs": [],
   "source": [
    "np.linalg.inv(v_gram)"
   ]
  }
 ]
}