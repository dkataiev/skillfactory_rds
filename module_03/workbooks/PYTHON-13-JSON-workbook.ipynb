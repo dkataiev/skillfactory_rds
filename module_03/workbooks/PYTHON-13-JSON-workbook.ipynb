{
 "metadata": {
  "language_info": {
   "codemirror_mode": {
    "name": "ipython",
    "version": 3
   },
   "file_extension": ".py",
   "mimetype": "text/x-python",
   "name": "python",
   "nbconvert_exporter": "python",
   "pygments_lexer": "ipython3",
   "version": "3.7.6-final"
  },
  "orig_nbformat": 2,
  "kernelspec": {
   "name": "python3",
   "display_name": "Python 3"
  }
 },
 "nbformat": 4,
 "nbformat_minor": 2,
 "cells": [
  {
   "cell_type": "markdown",
   "metadata": {},
   "source": [
    "## JSON"
   ]
  },
  {
   "cell_type": "code",
   "execution_count": 3,
   "metadata": {},
   "outputs": [],
   "source": [
    "import json  \n",
    "from pprint import pprint"
   ]
  },
  {
   "cell_type": "markdown",
   "metadata": {},
   "source": [
    "Для выполнения десериализации мы воспользуемся методом load модуля json. В качестве параметра укажем ссылку на файл:"
   ]
  },
  {
   "cell_type": "code",
   "execution_count": 19,
   "metadata": {
    "tags": []
   },
   "outputs": [
    {
     "output_type": "stream",
     "name": "stdout",
     "text": "<class 'list'>\n500\n"
    }
   ],
   "source": [
    "with open('data/recipes.json') as f:\n",
    "    recipes = json.load(f)\n",
    "\n",
    "def get_recipe_by_id(id):\n",
    "    for recipe in recipes:\n",
    "        if recipe['id'] == id:\n",
    "            return recipe\n",
    "\n",
    "# pprint(recipes)\n",
    "\n",
    "print(type(recipes))\n",
    "print(len(recipes))"
   ]
  },
  {
   "cell_type": "markdown",
   "metadata": {},
   "source": [
    "Какую кухню (ключ 'cuisine') представляет последнее блюдо в списке recipes?"
   ]
  },
  {
   "cell_type": "code",
   "execution_count": 13,
   "metadata": {},
   "outputs": [
    {
     "output_type": "execute_result",
     "data": {
      "text/plain": "'british'"
     },
     "metadata": {},
     "execution_count": 13
    }
   ],
   "source": [
    "recipes[-1]['cuisine']"
   ]
  },
  {
   "cell_type": "markdown",
   "metadata": {},
   "source": [
    "Сколько ингредиентов входит в состав этого блюда?"
   ]
  },
  {
   "cell_type": "code",
   "execution_count": 15,
   "metadata": {},
   "outputs": [
    {
     "output_type": "execute_result",
     "data": {
      "text/plain": "17"
     },
     "metadata": {},
     "execution_count": 15
    }
   ],
   "source": [
    "len(recipes[-1]['ingredients'])"
   ]
  },
  {
   "cell_type": "markdown",
   "metadata": {},
   "source": [
    "Какие из перечисленных ингредиентов присутствуют в блюде с id = 17636?"
   ]
  },
  {
   "cell_type": "code",
   "execution_count": 20,
   "metadata": {
    "tags": []
   },
   "outputs": [
    {
     "output_type": "execute_result",
     "data": {
      "text/plain": "['tomato sauce',\n 'shredded carrots',\n 'spinach',\n 'part-skim mozzarella cheese',\n 'italian seasoning',\n 'english muffins, split and toasted',\n 'chopped onion',\n 'vegetable oil cooking spray',\n 'chopped green bell pepper']"
     },
     "metadata": {},
     "execution_count": 20
    }
   ],
   "source": [
    "get_recipe_by_id(17636)['ingredients']"
   ]
  },
  {
   "cell_type": "markdown",
   "metadata": {},
   "source": [
    "Сколько ингредиентов входит в состав рецепта для приготовления блюда с id = 42013?"
   ]
  },
  {
   "cell_type": "code",
   "execution_count": 21,
   "metadata": {},
   "outputs": [
    {
     "output_type": "execute_result",
     "data": {
      "text/plain": "14"
     },
     "metadata": {},
     "execution_count": 21
    }
   ],
   "source": [
    "len(get_recipe_by_id(42013)['ingredients'])"
   ]
  },
  {
   "cell_type": "markdown",
   "metadata": {},
   "source": [
    "Какие ингредиенты отсутствуют в блюде с id = 23629?"
   ]
  },
  {
   "cell_type": "code",
   "execution_count": 22,
   "metadata": {},
   "outputs": [
    {
     "output_type": "execute_result",
     "data": {
      "text/plain": "['eggs',\n 'russet potatoes',\n 'mexican chorizo',\n 'black beans',\n 'salsa',\n 'canola oil',\n 'colby cheese',\n 'black olives',\n 'sour cream',\n 'avocado',\n 'half & half',\n 'goat cheese']"
     },
     "metadata": {},
     "execution_count": 22
    }
   ],
   "source": [
    "get_recipe_by_id(23629)['ingredients']"
   ]
  },
  {
   "cell_type": "markdown",
   "metadata": {},
   "source": [
    "Сколько ингредиентов включено в состав всех блюд, описанных в наборе данных?"
   ]
  },
  {
   "cell_type": "code",
   "execution_count": 24,
   "metadata": {
    "tags": []
   },
   "outputs": [
    {
     "output_type": "stream",
     "name": "stdout",
     "text": "1318\n"
    }
   ],
   "source": [
    "ingredients = set()\n",
    "for recipe in recipes:\n",
    "    ingredients.update(recipe['ingredients'])\n",
    "print(len(ingredients))"
   ]
  },
  {
   "cell_type": "markdown",
   "metadata": {},
   "source": [
    "Сколько ингредиентов встречается в рецептах блюд итальянской кухни ('cuisine' = italian)?"
   ]
  },
  {
   "cell_type": "code",
   "execution_count": 25,
   "metadata": {
    "tags": []
   },
   "outputs": [
    {
     "output_type": "stream",
     "name": "stdout",
     "text": "406\n"
    }
   ],
   "source": [
    "italian_ingredients = set()\n",
    "for recipe in recipes:\n",
    "    if recipe['cuisine'] == 'italian':\n",
    "        italian_ingredients.update(recipe['ingredients'])\n",
    "print(len(italian_ingredients))"
   ]
  },
  {
   "cell_type": "markdown",
   "metadata": {},
   "source": [
    "Какие ингредиенты не встречаются в рецептах блюд русской кухни ('cuisine' = 'russian')?"
   ]
  },
  {
   "cell_type": "code",
   "execution_count": 26,
   "metadata": {
    "tags": []
   },
   "outputs": [
    {
     "output_type": "stream",
     "name": "stdout",
     "text": "{'red beets', 'onions', 'cucumber', 'dill', 'mozzarella cheese', 'grits', 'water', 'salt', 'sugar', 'boiled eggs', 'buttermilk'}\n"
    }
   ],
   "source": [
    "russian_ingredients = set()\n",
    "for recipe in recipes:\n",
    "    if recipe['cuisine'] == 'russian':\n",
    "        russian_ingredients.update(recipe['ingredients'])\n",
    "print(russian_ingredients)"
   ]
  },
  {
   "cell_type": "markdown",
   "metadata": {},
   "source": [
    "Давайте представим, что мы хотим заняться торговлей продуктами для ресторанов национальной кухни. Нам необходимо оценить, какие продукты используются в приготовлении блюд чаще, а какие — реже. Давайте попробуем решить эту задачу с использованием имеющегося у нас набора данных."
   ]
  },
  {
   "cell_type": "code",
   "execution_count": 29,
   "metadata": {},
   "outputs": [],
   "source": [
    "food = {}\n",
    "for item in ingredients:\n",
    "   food[item] = 0\n",
    "for recipe in recipes:\n",
    "    for item in recipe['ingredients']:\n",
    "        food[item] += 1"
   ]
  },
  {
   "cell_type": "markdown",
   "metadata": {},
   "source": [
    "Какие ингредиенты входят в состав более чем 20% блюд, представленных в наборе данных?\n",
    "\n",
    "Подсказка: Напоминаем, что весь набор данных содержит сведения о 500 блюдах."
   ]
  },
  {
   "cell_type": "code",
   "execution_count": 30,
   "metadata": {
    "tags": []
   },
   "outputs": [
    {
     "output_type": "stream",
     "name": "stdout",
     "text": "False\nFalse\nTrue\nTrue\nFalse\n"
    }
   ],
   "source": [
    "print(food['water'] > 100)\n",
    "print(food['olive oil'] > 100)\n",
    "print(food['salt'] > 100)\n",
    "print(food['garlic'] > 100)\n",
    "print(food['pepper'] > 100)"
   ]
  },
  {
   "cell_type": "markdown",
   "metadata": {},
   "source": [
    "Какой ингредиент входит в состав самого большого количества блюд?"
   ]
  },
  {
   "cell_type": "code",
   "execution_count": 37,
   "metadata": {},
   "outputs": [
    {
     "output_type": "execute_result",
     "data": {
      "text/plain": "'salt'"
     },
     "metadata": {},
     "execution_count": 37
    }
   ],
   "source": [
    "most_popular = None\n",
    "dishes_count = 0\n",
    "for ingredient in food:\n",
    "    if food[ingredient] > dishes_count:\n",
    "        most_popular = ingredient\n",
    "        dishes_count = food[most_popular]\n",
    "\n",
    "most_popular"
   ]
  },
  {
   "cell_type": "markdown",
   "metadata": {},
   "source": [
    "Сколько ингредиентов входит в состав только одного блюда?"
   ]
  },
  {
   "cell_type": "code",
   "execution_count": 39,
   "metadata": {},
   "outputs": [
    {
     "output_type": "execute_result",
     "data": {
      "text/plain": "684"
     },
     "metadata": {},
     "execution_count": 39
    }
   ],
   "source": [
    "singletons = 0\n",
    "for ingredient in food:\n",
    "    if food[ingredient] == 1:\n",
    "        singletons += 1\n",
    "\n",
    "singletons"
   ]
  },
  {
   "cell_type": "code",
   "execution_count": 56,
   "metadata": {
    "tags": []
   },
   "outputs": [
    {
     "output_type": "stream",
     "name": "stdout",
     "text": "<class 'pandas.core.frame.DataFrame'>\nRangeIndex: 500 entries, 0 to 499\nData columns (total 3 columns):\n #   Column       Non-Null Count  Dtype \n---  ------       --------------  ----- \n 0   id           500 non-null    int64 \n 1   cuisine      500 non-null    object\n 2   ingredients  500 non-null    object\ndtypes: int64(1), object(2)\nmemory usage: 11.8+ KB\nNone\n"
    },
    {
     "output_type": "execute_result",
     "data": {
      "text/plain": "      id      cuisine                                        ingredients\n0  10259        greek  [romaine lettuce, black olives, grape tomatoes...\n1  25693  southern_us  [plain flour, ground pepper, salt, tomatoes, g...\n2  20130     filipino  [eggs, pepper, salt, mayonaise, cooking oil, g...\n3  22213       indian                [water, vegetable oil, wheat, salt]\n4  13162       indian  [black pepper, shallots, cornflour, cayenne pe...",
      "text/html": "<div>\n<style scoped>\n    .dataframe tbody tr th:only-of-type {\n        vertical-align: middle;\n    }\n\n    .dataframe tbody tr th {\n        vertical-align: top;\n    }\n\n    .dataframe thead th {\n        text-align: right;\n    }\n</style>\n<table border=\"1\" class=\"dataframe\">\n  <thead>\n    <tr style=\"text-align: right;\">\n      <th></th>\n      <th>id</th>\n      <th>cuisine</th>\n      <th>ingredients</th>\n    </tr>\n  </thead>\n  <tbody>\n    <tr>\n      <th>0</th>\n      <td>10259</td>\n      <td>greek</td>\n      <td>[romaine lettuce, black olives, grape tomatoes...</td>\n    </tr>\n    <tr>\n      <th>1</th>\n      <td>25693</td>\n      <td>southern_us</td>\n      <td>[plain flour, ground pepper, salt, tomatoes, g...</td>\n    </tr>\n    <tr>\n      <th>2</th>\n      <td>20130</td>\n      <td>filipino</td>\n      <td>[eggs, pepper, salt, mayonaise, cooking oil, g...</td>\n    </tr>\n    <tr>\n      <th>3</th>\n      <td>22213</td>\n      <td>indian</td>\n      <td>[water, vegetable oil, wheat, salt]</td>\n    </tr>\n    <tr>\n      <th>4</th>\n      <td>13162</td>\n      <td>indian</td>\n      <td>[black pepper, shallots, cornflour, cayenne pe...</td>\n    </tr>\n  </tbody>\n</table>\n</div>"
     },
     "metadata": {},
     "execution_count": 56
    }
   ],
   "source": [
    "import pandas as pd\n",
    "df = pd.DataFrame(recipes)\n",
    "print(df.info())\n",
    "df.head()\n"
   ]
  },
  {
   "cell_type": "markdown",
   "metadata": {},
   "source": [
    "Работу над созданием датафрейма мы начнём с создания и заполнения столбцов, содержащих сведения о наличии или отсутствии каждого ингредиента в рецепте. Процесс заполнения  будем проводить в два этапа: \n",
    "\n",
    "1. Создадим функцию для заполнения значения в каждой ячейке. Функция будет проверять наличие конкретного ингредиента в столбце 'ingredients' для текущего блюда и возвращать 1, если ингредиент есть в рецепте, и 0, если он отсутствует.\n",
    "2. Организуем цикл с параметром, в котором будем перебирать наименования всех ингредиентов. Для каждого ингредиента создадим в датафрейме столбец с соответствующим названием и заполним его единичками и нулями, применив к датафрейму, а точнее, к столбцу 'ingredients', функцию, созданную нами на предыдущем шаге.\n",
    "\n",
    "Код функции, с помощью которой мы будем создавать новые столбцы и заполнять их значениями, могут выглядеть следующим образом:"
   ]
  },
  {
   "cell_type": "code",
   "execution_count": 58,
   "metadata": {},
   "outputs": [],
   "source": [
    "def find_item(cell):\n",
    "    if item in cell:\n",
    "        return 1\n",
    "    return 0"
   ]
  },
  {
   "cell_type": "markdown",
   "metadata": {},
   "source": [
    "Теперь перейдём к созданию кода, в котором будут создаваться столбцы с информацией о наличии или отсутствии того или иного ингредиента в конкретном рецепте:"
   ]
  },
  {
   "cell_type": "code",
   "execution_count": 59,
   "metadata": {},
   "outputs": [
    {
     "output_type": "execute_result",
     "data": {
      "text/plain": "      id      cuisine                                        ingredients  \\\n0  10259        greek  [romaine lettuce, black olives, grape tomatoes...   \n1  25693  southern_us  [plain flour, ground pepper, salt, tomatoes, g...   \n2  20130     filipino  [eggs, pepper, salt, mayonaise, cooking oil, g...   \n3  22213       indian                [water, vegetable oil, wheat, salt]   \n4  13162       indian  [black pepper, shallots, cornflour, cayenne pe...   \n\n   diced tomatoes  great northern beans  shredded cheese  \\\n0               0                     0                0   \n1               0                     0                0   \n2               0                     0                0   \n3               0                     0                0   \n4               0                     0                0   \n\n   unsalted dry roast peanuts  bread slices  zinfandel  \\\n0                           0             0          0   \n1                           0             0          0   \n2                           0             0          0   \n3                           0             0          0   \n4                           0             0          0   \n\n   reduced sodium soy sauce  ...  white radish  ranch dressing  spinach  \\\n0                         0  ...             0               0        0   \n1                         0  ...             0               0        0   \n2                         0  ...             0               0        0   \n3                         0  ...             0               0        0   \n4                         0  ...             0               0        0   \n\n   rice cakes  wasabi  radicchio  roasted garlic  spinach leaves  \\\n0           0       0          0               0               0   \n1           0       0          0               0               0   \n2           0       0          0               0               0   \n3           0       0          0               0               0   \n4           0       0          0               0               0   \n\n   iceberg lettuce  dried tart cherries  \n0                0                    0  \n1                0                    0  \n2                0                    0  \n3                0                    0  \n4                0                    0  \n\n[5 rows x 1321 columns]",
      "text/html": "<div>\n<style scoped>\n    .dataframe tbody tr th:only-of-type {\n        vertical-align: middle;\n    }\n\n    .dataframe tbody tr th {\n        vertical-align: top;\n    }\n\n    .dataframe thead th {\n        text-align: right;\n    }\n</style>\n<table border=\"1\" class=\"dataframe\">\n  <thead>\n    <tr style=\"text-align: right;\">\n      <th></th>\n      <th>id</th>\n      <th>cuisine</th>\n      <th>ingredients</th>\n      <th>diced tomatoes</th>\n      <th>great northern beans</th>\n      <th>shredded cheese</th>\n      <th>unsalted dry roast peanuts</th>\n      <th>bread slices</th>\n      <th>zinfandel</th>\n      <th>reduced sodium soy sauce</th>\n      <th>...</th>\n      <th>white radish</th>\n      <th>ranch dressing</th>\n      <th>spinach</th>\n      <th>rice cakes</th>\n      <th>wasabi</th>\n      <th>radicchio</th>\n      <th>roasted garlic</th>\n      <th>spinach leaves</th>\n      <th>iceberg lettuce</th>\n      <th>dried tart cherries</th>\n    </tr>\n  </thead>\n  <tbody>\n    <tr>\n      <th>0</th>\n      <td>10259</td>\n      <td>greek</td>\n      <td>[romaine lettuce, black olives, grape tomatoes...</td>\n      <td>0</td>\n      <td>0</td>\n      <td>0</td>\n      <td>0</td>\n      <td>0</td>\n      <td>0</td>\n      <td>0</td>\n      <td>...</td>\n      <td>0</td>\n      <td>0</td>\n      <td>0</td>\n      <td>0</td>\n      <td>0</td>\n      <td>0</td>\n      <td>0</td>\n      <td>0</td>\n      <td>0</td>\n      <td>0</td>\n    </tr>\n    <tr>\n      <th>1</th>\n      <td>25693</td>\n      <td>southern_us</td>\n      <td>[plain flour, ground pepper, salt, tomatoes, g...</td>\n      <td>0</td>\n      <td>0</td>\n      <td>0</td>\n      <td>0</td>\n      <td>0</td>\n      <td>0</td>\n      <td>0</td>\n      <td>...</td>\n      <td>0</td>\n      <td>0</td>\n      <td>0</td>\n      <td>0</td>\n      <td>0</td>\n      <td>0</td>\n      <td>0</td>\n      <td>0</td>\n      <td>0</td>\n      <td>0</td>\n    </tr>\n    <tr>\n      <th>2</th>\n      <td>20130</td>\n      <td>filipino</td>\n      <td>[eggs, pepper, salt, mayonaise, cooking oil, g...</td>\n      <td>0</td>\n      <td>0</td>\n      <td>0</td>\n      <td>0</td>\n      <td>0</td>\n      <td>0</td>\n      <td>0</td>\n      <td>...</td>\n      <td>0</td>\n      <td>0</td>\n      <td>0</td>\n      <td>0</td>\n      <td>0</td>\n      <td>0</td>\n      <td>0</td>\n      <td>0</td>\n      <td>0</td>\n      <td>0</td>\n    </tr>\n    <tr>\n      <th>3</th>\n      <td>22213</td>\n      <td>indian</td>\n      <td>[water, vegetable oil, wheat, salt]</td>\n      <td>0</td>\n      <td>0</td>\n      <td>0</td>\n      <td>0</td>\n      <td>0</td>\n      <td>0</td>\n      <td>0</td>\n      <td>...</td>\n      <td>0</td>\n      <td>0</td>\n      <td>0</td>\n      <td>0</td>\n      <td>0</td>\n      <td>0</td>\n      <td>0</td>\n      <td>0</td>\n      <td>0</td>\n      <td>0</td>\n    </tr>\n    <tr>\n      <th>4</th>\n      <td>13162</td>\n      <td>indian</td>\n      <td>[black pepper, shallots, cornflour, cayenne pe...</td>\n      <td>0</td>\n      <td>0</td>\n      <td>0</td>\n      <td>0</td>\n      <td>0</td>\n      <td>0</td>\n      <td>0</td>\n      <td>...</td>\n      <td>0</td>\n      <td>0</td>\n      <td>0</td>\n      <td>0</td>\n      <td>0</td>\n      <td>0</td>\n      <td>0</td>\n      <td>0</td>\n      <td>0</td>\n      <td>0</td>\n    </tr>\n  </tbody>\n</table>\n<p>5 rows × 1321 columns</p>\n</div>"
     },
     "metadata": {},
     "execution_count": 59
    }
   ],
   "source": [
    "for item in ingredients:\n",
    "    df[item] = df['ingredients'].apply(find_item)\n",
    "df.head()"
   ]
  },
  {
   "cell_type": "markdown",
   "metadata": {},
   "source": [
    "В завершение изменим значение столбца ingredients, заполнив его данными о количестве ингредиентов в каждом рецепте:"
   ]
  },
  {
   "cell_type": "code",
   "execution_count": 60,
   "metadata": {},
   "outputs": [
    {
     "output_type": "execute_result",
     "data": {
      "text/plain": "      id      cuisine  ingredients  diced tomatoes  great northern beans  \\\n0  10259        greek            9               0                     0   \n1  25693  southern_us           11               0                     0   \n2  20130     filipino           12               0                     0   \n3  22213       indian            4               0                     0   \n4  13162       indian           20               0                     0   \n\n   shredded cheese  unsalted dry roast peanuts  bread slices  zinfandel  \\\n0                0                           0             0          0   \n1                0                           0             0          0   \n2                0                           0             0          0   \n3                0                           0             0          0   \n4                0                           0             0          0   \n\n   reduced sodium soy sauce  ...  white radish  ranch dressing  spinach  \\\n0                         0  ...             0               0        0   \n1                         0  ...             0               0        0   \n2                         0  ...             0               0        0   \n3                         0  ...             0               0        0   \n4                         0  ...             0               0        0   \n\n   rice cakes  wasabi  radicchio  roasted garlic  spinach leaves  \\\n0           0       0          0               0               0   \n1           0       0          0               0               0   \n2           0       0          0               0               0   \n3           0       0          0               0               0   \n4           0       0          0               0               0   \n\n   iceberg lettuce  dried tart cherries  \n0                0                    0  \n1                0                    0  \n2                0                    0  \n3                0                    0  \n4                0                    0  \n\n[5 rows x 1321 columns]",
      "text/html": "<div>\n<style scoped>\n    .dataframe tbody tr th:only-of-type {\n        vertical-align: middle;\n    }\n\n    .dataframe tbody tr th {\n        vertical-align: top;\n    }\n\n    .dataframe thead th {\n        text-align: right;\n    }\n</style>\n<table border=\"1\" class=\"dataframe\">\n  <thead>\n    <tr style=\"text-align: right;\">\n      <th></th>\n      <th>id</th>\n      <th>cuisine</th>\n      <th>ingredients</th>\n      <th>diced tomatoes</th>\n      <th>great northern beans</th>\n      <th>shredded cheese</th>\n      <th>unsalted dry roast peanuts</th>\n      <th>bread slices</th>\n      <th>zinfandel</th>\n      <th>reduced sodium soy sauce</th>\n      <th>...</th>\n      <th>white radish</th>\n      <th>ranch dressing</th>\n      <th>spinach</th>\n      <th>rice cakes</th>\n      <th>wasabi</th>\n      <th>radicchio</th>\n      <th>roasted garlic</th>\n      <th>spinach leaves</th>\n      <th>iceberg lettuce</th>\n      <th>dried tart cherries</th>\n    </tr>\n  </thead>\n  <tbody>\n    <tr>\n      <th>0</th>\n      <td>10259</td>\n      <td>greek</td>\n      <td>9</td>\n      <td>0</td>\n      <td>0</td>\n      <td>0</td>\n      <td>0</td>\n      <td>0</td>\n      <td>0</td>\n      <td>0</td>\n      <td>...</td>\n      <td>0</td>\n      <td>0</td>\n      <td>0</td>\n      <td>0</td>\n      <td>0</td>\n      <td>0</td>\n      <td>0</td>\n      <td>0</td>\n      <td>0</td>\n      <td>0</td>\n    </tr>\n    <tr>\n      <th>1</th>\n      <td>25693</td>\n      <td>southern_us</td>\n      <td>11</td>\n      <td>0</td>\n      <td>0</td>\n      <td>0</td>\n      <td>0</td>\n      <td>0</td>\n      <td>0</td>\n      <td>0</td>\n      <td>...</td>\n      <td>0</td>\n      <td>0</td>\n      <td>0</td>\n      <td>0</td>\n      <td>0</td>\n      <td>0</td>\n      <td>0</td>\n      <td>0</td>\n      <td>0</td>\n      <td>0</td>\n    </tr>\n    <tr>\n      <th>2</th>\n      <td>20130</td>\n      <td>filipino</td>\n      <td>12</td>\n      <td>0</td>\n      <td>0</td>\n      <td>0</td>\n      <td>0</td>\n      <td>0</td>\n      <td>0</td>\n      <td>0</td>\n      <td>...</td>\n      <td>0</td>\n      <td>0</td>\n      <td>0</td>\n      <td>0</td>\n      <td>0</td>\n      <td>0</td>\n      <td>0</td>\n      <td>0</td>\n      <td>0</td>\n      <td>0</td>\n    </tr>\n    <tr>\n      <th>3</th>\n      <td>22213</td>\n      <td>indian</td>\n      <td>4</td>\n      <td>0</td>\n      <td>0</td>\n      <td>0</td>\n      <td>0</td>\n      <td>0</td>\n      <td>0</td>\n      <td>0</td>\n      <td>...</td>\n      <td>0</td>\n      <td>0</td>\n      <td>0</td>\n      <td>0</td>\n      <td>0</td>\n      <td>0</td>\n      <td>0</td>\n      <td>0</td>\n      <td>0</td>\n      <td>0</td>\n    </tr>\n    <tr>\n      <th>4</th>\n      <td>13162</td>\n      <td>indian</td>\n      <td>20</td>\n      <td>0</td>\n      <td>0</td>\n      <td>0</td>\n      <td>0</td>\n      <td>0</td>\n      <td>0</td>\n      <td>0</td>\n      <td>...</td>\n      <td>0</td>\n      <td>0</td>\n      <td>0</td>\n      <td>0</td>\n      <td>0</td>\n      <td>0</td>\n      <td>0</td>\n      <td>0</td>\n      <td>0</td>\n      <td>0</td>\n    </tr>\n  </tbody>\n</table>\n<p>5 rows × 1321 columns</p>\n</div>"
     },
     "metadata": {},
     "execution_count": 60
    }
   ],
   "source": [
    "df['ingredients'] = df['ingredients'].apply(lambda x: len(x))\n",
    "df.head()"
   ]
  },
  {
   "cell_type": "code",
   "execution_count": 62,
   "metadata": {},
   "outputs": [
    {
     "output_type": "execute_result",
     "data": {
      "text/plain": "      id      cuisine  ingredients  diced tomatoes  great northern beans  \\\n0  10259        greek            9               0                     0   \n1  25693  southern_us           11               0                     0   \n2  20130     filipino           12               0                     0   \n3  22213       indian            4               0                     0   \n4  13162       indian           20               0                     0   \n\n   shredded cheese  unsalted dry roast peanuts  bread slices  zinfandel  \\\n0                0                           0             0          0   \n1                0                           0             0          0   \n2                0                           0             0          0   \n3                0                           0             0          0   \n4                0                           0             0          0   \n\n   reduced sodium soy sauce  ...  white radish  ranch dressing  spinach  \\\n0                         0  ...             0               0        0   \n1                         0  ...             0               0        0   \n2                         0  ...             0               0        0   \n3                         0  ...             0               0        0   \n4                         0  ...             0               0        0   \n\n   rice cakes  wasabi  radicchio  roasted garlic  spinach leaves  \\\n0           0       0          0               0               0   \n1           0       0          0               0               0   \n2           0       0          0               0               0   \n3           0       0          0               0               0   \n4           0       0          0               0               0   \n\n   iceberg lettuce  dried tart cherries  \n0                0                    0  \n1                0                    0  \n2                0                    0  \n3                0                    0  \n4                0                    0  \n\n[5 rows x 1321 columns]",
      "text/html": "<div>\n<style scoped>\n    .dataframe tbody tr th:only-of-type {\n        vertical-align: middle;\n    }\n\n    .dataframe tbody tr th {\n        vertical-align: top;\n    }\n\n    .dataframe thead th {\n        text-align: right;\n    }\n</style>\n<table border=\"1\" class=\"dataframe\">\n  <thead>\n    <tr style=\"text-align: right;\">\n      <th></th>\n      <th>id</th>\n      <th>cuisine</th>\n      <th>ingredients</th>\n      <th>diced tomatoes</th>\n      <th>great northern beans</th>\n      <th>shredded cheese</th>\n      <th>unsalted dry roast peanuts</th>\n      <th>bread slices</th>\n      <th>zinfandel</th>\n      <th>reduced sodium soy sauce</th>\n      <th>...</th>\n      <th>white radish</th>\n      <th>ranch dressing</th>\n      <th>spinach</th>\n      <th>rice cakes</th>\n      <th>wasabi</th>\n      <th>radicchio</th>\n      <th>roasted garlic</th>\n      <th>spinach leaves</th>\n      <th>iceberg lettuce</th>\n      <th>dried tart cherries</th>\n    </tr>\n  </thead>\n  <tbody>\n    <tr>\n      <th>0</th>\n      <td>10259</td>\n      <td>greek</td>\n      <td>9</td>\n      <td>0</td>\n      <td>0</td>\n      <td>0</td>\n      <td>0</td>\n      <td>0</td>\n      <td>0</td>\n      <td>0</td>\n      <td>...</td>\n      <td>0</td>\n      <td>0</td>\n      <td>0</td>\n      <td>0</td>\n      <td>0</td>\n      <td>0</td>\n      <td>0</td>\n      <td>0</td>\n      <td>0</td>\n      <td>0</td>\n    </tr>\n    <tr>\n      <th>1</th>\n      <td>25693</td>\n      <td>southern_us</td>\n      <td>11</td>\n      <td>0</td>\n      <td>0</td>\n      <td>0</td>\n      <td>0</td>\n      <td>0</td>\n      <td>0</td>\n      <td>0</td>\n      <td>...</td>\n      <td>0</td>\n      <td>0</td>\n      <td>0</td>\n      <td>0</td>\n      <td>0</td>\n      <td>0</td>\n      <td>0</td>\n      <td>0</td>\n      <td>0</td>\n      <td>0</td>\n    </tr>\n    <tr>\n      <th>2</th>\n      <td>20130</td>\n      <td>filipino</td>\n      <td>12</td>\n      <td>0</td>\n      <td>0</td>\n      <td>0</td>\n      <td>0</td>\n      <td>0</td>\n      <td>0</td>\n      <td>0</td>\n      <td>...</td>\n      <td>0</td>\n      <td>0</td>\n      <td>0</td>\n      <td>0</td>\n      <td>0</td>\n      <td>0</td>\n      <td>0</td>\n      <td>0</td>\n      <td>0</td>\n      <td>0</td>\n    </tr>\n    <tr>\n      <th>3</th>\n      <td>22213</td>\n      <td>indian</td>\n      <td>4</td>\n      <td>0</td>\n      <td>0</td>\n      <td>0</td>\n      <td>0</td>\n      <td>0</td>\n      <td>0</td>\n      <td>0</td>\n      <td>...</td>\n      <td>0</td>\n      <td>0</td>\n      <td>0</td>\n      <td>0</td>\n      <td>0</td>\n      <td>0</td>\n      <td>0</td>\n      <td>0</td>\n      <td>0</td>\n      <td>0</td>\n    </tr>\n    <tr>\n      <th>4</th>\n      <td>13162</td>\n      <td>indian</td>\n      <td>20</td>\n      <td>0</td>\n      <td>0</td>\n      <td>0</td>\n      <td>0</td>\n      <td>0</td>\n      <td>0</td>\n      <td>0</td>\n      <td>...</td>\n      <td>0</td>\n      <td>0</td>\n      <td>0</td>\n      <td>0</td>\n      <td>0</td>\n      <td>0</td>\n      <td>0</td>\n      <td>0</td>\n      <td>0</td>\n      <td>0</td>\n    </tr>\n  </tbody>\n</table>\n<p>5 rows × 1321 columns</p>\n</div>"
     },
     "metadata": {},
     "execution_count": 62
    }
   ],
   "source": [
    "import pandas as pd\n",
    "\n",
    "def find_item(cell):\n",
    "    if item in cell:\n",
    "        return 1\n",
    "    return 0\n",
    "\n",
    "with open('data/recipes.json') as f:\n",
    "    recipes = json.load(f)\n",
    "    \n",
    "ingredients = set()\n",
    "for recipe in recipes:\n",
    "    ingredients.update(recipe['ingredients'])\n",
    "\n",
    "df = pd.DataFrame(recipes)\n",
    "\n",
    "for item in ingredients:\n",
    "    df[item] = df['ingredients'].apply(find_item)\n",
    "\n",
    "df['ingredients'] = df['ingredients'].apply(lambda x: len(x))\n",
    "\n",
    "df.head()"
   ]
  },
  {
   "cell_type": "code",
   "execution_count": 64,
   "metadata": {},
   "outputs": [],
   "source": [
    "df.to_csv('data/recipes.csv', index = False)"
   ]
  },
  {
   "cell_type": "markdown",
   "metadata": {},
   "source": [
    "## Из Pandas в JSON"
   ]
  },
  {
   "cell_type": "code",
   "execution_count": 100,
   "metadata": {},
   "outputs": [],
   "source": [
    "df = pd.read_csv('data/recipes.csv')"
   ]
  },
  {
   "cell_type": "code",
   "execution_count": 101,
   "metadata": {},
   "outputs": [
    {
     "output_type": "execute_result",
     "data": {
      "text/plain": "      id      cuisine  ingredients  diced tomatoes  great northern beans  \\\n0  10259        greek            9               0                     0   \n1  25693  southern_us           11               0                     0   \n2  20130     filipino           12               0                     0   \n3  22213       indian            4               0                     0   \n4  13162       indian           20               0                     0   \n\n   shredded cheese  unsalted dry roast peanuts  bread slices  zinfandel  \\\n0                0                           0             0          0   \n1                0                           0             0          0   \n2                0                           0             0          0   \n3                0                           0             0          0   \n4                0                           0             0          0   \n\n   reduced sodium soy sauce  ...  white radish  ranch dressing  spinach  \\\n0                         0  ...             0               0        0   \n1                         0  ...             0               0        0   \n2                         0  ...             0               0        0   \n3                         0  ...             0               0        0   \n4                         0  ...             0               0        0   \n\n   rice cakes  wasabi  radicchio  roasted garlic  spinach leaves  \\\n0           0       0          0               0               0   \n1           0       0          0               0               0   \n2           0       0          0               0               0   \n3           0       0          0               0               0   \n4           0       0          0               0               0   \n\n   iceberg lettuce  dried tart cherries  \n0                0                    0  \n1                0                    0  \n2                0                    0  \n3                0                    0  \n4                0                    0  \n\n[5 rows x 1321 columns]",
      "text/html": "<div>\n<style scoped>\n    .dataframe tbody tr th:only-of-type {\n        vertical-align: middle;\n    }\n\n    .dataframe tbody tr th {\n        vertical-align: top;\n    }\n\n    .dataframe thead th {\n        text-align: right;\n    }\n</style>\n<table border=\"1\" class=\"dataframe\">\n  <thead>\n    <tr style=\"text-align: right;\">\n      <th></th>\n      <th>id</th>\n      <th>cuisine</th>\n      <th>ingredients</th>\n      <th>diced tomatoes</th>\n      <th>great northern beans</th>\n      <th>shredded cheese</th>\n      <th>unsalted dry roast peanuts</th>\n      <th>bread slices</th>\n      <th>zinfandel</th>\n      <th>reduced sodium soy sauce</th>\n      <th>...</th>\n      <th>white radish</th>\n      <th>ranch dressing</th>\n      <th>spinach</th>\n      <th>rice cakes</th>\n      <th>wasabi</th>\n      <th>radicchio</th>\n      <th>roasted garlic</th>\n      <th>spinach leaves</th>\n      <th>iceberg lettuce</th>\n      <th>dried tart cherries</th>\n    </tr>\n  </thead>\n  <tbody>\n    <tr>\n      <th>0</th>\n      <td>10259</td>\n      <td>greek</td>\n      <td>9</td>\n      <td>0</td>\n      <td>0</td>\n      <td>0</td>\n      <td>0</td>\n      <td>0</td>\n      <td>0</td>\n      <td>0</td>\n      <td>...</td>\n      <td>0</td>\n      <td>0</td>\n      <td>0</td>\n      <td>0</td>\n      <td>0</td>\n      <td>0</td>\n      <td>0</td>\n      <td>0</td>\n      <td>0</td>\n      <td>0</td>\n    </tr>\n    <tr>\n      <th>1</th>\n      <td>25693</td>\n      <td>southern_us</td>\n      <td>11</td>\n      <td>0</td>\n      <td>0</td>\n      <td>0</td>\n      <td>0</td>\n      <td>0</td>\n      <td>0</td>\n      <td>0</td>\n      <td>...</td>\n      <td>0</td>\n      <td>0</td>\n      <td>0</td>\n      <td>0</td>\n      <td>0</td>\n      <td>0</td>\n      <td>0</td>\n      <td>0</td>\n      <td>0</td>\n      <td>0</td>\n    </tr>\n    <tr>\n      <th>2</th>\n      <td>20130</td>\n      <td>filipino</td>\n      <td>12</td>\n      <td>0</td>\n      <td>0</td>\n      <td>0</td>\n      <td>0</td>\n      <td>0</td>\n      <td>0</td>\n      <td>0</td>\n      <td>...</td>\n      <td>0</td>\n      <td>0</td>\n      <td>0</td>\n      <td>0</td>\n      <td>0</td>\n      <td>0</td>\n      <td>0</td>\n      <td>0</td>\n      <td>0</td>\n      <td>0</td>\n    </tr>\n    <tr>\n      <th>3</th>\n      <td>22213</td>\n      <td>indian</td>\n      <td>4</td>\n      <td>0</td>\n      <td>0</td>\n      <td>0</td>\n      <td>0</td>\n      <td>0</td>\n      <td>0</td>\n      <td>0</td>\n      <td>...</td>\n      <td>0</td>\n      <td>0</td>\n      <td>0</td>\n      <td>0</td>\n      <td>0</td>\n      <td>0</td>\n      <td>0</td>\n      <td>0</td>\n      <td>0</td>\n      <td>0</td>\n    </tr>\n    <tr>\n      <th>4</th>\n      <td>13162</td>\n      <td>indian</td>\n      <td>20</td>\n      <td>0</td>\n      <td>0</td>\n      <td>0</td>\n      <td>0</td>\n      <td>0</td>\n      <td>0</td>\n      <td>0</td>\n      <td>...</td>\n      <td>0</td>\n      <td>0</td>\n      <td>0</td>\n      <td>0</td>\n      <td>0</td>\n      <td>0</td>\n      <td>0</td>\n      <td>0</td>\n      <td>0</td>\n      <td>0</td>\n    </tr>\n  </tbody>\n</table>\n<p>5 rows × 1321 columns</p>\n</div>"
     },
     "metadata": {},
     "execution_count": 101
    }
   ],
   "source": [
    "df.head()"
   ]
  },
  {
   "cell_type": "markdown",
   "metadata": {},
   "source": [
    "Напишите код для создания списка id всех блюд, представленных в датафрейме."
   ]
  },
  {
   "cell_type": "code",
   "execution_count": 102,
   "metadata": {},
   "outputs": [],
   "source": [
    "ids = list(df.id.values)"
   ]
  },
  {
   "cell_type": "markdown",
   "metadata": {},
   "source": [
    "Напишите код для создания списка ингредиентов всех блюд, представленных в датафрейме.\n",
    "\n"
   ]
  },
  {
   "cell_type": "code",
   "execution_count": 103,
   "metadata": {},
   "outputs": [],
   "source": [
    "ingredients = list(df.columns[3:].values)"
   ]
  },
  {
   "cell_type": "code",
   "execution_count": 119,
   "metadata": {
    "tags": []
   },
   "outputs": [],
   "source": [
    "def make_list(df):\n",
    "    s = df.iloc[0]\n",
    "    return list(s[s.eq(1)].index.values)\n",
    "\n",
    "new_recipes = []\n",
    "\n",
    "for current_id in ids:\n",
    "    cuisine = df[df['id'] == current_id]['cuisine'].iloc[0]\n",
    "    current_ingredients = make_list(df[df['id'] == current_id])\n",
    "    current_recipe = {'cuisine': cuisine, 'id': int(current_id), 'ingredients': current_ingredients}\n",
    "    new_recipes.append(current_recipe)"
   ]
  },
  {
   "cell_type": "markdown",
   "metadata": {},
   "source": [
    "В завершающей части данного блока мы выполним сериализацию списка new_recipes и запишем полученные данные в файл. Для сериализации мы будем использовать функцию dumps(), которой в качестве параметра передадим список new_recipes. Запись в файл осуществляется с помощью метода write(). Предварительно файл нужно будет открыть для записи с помощью функции open и параметра 'w':"
   ]
  },
  {
   "cell_type": "code",
   "execution_count": 120,
   "metadata": {},
   "outputs": [],
   "source": [
    "new_recipes = json.dumps(new_recipes)\n",
    "with open(\"data/new_recipes.json\", \"w\") as write_file:\n",
    "    write_file.write(new_recipes)"
   ]
  },
  {
   "cell_type": "markdown",
   "metadata": {},
   "source": [
    "Оба действия можно совместить, если использовать метод dump():"
   ]
  },
  {
   "cell_type": "code",
   "execution_count": 121,
   "metadata": {},
   "outputs": [],
   "source": [
    "with open(\"data/new_recipes.json\", \"w\") as write_file:\n",
    "    json.dump(new_recipes, write_file)"
   ]
  },
  {
   "cell_type": "code",
   "execution_count": null,
   "metadata": {},
   "outputs": [],
   "source": []
  }
 ]
}