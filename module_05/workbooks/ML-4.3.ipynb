{
 "metadata": {
  "language_info": {
   "codemirror_mode": {
    "name": "ipython",
    "version": 3
   },
   "file_extension": ".py",
   "mimetype": "text/x-python",
   "name": "python",
   "nbconvert_exporter": "python",
   "pygments_lexer": "ipython3",
   "version": "3.7.6-final"
  },
  "orig_nbformat": 2,
  "kernelspec": {
   "name": "python3",
   "display_name": "Python 3"
  }
 },
 "nbformat": 4,
 "nbformat_minor": 2,
 "cells": [
  {
   "cell_type": "code",
   "execution_count": 7,
   "metadata": {},
   "outputs": [
    {
     "output_type": "execute_result",
     "data": {
      "text/plain": [
       "55.22498030979261"
      ]
     },
     "metadata": {},
     "execution_count": 7
    }
   ],
   "source": [
    "import pandas as pd\n",
    "from sklearn.model_selection import train_test_split\n",
    "vis_data = pd.read_csv(\"./data/train.csv\", encoding = 'ISO-8859-1', low_memory = False)\n",
    "# Напишите ваш код ниже\n",
    "\n",
    "train, valid = train_test_split(vis_data, test_size=0.3, shuffle=False)\n",
    "result = train['payment_amount'].mean()\n",
    "result"
   ]
  },
  {
   "cell_type": "code",
   "execution_count": 10,
   "metadata": {},
   "outputs": [
    {
     "output_type": "display_data",
     "data": {
      "text/plain": "        ticket_id                                     agency_name  \\\n38006       58851  Buildings, Safety Engineering & Env Department   \n46256       68886                       Detroit Police Department   \n47514       70376  Buildings, Safety Engineering & Env Department   \n143478     172587  Buildings, Safety Engineering & Env Department   \n74821       99041  Buildings, Safety Engineering & Env Department   \n\n          inspector_name          violator_name  violation_street_number  \\\n38006   Steele, Jonathan  star  mbch, newbright                  18045.0   \n46256   Thornton, Vaughn     alexander, lucious                  19303.0   \n47514    Sharpe, Anthony      INVESTMENT, ACORN                  14641.0   \n143478  Steele, Jonathan       FERRILL, FRANK M                  15401.0   \n74821    Gailes, Orbie J        CHAMBERS, NAOMI                  14803.0   \n\n       violation_street_name  violation_zip_code  mailing_address_str_number  \\\n38006              LIVERNOIS                 NaN                      1845.0   \n46256              MANSFIELD                 NaN                      1933.0   \n47514               HARTWELL                 NaN                       213.0   \n143478               LINDSAY                 NaN                     15415.0   \n74821             MARK TWAIN                 NaN                      1483.0   \n\n       mailing_address_str_name        city  ... clean_up_cost  \\\n38006                 livernois     detroit  ...           0.0   \n46256                 mansfield     detroit  ...           0.0   \n47514                    PO BOX  SOUTHFIELD  ...           0.0   \n143478                  LINDSAY     DETROIT  ...           0.0   \n74821                MARK TWAIN     DETROIT  ...           0.0   \n\n       judgment_amount payment_amount balance_due         payment_date  \\\n38006            280.0          280.0         0.0  2006-02-06 00:00:00   \n46256             57.5            0.0        57.5                  NaN   \n47514              0.0            0.0         0.0                  NaN   \n143478           305.0            0.0       305.0                  NaN   \n74821              0.0            0.0         0.0                  NaN   \n\n            payment_status collection_status grafitti_status  \\\n38006         PAID IN FULL               NaN             NaN   \n46256   NO PAYMENT APPLIED               NaN             NaN   \n47514   NO PAYMENT APPLIED               NaN             NaN   \n143478  NO PAYMENT APPLIED               NaN             NaN   \n74821   NO PAYMENT APPLIED               NaN             NaN   \n\n                     compliance_detail  compliance  \n38006     compliant by on-time payment         1.0  \n46256      non-compliant by no payment         0.0  \n47514   not responsible by disposition         NaN  \n143478     non-compliant by no payment         0.0  \n74821   not responsible by disposition         NaN  \n\n[5 rows x 34 columns]",
      "text/html": "<div>\n<style scoped>\n    .dataframe tbody tr th:only-of-type {\n        vertical-align: middle;\n    }\n\n    .dataframe tbody tr th {\n        vertical-align: top;\n    }\n\n    .dataframe thead th {\n        text-align: right;\n    }\n</style>\n<table border=\"1\" class=\"dataframe\">\n  <thead>\n    <tr style=\"text-align: right;\">\n      <th></th>\n      <th>ticket_id</th>\n      <th>agency_name</th>\n      <th>inspector_name</th>\n      <th>violator_name</th>\n      <th>violation_street_number</th>\n      <th>violation_street_name</th>\n      <th>violation_zip_code</th>\n      <th>mailing_address_str_number</th>\n      <th>mailing_address_str_name</th>\n      <th>city</th>\n      <th>...</th>\n      <th>clean_up_cost</th>\n      <th>judgment_amount</th>\n      <th>payment_amount</th>\n      <th>balance_due</th>\n      <th>payment_date</th>\n      <th>payment_status</th>\n      <th>collection_status</th>\n      <th>grafitti_status</th>\n      <th>compliance_detail</th>\n      <th>compliance</th>\n    </tr>\n  </thead>\n  <tbody>\n    <tr>\n      <th>38006</th>\n      <td>58851</td>\n      <td>Buildings, Safety Engineering &amp; Env Department</td>\n      <td>Steele, Jonathan</td>\n      <td>star  mbch, newbright</td>\n      <td>18045.0</td>\n      <td>LIVERNOIS</td>\n      <td>NaN</td>\n      <td>1845.0</td>\n      <td>livernois</td>\n      <td>detroit</td>\n      <td>...</td>\n      <td>0.0</td>\n      <td>280.0</td>\n      <td>280.0</td>\n      <td>0.0</td>\n      <td>2006-02-06 00:00:00</td>\n      <td>PAID IN FULL</td>\n      <td>NaN</td>\n      <td>NaN</td>\n      <td>compliant by on-time payment</td>\n      <td>1.0</td>\n    </tr>\n    <tr>\n      <th>46256</th>\n      <td>68886</td>\n      <td>Detroit Police Department</td>\n      <td>Thornton, Vaughn</td>\n      <td>alexander, lucious</td>\n      <td>19303.0</td>\n      <td>MANSFIELD</td>\n      <td>NaN</td>\n      <td>1933.0</td>\n      <td>mansfield</td>\n      <td>detroit</td>\n      <td>...</td>\n      <td>0.0</td>\n      <td>57.5</td>\n      <td>0.0</td>\n      <td>57.5</td>\n      <td>NaN</td>\n      <td>NO PAYMENT APPLIED</td>\n      <td>NaN</td>\n      <td>NaN</td>\n      <td>non-compliant by no payment</td>\n      <td>0.0</td>\n    </tr>\n    <tr>\n      <th>47514</th>\n      <td>70376</td>\n      <td>Buildings, Safety Engineering &amp; Env Department</td>\n      <td>Sharpe, Anthony</td>\n      <td>INVESTMENT, ACORN</td>\n      <td>14641.0</td>\n      <td>HARTWELL</td>\n      <td>NaN</td>\n      <td>213.0</td>\n      <td>PO BOX</td>\n      <td>SOUTHFIELD</td>\n      <td>...</td>\n      <td>0.0</td>\n      <td>0.0</td>\n      <td>0.0</td>\n      <td>0.0</td>\n      <td>NaN</td>\n      <td>NO PAYMENT APPLIED</td>\n      <td>NaN</td>\n      <td>NaN</td>\n      <td>not responsible by disposition</td>\n      <td>NaN</td>\n    </tr>\n    <tr>\n      <th>143478</th>\n      <td>172587</td>\n      <td>Buildings, Safety Engineering &amp; Env Department</td>\n      <td>Steele, Jonathan</td>\n      <td>FERRILL, FRANK M</td>\n      <td>15401.0</td>\n      <td>LINDSAY</td>\n      <td>NaN</td>\n      <td>15415.0</td>\n      <td>LINDSAY</td>\n      <td>DETROIT</td>\n      <td>...</td>\n      <td>0.0</td>\n      <td>305.0</td>\n      <td>0.0</td>\n      <td>305.0</td>\n      <td>NaN</td>\n      <td>NO PAYMENT APPLIED</td>\n      <td>NaN</td>\n      <td>NaN</td>\n      <td>non-compliant by no payment</td>\n      <td>0.0</td>\n    </tr>\n    <tr>\n      <th>74821</th>\n      <td>99041</td>\n      <td>Buildings, Safety Engineering &amp; Env Department</td>\n      <td>Gailes, Orbie J</td>\n      <td>CHAMBERS, NAOMI</td>\n      <td>14803.0</td>\n      <td>MARK TWAIN</td>\n      <td>NaN</td>\n      <td>1483.0</td>\n      <td>MARK TWAIN</td>\n      <td>DETROIT</td>\n      <td>...</td>\n      <td>0.0</td>\n      <td>0.0</td>\n      <td>0.0</td>\n      <td>0.0</td>\n      <td>NaN</td>\n      <td>NO PAYMENT APPLIED</td>\n      <td>NaN</td>\n      <td>NaN</td>\n      <td>not responsible by disposition</td>\n      <td>NaN</td>\n    </tr>\n  </tbody>\n</table>\n<p>5 rows × 34 columns</p>\n</div>"
     },
     "metadata": {}
    },
    {
     "output_type": "display_data",
     "data": {
      "text/plain": "        fine_amount  state_fee  late_fee  discount_amount  balance_due\n208614        250.0       10.0      25.0              0.0        305.0\n99438         250.0       10.0      25.0              0.0        305.0\n112922       1000.0       10.0     100.0              0.0       1130.0\n148755         50.0       10.0       5.0              0.0         85.0\n144779        250.0        0.0       0.0              0.0          0.0",
      "text/html": "<div>\n<style scoped>\n    .dataframe tbody tr th:only-of-type {\n        vertical-align: middle;\n    }\n\n    .dataframe tbody tr th {\n        vertical-align: top;\n    }\n\n    .dataframe thead th {\n        text-align: right;\n    }\n</style>\n<table border=\"1\" class=\"dataframe\">\n  <thead>\n    <tr style=\"text-align: right;\">\n      <th></th>\n      <th>fine_amount</th>\n      <th>state_fee</th>\n      <th>late_fee</th>\n      <th>discount_amount</th>\n      <th>balance_due</th>\n    </tr>\n  </thead>\n  <tbody>\n    <tr>\n      <th>208614</th>\n      <td>250.0</td>\n      <td>10.0</td>\n      <td>25.0</td>\n      <td>0.0</td>\n      <td>305.0</td>\n    </tr>\n    <tr>\n      <th>99438</th>\n      <td>250.0</td>\n      <td>10.0</td>\n      <td>25.0</td>\n      <td>0.0</td>\n      <td>305.0</td>\n    </tr>\n    <tr>\n      <th>112922</th>\n      <td>1000.0</td>\n      <td>10.0</td>\n      <td>100.0</td>\n      <td>0.0</td>\n      <td>1130.0</td>\n    </tr>\n    <tr>\n      <th>148755</th>\n      <td>50.0</td>\n      <td>10.0</td>\n      <td>5.0</td>\n      <td>0.0</td>\n      <td>85.0</td>\n    </tr>\n    <tr>\n      <th>144779</th>\n      <td>250.0</td>\n      <td>0.0</td>\n      <td>0.0</td>\n      <td>0.0</td>\n      <td>0.0</td>\n    </tr>\n  </tbody>\n</table>\n</div>"
     },
     "metadata": {}
    }
   ],
   "source": [
    "\n",
    "import pandas as pd\n",
    "from sklearn.linear_model import LinearRegression\n",
    "from sklearn.model_selection import train_test_split\n",
    "from sklearn.metrics import mean_squared_error\n",
    "vis_data = pd.read_csv(\"./data/train.csv\", encoding = 'ISO-8859-1', low_memory = False)\n",
    "# Напишите ваш код ниже\n",
    "display(vis_data.sample(5))\n",
    "\n",
    "vis_data = vis_data[['fine_amount', 'state_fee', 'late_fee', 'discount_amount', 'balance_due']]\n",
    "display(vis_data.sample(5))\n",
    "\n",
    "# train, test = train_test_split(vis_data, test_size=0.3, shuffle=False)\n",
    "# result = test['payment_amount'].mean()\n",
    "# result"
   ]
  },
  {
   "cell_type": "code",
   "execution_count": null,
   "metadata": {},
   "outputs": [],
   "source": []
  },
  {
   "cell_type": "code",
   "execution_count": 15,
   "metadata": {},
   "outputs": [
    {
     "output_type": "stream",
     "name": "stdout",
     "text": [
      "[  0   1   2   3   4   5   6   7   8   9  10  11  12  13  14  15  16  17\n  18  19  20  21  22  23  24  25  26  27  28  29  30  31  32  33  34  35\n  36  37  38  39  40  41  42  43  44  45  46  47  48  49  50  51  52  53\n  54  55  56  57  58  59  60  61  62  63  64  65  66  67  68  69  70  71\n  72  73  74  75  76  77  78  79  80  81  82  83  84  85  86  87  88  89\n  90  91  92  93  94  95  96  97  98  99 100]\n[  0   1   2   3   3   5   6   7   8   9  10  11  12  13  14  15  16  17\n  18  19  20  21  22  23  24  25  26  27  28  29  30  31  32  33  34  35\n  36  37  38  39  40  41  42  43  44  45  46  47  48  49  50  51  52  53\n  54  55  56  57  58  59  60  61  62  63  64  65  66  67  68  69  70  71\n  72  73  74  75  76  77  78  79  80  81  82  83  84  85  86  87  88  89\n  90  91  92  93  94  95  96  97  98  99 100]\n"
     ]
    },
    {
     "output_type": "execute_result",
     "data": {
      "text/plain": [
       "0.9900990099009901"
      ]
     },
     "metadata": {},
     "execution_count": 15
    }
   ],
   "source": [
    "from sklearn.metrics import accuracy_score\n",
    "import numpy as np\n",
    "\n",
    "y_pred = np.arange(101)\n",
    "y_true = np.arange(101)\n",
    "\n",
    "y_true[4] = 3\n",
    "\n",
    "print(y_pred)\n",
    "print(y_true)\n",
    "\n",
    "accuracy_score(y_true, y_pred)"
   ]
  },
  {
   "cell_type": "code",
   "execution_count": 21,
   "metadata": {},
   "outputs": [
    {
     "output_type": "execute_result",
     "data": {
      "text/plain": [
       "0.6666666666666665"
      ]
     },
     "metadata": {},
     "execution_count": 21
    }
   ],
   "source": [
    "(2 * .75 * .6) / (.75 + .6)"
   ]
  },
  {
   "cell_type": "code",
   "execution_count": 23,
   "metadata": {},
   "outputs": [
    {
     "output_type": "execute_result",
     "data": {
      "text/plain": [
       "1.0"
      ]
     },
     "metadata": {},
     "execution_count": 23
    }
   ],
   "source": [
    "from sklearn.metrics import precision_score\n",
    "from sklearn.metrics import recall_score\n",
    "from sklearn.metrics import f1_score\n",
    "import numpy as np\n",
    "\n",
    "y_true = [0, 0, 1, 1, 1, 1, 0, 1]\n",
    "y_pred = [0, 1, 0, 0, 1, 1, 0, 1]\n",
    "f1_score(y_true, y_pred)\n",
    "\n",
    "y_true = [0, 0, 1, 1, 1, 1, 0, 1]\n",
    "y_pred = [0, 1, 0, 0, 1, 1, 0, 1]\n",
    "f1_score(y_true, y_pred)\n",
    "\n",
    "y_true = [0, 0, 1, 0, 0, 1, 0]\n",
    "y_pred = [1, 1, 1, 0, 1, 1, 0]\n",
    "\n",
    "precision_score(y_true=y_true, y_pred=y_pred)\n",
    "recall_score(y_true=y_true, y_pred=y_pred)"
   ]
  }
 ]
}