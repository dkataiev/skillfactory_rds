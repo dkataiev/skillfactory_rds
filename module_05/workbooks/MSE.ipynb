{
 "metadata": {
  "language_info": {
   "codemirror_mode": {
    "name": "ipython",
    "version": 3
   },
   "file_extension": ".py",
   "mimetype": "text/x-python",
   "name": "python",
   "nbconvert_exporter": "python",
   "pygments_lexer": "ipython3",
   "version": "3.7.6-final"
  },
  "orig_nbformat": 2,
  "kernelspec": {
   "name": "python3",
   "display_name": "Python 3"
  }
 },
 "nbformat": 4,
 "nbformat_minor": 2,
 "cells": [
  {
   "cell_type": "code",
   "execution_count": 1,
   "metadata": {},
   "outputs": [],
   "source": [
    "import pandas as pd\n",
    "import numpy as np"
   ]
  },
  {
   "source": [
    "Рассмотрим очень простой пример. Предположим, что у нас есть показатели уровня счастья для пяти человек:"
   ],
   "cell_type": "markdown",
   "metadata": {}
  },
  {
   "cell_type": "code",
   "execution_count": 2,
   "metadata": {},
   "outputs": [],
   "source": [
    "y_happy = [4,20,110,15,23]"
   ]
  },
  {
   "source": [
    "Допустим, у нас есть показатели счастья для этих же пяти человек, но предсказанные некоторым алгоритмом:\n",
    "\n"
   ],
   "cell_type": "markdown",
   "metadata": {}
  },
  {
   "cell_type": "code",
   "execution_count": 4,
   "metadata": {},
   "outputs": [],
   "source": [
    "y_happy_pred = [5,15,100,9,21]"
   ]
  },
  {
   "source": [
    "Давайте вычислим метрики для этих данных!"
   ],
   "cell_type": "markdown",
   "metadata": {}
  },
  {
   "cell_type": "code",
   "execution_count": 6,
   "metadata": {},
   "outputs": [],
   "source": [
    "from sklearn import metrics  # подгружаем метрики"
   ]
  },
  {
   "cell_type": "code",
   "execution_count": 7,
   "metadata": {},
   "outputs": [
    {
     "output_type": "stream",
     "name": "stdout",
     "text": [
      "4.8\n"
     ]
    }
   ],
   "source": [
    "#Вычисляем MAE:\n",
    "MAE = metrics.mean_absolute_error(y_happy, y_happy_pred)\n",
    "print(MAE)"
   ]
  },
  {
   "cell_type": "code",
   "execution_count": 8,
   "metadata": {},
   "outputs": [
    {
     "output_type": "stream",
     "name": "stdout",
     "text": [
      "33.2\n"
     ]
    }
   ],
   "source": [
    "#Вычисляем MSE:\n",
    "\n",
    "MSE = metrics.mean_squared_error(y_happy, y_happy_pred)\n",
    "print(MSE)"
   ]
  },
  {
   "cell_type": "code",
   "execution_count": 9,
   "metadata": {},
   "outputs": [
    {
     "output_type": "stream",
     "name": "stdout",
     "text": [
      "0.9774247946472284\n"
     ]
    }
   ],
   "source": [
    "#Вычисляем коэффициент детерминации:\n",
    "\n",
    "R_2 = metrics.r2_score(y_happy, y_happy_pred)\n",
    "print(R_2)"
   ]
  }
 ]
}