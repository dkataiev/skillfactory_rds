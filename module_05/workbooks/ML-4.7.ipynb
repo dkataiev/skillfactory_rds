{
 "metadata": {
  "language_info": {
   "codemirror_mode": {
    "name": "ipython",
    "version": 3
   },
   "file_extension": ".py",
   "mimetype": "text/x-python",
   "name": "python",
   "nbconvert_exporter": "python",
   "pygments_lexer": "ipython3",
   "version": "3.7.6-final"
  },
  "orig_nbformat": 2,
  "kernelspec": {
   "name": "Python 3.7.6 64-bit ('anaconda3': virtualenv)",
   "display_name": "Python 3.7.6 64-bit ('anaconda3': virtualenv)",
   "metadata": {
    "interpreter": {
     "hash": "2668178ab7e9f8eaea4ef5f5c16b84666cfc4e44f25a432967c13b527df84d33"
    }
   }
  }
 },
 "nbformat": 4,
 "nbformat_minor": 2,
 "cells": [
  {
   "cell_type": "code",
   "execution_count": 30,
   "metadata": {},
   "outputs": [
    {
     "output_type": "stream",
     "name": "stdout",
     "text": [
      "0.9737118822292324\n"
     ]
    }
   ],
   "source": [
    "# Задание 4.7.1\n",
    "\n",
    "import pandas as pd\n",
    "from sklearn.model_selection import train_test_split\n",
    "from sklearn.preprocessing import StandardScaler\n",
    "from sklearn.linear_model import LogisticRegression\n",
    "from sklearn.metrics import accuracy_score\n",
    "voice_data = pd.read_csv(\"./data/voiceDataSet.csv\",)\n",
    "\n",
    "y = (voice_data.label == 'male').astype(int)\n",
    "X = voice_data.drop('label', axis=1)\n",
    "X_train, X_test, y_train, y_test = train_test_split(X, y, test_size=0.3, random_state=42)\n",
    "\n",
    "scaler = StandardScaler()\n",
    "X_train = scaler.fit_transform(X_train)\n",
    "X_test = scaler.fit_transform(X_test)\n",
    "\n",
    "model = LogisticRegression()\n",
    "model.fit(X_train, y_train)\n",
    "\n",
    "y_pred = model.predict(X_test).astype(int)\n",
    "print(accuracy_score(y_test, y_pred))"
   ]
  },
  {
   "cell_type": "code",
   "execution_count": 37,
   "metadata": {},
   "outputs": [
    {
     "output_type": "stream",
     "name": "stdout",
     "text": [
      "2    76\n1    70\n7    29\n3    17\n5    13\n6     9\nName: Type, dtype: int64\n"
     ]
    },
    {
     "output_type": "execute_result",
     "data": {
      "text/plain": [
       "0.5257575757575758"
      ]
     },
     "metadata": {},
     "execution_count": 37
    }
   ],
   "source": [
    "import pandas as pd\n",
    "from sklearn.model_selection import train_test_split\n",
    "from sklearn.neighbors import KNeighborsClassifier\n",
    "from sklearn.model_selection import cross_val_score, KFold\n",
    "data = pd.read_csv(\"./data/glass.csv\",)\n",
    "\n",
    "# Задание 4.7.2 Сколько классов стекла представлено в этой задаче?\n",
    "\n",
    "print(data['Type'].value_counts())\n",
    "\n",
    "# Задание 4.7.3 Измените количество разбиений на 10. Вычислите среднее значение метрики  по 10 разбиениям и введите ниже, округлите до сотых.\n",
    "\n",
    "y = data['Type']\n",
    "X = data.drop('Type', axis=1)\n",
    "model=KNeighborsClassifier(n_neighbors=3)\n",
    "kf = KFold(n_splits=10)\n",
    "acc = cross_val_score(model, X, y, cv=kf, scoring=\"accuracy\")\n",
    "acc.mean()"
   ]
  },
  {
   "cell_type": "code",
   "execution_count": 50,
   "metadata": {},
   "outputs": [
    {
     "output_type": "stream",
     "name": "stdout",
     "text": [
      "<class 'pandas.core.frame.DataFrame'>\nInt64Index: 284 entries, 0 to 302\nData columns (total 10 columns):\n #   Column    Non-Null Count  Dtype  \n---  ------    --------------  -----  \n 0   age       284 non-null    int64  \n 1   sex       284 non-null    int64  \n 2   cp        284 non-null    int64  \n 3   trestbps  284 non-null    int64  \n 4   chol      284 non-null    int64  \n 5   restecg   284 non-null    int64  \n 6   thalach   284 non-null    int64  \n 7   exang     284 non-null    int64  \n 8   oldpeak   284 non-null    float64\n 9   target    284 non-null    int64  \ndtypes: float64(1), int64(9)\nmemory usage: 24.4 KB\n"
     ]
    }
   ],
   "source": [
    "# В следующей задаче мы будем диагностировать болезни сердца по различным медицинским параметрам пациентов.\n",
    "\n",
    "import pandas as pd\n",
    "\n",
    "heart = pd.read_csv('./data/heart_fin1.csv', sep=';', engine='python')\n",
    "\n",
    "# Избавьтесь от выбросов, чтобы они не ухудшили качество нашей модели. Для того, чтобы избавиться от выбросов, уберите все данные, значения признаков которых отстают от первого или третьего квартиля более, чем на 1.5 межквартильного размаха.\n",
    "\n",
    "Q25 = heart.quantile(0.25)\n",
    "Q75 = heart.quantile(0.75)\n",
    "IQR = Q75 - Q25\n",
    "heart_new = heart[~((heart < (Q25 - 1.5 * IQR)) |(heart > (Q75 + 1.5 * IQR))).any(axis=1)]\n",
    "heart_new.info()"
   ]
  },
  {
   "cell_type": "code",
   "execution_count": 51,
   "metadata": {},
   "outputs": [
    {
     "output_type": "execute_result",
     "data": {
      "text/plain": [
       "0.8920454545454546"
      ]
     },
     "metadata": {},
     "execution_count": 51
    }
   ],
   "source": [
    "# Теперь разбейте выборку на тестовую и обучающую с параметрами test_size=0.15, random_state=5.\n",
    "# Обучите модели логистической регрессии ( c параметром max_iter=1000) и KNN (с количеством соседей, равным 3) на этих данных. Вычислите метрики качества.\n",
    "\n",
    "from sklearn.linear_model import LogisticRegression\n",
    "from sklearn.neighbors import KNeighborsClassifier\n",
    "from sklearn.metrics import roc_auc_score\n",
    "\n",
    "y = heart['target']\n",
    "X = heart.drop('target', axis=1)\n",
    "\n",
    "X_train, X_test, y_train, y_test = train_test_split(X, y, test_size=0.15, random_state=5)\n",
    "\n",
    "lr = LogisticRegression(max_iter=1000, random_state=5)\n",
    "lr.fit(X_train, y_train)\n",
    "y_pred = lr.predict(X_test)\n",
    "\n",
    "roc_auc_score(y_true=y_test, y_score=y_pred)"
   ]
  },
  {
   "cell_type": "code",
   "execution_count": 46,
   "metadata": {},
   "outputs": [
    {
     "output_type": "execute_result",
     "data": {
      "text/plain": [
       "array([0.6557377 , 0.55737705, 0.52459016, 0.71666667, 0.63333333])"
      ]
     },
     "metadata": {},
     "execution_count": 46
    }
   ],
   "source": [
    "from sklearn.linear_model import LogisticRegression\n",
    "from sklearn.neighbors import KNeighborsClassifier\n",
    "from sklearn.metrics import roc_auc_score\n",
    "\n",
    "knn=KNeighborsClassifier(n_neighbors=3)\n",
    "cross_val_score(knn, X, y, scoring=\"accuracy\")\n",
    "# acc.mean()\n",
    "\n",
    "# roc_auc_score(y_true=y_test, y_score=y_pred)"
   ]
  }
 ]
}