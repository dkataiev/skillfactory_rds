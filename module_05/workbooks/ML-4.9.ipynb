{
 "metadata": {
  "language_info": {
   "codemirror_mode": {
    "name": "ipython",
    "version": 3
   },
   "file_extension": ".py",
   "mimetype": "text/x-python",
   "name": "python",
   "nbconvert_exporter": "python",
   "pygments_lexer": "ipython3",
   "version": "3.7.6-final"
  },
  "orig_nbformat": 2,
  "kernelspec": {
   "name": "python3",
   "display_name": "Python 3"
  }
 },
 "nbformat": 4,
 "nbformat_minor": 2,
 "cells": [
  {
   "cell_type": "code",
   "execution_count": 26,
   "metadata": {},
   "outputs": [
    {
     "output_type": "stream",
     "name": "stdout",
     "text": [
      "[train] F1-score = 0.65\n[test] F1-score = 0.65\nResult:  -0.0019603322501189346\n"
     ]
    }
   ],
   "source": [
    "import pandas as pd\n",
    "from sklearn.tree import DecisionTreeClassifier\n",
    "from sklearn.model_selection import train_test_split\n",
    "from sklearn.metrics import f1_score\n",
    "vis_data = pd.read_csv(\"./data/train.csv\", encoding = 'ISO-8859-1', low_memory = False)\n",
    "\n",
    "# Напишите ваш код ниже\n",
    "vis_data = vis_data[['fine_amount', 'state_fee', 'late_fee', 'discount_amount', 'balance_due', 'compliance']]\n",
    "vis_data.dropna(inplace=True)\n",
    "\n",
    "y = vis_data['compliance']\n",
    "X = vis_data.drop('compliance', axis=1)\n",
    "\n",
    "X_train, X_test, y_train, y_test = train_test_split(X, y, test_size=0.3, random_state=23)\n",
    "\n",
    "clf = DecisionTreeClassifier(random_state=23)\n",
    "clf.fit(X_train, y_train)\n",
    "\n",
    "y_pred = clf.predict(X_train)\n",
    "f1_train = f1_score(y_train, y_pred)\n",
    "print('[train] F1-score = {:.2f}'.format(f1_train))\n",
    "\n",
    "y_pred_test = clf.predict(X_test)\n",
    "f1_test = f1_score(y_test, y_pred_test)\n",
    "print('[test] F1-score = {:.2f}'.format(f1_test))\n",
    "\n",
    "result = f1_train - f1_test\n",
    "print('Result: ', result)"
   ]
  },
  {
   "cell_type": "code",
   "execution_count": null,
   "metadata": {},
   "outputs": [],
   "source": []
  }
 ]
}