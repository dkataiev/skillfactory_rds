{
 "metadata": {
  "language_info": {
   "codemirror_mode": {
    "name": "ipython",
    "version": 3
   },
   "file_extension": ".py",
   "mimetype": "text/x-python",
   "name": "python",
   "nbconvert_exporter": "python",
   "pygments_lexer": "ipython3",
   "version": "3.7.6-final"
  },
  "orig_nbformat": 2,
  "kernelspec": {
   "name": "Python 3.7.6 64-bit ('base': conda)",
   "display_name": "Python 3.7.6 64-bit ('base': conda)",
   "metadata": {
    "interpreter": {
     "hash": "2668178ab7e9f8eaea4ef5f5c16b84666cfc4e44f25a432967c13b527df84d33"
    }
   }
  }
 },
 "nbformat": 4,
 "nbformat_minor": 2,
 "cells": [
  {
   "cell_type": "code",
   "execution_count": 2,
   "metadata": {},
   "outputs": [],
   "source": [
    "import pandas as pd\n",
    "import numpy as np\n",
    "import matplotlib.pyplot as plt"
   ]
  },
  {
   "cell_type": "code",
   "execution_count": 4,
   "metadata": {},
   "outputs": [
    {
     "output_type": "execute_result",
     "data": {
      "text/plain": [
       "      battery_power  blue  clock_speed  dual_sim  fc  four_g  int_memory  \\\n",
       "1457            840     0          0.9         1   6       0          33   \n",
       "1014           1633     0          1.7         1   3       1          33   \n",
       "440            1310     1          2.3         1   6       0          57   \n",
       "189            1831     0          1.4         1   2       0          43   \n",
       "768            1149     1          2.2         0   4       0          30   \n",
       "\n",
       "      m_dep  mobile_wt  n_cores  ...  px_height  px_width   ram  sc_h  sc_w  \\\n",
       "1457    0.7        150        6  ...       1482      1591  2072    10     8   \n",
       "1014    0.9        111        2  ...        146       906   511     9     0   \n",
       "440     0.9        135        8  ...        449       889  1175    16     0   \n",
       "189     0.9        150        5  ...        611      1381  3834    17     7   \n",
       "768     0.2        106        6  ...       1617      1675  3755    17    14   \n",
       "\n",
       "      talk_time  three_g  touch_screen  wifi  price_range  \n",
       "1457         19        0             1     0            1  \n",
       "1014          7        1             1     0            0  \n",
       "440           8        0             0     0            0  \n",
       "189          13        1             1     1            1  \n",
       "768           8        1             0     0            1  \n",
       "\n",
       "[5 rows x 21 columns]"
      ],
      "text/html": "<div>\n<style scoped>\n    .dataframe tbody tr th:only-of-type {\n        vertical-align: middle;\n    }\n\n    .dataframe tbody tr th {\n        vertical-align: top;\n    }\n\n    .dataframe thead th {\n        text-align: right;\n    }\n</style>\n<table border=\"1\" class=\"dataframe\">\n  <thead>\n    <tr style=\"text-align: right;\">\n      <th></th>\n      <th>battery_power</th>\n      <th>blue</th>\n      <th>clock_speed</th>\n      <th>dual_sim</th>\n      <th>fc</th>\n      <th>four_g</th>\n      <th>int_memory</th>\n      <th>m_dep</th>\n      <th>mobile_wt</th>\n      <th>n_cores</th>\n      <th>...</th>\n      <th>px_height</th>\n      <th>px_width</th>\n      <th>ram</th>\n      <th>sc_h</th>\n      <th>sc_w</th>\n      <th>talk_time</th>\n      <th>three_g</th>\n      <th>touch_screen</th>\n      <th>wifi</th>\n      <th>price_range</th>\n    </tr>\n  </thead>\n  <tbody>\n    <tr>\n      <th>1457</th>\n      <td>840</td>\n      <td>0</td>\n      <td>0.9</td>\n      <td>1</td>\n      <td>6</td>\n      <td>0</td>\n      <td>33</td>\n      <td>0.7</td>\n      <td>150</td>\n      <td>6</td>\n      <td>...</td>\n      <td>1482</td>\n      <td>1591</td>\n      <td>2072</td>\n      <td>10</td>\n      <td>8</td>\n      <td>19</td>\n      <td>0</td>\n      <td>1</td>\n      <td>0</td>\n      <td>1</td>\n    </tr>\n    <tr>\n      <th>1014</th>\n      <td>1633</td>\n      <td>0</td>\n      <td>1.7</td>\n      <td>1</td>\n      <td>3</td>\n      <td>1</td>\n      <td>33</td>\n      <td>0.9</td>\n      <td>111</td>\n      <td>2</td>\n      <td>...</td>\n      <td>146</td>\n      <td>906</td>\n      <td>511</td>\n      <td>9</td>\n      <td>0</td>\n      <td>7</td>\n      <td>1</td>\n      <td>1</td>\n      <td>0</td>\n      <td>0</td>\n    </tr>\n    <tr>\n      <th>440</th>\n      <td>1310</td>\n      <td>1</td>\n      <td>2.3</td>\n      <td>1</td>\n      <td>6</td>\n      <td>0</td>\n      <td>57</td>\n      <td>0.9</td>\n      <td>135</td>\n      <td>8</td>\n      <td>...</td>\n      <td>449</td>\n      <td>889</td>\n      <td>1175</td>\n      <td>16</td>\n      <td>0</td>\n      <td>8</td>\n      <td>0</td>\n      <td>0</td>\n      <td>0</td>\n      <td>0</td>\n    </tr>\n    <tr>\n      <th>189</th>\n      <td>1831</td>\n      <td>0</td>\n      <td>1.4</td>\n      <td>1</td>\n      <td>2</td>\n      <td>0</td>\n      <td>43</td>\n      <td>0.9</td>\n      <td>150</td>\n      <td>5</td>\n      <td>...</td>\n      <td>611</td>\n      <td>1381</td>\n      <td>3834</td>\n      <td>17</td>\n      <td>7</td>\n      <td>13</td>\n      <td>1</td>\n      <td>1</td>\n      <td>1</td>\n      <td>1</td>\n    </tr>\n    <tr>\n      <th>768</th>\n      <td>1149</td>\n      <td>1</td>\n      <td>2.2</td>\n      <td>0</td>\n      <td>4</td>\n      <td>0</td>\n      <td>30</td>\n      <td>0.2</td>\n      <td>106</td>\n      <td>6</td>\n      <td>...</td>\n      <td>1617</td>\n      <td>1675</td>\n      <td>3755</td>\n      <td>17</td>\n      <td>14</td>\n      <td>8</td>\n      <td>1</td>\n      <td>0</td>\n      <td>0</td>\n      <td>1</td>\n    </tr>\n  </tbody>\n</table>\n<p>5 rows × 21 columns</p>\n</div>"
     },
     "metadata": {},
     "execution_count": 4
    }
   ],
   "source": [
    "df = pd.read_csv('data/train_mobile.csv', sep=';')\n",
    "df.sample(5)"
   ]
  },
  {
   "cell_type": "code",
   "execution_count": 15,
   "metadata": {},
   "outputs": [
    {
     "output_type": "execute_result",
     "data": {
      "text/plain": [
       "price_range      1.000000\n",
       "ram              0.822354\n",
       "battery_power    0.149402\n",
       "px_width         0.116703\n",
       "px_height        0.097951\n",
       "touch_screen     0.040001\n",
       "Name: price_range, dtype: float64"
      ]
     },
     "metadata": {},
     "execution_count": 15
    }
   ],
   "source": [
    "df.corr()['price_range'].abs().sort_values(ascending=False).head(6)"
   ]
  },
  {
   "cell_type": "code",
   "execution_count": 29,
   "metadata": {},
   "outputs": [],
   "source": [
    "from sklearn.model_selection import train_test_split # функция, чтобы разбить данные на трейн и тест\n",
    "from sklearn.linear_model import LogisticRegression # наша модель для классификации"
   ]
  },
  {
   "cell_type": "code",
   "execution_count": 30,
   "metadata": {},
   "outputs": [
    {
     "output_type": "execute_result",
     "data": {
      "text/plain": [
       "    ram  battery_power  px_width  px_height  touch_screen\n",
       "0  2549            842       756         20             0\n",
       "1  2631           1021      1988        905             1\n",
       "2  2603            563      1716       1263             1\n",
       "3  2769            615      1786       1216             0\n",
       "4  1411           1821      1212       1208             1"
      ],
      "text/html": "<div>\n<style scoped>\n    .dataframe tbody tr th:only-of-type {\n        vertical-align: middle;\n    }\n\n    .dataframe tbody tr th {\n        vertical-align: top;\n    }\n\n    .dataframe thead th {\n        text-align: right;\n    }\n</style>\n<table border=\"1\" class=\"dataframe\">\n  <thead>\n    <tr style=\"text-align: right;\">\n      <th></th>\n      <th>ram</th>\n      <th>battery_power</th>\n      <th>px_width</th>\n      <th>px_height</th>\n      <th>touch_screen</th>\n    </tr>\n  </thead>\n  <tbody>\n    <tr>\n      <th>0</th>\n      <td>2549</td>\n      <td>842</td>\n      <td>756</td>\n      <td>20</td>\n      <td>0</td>\n    </tr>\n    <tr>\n      <th>1</th>\n      <td>2631</td>\n      <td>1021</td>\n      <td>1988</td>\n      <td>905</td>\n      <td>1</td>\n    </tr>\n    <tr>\n      <th>2</th>\n      <td>2603</td>\n      <td>563</td>\n      <td>1716</td>\n      <td>1263</td>\n      <td>1</td>\n    </tr>\n    <tr>\n      <th>3</th>\n      <td>2769</td>\n      <td>615</td>\n      <td>1786</td>\n      <td>1216</td>\n      <td>0</td>\n    </tr>\n    <tr>\n      <th>4</th>\n      <td>1411</td>\n      <td>1821</td>\n      <td>1212</td>\n      <td>1208</td>\n      <td>1</td>\n    </tr>\n  </tbody>\n</table>\n</div>"
     },
     "metadata": {},
     "execution_count": 30
    }
   ],
   "source": [
    "X_df = df[['ram', 'battery_power', 'px_width', 'px_height', 'touch_screen']]\n",
    "X_df.head(5)"
   ]
  },
  {
   "cell_type": "code",
   "execution_count": 31,
   "metadata": {},
   "outputs": [
    {
     "output_type": "execute_result",
     "data": {
      "text/plain": [
       "   price_range\n",
       "0            0\n",
       "1            1\n",
       "2            1\n",
       "3            1\n",
       "4            0"
      ],
      "text/html": "<div>\n<style scoped>\n    .dataframe tbody tr th:only-of-type {\n        vertical-align: middle;\n    }\n\n    .dataframe tbody tr th {\n        vertical-align: top;\n    }\n\n    .dataframe thead th {\n        text-align: right;\n    }\n</style>\n<table border=\"1\" class=\"dataframe\">\n  <thead>\n    <tr style=\"text-align: right;\">\n      <th></th>\n      <th>price_range</th>\n    </tr>\n  </thead>\n  <tbody>\n    <tr>\n      <th>0</th>\n      <td>0</td>\n    </tr>\n    <tr>\n      <th>1</th>\n      <td>1</td>\n    </tr>\n    <tr>\n      <th>2</th>\n      <td>1</td>\n    </tr>\n    <tr>\n      <th>3</th>\n      <td>1</td>\n    </tr>\n    <tr>\n      <th>4</th>\n      <td>0</td>\n    </tr>\n  </tbody>\n</table>\n</div>"
     },
     "metadata": {},
     "execution_count": 31
    }
   ],
   "source": [
    "Y_df = df[['price_range']]\n",
    "Y_df.head(5)"
   ]
  },
  {
   "cell_type": "code",
   "execution_count": 32,
   "metadata": {},
   "outputs": [
    {
     "output_type": "execute_result",
     "data": {
      "text/plain": [
       "array([[2549,  842,  756,   20,    0],\n",
       "       [2631, 1021, 1988,  905,    1],\n",
       "       [2603,  563, 1716, 1263,    1],\n",
       "       ...,\n",
       "       [3057, 1911, 1632,  868,    1],\n",
       "       [ 869, 1512,  670,  336,    1],\n",
       "       [3919,  510,  754,  483,    1]])"
      ]
     },
     "metadata": {},
     "execution_count": 32
    }
   ],
   "source": [
    "X = X_df.values\n",
    "X"
   ]
  },
  {
   "cell_type": "code",
   "execution_count": 33,
   "metadata": {},
   "outputs": [
    {
     "output_type": "execute_result",
     "data": {
      "text/plain": [
       "array([[0],\n",
       "       [1],\n",
       "       [1],\n",
       "       ...,\n",
       "       [1],\n",
       "       [0],\n",
       "       [1]])"
      ]
     },
     "metadata": {},
     "execution_count": 33
    }
   ],
   "source": [
    "Y = Y_df.values\n",
    "Y"
   ]
  },
  {
   "source": [
    "Разбиваем выборку на обучающую и тестовую и обучаем нашу модель:"
   ],
   "cell_type": "markdown",
   "metadata": {}
  },
  {
   "cell_type": "code",
   "execution_count": 34,
   "metadata": {},
   "outputs": [
    {
     "output_type": "execute_result",
     "data": {
      "text/plain": [
       "LogisticRegression(C=1.0, class_weight=None, dual=False, fit_intercept=True,\n",
       "                   intercept_scaling=1, l1_ratio=None, max_iter=100,\n",
       "                   multi_class='auto', n_jobs=None, penalty='l2',\n",
       "                   random_state=None, solver='lbfgs', tol=0.0001, verbose=0,\n",
       "                   warm_start=False)"
      ]
     },
     "metadata": {},
     "execution_count": 34
    }
   ],
   "source": [
    "X_train, X_val, Y_train, Y_val = train_test_split(X, Y, test_size = 0.2, random_state=31)\n",
    "model = LogisticRegression()\n",
    "model.fit(X_train, Y_train)"
   ]
  },
  {
   "source": [
    "Готово! Теперь осталось только вычислить необходимые метрики:"
   ],
   "cell_type": "markdown",
   "metadata": {}
  },
  {
   "cell_type": "code",
   "execution_count": 35,
   "metadata": {},
   "outputs": [
    {
     "output_type": "stream",
     "name": "stdout",
     "text": [
      "0.9875\n0.9859154929577465\n0.9905660377358491\n0.9882352941176472\n"
     ]
    }
   ],
   "source": [
    "from sklearn.metrics import accuracy_score, precision_score, recall_score, f1_score\n",
    "\n",
    "Y_predicted = model.predict(X_val)\n",
    "print(accuracy_score(Y_val,Y_predicted))\n",
    "print('! ', precision_score(Y_val,Y_predicted))\n",
    "print(recall_score(Y_val,Y_predicted))\n",
    "print(f1_score(Y_val,Y_predicted))"
   ]
  },
  {
   "source": [
    "Загрузите встроенный в библиотеку sklearn датасет про ирисы с помощью функции load_iris. Обучите модель логистической регрессии (random_state=50, размер тестовой выборки 0.3) и укажите полученное значение метрики Accuracy."
   ],
   "cell_type": "markdown",
   "metadata": {}
  },
  {
   "cell_type": "code",
   "execution_count": 6,
   "metadata": {},
   "outputs": [],
   "source": [
    "from sklearn.datasets import load_iris # подгружаем датасет\n",
    "iris = load_iris()"
   ]
  },
  {
   "cell_type": "code",
   "execution_count": 8,
   "metadata": {},
   "outputs": [
    {
     "output_type": "stream",
     "name": "stdout",
     "text": [
      "0.9777777777777777\n"
     ]
    }
   ],
   "source": [
    "Y = iris.target \n",
    "X = iris.data\n",
    "\n",
    "X_train, X_val, Y_train, Y_val = train_test_split(X, Y, test_size = 0.3)\n",
    "model = LogisticRegression()\n",
    "model.fit(X_train, Y_train)\n",
    "\n",
    "\n",
    "Y_predicted = model.predict(X_val)\n",
    "print(accuracy_score(Y_val,Y_predicted))"
   ]
  },
  {
   "cell_type": "code",
   "execution_count": 37,
   "metadata": {},
   "outputs": [
    {
     "output_type": "execute_result",
     "data": {
      "text/plain": [
       "2.343407087514302"
      ]
     },
     "metadata": {},
     "execution_count": 37
    }
   ],
   "source": [
    "from sklearn.metrics import log_loss\n",
    "\n",
    "X = np.array([0, 0, 1, 1])\n",
    "Y = np.array([.2, .8, 1, .6])\n",
    "\n",
    "log_loss(X, Y, normalize=False)"
   ]
  },
  {
   "cell_type": "code",
   "execution_count": 38,
   "metadata": {},
   "outputs": [
    {
     "output_type": "execute_result",
     "data": {
      "text/plain": [
       "2.995732273553994"
      ]
     },
     "metadata": {},
     "execution_count": 38
    }
   ],
   "source": [
    "X = np.array([[0,0,1],[0,0,1],[1,0,0]])\n",
    "Y = np.array([[.2,.3,.5],[0,0,1],[.1,0,.9]])\n",
    "\n",
    "log_loss(X, Y)"
   ]
  }
 ]
}