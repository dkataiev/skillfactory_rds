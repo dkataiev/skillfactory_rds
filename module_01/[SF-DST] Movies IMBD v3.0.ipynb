{
 "cells": [
  {
   "metadata": {
    "_cell_guid": "b1076dfc-b9ad-4769-8c92-a6c4dae69d19",
    "_uuid": "8f2839f25d086af736a60e9eeb907d3b93b6e0e5",
    "trusted": true
   },
   "cell_type": "code",
   "source": [
    "import itertools\n",
    "import os\n",
    "from collections import Counter\n",
    "\n",
    "import numpy as np\n",
    "import pandas as pd\n",
    "from IPython.core.display import display\n",
    "print(os.listdir(\"../input\"))"
   ],
   "execution_count": 119,
   "outputs": [
    {
     "name": "stdout",
     "output_type": "stream",
     "text": [
      "['.DS_Store', 'imbd-sf']\n"
     ]
    }
   ]
  },
  {
   "metadata": {
    "trusted": true
   },
   "cell_type": "code",
   "source": [
    "data = pd.read_csv('../input/imbd-sf/data.csv')\n",
    "data.head(5)"
   ],
   "execution_count": 120,
   "outputs": [
    {
     "data": {
      "text/plain": "     imdb_id  popularity     budget     revenue                original_title  \\\n0  tt0369610   32.985763  150000000  1513528810                Jurassic World   \n1  tt1392190   28.419936  150000000   378436354            Mad Max: Fury Road   \n2  tt2908446   13.112507  110000000   295238201                     Insurgent   \n3  tt2488496   11.173104  200000000  2068178225  Star Wars: The Force Awakens   \n4  tt2820852    9.335014  190000000  1506249360                     Furious 7   \n\n                                                cast          director  \\\n0  Chris Pratt|Bryce Dallas Howard|Irrfan Khan|Vi...   Colin Trevorrow   \n1  Tom Hardy|Charlize Theron|Hugh Keays-Byrne|Nic...     George Miller   \n2  Shailene Woodley|Theo James|Kate Winslet|Ansel...  Robert Schwentke   \n3  Harrison Ford|Mark Hamill|Carrie Fisher|Adam D...       J.J. Abrams   \n4  Vin Diesel|Paul Walker|Jason Statham|Michelle ...         James Wan   \n\n                         tagline  \\\n0              The park is open.   \n1             What a Lovely Day.   \n2     One Choice Can Destroy You   \n3  Every generation has a story.   \n4            Vengeance Hits Home   \n\n                                            overview  runtime  \\\n0  Twenty-two years after the events of Jurassic ...      124   \n1  An apocalyptic story set in the furthest reach...      120   \n2  Beatrice Prior must confront her inner demons ...      119   \n3  Thirty years after defeating the Galactic Empi...      136   \n4  Deckard Shaw seeks revenge against Dominic Tor...      137   \n\n                                      genres  \\\n0  Action|Adventure|Science Fiction|Thriller   \n1  Action|Adventure|Science Fiction|Thriller   \n2         Adventure|Science Fiction|Thriller   \n3   Action|Adventure|Science Fiction|Fantasy   \n4                      Action|Crime|Thriller   \n\n                                production_companies release_date  vote_count  \\\n0  Universal Studios|Amblin Entertainment|Legenda...     6/9/2015        5562   \n1  Village Roadshow Pictures|Kennedy Miller Produ...    5/13/2015        6185   \n2  Summit Entertainment|Mandeville Films|Red Wago...    3/18/2015        2480   \n3          Lucasfilm|Truenorth Productions|Bad Robot   12/15/2015        5292   \n4  Universal Pictures|Original Film|Media Rights ...     4/1/2015        2947   \n\n   vote_average  release_year  \n0           6.5          2015  \n1           7.1          2015  \n2           6.3          2015  \n3           7.5          2015  \n4           7.3          2015  ",
      "text/html": "<div>\n<style scoped>\n    .dataframe tbody tr th:only-of-type {\n        vertical-align: middle;\n    }\n\n    .dataframe tbody tr th {\n        vertical-align: top;\n    }\n\n    .dataframe thead th {\n        text-align: right;\n    }\n</style>\n<table border=\"1\" class=\"dataframe\">\n  <thead>\n    <tr style=\"text-align: right;\">\n      <th></th>\n      <th>imdb_id</th>\n      <th>popularity</th>\n      <th>budget</th>\n      <th>revenue</th>\n      <th>original_title</th>\n      <th>cast</th>\n      <th>director</th>\n      <th>tagline</th>\n      <th>overview</th>\n      <th>runtime</th>\n      <th>genres</th>\n      <th>production_companies</th>\n      <th>release_date</th>\n      <th>vote_count</th>\n      <th>vote_average</th>\n      <th>release_year</th>\n    </tr>\n  </thead>\n  <tbody>\n    <tr>\n      <th>0</th>\n      <td>tt0369610</td>\n      <td>32.985763</td>\n      <td>150000000</td>\n      <td>1513528810</td>\n      <td>Jurassic World</td>\n      <td>Chris Pratt|Bryce Dallas Howard|Irrfan Khan|Vi...</td>\n      <td>Colin Trevorrow</td>\n      <td>The park is open.</td>\n      <td>Twenty-two years after the events of Jurassic ...</td>\n      <td>124</td>\n      <td>Action|Adventure|Science Fiction|Thriller</td>\n      <td>Universal Studios|Amblin Entertainment|Legenda...</td>\n      <td>6/9/2015</td>\n      <td>5562</td>\n      <td>6.5</td>\n      <td>2015</td>\n    </tr>\n    <tr>\n      <th>1</th>\n      <td>tt1392190</td>\n      <td>28.419936</td>\n      <td>150000000</td>\n      <td>378436354</td>\n      <td>Mad Max: Fury Road</td>\n      <td>Tom Hardy|Charlize Theron|Hugh Keays-Byrne|Nic...</td>\n      <td>George Miller</td>\n      <td>What a Lovely Day.</td>\n      <td>An apocalyptic story set in the furthest reach...</td>\n      <td>120</td>\n      <td>Action|Adventure|Science Fiction|Thriller</td>\n      <td>Village Roadshow Pictures|Kennedy Miller Produ...</td>\n      <td>5/13/2015</td>\n      <td>6185</td>\n      <td>7.1</td>\n      <td>2015</td>\n    </tr>\n    <tr>\n      <th>2</th>\n      <td>tt2908446</td>\n      <td>13.112507</td>\n      <td>110000000</td>\n      <td>295238201</td>\n      <td>Insurgent</td>\n      <td>Shailene Woodley|Theo James|Kate Winslet|Ansel...</td>\n      <td>Robert Schwentke</td>\n      <td>One Choice Can Destroy You</td>\n      <td>Beatrice Prior must confront her inner demons ...</td>\n      <td>119</td>\n      <td>Adventure|Science Fiction|Thriller</td>\n      <td>Summit Entertainment|Mandeville Films|Red Wago...</td>\n      <td>3/18/2015</td>\n      <td>2480</td>\n      <td>6.3</td>\n      <td>2015</td>\n    </tr>\n    <tr>\n      <th>3</th>\n      <td>tt2488496</td>\n      <td>11.173104</td>\n      <td>200000000</td>\n      <td>2068178225</td>\n      <td>Star Wars: The Force Awakens</td>\n      <td>Harrison Ford|Mark Hamill|Carrie Fisher|Adam D...</td>\n      <td>J.J. Abrams</td>\n      <td>Every generation has a story.</td>\n      <td>Thirty years after defeating the Galactic Empi...</td>\n      <td>136</td>\n      <td>Action|Adventure|Science Fiction|Fantasy</td>\n      <td>Lucasfilm|Truenorth Productions|Bad Robot</td>\n      <td>12/15/2015</td>\n      <td>5292</td>\n      <td>7.5</td>\n      <td>2015</td>\n    </tr>\n    <tr>\n      <th>4</th>\n      <td>tt2820852</td>\n      <td>9.335014</td>\n      <td>190000000</td>\n      <td>1506249360</td>\n      <td>Furious 7</td>\n      <td>Vin Diesel|Paul Walker|Jason Statham|Michelle ...</td>\n      <td>James Wan</td>\n      <td>Vengeance Hits Home</td>\n      <td>Deckard Shaw seeks revenge against Dominic Tor...</td>\n      <td>137</td>\n      <td>Action|Crime|Thriller</td>\n      <td>Universal Pictures|Original Film|Media Rights ...</td>\n      <td>4/1/2015</td>\n      <td>2947</td>\n      <td>7.3</td>\n      <td>2015</td>\n    </tr>\n  </tbody>\n</table>\n</div>"
     },
     "execution_count": 120,
     "metadata": {},
     "output_type": "execute_result"
    }
   ]
  },
  {
   "metadata": {
    "trusted": true
   },
   "cell_type": "code",
   "source": [
    "len(data)"
   ],
   "execution_count": 121,
   "outputs": [
    {
     "data": {
      "text/plain": "1890"
     },
     "execution_count": 121,
     "metadata": {},
     "output_type": "execute_result"
    }
   ]
  },
  {
   "metadata": {},
   "cell_type": "markdown",
   "source": [
    "# Предобработка датасета"
   ]
  },
  {
   "metadata": {
    "trusted": true
   },
   "cell_type": "code",
   "source": [
    "# сюда можем вписать создание новых колонок в датасете\n",
    "answer_ls = [] # создадим список с ответами. сюда будем добавлять ответы по мере прохождения теста\n",
    "\n",
    "# Добавим нужных нам показателей\n",
    "def has_genre(record, genre):\n",
    "    return record['genres'].str.contains(genre)\n",
    "\n",
    "def get_release_month(record):\n",
    "    return record['release_date'].str.split('/').str[0].astype(int);\n",
    "\n",
    "data = data.assign(\n",
    "    # profit  - прибыль на основе бюджета и дохода\n",
    "    profit = lambda x: x['revenue'] - x['budget'],\n",
    "    # is_action       - показатель того, имеет ли фильм 'Action' в списке жанров\n",
    "    is_action = lambda x: has_genre(x, 'Action'),\n",
    "    # is_adventure    - показатель того, имеет ли фильм 'Adventure' в списке жанров\n",
    "    is_adventure = lambda x: has_genre(x, 'Adventure'),\n",
    "    # is_drama        - показатель того, имеет ли фильм 'Drama' в списке жанров\n",
    "    is_drama = lambda x: has_genre(x, 'Drama'),\n",
    "    # is_comedy       - показатель того, имеет ли фильм 'Comedy' в списке жанров\n",
    "    is_comedy = lambda x: has_genre(x, 'Comedy'),\n",
    "    # is_thriller     - показатель того, имеет ли фильм 'Thriller' в списке жанров\n",
    "    is_thriller = lambda x: has_genre(x, 'Thriller'),\n",
    "    # is_thriller     - месяц выпуска фильма\n",
    "    release_month = lambda x: get_release_month(x),\n",
    ")\n",
    "display(data.head(5))\n",
    "\n",
    "# Создадим справочник с информацией о том, в каких фильмах играли актеры\n",
    "cast = pd.DataFrame(data.cast.str.split('|').tolist(), index = data.imdb_id).stack()\n",
    "cast = cast.reset_index([0, 'imdb_id'])\n",
    "cast.columns = ['imdb_id', 'actor']\n",
    "display(cast.head(5))\n",
    "\n",
    "# Создадим справочник с информацией о том, какие студии были задействованы при съемках каждого фильма\n",
    "production_companies = pd.DataFrame(data.production_companies.str.split('|').tolist(), index = data.imdb_id).stack()\n",
    "production_companies = production_companies.reset_index([0, 'imdb_id'])\n",
    "production_companies.columns = ['imdb_id', 'company']\n",
    "display(production_companies.head(5))\n",
    "\n",
    "# Создадим справочник с информацией о том, какой режиссер работал над каждым фильмом\n",
    "film_directors = pd.DataFrame(data.director.str.split('|').tolist(), index = data.imdb_id).stack()\n",
    "film_directors = film_directors.reset_index([0, 'imdb_id'])\n",
    "film_directors.columns = ['imdb_id', 'film_director']\n",
    "display(film_directors.head(5))"
   ],
   "execution_count": 122,
   "outputs": [
    {
     "data": {
      "text/plain": "     imdb_id  popularity     budget     revenue                original_title  \\\n0  tt0369610   32.985763  150000000  1513528810                Jurassic World   \n1  tt1392190   28.419936  150000000   378436354            Mad Max: Fury Road   \n2  tt2908446   13.112507  110000000   295238201                     Insurgent   \n3  tt2488496   11.173104  200000000  2068178225  Star Wars: The Force Awakens   \n4  tt2820852    9.335014  190000000  1506249360                     Furious 7   \n\n                                                cast          director  \\\n0  Chris Pratt|Bryce Dallas Howard|Irrfan Khan|Vi...   Colin Trevorrow   \n1  Tom Hardy|Charlize Theron|Hugh Keays-Byrne|Nic...     George Miller   \n2  Shailene Woodley|Theo James|Kate Winslet|Ansel...  Robert Schwentke   \n3  Harrison Ford|Mark Hamill|Carrie Fisher|Adam D...       J.J. Abrams   \n4  Vin Diesel|Paul Walker|Jason Statham|Michelle ...         James Wan   \n\n                         tagline  \\\n0              The park is open.   \n1             What a Lovely Day.   \n2     One Choice Can Destroy You   \n3  Every generation has a story.   \n4            Vengeance Hits Home   \n\n                                            overview  runtime  ... vote_count  \\\n0  Twenty-two years after the events of Jurassic ...      124  ...       5562   \n1  An apocalyptic story set in the furthest reach...      120  ...       6185   \n2  Beatrice Prior must confront her inner demons ...      119  ...       2480   \n3  Thirty years after defeating the Galactic Empi...      136  ...       5292   \n4  Deckard Shaw seeks revenge against Dominic Tor...      137  ...       2947   \n\n  vote_average release_year      profit  is_action  is_adventure  is_drama  \\\n0          6.5         2015  1363528810       True          True     False   \n1          7.1         2015   228436354       True          True     False   \n2          6.3         2015   185238201      False          True     False   \n3          7.5         2015  1868178225       True          True     False   \n4          7.3         2015  1316249360       True         False     False   \n\n   is_comedy  is_thriller  release_month  \n0      False         True              6  \n1      False         True              5  \n2      False         True              3  \n3      False        False             12  \n4      False         True              4  \n\n[5 rows x 23 columns]",
      "text/html": "<div>\n<style scoped>\n    .dataframe tbody tr th:only-of-type {\n        vertical-align: middle;\n    }\n\n    .dataframe tbody tr th {\n        vertical-align: top;\n    }\n\n    .dataframe thead th {\n        text-align: right;\n    }\n</style>\n<table border=\"1\" class=\"dataframe\">\n  <thead>\n    <tr style=\"text-align: right;\">\n      <th></th>\n      <th>imdb_id</th>\n      <th>popularity</th>\n      <th>budget</th>\n      <th>revenue</th>\n      <th>original_title</th>\n      <th>cast</th>\n      <th>director</th>\n      <th>tagline</th>\n      <th>overview</th>\n      <th>runtime</th>\n      <th>...</th>\n      <th>vote_count</th>\n      <th>vote_average</th>\n      <th>release_year</th>\n      <th>profit</th>\n      <th>is_action</th>\n      <th>is_adventure</th>\n      <th>is_drama</th>\n      <th>is_comedy</th>\n      <th>is_thriller</th>\n      <th>release_month</th>\n    </tr>\n  </thead>\n  <tbody>\n    <tr>\n      <th>0</th>\n      <td>tt0369610</td>\n      <td>32.985763</td>\n      <td>150000000</td>\n      <td>1513528810</td>\n      <td>Jurassic World</td>\n      <td>Chris Pratt|Bryce Dallas Howard|Irrfan Khan|Vi...</td>\n      <td>Colin Trevorrow</td>\n      <td>The park is open.</td>\n      <td>Twenty-two years after the events of Jurassic ...</td>\n      <td>124</td>\n      <td>...</td>\n      <td>5562</td>\n      <td>6.5</td>\n      <td>2015</td>\n      <td>1363528810</td>\n      <td>True</td>\n      <td>True</td>\n      <td>False</td>\n      <td>False</td>\n      <td>True</td>\n      <td>6</td>\n    </tr>\n    <tr>\n      <th>1</th>\n      <td>tt1392190</td>\n      <td>28.419936</td>\n      <td>150000000</td>\n      <td>378436354</td>\n      <td>Mad Max: Fury Road</td>\n      <td>Tom Hardy|Charlize Theron|Hugh Keays-Byrne|Nic...</td>\n      <td>George Miller</td>\n      <td>What a Lovely Day.</td>\n      <td>An apocalyptic story set in the furthest reach...</td>\n      <td>120</td>\n      <td>...</td>\n      <td>6185</td>\n      <td>7.1</td>\n      <td>2015</td>\n      <td>228436354</td>\n      <td>True</td>\n      <td>True</td>\n      <td>False</td>\n      <td>False</td>\n      <td>True</td>\n      <td>5</td>\n    </tr>\n    <tr>\n      <th>2</th>\n      <td>tt2908446</td>\n      <td>13.112507</td>\n      <td>110000000</td>\n      <td>295238201</td>\n      <td>Insurgent</td>\n      <td>Shailene Woodley|Theo James|Kate Winslet|Ansel...</td>\n      <td>Robert Schwentke</td>\n      <td>One Choice Can Destroy You</td>\n      <td>Beatrice Prior must confront her inner demons ...</td>\n      <td>119</td>\n      <td>...</td>\n      <td>2480</td>\n      <td>6.3</td>\n      <td>2015</td>\n      <td>185238201</td>\n      <td>False</td>\n      <td>True</td>\n      <td>False</td>\n      <td>False</td>\n      <td>True</td>\n      <td>3</td>\n    </tr>\n    <tr>\n      <th>3</th>\n      <td>tt2488496</td>\n      <td>11.173104</td>\n      <td>200000000</td>\n      <td>2068178225</td>\n      <td>Star Wars: The Force Awakens</td>\n      <td>Harrison Ford|Mark Hamill|Carrie Fisher|Adam D...</td>\n      <td>J.J. Abrams</td>\n      <td>Every generation has a story.</td>\n      <td>Thirty years after defeating the Galactic Empi...</td>\n      <td>136</td>\n      <td>...</td>\n      <td>5292</td>\n      <td>7.5</td>\n      <td>2015</td>\n      <td>1868178225</td>\n      <td>True</td>\n      <td>True</td>\n      <td>False</td>\n      <td>False</td>\n      <td>False</td>\n      <td>12</td>\n    </tr>\n    <tr>\n      <th>4</th>\n      <td>tt2820852</td>\n      <td>9.335014</td>\n      <td>190000000</td>\n      <td>1506249360</td>\n      <td>Furious 7</td>\n      <td>Vin Diesel|Paul Walker|Jason Statham|Michelle ...</td>\n      <td>James Wan</td>\n      <td>Vengeance Hits Home</td>\n      <td>Deckard Shaw seeks revenge against Dominic Tor...</td>\n      <td>137</td>\n      <td>...</td>\n      <td>2947</td>\n      <td>7.3</td>\n      <td>2015</td>\n      <td>1316249360</td>\n      <td>True</td>\n      <td>False</td>\n      <td>False</td>\n      <td>False</td>\n      <td>True</td>\n      <td>4</td>\n    </tr>\n  </tbody>\n</table>\n<p>5 rows × 23 columns</p>\n</div>"
     },
     "metadata": {},
     "output_type": "display_data"
    },
    {
     "data": {
      "text/plain": "     imdb_id                actor\n0  tt0369610          Chris Pratt\n1  tt0369610  Bryce Dallas Howard\n2  tt0369610          Irrfan Khan\n3  tt0369610    Vincent D'Onofrio\n4  tt0369610        Nick Robinson",
      "text/html": "<div>\n<style scoped>\n    .dataframe tbody tr th:only-of-type {\n        vertical-align: middle;\n    }\n\n    .dataframe tbody tr th {\n        vertical-align: top;\n    }\n\n    .dataframe thead th {\n        text-align: right;\n    }\n</style>\n<table border=\"1\" class=\"dataframe\">\n  <thead>\n    <tr style=\"text-align: right;\">\n      <th></th>\n      <th>imdb_id</th>\n      <th>actor</th>\n    </tr>\n  </thead>\n  <tbody>\n    <tr>\n      <th>0</th>\n      <td>tt0369610</td>\n      <td>Chris Pratt</td>\n    </tr>\n    <tr>\n      <th>1</th>\n      <td>tt0369610</td>\n      <td>Bryce Dallas Howard</td>\n    </tr>\n    <tr>\n      <th>2</th>\n      <td>tt0369610</td>\n      <td>Irrfan Khan</td>\n    </tr>\n    <tr>\n      <th>3</th>\n      <td>tt0369610</td>\n      <td>Vincent D'Onofrio</td>\n    </tr>\n    <tr>\n      <th>4</th>\n      <td>tt0369610</td>\n      <td>Nick Robinson</td>\n    </tr>\n  </tbody>\n</table>\n</div>"
     },
     "metadata": {},
     "output_type": "display_data"
    },
    {
     "data": {
      "text/plain": "     imdb_id                  company\n0  tt0369610        Universal Studios\n1  tt0369610     Amblin Entertainment\n2  tt0369610       Legendary Pictures\n3  tt0369610  Fuji Television Network\n4  tt0369610                   Dentsu",
      "text/html": "<div>\n<style scoped>\n    .dataframe tbody tr th:only-of-type {\n        vertical-align: middle;\n    }\n\n    .dataframe tbody tr th {\n        vertical-align: top;\n    }\n\n    .dataframe thead th {\n        text-align: right;\n    }\n</style>\n<table border=\"1\" class=\"dataframe\">\n  <thead>\n    <tr style=\"text-align: right;\">\n      <th></th>\n      <th>imdb_id</th>\n      <th>company</th>\n    </tr>\n  </thead>\n  <tbody>\n    <tr>\n      <th>0</th>\n      <td>tt0369610</td>\n      <td>Universal Studios</td>\n    </tr>\n    <tr>\n      <th>1</th>\n      <td>tt0369610</td>\n      <td>Amblin Entertainment</td>\n    </tr>\n    <tr>\n      <th>2</th>\n      <td>tt0369610</td>\n      <td>Legendary Pictures</td>\n    </tr>\n    <tr>\n      <th>3</th>\n      <td>tt0369610</td>\n      <td>Fuji Television Network</td>\n    </tr>\n    <tr>\n      <th>4</th>\n      <td>tt0369610</td>\n      <td>Dentsu</td>\n    </tr>\n  </tbody>\n</table>\n</div>"
     },
     "metadata": {},
     "output_type": "display_data"
    },
    {
     "data": {
      "text/plain": "     imdb_id     film_director\n0  tt0369610   Colin Trevorrow\n1  tt1392190     George Miller\n2  tt2908446  Robert Schwentke\n3  tt2488496       J.J. Abrams\n4  tt2820852         James Wan",
      "text/html": "<div>\n<style scoped>\n    .dataframe tbody tr th:only-of-type {\n        vertical-align: middle;\n    }\n\n    .dataframe tbody tr th {\n        vertical-align: top;\n    }\n\n    .dataframe thead th {\n        text-align: right;\n    }\n</style>\n<table border=\"1\" class=\"dataframe\">\n  <thead>\n    <tr style=\"text-align: right;\">\n      <th></th>\n      <th>imdb_id</th>\n      <th>film_director</th>\n    </tr>\n  </thead>\n  <tbody>\n    <tr>\n      <th>0</th>\n      <td>tt0369610</td>\n      <td>Colin Trevorrow</td>\n    </tr>\n    <tr>\n      <th>1</th>\n      <td>tt1392190</td>\n      <td>George Miller</td>\n    </tr>\n    <tr>\n      <th>2</th>\n      <td>tt2908446</td>\n      <td>Robert Schwentke</td>\n    </tr>\n    <tr>\n      <th>3</th>\n      <td>tt2488496</td>\n      <td>J.J. Abrams</td>\n    </tr>\n    <tr>\n      <th>4</th>\n      <td>tt2820852</td>\n      <td>James Wan</td>\n    </tr>\n  </tbody>\n</table>\n</div>"
     },
     "metadata": {},
     "output_type": "display_data"
    }
   ]
  },
  {
   "metadata": {},
   "cell_type": "markdown",
   "source": [
    "# 1. У какого фильма из списка самый большой бюджет?\n",
    "\n",
    "Варианты ответов:\n",
    "1. The Dark Knight Rises (tt1345836)\n",
    "2. Spider-Man 3 (tt0413300)\n",
    "3. Avengers: Age of Ultron (tt2395427)\n",
    "4. The Warrior's Way\t(tt1032751)\n",
    "5. Pirates of the Caribbean: On Stranger Tides (tt1298650)"
   ]
  },
  {
   "metadata": {
    "trusted": true
   },
   "cell_type": "code",
   "source": [
    "solution = data[data.budget == data.budget.max()]\n",
    "answer_ls.append(\"4. The Warrior's Way\t(tt1032751)\")"
   ],
   "execution_count": 123,
   "outputs": []
  },
  {
   "metadata": {},
   "cell_type": "markdown",
   "source": [
    "# 2. Какой из фильмов самый длительный (в минутах)\n",
    "\n",
    "Варианты ответов:\n",
    "1. The Lord of the Rings: The Return of the King\t(tt0167260)\n",
    "2. Gods and Generals\t(tt0279111)\n",
    "3. King Kong\t(tt0360717)\n",
    "4. Pearl Harbor\t(tt0213149)\n",
    "5. Alexander\t(tt0346491)"
   ]
  },
  {
   "metadata": {
    "trusted": true
   },
   "cell_type": "code",
   "source": [
    "solution = data[data.runtime == data.runtime.max()]\n",
    "answer_ls.append(\"2. Gods and Generals\t(tt0279111)\")"
   ],
   "execution_count": 124,
   "outputs": []
  },
  {
   "metadata": {},
   "cell_type": "markdown",
   "source": [
    "# 3. Какой из фильмов самый короткий (в минутах)\n",
    "\n",
    "Варианты ответов:\n",
    "1. Home on the Range\ttt0299172\n",
    "2. The Jungle Book 2\ttt0283426\n",
    "3. Winnie the Pooh\ttt1449283\n",
    "4. Corpse Bride\ttt0121164\n",
    "5. Hoodwinked!\ttt0443536"
   ]
  },
  {
   "metadata": {
    "trusted": true
   },
   "cell_type": "code",
   "source": [
    "solution = data[data.runtime == data.runtime.min()]\n",
    "answer_ls.append(\"3. Winnie the Pooh\ttt1449283\")"
   ],
   "execution_count": 125,
   "outputs": []
  },
  {
   "metadata": {},
   "cell_type": "markdown",
   "source": [
    "# 4. Средняя длительность фильма?\n",
    "\n",
    "Варианты ответов:\n",
    "1. 115\n",
    "2. 110\n",
    "3. 105\n",
    "4. 120\n",
    "5. 100"
   ]
  },
  {
   "metadata": {
    "trusted": true
   },
   "cell_type": "code",
   "source": [
    "solution = data.runtime.mean()\n",
    "answer_ls.append(\"2. 110\")"
   ],
   "execution_count": 126,
   "outputs": []
  },
  {
   "metadata": {},
   "cell_type": "markdown",
   "source": [
    "# 5. Средняя длительность фильма по медиане?\n",
    "\n",
    "Варианты ответов:\n",
    "1. 106\n",
    "2. 112\n",
    "3. 101\n",
    "4. 120\n",
    "5. 115"
   ]
  },
  {
   "metadata": {
    "trusted": true
   },
   "cell_type": "code",
   "source": [
    "solution = data.runtime.median()\n",
    "answer_ls.append(\"2. 106\")"
   ],
   "execution_count": 127,
   "outputs": []
  },
  {
   "metadata": {},
   "cell_type": "markdown",
   "source": [
    "# 6. Какой самый прибыльный фильм?\n",
    "\n",
    "Варианты ответов:\n",
    "1. The Avengers\ttt0848228\n",
    "2. Minions\ttt2293640\n",
    "3. Star Wars: The Force Awakens\ttt2488496\n",
    "4. Furious 7\ttt2820852\n",
    "5. Avatar\ttt0499549"
   ]
  },
  {
   "metadata": {
    "trusted": true
   },
   "cell_type": "code",
   "source": [
    "solution = data[data.profit == data.profit.max()]\n",
    "answer_ls.append(\"5. Avatar\ttt0499549\")"
   ],
   "execution_count": 128,
   "outputs": []
  },
  {
   "metadata": {},
   "cell_type": "markdown",
   "source": [
    "# 7. Какой фильм самый убыточный?\n",
    "\n",
    "Варианты ответов:\n",
    "1. Supernova tt0134983\n",
    "2. The Warrior's Way tt1032751\n",
    "3. Flushed Away\ttt0424095\n",
    "4. The Adventures of Pluto Nash\ttt0180052\n",
    "5. The Lone Ranger\ttt1210819"
   ]
  },
  {
   "metadata": {
    "trusted": true
   },
   "cell_type": "code",
   "source": [
    "solution = data[data.profit == data.profit.min()]\n",
    "answer_ls.append(\"2. The Warrior's Way tt1032751\")"
   ],
   "execution_count": 129,
   "outputs": []
  },
  {
   "metadata": {},
   "cell_type": "markdown",
   "source": [
    "# 8. Сколько всего фильмов в прибыли?\n",
    "\n",
    "Варианты ответов:\n",
    "1. 1478\n",
    "2. 1520\n",
    "3. 1241\n",
    "4. 1135\n",
    "5. 1398"
   ]
  },
  {
   "metadata": {
    "trusted": true
   },
   "cell_type": "code",
   "source": [
    "solution = len(data[data.profit > 0])\n",
    "answer_ls.append(\"1. 1478\")"
   ],
   "execution_count": 130,
   "outputs": []
  },
  {
   "metadata": {},
   "cell_type": "markdown",
   "source": [
    "# 9. Самый прибыльный фильм в 2008 году?\n",
    "\n",
    "Варианты ответов:\n",
    "1. Madagascar: Escape 2 Africa\ttt0479952\n",
    "2. Iron Man\ttt0371746\n",
    "3. Kung Fu Panda\ttt0441773\n",
    "4. The Dark Knight\ttt0468569\n",
    "5. Mamma Mia!\ttt0795421"
   ]
  },
  {
   "metadata": {
    "trusted": true,
    "pycharm": {
     "name": "#%%\n"
    }
   },
   "cell_type": "code",
   "source": [
    "profits_2008 = data[data.release_year == 2008]\n",
    "\n",
    "solution = profits_2008[profits_2008.profit == profits_2008.profit.max()]\n",
    "answer_ls.append(\"4. The Dark Knight\ttt0468569\")"
   ],
   "execution_count": 131,
   "outputs": []
  },
  {
   "metadata": {},
   "cell_type": "markdown",
   "source": [
    "# 10. Самый убыточный фильм за период с 2012 по 2014 (включительно)?\n",
    "\n",
    "Варианты ответов:\n",
    "1. Winter's Tale\ttt1837709\n",
    "2. Stolen\ttt1656186\n",
    "3. Broken City\ttt1235522\n",
    "4. Upside Down\ttt1374992\n",
    "5. The Lone Ranger\ttt1210819"
   ]
  },
  {
   "metadata": {
    "trusted": true
   },
   "cell_type": "code",
   "source": [
    "profits_2012_2014 = data[(data.release_year >= 2012) & (data.release_year <= 2014)]\n",
    "\n",
    "solution = profits_2012_2014[profits_2012_2014.profit == profits_2012_2014.profit.min()]\n",
    "answer_ls.append(\"5. The Lone Ranger\ttt1210819\")"
   ],
   "execution_count": 132,
   "outputs": []
  },
  {
   "metadata": {},
   "cell_type": "markdown",
   "source": [
    "# 11. Какого жанра фильмов больше всего?\n",
    "\n",
    "Варианты ответов:\n",
    "1. Action\n",
    "2. Adventure\n",
    "3. Drama\n",
    "4. Comedy\n",
    "5. Thriller"
   ]
  },
  {
   "metadata": {
    "trusted": true
   },
   "cell_type": "code",
   "source": [
    "data.describe(include=['bool'])\n",
    "answer_ls.append('3. Drama')"
   ],
   "execution_count": 133,
   "outputs": []
  },
  {
   "metadata": {},
   "cell_type": "markdown",
   "source": [
    "# 12. Какого жанра среди прибыльных фильмов больше всего?\n",
    "\n",
    "Варианты ответов:\n",
    "1. Drama\n",
    "2. Comedy\n",
    "3. Action\n",
    "4. Thriller\n",
    "5. Adventure"
   ]
  },
  {
   "metadata": {
    "trusted": true
   },
   "cell_type": "code",
   "source": [
    "data[data.profit > 0].describe(include=['bool'])\n",
    "answer_ls.append('1. Drama')"
   ],
   "execution_count": 134,
   "outputs": []
  },
  {
   "metadata": {},
   "cell_type": "markdown",
   "source": [
    "# 13. Кто из режиссеров снял больше всего фильмов?\n",
    "\n",
    "Варианты ответов:\n",
    "1. Steven Spielberg\n",
    "2. Ridley Scott\n",
    "3. Steven Soderbergh\n",
    "4. Christopher Nolan\n",
    "5. Clint Eastwood"
   ]
  },
  {
   "metadata": {
    "trusted": true
   },
   "cell_type": "code",
   "source": [
    "solution = data.director.value_counts()\n",
    "answer_ls.append('3. Steven Soderbergh')"
   ],
   "execution_count": 135,
   "outputs": []
  },
  {
   "metadata": {},
   "cell_type": "markdown",
   "source": [
    "# 14. Кто из режиссеров снял больше всего Прибыльных фильмов?\n",
    "\n",
    "Варианты ответов:\n",
    "1. Steven Soderbergh\n",
    "2. Clint Eastwood\n",
    "3. Steven Spielberg\n",
    "4. Ridley Scott\n",
    "5. Christopher Nolan"
   ]
  },
  {
   "metadata": {
    "trusted": true
   },
   "cell_type": "code",
   "source": [
    "solution = data[data.profit > 0].director.value_counts()\n",
    "answer_ls.append('4. Ridley Scott')"
   ],
   "execution_count": 136,
   "outputs": []
  },
  {
   "metadata": {},
   "cell_type": "markdown",
   "source": [
    "# 15. Кто из режиссеров принес больше всего прибыли?\n",
    "\n",
    "Варианты ответов:\n",
    "1. Steven Spielberg\n",
    "2. Christopher Nolan\n",
    "3. David Yates\n",
    "4. James Cameron\n",
    "5. Peter Jackson"
   ]
  },
  {
   "metadata": {
    "trusted": true
   },
   "cell_type": "code",
   "source": [
    "solution = data.groupby('director').profit.sum().sort_values(ascending=False)\n",
    "answer_ls.append('5. Peter Jackson')"
   ],
   "execution_count": 137,
   "outputs": []
  },
  {
   "metadata": {},
   "cell_type": "markdown",
   "source": [
    "# 16. Какой актер принес больше всего прибыли?\n",
    "\n",
    "Варианты ответов:\n",
    "1. Emma Watson\n",
    "2. Johnny Depp\n",
    "3. Michelle Rodriguez\n",
    "4. Orlando Bloom\n",
    "5. Rupert Grint"
   ]
  },
  {
   "metadata": {
    "trusted": true
   },
   "cell_type": "code",
   "source": [
    "joined = data.merge(cast, on='imdb_id', how='inner')\n",
    "\n",
    "solution = joined.groupby('actor').profit.sum().sort_values(ascending=False)\n",
    "answer_ls.append('1. Emma Watson')"
   ],
   "execution_count": 138,
   "outputs": []
  },
  {
   "metadata": {},
   "cell_type": "markdown",
   "source": [
    "# 17. Какой актер принес меньше всего прибыли в 2012 году?\n",
    "\n",
    "Варианты ответов:\n",
    "1. Nicolas Cage\n",
    "2. Danny Huston\n",
    "3. Kirsten Dunst\n",
    "4. Jim Sturgess\n",
    "5. Sami Gayle"
   ]
  },
  {
   "metadata": {
    "trusted": true
   },
   "cell_type": "code",
   "source": [
    "profits_2012 = data[data.release_year == 2012]\n",
    "joined = profits_2012.merge(cast, on='imdb_id', how='inner')\n",
    "\n",
    "solution = joined.groupby('actor').profit.sum().sort_values(ascending=True)\n",
    "answer_ls.append('3. Kirsten Dunst')"
   ],
   "execution_count": 139,
   "outputs": []
  },
  {
   "metadata": {},
   "cell_type": "markdown",
   "source": [
    "# 18. Какой актер снялся в большем количестве высокобюджетных фильмов? (в фильмах где бюджет выше среднего по данной выборке)\n",
    "\n",
    "Варианты ответов:\n",
    "1. Tom Cruise\n",
    "2. Mark Wahlberg\n",
    "3. Matt Damon\n",
    "4. Angelina Jolie\n",
    "5. Adam Sandler"
   ]
  },
  {
   "cell_type": "code",
   "execution_count": 140,
   "outputs": [],
   "source": [
    "high_budget = data[data.budget > data.budget.mean()]\n",
    "joined = high_budget.merge(cast, on='imdb_id', how='inner')\n",
    "\n",
    "solution = joined.actor.value_counts()\n",
    "answer_ls.append('3. Matt Damon')"
   ],
   "metadata": {
    "collapsed": false,
    "pycharm": {
     "name": "#%%\n"
    }
   }
  },
  {
   "metadata": {},
   "cell_type": "markdown",
   "source": [
    "# 19. В фильмах какого жанра больше всего снимался Nicolas Cage?\n",
    "\n",
    "Варианты ответа:\n",
    "1. Drama\n",
    "2. Action\n",
    "3. Thriller\n",
    "4. Adventure\n",
    "5. Crime"
   ]
  },
  {
   "metadata": {
    "trusted": true
   },
   "cell_type": "code",
   "source": [
    "caged_films = cast[cast.actor == 'Nicolas Cage']\n",
    "\n",
    "solution = data.merge(caged_films, on='imdb_id', how='right').describe(include=['bool'])\n",
    "answer_ls.append('2. Action')"
   ],
   "execution_count": 141,
   "outputs": []
  },
  {
   "metadata": {},
   "cell_type": "markdown",
   "source": [
    "# 20. Какая студия сняла больше всего фильмов?\n",
    "\n",
    "Варианты ответа:\n",
    "1. Universal Pictures (Universal)\n",
    "2. Paramount Pictures\n",
    "3. Columbia Pictures\n",
    "4. Warner Bros\n",
    "5. Twentieth Century Fox Film Corporation"
   ]
  },
  {
   "metadata": {
    "trusted": true
   },
   "cell_type": "code",
   "source": [
    "joined = data.merge(production_companies, on='imdb_id', how='inner')\n",
    "\n",
    "solution = joined.company.value_counts()\n",
    "answer_ls.append('1. Universal Pictures (Universal)')"
   ],
   "execution_count": 142,
   "outputs": []
  },
  {
   "metadata": {},
   "cell_type": "markdown",
   "source": [
    "# 21. Какая студия сняла больше всего фильмов в 2015 году?\n",
    "\n",
    "Варианты ответа:\n",
    "1. Universal Pictures\n",
    "2. Paramount Pictures\n",
    "3. Columbia Pictures\n",
    "4. Warner Bros\n",
    "5. Twentieth Century Fox Film Corporation"
   ]
  },
  {
   "metadata": {
    "trusted": true
   },
   "cell_type": "code",
   "source": [
    "films_2015 = data[data.release_year == 2015]\n",
    "joined = films_2015.merge(production_companies, on='imdb_id', how='inner')\n",
    "\n",
    "solution = joined.company.value_counts()\n",
    "answer_ls.append('4. Warner Bros')"
   ],
   "execution_count": 143,
   "outputs": []
  },
  {
   "metadata": {},
   "cell_type": "markdown",
   "source": [
    "# 22. Какая студия заработала больше всего денег в жанре комедий за все время?\n",
    "\n",
    "Варианты ответа:\n",
    "1. Warner Bros\n",
    "2. Universal Pictures (Universal)\n",
    "3. Columbia Pictures\n",
    "4. Paramount Pictures\n",
    "5. Walt Disney"
   ]
  },
  {
   "metadata": {
    "trusted": true
   },
   "cell_type": "code",
   "source": [
    "comedies = data[data.is_comedy == True]\n",
    "joined = comedies.merge(production_companies, on='imdb_id', how='inner')\n",
    "\n",
    "solution = joined.groupby('company').profit.sum().sort_values(ascending=False)\n",
    "answer_ls.append('2. Universal Pictures (Universal)')"
   ],
   "execution_count": 144,
   "outputs": []
  },
  {
   "metadata": {},
   "cell_type": "markdown",
   "source": [
    "# 23. Какая студия заработала больше всего денег в 2012 году?\n",
    "\n",
    "Варианты ответа:\n",
    "1. Universal Pictures (Universal)\n",
    "2. Warner Bros\n",
    "3. Columbia Pictures\n",
    "4. Paramount Pictures\n",
    "5. Lucasfilm"
   ]
  },
  {
   "metadata": {
    "trusted": true
   },
   "cell_type": "code",
   "source": [
    "films_2012 = data[data.release_year == 2012]\n",
    "joined = films_2012.merge(production_companies, on='imdb_id', how='inner')\n",
    "\n",
    "solution = joined.groupby('company').profit.sum().sort_values(ascending=False)\n",
    "answer_ls.append('3. Columbia Pictures')"
   ],
   "execution_count": 145,
   "outputs": []
  },
  {
   "metadata": {},
   "cell_type": "markdown",
   "source": [
    "# 24. Самый убыточный фильм от Paramount Pictures\n",
    "\n",
    "Варианты ответа:\n",
    "\n",
    "1. K-19: The Widowmaker tt0267626\n",
    "2. Next tt0435705\n",
    "3. Twisted tt0315297\n",
    "4. The Love Guru tt0811138\n",
    "5. The Fighter tt0964517"
   ]
  },
  {
   "metadata": {
    "trusted": true
   },
   "cell_type": "code",
   "source": [
    "paramount_films = production_companies[production_companies.company == 'Paramount Pictures']\n",
    "joined = data.merge(paramount_films, on='imdb_id', how='inner')\n",
    "\n",
    "solution = joined[joined.profit == joined.profit.min()]\n",
    "answer_ls.append('1. K-19: The Widowmaker tt0267626')"
   ],
   "execution_count": 146,
   "outputs": []
  },
  {
   "metadata": {},
   "cell_type": "markdown",
   "source": [
    "# 25. Какой Самый прибыльный год (заработали больше всего)?\n",
    "\n",
    "Варианты ответа:\n",
    "1. 2014\n",
    "2. 2008\n",
    "3. 2012\n",
    "4. 2002\n",
    "5. 2015"
   ]
  },
  {
   "metadata": {
    "trusted": true
   },
   "cell_type": "code",
   "source": [
    "solution = data.groupby('release_year').profit.sum().sort_values(ascending=False)\n",
    "answer_ls.append('5. 2015')"
   ],
   "execution_count": 147,
   "outputs": []
  },
  {
   "metadata": {},
   "cell_type": "markdown",
   "source": [
    "# 26. Какой Самый прибыльный год для студии Warner Bros?\n",
    "\n",
    "Варианты ответа:\n",
    "1. 2014\n",
    "2. 2008\n",
    "3. 2012\n",
    "4. 2010\n",
    "5. 2015"
   ]
  },
  {
   "metadata": {
    "trusted": true
   },
   "cell_type": "code",
   "source": [
    "warner_films = production_companies[production_companies.company.str.contains('Warner Bros')]\n",
    "joined = data.merge(warner_films, on='imdb_id', how='inner')\n",
    "\n",
    "solution = joined.groupby('release_year').profit.sum().sort_values(ascending=False)\n",
    "answer_ls.append('1. 2014')"
   ],
   "execution_count": 148,
   "outputs": []
  },
  {
   "metadata": {},
   "cell_type": "markdown",
   "source": [
    "# 27. В каком месяце за все годы суммарно вышло больше всего фильмов?\n",
    "\n",
    "Варианты ответа:\n",
    "1. Январь\n",
    "2. Июнь\n",
    "3. Декабрь\n",
    "4. Сентябрь\n",
    "5. Май"
   ]
  },
  {
   "metadata": {
    "trusted": true
   },
   "cell_type": "code",
   "source": [
    "solution = data.release_month.value_counts()\n",
    "answer_ls.append('4. Сентябрь')"
   ],
   "execution_count": 149,
   "outputs": []
  },
  {
   "metadata": {},
   "cell_type": "markdown",
   "source": [
    "# 28. Сколько суммарно вышло фильмов летом? (за июнь, июль, август)\n",
    "\n",
    "Варианты ответа:\n",
    "1. 345\n",
    "2. 450\n",
    "3. 478\n",
    "4. 523\n",
    "5. 381"
   ]
  },
  {
   "metadata": {
    "trusted": true
   },
   "cell_type": "code",
   "source": [
    "solution = len(data[data.release_month.isin([6,7,8])])\n",
    "answer_ls.append('2. 450')"
   ],
   "execution_count": 150,
   "outputs": []
  },
  {
   "metadata": {},
   "cell_type": "markdown",
   "source": [
    "# 29. Какой режиссёр выпускает (суммарно по годам) больше всего фильмов зимой?\n",
    "\n",
    "Варианты ответов:\n",
    "1. Steven Soderbergh\n",
    "2. Christopher Nolan\n",
    "3. Clint Eastwood\n",
    "4. Ridley Scott\n",
    "5. Peter Jackson"
   ]
  },
  {
   "metadata": {
    "trusted": true
   },
   "cell_type": "code",
   "source": [
    "winter_films = data[data.release_month.isin([1,2,12])]\n",
    "\n",
    "solution = winter_films.director.value_counts()\n",
    "answer_ls.append('5. Peter Jackson')"
   ],
   "execution_count": 151,
   "outputs": []
  },
  {
   "metadata": {},
   "cell_type": "markdown",
   "source": [
    "# 30. Какой месяц чаще всего по годам самый прибыльный?\n",
    "\n",
    "Варианты ответа:\n",
    "1. Январь\n",
    "2. Июнь\n",
    "3. Декабрь\n",
    "4. Сентябрь\n",
    "5. Май"
   ]
  },
  {
   "metadata": {
    "trusted": true
   },
   "cell_type": "code",
   "source": [
    "pivot = data.pivot_table(values=['profit'], index=['release_month'], columns=['release_year'], aggfunc='sum')\n",
    "\n",
    "solution = pivot.idxmax().value_counts()\n",
    "answer_ls.append('2. Июнь')"
   ],
   "execution_count": 152,
   "outputs": []
  },
  {
   "metadata": {},
   "cell_type": "markdown",
   "source": [
    "# 31. Названия фильмов какой студии в среднем самые длинные по количеству символов?\n",
    "\n",
    "Варианты ответа:\n",
    "1. Universal Pictures (Universal)\n",
    "2. Warner Bros\n",
    "3. Jim Henson Company, The\n",
    "4. Paramount Pictures\n",
    "5. Four By Two Productions"
   ]
  },
  {
   "metadata": {
    "trusted": true
   },
   "cell_type": "code",
   "source": [
    "joined = data.merge(production_companies, on='imdb_id', how='inner')\n",
    "\n",
    "solution = joined.groupby(['company'])['original_title'].apply(lambda x: np.mean(x.str.len())).sort_values(ascending=False)\n",
    "answer_ls.append('5. Four By Two Productions')"
   ],
   "execution_count": 153,
   "outputs": []
  },
  {
   "metadata": {},
   "cell_type": "markdown",
   "source": [
    "# 32. Названия фильмов какой студии в среднем самые длинные по количеству слов?\n",
    "\n",
    "Варианты ответа:\n",
    "1. Universal Pictures (Universal)\n",
    "2. Warner Bros\n",
    "3. Jim Henson Company, The\n",
    "4. Paramount Pictures\n",
    "5. Four By Two Productions"
   ]
  },
  {
   "metadata": {
    "trusted": true
   },
   "cell_type": "code",
   "source": [
    "joined = data.merge(production_companies, on='imdb_id', how='inner')\n",
    "\n",
    "display(joined[joined.company == 'Four By Two Productions'])\n",
    "\n",
    "solution = joined.groupby(['company'])['original_title'].apply(lambda x: np.mean(x.str.split().str.len())).sort_values(ascending=False)\n",
    "display(solution)\n",
    "answer_ls.append('5. Four By Two Productions')"
   ],
   "execution_count": 154,
   "outputs": [
    {
     "data": {
      "text/plain": "        imdb_id  popularity    budget    revenue  \\\n4688  tt0443453    1.930735  18000000  261572744   \n\n                                         original_title  \\\n4688  Borat: Cultural Learnings of America for Make ...   \n\n                                                   cast       director  \\\n4688  Sacha Baron Cohen|Ken Davitian|Luenell|Pamela ...  Larry Charles   \n\n                             tagline  \\\n4688  Come to Kazakhstan, it's nice!   \n\n                                               overview  runtime  ...  \\\n4688  Kazakh journalist Borat Sagdiyev travels to Am...       82  ...   \n\n     vote_average release_year     profit  is_action  is_adventure  is_drama  \\\n4688          6.4         2006  243572744      False         False     False   \n\n      is_comedy  is_thriller  release_month                  company  \n4688       True        False             11  Four By Two Productions  \n\n[1 rows x 24 columns]",
      "text/html": "<div>\n<style scoped>\n    .dataframe tbody tr th:only-of-type {\n        vertical-align: middle;\n    }\n\n    .dataframe tbody tr th {\n        vertical-align: top;\n    }\n\n    .dataframe thead th {\n        text-align: right;\n    }\n</style>\n<table border=\"1\" class=\"dataframe\">\n  <thead>\n    <tr style=\"text-align: right;\">\n      <th></th>\n      <th>imdb_id</th>\n      <th>popularity</th>\n      <th>budget</th>\n      <th>revenue</th>\n      <th>original_title</th>\n      <th>cast</th>\n      <th>director</th>\n      <th>tagline</th>\n      <th>overview</th>\n      <th>runtime</th>\n      <th>...</th>\n      <th>vote_average</th>\n      <th>release_year</th>\n      <th>profit</th>\n      <th>is_action</th>\n      <th>is_adventure</th>\n      <th>is_drama</th>\n      <th>is_comedy</th>\n      <th>is_thriller</th>\n      <th>release_month</th>\n      <th>company</th>\n    </tr>\n  </thead>\n  <tbody>\n    <tr>\n      <th>4688</th>\n      <td>tt0443453</td>\n      <td>1.930735</td>\n      <td>18000000</td>\n      <td>261572744</td>\n      <td>Borat: Cultural Learnings of America for Make ...</td>\n      <td>Sacha Baron Cohen|Ken Davitian|Luenell|Pamela ...</td>\n      <td>Larry Charles</td>\n      <td>Come to Kazakhstan, it's nice!</td>\n      <td>Kazakh journalist Borat Sagdiyev travels to Am...</td>\n      <td>82</td>\n      <td>...</td>\n      <td>6.4</td>\n      <td>2006</td>\n      <td>243572744</td>\n      <td>False</td>\n      <td>False</td>\n      <td>False</td>\n      <td>True</td>\n      <td>False</td>\n      <td>11</td>\n      <td>Four By Two Productions</td>\n    </tr>\n  </tbody>\n</table>\n<p>1 rows × 24 columns</p>\n</div>"
     },
     "metadata": {},
     "output_type": "display_data"
    },
    {
     "data": {
      "text/plain": "company\nFour By Two Productions                  12.0\nJim Henson Company, The                  10.0\nPolsky Films                              9.0\nThe Saul Zaentz Company                   9.0\nDos Corazones                             9.0\n                                         ... \nMany Rivers Productions                   1.0\nMaple Shade Films                         1.0\nBlue Productions                          1.0\nBlue Sea Productions                      1.0\nGreat Wight Productions/ Osford Films     1.0\nName: original_title, Length: 1772, dtype: float64"
     },
     "metadata": {},
     "output_type": "display_data"
    }
   ]
  },
  {
   "metadata": {},
   "cell_type": "markdown",
   "source": [
    "# 33. Сколько разных слов используется в названиях фильмов?(без учета регистра)\n",
    "\n",
    "Варианты ответа:\n",
    "1. 6540\n",
    "2. 1002\n",
    "3. 2461\n",
    "4. 28304\n",
    "5. 3432"
   ]
  },
  {
   "metadata": {
    "trusted": true
   },
   "cell_type": "code",
   "source": [
    "words = data.original_title.str.lower().str.split().tolist();\n",
    "flat_words = list(itertools.chain.from_iterable(words))\n",
    "\n",
    "solution = len(Counter(flat_words).keys())\n",
    "answer_ls.append('3. 2461')"
   ],
   "execution_count": 155,
   "outputs": []
  },
  {
   "metadata": {},
   "cell_type": "markdown",
   "source": [
    "# 34. Какие фильмы входят в 1 процент лучших по рейтингу?\n",
    "\n",
    "Варианты ответа:\n",
    "1. Inside Out, Gone Girl, 12 Years a Slave\n",
    "2. BloodRayne, The Adventures of Rocky and Bullwinkle\n",
    "3. The Lord of the Rings: The Return of the King, Upside Down\n",
    "4. 300, Lucky Number Slevin\n",
    "5. Upside Down, 300, Inside Out, The Lord of the Rings: The Return of the King"
   ]
  },
  {
   "metadata": {
    "trusted": true
   },
   "cell_type": "code",
   "source": [
    "solution = data[data.vote_average > data.vote_average.quantile(0.99)]['original_title']\n",
    "answer_ls.append(\"1. Inside Out, Gone Girl, 12 Years a Slave\")"
   ],
   "execution_count": 156,
   "outputs": []
  },
  {
   "metadata": {},
   "cell_type": "markdown",
   "source": [
    "# 35. Какие актеры чаще всего снимаются в одном фильме вместе\n",
    "\n",
    "Варианты ответа:\n",
    "1. Johnny Depp & Helena Bonham Carter\n",
    "2. Hugh Jackman & Ian McKellen\n",
    "3. Vin Diesel & Paul Walker\n",
    "4. Adam Sandler & Kevin James\n",
    "5. Daniel Radcliffe & Rupert Grint"
   ]
  },
  {
   "metadata": {
    "trusted": true
   },
   "cell_type": "code",
   "source": [
    "pairs = [\n",
    "    [\"Johnny Depp\", \"Helena Bonham Carter\"],\n",
    "    [\"Hugh Jackman\", \"Ian McKellen\"],\n",
    "    [\"Vin Diesel\", \"Paul Walker\"],\n",
    "    [\"Adam Sandler\", \"Kevin James\"],\n",
    "    [\"Daniel Radcliffe\", \"Rupert Grint\"]\n",
    "]\n",
    "\n",
    "for pair in pairs:\n",
    "    films = data[(data.cast.str.contains(pair[0])) & (data.cast.str.contains(pair[1]))]\n",
    "    print(pair, len(films))\n",
    "\n",
    "answer_ls.append(\"5. Daniel Radcliffe & Rupert Grint\")"
   ],
   "execution_count": 157,
   "outputs": [
    {
     "name": "stdout",
     "output_type": "stream",
     "text": [
      "['Johnny Depp', 'Helena Bonham Carter'] 6\n",
      "['Hugh Jackman', 'Ian McKellen'] 5\n",
      "['Vin Diesel', 'Paul Walker'] 5\n",
      "['Adam Sandler', 'Kevin James'] 5\n",
      "['Daniel Radcliffe', 'Rupert Grint'] 8\n"
     ]
    }
   ]
  },
  {
   "metadata": {},
   "cell_type": "markdown",
   "source": [
    "# 36. У какого из режиссеров выше вероятность выпустить фильм в прибыли? (5 баллов)101\n",
    "\n",
    "Варианты ответа:\n",
    "1. Quentin Tarantino\n",
    "2. Steven Soderbergh\n",
    "3. Robert Rodriguez\n",
    "4. Christopher Nolan\n",
    "5. Clint Eastwood"
   ]
  },
  {
   "metadata": {
    "trusted": true
   },
   "cell_type": "code",
   "source": [
    "wanted_directors = ['Quentin Tarantino','Steven Soderbergh','Robert Rodriguez','Christopher Nolan','Clint Eastwood']\n",
    "\n",
    "joined = data.merge(film_directors, on='imdb_id', how='inner')\n",
    "grouped = joined.groupby('film_director')\n",
    "aggregated = grouped.profit.apply(lambda x: pd.Series([(x).count(), (x > 0).sum() / (x).count()])).unstack().reset_index()\n",
    "\n",
    "solution = aggregated[aggregated.film_director.isin(wanted_directors)]\n",
    "answer_ls.append('4. Christopher Nolan')"
   ],
   "execution_count": 158,
   "outputs": []
  },
  {
   "metadata": {},
   "cell_type": "markdown",
   "source": "# Submission"
  },
  {
   "metadata": {
    "trusted": true
   },
   "cell_type": "code",
   "source": "len(answer_ls)",
   "execution_count": 159,
   "outputs": [
    {
     "data": {
      "text/plain": "36"
     },
     "execution_count": 159,
     "metadata": {},
     "output_type": "execute_result"
    }
   ]
  },
  {
   "metadata": {
    "trusted": true
   },
   "cell_type": "code",
   "source": "pd.DataFrame({'Id':range(1,len(answer_ls)+1), 'Answer':answer_ls}, columns=['Id', 'Answer'])",
   "execution_count": 160,
   "outputs": [
    {
     "data": {
      "text/plain": "    Id                                      Answer\n0    1           4. The Warrior's Way\\t(tt1032751)\n1    2           2. Gods and Generals\\t(tt0279111)\n2    3               3. Winnie the Pooh\\ttt1449283\n3    4                                      2. 110\n4    5                                      2. 106\n5    6                        5. Avatar\\ttt0499549\n6    7              2. The Warrior's Way tt1032751\n7    8                                     1. 1478\n8    9               4. The Dark Knight\\ttt0468569\n9   10               5. The Lone Ranger\\ttt1210819\n10  11                                    3. Drama\n11  12                                    1. Drama\n12  13                        3. Steven Soderbergh\n13  14                             4. Ridley Scott\n14  15                            5. Peter Jackson\n15  16                              1. Emma Watson\n16  17                            3. Kirsten Dunst\n17  18                               3. Matt Damon\n18  19                                   2. Action\n19  20           1. Universal Pictures (Universal)\n20  21                              4. Warner Bros\n21  22           2. Universal Pictures (Universal)\n22  23                        3. Columbia Pictures\n23  24           1. K-19: The Widowmaker tt0267626\n24  25                                     5. 2015\n25  26                                     1. 2014\n26  27                                 4. Сентябрь\n27  28                                      2. 450\n28  29                            5. Peter Jackson\n29  30                                     2. Июнь\n30  31                  5. Four By Two Productions\n31  32                  5. Four By Two Productions\n32  33                                     3. 2461\n33  34  1. Inside Out, Gone Girl, 12 Years a Slave\n34  35          5. Daniel Radcliffe & Rupert Grint\n35  36                        4. Christopher Nolan",
      "text/html": "<div>\n<style scoped>\n    .dataframe tbody tr th:only-of-type {\n        vertical-align: middle;\n    }\n\n    .dataframe tbody tr th {\n        vertical-align: top;\n    }\n\n    .dataframe thead th {\n        text-align: right;\n    }\n</style>\n<table border=\"1\" class=\"dataframe\">\n  <thead>\n    <tr style=\"text-align: right;\">\n      <th></th>\n      <th>Id</th>\n      <th>Answer</th>\n    </tr>\n  </thead>\n  <tbody>\n    <tr>\n      <th>0</th>\n      <td>1</td>\n      <td>4. The Warrior's Way\\t(tt1032751)</td>\n    </tr>\n    <tr>\n      <th>1</th>\n      <td>2</td>\n      <td>2. Gods and Generals\\t(tt0279111)</td>\n    </tr>\n    <tr>\n      <th>2</th>\n      <td>3</td>\n      <td>3. Winnie the Pooh\\ttt1449283</td>\n    </tr>\n    <tr>\n      <th>3</th>\n      <td>4</td>\n      <td>2. 110</td>\n    </tr>\n    <tr>\n      <th>4</th>\n      <td>5</td>\n      <td>2. 106</td>\n    </tr>\n    <tr>\n      <th>5</th>\n      <td>6</td>\n      <td>5. Avatar\\ttt0499549</td>\n    </tr>\n    <tr>\n      <th>6</th>\n      <td>7</td>\n      <td>2. The Warrior's Way tt1032751</td>\n    </tr>\n    <tr>\n      <th>7</th>\n      <td>8</td>\n      <td>1. 1478</td>\n    </tr>\n    <tr>\n      <th>8</th>\n      <td>9</td>\n      <td>4. The Dark Knight\\ttt0468569</td>\n    </tr>\n    <tr>\n      <th>9</th>\n      <td>10</td>\n      <td>5. The Lone Ranger\\ttt1210819</td>\n    </tr>\n    <tr>\n      <th>10</th>\n      <td>11</td>\n      <td>3. Drama</td>\n    </tr>\n    <tr>\n      <th>11</th>\n      <td>12</td>\n      <td>1. Drama</td>\n    </tr>\n    <tr>\n      <th>12</th>\n      <td>13</td>\n      <td>3. Steven Soderbergh</td>\n    </tr>\n    <tr>\n      <th>13</th>\n      <td>14</td>\n      <td>4. Ridley Scott</td>\n    </tr>\n    <tr>\n      <th>14</th>\n      <td>15</td>\n      <td>5. Peter Jackson</td>\n    </tr>\n    <tr>\n      <th>15</th>\n      <td>16</td>\n      <td>1. Emma Watson</td>\n    </tr>\n    <tr>\n      <th>16</th>\n      <td>17</td>\n      <td>3. Kirsten Dunst</td>\n    </tr>\n    <tr>\n      <th>17</th>\n      <td>18</td>\n      <td>3. Matt Damon</td>\n    </tr>\n    <tr>\n      <th>18</th>\n      <td>19</td>\n      <td>2. Action</td>\n    </tr>\n    <tr>\n      <th>19</th>\n      <td>20</td>\n      <td>1. Universal Pictures (Universal)</td>\n    </tr>\n    <tr>\n      <th>20</th>\n      <td>21</td>\n      <td>4. Warner Bros</td>\n    </tr>\n    <tr>\n      <th>21</th>\n      <td>22</td>\n      <td>2. Universal Pictures (Universal)</td>\n    </tr>\n    <tr>\n      <th>22</th>\n      <td>23</td>\n      <td>3. Columbia Pictures</td>\n    </tr>\n    <tr>\n      <th>23</th>\n      <td>24</td>\n      <td>1. K-19: The Widowmaker tt0267626</td>\n    </tr>\n    <tr>\n      <th>24</th>\n      <td>25</td>\n      <td>5. 2015</td>\n    </tr>\n    <tr>\n      <th>25</th>\n      <td>26</td>\n      <td>1. 2014</td>\n    </tr>\n    <tr>\n      <th>26</th>\n      <td>27</td>\n      <td>4. Сентябрь</td>\n    </tr>\n    <tr>\n      <th>27</th>\n      <td>28</td>\n      <td>2. 450</td>\n    </tr>\n    <tr>\n      <th>28</th>\n      <td>29</td>\n      <td>5. Peter Jackson</td>\n    </tr>\n    <tr>\n      <th>29</th>\n      <td>30</td>\n      <td>2. Июнь</td>\n    </tr>\n    <tr>\n      <th>30</th>\n      <td>31</td>\n      <td>5. Four By Two Productions</td>\n    </tr>\n    <tr>\n      <th>31</th>\n      <td>32</td>\n      <td>5. Four By Two Productions</td>\n    </tr>\n    <tr>\n      <th>32</th>\n      <td>33</td>\n      <td>3. 2461</td>\n    </tr>\n    <tr>\n      <th>33</th>\n      <td>34</td>\n      <td>1. Inside Out, Gone Girl, 12 Years a Slave</td>\n    </tr>\n    <tr>\n      <th>34</th>\n      <td>35</td>\n      <td>5. Daniel Radcliffe &amp; Rupert Grint</td>\n    </tr>\n    <tr>\n      <th>35</th>\n      <td>36</td>\n      <td>4. Christopher Nolan</td>\n    </tr>\n  </tbody>\n</table>\n</div>"
     },
     "execution_count": 160,
     "metadata": {},
     "output_type": "execute_result"
    }
   ]
  },
  {
   "metadata": {
    "trusted": false
   },
   "cell_type": "code",
   "source": "",
   "execution_count": 160,
   "outputs": []
  }
 ],
 "metadata": {
  "kernelspec": {
   "display_name": "Python 3",
   "language": "python",
   "name": "python3"
  },
  "language_info": {
   "codemirror_mode": {
    "name": "ipython",
    "version": 3
   },
   "file_extension": ".py",
   "mimetype": "text/x-python",
   "name": "python",
   "nbconvert_exporter": "python",
   "pygments_lexer": "ipython3",
   "version": "3.6.6"
  }
 },
 "nbformat": 4,
 "nbformat_minor": 4
}