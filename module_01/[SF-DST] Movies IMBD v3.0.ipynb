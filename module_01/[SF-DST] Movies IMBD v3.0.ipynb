{
 "cells": [
  {
   "metadata": {
    "_cell_guid": "b1076dfc-b9ad-4769-8c92-a6c4dae69d19",
    "_uuid": "8f2839f25d086af736a60e9eeb907d3b93b6e0e5",
    "trusted": true
   },
   "cell_type": "code",
   "source": [
    "import os\n",
    "\n",
    "import pandas as pd\n",
    "print(os.listdir(\"../input\"))"
   ],
   "execution_count": 2,
   "outputs": [
    {
     "name": "stdout",
     "output_type": "stream",
     "text": [
      "['.DS_Store', 'imbd-sf']\n"
     ]
    }
   ]
  },
  {
   "metadata": {
    "trusted": true
   },
   "cell_type": "code",
   "source": [
    "data = pd.read_csv('../input/imbd-sf/data.csv')\n",
    "data.head(5)"
   ],
   "execution_count": 3,
   "outputs": [
    {
     "data": {
      "text/plain": "     imdb_id  popularity     budget     revenue                original_title  \\\n0  tt0369610   32.985763  150000000  1513528810                Jurassic World   \n1  tt1392190   28.419936  150000000   378436354            Mad Max: Fury Road   \n2  tt2908446   13.112507  110000000   295238201                     Insurgent   \n3  tt2488496   11.173104  200000000  2068178225  Star Wars: The Force Awakens   \n4  tt2820852    9.335014  190000000  1506249360                     Furious 7   \n\n                                                cast          director  \\\n0  Chris Pratt|Bryce Dallas Howard|Irrfan Khan|Vi...   Colin Trevorrow   \n1  Tom Hardy|Charlize Theron|Hugh Keays-Byrne|Nic...     George Miller   \n2  Shailene Woodley|Theo James|Kate Winslet|Ansel...  Robert Schwentke   \n3  Harrison Ford|Mark Hamill|Carrie Fisher|Adam D...       J.J. Abrams   \n4  Vin Diesel|Paul Walker|Jason Statham|Michelle ...         James Wan   \n\n                         tagline  \\\n0              The park is open.   \n1             What a Lovely Day.   \n2     One Choice Can Destroy You   \n3  Every generation has a story.   \n4            Vengeance Hits Home   \n\n                                            overview  runtime  \\\n0  Twenty-two years after the events of Jurassic ...      124   \n1  An apocalyptic story set in the furthest reach...      120   \n2  Beatrice Prior must confront her inner demons ...      119   \n3  Thirty years after defeating the Galactic Empi...      136   \n4  Deckard Shaw seeks revenge against Dominic Tor...      137   \n\n                                      genres  \\\n0  Action|Adventure|Science Fiction|Thriller   \n1  Action|Adventure|Science Fiction|Thriller   \n2         Adventure|Science Fiction|Thriller   \n3   Action|Adventure|Science Fiction|Fantasy   \n4                      Action|Crime|Thriller   \n\n                                production_companies release_date  vote_count  \\\n0  Universal Studios|Amblin Entertainment|Legenda...     6/9/2015        5562   \n1  Village Roadshow Pictures|Kennedy Miller Produ...    5/13/2015        6185   \n2  Summit Entertainment|Mandeville Films|Red Wago...    3/18/2015        2480   \n3          Lucasfilm|Truenorth Productions|Bad Robot   12/15/2015        5292   \n4  Universal Pictures|Original Film|Media Rights ...     4/1/2015        2947   \n\n   vote_average  release_year  \n0           6.5          2015  \n1           7.1          2015  \n2           6.3          2015  \n3           7.5          2015  \n4           7.3          2015  ",
      "text/html": "<div>\n<style scoped>\n    .dataframe tbody tr th:only-of-type {\n        vertical-align: middle;\n    }\n\n    .dataframe tbody tr th {\n        vertical-align: top;\n    }\n\n    .dataframe thead th {\n        text-align: right;\n    }\n</style>\n<table border=\"1\" class=\"dataframe\">\n  <thead>\n    <tr style=\"text-align: right;\">\n      <th></th>\n      <th>imdb_id</th>\n      <th>popularity</th>\n      <th>budget</th>\n      <th>revenue</th>\n      <th>original_title</th>\n      <th>cast</th>\n      <th>director</th>\n      <th>tagline</th>\n      <th>overview</th>\n      <th>runtime</th>\n      <th>genres</th>\n      <th>production_companies</th>\n      <th>release_date</th>\n      <th>vote_count</th>\n      <th>vote_average</th>\n      <th>release_year</th>\n    </tr>\n  </thead>\n  <tbody>\n    <tr>\n      <th>0</th>\n      <td>tt0369610</td>\n      <td>32.985763</td>\n      <td>150000000</td>\n      <td>1513528810</td>\n      <td>Jurassic World</td>\n      <td>Chris Pratt|Bryce Dallas Howard|Irrfan Khan|Vi...</td>\n      <td>Colin Trevorrow</td>\n      <td>The park is open.</td>\n      <td>Twenty-two years after the events of Jurassic ...</td>\n      <td>124</td>\n      <td>Action|Adventure|Science Fiction|Thriller</td>\n      <td>Universal Studios|Amblin Entertainment|Legenda...</td>\n      <td>6/9/2015</td>\n      <td>5562</td>\n      <td>6.5</td>\n      <td>2015</td>\n    </tr>\n    <tr>\n      <th>1</th>\n      <td>tt1392190</td>\n      <td>28.419936</td>\n      <td>150000000</td>\n      <td>378436354</td>\n      <td>Mad Max: Fury Road</td>\n      <td>Tom Hardy|Charlize Theron|Hugh Keays-Byrne|Nic...</td>\n      <td>George Miller</td>\n      <td>What a Lovely Day.</td>\n      <td>An apocalyptic story set in the furthest reach...</td>\n      <td>120</td>\n      <td>Action|Adventure|Science Fiction|Thriller</td>\n      <td>Village Roadshow Pictures|Kennedy Miller Produ...</td>\n      <td>5/13/2015</td>\n      <td>6185</td>\n      <td>7.1</td>\n      <td>2015</td>\n    </tr>\n    <tr>\n      <th>2</th>\n      <td>tt2908446</td>\n      <td>13.112507</td>\n      <td>110000000</td>\n      <td>295238201</td>\n      <td>Insurgent</td>\n      <td>Shailene Woodley|Theo James|Kate Winslet|Ansel...</td>\n      <td>Robert Schwentke</td>\n      <td>One Choice Can Destroy You</td>\n      <td>Beatrice Prior must confront her inner demons ...</td>\n      <td>119</td>\n      <td>Adventure|Science Fiction|Thriller</td>\n      <td>Summit Entertainment|Mandeville Films|Red Wago...</td>\n      <td>3/18/2015</td>\n      <td>2480</td>\n      <td>6.3</td>\n      <td>2015</td>\n    </tr>\n    <tr>\n      <th>3</th>\n      <td>tt2488496</td>\n      <td>11.173104</td>\n      <td>200000000</td>\n      <td>2068178225</td>\n      <td>Star Wars: The Force Awakens</td>\n      <td>Harrison Ford|Mark Hamill|Carrie Fisher|Adam D...</td>\n      <td>J.J. Abrams</td>\n      <td>Every generation has a story.</td>\n      <td>Thirty years after defeating the Galactic Empi...</td>\n      <td>136</td>\n      <td>Action|Adventure|Science Fiction|Fantasy</td>\n      <td>Lucasfilm|Truenorth Productions|Bad Robot</td>\n      <td>12/15/2015</td>\n      <td>5292</td>\n      <td>7.5</td>\n      <td>2015</td>\n    </tr>\n    <tr>\n      <th>4</th>\n      <td>tt2820852</td>\n      <td>9.335014</td>\n      <td>190000000</td>\n      <td>1506249360</td>\n      <td>Furious 7</td>\n      <td>Vin Diesel|Paul Walker|Jason Statham|Michelle ...</td>\n      <td>James Wan</td>\n      <td>Vengeance Hits Home</td>\n      <td>Deckard Shaw seeks revenge against Dominic Tor...</td>\n      <td>137</td>\n      <td>Action|Crime|Thriller</td>\n      <td>Universal Pictures|Original Film|Media Rights ...</td>\n      <td>4/1/2015</td>\n      <td>2947</td>\n      <td>7.3</td>\n      <td>2015</td>\n    </tr>\n  </tbody>\n</table>\n</div>"
     },
     "execution_count": 3,
     "metadata": {},
     "output_type": "execute_result"
    }
   ]
  },
  {
   "metadata": {
    "trusted": true
   },
   "cell_type": "code",
   "source": [
    "len(data)"
   ],
   "execution_count": 8,
   "outputs": [
    {
     "output_type": "execute_result",
     "execution_count": 8,
     "data": {
      "text/plain": "1890"
     },
     "metadata": {}
    }
   ]
  },
  {
   "metadata": {},
   "cell_type": "markdown",
   "source": [
    "# Предобработка датасета"
   ]
  },
  {
   "metadata": {
    "trusted": true
   },
   "cell_type": "code",
   "source": [
    "answer_ls = [] # создадим список с ответами. сюда будем добавлять ответы по мере прохождения теста\n",
    "# сюда можем вписать создание новых колонок в датасете"
   ],
   "execution_count": 10,
   "outputs": []
  },
  {
   "metadata": {},
   "cell_type": "markdown",
   "source": [
    "# 1. У какого фильма из списка самый большой бюджет?\n",
    "Варианты ответов:\n",
    "1. The Dark Knight Rises (tt1345836)\n",
    "2. Spider-Man 3 (tt0413300)\n",
    "3. Avengers: Age of Ultron (tt2395427)\n",
    "4. The Warrior's Way\t(tt1032751)\n",
    "5. Pirates of the Caribbean: On Stranger Tides (tt1298650)"
   ]
  },
  {
   "metadata": {
    "trusted": true
   },
   "cell_type": "code",
   "source": [
    "# тут вводим ваш ответ и добавлем в его список ответов (сейчас для примера стоит \"1\")\n",
    "answer_ls.append(1)"
   ],
   "execution_count": null,
   "outputs": []
  },
  {
   "metadata": {},
   "cell_type": "markdown",
   "source": [
    "# 2. Какой из фильмов самый длительный (в минутах)\n",
    "1. The Lord of the Rings: The Return of the King\t(tt0167260)\n",
    "2. Gods and Generals\t(tt0279111)\n",
    "3. King Kong\t(tt0360717)\n",
    "4. Pearl Harbor\t(tt0213149)\n",
    "5. Alexander\t(tt0346491)"
   ]
  },
  {
   "metadata": {
    "trusted": true
   },
   "cell_type": "code",
   "source": [
    "answer_ls.append(1)"
   ],
   "execution_count": null,
   "outputs": []
  },
  {
   "metadata": {},
   "cell_type": "markdown",
   "source": [
    "# 3. Какой из фильмов самый короткий (в минутах)\n",
    "Варианты ответов:\n",
    "\n",
    "1. Home on the Range\ttt0299172\n",
    "2. The Jungle Book 2\ttt0283426\n",
    "3. Winnie the Pooh\ttt1449283\n",
    "4. Corpse Bride\ttt0121164\n",
    "5. Hoodwinked!\ttt0443536"
   ]
  },
  {
   "metadata": {
    "trusted": true
   },
   "cell_type": "code",
   "source": [
    "answer_ls.append(1)"
   ],
   "execution_count": null,
   "outputs": []
  },
  {
   "metadata": {},
   "cell_type": "markdown",
   "source": [
    "# 4. Средняя длительность фильма?\n",
    "\n",
    "Варианты ответов:\n",
    "1. 115\n",
    "2. 110\n",
    "3. 105\n",
    "4. 120\n",
    "5. 100\n"
   ]
  },
  {
   "metadata": {
    "trusted": true
   },
   "cell_type": "code",
   "source": [
    "answer_ls.append(1)"
   ],
   "execution_count": null,
   "outputs": []
  },
  {
   "metadata": {},
   "cell_type": "markdown",
   "source": [
    "# 5. Средняя длительность фильма по медиане?\n",
    "Варианты ответов:\n",
    "1. 106\n",
    "2. 112\n",
    "3. 101\n",
    "4. 120\n",
    "5. 115\n",
    "\n",
    "\n"
   ]
  },
  {
   "metadata": {
    "trusted": true
   },
   "cell_type": "code",
   "source": [
    "answer_ls.append(1)"
   ],
   "execution_count": null,
   "outputs": []
  },
  {
   "metadata": {},
   "cell_type": "markdown",
   "source": [
    "# 6. Какой самый прибыльный фильм?\n",
    "Варианты ответов:\n",
    "1. The Avengers\ttt0848228\n",
    "2. Minions\ttt2293640\n",
    "3. Star Wars: The Force Awakens\ttt2488496\n",
    "4. Furious 7\ttt2820852\n",
    "5. Avatar\ttt0499549"
   ]
  },
  {
   "metadata": {
    "trusted": true
   },
   "cell_type": "code",
   "source": [
    "answer_ls.append(1)"
   ],
   "execution_count": null,
   "outputs": []
  },
  {
   "metadata": {},
   "cell_type": "markdown",
   "source": [
    "# 7. Какой фильм самый убыточный?\n",
    "Варианты ответов:\n",
    "1. Supernova tt0134983\n",
    "2. The Warrior's Way tt1032751\n",
    "3. Flushed Away\ttt0424095\n",
    "4. The Adventures of Pluto Nash\ttt0180052\n",
    "5. The Lone Ranger\ttt1210819"
   ]
  },
  {
   "metadata": {
    "trusted": true
   },
   "cell_type": "code",
   "source": [
    "answer_ls.append(1)"
   ],
   "execution_count": null,
   "outputs": []
  },
  {
   "metadata": {},
   "cell_type": "markdown",
   "source": [
    "# 8. Сколько всего фильмов в прибыли?\n",
    "Варианты ответов:\n",
    "1. 1478\n",
    "2. 1520\n",
    "3. 1241\n",
    "4. 1135\n",
    "5. 1398\n"
   ]
  },
  {
   "metadata": {
    "trusted": true
   },
   "cell_type": "code",
   "source": [
    "answer_ls.append(1)"
   ],
   "execution_count": null,
   "outputs": []
  },
  {
   "metadata": {},
   "cell_type": "markdown",
   "source": [
    "# 9. Самый прибыльный фильм в 2008 году?\n",
    "Варианты ответов:\n",
    "1. Madagascar: Escape 2 Africa\ttt0479952\n",
    "2. Iron Man\ttt0371746\n",
    "3. Kung Fu Panda\ttt0441773\n",
    "4. The Dark Knight\ttt0468569\n",
    "5. Mamma Mia!\ttt0795421"
   ]
  },
  {
   "metadata": {
    "trusted": true
   },
   "cell_type": "code",
   "source": [
    "answer_ls.append(1)"
   ],
   "execution_count": null,
   "outputs": []
  },
  {
   "metadata": {},
   "cell_type": "markdown",
   "source": [
    "# 10. Самый убыточный фильм за период с 2012 по 2014 (включительно)?\n",
    "Варианты ответов:\n",
    "1. Winter's Tale\ttt1837709\n",
    "2. Stolen\ttt1656186\n",
    "3. Broken City\ttt1235522\n",
    "4. Upside Down\ttt1374992\n",
    "5. The Lone Ranger\ttt1210819\n"
   ]
  },
  {
   "metadata": {
    "trusted": true
   },
   "cell_type": "code",
   "source": [
    "answer_ls.append(1)"
   ],
   "execution_count": null,
   "outputs": []
  },
  {
   "metadata": {},
   "cell_type": "markdown",
   "source": [
    "# 11. Какого жанра фильмов больше всего?\n",
    "Варианты ответов:\n",
    "1. Action\n",
    "2. Adventure\n",
    "3. Drama\n",
    "4. Comedy\n",
    "5. Thriller"
   ]
  },
  {
   "metadata": {
    "trusted": true
   },
   "cell_type": "code",
   "source": [
    "answer_ls.append(1)"
   ],
   "execution_count": null,
   "outputs": []
  },
  {
   "metadata": {},
   "cell_type": "markdown",
   "source": [
    "# 12. Какого жанра среди прибыльных фильмов больше всего?\n",
    "Варианты ответов:\n",
    "1. Drama\n",
    "2. Comedy\n",
    "3. Action\n",
    "4. Thriller\n",
    "5. Adventure"
   ]
  },
  {
   "metadata": {
    "trusted": true
   },
   "cell_type": "code",
   "source": [
    "answer_ls.append(1)"
   ],
   "execution_count": null,
   "outputs": []
  },
  {
   "metadata": {},
   "cell_type": "markdown",
   "source": [
    "# 13. Кто из режиссеров снял больше всего фильмов?\n",
    "Варианты ответов:\n",
    "1. Steven Spielberg\n",
    "2. Ridley Scott\n",
    "3. Steven Soderbergh\n",
    "4. Christopher Nolan\n",
    "5. Clint Eastwood"
   ]
  },
  {
   "metadata": {
    "trusted": true
   },
   "cell_type": "code",
   "source": [
    "answer_ls.append(1)"
   ],
   "execution_count": null,
   "outputs": []
  },
  {
   "metadata": {},
   "cell_type": "markdown",
   "source": [
    "# 14. Кто из режиссеров снял больше всего Прибыльных фильмов?\n",
    "Варианты ответов:\n",
    "1. Steven Soderbergh\n",
    "2. Clint Eastwood\n",
    "3. Steven Spielberg\n",
    "4. Ridley Scott\n",
    "5. Christopher Nolan"
   ]
  },
  {
   "metadata": {
    "trusted": true
   },
   "cell_type": "code",
   "source": [
    "answer_ls.append(1)"
   ],
   "execution_count": null,
   "outputs": []
  },
  {
   "metadata": {},
   "cell_type": "markdown",
   "source": [
    "# 15. Кто из режиссеров принес больше всего прибыли?\n",
    "Варианты ответов:\n",
    "1. Steven Spielberg\n",
    "2. Christopher Nolan\n",
    "3. David Yates\n",
    "4. James Cameron\n",
    "5. Peter Jackson\n"
   ]
  },
  {
   "metadata": {
    "trusted": true
   },
   "cell_type": "code",
   "source": [
    "\n",
    "answer_ls.append(1)"
   ],
   "execution_count": null,
   "outputs": []
  },
  {
   "metadata": {},
   "cell_type": "markdown",
   "source": [
    "# 16. Какой актер принес больше всего прибыли?\n",
    "Варианты ответов:\n",
    "1. Emma Watson\n",
    "2. Johnny Depp\n",
    "3. Michelle Rodriguez\n",
    "4. Orlando Bloom\n",
    "5. Rupert Grint"
   ]
  },
  {
   "metadata": {
    "trusted": true
   },
   "cell_type": "code",
   "source": [
    "answer_ls.append(1)"
   ],
   "execution_count": null,
   "outputs": []
  },
  {
   "metadata": {},
   "cell_type": "markdown",
   "source": [
    "# 17. Какой актер принес меньше всего прибыли в 2012 году?\n",
    "Варианты ответов:\n",
    "1. Nicolas Cage\n",
    "2. Danny Huston\n",
    "3. Kirsten Dunst\n",
    "4. Jim Sturgess\n",
    "5. Sami Gayle"
   ]
  },
  {
   "metadata": {
    "trusted": true
   },
   "cell_type": "code",
   "source": [
    "answer_ls.append(1)"
   ],
   "execution_count": null,
   "outputs": []
  },
  {
   "metadata": {},
   "cell_type": "markdown",
   "source": [
    "# 18. Какой актер снялся в большем количестве высокобюджетных фильмов? (в фильмах где бюджет выше среднего по данной выборке)\n",
    "Варианты ответов:\n",
    "1. Tom Cruise\n",
    "2. Mark Wahlberg\n",
    "3. Matt Damon\n",
    "4. Angelina Jolie\n",
    "5. Adam Sandler"
   ]
  },
  {
   "metadata": {
    "trusted": true
   },
   "cell_type": "code",
   "source": [
    "answer_ls.append(1)"
   ],
   "execution_count": null,
   "outputs": []
  },
  {
   "metadata": {},
   "cell_type": "markdown",
   "source": [
    "# 19. В фильмах какого жанра больше всего снимался Nicolas Cage?\n",
    "Варианты ответа:\n",
    "1. Drama\n",
    "2. Action\n",
    "3. Thriller\n",
    "4. Adventure\n",
    "5. Crime"
   ]
  },
  {
   "metadata": {
    "trusted": true
   },
   "cell_type": "code",
   "source": [
    "answer_ls.append(1)"
   ],
   "execution_count": null,
   "outputs": []
  },
  {
   "metadata": {},
   "cell_type": "markdown",
   "source": "# 20. Какая студия сняла больше всего фильмов?\nВарианты ответа:\n1. Universal Pictures (Universal)\n2. Paramount Pictures\n3. Columbia Pictures\n4. Warner Bros\n5. Twentieth Century Fox Film Corporation"
  },
  {
   "metadata": {
    "trusted": true
   },
   "cell_type": "code",
   "source": "answer_ls.append(1)",
   "execution_count": null,
   "outputs": []
  },
  {
   "metadata": {},
   "cell_type": "markdown",
   "source": "# 21. Какая студия сняла больше всего фильмов в 2015 году?\nВарианты ответа:\n1. Universal Pictures\n2. Paramount Pictures\n3. Columbia Pictures\n4. Warner Bros\n5. Twentieth Century Fox Film Corporation"
  },
  {
   "metadata": {
    "trusted": true
   },
   "cell_type": "code",
   "source": "answer_ls.append(1)",
   "execution_count": null,
   "outputs": []
  },
  {
   "metadata": {},
   "cell_type": "markdown",
   "source": "# 22. Какая студия заработала больше всего денег в жанре комедий за все время?\nВарианты ответа:\n1. Warner Bros\n2. Universal Pictures (Universal)\n3. Columbia Pictures\n4. Paramount Pictures\n5. Walt Disney"
  },
  {
   "metadata": {
    "trusted": true
   },
   "cell_type": "code",
   "source": "answer_ls.append(1)",
   "execution_count": null,
   "outputs": []
  },
  {
   "metadata": {},
   "cell_type": "markdown",
   "source": "# 23. Какая студия заработала больше всего денег в 2012 году?\nВарианты ответа:\n1. Universal Pictures (Universal)\n2. Warner Bros\n3. Columbia Pictures\n4. Paramount Pictures\n5. Lucasfilm"
  },
  {
   "metadata": {
    "trusted": true
   },
   "cell_type": "code",
   "source": "answer_ls.append(1)",
   "execution_count": null,
   "outputs": []
  },
  {
   "metadata": {},
   "cell_type": "markdown",
   "source": "# 24. Самый убыточный фильм от Paramount Pictures\nВарианты ответа:\n\n1. K-19: The Widowmaker tt0267626\n2. Next tt0435705\n3. Twisted tt0315297\n4. The Love Guru tt0811138\n5. The Fighter tt0964517"
  },
  {
   "metadata": {
    "trusted": true
   },
   "cell_type": "code",
   "source": "answer_ls.append(1)",
   "execution_count": null,
   "outputs": []
  },
  {
   "metadata": {},
   "cell_type": "markdown",
   "source": "# 25. Какой Самый прибыльный год (заработали больше всего)?\nВарианты ответа:\n1. 2014\n2. 2008\n3. 2012\n4. 2002\n5. 2015"
  },
  {
   "metadata": {
    "trusted": true
   },
   "cell_type": "code",
   "source": "answer_ls.append(1)",
   "execution_count": null,
   "outputs": []
  },
  {
   "metadata": {},
   "cell_type": "markdown",
   "source": "# 26. Какой Самый прибыльный год для студии Warner Bros?\nВарианты ответа:\n1. 2014\n2. 2008\n3. 2012\n4. 2010\n5. 2015"
  },
  {
   "metadata": {
    "trusted": true
   },
   "cell_type": "code",
   "source": "answer_ls.append(1)",
   "execution_count": null,
   "outputs": []
  },
  {
   "metadata": {},
   "cell_type": "markdown",
   "source": "# 27. В каком месяце за все годы суммарно вышло больше всего фильмов?\nВарианты ответа:\n1. Январь\n2. Июнь\n3. Декабрь\n4. Сентябрь\n5. Май"
  },
  {
   "metadata": {
    "trusted": true
   },
   "cell_type": "code",
   "source": "answer_ls.append(1)",
   "execution_count": null,
   "outputs": []
  },
  {
   "metadata": {},
   "cell_type": "markdown",
   "source": "# 28. Сколько суммарно вышло фильмов летом? (за июнь, июль, август)\nВарианты ответа:\n1. 345\n2. 450\n3. 478\n4. 523\n5. 381"
  },
  {
   "metadata": {
    "trusted": true
   },
   "cell_type": "code",
   "source": "answer_ls.append(1)",
   "execution_count": null,
   "outputs": []
  },
  {
   "metadata": {},
   "cell_type": "markdown",
   "source": "# 29. Какой режисер выпускает (суммарно по годам) больше всего фильмов зимой?\nВарианты ответов:\n1. Steven Soderbergh\n2. Christopher Nolan\n3. Clint Eastwood\n4. Ridley Scott\n5. Peter Jackson"
  },
  {
   "metadata": {
    "trusted": true
   },
   "cell_type": "code",
   "source": "answer_ls.append(1)",
   "execution_count": null,
   "outputs": []
  },
  {
   "metadata": {},
   "cell_type": "markdown",
   "source": "# 30. Какой месяц чаще всего по годам самый прибыльный?\nВарианты ответа:\n1. Январь\n2. Июнь\n3. Декабрь\n4. Сентябрь\n5. Май"
  },
  {
   "metadata": {
    "trusted": true
   },
   "cell_type": "code",
   "source": "answer_ls.append(1)",
   "execution_count": null,
   "outputs": []
  },
  {
   "metadata": {},
   "cell_type": "markdown",
   "source": "# 31. Названия фильмов какой студии в среднем самые длинные по количеству символов?\nВарианты ответа:\n1. Universal Pictures (Universal)\n2. Warner Bros\n3. Jim Henson Company, The\n4. Paramount Pictures\n5. Four By Two Productions"
  },
  {
   "metadata": {
    "trusted": true
   },
   "cell_type": "code",
   "source": "answer_ls.append(1)",
   "execution_count": null,
   "outputs": []
  },
  {
   "metadata": {},
   "cell_type": "markdown",
   "source": "# 32. Названия фильмов какой студии в среднем самые длинные по количеству слов?\nВарианты ответа:\n1. Universal Pictures (Universal)\n2. Warner Bros\n3. Jim Henson Company, The\n4. Paramount Pictures\n5. Four By Two Productions"
  },
  {
   "metadata": {
    "trusted": true
   },
   "cell_type": "code",
   "source": "answer_ls.append(1)",
   "execution_count": null,
   "outputs": []
  },
  {
   "metadata": {},
   "cell_type": "markdown",
   "source": "# 33. Сколько разных слов используется в названиях фильмов?(без учета регистра)\nВарианты ответа:\n1. 6540\n2. 1002\n3. 2461\n4. 28304\n5. 3432"
  },
  {
   "metadata": {
    "trusted": true
   },
   "cell_type": "code",
   "source": "answer_ls.append(1)",
   "execution_count": null,
   "outputs": []
  },
  {
   "metadata": {},
   "cell_type": "markdown",
   "source": "# 34. Какие фильмы входят в 1 процент лучших по рейтингу?\nВарианты ответа:\n1. Inside Out, Gone Girl, 12 Years a Slave\n2. BloodRayne, The Adventures of Rocky & Bullwinkle\n3. The Lord of the Rings: The Return of the King\n4. 300, Lucky Number Slevin"
  },
  {
   "metadata": {
    "trusted": true
   },
   "cell_type": "code",
   "source": "answer_ls.append(1)",
   "execution_count": null,
   "outputs": []
  },
  {
   "metadata": {},
   "cell_type": "markdown",
   "source": "# 35. Какие актеры чаще всего снимаются в одном фильме вместе\nВарианты ответа:\n1. Johnny Depp & Helena Bonham Carter\n2. Hugh Jackman & Ian McKellen\n3. Vin Diesel & Paul Walker\n4. Adam Sandler & Kevin James\n5. Daniel Radcliffe & Rupert Grint"
  },
  {
   "metadata": {
    "trusted": true
   },
   "cell_type": "code",
   "source": "answer_ls.append(1)",
   "execution_count": null,
   "outputs": []
  },
  {
   "metadata": {},
   "cell_type": "markdown",
   "source": "# 36. У какого из режиссеров выше вероятность выпустить фильм в прибыли? (5 баллов)101\nВарианты ответа:\n1. Quentin Tarantino\n2. Steven Soderbergh\n3. Robert Rodriguez\n4. Christopher Nolan\n5. Clint Eastwood"
  },
  {
   "metadata": {
    "trusted": true
   },
   "cell_type": "code",
   "source": "answer_ls.append(1)",
   "execution_count": null,
   "outputs": []
  },
  {
   "metadata": {},
   "cell_type": "markdown",
   "source": "# Submission"
  },
  {
   "metadata": {
    "trusted": true
   },
   "cell_type": "code",
   "source": "len(answer_ls)",
   "execution_count": 6,
   "outputs": [
    {
     "output_type": "execute_result",
     "execution_count": 6,
     "data": {
      "text/plain": "0"
     },
     "metadata": {}
    }
   ]
  },
  {
   "metadata": {
    "trusted": true
   },
   "cell_type": "code",
   "source": "pd.DataFrame({'Id':range(1,len(answer_ls)+1), 'Answer':answer_ls}, columns=['Id', 'Answer'])",
   "execution_count": 5,
   "outputs": [
    {
     "output_type": "execute_result",
     "execution_count": 5,
     "data": {
      "text/plain": "Empty DataFrame\nColumns: [Id, Answer]\nIndex: []",
      "text/html": "<div>\n<style scoped>\n    .dataframe tbody tr th:only-of-type {\n        vertical-align: middle;\n    }\n\n    .dataframe tbody tr th {\n        vertical-align: top;\n    }\n\n    .dataframe thead th {\n        text-align: right;\n    }\n</style>\n<table border=\"1\" class=\"dataframe\">\n  <thead>\n    <tr style=\"text-align: right;\">\n      <th></th>\n      <th>Id</th>\n      <th>Answer</th>\n    </tr>\n  </thead>\n  <tbody>\n  </tbody>\n</table>\n</div>"
     },
     "metadata": {}
    }
   ]
  },
  {
   "metadata": {
    "trusted": false
   },
   "cell_type": "code",
   "source": "",
   "execution_count": null,
   "outputs": []
  }
 ],
 "metadata": {
  "kernelspec": {
   "display_name": "Python 3",
   "language": "python",
   "name": "python3"
  },
  "language_info": {
   "codemirror_mode": {
    "name": "ipython",
    "version": 3
   },
   "file_extension": ".py",
   "mimetype": "text/x-python",
   "name": "python",
   "nbconvert_exporter": "python",
   "pygments_lexer": "ipython3",
   "version": "3.6.6"
  }
 },
 "nbformat": 4,
 "nbformat_minor": 4
}