{
 "metadata": {
  "language_info": {
   "codemirror_mode": {
    "name": "ipython",
    "version": 3
   },
   "file_extension": ".py",
   "mimetype": "text/x-python",
   "name": "python",
   "nbconvert_exporter": "python",
   "pygments_lexer": "ipython3",
   "version": "3.7.6-final"
  },
  "orig_nbformat": 2,
  "kernelspec": {
   "name": "python3",
   "display_name": "Python 3"
  }
 },
 "nbformat": 4,
 "nbformat_minor": 2,
 "cells": [
  {
   "cell_type": "markdown",
   "metadata": {},
   "source": [
    "Подготовим датасет к работе"
   ]
  },
  {
   "cell_type": "code",
   "execution_count": 40,
   "metadata": {},
   "outputs": [
    {
     "output_type": "display_data",
     "data": {
      "text/plain": "                              user_id                  time      bet      win\n0    Запись пользователя № - user_919  [2019-01-01 14:06:51      NaN      NaN\n1    Запись пользователя № - user_973  [2019-01-01 14:51:16      NaN      NaN\n2    Запись пользователя № - user_903  [2019-01-01 16:31:16      NaN      NaN\n3    Запись пользователя № - user_954  [2019-01-01 17:17:51      NaN      NaN\n4    Запись пользователя № - user_954  [2019-01-01 21:31:18      NaN      NaN\n..                                ...                   ...      ...      ...\n995  Запись пользователя № - user_984   [2019-04-20 9:59:58   9754.0      NaN\n996                            #error                   NaN  10054.0  29265.0\n997                            #error                   NaN  10454.0      NaN\n998                            #error                   NaN   1000.0      NaN\n999                            #error                   NaN  10754.0      NaN\n\n[1000 rows x 4 columns]",
      "text/html": "<div>\n<style scoped>\n    .dataframe tbody tr th:only-of-type {\n        vertical-align: middle;\n    }\n\n    .dataframe tbody tr th {\n        vertical-align: top;\n    }\n\n    .dataframe thead th {\n        text-align: right;\n    }\n</style>\n<table border=\"1\" class=\"dataframe\">\n  <thead>\n    <tr style=\"text-align: right;\">\n      <th></th>\n      <th>user_id</th>\n      <th>time</th>\n      <th>bet</th>\n      <th>win</th>\n    </tr>\n  </thead>\n  <tbody>\n    <tr>\n      <th>0</th>\n      <td>Запись пользователя № - user_919</td>\n      <td>[2019-01-01 14:06:51</td>\n      <td>NaN</td>\n      <td>NaN</td>\n    </tr>\n    <tr>\n      <th>1</th>\n      <td>Запись пользователя № - user_973</td>\n      <td>[2019-01-01 14:51:16</td>\n      <td>NaN</td>\n      <td>NaN</td>\n    </tr>\n    <tr>\n      <th>2</th>\n      <td>Запись пользователя № - user_903</td>\n      <td>[2019-01-01 16:31:16</td>\n      <td>NaN</td>\n      <td>NaN</td>\n    </tr>\n    <tr>\n      <th>3</th>\n      <td>Запись пользователя № - user_954</td>\n      <td>[2019-01-01 17:17:51</td>\n      <td>NaN</td>\n      <td>NaN</td>\n    </tr>\n    <tr>\n      <th>4</th>\n      <td>Запись пользователя № - user_954</td>\n      <td>[2019-01-01 21:31:18</td>\n      <td>NaN</td>\n      <td>NaN</td>\n    </tr>\n    <tr>\n      <th>...</th>\n      <td>...</td>\n      <td>...</td>\n      <td>...</td>\n      <td>...</td>\n    </tr>\n    <tr>\n      <th>995</th>\n      <td>Запись пользователя № - user_984</td>\n      <td>[2019-04-20 9:59:58</td>\n      <td>9754.0</td>\n      <td>NaN</td>\n    </tr>\n    <tr>\n      <th>996</th>\n      <td>#error</td>\n      <td>NaN</td>\n      <td>10054.0</td>\n      <td>29265.0</td>\n    </tr>\n    <tr>\n      <th>997</th>\n      <td>#error</td>\n      <td>NaN</td>\n      <td>10454.0</td>\n      <td>NaN</td>\n    </tr>\n    <tr>\n      <th>998</th>\n      <td>#error</td>\n      <td>NaN</td>\n      <td>1000.0</td>\n      <td>NaN</td>\n    </tr>\n    <tr>\n      <th>999</th>\n      <td>#error</td>\n      <td>NaN</td>\n      <td>10754.0</td>\n      <td>NaN</td>\n    </tr>\n  </tbody>\n</table>\n<p>1000 rows × 4 columns</p>\n</div>"
     },
     "metadata": {}
    },
    {
     "output_type": "display_data",
     "data": {
      "text/plain": "     user_id                     email          geo\n0   User_943       Accumanst@gmail.com       Ижевск\n1   User_908         Advismowr@mail.ru       Ижевск\n2   User_962           Anachso@ukr.net    Краснодар\n3   User_973          Antecia@inbox.ru        Пермь\n4   User_902        Balliaryva@ukr.net          NaN\n..       ...                       ...          ...\n95  User_959  UpdatesCurious@yahoo.com       Тюмень\n96  User_901        V2artierso@mail.ru  Арзангелтск\n97  User_970          Vashoterlo@bk.ru      Воронеж\n98  User_965       Visuareda@yahoo.com      Воронеж\n99  User_921              Aavast@ya.ru       Ижевск\n\n[100 rows x 3 columns]",
      "text/html": "<div>\n<style scoped>\n    .dataframe tbody tr th:only-of-type {\n        vertical-align: middle;\n    }\n\n    .dataframe tbody tr th {\n        vertical-align: top;\n    }\n\n    .dataframe thead th {\n        text-align: right;\n    }\n</style>\n<table border=\"1\" class=\"dataframe\">\n  <thead>\n    <tr style=\"text-align: right;\">\n      <th></th>\n      <th>user_id</th>\n      <th>email</th>\n      <th>geo</th>\n    </tr>\n  </thead>\n  <tbody>\n    <tr>\n      <th>0</th>\n      <td>User_943</td>\n      <td>Accumanst@gmail.com</td>\n      <td>Ижевск</td>\n    </tr>\n    <tr>\n      <th>1</th>\n      <td>User_908</td>\n      <td>Advismowr@mail.ru</td>\n      <td>Ижевск</td>\n    </tr>\n    <tr>\n      <th>2</th>\n      <td>User_962</td>\n      <td>Anachso@ukr.net</td>\n      <td>Краснодар</td>\n    </tr>\n    <tr>\n      <th>3</th>\n      <td>User_973</td>\n      <td>Antecia@inbox.ru</td>\n      <td>Пермь</td>\n    </tr>\n    <tr>\n      <th>4</th>\n      <td>User_902</td>\n      <td>Balliaryva@ukr.net</td>\n      <td>NaN</td>\n    </tr>\n    <tr>\n      <th>...</th>\n      <td>...</td>\n      <td>...</td>\n      <td>...</td>\n    </tr>\n    <tr>\n      <th>95</th>\n      <td>User_959</td>\n      <td>UpdatesCurious@yahoo.com</td>\n      <td>Тюмень</td>\n    </tr>\n    <tr>\n      <th>96</th>\n      <td>User_901</td>\n      <td>V2artierso@mail.ru</td>\n      <td>Арзангелтск</td>\n    </tr>\n    <tr>\n      <th>97</th>\n      <td>User_970</td>\n      <td>Vashoterlo@bk.ru</td>\n      <td>Воронеж</td>\n    </tr>\n    <tr>\n      <th>98</th>\n      <td>User_965</td>\n      <td>Visuareda@yahoo.com</td>\n      <td>Воронеж</td>\n    </tr>\n    <tr>\n      <th>99</th>\n      <td>User_921</td>\n      <td>Aavast@ya.ru</td>\n      <td>Ижевск</td>\n    </tr>\n  </tbody>\n</table>\n<p>100 rows × 3 columns</p>\n</div>"
     },
     "metadata": {}
    },
    {
     "output_type": "display_data",
     "data": {
      "text/plain": "Index(['Name', 'City', 'Age', 'Profession'], dtype='object')"
     },
     "metadata": {}
    }
   ],
   "source": [
    "import pandas as pd\n",
    "import datetime\n",
    "\n",
    "log = pd.read_csv('data/log.csv', header=None, names=['user_id', 'time', 'bet', 'win'])\n",
    "display(log)\n",
    "\n",
    "users = pd.read_csv('data/users.csv', encoding='koi8_r', sep='\\t')\n",
    "users.columns  = ['user_id', 'email', 'geo']\n",
    "display(users)\n",
    "\n",
    "sample = pd.read_csv('data/sample.csv')\n",
    "display(sample.columns)"
   ]
  },
  {
   "cell_type": "markdown",
   "metadata": {},
   "source": [
    "Создайте новый датафрейм log_win, в который будут входить только записи, где пользователь выиграл. Посчитайте, сколько таких записей, и сохраните в переменной win_count."
   ]
  },
  {
   "cell_type": "code",
   "execution_count": 41,
   "metadata": {
    "tags": []
   },
   "outputs": [
    {
     "output_type": "stream",
     "name": "stdout",
     "text": "138\n"
    }
   ],
   "source": [
    "log_win = log[log['win'] > 0]\n",
    "win_count = len(log_win)\n",
    "print(win_count)"
   ]
  },
  {
   "cell_type": "markdown",
   "metadata": {},
   "source": [
    "Создайте в sample заголовки колонок так, чтобы там были только маленькие буквы. Например, вместо 'Age' нужно сделать 'age':\n",
    "\n"
   ]
  },
  {
   "cell_type": "code",
   "execution_count": 42,
   "metadata": {},
   "outputs": [
    {
     "output_type": "display_data",
     "data": {
      "text/plain": "Index(['Name', 'City', 'Age', 'Profession'], dtype='object')"
     },
     "metadata": {}
    },
    {
     "output_type": "display_data",
     "data": {
      "text/plain": "Index(['name', 'city', 'age', 'profession'], dtype='object')"
     },
     "metadata": {}
    }
   ],
   "source": [
    "display(sample.columns)\n",
    "sample.columns = [c.lower() for c in sample.columns]\n",
    "display(sample.columns)"
   ]
  },
  {
   "cell_type": "markdown",
   "metadata": {},
   "source": [
    "Посмотрите, сколько непустых значений в колонке City"
   ]
  },
  {
   "cell_type": "code",
   "execution_count": 43,
   "metadata": {
    "tags": []
   },
   "outputs": [
    {
     "output_type": "stream",
     "name": "stdout",
     "text": "<class 'pandas.core.frame.DataFrame'>\nRangeIndex: 11 entries, 0 to 10\nData columns (total 4 columns):\n #   Column      Non-Null Count  Dtype \n---  ------      --------------  ----- \n 0   name        10 non-null     object\n 1   city        10 non-null     object\n 2   age         11 non-null     int64 \n 3   profession  11 non-null     object\ndtypes: int64(1), object(3)\nmemory usage: 480.0+ bytes\n"
    }
   ],
   "source": [
    "sample.info()"
   ]
  },
  {
   "cell_type": "markdown",
   "metadata": {},
   "source": [
    "Создайте новый датафрейм sample2, в который будут входить только записи о людях в возрасте меньше 30 лет."
   ]
  },
  {
   "cell_type": "code",
   "execution_count": 44,
   "metadata": {},
   "outputs": [
    {
     "output_type": "execute_result",
     "data": {
      "text/plain": "       name    city  age profession\n0    Иванов  Москва   25     Клинер\n2    Иванов  Москва   25     Клинер\n5  Кузнецов    Сочи   19    Рабочий\n6     Сажин  Сургут   29    Рабочий",
      "text/html": "<div>\n<style scoped>\n    .dataframe tbody tr th:only-of-type {\n        vertical-align: middle;\n    }\n\n    .dataframe tbody tr th {\n        vertical-align: top;\n    }\n\n    .dataframe thead th {\n        text-align: right;\n    }\n</style>\n<table border=\"1\" class=\"dataframe\">\n  <thead>\n    <tr style=\"text-align: right;\">\n      <th></th>\n      <th>name</th>\n      <th>city</th>\n      <th>age</th>\n      <th>profession</th>\n    </tr>\n  </thead>\n  <tbody>\n    <tr>\n      <th>0</th>\n      <td>Иванов</td>\n      <td>Москва</td>\n      <td>25</td>\n      <td>Клинер</td>\n    </tr>\n    <tr>\n      <th>2</th>\n      <td>Иванов</td>\n      <td>Москва</td>\n      <td>25</td>\n      <td>Клинер</td>\n    </tr>\n    <tr>\n      <th>5</th>\n      <td>Кузнецов</td>\n      <td>Сочи</td>\n      <td>19</td>\n      <td>Рабочий</td>\n    </tr>\n    <tr>\n      <th>6</th>\n      <td>Сажин</td>\n      <td>Сургут</td>\n      <td>29</td>\n      <td>Рабочий</td>\n    </tr>\n  </tbody>\n</table>\n</div>"
     },
     "metadata": {},
     "execution_count": 44
    }
   ],
   "source": [
    "sample[sample['age'] < 30]"
   ]
  },
  {
   "cell_type": "markdown",
   "metadata": {},
   "source": [
    "Создайте новый датафрейм log_win, в который будут входить только записи, где пользователь выиграл. Посчитайте, сколько таких записей, и сохраните в переменной win_count."
   ]
  },
  {
   "cell_type": "code",
   "execution_count": 45,
   "metadata": {
    "tags": []
   },
   "outputs": [
    {
     "output_type": "stream",
     "name": "stdout",
     "text": "138\n"
    }
   ],
   "source": [
    "log_win = log[log['win'] > 0]\n",
    "win_count = len(log_win)\n",
    "print(win_count)"
   ]
  },
  {
   "cell_type": "markdown",
   "metadata": {},
   "source": [
    "Создайте новый датафрейм sample2, в который будут входить только записи о рабочих младше 30 лет."
   ]
  },
  {
   "cell_type": "code",
   "execution_count": 46,
   "metadata": {},
   "outputs": [
    {
     "output_type": "execute_result",
     "data": {
      "text/plain": "       name    city  age profession\n5  Кузнецов    Сочи   19    Рабочий\n6     Сажин  Сургут   29    Рабочий",
      "text/html": "<div>\n<style scoped>\n    .dataframe tbody tr th:only-of-type {\n        vertical-align: middle;\n    }\n\n    .dataframe tbody tr th {\n        vertical-align: top;\n    }\n\n    .dataframe thead th {\n        text-align: right;\n    }\n</style>\n<table border=\"1\" class=\"dataframe\">\n  <thead>\n    <tr style=\"text-align: right;\">\n      <th></th>\n      <th>name</th>\n      <th>city</th>\n      <th>age</th>\n      <th>profession</th>\n    </tr>\n  </thead>\n  <tbody>\n    <tr>\n      <th>5</th>\n      <td>Кузнецов</td>\n      <td>Сочи</td>\n      <td>19</td>\n      <td>Рабочий</td>\n    </tr>\n    <tr>\n      <th>6</th>\n      <td>Сажин</td>\n      <td>Сургут</td>\n      <td>29</td>\n      <td>Рабочий</td>\n    </tr>\n  </tbody>\n</table>\n</div>"
     },
     "metadata": {},
     "execution_count": 46
    }
   ],
   "source": [
    "sample[(sample['age'] < 30) & (sample['profession'] == 'Рабочий')]"
   ]
  },
  {
   "cell_type": "markdown",
   "metadata": {},
   "source": [
    "С помощью функции query найдите тех, у кого ставка меньше 2000, а выигрыш больше 0. Сохраните в новый датафрейм log2."
   ]
  },
  {
   "cell_type": "code",
   "execution_count": 47,
   "metadata": {},
   "outputs": [
    {
     "output_type": "execute_result",
     "data": {
      "text/plain": "                              user_id                  time     bet     win\n151  Запись пользователя № - user_982  [2019-01-16 21:54:22   100.0  4749.0\n189  Запись пользователя № - user_964  [2019-01-21 18:34:44   200.0  4667.0\n205  Запись пользователя № - user_931   [2019-01-22 5:26:59   300.0  4319.0\n232  Запись пользователя № - user_998   [2019-01-25 8:57:20   500.0  5069.0\n265  Запись пользователя № - user_998  [2019-01-29 10:37:55   500.0  6294.0\n..                                ...                   ...     ...     ...\n962  Запись пользователя № - user_976  [2019-04-19 14:18:45   400.0  5997.0\n965  Запись пользователя № - user_900  [2019-04-19 19:31:48   900.0  6767.0\n967  Запись пользователя № - user_975  [2019-04-19 22:25:15  1000.0  6108.0\n981                            #error                   NaN   800.0  7035.0\n991  Запись пользователя № - user_965  [2019-04-20 12:55:41   800.0  6927.0\n\n[113 rows x 4 columns]",
      "text/html": "<div>\n<style scoped>\n    .dataframe tbody tr th:only-of-type {\n        vertical-align: middle;\n    }\n\n    .dataframe tbody tr th {\n        vertical-align: top;\n    }\n\n    .dataframe thead th {\n        text-align: right;\n    }\n</style>\n<table border=\"1\" class=\"dataframe\">\n  <thead>\n    <tr style=\"text-align: right;\">\n      <th></th>\n      <th>user_id</th>\n      <th>time</th>\n      <th>bet</th>\n      <th>win</th>\n    </tr>\n  </thead>\n  <tbody>\n    <tr>\n      <th>151</th>\n      <td>Запись пользователя № - user_982</td>\n      <td>[2019-01-16 21:54:22</td>\n      <td>100.0</td>\n      <td>4749.0</td>\n    </tr>\n    <tr>\n      <th>189</th>\n      <td>Запись пользователя № - user_964</td>\n      <td>[2019-01-21 18:34:44</td>\n      <td>200.0</td>\n      <td>4667.0</td>\n    </tr>\n    <tr>\n      <th>205</th>\n      <td>Запись пользователя № - user_931</td>\n      <td>[2019-01-22 5:26:59</td>\n      <td>300.0</td>\n      <td>4319.0</td>\n    </tr>\n    <tr>\n      <th>232</th>\n      <td>Запись пользователя № - user_998</td>\n      <td>[2019-01-25 8:57:20</td>\n      <td>500.0</td>\n      <td>5069.0</td>\n    </tr>\n    <tr>\n      <th>265</th>\n      <td>Запись пользователя № - user_998</td>\n      <td>[2019-01-29 10:37:55</td>\n      <td>500.0</td>\n      <td>6294.0</td>\n    </tr>\n    <tr>\n      <th>...</th>\n      <td>...</td>\n      <td>...</td>\n      <td>...</td>\n      <td>...</td>\n    </tr>\n    <tr>\n      <th>962</th>\n      <td>Запись пользователя № - user_976</td>\n      <td>[2019-04-19 14:18:45</td>\n      <td>400.0</td>\n      <td>5997.0</td>\n    </tr>\n    <tr>\n      <th>965</th>\n      <td>Запись пользователя № - user_900</td>\n      <td>[2019-04-19 19:31:48</td>\n      <td>900.0</td>\n      <td>6767.0</td>\n    </tr>\n    <tr>\n      <th>967</th>\n      <td>Запись пользователя № - user_975</td>\n      <td>[2019-04-19 22:25:15</td>\n      <td>1000.0</td>\n      <td>6108.0</td>\n    </tr>\n    <tr>\n      <th>981</th>\n      <td>#error</td>\n      <td>NaN</td>\n      <td>800.0</td>\n      <td>7035.0</td>\n    </tr>\n    <tr>\n      <th>991</th>\n      <td>Запись пользователя № - user_965</td>\n      <td>[2019-04-20 12:55:41</td>\n      <td>800.0</td>\n      <td>6927.0</td>\n    </tr>\n  </tbody>\n</table>\n<p>113 rows × 4 columns</p>\n</div>"
     },
     "metadata": {},
     "execution_count": 47
    }
   ],
   "source": [
    "log.query('bet < 2000 & win > 0')"
   ]
  },
  {
   "cell_type": "markdown",
   "metadata": {},
   "source": [
    "Функция contains не может работать с пустыми значениями: необходимо использовать параметр na = False"
   ]
  },
  {
   "cell_type": "code",
   "execution_count": 48,
   "metadata": {},
   "outputs": [
    {
     "output_type": "execute_result",
     "data": {
      "text/plain": "           name         city  age profession\n0        Иванов       Москва   25     Клинер\n1           NaN    Волгоград   31   Менеджер\n2        Иванов       Москва   25     Клинер\n3       sidorov  Владивосток   43   Менеджер\n5      Кузнецов         Сочи   19    Рабочий\n7  Котлеревский   Йошкар-Ола   32    Рабочий\n8    Завалишина    Чебоксары   36   Менеджер",
      "text/html": "<div>\n<style scoped>\n    .dataframe tbody tr th:only-of-type {\n        vertical-align: middle;\n    }\n\n    .dataframe tbody tr th {\n        vertical-align: top;\n    }\n\n    .dataframe thead th {\n        text-align: right;\n    }\n</style>\n<table border=\"1\" class=\"dataframe\">\n  <thead>\n    <tr style=\"text-align: right;\">\n      <th></th>\n      <th>name</th>\n      <th>city</th>\n      <th>age</th>\n      <th>profession</th>\n    </tr>\n  </thead>\n  <tbody>\n    <tr>\n      <th>0</th>\n      <td>Иванов</td>\n      <td>Москва</td>\n      <td>25</td>\n      <td>Клинер</td>\n    </tr>\n    <tr>\n      <th>1</th>\n      <td>NaN</td>\n      <td>Волгоград</td>\n      <td>31</td>\n      <td>Менеджер</td>\n    </tr>\n    <tr>\n      <th>2</th>\n      <td>Иванов</td>\n      <td>Москва</td>\n      <td>25</td>\n      <td>Клинер</td>\n    </tr>\n    <tr>\n      <th>3</th>\n      <td>sidorov</td>\n      <td>Владивосток</td>\n      <td>43</td>\n      <td>Менеджер</td>\n    </tr>\n    <tr>\n      <th>5</th>\n      <td>Кузнецов</td>\n      <td>Сочи</td>\n      <td>19</td>\n      <td>Рабочий</td>\n    </tr>\n    <tr>\n      <th>7</th>\n      <td>Котлеревский</td>\n      <td>Йошкар-Ола</td>\n      <td>32</td>\n      <td>Рабочий</td>\n    </tr>\n    <tr>\n      <th>8</th>\n      <td>Завалишина</td>\n      <td>Чебоксары</td>\n      <td>36</td>\n      <td>Менеджер</td>\n    </tr>\n  </tbody>\n</table>\n</div>"
     },
     "metadata": {},
     "execution_count": 48
    }
   ],
   "source": [
    "sample[sample.city.str.contains(\"о\", na=False)]"
   ]
  },
  {
   "cell_type": "markdown",
   "metadata": {},
   "source": [
    "Найдите записи, где в городах нет буквы \"о\", и сохраните в переменную sample4. Не забудьте про NaN и параметр na:"
   ]
  },
  {
   "cell_type": "code",
   "execution_count": 49,
   "metadata": {},
   "outputs": [
    {
     "output_type": "execute_result",
     "data": {
      "text/plain": "       name    city  age profession\n4   _______   Курск   50   Водитель\n6     Сажин  Сургут   29    Рабочий\n9    Левина     NaN   55    Рабочий\n10     Фикс    Рига   42    Рабочий",
      "text/html": "<div>\n<style scoped>\n    .dataframe tbody tr th:only-of-type {\n        vertical-align: middle;\n    }\n\n    .dataframe tbody tr th {\n        vertical-align: top;\n    }\n\n    .dataframe thead th {\n        text-align: right;\n    }\n</style>\n<table border=\"1\" class=\"dataframe\">\n  <thead>\n    <tr style=\"text-align: right;\">\n      <th></th>\n      <th>name</th>\n      <th>city</th>\n      <th>age</th>\n      <th>profession</th>\n    </tr>\n  </thead>\n  <tbody>\n    <tr>\n      <th>4</th>\n      <td>_______</td>\n      <td>Курск</td>\n      <td>50</td>\n      <td>Водитель</td>\n    </tr>\n    <tr>\n      <th>6</th>\n      <td>Сажин</td>\n      <td>Сургут</td>\n      <td>29</td>\n      <td>Рабочий</td>\n    </tr>\n    <tr>\n      <th>9</th>\n      <td>Левина</td>\n      <td>NaN</td>\n      <td>55</td>\n      <td>Рабочий</td>\n    </tr>\n    <tr>\n      <th>10</th>\n      <td>Фикс</td>\n      <td>Рига</td>\n      <td>42</td>\n      <td>Рабочий</td>\n    </tr>\n  </tbody>\n</table>\n</div>"
     },
     "metadata": {},
     "execution_count": 49
    }
   ],
   "source": [
    "sample[~sample.city.str.contains(\"о\", na=False)]"
   ]
  },
  {
   "cell_type": "markdown",
   "metadata": {},
   "source": [
    "Сохраните в переменную new_log датафрейм, из которого удалены записи с ошибкой в поле user_id:"
   ]
  },
  {
   "cell_type": "code",
   "execution_count": 50,
   "metadata": {},
   "outputs": [
    {
     "output_type": "execute_result",
     "data": {
      "text/plain": "                              user_id                  time      bet     win\n0    Запись пользователя № - user_919  [2019-01-01 14:06:51      NaN     NaN\n1    Запись пользователя № - user_973  [2019-01-01 14:51:16      NaN     NaN\n2    Запись пользователя № - user_903  [2019-01-01 16:31:16      NaN     NaN\n3    Запись пользователя № - user_954  [2019-01-01 17:17:51      NaN     NaN\n4    Запись пользователя № - user_954  [2019-01-01 21:31:18      NaN     NaN\n..                                ...                   ...      ...     ...\n991  Запись пользователя № - user_965  [2019-04-20 12:55:41    800.0  6927.0\n992  Запись пользователя № - user_967  [2019-04-20 14:59:36  10154.0     NaN\n993  Запись пользователя № - user_973  [2019-04-20 17:09:56  10254.0     NaN\n994  Запись пользователя № - user_977  [2019-04-20 18:10:07  10354.0     NaN\n995  Запись пользователя № - user_984   [2019-04-20 9:59:58   9754.0     NaN\n\n[985 rows x 4 columns]",
      "text/html": "<div>\n<style scoped>\n    .dataframe tbody tr th:only-of-type {\n        vertical-align: middle;\n    }\n\n    .dataframe tbody tr th {\n        vertical-align: top;\n    }\n\n    .dataframe thead th {\n        text-align: right;\n    }\n</style>\n<table border=\"1\" class=\"dataframe\">\n  <thead>\n    <tr style=\"text-align: right;\">\n      <th></th>\n      <th>user_id</th>\n      <th>time</th>\n      <th>bet</th>\n      <th>win</th>\n    </tr>\n  </thead>\n  <tbody>\n    <tr>\n      <th>0</th>\n      <td>Запись пользователя № - user_919</td>\n      <td>[2019-01-01 14:06:51</td>\n      <td>NaN</td>\n      <td>NaN</td>\n    </tr>\n    <tr>\n      <th>1</th>\n      <td>Запись пользователя № - user_973</td>\n      <td>[2019-01-01 14:51:16</td>\n      <td>NaN</td>\n      <td>NaN</td>\n    </tr>\n    <tr>\n      <th>2</th>\n      <td>Запись пользователя № - user_903</td>\n      <td>[2019-01-01 16:31:16</td>\n      <td>NaN</td>\n      <td>NaN</td>\n    </tr>\n    <tr>\n      <th>3</th>\n      <td>Запись пользователя № - user_954</td>\n      <td>[2019-01-01 17:17:51</td>\n      <td>NaN</td>\n      <td>NaN</td>\n    </tr>\n    <tr>\n      <th>4</th>\n      <td>Запись пользователя № - user_954</td>\n      <td>[2019-01-01 21:31:18</td>\n      <td>NaN</td>\n      <td>NaN</td>\n    </tr>\n    <tr>\n      <th>...</th>\n      <td>...</td>\n      <td>...</td>\n      <td>...</td>\n      <td>...</td>\n    </tr>\n    <tr>\n      <th>991</th>\n      <td>Запись пользователя № - user_965</td>\n      <td>[2019-04-20 12:55:41</td>\n      <td>800.0</td>\n      <td>6927.0</td>\n    </tr>\n    <tr>\n      <th>992</th>\n      <td>Запись пользователя № - user_967</td>\n      <td>[2019-04-20 14:59:36</td>\n      <td>10154.0</td>\n      <td>NaN</td>\n    </tr>\n    <tr>\n      <th>993</th>\n      <td>Запись пользователя № - user_973</td>\n      <td>[2019-04-20 17:09:56</td>\n      <td>10254.0</td>\n      <td>NaN</td>\n    </tr>\n    <tr>\n      <th>994</th>\n      <td>Запись пользователя № - user_977</td>\n      <td>[2019-04-20 18:10:07</td>\n      <td>10354.0</td>\n      <td>NaN</td>\n    </tr>\n    <tr>\n      <th>995</th>\n      <td>Запись пользователя № - user_984</td>\n      <td>[2019-04-20 9:59:58</td>\n      <td>9754.0</td>\n      <td>NaN</td>\n    </tr>\n  </tbody>\n</table>\n<p>985 rows × 4 columns</p>\n</div>"
     },
     "metadata": {},
     "execution_count": 50
    }
   ],
   "source": [
    "log[~log.user_id.str.contains('#error')]"
   ]
  },
  {
   "cell_type": "markdown",
   "metadata": {},
   "source": [
    "С помощью apply и лямбда-функции увеличьте возраст во всех записях на 1 год и сохраните в sample2:"
   ]
  },
  {
   "cell_type": "code",
   "execution_count": 51,
   "metadata": {},
   "outputs": [
    {
     "output_type": "display_data",
     "data": {
      "text/plain": "            name         city  age profession\n0         Иванов       Москва   26     Клинер\n1            NaN    Волгоград   32   Менеджер\n2         Иванов       Москва   26     Клинер\n3        sidorov  Владивосток   44   Менеджер\n4        _______        Курск   51   Водитель\n5       Кузнецов         Сочи   20    Рабочий\n6          Сажин       Сургут   30    Рабочий\n7   Котлеревский   Йошкар-Ола   33    Рабочий\n8     Завалишина    Чебоксары   37   Менеджер\n9         Левина          NaN   56    Рабочий\n10          Фикс         Рига   43    Рабочий",
      "text/html": "<div>\n<style scoped>\n    .dataframe tbody tr th:only-of-type {\n        vertical-align: middle;\n    }\n\n    .dataframe tbody tr th {\n        vertical-align: top;\n    }\n\n    .dataframe thead th {\n        text-align: right;\n    }\n</style>\n<table border=\"1\" class=\"dataframe\">\n  <thead>\n    <tr style=\"text-align: right;\">\n      <th></th>\n      <th>name</th>\n      <th>city</th>\n      <th>age</th>\n      <th>profession</th>\n    </tr>\n  </thead>\n  <tbody>\n    <tr>\n      <th>0</th>\n      <td>Иванов</td>\n      <td>Москва</td>\n      <td>26</td>\n      <td>Клинер</td>\n    </tr>\n    <tr>\n      <th>1</th>\n      <td>NaN</td>\n      <td>Волгоград</td>\n      <td>32</td>\n      <td>Менеджер</td>\n    </tr>\n    <tr>\n      <th>2</th>\n      <td>Иванов</td>\n      <td>Москва</td>\n      <td>26</td>\n      <td>Клинер</td>\n    </tr>\n    <tr>\n      <th>3</th>\n      <td>sidorov</td>\n      <td>Владивосток</td>\n      <td>44</td>\n      <td>Менеджер</td>\n    </tr>\n    <tr>\n      <th>4</th>\n      <td>_______</td>\n      <td>Курск</td>\n      <td>51</td>\n      <td>Водитель</td>\n    </tr>\n    <tr>\n      <th>5</th>\n      <td>Кузнецов</td>\n      <td>Сочи</td>\n      <td>20</td>\n      <td>Рабочий</td>\n    </tr>\n    <tr>\n      <th>6</th>\n      <td>Сажин</td>\n      <td>Сургут</td>\n      <td>30</td>\n      <td>Рабочий</td>\n    </tr>\n    <tr>\n      <th>7</th>\n      <td>Котлеревский</td>\n      <td>Йошкар-Ола</td>\n      <td>33</td>\n      <td>Рабочий</td>\n    </tr>\n    <tr>\n      <th>8</th>\n      <td>Завалишина</td>\n      <td>Чебоксары</td>\n      <td>37</td>\n      <td>Менеджер</td>\n    </tr>\n    <tr>\n      <th>9</th>\n      <td>Левина</td>\n      <td>NaN</td>\n      <td>56</td>\n      <td>Рабочий</td>\n    </tr>\n    <tr>\n      <th>10</th>\n      <td>Фикс</td>\n      <td>Рига</td>\n      <td>43</td>\n      <td>Рабочий</td>\n    </tr>\n  </tbody>\n</table>\n</div>"
     },
     "metadata": {}
    }
   ],
   "source": [
    "sample2 = sample\n",
    "sample2.age = sample2.age.apply(lambda x:x+1)\n",
    "display(sample2)"
   ]
  },
  {
   "cell_type": "markdown",
   "metadata": {},
   "source": [
    "С помощью apply и lambda-функции замените все буквы в поле City на маленькие и сохраните в sample2. Вам может понадобиться функция s.lower().\n",
    "\n",
    "Обратите внимание: когда в столбце есть пропущенные значения, необходимо в явном виде указывать, что это str."
   ]
  },
  {
   "cell_type": "code",
   "execution_count": 52,
   "metadata": {},
   "outputs": [
    {
     "output_type": "display_data",
     "data": {
      "text/plain": "            name         city  age profession\n0         Иванов       москва   26     Клинер\n1            NaN    волгоград   32   Менеджер\n2         Иванов       москва   26     Клинер\n3        sidorov  владивосток   44   Менеджер\n4        _______        курск   51   Водитель\n5       Кузнецов         сочи   20    Рабочий\n6          Сажин       сургут   30    Рабочий\n7   Котлеревский   йошкар-ола   33    Рабочий\n8     Завалишина    чебоксары   37   Менеджер\n9         Левина          nan   56    Рабочий\n10          Фикс         рига   43    Рабочий",
      "text/html": "<div>\n<style scoped>\n    .dataframe tbody tr th:only-of-type {\n        vertical-align: middle;\n    }\n\n    .dataframe tbody tr th {\n        vertical-align: top;\n    }\n\n    .dataframe thead th {\n        text-align: right;\n    }\n</style>\n<table border=\"1\" class=\"dataframe\">\n  <thead>\n    <tr style=\"text-align: right;\">\n      <th></th>\n      <th>name</th>\n      <th>city</th>\n      <th>age</th>\n      <th>profession</th>\n    </tr>\n  </thead>\n  <tbody>\n    <tr>\n      <th>0</th>\n      <td>Иванов</td>\n      <td>москва</td>\n      <td>26</td>\n      <td>Клинер</td>\n    </tr>\n    <tr>\n      <th>1</th>\n      <td>NaN</td>\n      <td>волгоград</td>\n      <td>32</td>\n      <td>Менеджер</td>\n    </tr>\n    <tr>\n      <th>2</th>\n      <td>Иванов</td>\n      <td>москва</td>\n      <td>26</td>\n      <td>Клинер</td>\n    </tr>\n    <tr>\n      <th>3</th>\n      <td>sidorov</td>\n      <td>владивосток</td>\n      <td>44</td>\n      <td>Менеджер</td>\n    </tr>\n    <tr>\n      <th>4</th>\n      <td>_______</td>\n      <td>курск</td>\n      <td>51</td>\n      <td>Водитель</td>\n    </tr>\n    <tr>\n      <th>5</th>\n      <td>Кузнецов</td>\n      <td>сочи</td>\n      <td>20</td>\n      <td>Рабочий</td>\n    </tr>\n    <tr>\n      <th>6</th>\n      <td>Сажин</td>\n      <td>сургут</td>\n      <td>30</td>\n      <td>Рабочий</td>\n    </tr>\n    <tr>\n      <th>7</th>\n      <td>Котлеревский</td>\n      <td>йошкар-ола</td>\n      <td>33</td>\n      <td>Рабочий</td>\n    </tr>\n    <tr>\n      <th>8</th>\n      <td>Завалишина</td>\n      <td>чебоксары</td>\n      <td>37</td>\n      <td>Менеджер</td>\n    </tr>\n    <tr>\n      <th>9</th>\n      <td>Левина</td>\n      <td>nan</td>\n      <td>56</td>\n      <td>Рабочий</td>\n    </tr>\n    <tr>\n      <th>10</th>\n      <td>Фикс</td>\n      <td>рига</td>\n      <td>43</td>\n      <td>Рабочий</td>\n    </tr>\n  </tbody>\n</table>\n</div>"
     },
     "metadata": {}
    }
   ],
   "source": [
    "sample2.city = sample2.city.apply(lambda x:str(x).lower())\n",
    "display(sample2)"
   ]
  },
  {
   "cell_type": "markdown",
   "metadata": {},
   "source": [
    "Напишите функцию profession_code, которая на вход получает строку, а на выход возвращает:\n",
    "\n",
    "* 0 — если на вход поступила строка \"Рабочий\"\n",
    "* 1 — если на вход поступила строка \"Менеджер\"\n",
    "* 2 — в любом другом случае"
   ]
  },
  {
   "cell_type": "code",
   "execution_count": 53,
   "metadata": {},
   "outputs": [],
   "source": [
    "def profession_code(s):\n",
    "    if s == 'Рабочий':\n",
    "        return 0\n",
    "    elif s == 'Менеджер':\n",
    "        return 1\n",
    "    else:\n",
    "        return 2"
   ]
  },
  {
   "cell_type": "markdown",
   "metadata": {},
   "source": [
    "Примените функцию profession_code для того, чтобы заменить поле Profession с помощью apply. Сохраните получившийся датафрейм в переменную sample2."
   ]
  },
  {
   "cell_type": "code",
   "execution_count": 54,
   "metadata": {},
   "outputs": [
    {
     "output_type": "display_data",
     "data": {
      "text/plain": "            name         city  age  profession\n0         Иванов       москва   26           2\n1            NaN    волгоград   32           1\n2         Иванов       москва   26           2\n3        sidorov  владивосток   44           1\n4        _______        курск   51           2\n5       Кузнецов         сочи   20           0\n6          Сажин       сургут   30           0\n7   Котлеревский   йошкар-ола   33           0\n8     Завалишина    чебоксары   37           1\n9         Левина          nan   56           0\n10          Фикс         рига   43           0",
      "text/html": "<div>\n<style scoped>\n    .dataframe tbody tr th:only-of-type {\n        vertical-align: middle;\n    }\n\n    .dataframe tbody tr th {\n        vertical-align: top;\n    }\n\n    .dataframe thead th {\n        text-align: right;\n    }\n</style>\n<table border=\"1\" class=\"dataframe\">\n  <thead>\n    <tr style=\"text-align: right;\">\n      <th></th>\n      <th>name</th>\n      <th>city</th>\n      <th>age</th>\n      <th>profession</th>\n    </tr>\n  </thead>\n  <tbody>\n    <tr>\n      <th>0</th>\n      <td>Иванов</td>\n      <td>москва</td>\n      <td>26</td>\n      <td>2</td>\n    </tr>\n    <tr>\n      <th>1</th>\n      <td>NaN</td>\n      <td>волгоград</td>\n      <td>32</td>\n      <td>1</td>\n    </tr>\n    <tr>\n      <th>2</th>\n      <td>Иванов</td>\n      <td>москва</td>\n      <td>26</td>\n      <td>2</td>\n    </tr>\n    <tr>\n      <th>3</th>\n      <td>sidorov</td>\n      <td>владивосток</td>\n      <td>44</td>\n      <td>1</td>\n    </tr>\n    <tr>\n      <th>4</th>\n      <td>_______</td>\n      <td>курск</td>\n      <td>51</td>\n      <td>2</td>\n    </tr>\n    <tr>\n      <th>5</th>\n      <td>Кузнецов</td>\n      <td>сочи</td>\n      <td>20</td>\n      <td>0</td>\n    </tr>\n    <tr>\n      <th>6</th>\n      <td>Сажин</td>\n      <td>сургут</td>\n      <td>30</td>\n      <td>0</td>\n    </tr>\n    <tr>\n      <th>7</th>\n      <td>Котлеревский</td>\n      <td>йошкар-ола</td>\n      <td>33</td>\n      <td>0</td>\n    </tr>\n    <tr>\n      <th>8</th>\n      <td>Завалишина</td>\n      <td>чебоксары</td>\n      <td>37</td>\n      <td>1</td>\n    </tr>\n    <tr>\n      <th>9</th>\n      <td>Левина</td>\n      <td>nan</td>\n      <td>56</td>\n      <td>0</td>\n    </tr>\n    <tr>\n      <th>10</th>\n      <td>Фикс</td>\n      <td>рига</td>\n      <td>43</td>\n      <td>0</td>\n    </tr>\n  </tbody>\n</table>\n</div>"
     },
     "metadata": {}
    }
   ],
   "source": [
    "sample2.profession = sample2.profession.apply(lambda x:profession_code(x))\n",
    "display(sample2)"
   ]
  },
  {
   "cell_type": "markdown",
   "metadata": {},
   "source": [
    "Напишите функцию age_category, которая на вход получает число, а на выход отдаёт:\n",
    "\n",
    "* \"молодой\" — если возраст меньше 23\n",
    "* \"средний\" — если возраст от 23 до 35\n",
    "* \"зрелый\" — если возраст больше 35"
   ]
  },
  {
   "cell_type": "code",
   "execution_count": 56,
   "metadata": {},
   "outputs": [],
   "source": [
    "def age_category(age):\n",
    "    if age < 23:\n",
    "        return 'молодой'\n",
    "    elif age > 35:\n",
    "        return 'зрелый'\n",
    "    else:\n",
    "        return 'средний'"
   ]
  },
  {
   "cell_type": "markdown",
   "metadata": {},
   "source": [
    "Примените функцию age_category и apply, чтобы создать новую колонку в sample под названием 'Age_category'. Не забудьте загрузить датафрейм.\n",
    "\n",
    "Вспомним, как создать новую колонку: `df['new_column'] = df.old_column.apply(func)`"
   ]
  },
  {
   "cell_type": "code",
   "execution_count": 58,
   "metadata": {},
   "outputs": [
    {
     "output_type": "display_data",
     "data": {
      "text/plain": "            name         city  age  profession age_category\n0         Иванов       москва   26           2      средний\n1            NaN    волгоград   32           1      средний\n2         Иванов       москва   26           2      средний\n3        sidorov  владивосток   44           1       зрелый\n4        _______        курск   51           2       зрелый\n5       Кузнецов         сочи   20           0      молодой\n6          Сажин       сургут   30           0      средний\n7   Котлеревский   йошкар-ола   33           0      средний\n8     Завалишина    чебоксары   37           1       зрелый\n9         Левина          nan   56           0       зрелый\n10          Фикс         рига   43           0       зрелый",
      "text/html": "<div>\n<style scoped>\n    .dataframe tbody tr th:only-of-type {\n        vertical-align: middle;\n    }\n\n    .dataframe tbody tr th {\n        vertical-align: top;\n    }\n\n    .dataframe thead th {\n        text-align: right;\n    }\n</style>\n<table border=\"1\" class=\"dataframe\">\n  <thead>\n    <tr style=\"text-align: right;\">\n      <th></th>\n      <th>name</th>\n      <th>city</th>\n      <th>age</th>\n      <th>profession</th>\n      <th>age_category</th>\n    </tr>\n  </thead>\n  <tbody>\n    <tr>\n      <th>0</th>\n      <td>Иванов</td>\n      <td>москва</td>\n      <td>26</td>\n      <td>2</td>\n      <td>средний</td>\n    </tr>\n    <tr>\n      <th>1</th>\n      <td>NaN</td>\n      <td>волгоград</td>\n      <td>32</td>\n      <td>1</td>\n      <td>средний</td>\n    </tr>\n    <tr>\n      <th>2</th>\n      <td>Иванов</td>\n      <td>москва</td>\n      <td>26</td>\n      <td>2</td>\n      <td>средний</td>\n    </tr>\n    <tr>\n      <th>3</th>\n      <td>sidorov</td>\n      <td>владивосток</td>\n      <td>44</td>\n      <td>1</td>\n      <td>зрелый</td>\n    </tr>\n    <tr>\n      <th>4</th>\n      <td>_______</td>\n      <td>курск</td>\n      <td>51</td>\n      <td>2</td>\n      <td>зрелый</td>\n    </tr>\n    <tr>\n      <th>5</th>\n      <td>Кузнецов</td>\n      <td>сочи</td>\n      <td>20</td>\n      <td>0</td>\n      <td>молодой</td>\n    </tr>\n    <tr>\n      <th>6</th>\n      <td>Сажин</td>\n      <td>сургут</td>\n      <td>30</td>\n      <td>0</td>\n      <td>средний</td>\n    </tr>\n    <tr>\n      <th>7</th>\n      <td>Котлеревский</td>\n      <td>йошкар-ола</td>\n      <td>33</td>\n      <td>0</td>\n      <td>средний</td>\n    </tr>\n    <tr>\n      <th>8</th>\n      <td>Завалишина</td>\n      <td>чебоксары</td>\n      <td>37</td>\n      <td>1</td>\n      <td>зрелый</td>\n    </tr>\n    <tr>\n      <th>9</th>\n      <td>Левина</td>\n      <td>nan</td>\n      <td>56</td>\n      <td>0</td>\n      <td>зрелый</td>\n    </tr>\n    <tr>\n      <th>10</th>\n      <td>Фикс</td>\n      <td>рига</td>\n      <td>43</td>\n      <td>0</td>\n      <td>зрелый</td>\n    </tr>\n  </tbody>\n</table>\n</div>"
     },
     "metadata": {}
    }
   ],
   "source": [
    "sample['age_category'] = sample.age.apply(lambda x:age_category(x))\n",
    "display(sample)"
   ]
  },
  {
   "cell_type": "markdown",
   "metadata": {},
   "source": [
    "Преобразуем поле user_id в датафрейме log, оставив только идентификатор пользователя. Например, вместо \"Запись пользователя № — user_974\" должно остаться только \"user_974\".\n",
    "\n",
    "На месте записей с ошибками в user_id должна быть пустая строка \"\". Сделайте это через apply и новую функцию, которую вы создадите. Результат сохраните в log:"
   ]
  },
  {
   "cell_type": "code",
   "execution_count": 59,
   "metadata": {},
   "outputs": [
    {
     "output_type": "display_data",
     "data": {
      "text/plain": "      user_id                  time      bet      win\n0    user_919  [2019-01-01 14:06:51      NaN      NaN\n1    user_973  [2019-01-01 14:51:16      NaN      NaN\n2    user_903  [2019-01-01 16:31:16      NaN      NaN\n3    user_954  [2019-01-01 17:17:51      NaN      NaN\n4    user_954  [2019-01-01 21:31:18      NaN      NaN\n..        ...                   ...      ...      ...\n995  user_984   [2019-04-20 9:59:58   9754.0      NaN\n996                             NaN  10054.0  29265.0\n997                             NaN  10454.0      NaN\n998                             NaN   1000.0      NaN\n999                             NaN  10754.0      NaN\n\n[1000 rows x 4 columns]",
      "text/html": "<div>\n<style scoped>\n    .dataframe tbody tr th:only-of-type {\n        vertical-align: middle;\n    }\n\n    .dataframe tbody tr th {\n        vertical-align: top;\n    }\n\n    .dataframe thead th {\n        text-align: right;\n    }\n</style>\n<table border=\"1\" class=\"dataframe\">\n  <thead>\n    <tr style=\"text-align: right;\">\n      <th></th>\n      <th>user_id</th>\n      <th>time</th>\n      <th>bet</th>\n      <th>win</th>\n    </tr>\n  </thead>\n  <tbody>\n    <tr>\n      <th>0</th>\n      <td>user_919</td>\n      <td>[2019-01-01 14:06:51</td>\n      <td>NaN</td>\n      <td>NaN</td>\n    </tr>\n    <tr>\n      <th>1</th>\n      <td>user_973</td>\n      <td>[2019-01-01 14:51:16</td>\n      <td>NaN</td>\n      <td>NaN</td>\n    </tr>\n    <tr>\n      <th>2</th>\n      <td>user_903</td>\n      <td>[2019-01-01 16:31:16</td>\n      <td>NaN</td>\n      <td>NaN</td>\n    </tr>\n    <tr>\n      <th>3</th>\n      <td>user_954</td>\n      <td>[2019-01-01 17:17:51</td>\n      <td>NaN</td>\n      <td>NaN</td>\n    </tr>\n    <tr>\n      <th>4</th>\n      <td>user_954</td>\n      <td>[2019-01-01 21:31:18</td>\n      <td>NaN</td>\n      <td>NaN</td>\n    </tr>\n    <tr>\n      <th>...</th>\n      <td>...</td>\n      <td>...</td>\n      <td>...</td>\n      <td>...</td>\n    </tr>\n    <tr>\n      <th>995</th>\n      <td>user_984</td>\n      <td>[2019-04-20 9:59:58</td>\n      <td>9754.0</td>\n      <td>NaN</td>\n    </tr>\n    <tr>\n      <th>996</th>\n      <td></td>\n      <td>NaN</td>\n      <td>10054.0</td>\n      <td>29265.0</td>\n    </tr>\n    <tr>\n      <th>997</th>\n      <td></td>\n      <td>NaN</td>\n      <td>10454.0</td>\n      <td>NaN</td>\n    </tr>\n    <tr>\n      <th>998</th>\n      <td></td>\n      <td>NaN</td>\n      <td>1000.0</td>\n      <td>NaN</td>\n    </tr>\n    <tr>\n      <th>999</th>\n      <td></td>\n      <td>NaN</td>\n      <td>10754.0</td>\n      <td>NaN</td>\n    </tr>\n  </tbody>\n</table>\n<p>1000 rows × 4 columns</p>\n</div>"
     },
     "metadata": {}
    }
   ],
   "source": [
    "def get_user_id(s):\n",
    "    if s == '#error':\n",
    "        return ''\n",
    "    else:\n",
    "        return s.split('- ')[1]\n",
    "        \n",
    "log.user_id = log.user_id.apply(lambda s:get_user_id(s))\n",
    "display(log)"
   ]
  },
  {
   "cell_type": "markdown",
   "metadata": {},
   "source": [
    "Загрузите log.csv в log. Удалите квадратную скобку из первой строки в столбце time, чтобы привести его к более привычному формату: t равен log.time[0]. Сохраните результат в t:"
   ]
  },
  {
   "cell_type": "code",
   "execution_count": 60,
   "metadata": {},
   "outputs": [
    {
     "output_type": "display_data",
     "data": {
      "text/plain": "'2019-01-01 14:06:51'"
     },
     "metadata": {}
    }
   ],
   "source": [
    "t = log.time[0]\n",
    "# Удалите квадратную скобку из t, чтобы привести его к более привычному формату\n",
    "t = t[1:]\n",
    "display(t)"
   ]
  },
  {
   "cell_type": "markdown",
   "metadata": {},
   "source": [
    "Уберите ненужную скобку \"[\" из поля в time. Результат сохраните в log:"
   ]
  },
  {
   "cell_type": "code",
   "execution_count": 61,
   "metadata": {},
   "outputs": [
    {
     "output_type": "display_data",
     "data": {
      "text/plain": "      user_id                 time      bet      win\n0    user_919  2019-01-01 14:06:51      NaN      NaN\n1    user_973  2019-01-01 14:51:16      NaN      NaN\n2    user_903  2019-01-01 16:31:16      NaN      NaN\n3    user_954  2019-01-01 17:17:51      NaN      NaN\n4    user_954  2019-01-01 21:31:18      NaN      NaN\n..        ...                  ...      ...      ...\n995  user_984   2019-04-20 9:59:58   9754.0      NaN\n996                            NaN  10054.0  29265.0\n997                            NaN  10454.0      NaN\n998                            NaN   1000.0      NaN\n999                            NaN  10754.0      NaN\n\n[1000 rows x 4 columns]",
      "text/html": "<div>\n<style scoped>\n    .dataframe tbody tr th:only-of-type {\n        vertical-align: middle;\n    }\n\n    .dataframe tbody tr th {\n        vertical-align: top;\n    }\n\n    .dataframe thead th {\n        text-align: right;\n    }\n</style>\n<table border=\"1\" class=\"dataframe\">\n  <thead>\n    <tr style=\"text-align: right;\">\n      <th></th>\n      <th>user_id</th>\n      <th>time</th>\n      <th>bet</th>\n      <th>win</th>\n    </tr>\n  </thead>\n  <tbody>\n    <tr>\n      <th>0</th>\n      <td>user_919</td>\n      <td>2019-01-01 14:06:51</td>\n      <td>NaN</td>\n      <td>NaN</td>\n    </tr>\n    <tr>\n      <th>1</th>\n      <td>user_973</td>\n      <td>2019-01-01 14:51:16</td>\n      <td>NaN</td>\n      <td>NaN</td>\n    </tr>\n    <tr>\n      <th>2</th>\n      <td>user_903</td>\n      <td>2019-01-01 16:31:16</td>\n      <td>NaN</td>\n      <td>NaN</td>\n    </tr>\n    <tr>\n      <th>3</th>\n      <td>user_954</td>\n      <td>2019-01-01 17:17:51</td>\n      <td>NaN</td>\n      <td>NaN</td>\n    </tr>\n    <tr>\n      <th>4</th>\n      <td>user_954</td>\n      <td>2019-01-01 21:31:18</td>\n      <td>NaN</td>\n      <td>NaN</td>\n    </tr>\n    <tr>\n      <th>...</th>\n      <td>...</td>\n      <td>...</td>\n      <td>...</td>\n      <td>...</td>\n    </tr>\n    <tr>\n      <th>995</th>\n      <td>user_984</td>\n      <td>2019-04-20 9:59:58</td>\n      <td>9754.0</td>\n      <td>NaN</td>\n    </tr>\n    <tr>\n      <th>996</th>\n      <td></td>\n      <td>NaN</td>\n      <td>10054.0</td>\n      <td>29265.0</td>\n    </tr>\n    <tr>\n      <th>997</th>\n      <td></td>\n      <td>NaN</td>\n      <td>10454.0</td>\n      <td>NaN</td>\n    </tr>\n    <tr>\n      <th>998</th>\n      <td></td>\n      <td>NaN</td>\n      <td>1000.0</td>\n      <td>NaN</td>\n    </tr>\n    <tr>\n      <th>999</th>\n      <td></td>\n      <td>NaN</td>\n      <td>10754.0</td>\n      <td>NaN</td>\n    </tr>\n  </tbody>\n</table>\n<p>1000 rows × 4 columns</p>\n</div>"
     },
     "metadata": {}
    }
   ],
   "source": [
    "log.time = log.time.apply(lambda s: str(s)[1:] if str(s).startswith('[') else s)\n",
    "display(log)"
   ]
  },
  {
   "cell_type": "code",
   "execution_count": null,
   "metadata": {},
   "outputs": [],
   "source": [
    "Соединим всё, что мы делали, и очистим файл log.csv. А именно:\n",
    "\n",
    "* прочитаем файл в переменную log;\n",
    "* добавим названия колонок user_id, time, bet, win;\n",
    "* удалим строки, которые содержат значения user_id с ошибками;\n",
    "* оставим в user_id только значения идентификатора;\n",
    "* уберём начальную скобку из поля time."
   ]
  },
  {
   "cell_type": "code",
   "execution_count": 62,
   "metadata": {},
   "outputs": [
    {
     "output_type": "error",
     "ename": "FileNotFoundError",
     "evalue": "[Errno 2] File log.csv does not exist: 'log.csv'",
     "traceback": [
      "\u001b[0;31m---------------------------------------------------------------------------\u001b[0m",
      "\u001b[0;31mFileNotFoundError\u001b[0m                         Traceback (most recent call last)",
      "\u001b[0;32m<ipython-input-62-0eaeaddc48f8>\u001b[0m in \u001b[0;36m<module>\u001b[0;34m\u001b[0m\n\u001b[1;32m      5\u001b[0m         \u001b[0;32mreturn\u001b[0m \u001b[0ms\u001b[0m\u001b[0;34m.\u001b[0m\u001b[0msplit\u001b[0m\u001b[0;34m(\u001b[0m\u001b[0;34m'- '\u001b[0m\u001b[0;34m)\u001b[0m\u001b[0;34m[\u001b[0m\u001b[0;36m1\u001b[0m\u001b[0;34m]\u001b[0m\u001b[0;34m\u001b[0m\u001b[0;34m\u001b[0m\u001b[0m\n\u001b[1;32m      6\u001b[0m \u001b[0;34m\u001b[0m\u001b[0m\n\u001b[0;32m----> 7\u001b[0;31m \u001b[0mfinal_log\u001b[0m \u001b[0;34m=\u001b[0m \u001b[0mpd\u001b[0m\u001b[0;34m.\u001b[0m\u001b[0mread_csv\u001b[0m\u001b[0;34m(\u001b[0m\u001b[0;34m\"log.csv\"\u001b[0m\u001b[0;34m,\u001b[0m\u001b[0mheader\u001b[0m\u001b[0;34m=\u001b[0m\u001b[0;32mNone\u001b[0m\u001b[0;34m)\u001b[0m\u001b[0;34m\u001b[0m\u001b[0;34m\u001b[0m\u001b[0m\n\u001b[0m\u001b[1;32m      8\u001b[0m \u001b[0mfinal_log\u001b[0m\u001b[0;34m.\u001b[0m\u001b[0mcolumns\u001b[0m \u001b[0;34m=\u001b[0m \u001b[0;34m[\u001b[0m\u001b[0;34m'user_id'\u001b[0m\u001b[0;34m,\u001b[0m\u001b[0;34m'time'\u001b[0m\u001b[0;34m,\u001b[0m \u001b[0;34m'bet'\u001b[0m\u001b[0;34m,\u001b[0m\u001b[0;34m'win'\u001b[0m\u001b[0;34m]\u001b[0m\u001b[0;34m\u001b[0m\u001b[0;34m\u001b[0m\u001b[0m\n\u001b[1;32m      9\u001b[0m \u001b[0mfinal_log\u001b[0m \u001b[0;34m=\u001b[0m \u001b[0mfinal_log\u001b[0m\u001b[0;34m[\u001b[0m\u001b[0;34m~\u001b[0m\u001b[0mfinal_log\u001b[0m\u001b[0;34m.\u001b[0m\u001b[0muser_id\u001b[0m\u001b[0;34m.\u001b[0m\u001b[0mstr\u001b[0m\u001b[0;34m.\u001b[0m\u001b[0mcontains\u001b[0m\u001b[0;34m(\u001b[0m\u001b[0;34m'#error'\u001b[0m\u001b[0;34m)\u001b[0m\u001b[0;34m]\u001b[0m\u001b[0;34m\u001b[0m\u001b[0;34m\u001b[0m\u001b[0m\n",
      "\u001b[0;32m~/opt/anaconda3/lib/python3.7/site-packages/pandas/io/parsers.py\u001b[0m in \u001b[0;36mparser_f\u001b[0;34m(filepath_or_buffer, sep, delimiter, header, names, index_col, usecols, squeeze, prefix, mangle_dupe_cols, dtype, engine, converters, true_values, false_values, skipinitialspace, skiprows, skipfooter, nrows, na_values, keep_default_na, na_filter, verbose, skip_blank_lines, parse_dates, infer_datetime_format, keep_date_col, date_parser, dayfirst, cache_dates, iterator, chunksize, compression, thousands, decimal, lineterminator, quotechar, quoting, doublequote, escapechar, comment, encoding, dialect, error_bad_lines, warn_bad_lines, delim_whitespace, low_memory, memory_map, float_precision)\u001b[0m\n\u001b[1;32m    674\u001b[0m         )\n\u001b[1;32m    675\u001b[0m \u001b[0;34m\u001b[0m\u001b[0m\n\u001b[0;32m--> 676\u001b[0;31m         \u001b[0;32mreturn\u001b[0m \u001b[0m_read\u001b[0m\u001b[0;34m(\u001b[0m\u001b[0mfilepath_or_buffer\u001b[0m\u001b[0;34m,\u001b[0m \u001b[0mkwds\u001b[0m\u001b[0;34m)\u001b[0m\u001b[0;34m\u001b[0m\u001b[0;34m\u001b[0m\u001b[0m\n\u001b[0m\u001b[1;32m    677\u001b[0m \u001b[0;34m\u001b[0m\u001b[0m\n\u001b[1;32m    678\u001b[0m     \u001b[0mparser_f\u001b[0m\u001b[0;34m.\u001b[0m\u001b[0m__name__\u001b[0m \u001b[0;34m=\u001b[0m \u001b[0mname\u001b[0m\u001b[0;34m\u001b[0m\u001b[0;34m\u001b[0m\u001b[0m\n",
      "\u001b[0;32m~/opt/anaconda3/lib/python3.7/site-packages/pandas/io/parsers.py\u001b[0m in \u001b[0;36m_read\u001b[0;34m(filepath_or_buffer, kwds)\u001b[0m\n\u001b[1;32m    446\u001b[0m \u001b[0;34m\u001b[0m\u001b[0m\n\u001b[1;32m    447\u001b[0m     \u001b[0;31m# Create the parser.\u001b[0m\u001b[0;34m\u001b[0m\u001b[0;34m\u001b[0m\u001b[0;34m\u001b[0m\u001b[0m\n\u001b[0;32m--> 448\u001b[0;31m     \u001b[0mparser\u001b[0m \u001b[0;34m=\u001b[0m \u001b[0mTextFileReader\u001b[0m\u001b[0;34m(\u001b[0m\u001b[0mfp_or_buf\u001b[0m\u001b[0;34m,\u001b[0m \u001b[0;34m**\u001b[0m\u001b[0mkwds\u001b[0m\u001b[0;34m)\u001b[0m\u001b[0;34m\u001b[0m\u001b[0;34m\u001b[0m\u001b[0m\n\u001b[0m\u001b[1;32m    449\u001b[0m \u001b[0;34m\u001b[0m\u001b[0m\n\u001b[1;32m    450\u001b[0m     \u001b[0;32mif\u001b[0m \u001b[0mchunksize\u001b[0m \u001b[0;32mor\u001b[0m \u001b[0miterator\u001b[0m\u001b[0;34m:\u001b[0m\u001b[0;34m\u001b[0m\u001b[0;34m\u001b[0m\u001b[0m\n",
      "\u001b[0;32m~/opt/anaconda3/lib/python3.7/site-packages/pandas/io/parsers.py\u001b[0m in \u001b[0;36m__init__\u001b[0;34m(self, f, engine, **kwds)\u001b[0m\n\u001b[1;32m    878\u001b[0m             \u001b[0mself\u001b[0m\u001b[0;34m.\u001b[0m\u001b[0moptions\u001b[0m\u001b[0;34m[\u001b[0m\u001b[0;34m\"has_index_names\"\u001b[0m\u001b[0;34m]\u001b[0m \u001b[0;34m=\u001b[0m \u001b[0mkwds\u001b[0m\u001b[0;34m[\u001b[0m\u001b[0;34m\"has_index_names\"\u001b[0m\u001b[0;34m]\u001b[0m\u001b[0;34m\u001b[0m\u001b[0;34m\u001b[0m\u001b[0m\n\u001b[1;32m    879\u001b[0m \u001b[0;34m\u001b[0m\u001b[0m\n\u001b[0;32m--> 880\u001b[0;31m         \u001b[0mself\u001b[0m\u001b[0;34m.\u001b[0m\u001b[0m_make_engine\u001b[0m\u001b[0;34m(\u001b[0m\u001b[0mself\u001b[0m\u001b[0;34m.\u001b[0m\u001b[0mengine\u001b[0m\u001b[0;34m)\u001b[0m\u001b[0;34m\u001b[0m\u001b[0;34m\u001b[0m\u001b[0m\n\u001b[0m\u001b[1;32m    881\u001b[0m \u001b[0;34m\u001b[0m\u001b[0m\n\u001b[1;32m    882\u001b[0m     \u001b[0;32mdef\u001b[0m \u001b[0mclose\u001b[0m\u001b[0;34m(\u001b[0m\u001b[0mself\u001b[0m\u001b[0;34m)\u001b[0m\u001b[0;34m:\u001b[0m\u001b[0;34m\u001b[0m\u001b[0;34m\u001b[0m\u001b[0m\n",
      "\u001b[0;32m~/opt/anaconda3/lib/python3.7/site-packages/pandas/io/parsers.py\u001b[0m in \u001b[0;36m_make_engine\u001b[0;34m(self, engine)\u001b[0m\n\u001b[1;32m   1112\u001b[0m     \u001b[0;32mdef\u001b[0m \u001b[0m_make_engine\u001b[0m\u001b[0;34m(\u001b[0m\u001b[0mself\u001b[0m\u001b[0;34m,\u001b[0m \u001b[0mengine\u001b[0m\u001b[0;34m=\u001b[0m\u001b[0;34m\"c\"\u001b[0m\u001b[0;34m)\u001b[0m\u001b[0;34m:\u001b[0m\u001b[0;34m\u001b[0m\u001b[0;34m\u001b[0m\u001b[0m\n\u001b[1;32m   1113\u001b[0m         \u001b[0;32mif\u001b[0m \u001b[0mengine\u001b[0m \u001b[0;34m==\u001b[0m \u001b[0;34m\"c\"\u001b[0m\u001b[0;34m:\u001b[0m\u001b[0;34m\u001b[0m\u001b[0;34m\u001b[0m\u001b[0m\n\u001b[0;32m-> 1114\u001b[0;31m             \u001b[0mself\u001b[0m\u001b[0;34m.\u001b[0m\u001b[0m_engine\u001b[0m \u001b[0;34m=\u001b[0m \u001b[0mCParserWrapper\u001b[0m\u001b[0;34m(\u001b[0m\u001b[0mself\u001b[0m\u001b[0;34m.\u001b[0m\u001b[0mf\u001b[0m\u001b[0;34m,\u001b[0m \u001b[0;34m**\u001b[0m\u001b[0mself\u001b[0m\u001b[0;34m.\u001b[0m\u001b[0moptions\u001b[0m\u001b[0;34m)\u001b[0m\u001b[0;34m\u001b[0m\u001b[0;34m\u001b[0m\u001b[0m\n\u001b[0m\u001b[1;32m   1115\u001b[0m         \u001b[0;32melse\u001b[0m\u001b[0;34m:\u001b[0m\u001b[0;34m\u001b[0m\u001b[0;34m\u001b[0m\u001b[0m\n\u001b[1;32m   1116\u001b[0m             \u001b[0;32mif\u001b[0m \u001b[0mengine\u001b[0m \u001b[0;34m==\u001b[0m \u001b[0;34m\"python\"\u001b[0m\u001b[0;34m:\u001b[0m\u001b[0;34m\u001b[0m\u001b[0;34m\u001b[0m\u001b[0m\n",
      "\u001b[0;32m~/opt/anaconda3/lib/python3.7/site-packages/pandas/io/parsers.py\u001b[0m in \u001b[0;36m__init__\u001b[0;34m(self, src, **kwds)\u001b[0m\n\u001b[1;32m   1889\u001b[0m         \u001b[0mkwds\u001b[0m\u001b[0;34m[\u001b[0m\u001b[0;34m\"usecols\"\u001b[0m\u001b[0;34m]\u001b[0m \u001b[0;34m=\u001b[0m \u001b[0mself\u001b[0m\u001b[0;34m.\u001b[0m\u001b[0musecols\u001b[0m\u001b[0;34m\u001b[0m\u001b[0;34m\u001b[0m\u001b[0m\n\u001b[1;32m   1890\u001b[0m \u001b[0;34m\u001b[0m\u001b[0m\n\u001b[0;32m-> 1891\u001b[0;31m         \u001b[0mself\u001b[0m\u001b[0;34m.\u001b[0m\u001b[0m_reader\u001b[0m \u001b[0;34m=\u001b[0m \u001b[0mparsers\u001b[0m\u001b[0;34m.\u001b[0m\u001b[0mTextReader\u001b[0m\u001b[0;34m(\u001b[0m\u001b[0msrc\u001b[0m\u001b[0;34m,\u001b[0m \u001b[0;34m**\u001b[0m\u001b[0mkwds\u001b[0m\u001b[0;34m)\u001b[0m\u001b[0;34m\u001b[0m\u001b[0;34m\u001b[0m\u001b[0m\n\u001b[0m\u001b[1;32m   1892\u001b[0m         \u001b[0mself\u001b[0m\u001b[0;34m.\u001b[0m\u001b[0munnamed_cols\u001b[0m \u001b[0;34m=\u001b[0m \u001b[0mself\u001b[0m\u001b[0;34m.\u001b[0m\u001b[0m_reader\u001b[0m\u001b[0;34m.\u001b[0m\u001b[0munnamed_cols\u001b[0m\u001b[0;34m\u001b[0m\u001b[0;34m\u001b[0m\u001b[0m\n\u001b[1;32m   1893\u001b[0m \u001b[0;34m\u001b[0m\u001b[0m\n",
      "\u001b[0;32mpandas/_libs/parsers.pyx\u001b[0m in \u001b[0;36mpandas._libs.parsers.TextReader.__cinit__\u001b[0;34m()\u001b[0m\n",
      "\u001b[0;32mpandas/_libs/parsers.pyx\u001b[0m in \u001b[0;36mpandas._libs.parsers.TextReader._setup_parser_source\u001b[0;34m()\u001b[0m\n",
      "\u001b[0;31mFileNotFoundError\u001b[0m: [Errno 2] File log.csv does not exist: 'log.csv'"
     ]
    }
   ],
   "source": [
    "def get_user_id(s):\n",
    "    if s == '#error':\n",
    "        return ''\n",
    "    else:\n",
    "        return s.split('- ')[1]\n",
    "\n",
    "final_log = pd.read_csv(\"data/log.csv\",header=None)\n",
    "final_log.columns = ['user_id','time', 'bet','win']\n",
    "final_log = final_log[~final_log.user_id.str.contains('#error')]\n",
    "final_log.user_id = final_log.user_id.apply(lambda s:get_user_id(s))\n",
    "final_log.time = final_log.time.apply(lambda s: str(s)[1:] if str(s).startswith('[') else s)\n",
    "display(final_log)"
   ]
  },
  {
   "cell_type": "code",
   "execution_count": null,
   "metadata": {},
   "outputs": [],
   "source": []
  }
 ]
}