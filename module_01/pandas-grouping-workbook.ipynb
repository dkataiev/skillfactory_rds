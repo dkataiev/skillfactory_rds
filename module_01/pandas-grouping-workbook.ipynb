{
 "cells": [
  {
   "cell_type": "markdown",
   "metadata": {},
   "source": [
    "Данные можно представить себе как последовательность каких-то единичных наблюдений, например, в нашем [датасете](https://lms.skillfactory.ru/assets/courseware/v1/d05df2022e56c6de021ab6e54949fe6c/asset-v1:Skillfactory+DST-12+11MAR2020+type@asset+block/data_sf.csv) единичное наблюдение — это конкретный футболист."
   ]
  },
  {
   "cell_type": "code",
   "execution_count": 3,
   "metadata": {},
   "outputs": [
    {
     "output_type": "execute_result",
     "data": {
      "text/plain": "   Unnamed: 0               Name  Age  ... GKKicking GKPositioning  GKReflexes\n0           0           L. Messi   31  ...        15            14           8\n1           1  Cristiano Ronaldo   33  ...        15            14          11\n2           2          Neymar Jr   26  ...        15            15          11\n3           3             De Gea   27  ...        87            88          94\n4           4       K. De Bruyne   27  ...         5            10          13\n\n[5 rows x 42 columns]",
      "text/html": "<div>\n<style scoped>\n    .dataframe tbody tr th:only-of-type {\n        vertical-align: middle;\n    }\n\n    .dataframe tbody tr th {\n        vertical-align: top;\n    }\n\n    .dataframe thead th {\n        text-align: right;\n    }\n</style>\n<table border=\"1\" class=\"dataframe\">\n  <thead>\n    <tr style=\"text-align: right;\">\n      <th></th>\n      <th>Unnamed: 0</th>\n      <th>Name</th>\n      <th>Age</th>\n      <th>Nationality</th>\n      <th>Club</th>\n      <th>Value</th>\n      <th>Wage</th>\n      <th>Position</th>\n      <th>Crossing</th>\n      <th>Finishing</th>\n      <th>HeadingAccuracy</th>\n      <th>ShortPassing</th>\n      <th>Volleys</th>\n      <th>Dribbling</th>\n      <th>Curve</th>\n      <th>FKAccuracy</th>\n      <th>LongPassing</th>\n      <th>BallControl</th>\n      <th>Acceleration</th>\n      <th>SprintSpeed</th>\n      <th>Agility</th>\n      <th>Reactions</th>\n      <th>Balance</th>\n      <th>ShotPower</th>\n      <th>Jumping</th>\n      <th>Stamina</th>\n      <th>Strength</th>\n      <th>LongShots</th>\n      <th>Aggression</th>\n      <th>Interceptions</th>\n      <th>Positioning</th>\n      <th>Vision</th>\n      <th>Penalties</th>\n      <th>Composure</th>\n      <th>Marking</th>\n      <th>StandingTackle</th>\n      <th>SlidingTackle</th>\n      <th>GKDiving</th>\n      <th>GKHandling</th>\n      <th>GKKicking</th>\n      <th>GKPositioning</th>\n      <th>GKReflexes</th>\n    </tr>\n  </thead>\n  <tbody>\n    <tr>\n      <th>0</th>\n      <td>0</td>\n      <td>L. Messi</td>\n      <td>31</td>\n      <td>Argentina</td>\n      <td>FC Barcelona</td>\n      <td>110500000</td>\n      <td>565000</td>\n      <td>RF</td>\n      <td>84</td>\n      <td>95</td>\n      <td>70</td>\n      <td>90</td>\n      <td>86</td>\n      <td>97</td>\n      <td>93</td>\n      <td>94</td>\n      <td>87</td>\n      <td>96</td>\n      <td>91</td>\n      <td>86</td>\n      <td>91</td>\n      <td>95</td>\n      <td>95</td>\n      <td>85</td>\n      <td>68</td>\n      <td>72</td>\n      <td>59</td>\n      <td>94</td>\n      <td>48</td>\n      <td>22</td>\n      <td>94</td>\n      <td>94</td>\n      <td>75</td>\n      <td>96</td>\n      <td>33</td>\n      <td>28</td>\n      <td>26</td>\n      <td>6</td>\n      <td>11</td>\n      <td>15</td>\n      <td>14</td>\n      <td>8</td>\n    </tr>\n    <tr>\n      <th>1</th>\n      <td>1</td>\n      <td>Cristiano Ronaldo</td>\n      <td>33</td>\n      <td>Portugal</td>\n      <td>Juventus</td>\n      <td>77000000</td>\n      <td>405000</td>\n      <td>ST</td>\n      <td>84</td>\n      <td>94</td>\n      <td>89</td>\n      <td>81</td>\n      <td>87</td>\n      <td>88</td>\n      <td>81</td>\n      <td>76</td>\n      <td>77</td>\n      <td>94</td>\n      <td>89</td>\n      <td>91</td>\n      <td>87</td>\n      <td>96</td>\n      <td>70</td>\n      <td>95</td>\n      <td>95</td>\n      <td>88</td>\n      <td>79</td>\n      <td>93</td>\n      <td>63</td>\n      <td>29</td>\n      <td>95</td>\n      <td>82</td>\n      <td>85</td>\n      <td>95</td>\n      <td>28</td>\n      <td>31</td>\n      <td>23</td>\n      <td>7</td>\n      <td>11</td>\n      <td>15</td>\n      <td>14</td>\n      <td>11</td>\n    </tr>\n    <tr>\n      <th>2</th>\n      <td>2</td>\n      <td>Neymar Jr</td>\n      <td>26</td>\n      <td>Brazil</td>\n      <td>Paris Saint-Germain</td>\n      <td>118500000</td>\n      <td>290000</td>\n      <td>LW</td>\n      <td>79</td>\n      <td>87</td>\n      <td>62</td>\n      <td>84</td>\n      <td>84</td>\n      <td>96</td>\n      <td>88</td>\n      <td>87</td>\n      <td>78</td>\n      <td>95</td>\n      <td>94</td>\n      <td>90</td>\n      <td>96</td>\n      <td>94</td>\n      <td>84</td>\n      <td>80</td>\n      <td>61</td>\n      <td>81</td>\n      <td>49</td>\n      <td>82</td>\n      <td>56</td>\n      <td>36</td>\n      <td>89</td>\n      <td>87</td>\n      <td>81</td>\n      <td>94</td>\n      <td>27</td>\n      <td>24</td>\n      <td>33</td>\n      <td>9</td>\n      <td>9</td>\n      <td>15</td>\n      <td>15</td>\n      <td>11</td>\n    </tr>\n    <tr>\n      <th>3</th>\n      <td>3</td>\n      <td>De Gea</td>\n      <td>27</td>\n      <td>Spain</td>\n      <td>Manchester United</td>\n      <td>72000000</td>\n      <td>260000</td>\n      <td>GK</td>\n      <td>17</td>\n      <td>13</td>\n      <td>21</td>\n      <td>50</td>\n      <td>13</td>\n      <td>18</td>\n      <td>21</td>\n      <td>19</td>\n      <td>51</td>\n      <td>42</td>\n      <td>57</td>\n      <td>58</td>\n      <td>60</td>\n      <td>90</td>\n      <td>43</td>\n      <td>31</td>\n      <td>67</td>\n      <td>43</td>\n      <td>64</td>\n      <td>12</td>\n      <td>38</td>\n      <td>30</td>\n      <td>12</td>\n      <td>68</td>\n      <td>40</td>\n      <td>68</td>\n      <td>15</td>\n      <td>21</td>\n      <td>13</td>\n      <td>90</td>\n      <td>85</td>\n      <td>87</td>\n      <td>88</td>\n      <td>94</td>\n    </tr>\n    <tr>\n      <th>4</th>\n      <td>4</td>\n      <td>K. De Bruyne</td>\n      <td>27</td>\n      <td>Belgium</td>\n      <td>Manchester City</td>\n      <td>102000000</td>\n      <td>355000</td>\n      <td>RCM</td>\n      <td>93</td>\n      <td>82</td>\n      <td>55</td>\n      <td>92</td>\n      <td>82</td>\n      <td>86</td>\n      <td>85</td>\n      <td>83</td>\n      <td>91</td>\n      <td>91</td>\n      <td>78</td>\n      <td>76</td>\n      <td>79</td>\n      <td>91</td>\n      <td>77</td>\n      <td>91</td>\n      <td>63</td>\n      <td>90</td>\n      <td>75</td>\n      <td>91</td>\n      <td>76</td>\n      <td>61</td>\n      <td>87</td>\n      <td>94</td>\n      <td>79</td>\n      <td>88</td>\n      <td>68</td>\n      <td>58</td>\n      <td>51</td>\n      <td>15</td>\n      <td>13</td>\n      <td>5</td>\n      <td>10</td>\n      <td>13</td>\n    </tr>\n  </tbody>\n</table>\n</div>"
     },
     "metadata": {},
     "execution_count": 3
    }
   ],
   "source": [
    "import pandas as pd\n",
    "data = pd.read_csv('./data/data_sf.csv')\n",
    "data.head()"
   ]
  },
  {
   "cell_type": "markdown",
   "metadata": {},
   "source": [
    "Возьмем небольшой фрагмент из исходного датафрейма:"
   ]
  },
  {
   "cell_type": "code",
   "execution_count": 12,
   "metadata": {},
   "outputs": [
    {
     "output_type": "display_data",
     "data": {
      "text/plain": "                 Name  Age Nationality  ...      Value    Wage  Position\n0            L. Messi   31   Argentina  ...  110500000  565000        RF\n1   Cristiano Ronaldo   33    Portugal  ...   77000000  405000        ST\n2           Neymar Jr   26      Brazil  ...  118500000  290000        LW\n3              De Gea   27       Spain  ...   72000000  260000        GK\n4        K. De Bruyne   27     Belgium  ...  102000000  355000       RCM\n5           E. Hazard   27     Belgium  ...   93000000  340000        LF\n6           L. Modrić   32     Croatia  ...   67000000  420000       RCM\n7           L. Suárez   31     Uruguay  ...   80000000  455000        RS\n8        Sergio Ramos   32       Spain  ...   51000000  380000       RCB\n9            J. Oblak   25    Slovenia  ...   68000000   94000        GK\n10     R. Lewandowski   29      Poland  ...   77000000  205000        ST\n11           T. Kroos   28     Germany  ...   76500000  355000       LCM\n12           D. Godín   32     Uruguay  ...   44000000  125000        CB\n13        David Silva   32       Spain  ...   60000000  285000       LCM\n14           N. Kanté   27      France  ...   63000000  225000       LDM\n15          P. Dybala   24   Argentina  ...   89000000  205000        LF\n16            H. Kane   24     England  ...   83500000  205000        ST\n17       A. Griezmann   27      France  ...   78000000  145000       CAM\n18      M. ter Stegen   26     Germany  ...   58000000  240000        GK\n19        T. Courtois   26     Belgium  ...   53500000  240000        GK\n20    Sergio Busquets   29       Spain  ...   51500000  315000       CDM\n21          E. Cavani   31     Uruguay  ...   60000000  200000        LS\n22           M. Neuer   32     Germany  ...   38000000  130000        GK\n23          S. Agüero   30   Argentina  ...   64500000  300000        ST\n24       G. Chiellini   33       Italy  ...   27000000  215000       LCB\n\n[25 rows x 7 columns]",
      "text/html": "<div>\n<style scoped>\n    .dataframe tbody tr th:only-of-type {\n        vertical-align: middle;\n    }\n\n    .dataframe tbody tr th {\n        vertical-align: top;\n    }\n\n    .dataframe thead th {\n        text-align: right;\n    }\n</style>\n<table border=\"1\" class=\"dataframe\">\n  <thead>\n    <tr style=\"text-align: right;\">\n      <th></th>\n      <th>Name</th>\n      <th>Age</th>\n      <th>Nationality</th>\n      <th>Club</th>\n      <th>Value</th>\n      <th>Wage</th>\n      <th>Position</th>\n    </tr>\n  </thead>\n  <tbody>\n    <tr>\n      <th>0</th>\n      <td>L. Messi</td>\n      <td>31</td>\n      <td>Argentina</td>\n      <td>FC Barcelona</td>\n      <td>110500000</td>\n      <td>565000</td>\n      <td>RF</td>\n    </tr>\n    <tr>\n      <th>1</th>\n      <td>Cristiano Ronaldo</td>\n      <td>33</td>\n      <td>Portugal</td>\n      <td>Juventus</td>\n      <td>77000000</td>\n      <td>405000</td>\n      <td>ST</td>\n    </tr>\n    <tr>\n      <th>2</th>\n      <td>Neymar Jr</td>\n      <td>26</td>\n      <td>Brazil</td>\n      <td>Paris Saint-Germain</td>\n      <td>118500000</td>\n      <td>290000</td>\n      <td>LW</td>\n    </tr>\n    <tr>\n      <th>3</th>\n      <td>De Gea</td>\n      <td>27</td>\n      <td>Spain</td>\n      <td>Manchester United</td>\n      <td>72000000</td>\n      <td>260000</td>\n      <td>GK</td>\n    </tr>\n    <tr>\n      <th>4</th>\n      <td>K. De Bruyne</td>\n      <td>27</td>\n      <td>Belgium</td>\n      <td>Manchester City</td>\n      <td>102000000</td>\n      <td>355000</td>\n      <td>RCM</td>\n    </tr>\n    <tr>\n      <th>5</th>\n      <td>E. Hazard</td>\n      <td>27</td>\n      <td>Belgium</td>\n      <td>Chelsea</td>\n      <td>93000000</td>\n      <td>340000</td>\n      <td>LF</td>\n    </tr>\n    <tr>\n      <th>6</th>\n      <td>L. Modrić</td>\n      <td>32</td>\n      <td>Croatia</td>\n      <td>Real Madrid</td>\n      <td>67000000</td>\n      <td>420000</td>\n      <td>RCM</td>\n    </tr>\n    <tr>\n      <th>7</th>\n      <td>L. Suárez</td>\n      <td>31</td>\n      <td>Uruguay</td>\n      <td>FC Barcelona</td>\n      <td>80000000</td>\n      <td>455000</td>\n      <td>RS</td>\n    </tr>\n    <tr>\n      <th>8</th>\n      <td>Sergio Ramos</td>\n      <td>32</td>\n      <td>Spain</td>\n      <td>Real Madrid</td>\n      <td>51000000</td>\n      <td>380000</td>\n      <td>RCB</td>\n    </tr>\n    <tr>\n      <th>9</th>\n      <td>J. Oblak</td>\n      <td>25</td>\n      <td>Slovenia</td>\n      <td>Atlético Madrid</td>\n      <td>68000000</td>\n      <td>94000</td>\n      <td>GK</td>\n    </tr>\n    <tr>\n      <th>10</th>\n      <td>R. Lewandowski</td>\n      <td>29</td>\n      <td>Poland</td>\n      <td>FC Bayern München</td>\n      <td>77000000</td>\n      <td>205000</td>\n      <td>ST</td>\n    </tr>\n    <tr>\n      <th>11</th>\n      <td>T. Kroos</td>\n      <td>28</td>\n      <td>Germany</td>\n      <td>Real Madrid</td>\n      <td>76500000</td>\n      <td>355000</td>\n      <td>LCM</td>\n    </tr>\n    <tr>\n      <th>12</th>\n      <td>D. Godín</td>\n      <td>32</td>\n      <td>Uruguay</td>\n      <td>Atlético Madrid</td>\n      <td>44000000</td>\n      <td>125000</td>\n      <td>CB</td>\n    </tr>\n    <tr>\n      <th>13</th>\n      <td>David Silva</td>\n      <td>32</td>\n      <td>Spain</td>\n      <td>Manchester City</td>\n      <td>60000000</td>\n      <td>285000</td>\n      <td>LCM</td>\n    </tr>\n    <tr>\n      <th>14</th>\n      <td>N. Kanté</td>\n      <td>27</td>\n      <td>France</td>\n      <td>Chelsea</td>\n      <td>63000000</td>\n      <td>225000</td>\n      <td>LDM</td>\n    </tr>\n    <tr>\n      <th>15</th>\n      <td>P. Dybala</td>\n      <td>24</td>\n      <td>Argentina</td>\n      <td>Juventus</td>\n      <td>89000000</td>\n      <td>205000</td>\n      <td>LF</td>\n    </tr>\n    <tr>\n      <th>16</th>\n      <td>H. Kane</td>\n      <td>24</td>\n      <td>England</td>\n      <td>Tottenham Hotspur</td>\n      <td>83500000</td>\n      <td>205000</td>\n      <td>ST</td>\n    </tr>\n    <tr>\n      <th>17</th>\n      <td>A. Griezmann</td>\n      <td>27</td>\n      <td>France</td>\n      <td>Atlético Madrid</td>\n      <td>78000000</td>\n      <td>145000</td>\n      <td>CAM</td>\n    </tr>\n    <tr>\n      <th>18</th>\n      <td>M. ter Stegen</td>\n      <td>26</td>\n      <td>Germany</td>\n      <td>FC Barcelona</td>\n      <td>58000000</td>\n      <td>240000</td>\n      <td>GK</td>\n    </tr>\n    <tr>\n      <th>19</th>\n      <td>T. Courtois</td>\n      <td>26</td>\n      <td>Belgium</td>\n      <td>Real Madrid</td>\n      <td>53500000</td>\n      <td>240000</td>\n      <td>GK</td>\n    </tr>\n    <tr>\n      <th>20</th>\n      <td>Sergio Busquets</td>\n      <td>29</td>\n      <td>Spain</td>\n      <td>FC Barcelona</td>\n      <td>51500000</td>\n      <td>315000</td>\n      <td>CDM</td>\n    </tr>\n    <tr>\n      <th>21</th>\n      <td>E. Cavani</td>\n      <td>31</td>\n      <td>Uruguay</td>\n      <td>Paris Saint-Germain</td>\n      <td>60000000</td>\n      <td>200000</td>\n      <td>LS</td>\n    </tr>\n    <tr>\n      <th>22</th>\n      <td>M. Neuer</td>\n      <td>32</td>\n      <td>Germany</td>\n      <td>FC Bayern München</td>\n      <td>38000000</td>\n      <td>130000</td>\n      <td>GK</td>\n    </tr>\n    <tr>\n      <th>23</th>\n      <td>S. Agüero</td>\n      <td>30</td>\n      <td>Argentina</td>\n      <td>Manchester City</td>\n      <td>64500000</td>\n      <td>300000</td>\n      <td>ST</td>\n    </tr>\n    <tr>\n      <th>24</th>\n      <td>G. Chiellini</td>\n      <td>33</td>\n      <td>Italy</td>\n      <td>Juventus</td>\n      <td>27000000</td>\n      <td>215000</td>\n      <td>LCB</td>\n    </tr>\n  </tbody>\n</table>\n</div>"
     },
     "metadata": {}
    }
   ],
   "source": [
    "small_df = data[data.columns[1:8]].head(25)\n",
    "display(small_df)\n"
   ]
  },
  {
   "cell_type": "code",
   "execution_count": 11,
   "metadata": {},
   "outputs": [
    {
     "output_type": "display_data",
     "data": {
      "text/plain": "Spain        0.200000\nBelgium      0.133333\nUruguay      0.133333\nBrazil       0.066667\nCroatia      0.066667\nPortugal     0.066667\nPoland       0.066667\nSlovenia     0.066667\nGermany      0.066667\nArgentina    0.066667\nFrance       0.066667\nName: Nationality, dtype: float64"
     },
     "metadata": {}
    },
    {
     "output_type": "display_data",
     "data": {
      "text/plain": "Index(['Spain', 'Belgium', 'Uruguay', 'Brazil', 'Croatia', 'Portugal',\n       'Poland', 'Slovenia', 'Germany', 'Argentina', 'France'],\n      dtype='object')"
     },
     "metadata": {}
    }
   ],
   "source": [
    "s = small_df['Nationality'].value_counts()\n",
    "display(s)\n",
    "display(s.index)"
   ]
  },
  {
   "cell_type": "markdown",
   "metadata": {},
   "source": [
    "### Подсчет количества значений в процентах\n",
    "Можно посчитать количество футболистов не в абсолютных числах, а в процентах от общего числа в датасете. Для этого надо вызвать функцию value_counts() с параметром normalize=True:"
   ]
  },
  {
   "cell_type": "code",
   "execution_count": 10,
   "metadata": {},
   "outputs": [
    {
     "output_type": "display_data",
     "data": {
      "text/plain": "Spain        0.200000\nBelgium      0.133333\nUruguay      0.133333\nBrazil       0.066667\nCroatia      0.066667\nPortugal     0.066667\nPoland       0.066667\nSlovenia     0.066667\nGermany      0.066667\nArgentina    0.066667\nFrance       0.066667\nName: Nationality, dtype: float64"
     },
     "metadata": {}
    }
   ],
   "source": [
    "s = small_df['Nationality'].value_counts(normalize=True)\n",
    "display(s)"
   ]
  },
  {
   "cell_type": "markdown",
   "metadata": {},
   "source": [
    "### Подсчет количества значений по численным признакам\n",
    "Ещё один параметр, который можно передать в функцию value_counts, — это параметр bins. Этот параметр удобно передавать, когда мы хотим сгруппировать данные не по категориальному признаку (каким, например, является национальность), а по численному признаку (например, по возрасту).\n",
    "\n",
    "Сначала сгруппируем данные по численному признаку без параметра bins:"
   ]
  },
  {
   "cell_type": "code",
   "execution_count": 15,
   "metadata": {},
   "outputs": [
    {
     "output_type": "display_data",
     "data": {
      "text/plain": "27    5\n32    5\n31    3\n26    3\n29    2\n24    2\n33    2\n30    1\n28    1\n25    1\nName: Age, dtype: int64"
     },
     "metadata": {}
    }
   ],
   "source": [
    "s = small_df['Age'].value_counts()\n",
    "display(s)"
   ]
  },
  {
   "cell_type": "markdown",
   "metadata": {},
   "source": [
    "Как видно, мы просто сгруппировали футболистов по возрасту и посчитали количество футболистов внутри каждой возрастной группы. Разброс возрастов не слишком большой, поэтому воспринимается эта информация достаточно легко. Например, мы узнали, что больше всего футболистов в двух группах: 27 лет и 32 года.\n",
    "\n",
    "Другая ситуация складывается, когда мы попытаемся сгруппировать футболистов по их заработной плате:"
   ]
  },
  {
   "cell_type": "code",
   "execution_count": 20,
   "metadata": {},
   "outputs": [
    {
     "output_type": "display_data",
     "data": {
      "text/plain": "205000    3\n355000    2\n240000    2\n300000    1\n130000    1\n225000    1\n455000    1\n340000    1\n315000    1\n565000    1\n405000    1\n215000    1\n380000    1\n285000    1\n145000    1\n290000    1\n125000    1\n200000    1\n420000    1\n94000     1\n260000    1\nName: Wage, dtype: int64"
     },
     "metadata": {}
    }
   ],
   "source": [
    "s = small_df['Wage'].value_counts()\n",
    "display(s)"
   ]
  },
  {
   "cell_type": "markdown",
   "metadata": {},
   "source": [
    "Из-за того, что цифры зарплат повторяются не часто , трудно сделать какие-то выводы. Но всё будет более наглядно, если мы разобьем весь возможный диапазон зарплат на 4 равных промежутка и подсчитаем количество футболистов, попадающих в каждый из промежутков. Именно для этого нужен параметр bins:"
   ]
  },
  {
   "cell_type": "code",
   "execution_count": 23,
   "metadata": {},
   "outputs": [
    {
     "output_type": "display_data",
     "data": {
      "text/plain": "(211750.0, 329500.0]     9\n(93528.999, 211750.0]    8\n(329500.0, 447250.0]     6\n(447250.0, 565000.0]     2\nName: Wage, dtype: int64"
     },
     "metadata": {}
    }
   ],
   "source": [
    "s = small_df['Wage'].value_counts(bins=4)\n",
    "display(s)"
   ]
  },
  {
   "cell_type": "markdown",
   "metadata": {},
   "source": [
    "Теперь видно, что распределение неравномерное и только 2 футболиста из 25 получают сверхвысокую зарплату.\n",
    "\n",
    "Давайте посмотрим, что это за футболисты:"
   ]
  },
  {
   "cell_type": "code",
   "execution_count": 25,
   "metadata": {},
   "outputs": [
    {
     "output_type": "execute_result",
     "data": {
      "text/plain": "        Name  Age Nationality          Club      Value    Wage Position\n0   L. Messi   31   Argentina  FC Barcelona  110500000  565000       RF\n7  L. Suárez   31     Uruguay  FC Barcelona   80000000  455000       RS",
      "text/html": "<div>\n<style scoped>\n    .dataframe tbody tr th:only-of-type {\n        vertical-align: middle;\n    }\n\n    .dataframe tbody tr th {\n        vertical-align: top;\n    }\n\n    .dataframe thead th {\n        text-align: right;\n    }\n</style>\n<table border=\"1\" class=\"dataframe\">\n  <thead>\n    <tr style=\"text-align: right;\">\n      <th></th>\n      <th>Name</th>\n      <th>Age</th>\n      <th>Nationality</th>\n      <th>Club</th>\n      <th>Value</th>\n      <th>Wage</th>\n      <th>Position</th>\n    </tr>\n  </thead>\n  <tbody>\n    <tr>\n      <th>0</th>\n      <td>L. Messi</td>\n      <td>31</td>\n      <td>Argentina</td>\n      <td>FC Barcelona</td>\n      <td>110500000</td>\n      <td>565000</td>\n      <td>RF</td>\n    </tr>\n    <tr>\n      <th>7</th>\n      <td>L. Suárez</td>\n      <td>31</td>\n      <td>Uruguay</td>\n      <td>FC Barcelona</td>\n      <td>80000000</td>\n      <td>455000</td>\n      <td>RS</td>\n    </tr>\n  </tbody>\n</table>\n</div>"
     },
     "metadata": {},
     "execution_count": 25
    }
   ],
   "source": [
    "small_df.loc[(small_df['Wage'] > s.index[3].left) & (small_df['Wage'] <= s.index[3].right)]\n"
   ]
  },
  {
   "cell_type": "markdown",
   "metadata": {},
   "source": [
    "### Функции unique и nunique\n",
    "В одном из предыдущих примеров мы подсчитывали количество уникальных национальностей с помощью следующего кода:"
   ]
  },
  {
   "cell_type": "code",
   "execution_count": 26,
   "metadata": {},
   "outputs": [
    {
     "output_type": "stream",
     "name": "stdout",
     "text": "Index(['Spain', 'Uruguay', 'Germany', 'Argentina', 'Belgium', 'France',\n       'Italy', 'England', 'Slovenia', 'Brazil', 'Croatia', 'Portugal',\n       'Poland'],\n      dtype='object')\n13\n"
    }
   ],
   "source": [
    "s = small_df['Nationality'].value_counts()\n",
    "print(s.index)\n",
    "print(len(s.index))"
   ]
  },
  {
   "cell_type": "markdown",
   "metadata": {},
   "source": [
    "```s.index``` в данном случае выводит список уникальных значений, а ```len(s.index)``` подсчитывает количество этих значений. На самом деле, сделать это можно было проще, при помощи функции ```unique```:"
   ]
  },
  {
   "cell_type": "code",
   "execution_count": 27,
   "metadata": {},
   "outputs": [
    {
     "output_type": "execute_result",
     "data": {
      "text/plain": "array(['Argentina', 'Portugal', 'Brazil', 'Spain', 'Belgium', 'Croatia',\n       'Uruguay', 'Slovenia', 'Poland', 'Germany', 'France', 'England',\n       'Italy'], dtype=object)"
     },
     "metadata": {},
     "execution_count": 27
    }
   ],
   "source": [
    "small_df['Nationality'].unique()"
   ]
  },
  {
   "cell_type": "markdown",
   "metadata": {},
   "source": [
    "Функция ```unique``` возвращает список уникальных элементов из серии.\n",
    "\n",
    "Передав получившийся список в функцию ```len```, мы можем подсчитать количество уникальных значений в серии:"
   ]
  },
  {
   "cell_type": "code",
   "execution_count": 28,
   "metadata": {},
   "outputs": [
    {
     "output_type": "execute_result",
     "data": {
      "text/plain": "13"
     },
     "metadata": {},
     "execution_count": 28
    }
   ],
   "source": [
    "len(small_df['Nationality'].unique())"
   ]
  },
  {
   "cell_type": "markdown",
   "metadata": {},
   "source": [
    "Но если наша конечная цель - получить количество уникальных значений в серии, то мы можем поступить ещё проще, вызвав функцию ```nunique```:"
   ]
  },
  {
   "cell_type": "code",
   "execution_count": 29,
   "metadata": {},
   "outputs": [
    {
     "output_type": "execute_result",
     "data": {
      "text/plain": "13"
     },
     "metadata": {},
     "execution_count": 29
    }
   ],
   "source": [
    "small_df['Nationality'].nunique()"
   ]
  }
 ],
 "metadata": {
  "language_info": {
   "codemirror_mode": {
    "name": "ipython",
    "version": 3
   },
   "file_extension": ".py",
   "mimetype": "text/x-python",
   "name": "python",
   "nbconvert_exporter": "python",
   "pygments_lexer": "ipython3",
   "version": "3.7.6-final"
  },
  "orig_nbformat": 2,
  "kernelspec": {
   "name": "python37664bitbasecondaf22dd80586b34798bfa5fcd7baf3b9a6",
   "display_name": "Python 3.7.6 64-bit ('base': conda)"
  }
 },
 "nbformat": 4,
 "nbformat_minor": 2
}